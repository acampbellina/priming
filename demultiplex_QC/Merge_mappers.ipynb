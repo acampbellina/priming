{
 "cells": [
  {
   "cell_type": "code",
   "execution_count": 1,
   "metadata": {
    "collapsed": false
   },
   "outputs": [],
   "source": [
    "import pandas as pd"
   ]
  },
  {
   "cell_type": "code",
   "execution_count": 2,
   "metadata": {
    "collapsed": false
   },
   "outputs": [],
   "source": [
    "%load_ext rpy2.ipython"
   ]
  },
  {
   "cell_type": "code",
   "execution_count": 3,
   "metadata": {
    "collapsed": false
   },
   "outputs": [
    {
     "data": {
      "text/plain": [
       "\n",
       "Attaching package: ‘dplyr’\n",
       "\n",
       "The following objects are masked from ‘package:plyr’:\n",
       "\n",
       "    arrange, count, desc, failwith, id, mutate, rename, summarise,\n",
       "    summarize\n",
       "\n",
       "The following object is masked from ‘package:stats’:\n",
       "\n",
       "    filter\n",
       "\n",
       "The following objects are masked from ‘package:base’:\n",
       "\n",
       "    intersect, setdiff, setequal, union\n",
       "\n",
       "data.table 1.9.4  For help type: ?data.table\n",
       "*** NB: by=.EACHI is now explicit. See README to restore previous behaviour.\n",
       "\n",
       "Attaching package: ‘data.table’\n",
       "\n",
       "The following objects are masked from ‘package:dplyr’:\n",
       "\n",
       "    between, last\n",
       "\n"
      ]
     },
     "metadata": {},
     "output_type": "display_data"
    }
   ],
   "source": [
    "%%R\n",
    "library(phyloseq)\n",
    "library(plyr); library(dplyr)\n",
    "library(data.table)"
   ]
  },
  {
   "cell_type": "code",
   "execution_count": 4,
   "metadata": {
    "collapsed": false
   },
   "outputs": [],
   "source": [
    "mappers = !find /var/seq_data/priming_exp/RawData/ -name seq?_mapper.csv -print"
   ]
  },
  {
   "cell_type": "code",
   "execution_count": 5,
   "metadata": {
    "collapsed": false
   },
   "outputs": [
    {
     "data": {
      "text/plain": [
       "['/var/seq_data/priming_exp/RawData/Seq5/seq5_mapper.csv',\n",
       " '/var/seq_data/priming_exp/RawData/Seq2/seq2_mapper.csv',\n",
       " '/var/seq_data/priming_exp/RawData/Seq1/seq1_mapper.csv',\n",
       " '/var/seq_data/priming_exp/RawData/Seq3/seq3_mapper.csv',\n",
       " '/var/seq_data/priming_exp/RawData/Seq4/seq4_mapper.csv']"
      ]
     },
     "execution_count": 5,
     "metadata": {},
     "output_type": "execute_result"
    }
   ],
   "source": [
    "mappers"
   ]
  },
  {
   "cell_type": "code",
   "execution_count": 6,
   "metadata": {
    "collapsed": false
   },
   "outputs": [],
   "source": [
    "columns_to_keep = [\"Sample\",\"FractionNum\",\"Bulk\",\"Control\",\"CC\",\"100\",\"700\",\"H2O\",\"Day\",\"Density\"]"
   ]
  },
  {
   "cell_type": "code",
   "execution_count": 7,
   "metadata": {
    "collapsed": false
   },
   "outputs": [],
   "source": [
    "df_all = None\n",
    "for mapper in mappers:\n",
    "    df = pd.read_csv(mapper)\n",
    "    df_to_merge = df[columns_to_keep]\n",
    "    if df_all is None:\n",
    "        df_all = df_to_merge\n",
    "    else:\n",
    "        df_all = pd.concat([df_all, df_to_merge], )"
   ]
  },
  {
   "cell_type": "code",
   "execution_count": 8,
   "metadata": {
    "collapsed": false
   },
   "outputs": [],
   "source": [
    "df_all.drop_duplicates(inplace = True)"
   ]
  },
  {
   "cell_type": "code",
   "execution_count": 9,
   "metadata": {
    "collapsed": false
   },
   "outputs": [
    {
     "data": {
      "text/plain": [
       "(468, 10)"
      ]
     },
     "execution_count": 9,
     "metadata": {},
     "output_type": "execute_result"
    }
   ],
   "source": [
    "df_all.shape"
   ]
  },
  {
   "cell_type": "code",
   "execution_count": 10,
   "metadata": {
    "collapsed": false
   },
   "outputs": [],
   "source": [
    "df_all[\"Density\"] = df_all[\"Density\"].map(lambda x: \"%.4f\"%x)"
   ]
  },
  {
   "cell_type": "code",
   "execution_count": 11,
   "metadata": {
    "collapsed": false
   },
   "outputs": [
    {
     "data": {
      "text/html": [
       "<div style=\"max-height:1000px;max-width:1500px;overflow:auto;\">\n",
       "<table border=\"1\" class=\"dataframe\">\n",
       "  <thead>\n",
       "    <tr style=\"text-align: right;\">\n",
       "      <th></th>\n",
       "      <th>Sample</th>\n",
       "      <th>FractionNum</th>\n",
       "      <th>Bulk</th>\n",
       "      <th>Control</th>\n",
       "      <th>CC</th>\n",
       "      <th>100</th>\n",
       "      <th>700</th>\n",
       "      <th>H2O</th>\n",
       "      <th>Day</th>\n",
       "      <th>Density</th>\n",
       "    </tr>\n",
       "  </thead>\n",
       "  <tbody>\n",
       "    <tr>\n",
       "      <th>0</th>\n",
       "      <td> 12C.000.28.03.07</td>\n",
       "      <td>  7</td>\n",
       "      <td> 0</td>\n",
       "      <td> 1</td>\n",
       "      <td> 1</td>\n",
       "      <td> 0</td>\n",
       "      <td> 0</td>\n",
       "      <td> 0</td>\n",
       "      <td> 3</td>\n",
       "      <td> 1.7646</td>\n",
       "    </tr>\n",
       "    <tr>\n",
       "      <th>1</th>\n",
       "      <td> 12C.000.28.03.08</td>\n",
       "      <td>  8</td>\n",
       "      <td> 0</td>\n",
       "      <td> 1</td>\n",
       "      <td> 1</td>\n",
       "      <td> 0</td>\n",
       "      <td> 0</td>\n",
       "      <td> 0</td>\n",
       "      <td> 3</td>\n",
       "      <td> 1.7614</td>\n",
       "    </tr>\n",
       "    <tr>\n",
       "      <th>2</th>\n",
       "      <td> 12C.000.28.03.09</td>\n",
       "      <td>  9</td>\n",
       "      <td> 0</td>\n",
       "      <td> 1</td>\n",
       "      <td> 1</td>\n",
       "      <td> 0</td>\n",
       "      <td> 0</td>\n",
       "      <td> 0</td>\n",
       "      <td> 3</td>\n",
       "      <td> 1.7537</td>\n",
       "    </tr>\n",
       "    <tr>\n",
       "      <th>3</th>\n",
       "      <td> 12C.000.28.03.10</td>\n",
       "      <td> 10</td>\n",
       "      <td> 0</td>\n",
       "      <td> 1</td>\n",
       "      <td> 1</td>\n",
       "      <td> 0</td>\n",
       "      <td> 0</td>\n",
       "      <td> 0</td>\n",
       "      <td> 3</td>\n",
       "      <td> 1.7483</td>\n",
       "    </tr>\n",
       "    <tr>\n",
       "      <th>4</th>\n",
       "      <td> 12C.000.28.03.11</td>\n",
       "      <td> 11</td>\n",
       "      <td> 0</td>\n",
       "      <td> 1</td>\n",
       "      <td> 1</td>\n",
       "      <td> 0</td>\n",
       "      <td> 0</td>\n",
       "      <td> 0</td>\n",
       "      <td> 3</td>\n",
       "      <td> 1.7417</td>\n",
       "    </tr>\n",
       "  </tbody>\n",
       "</table>\n",
       "</div>"
      ],
      "text/plain": [
       "             Sample  FractionNum  Bulk  Control  CC  100  700  H2O  Day  \\\n",
       "0  12C.000.28.03.07            7     0        1   1    0    0    0    3   \n",
       "1  12C.000.28.03.08            8     0        1   1    0    0    0    3   \n",
       "2  12C.000.28.03.09            9     0        1   1    0    0    0    3   \n",
       "3  12C.000.28.03.10           10     0        1   1    0    0    0    3   \n",
       "4  12C.000.28.03.11           11     0        1   1    0    0    0    3   \n",
       "\n",
       "  Density  \n",
       "0  1.7646  \n",
       "1  1.7614  \n",
       "2  1.7537  \n",
       "3  1.7483  \n",
       "4  1.7417  "
      ]
     },
     "execution_count": 11,
     "metadata": {},
     "output_type": "execute_result"
    }
   ],
   "source": [
    "df_all.head()"
   ]
  },
  {
   "cell_type": "code",
   "execution_count": 12,
   "metadata": {
    "collapsed": false
   },
   "outputs": [],
   "source": [
    "label_rep_flask_numbers = [\"06\",\"07\"]\n",
    "control_rep_flask_number= \"03\""
   ]
  },
  {
   "cell_type": "code",
   "execution_count": 13,
   "metadata": {
    "collapsed": false
   },
   "outputs": [],
   "source": [
    "def parseID(ID):\n",
    "    return ID.split(\".\")[3]\n",
    "\n",
    "def replicate(ID):\n",
    "    flaskID = ID.split(\".\")[3]\n",
    "    if not ID.startswith(\"13C.100.28\") and not ID.startswith(\"12C.100.28\"):\n",
    "        return \"\"\n",
    "    if ID.endswith(\"NA\"):\n",
    "        return \"\"\n",
    "    if flaskID in label_rep_flask_numbers:\n",
    "        return \"label_rep_\" + flaskID\n",
    "    elif flaskID == control_rep_flask_number:\n",
    "        return \"control_rep\"\n",
    "    else:\n",
    "        return \"\""
   ]
  },
  {
   "cell_type": "code",
   "execution_count": 14,
   "metadata": {
    "collapsed": false
   },
   "outputs": [],
   "source": [
    "df_all[\"rep\"] = df_all[\"Sample\"].map(replicate)"
   ]
  },
  {
   "cell_type": "code",
   "execution_count": 15,
   "metadata": {
    "collapsed": false
   },
   "outputs": [],
   "source": [
    "df_all[\"Treatment\"] = df_all[\"Control\"].map(lambda x: \"control\" if x else \"label\")"
   ]
  },
  {
   "cell_type": "code",
   "execution_count": 16,
   "metadata": {
    "collapsed": false
   },
   "outputs": [],
   "source": [
    "df_all.to_csv(\"/var/seq_data/priming_exp/data/sample_data_all.csv\", index=False)"
   ]
  },
  {
   "cell_type": "code",
   "execution_count": 17,
   "metadata": {
    "collapsed": false
   },
   "outputs": [
    {
     "name": "stdout",
     "output_type": "stream",
     "text": [
      "Sample,FractionNum,Bulk,Control,CC,100,700,H2O,Day,Density,rep,Treatment\r\n",
      "12C.000.28.03.07,7.0,0.0,1.0,1.0,0.0,0.0,0.0,3.0,1.7646,,control\r\n",
      "12C.000.28.03.08,8.0,0.0,1.0,1.0,0.0,0.0,0.0,3.0,1.7614,,control\r\n",
      "12C.000.28.03.09,9.0,0.0,1.0,1.0,0.0,0.0,0.0,3.0,1.7537,,control\r\n",
      "12C.000.28.03.10,10.0,0.0,1.0,1.0,0.0,0.0,0.0,3.0,1.7483,,control\r\n",
      "12C.000.28.03.11,11.0,0.0,1.0,1.0,0.0,0.0,0.0,3.0,1.7417,,control\r\n",
      "12C.000.28.03.12,12.0,0.0,1.0,1.0,0.0,0.0,0.0,3.0,1.7373,,control\r\n",
      "12C.000.28.03.13,13.0,0.0,1.0,1.0,0.0,0.0,0.0,3.0,1.7330,,control\r\n",
      "12C.000.28.03.14,14.0,0.0,1.0,1.0,0.0,0.0,0.0,3.0,1.7275,,control\r\n",
      "12C.000.28.03.15,15.0,0.0,1.0,1.0,0.0,0.0,0.0,3.0,1.7220,,control\r\n"
     ]
    }
   ],
   "source": [
    "!head /var/seq_data/priming_exp/data/sample_data_all.csv"
   ]
  },
  {
   "cell_type": "markdown",
   "metadata": {},
   "source": [
    "### Filter out mock community "
   ]
  },
  {
   "cell_type": "code",
   "execution_count": 18,
   "metadata": {
    "collapsed": false
   },
   "outputs": [],
   "source": [
    "%%R\n",
    "df_all = read.csv(\"/var/seq_data/priming_exp/data/sample_data_all.csv\")"
   ]
  },
  {
   "cell_type": "code",
   "execution_count": 19,
   "metadata": {
    "collapsed": false
   },
   "outputs": [],
   "source": [
    "%%R\n",
    "df_all_nomock = tbl_df(df_all) %.% filter(Sample != \"0MC.000.00.00.00\")"
   ]
  },
  {
   "cell_type": "code",
   "execution_count": 20,
   "metadata": {
    "collapsed": false
   },
   "outputs": [
    {
     "data": {
      "text/plain": [
       "Source: local data frame [467 x 12]\n",
       "\n",
       "             Sample FractionNum Bulk Control CC X100 X700 H2O Day Density rep\n",
       "1  12C.000.28.03.07           7    0       1  1    0    0   0   3  1.7646    \n",
       "2  12C.000.28.03.08           8    0       1  1    0    0   0   3  1.7614    \n",
       "3  12C.000.28.03.09           9    0       1  1    0    0   0   3  1.7537    \n",
       "4  12C.000.28.03.10          10    0       1  1    0    0   0   3  1.7483    \n",
       "5  12C.000.28.03.11          11    0       1  1    0    0   0   3  1.7417    \n",
       "6  12C.000.28.03.12          12    0       1  1    0    0   0   3  1.7373    \n",
       "7  12C.000.28.03.13          13    0       1  1    0    0   0   3  1.7330    \n",
       "8  12C.000.28.03.14          14    0       1  1    0    0   0   3  1.7275    \n",
       "9  12C.000.28.03.15          15    0       1  1    0    0   0   3  1.7220    \n",
       "10 12C.000.28.03.16          16    0       1  1    0    0   0   3  1.7188    \n",
       "..              ...         ...  ...     ... ..  ...  ... ... ...     ... ...\n",
       "Variables not shown: Treatment (fctr)\n"
      ]
     },
     "metadata": {},
     "output_type": "display_data"
    }
   ],
   "source": [
    "%%R\n",
    "print(df_all_nomock)"
   ]
  },
  {
   "cell_type": "code",
   "execution_count": 21,
   "metadata": {
    "collapsed": false
   },
   "outputs": [],
   "source": [
    "%%R\n",
    "write.table(df_all_nomock, \n",
    "          file = \"/var/seq_data/priming_exp/data/allsample_metadata_nomock.csv\", \n",
    "          sep = \",\",\n",
    "          row.names = FALSE)"
   ]
  },
  {
   "cell_type": "markdown",
   "metadata": {},
   "source": [
    "#### Note: This command deleted only duplicates of the mock community, but there is still one row of mock community"
   ]
  },
  {
   "cell_type": "markdown",
   "metadata": {},
   "source": [
    "#### The phyloseq package does not like this mapper in .csv form, so tranforming it to .txt and removing \"phantom\" column that R adds. "
   ]
  },
  {
   "cell_type": "code",
   "execution_count": 22,
   "metadata": {
    "collapsed": false
   },
   "outputs": [],
   "source": [
    "%%R \n",
    "sampledata = read.csv(\"/var/seq_data/priming_exp/data/allsample_metadata_nomock.csv\")\n",
    "sampledata$X = NULL\n",
    "write.table(sampledata, \"/var/seq_data/priming_exp/data/allsample_metadata_nomock.txt\", sep=\"\\t\")\n",
    "#print(sampledata)"
   ]
  },
  {
   "cell_type": "code",
   "execution_count": 23,
   "metadata": {
    "collapsed": false
   },
   "outputs": [
    {
     "name": "stdout",
     "output_type": "stream",
     "text": [
      "\"Sample\",\"FractionNum\",\"Bulk\",\"Control\",\"CC\",\"X100\",\"X700\",\"H2O\",\"Day\",\"Density\",\"rep\",\"Treatment\"\r\n",
      "\"12C.000.28.03.07\",7,0,1,1,0,0,0,3,1.7646,\"\",\"control\"\r\n",
      "\"12C.000.28.03.08\",8,0,1,1,0,0,0,3,1.7614,\"\",\"control\"\r\n",
      "\"12C.000.28.03.09\",9,0,1,1,0,0,0,3,1.7537,\"\",\"control\"\r\n",
      "\"12C.000.28.03.10\",10,0,1,1,0,0,0,3,1.7483,\"\",\"control\"\r\n",
      "\"12C.000.28.03.11\",11,0,1,1,0,0,0,3,1.7417,\"\",\"control\"\r\n",
      "\"12C.000.28.03.12\",12,0,1,1,0,0,0,3,1.7373,\"\",\"control\"\r\n",
      "\"12C.000.28.03.13\",13,0,1,1,0,0,0,3,1.733,\"\",\"control\"\r\n",
      "\"12C.000.28.03.14\",14,0,1,1,0,0,0,3,1.7275,\"\",\"control\"\r\n",
      "\"12C.000.28.03.15\",15,0,1,1,0,0,0,3,1.722,\"\",\"control\"\r\n"
     ]
    }
   ],
   "source": [
    "!head -n 10 /var/seq_data/priming_exp/data/allsample_metadata_nomock.csv"
   ]
  },
  {
   "cell_type": "code",
   "execution_count": null,
   "metadata": {
    "collapsed": true
   },
   "outputs": [],
   "source": []
  }
 ],
 "metadata": {
  "kernelspec": {
   "display_name": "Python 2",
   "language": "python",
   "name": "python2"
  },
  "language_info": {
   "codemirror_mode": {
    "name": "ipython",
    "version": 2
   },
   "file_extension": ".py",
   "mimetype": "text/x-python",
   "name": "python",
   "nbconvert_exporter": "python",
   "pygments_lexer": "ipython2",
   "version": "2.7.9"
  }
 },
 "nbformat": 4,
 "nbformat_minor": 0
}
