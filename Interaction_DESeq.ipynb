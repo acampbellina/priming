{
 "cells": [
  {
   "cell_type": "code",
   "execution_count": 1,
   "metadata": {
    "collapsed": true
   },
   "outputs": [],
   "source": [
    "%load_ext rpy2.ipython"
   ]
  },
  {
   "cell_type": "code",
   "execution_count": 2,
   "metadata": {
    "collapsed": false
   },
   "outputs": [
    {
     "data": {
      "text/plain": [
       "Loading required package: S4Vectors\n",
       "Loading required package: stats4\n",
       "Loading required package: BiocGenerics\n",
       "Loading required package: parallel\n",
       "\n",
       "Attaching package: ‘BiocGenerics’\n",
       "\n",
       "The following objects are masked from ‘package:parallel’:\n",
       "\n",
       "    clusterApply, clusterApplyLB, clusterCall, clusterEvalQ,\n",
       "    clusterExport, clusterMap, parApply, parCapply, parLapply,\n",
       "    parLapplyLB, parRapply, parSapply, parSapplyLB\n",
       "\n",
       "The following object is masked from ‘package:stats’:\n",
       "\n",
       "    xtabs\n",
       "\n",
       "The following objects are masked from ‘package:base’:\n",
       "\n",
       "    anyDuplicated, append, as.data.frame, as.vector, cbind, colnames,\n",
       "    do.call, duplicated, eval, evalq, Filter, Find, get, intersect,\n",
       "    is.unsorted, lapply, Map, mapply, match, mget, order, paste, pmax,\n",
       "    pmax.int, pmin, pmin.int, Position, rank, rbind, Reduce, rep.int,\n",
       "    rownames, sapply, setdiff, sort, table, tapply, union, unique,\n",
       "    unlist, unsplit\n",
       "\n",
       "Loading required package: IRanges\n",
       "\n",
       "Attaching package: ‘IRanges’\n",
       "\n",
       "The following object is masked from ‘package:phyloseq’:\n",
       "\n",
       "    distance\n",
       "\n",
       "Loading required package: GenomicRanges\n",
       "Loading required package: GenomeInfoDb\n",
       "Loading required package: Rcpp\n",
       "Loading required package: RcppArmadillo\n",
       "\n",
       "Attaching package: ‘dplyr’\n",
       "\n",
       "The following objects are masked from ‘package:GenomicRanges’:\n",
       "\n",
       "    intersect, setdiff, union\n",
       "\n",
       "The following object is masked from ‘package:GenomeInfoDb’:\n",
       "\n",
       "    intersect\n",
       "\n",
       "The following objects are masked from ‘package:IRanges’:\n",
       "\n",
       "    collapse, desc, intersect, setdiff, slice, union\n",
       "\n",
       "The following object is masked from ‘package:S4Vectors’:\n",
       "\n",
       "    rename\n",
       "\n",
       "The following objects are masked from ‘package:BiocGenerics’:\n",
       "\n",
       "    combine, intersect, setdiff, union\n",
       "\n",
       "The following object is masked from ‘package:stats’:\n",
       "\n",
       "    filter\n",
       "\n",
       "The following objects are masked from ‘package:base’:\n",
       "\n",
       "    intersect, setdiff, setequal, union\n",
       "\n"
      ]
     },
     "metadata": {},
     "output_type": "display_data"
    }
   ],
   "source": [
    "%%R\n",
    "library(phyloseq)\n",
    "library(DESeq2)\n",
    "library(dplyr)\n",
    "library(magrittr)"
   ]
  },
  {
   "cell_type": "code",
   "execution_count": 4,
   "metadata": {
    "collapsed": false
   },
   "outputs": [
    {
     "name": "stdout",
     "output_type": "stream",
     "text": [
      "Error in prune_samples((physeq.md$Density > density.min) & (physeq.md$Density <  : \n",
      "  logical argument to samples is wrong length. Should equal nsamples(x)\n"
     ]
    }
   ],
   "source": [
    "%%R\n",
    "\n",
    "sample.data = import_qiime_sample_data(\"/var/seq_data/priming_exp/data/allsample_metadata_nomock.txt\")\n",
    "ps = import_biom(\"/var/seq_data/priming_exp/data/otu_table_wtax.biom\")\n",
    "#sample_data(ps) = sample_data(sd)\n",
    "#md = sample_data(ps)\n",
    "\n",
    "physeq = merge_phyloseq(ps,sample.data)\n",
    "physeq.md = sample_data(physeq)\n",
    "\n",
    "density.min = 1.7125\n",
    "density.max = 1.755\n",
    "\n",
    "ps.int = prune_samples((physeq.md$Density > density.min)&\n",
    "              (physeq.md$Density < density.max)&\n",
    "              (physeq.md$Treatment %in% c(\"12C100\",\"13C100\",\"12C700\",\"13C700\", \"13C000\", \"12C000\"))&\n",
    "              (physeq.md$Bulk == 0), ps)\n",
    "\n",
    "ps.int"
   ]
  },
  {
   "cell_type": "code",
   "execution_count": null,
   "metadata": {
    "collapsed": true
   },
   "outputs": [],
   "source": [
    "%%R\n",
    "md.int = sample_data(ps.int)\n",
    "tmp = matrix(unlist(strsplit(md.int$X.SampleID, \"[.]\")), ncol=4, byrow = TRUE)\n",
    "name.df = data.frame(tmp)\n",
    "colnames(name.df) = c(\"contVexp\", \"SSVPS\", \"Day\", \"Fraction\")\n",
    "md.int$contVexp = name.df$contVexp\n",
    "md.int$SSVPS = name.df$SSVPS\n",
    "sample_data(ps.int) = md.int"
   ]
  },
  {
   "cell_type": "code",
   "execution_count": null,
   "metadata": {
    "collapsed": true
   },
   "outputs": [],
   "source": []
  }
 ],
 "metadata": {
  "kernelspec": {
   "display_name": "Python 2",
   "language": "python",
   "name": "python2"
  },
  "language_info": {
   "codemirror_mode": {
    "name": "ipython",
    "version": 2
   },
   "file_extension": ".py",
   "mimetype": "text/x-python",
   "name": "python",
   "nbconvert_exporter": "python",
   "pygments_lexer": "ipython2",
   "version": "2.7.9"
  }
 },
 "nbformat": 4,
 "nbformat_minor": 0
}
