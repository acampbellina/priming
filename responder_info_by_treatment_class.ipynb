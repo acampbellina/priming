{
 "cells": [
  {
   "cell_type": "code",
   "execution_count": 1,
   "metadata": {
    "collapsed": false
   },
   "outputs": [],
   "source": [
    "from IPython.display import FileLink"
   ]
  },
  {
   "cell_type": "code",
   "execution_count": 2,
   "metadata": {
    "collapsed": false
   },
   "outputs": [],
   "source": [
    "%load_ext rpy2.ipython"
   ]
  },
  {
   "cell_type": "code",
   "execution_count": 3,
   "metadata": {
    "collapsed": false
   },
   "outputs": [
    {
     "data": {
      "text/plain": [
       "Loading required package: S4Vectors\n",
       "Loading required package: stats4\n",
       "Loading required package: BiocGenerics\n",
       "Loading required package: parallel\n",
       "\n",
       "Attaching package: ‘BiocGenerics’\n",
       "\n",
       "The following objects are masked from ‘package:parallel’:\n",
       "\n",
       "    clusterApply, clusterApplyLB, clusterCall, clusterEvalQ,\n",
       "    clusterExport, clusterMap, parApply, parCapply, parLapply,\n",
       "    parLapplyLB, parRapply, parSapply, parSapplyLB\n",
       "\n",
       "The following object is masked from ‘package:stats’:\n",
       "\n",
       "    xtabs\n",
       "\n",
       "The following objects are masked from ‘package:base’:\n",
       "\n",
       "    anyDuplicated, append, as.data.frame, as.vector, cbind, colnames,\n",
       "    do.call, duplicated, eval, evalq, Filter, Find, get, intersect,\n",
       "    is.unsorted, lapply, Map, mapply, match, mget, order, paste, pmax,\n",
       "    pmax.int, pmin, pmin.int, Position, rank, rbind, Reduce, rep.int,\n",
       "    rownames, sapply, setdiff, sort, table, tapply, union, unique,\n",
       "    unlist, unsplit\n",
       "\n",
       "Loading required package: IRanges\n",
       "Loading required package: GenomicRanges\n",
       "Loading required package: GenomeInfoDb\n",
       "Loading required package: Rcpp\n",
       "Loading required package: RcppArmadillo\n",
       "\n",
       "Attaching package: ‘phyloseq’\n",
       "\n",
       "The following object is masked from ‘package:GenomicRanges’:\n",
       "\n",
       "    distance\n",
       "\n",
       "The following object is masked from ‘package:IRanges’:\n",
       "\n",
       "    distance\n",
       "\n",
       "\n",
       "Attaching package: ‘plyr’\n",
       "\n",
       "The following object is masked from ‘package:IRanges’:\n",
       "\n",
       "    desc\n",
       "\n",
       "The following object is masked from ‘package:S4Vectors’:\n",
       "\n",
       "    rename\n",
       "\n",
       "\n",
       "Attaching package: ‘dplyr’\n",
       "\n",
       "The following objects are masked from ‘package:plyr’:\n",
       "\n",
       "    arrange, count, desc, failwith, id, mutate, rename, summarise,\n",
       "    summarize\n",
       "\n",
       "The following objects are masked from ‘package:GenomicRanges’:\n",
       "\n",
       "    intersect, setdiff, union\n",
       "\n",
       "The following object is masked from ‘package:GenomeInfoDb’:\n",
       "\n",
       "    intersect\n",
       "\n",
       "The following objects are masked from ‘package:IRanges’:\n",
       "\n",
       "    collapse, desc, intersect, setdiff, slice, union\n",
       "\n",
       "The following object is masked from ‘package:S4Vectors’:\n",
       "\n",
       "    rename\n",
       "\n",
       "The following objects are masked from ‘package:BiocGenerics’:\n",
       "\n",
       "    combine, intersect, setdiff, union\n",
       "\n",
       "The following object is masked from ‘package:stats’:\n",
       "\n",
       "    filter\n",
       "\n",
       "The following objects are masked from ‘package:base’:\n",
       "\n",
       "    intersect, setdiff, setequal, union\n",
       "\n",
       "Loading required package: foreach\n",
       "foreach: simple, scalable parallel programming from Revolution Analytics\n",
       "Use Revolution R for scalability, fault tolerance and more.\n",
       "http://www.revolutionanalytics.com\n",
       "Loading required package: iterators\n",
       "\n",
       "Attaching package: ‘reshape’\n",
       "\n",
       "The following object is masked from ‘package:dplyr’:\n",
       "\n",
       "    rename\n",
       "\n",
       "The following objects are masked from ‘package:plyr’:\n",
       "\n",
       "    rename, round_any\n",
       "\n",
       "The following object is masked from ‘package:IRanges’:\n",
       "\n",
       "    expand\n",
       "\n",
       "The following object is masked from ‘package:S4Vectors’:\n",
       "\n",
       "    rename\n",
       "\n",
       "Loading required package: grid\n",
       "data.table 1.9.4  For help type: ?data.table\n",
       "*** NB: by=.EACHI is now explicit. See README to restore previous behaviour.\n",
       "\n",
       "Attaching package: ‘data.table’\n",
       "\n",
       "The following objects are masked from ‘package:dplyr’:\n",
       "\n",
       "    between, last\n",
       "\n",
       "\n",
       "Attaching package: ‘compare’\n",
       "\n",
       "The following object is masked from ‘package:GenomicRanges’:\n",
       "\n",
       "    compare\n",
       "\n",
       "The following object is masked from ‘package:IRanges’:\n",
       "\n",
       "    compare\n",
       "\n",
       "The following object is masked from ‘package:S4Vectors’:\n",
       "\n",
       "    compare\n",
       "\n",
       "The following object is masked from ‘package:base’:\n",
       "\n",
       "    isTRUE\n",
       "\n",
       "Loading required package: mvtnorm\n",
       "Loading required package: VGAM\n",
       "Loading required package: splines\n",
       "\n",
       "Attaching package: ‘VGAM’\n",
       "\n",
       "The following object is masked from ‘package:DESeq2’:\n",
       "\n",
       "    rlog\n",
       "\n"
      ]
     },
     "metadata": {},
     "output_type": "display_data"
    }
   ],
   "source": [
    "%%R\n",
    "library(DESeq2)\n",
    "library(phyloseq)\n",
    "library(plyr); library(dplyr)\n",
    "library(ggplot2)\n",
    "library(doParallel)\n",
    "library(foreach)\n",
    "library(reshape)\n",
    "library(RColorBrewer)\n",
    "library(gridExtra)\n",
    "library(stats)\n",
    "library(data.table)\n",
    "library(compare, lib.loc=\"/home/ashley/R/x86_64-pc-linux-gnu-library/3.1/\")\n",
    "library(lawstat, lib.loc=\"/home/ashley/R/x86_64-pc-linux-gnu-library/3.1/\")"
   ]
  },
  {
   "cell_type": "markdown",
   "metadata": {},
   "source": [
    "###This is the file from the [Sparsity Notebook](./Sparsity_make_l2fc_table.ipynb)."
   ]
  },
  {
   "cell_type": "code",
   "execution_count": 4,
   "metadata": {
    "collapsed": false
   },
   "outputs": [
    {
     "data": {
      "text/plain": [
       "  sparsity_threshold Day Treatment       OTU log2FoldChange         p    Rank1\n",
       "1               0.25  14    13C000  OTU.4204    -0.20553170 1.0000000 Bacteria\n",
       "2               0.25  14    13C000   OTU.467    -0.33054855 1.0000000 Bacteria\n",
       "3               0.25  14    13C000   OTU.905     0.01698885 0.9827594 Bacteria\n",
       "4               0.25  14    13C000  OTU.7253     0.02799601 0.9772968 Bacteria\n",
       "5               0.25  14    13C000    OTU.67    -0.60115954 1.0000000 Bacteria\n",
       "6               0.25  14    13C000 OTU.10580     0.36193427 0.7248674 Bacteria\n",
       "          Rank2 Rank3                Rank4 Rank5 Rank6 Rank7 Rank8 padj\n",
       "1 Acidobacteria DA023                 <NA>  <NA>  <NA>  <NA>  <NA>    1\n",
       "2 Acidobacteria DA023 uncultured_bacterium  <NA>  <NA>  <NA>  <NA>    1\n",
       "3 Acidobacteria DA023 uncultured_bacterium  <NA>  <NA>  <NA>  <NA>    1\n",
       "4 Acidobacteria DA023 uncultured_bacterium  <NA>  <NA>  <NA>  <NA>    1\n",
       "5 Acidobacteria DA023 uncultured_bacterium  <NA>  <NA>  <NA>  <NA>    1\n",
       "6 Acidobacteria DA023                 <NA>  <NA>  <NA>  <NA>  <NA>    1\n"
      ]
     },
     "metadata": {},
     "output_type": "display_data"
    }
   ],
   "source": [
    "%%R\n",
    "df_all = read.csv(\"/var/seq_data/priming_exp/data/l2fc_table.csv\")\n",
    "head(df_all)"
   ]
  },
  {
   "cell_type": "code",
   "execution_count": 5,
   "metadata": {
    "collapsed": false
   },
   "outputs": [
    {
     "data": {
      "text/plain": [
       "[1] 28471\n"
      ]
     },
     "metadata": {},
     "output_type": "display_data"
    }
   ],
   "source": [
    "%%R\n",
    "nrow (df_all)"
   ]
  },
  {
   "cell_type": "markdown",
   "metadata": {},
   "source": [
    "### Treatment: CC"
   ]
  },
  {
   "cell_type": "code",
   "execution_count": 6,
   "metadata": {
    "collapsed": false
   },
   "outputs": [
    {
     "data": {
      "text/plain": [
       "    sparsity_threshold Day Treatment       OTU log2FoldChange            p\n",
       "134               0.25  14    13C000  OTU.7337       2.477516 0.0018908765\n",
       "251               0.25  14    13C000   OTU.950       3.497786 0.0021470637\n",
       "252               0.25  14    13C000 OTU.11380       5.169283 0.0002911960\n",
       "263               0.25  14    13C000  OTU.5228       2.654885 0.0002285059\n",
       "269               0.25  14    13C000   OTU.903       3.807659 0.0015749699\n",
       "270               0.25  14    13C000   OTU.752       4.813177 0.0002952637\n",
       "       Rank1           Rank2            Rank3              Rank4\n",
       "134 Bacteria   Acidobacteria       Holophagae             iii1-8\n",
       "251 Bacteria Verrucomicrobia Verrucomicrobiae Verrucomicrobiales\n",
       "252 Bacteria Verrucomicrobia Verrucomicrobiae Verrucomicrobiales\n",
       "263 Bacteria Verrucomicrobia Verrucomicrobiae Verrucomicrobiales\n",
       "269 Bacteria Verrucomicrobia Verrucomicrobiae Verrucomicrobiales\n",
       "270 Bacteria Verrucomicrobia   Spartobacteria Chthoniobacterales\n",
       "                   Rank5           Rank6                Rank7 Rank8        padj\n",
       "134 uncultured_bacterium            <NA>                 <NA>  <NA> 0.046611977\n",
       "251  Verrucomicrobiaceae Prosthecobacter                 <NA>  <NA> 0.051032476\n",
       "252  Verrucomicrobiaceae Prosthecobacter                 <NA>  <NA> 0.011068783\n",
       "263  Verrucomicrobiaceae      uncultured uncultured_bacterium  <NA> 0.009030517\n",
       "269  Verrucomicrobiaceae      Haloferula                 <NA>  <NA> 0.040930855\n",
       "270                 <NA>            <NA>                 <NA>  <NA> 0.011180728\n"
      ]
     },
     "metadata": {},
     "output_type": "display_data"
    }
   ],
   "source": [
    "%%R\n",
    "FDR = 0.10\n",
    "df_CC_resp = subset(df_all, (Treatment == \"13C000\")&(padj <= FDR))\n",
    "head(df_CC_resp)"
   ]
  },
  {
   "cell_type": "code",
   "execution_count": 7,
   "metadata": {
    "collapsed": false
   },
   "outputs": [
    {
     "data": {
      "text/plain": [
       "Source: local data frame [83 x 5]\n",
       "Groups: Day, Rank2, Rank3\n",
       "\n",
       "   Day           Rank2                          Rank3 Treatment Counts\n",
       "1   14   Acidobacteria Candidatus_Chloracidobacterium    13C000      1\n",
       "2   14   Acidobacteria                     Holophagae    13C000      1\n",
       "3   14   Acidobacteria           Order_Incertae_Sedis    13C000      1\n",
       "4   14   Acidobacteria                        SJA-149    13C000      1\n",
       "5   14  Actinobacteria                  Micrococcales    13C000      1\n",
       "6   14  Actinobacteria              Pseudonocardiales    13C000      1\n",
       "7   14 Armatimonadetes                  Armatimonadia    13C000      1\n",
       "8   14 Armatimonadetes           uncultured_bacterium    13C000      3\n",
       "9   14   Bacteroidetes                     Cytophagia    13C000     13\n",
       "10  14   Bacteroidetes                  Flavobacteria    13C000     10\n",
       ".. ...             ...                            ...       ...    ...\n"
      ]
     },
     "metadata": {},
     "output_type": "display_data"
    }
   ],
   "source": [
    "%%R\n",
    "phy.sum.day.CC = df_CC_resp %>%\n",
    "    select(OTU, Day, Treatment, Rank2, Rank3) %>%\n",
    "    group_by(Day, Rank2, Rank3, Treatment) %>%\n",
    "    summarize(Counts = n()) %>%\n",
    "    arrange(desc(Counts)) \n",
    "    \n",
    "phy.sum.day.CC"
   ]
  },
  {
   "cell_type": "markdown",
   "metadata": {},
   "source": [
    "### Treatment: 100"
   ]
  },
  {
   "cell_type": "code",
   "execution_count": 8,
   "metadata": {
    "collapsed": false
   },
   "outputs": [
    {
     "data": {
      "text/plain": [
       "[1] 416\n"
      ]
     },
     "metadata": {},
     "output_type": "display_data"
    }
   ],
   "source": [
    "%%R\n",
    "FDR = 0.10\n",
    "df_100_resp = subset(df_all, (Treatment == \"13C100\")&(padj <= FDR))\n",
    "nrow (df_100_resp)"
   ]
  },
  {
   "cell_type": "code",
   "execution_count": 9,
   "metadata": {
    "collapsed": false
   },
   "outputs": [
    {
     "data": {
      "text/plain": [
       "Source: local data frame [71 x 5]\n",
       "Groups: Day, Rank2, Rank3\n",
       "\n",
       "   Day                   Rank2                Rank3 Treatment Counts\n",
       "1   14          Actinobacteria    Corynebacteriales    13C100      1\n",
       "2   14          Actinobacteria        Micrococcales    13C100      1\n",
       "3   14          Actinobacteria     Streptomycetales    13C100      1\n",
       "4   14           Bacteroidetes           Cytophagia    13C100      8\n",
       "5   14           Bacteroidetes     Sphingobacteriia    13C100      2\n",
       "6   14 Candidate_division_BRC1 uncultured_bacterium    13C100      2\n",
       "7   14                Chlorobi            Chlorobia    13C100      1\n",
       "8   14             Chloroflexi         Anaerolineae    13C100      1\n",
       "9   14             Chloroflexi    Herpetosiphonales    13C100      5\n",
       "10  14             Chloroflexi      Ktedonobacteria    13C100      1\n",
       ".. ...                     ...                  ...       ...    ...\n"
      ]
     },
     "metadata": {},
     "output_type": "display_data"
    }
   ],
   "source": [
    "%%R\n",
    "phy.sum.day.C100 = df_100_resp %>%\n",
    "    select(OTU, Day, Treatment, Rank2, Rank3) %>%\n",
    "    group_by(Day, Rank2, Rank3, Treatment) %>%\n",
    "    summarize(Counts = n()) %>%\n",
    "    arrange(desc(Counts)) \n",
    "    \n",
    "phy.sum.day.C100"
   ]
  },
  {
   "cell_type": "markdown",
   "metadata": {},
   "source": [
    "### Treatment: 700"
   ]
  },
  {
   "cell_type": "code",
   "execution_count": 10,
   "metadata": {
    "collapsed": false
   },
   "outputs": [
    {
     "data": {
      "text/plain": [
       "[1] 524\n"
      ]
     },
     "metadata": {},
     "output_type": "display_data"
    }
   ],
   "source": [
    "%%R\n",
    "FDR = 0.10\n",
    "df_700_resp = subset(df_all, (Treatment == \"13C700\")&(padj <= FDR))\n",
    "nrow (df_700_resp)"
   ]
  },
  {
   "cell_type": "code",
   "execution_count": 11,
   "metadata": {
    "collapsed": false
   },
   "outputs": [
    {
     "data": {
      "text/plain": [
       "Source: local data frame [85 x 5]\n",
       "Groups: Day, Rank2, Rank3\n",
       "\n",
       "   Day           Rank2                          Rank3 Treatment Counts\n",
       "1   14   Acidobacteria                          11-24    13C700      1\n",
       "2   14   Acidobacteria Candidatus_Chloracidobacterium    13C700      1\n",
       "3   14   Acidobacteria                           RB25    13C700      1\n",
       "4   14   Acidobacteria                        SJA-149    13C700      1\n",
       "5   14  Actinobacteria                  Micrococcales    13C700      1\n",
       "6   14 Armatimonadetes                  Armatimonadia    13C700      1\n",
       "7   14 Armatimonadetes           uncultured_bacterium    13C700      2\n",
       "8   14   Bacteroidetes                     Cytophagia    13C700     24\n",
       "9   14   Bacteroidetes                  Flavobacteria    13C700      9\n",
       "10  14   Bacteroidetes               Sphingobacteriia    13C700     60\n",
       ".. ...             ...                            ...       ...    ...\n"
      ]
     },
     "metadata": {},
     "output_type": "display_data"
    }
   ],
   "source": [
    "%%R\n",
    "phy.sum.day.C700 = df_700_resp %>%\n",
    "    select(OTU, Day, Treatment, Rank2, Rank3) %>%\n",
    "    group_by(Day, Rank2, Rank3, Treatment) %>%\n",
    "    summarize(Counts = n()) %>%\n",
    "    arrange(desc(Counts)) \n",
    "    \n",
    "phy.sum.day.C700"
   ]
  },
  {
   "cell_type": "code",
   "execution_count": 12,
   "metadata": {
    "collapsed": false
   },
   "outputs": [
    {
     "data": {
      "text/plain": [
       "Source: local data frame [239 x 5]\n",
       "Groups: Day, Rank2, Rank3\n",
       "\n",
       "   Day           Rank2                          Rank3 Treatment Counts\n",
       "1   14   Acidobacteria Candidatus_Chloracidobacterium    13C000      1\n",
       "2   14   Acidobacteria                     Holophagae    13C000      1\n",
       "3   14   Acidobacteria           Order_Incertae_Sedis    13C000      1\n",
       "4   14   Acidobacteria                        SJA-149    13C000      1\n",
       "5   14  Actinobacteria                  Micrococcales    13C000      1\n",
       "6   14  Actinobacteria              Pseudonocardiales    13C000      1\n",
       "7   14 Armatimonadetes                  Armatimonadia    13C000      1\n",
       "8   14 Armatimonadetes           uncultured_bacterium    13C000      3\n",
       "9   14   Bacteroidetes                     Cytophagia    13C000     13\n",
       "10  14   Bacteroidetes                  Flavobacteria    13C000     10\n",
       ".. ...             ...                            ...       ...    ...\n"
      ]
     },
     "metadata": {},
     "output_type": "display_data"
    }
   ],
   "source": [
    "%%R\n",
    "phy.counts.class = rbind(phy.sum.day.CC, phy.sum.day.C100, phy.sum.day.C700)\n",
    "phy.counts.class"
   ]
  },
  {
   "cell_type": "code",
   "execution_count": 13,
   "metadata": {
    "collapsed": true
   },
   "outputs": [],
   "source": [
    "%%R\n",
    "\n",
    "write.table(phy.counts.class, \n",
    "            file = \"data/class_counts.csv\",\n",
    "            row.names = FALSE,\n",
    "            sep = \",\")"
   ]
  },
  {
   "cell_type": "code",
   "execution_count": 16,
   "metadata": {
    "collapsed": false
   },
   "outputs": [
    {
     "data": {
      "text/plain": [
       "Source: local data frame [450 x 15]\n",
       "Groups: Treatment, Day\n",
       "\n",
       "   sparsity_threshold Day Treatment      OTU log2FoldChange            p\n",
       "1                0.25  14    13C000 OTU.1647       7.376202 2.036806e-07\n",
       "2                0.25  14    13C000  OTU.385       7.033637 3.303388e-06\n",
       "3                0.25  14    13C000 OTU.2004       6.979512 5.223504e-07\n",
       "4                0.25  14    13C000  OTU.690       6.933718 5.295957e-10\n",
       "5                0.25  14    13C000  OTU.131       6.700015 4.074329e-13\n",
       "6                0.25  14    13C000 OTU.2418       6.662350 2.846601e-06\n",
       "7                0.25  14    13C000 OTU.3165       6.609019 3.248237e-13\n",
       "8                0.25  14    13C000 OTU.1590       6.596085 5.355882e-08\n",
       "9                0.25  14    13C000   OTU.31       6.561500 1.853986e-12\n",
       "10               0.25  14    13C000  OTU.151       6.439481 3.686976e-14\n",
       "..                ... ...       ...      ...            ...          ...\n",
       "Variables not shown: Rank1 (fctr), Rank2 (fctr), Rank3 (fctr), Rank4 (fctr),\n",
       "  Rank5 (fctr), Rank6 (fctr), Rank7 (fctr), Rank8 (fctr), padj (dbl)\n"
      ]
     },
     "metadata": {},
     "output_type": "display_data"
    }
   ],
   "source": [
    "%%R\n",
    "FDR = 0.10\n",
    "\n",
    "topN = df_all %>%\n",
    "    filter(padj <= FDR) %>%\n",
    "    group_by(Treatment, Day) %>%\n",
    "    arrange(desc(log2FoldChange)) %>%\n",
    "    #group_by(log2FoldChange) %>%\n",
    "    top_n(log2FoldChange, n=50)\n",
    "\n",
    "topN"
   ]
  },
  {
   "cell_type": "code",
   "execution_count": 17,
   "metadata": {
    "collapsed": true
   },
   "outputs": [],
   "source": [
    "%%R\n",
    "\n",
    "write.table(topN, \n",
    "            file = \"data/top150_responders.csv\",\n",
    "            row.names = FALSE,\n",
    "            sep = \",\")"
   ]
  }
 ],
 "metadata": {
  "kernelspec": {
   "display_name": "Python 2",
   "language": "python",
   "name": "python2"
  },
  "language_info": {
   "codemirror_mode": {
    "name": "ipython",
    "version": 2
   },
   "file_extension": ".py",
   "mimetype": "text/x-python",
   "name": "python",
   "nbconvert_exporter": "python",
   "pygments_lexer": "ipython2",
   "version": "2.7.9"
  }
 },
 "nbformat": 4,
 "nbformat_minor": 0
}
