{
 "cells": [
  {
   "cell_type": "code",
   "execution_count": 1,
   "metadata": {
    "collapsed": false
   },
   "outputs": [],
   "source": [
    "from IPython.display import FileLink"
   ]
  },
  {
   "cell_type": "code",
   "execution_count": 2,
   "metadata": {
    "collapsed": false
   },
   "outputs": [],
   "source": [
    "%load_ext rpy2.ipython"
   ]
  },
  {
   "cell_type": "code",
   "execution_count": 3,
   "metadata": {
    "collapsed": false
   },
   "outputs": [
    {
     "data": {
      "text/plain": [
       "Loading required package: S4Vectors\n",
       "Loading required package: stats4\n",
       "Loading required package: BiocGenerics\n",
       "Loading required package: parallel\n",
       "\n",
       "Attaching package: ‘BiocGenerics’\n",
       "\n",
       "The following objects are masked from ‘package:parallel’:\n",
       "\n",
       "    clusterApply, clusterApplyLB, clusterCall, clusterEvalQ,\n",
       "    clusterExport, clusterMap, parApply, parCapply, parLapply,\n",
       "    parLapplyLB, parRapply, parSapply, parSapplyLB\n",
       "\n",
       "The following object is masked from ‘package:stats’:\n",
       "\n",
       "    xtabs\n",
       "\n",
       "The following objects are masked from ‘package:base’:\n",
       "\n",
       "    anyDuplicated, append, as.data.frame, as.vector, cbind, colnames,\n",
       "    do.call, duplicated, eval, evalq, Filter, Find, get, intersect,\n",
       "    is.unsorted, lapply, Map, mapply, match, mget, order, paste, pmax,\n",
       "    pmax.int, pmin, pmin.int, Position, rank, rbind, Reduce, rep.int,\n",
       "    rownames, sapply, setdiff, sort, table, tapply, union, unique,\n",
       "    unlist, unsplit\n",
       "\n",
       "Loading required package: IRanges\n",
       "Loading required package: GenomicRanges\n",
       "Loading required package: GenomeInfoDb\n",
       "Loading required package: Rcpp\n",
       "Loading required package: RcppArmadillo\n",
       "\n",
       "Attaching package: ‘phyloseq’\n",
       "\n",
       "The following object is masked from ‘package:GenomicRanges’:\n",
       "\n",
       "    distance\n",
       "\n",
       "The following object is masked from ‘package:IRanges’:\n",
       "\n",
       "    distance\n",
       "\n",
       "\n",
       "Attaching package: ‘plyr’\n",
       "\n",
       "The following object is masked from ‘package:IRanges’:\n",
       "\n",
       "    desc\n",
       "\n",
       "The following object is masked from ‘package:S4Vectors’:\n",
       "\n",
       "    rename\n",
       "\n",
       "\n",
       "Attaching package: ‘dplyr’\n",
       "\n",
       "The following objects are masked from ‘package:plyr’:\n",
       "\n",
       "    arrange, count, desc, failwith, id, mutate, rename, summarise,\n",
       "    summarize\n",
       "\n",
       "The following objects are masked from ‘package:GenomicRanges’:\n",
       "\n",
       "    intersect, setdiff, union\n",
       "\n",
       "The following object is masked from ‘package:GenomeInfoDb’:\n",
       "\n",
       "    intersect\n",
       "\n",
       "The following objects are masked from ‘package:IRanges’:\n",
       "\n",
       "    collapse, desc, intersect, setdiff, slice, union\n",
       "\n",
       "The following object is masked from ‘package:S4Vectors’:\n",
       "\n",
       "    rename\n",
       "\n",
       "The following objects are masked from ‘package:BiocGenerics’:\n",
       "\n",
       "    combine, intersect, setdiff, union\n",
       "\n",
       "The following object is masked from ‘package:stats’:\n",
       "\n",
       "    filter\n",
       "\n",
       "The following objects are masked from ‘package:base’:\n",
       "\n",
       "    intersect, setdiff, setequal, union\n",
       "\n",
       "Loading required package: foreach\n",
       "foreach: simple, scalable parallel programming from Revolution Analytics\n",
       "Use Revolution R for scalability, fault tolerance and more.\n",
       "http://www.revolutionanalytics.com\n",
       "Loading required package: iterators\n",
       "\n",
       "Attaching package: ‘reshape’\n",
       "\n",
       "The following object is masked from ‘package:dplyr’:\n",
       "\n",
       "    rename\n",
       "\n",
       "The following objects are masked from ‘package:plyr’:\n",
       "\n",
       "    rename, round_any\n",
       "\n",
       "The following object is masked from ‘package:IRanges’:\n",
       "\n",
       "    expand\n",
       "\n",
       "The following object is masked from ‘package:S4Vectors’:\n",
       "\n",
       "    rename\n",
       "\n",
       "Loading required package: grid\n",
       "data.table 1.9.4  For help type: ?data.table\n",
       "*** NB: by=.EACHI is now explicit. See README to restore previous behaviour.\n",
       "\n",
       "Attaching package: ‘data.table’\n",
       "\n",
       "The following objects are masked from ‘package:dplyr’:\n",
       "\n",
       "    between, last\n",
       "\n",
       "\n",
       "Attaching package: ‘compare’\n",
       "\n",
       "The following object is masked from ‘package:GenomicRanges’:\n",
       "\n",
       "    compare\n",
       "\n",
       "The following object is masked from ‘package:IRanges’:\n",
       "\n",
       "    compare\n",
       "\n",
       "The following object is masked from ‘package:S4Vectors’:\n",
       "\n",
       "    compare\n",
       "\n",
       "The following object is masked from ‘package:base’:\n",
       "\n",
       "    isTRUE\n",
       "\n",
       "Loading required package: mvtnorm\n",
       "Loading required package: VGAM\n",
       "Loading required package: splines\n",
       "\n",
       "Attaching package: ‘VGAM’\n",
       "\n",
       "The following object is masked from ‘package:DESeq2’:\n",
       "\n",
       "    rlog\n",
       "\n"
      ]
     },
     "metadata": {},
     "output_type": "display_data"
    }
   ],
   "source": [
    "%%R\n",
    "library(DESeq2)\n",
    "library(phyloseq)\n",
    "library(plyr); library(dplyr)\n",
    "library(ggplot2)\n",
    "library(doParallel)\n",
    "library(foreach)\n",
    "library(reshape)\n",
    "library(RColorBrewer)\n",
    "library(gridExtra)\n",
    "library(stats)\n",
    "library(data.table)\n",
    "library(compare, lib.loc=\"/home/ashley/R/x86_64-pc-linux-gnu-library/3.1/\")\n",
    "library(lawstat, lib.loc=\"/home/ashley/R/x86_64-pc-linux-gnu-library/3.1/\")"
   ]
  },
  {
   "cell_type": "markdown",
   "metadata": {},
   "source": [
    "###This is the file from the [Sparsity Notebook](./Sparsity_make_l2fc_table.ipynb)."
   ]
  },
  {
   "cell_type": "code",
   "execution_count": 4,
   "metadata": {
    "collapsed": false
   },
   "outputs": [
    {
     "data": {
      "text/plain": [
       "  sparsity_threshold Day Treatment       OTU log2FoldChange         p    Rank1\n",
       "1               0.25  14    13C000  OTU.4204    -0.20553170 1.0000000 Bacteria\n",
       "2               0.25  14    13C000   OTU.467    -0.33054855 1.0000000 Bacteria\n",
       "3               0.25  14    13C000   OTU.905     0.01698885 0.9827594 Bacteria\n",
       "4               0.25  14    13C000  OTU.7253     0.02799601 0.9772968 Bacteria\n",
       "5               0.25  14    13C000    OTU.67    -0.60115954 1.0000000 Bacteria\n",
       "6               0.25  14    13C000 OTU.10580     0.36193427 0.7248674 Bacteria\n",
       "          Rank2 Rank3                Rank4 Rank5 Rank6 Rank7 Rank8 padj\n",
       "1 Acidobacteria DA023                 <NA>  <NA>  <NA>  <NA>  <NA>    1\n",
       "2 Acidobacteria DA023 uncultured_bacterium  <NA>  <NA>  <NA>  <NA>    1\n",
       "3 Acidobacteria DA023 uncultured_bacterium  <NA>  <NA>  <NA>  <NA>    1\n",
       "4 Acidobacteria DA023 uncultured_bacterium  <NA>  <NA>  <NA>  <NA>    1\n",
       "5 Acidobacteria DA023 uncultured_bacterium  <NA>  <NA>  <NA>  <NA>    1\n",
       "6 Acidobacteria DA023                 <NA>  <NA>  <NA>  <NA>  <NA>    1\n"
      ]
     },
     "metadata": {},
     "output_type": "display_data"
    }
   ],
   "source": [
    "%%R\n",
    "df_all = read.csv(\"/var/seq_data/priming_exp/data/l2fc_table.csv\")\n",
    "head(df_all)"
   ]
  },
  {
   "cell_type": "code",
   "execution_count": 5,
   "metadata": {
    "collapsed": false
   },
   "outputs": [
    {
     "data": {
      "text/plain": [
       "[1] 28471\n"
      ]
     },
     "metadata": {},
     "output_type": "display_data"
    }
   ],
   "source": [
    "%%R\n",
    "nrow (df_all)"
   ]
  },
  {
   "cell_type": "markdown",
   "metadata": {},
   "source": [
    "### Treatment: CC"
   ]
  },
  {
   "cell_type": "code",
   "execution_count": 23,
   "metadata": {
    "collapsed": false
   },
   "outputs": [
    {
     "data": {
      "text/plain": [
       "    sparsity_threshold Day Treatment       OTU log2FoldChange            p\n",
       "134               0.25  14    13C000  OTU.7337       2.477516 0.0018908765\n",
       "251               0.25  14    13C000   OTU.950       3.497786 0.0021470637\n",
       "252               0.25  14    13C000 OTU.11380       5.169283 0.0002911960\n",
       "263               0.25  14    13C000  OTU.5228       2.654885 0.0002285059\n",
       "269               0.25  14    13C000   OTU.903       3.807659 0.0015749699\n",
       "270               0.25  14    13C000   OTU.752       4.813177 0.0002952637\n",
       "       Rank1           Rank2            Rank3              Rank4\n",
       "134 Bacteria   Acidobacteria       Holophagae             iii1-8\n",
       "251 Bacteria Verrucomicrobia Verrucomicrobiae Verrucomicrobiales\n",
       "252 Bacteria Verrucomicrobia Verrucomicrobiae Verrucomicrobiales\n",
       "263 Bacteria Verrucomicrobia Verrucomicrobiae Verrucomicrobiales\n",
       "269 Bacteria Verrucomicrobia Verrucomicrobiae Verrucomicrobiales\n",
       "270 Bacteria Verrucomicrobia   Spartobacteria Chthoniobacterales\n",
       "                   Rank5           Rank6                Rank7 Rank8        padj\n",
       "134 uncultured_bacterium            <NA>                 <NA>  <NA> 0.046611977\n",
       "251  Verrucomicrobiaceae Prosthecobacter                 <NA>  <NA> 0.051032476\n",
       "252  Verrucomicrobiaceae Prosthecobacter                 <NA>  <NA> 0.011068783\n",
       "263  Verrucomicrobiaceae      uncultured uncultured_bacterium  <NA> 0.009030517\n",
       "269  Verrucomicrobiaceae      Haloferula                 <NA>  <NA> 0.040930855\n",
       "270                 <NA>            <NA>                 <NA>  <NA> 0.011180728\n"
      ]
     },
     "metadata": {},
     "output_type": "display_data"
    }
   ],
   "source": [
    "%%R\n",
    "FDR = 0.10\n",
    "df_CC_resp = subset(df_all, (Treatment == \"13C000\")&(padj <= FDR))\n",
    "head(df_CC_resp)"
   ]
  },
  {
   "cell_type": "code",
   "execution_count": 32,
   "metadata": {
    "collapsed": false
   },
   "outputs": [
    {
     "data": {
      "text/plain": [
       "Joining by: c(\"OTU\", \"Day\")\n",
       "Source: local data frame [533 x 16]\n",
       "Groups: OTU\n",
       "\n",
       "         OTU Day Counts sparsity_threshold Treatment log2FoldChange\n",
       "1      OTU.1  14      1               0.25    13C000       2.531237\n",
       "2     OTU.10  14      1               0.25    13C000       5.260141\n",
       "3     OTU.10  28      1               0.25    13C000       3.222571\n",
       "4     OTU.10  45      1               0.25    13C000       4.080452\n",
       "5   OTU.1009  14      1               0.25    13C000       3.150152\n",
       "6    OTU.101  45      1               0.25    13C000       3.307906\n",
       "7  OTU.10167  45      1               0.25    13C000       3.860824\n",
       "8    OTU.102  14      1               0.25    13C000       2.688790\n",
       "9    OTU.102  28      1               0.25    13C000       4.749681\n",
       "10   OTU.102  45      1               0.25    13C000       4.582857\n",
       "..       ... ...    ...                ...       ...            ...\n",
       "Variables not shown: p (dbl), Rank1 (fctr), Rank2 (fctr), Rank3 (fctr), Rank4\n",
       "  (fctr), Rank5 (fctr), Rank6 (fctr), Rank7 (fctr), Rank8 (fctr), padj (dbl)\n"
      ]
     },
     "metadata": {},
     "output_type": "display_data"
    }
   ],
   "source": [
    "%%R\n",
    "OTU.sum.day = df_CC_resp %>%\n",
    "    select(OTU, Day, Treatment, Rank2, Rank3) %>%\n",
    "    group_by(OTU, Day) %>%\n",
    "    summarize(Counts = n()) %>%\n",
    "    left_join(df_CC_resp)\n",
    "    \n",
    "OTU.sum.day"
   ]
  },
  {
   "cell_type": "code",
   "execution_count": 7,
   "metadata": {
    "collapsed": false
   },
   "outputs": [
    {
     "data": {
      "text/plain": [
       "[1] 369\n"
      ]
     },
     "metadata": {},
     "output_type": "display_data"
    }
   ],
   "source": [
    "%%R\n",
    "df_CC_resp_unique = subset(df_CC_resp, !duplicated(OTU))\n",
    "nrow(df_CC_resp_unique)"
   ]
  },
  {
   "cell_type": "code",
   "execution_count": 8,
   "metadata": {
    "collapsed": false
   },
   "outputs": [
    {
     "data": {
      "text/plain": [
       "Source: local data frame [1 x 2]\n",
       "\n",
       "  vars   n\n",
       "1  Day 533\n"
      ]
     },
     "metadata": {},
     "output_type": "display_data"
    }
   ],
   "source": [
    "%%R\n",
    "CC_counts_perday = count(df_CC_resp, vars = \"Day\")\n",
    "print (CC_counts_perday)"
   ]
  },
  {
   "cell_type": "code",
   "execution_count": 9,
   "metadata": {
    "collapsed": false
   },
   "outputs": [],
   "source": [
    "%%R\n",
    "df_CC_resp_day14 = subset(df_CC_resp, (Day == \"14\"))\n",
    "#print(df_xylose_resp_day1)\n",
    "df_CC_resp_day28 = subset(df_CC_resp, (Day == \"28\"))\n",
    "#print(df_xylose_resp_day3)\n",
    "df_CC_resp_day45 = subset(df_CC_resp, (Day == \"45\"))\n",
    "#print(df_xylose_resp_day7)\n"
   ]
  },
  {
   "cell_type": "code",
   "execution_count": 10,
   "metadata": {
    "collapsed": false
   },
   "outputs": [
    {
     "data": {
      "text/plain": [
       "                    Rank2 NumSubs\n",
       "1           Acidobacteria       5\n",
       "2          Actinobacteria       7\n",
       "3         Armatimonadetes       2\n",
       "4           Bacteroidetes      18\n",
       "5                   BD1-5       2\n",
       "6  Candidate_division_OD1       1\n",
       "7                Chlorobi       1\n",
       "8             Chloroflexi      15\n",
       "9           Cyanobacteria       2\n",
       "10          Elusimicrobia       3\n",
       "11          Fibrobacteres       2\n",
       "12       Gemmatimonadetes       1\n",
       "13         Planctomycetes      51\n",
       "14         Proteobacteria     120\n",
       "15        Verrucomicrobia      29\n"
      ]
     },
     "metadata": {},
     "output_type": "display_data"
    }
   ],
   "source": [
    "%%R\n",
    "df_CC_resp_counts = ddply(df_CC_resp_day45, .(Rank2), summarize, NumSubs = length(unique(OTU)))\n",
    "print (df_CC_resp_counts)"
   ]
  },
  {
   "cell_type": "markdown",
   "metadata": {},
   "source": [
    "### Treatment: 100"
   ]
  },
  {
   "cell_type": "code",
   "execution_count": 11,
   "metadata": {
    "collapsed": false
   },
   "outputs": [
    {
     "data": {
      "text/plain": [
       "[1] 416\n"
      ]
     },
     "metadata": {},
     "output_type": "display_data"
    }
   ],
   "source": [
    "%%R\n",
    "FDR = 0.10\n",
    "df_100_resp = subset(df_all, (Treatment == \"13C100\")&(padj <= FDR))\n",
    "nrow (df_100_resp)"
   ]
  },
  {
   "cell_type": "code",
   "execution_count": 12,
   "metadata": {
    "collapsed": false
   },
   "outputs": [
    {
     "data": {
      "text/plain": [
       "[1] 273\n"
      ]
     },
     "metadata": {},
     "output_type": "display_data"
    }
   ],
   "source": [
    "%%R\n",
    "df_100_resp_unique = subset(df_100_resp, !duplicated(OTU))\n",
    "nrow(df_100_resp_unique)"
   ]
  },
  {
   "cell_type": "code",
   "execution_count": 13,
   "metadata": {
    "collapsed": false
   },
   "outputs": [
    {
     "data": {
      "text/plain": [
       "Source: local data frame [1 x 2]\n",
       "\n",
       "  vars   n\n",
       "1  Day 416\n"
      ]
     },
     "metadata": {},
     "output_type": "display_data"
    }
   ],
   "source": [
    "%%R\n",
    "C100_counts_perday = count(df_100_resp, vars = \"Day\")\n",
    "print (C100_counts_perday)"
   ]
  },
  {
   "cell_type": "code",
   "execution_count": 14,
   "metadata": {
    "collapsed": false
   },
   "outputs": [],
   "source": [
    "%%R\n",
    "df_C100_resp_day14 = subset(df_100_resp, (Day == \"14\"))\n",
    "#print(df_xylose_resp_day1)\n",
    "df_C100_resp_day28 = subset(df_100_resp, (Day == \"28\"))\n",
    "#print(df_xylose_resp_day3)\n",
    "df_C100_resp_day45 = subset(df_100_resp, (Day == \"45\"))\n",
    "#print(df_xylose_resp_day7)"
   ]
  },
  {
   "cell_type": "code",
   "execution_count": 15,
   "metadata": {
    "collapsed": false
   },
   "outputs": [
    {
     "data": {
      "text/plain": [
       "             Rank2 NumSubs\n",
       "1    Acidobacteria       6\n",
       "2   Actinobacteria       1\n",
       "3    Bacteroidetes      19\n",
       "4            BD1-5       1\n",
       "5         Chlorobi       1\n",
       "6      Chloroflexi       7\n",
       "7    Cyanobacteria       2\n",
       "8    Fibrobacteres       1\n",
       "9   Planctomycetes      20\n",
       "10  Proteobacteria      59\n",
       "11 Verrucomicrobia      18\n"
      ]
     },
     "metadata": {},
     "output_type": "display_data"
    }
   ],
   "source": [
    "%%R\n",
    "df_C100_resp_counts = ddply(df_C100_resp_day45, .(Rank2), summarize, NumSubs = length(unique(OTU)))\n",
    "print (df_C100_resp_counts)"
   ]
  },
  {
   "cell_type": "markdown",
   "metadata": {},
   "source": [
    "### Treatment: 700"
   ]
  },
  {
   "cell_type": "code",
   "execution_count": 16,
   "metadata": {
    "collapsed": false
   },
   "outputs": [
    {
     "data": {
      "text/plain": [
       "[1] 524\n"
      ]
     },
     "metadata": {},
     "output_type": "display_data"
    }
   ],
   "source": [
    "%%R\n",
    "FDR = 0.10\n",
    "df_700_resp = subset(df_all, (Treatment == \"13C700\")&(padj <= FDR))\n",
    "nrow (df_700_resp)"
   ]
  },
  {
   "cell_type": "code",
   "execution_count": 17,
   "metadata": {
    "collapsed": false
   },
   "outputs": [
    {
     "data": {
      "text/plain": [
       "[1] 358\n"
      ]
     },
     "metadata": {},
     "output_type": "display_data"
    }
   ],
   "source": [
    "%%R\n",
    "df_700_resp_unique = subset(df_700_resp, !duplicated(OTU))\n",
    "nrow(df_700_resp_unique)"
   ]
  },
  {
   "cell_type": "code",
   "execution_count": 18,
   "metadata": {
    "collapsed": false
   },
   "outputs": [
    {
     "data": {
      "text/plain": [
       "Source: local data frame [1 x 2]\n",
       "\n",
       "  vars   n\n",
       "1  Day 524\n"
      ]
     },
     "metadata": {},
     "output_type": "display_data"
    }
   ],
   "source": [
    "%%R\n",
    "C700_counts_perday = count(df_700_resp, vars = \"Day\")\n",
    "print (C700_counts_perday)"
   ]
  },
  {
   "cell_type": "code",
   "execution_count": 19,
   "metadata": {
    "collapsed": false
   },
   "outputs": [],
   "source": [
    "%%R\n",
    "df_C700_resp_day14 = subset(df_700_resp, (Day == \"14\"))\n",
    "#print(df_xylose_resp_day1)\n",
    "df_C700_resp_day28 = subset(df_700_resp, (Day == \"28\"))\n",
    "#print(df_xylose_resp_day3)\n",
    "df_C700_resp_day45 = subset(df_700_resp, (Day == \"45\"))\n",
    "#print(df_xylose_resp_day7)"
   ]
  },
  {
   "cell_type": "code",
   "execution_count": 20,
   "metadata": {
    "collapsed": false
   },
   "outputs": [
    {
     "data": {
      "text/plain": [
       "                     Rank2 NumSubs\n",
       "1            Acidobacteria       8\n",
       "2           Actinobacteria       2\n",
       "3          Armatimonadetes       3\n",
       "4            Bacteroidetes      11\n",
       "5  Candidate_division_OP11       1\n",
       "6                 Chlorobi       1\n",
       "7              Chloroflexi      11\n",
       "8            Cyanobacteria       2\n",
       "9            Elusimicrobia       1\n",
       "10           Fibrobacteres       2\n",
       "11              Firmicutes       1\n",
       "12          Planctomycetes      20\n",
       "13          Proteobacteria      64\n",
       "14         Verrucomicrobia      19\n",
       "15                    <NA>       1\n"
      ]
     },
     "metadata": {},
     "output_type": "display_data"
    }
   ],
   "source": [
    "%%R\n",
    "df_C700_resp_counts = ddply(df_C700_resp_day45, .(Rank2), summarize, NumSubs = length(unique(OTU)))\n",
    "print (df_C700_resp_counts)"
   ]
  }
 ],
 "metadata": {
  "kernelspec": {
   "display_name": "Python 2",
   "language": "python",
   "name": "python2"
  },
  "language_info": {
   "codemirror_mode": {
    "name": "ipython",
    "version": 2
   },
   "file_extension": ".py",
   "mimetype": "text/x-python",
   "name": "python",
   "nbconvert_exporter": "python",
   "pygments_lexer": "ipython2",
   "version": "2.7.9"
  }
 },
 "nbformat": 4,
 "nbformat_minor": 0
}
