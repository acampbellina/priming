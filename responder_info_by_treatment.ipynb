{
 "metadata": {
  "name": "",
  "signature": "sha256:41050b3aa7eeed3391335af7c4789c83ad8b53888e2526da78dee57b433da074"
 },
 "nbformat": 3,
 "nbformat_minor": 0,
 "worksheets": [
  {
   "cells": [
    {
     "cell_type": "code",
     "collapsed": false,
     "input": [
      "from IPython.display import FileLink"
     ],
     "language": "python",
     "metadata": {},
     "outputs": [],
     "prompt_number": 1
    },
    {
     "cell_type": "code",
     "collapsed": false,
     "input": [
      "%load_ext rpy2.ipython"
     ],
     "language": "python",
     "metadata": {},
     "outputs": [
      {
       "output_type": "stream",
       "stream": "stderr",
       "text": [
        "/opt/anaconda/lib/python2.7/site-packages/pytz/__init__.py:29: UserWarning: Module argparse was already imported from /opt/anaconda/lib/python2.7/argparse.pyc, but /opt/anaconda/lib/python2.7/site-packages is being added to sys.path\n",
        "  from pkg_resources import resource_stream\n"
       ]
      }
     ],
     "prompt_number": 2
    },
    {
     "cell_type": "code",
     "collapsed": false,
     "input": [
      "%%R\n",
      "library(DESeq2)\n",
      "library(phyloseq)\n",
      "library(plyr); library(dplyr)\n",
      "library(ggplot2)\n",
      "library(doParallel)\n",
      "library(foreach)\n",
      "library(reshape)\n",
      "library(RColorBrewer)\n",
      "library(gridExtra)\n",
      "library(stats)\n",
      "library(data.table)\n",
      "library(compare, lib.loc=\"/home/ashley/R/x86_64-pc-linux-gnu-library/3.1/\")\n",
      "library(lawstat, lib.loc=\"/home/ashley/R/x86_64-pc-linux-gnu-library/3.1/\")"
     ],
     "language": "python",
     "metadata": {},
     "outputs": [
      {
       "metadata": {},
       "output_type": "display_data",
       "text": [
        "Loading required package: GenomicRanges\n",
        "Loading required package: BiocGenerics\n",
        "Loading required package: parallel\n",
        "\n",
        "Attaching package: \u2018BiocGenerics\u2019\n",
        "\n",
        "The following objects are masked from \u2018package:parallel\u2019:\n",
        "\n",
        "    clusterApply, clusterApplyLB, clusterCall, clusterEvalQ,\n",
        "    clusterExport, clusterMap, parApply, parCapply, parLapply,\n",
        "    parLapplyLB, parRapply, parSapply, parSapplyLB\n",
        "\n",
        "The following object is masked from \u2018package:stats\u2019:\n",
        "\n",
        "    xtabs\n",
        "\n",
        "The following objects are masked from \u2018package:base\u2019:\n",
        "\n",
        "    anyDuplicated, append, as.data.frame, as.vector, cbind, colnames,\n",
        "    duplicated, eval, evalq, Filter, Find, get, intersect, is.unsorted,\n",
        "    lapply, Map, mapply, match, mget, order, paste, pmax, pmax.int,\n",
        "    pmin, pmin.int, Position, rank, rbind, Reduce, rep.int, rownames,\n",
        "    sapply, setdiff, sort, table, tapply, union, unique, unlist\n",
        "\n",
        "Loading required package: IRanges\n",
        "Loading required package: XVector\n",
        "Loading required package: Rcpp\n",
        "Loading required package: RcppArmadillo\n",
        "\n",
        "Attaching package: \u2018phyloseq\u2019\n",
        "\n",
        "The following object is masked from \u2018package:GenomicRanges\u2019:\n",
        "\n",
        "    distance\n",
        "\n",
        "The following object is masked from \u2018package:IRanges\u2019:\n",
        "\n",
        "    distance\n",
        "\n",
        "\n",
        "Attaching package: \u2018plyr\u2019\n",
        "\n",
        "The following object is masked from \u2018package:XVector\u2019:\n",
        "\n",
        "    compact\n",
        "\n",
        "The following objects are masked from \u2018package:IRanges\u2019:\n",
        "\n",
        "    desc, rename\n",
        "\n",
        "\n",
        "Attaching package: \u2018dplyr\u2019\n",
        "\n",
        "The following objects are masked from \u2018package:plyr\u2019:\n",
        "\n",
        "    arrange, desc, failwith, id, mutate, summarise, summarize\n",
        "\n",
        "The following objects are masked from \u2018package:GenomicRanges\u2019:\n",
        "\n",
        "    first, intersect, last, setdiff, union\n",
        "\n",
        "The following objects are masked from \u2018package:IRanges\u2019:\n",
        "\n",
        "    collapse, desc, intersect, setdiff, union\n",
        "\n",
        "The following objects are masked from \u2018package:BiocGenerics\u2019:\n",
        "\n",
        "    intersect, setdiff, union\n",
        "\n",
        "The following objects are masked from \u2018package:stats\u2019:\n",
        "\n",
        "    filter, lag\n",
        "\n",
        "The following objects are masked from \u2018package:base\u2019:\n",
        "\n",
        "    intersect, setdiff, setequal, union\n",
        "\n",
        "Need help? Try the ggplot2 mailing list: http://groups.google.com/group/ggplot2.\n",
        "Loading required package: foreach\n",
        "foreach: simple, scalable parallel programming from Revolution Analytics\n",
        "Use Revolution R for scalability, fault tolerance and more.\n",
        "http://www.revolutionanalytics.com\n",
        "Loading required package: iterators\n",
        "\n",
        "Attaching package: \u2018reshape\u2019\n",
        "\n",
        "The following objects are masked from \u2018package:plyr\u2019:\n",
        "\n",
        "    rename, round_any\n",
        "\n",
        "The following objects are masked from \u2018package:IRanges\u2019:\n",
        "\n",
        "    expand, rename\n",
        "\n",
        "Loading required package: grid\n",
        "data.table 1.9.2  For help type: help(\"data.table\")\n",
        "\n",
        "Attaching package: \u2018data.table\u2019\n",
        "\n",
        "The following object is masked from \u2018package:dplyr\u2019:\n",
        "\n",
        "    last\n",
        "\n",
        "The following object is masked from \u2018package:GenomicRanges\u2019:\n",
        "\n",
        "    last\n",
        "\n",
        "\n",
        "Attaching package: \u2018compare\u2019\n",
        "\n",
        "The following object is masked from \u2018package:GenomicRanges\u2019:\n",
        "\n",
        "    compare\n",
        "\n",
        "The following object is masked from \u2018package:XVector\u2019:\n",
        "\n",
        "    compare\n",
        "\n",
        "The following object is masked from \u2018package:IRanges\u2019:\n",
        "\n",
        "    compare\n",
        "\n",
        "The following object is masked from \u2018package:base\u2019:\n",
        "\n",
        "    isTRUE\n",
        "\n",
        "Loading required package: mvtnorm\n",
        "Loading required package: VGAM\n",
        "Loading required package: splines\n",
        "Loading required package: stats4\n"
       ]
      }
     ],
     "prompt_number": 3
    },
    {
     "cell_type": "markdown",
     "metadata": {},
     "source": [
      "###This is the file from the [Sparsity Notebook](./Sparsity_make_l2fc_table.ipynb)."
     ]
    },
    {
     "cell_type": "code",
     "collapsed": false,
     "input": [
      "%%R\n",
      "df_all = read.csv(\"/var/seq_data/priming_exp/data/l2fc_table.csv\")\n",
      "head(df_all)"
     ],
     "language": "python",
     "metadata": {},
     "outputs": [
      {
       "metadata": {},
       "output_type": "display_data",
       "text": [
        "  sparsity_threshold Day Treatment      OTU log2FoldChange         p    Rank1\n",
        "1               0.45  14      13CC OTU.4204    -0.20588818 0.9999657 Bacteria\n",
        "2               0.45  14      13CC  OTU.467    -0.30402392 0.9999980 Bacteria\n",
        "3               0.45  14      13CC  OTU.905     0.08372895 0.9763679 Bacteria\n",
        "4               0.45  14      13CC OTU.7253     0.12803079 0.9657952 Bacteria\n",
        "5               0.45  14      13CC   OTU.67    -0.52084841 0.9999991 Bacteria\n",
        "6               0.45  14      13CC OTU.4907     0.14386449 0.9994238 Bacteria\n",
        "          Rank2 Rank3                Rank4 Rank5 Rank6 Rank7 Rank8 padj\n",
        "1 Acidobacteria DA023                 <NA>  <NA>  <NA>  <NA>  <NA>    1\n",
        "2 Acidobacteria DA023 uncultured_bacterium  <NA>  <NA>  <NA>  <NA>    1\n",
        "3 Acidobacteria DA023 uncultured_bacterium  <NA>  <NA>  <NA>  <NA>    1\n",
        "4 Acidobacteria DA023 uncultured_bacterium  <NA>  <NA>  <NA>  <NA>    1\n",
        "5 Acidobacteria DA023 uncultured_bacterium  <NA>  <NA>  <NA>  <NA>    1\n",
        "6 Acidobacteria DA023 uncultured_bacterium  <NA>  <NA>  <NA>  <NA>    1\n"
       ]
      }
     ],
     "prompt_number": 18
    },
    {
     "cell_type": "code",
     "collapsed": false,
     "input": [
      "%%R\n",
      "nrow (df_all)"
     ],
     "language": "python",
     "metadata": {},
     "outputs": [
      {
       "metadata": {},
       "output_type": "display_data",
       "text": [
        "[1] 19976\n"
       ]
      }
     ],
     "prompt_number": 19
    },
    {
     "cell_type": "heading",
     "level": 3,
     "metadata": {},
     "source": [
      "Treatment: CC"
     ]
    },
    {
     "cell_type": "code",
     "collapsed": false,
     "input": [
      "%%R\n",
      "FDR = 0.10\n",
      "df_CC_resp = subset(df_all, (Treatment == \"13CC\")&(padj <= FDR))\n",
      "nrow (df_CC_resp)"
     ],
     "language": "python",
     "metadata": {},
     "outputs": [
      {
       "metadata": {},
       "output_type": "display_data",
       "text": [
        "[1] 435\n"
       ]
      }
     ],
     "prompt_number": 21
    },
    {
     "cell_type": "code",
     "collapsed": false,
     "input": [
      "%%R\n",
      "df_CC_resp_unique = subset(df_CC_resp, !duplicated(OTU))\n",
      "nrow(df_CC_resp_unique)"
     ],
     "language": "python",
     "metadata": {},
     "outputs": [
      {
       "metadata": {},
       "output_type": "display_data",
       "text": [
        "[1] 305\n"
       ]
      }
     ],
     "prompt_number": 22
    },
    {
     "cell_type": "code",
     "collapsed": false,
     "input": [
      "%%R\n",
      "CC_counts_perday = count(df_CC_resp, vars = \"Day\")\n",
      "print (CC_counts_perday)"
     ],
     "language": "python",
     "metadata": {},
     "outputs": [
      {
       "metadata": {},
       "output_type": "display_data",
       "text": [
        "  Day freq\n",
        "1  14  137\n",
        "2  28   61\n",
        "3  45  237\n"
       ]
      }
     ],
     "prompt_number": 23
    },
    {
     "cell_type": "code",
     "collapsed": false,
     "input": [
      "%%R\n",
      "df_CC_resp_day14 = subset(df_CC_resp, (Day == \"14\"))\n",
      "#print(df_xylose_resp_day1)\n",
      "df_CC_resp_day28 = subset(df_CC_resp, (Day == \"28\"))\n",
      "#print(df_xylose_resp_day3)\n",
      "df_CC_resp_day45 = subset(df_CC_resp, (Day == \"45\"))\n",
      "#print(df_xylose_resp_day7)\n"
     ],
     "language": "python",
     "metadata": {},
     "outputs": [],
     "prompt_number": 33
    },
    {
     "cell_type": "code",
     "collapsed": false,
     "input": [
      "%%R\n",
      "df_CC_resp_counts = ddply(df_CC_resp_day45, .(Rank2), summarize, NumSubs = length(unique(OTU)))\n",
      "print (df_CC_resp_counts)"
     ],
     "language": "python",
     "metadata": {},
     "outputs": [
      {
       "metadata": {},
       "output_type": "display_data",
       "text": [
        "              Rank2 NumSubs\n",
        "1     Acidobacteria       8\n",
        "2    Actinobacteria       9\n",
        "3   Armatimonadetes       2\n",
        "4     Bacteroidetes      20\n",
        "5       Chloroflexi      12\n",
        "6     Cyanobacteria       2\n",
        "7     Elusimicrobia       1\n",
        "8     Fibrobacteres       2\n",
        "9        Firmicutes       1\n",
        "10 Gemmatimonadetes       2\n",
        "11      Nitrospirae       1\n",
        "12   Planctomycetes      48\n",
        "13   Proteobacteria     105\n",
        "14  Verrucomicrobia      24\n"
       ]
      }
     ],
     "prompt_number": 36
    },
    {
     "cell_type": "heading",
     "level": 3,
     "metadata": {},
     "source": [
      "Treatment: 100"
     ]
    },
    {
     "cell_type": "code",
     "collapsed": false,
     "input": [
      "%%R\n",
      "FDR = 0.10\n",
      "df_100_resp = subset(df_all, (Treatment == \"13C100\")&(padj <= FDR))\n",
      "nrow (df_100_resp)"
     ],
     "language": "python",
     "metadata": {},
     "outputs": [
      {
       "metadata": {},
       "output_type": "display_data",
       "text": [
        "[1] 367\n"
       ]
      }
     ],
     "prompt_number": 24
    },
    {
     "cell_type": "code",
     "collapsed": false,
     "input": [
      "%%R\n",
      "df_100_resp_unique = subset(df_100_resp, !duplicated(OTU))\n",
      "nrow(df_100_resp_unique)"
     ],
     "language": "python",
     "metadata": {},
     "outputs": [
      {
       "metadata": {},
       "output_type": "display_data",
       "text": [
        "[1] 264\n"
       ]
      }
     ],
     "prompt_number": 25
    },
    {
     "cell_type": "code",
     "collapsed": false,
     "input": [
      "%%R\n",
      "C100_counts_perday = count(df_100_resp, vars = \"Day\")\n",
      "print (C100_counts_perday)"
     ],
     "language": "python",
     "metadata": {},
     "outputs": [
      {
       "metadata": {},
       "output_type": "display_data",
       "text": [
        "  Day freq\n",
        "1  14   51\n",
        "2  28  228\n",
        "3  45   88\n"
       ]
      }
     ],
     "prompt_number": 27
    },
    {
     "cell_type": "code",
     "collapsed": false,
     "input": [
      "%%R\n",
      "df_C100_resp_day14 = subset(df_100_resp, (Day == \"14\"))\n",
      "#print(df_xylose_resp_day1)\n",
      "df_C100_resp_day28 = subset(df_100_resp, (Day == \"28\"))\n",
      "#print(df_xylose_resp_day3)\n",
      "df_C100_resp_day45 = subset(df_100_resp, (Day == \"45\"))\n",
      "#print(df_xylose_resp_day7)"
     ],
     "language": "python",
     "metadata": {},
     "outputs": [],
     "prompt_number": 37
    },
    {
     "cell_type": "code",
     "collapsed": false,
     "input": [
      "%%R\n",
      "df_C100_resp_counts = ddply(df_C100_resp_day45, .(Rank2), summarize, NumSubs = length(unique(OTU)))\n",
      "print (df_C100_resp_counts)"
     ],
     "language": "python",
     "metadata": {},
     "outputs": [
      {
       "metadata": {},
       "output_type": "display_data",
       "text": [
        "            Rank2 NumSubs\n",
        "1   Acidobacteria       6\n",
        "2   Bacteroidetes      12\n",
        "3     Chloroflexi       7\n",
        "4   Cyanobacteria       1\n",
        "5  Planctomycetes      15\n",
        "6  Proteobacteria      37\n",
        "7 Verrucomicrobia      10\n"
       ]
      }
     ],
     "prompt_number": 40
    },
    {
     "cell_type": "heading",
     "level": 3,
     "metadata": {},
     "source": [
      "Treatment: 700"
     ]
    },
    {
     "cell_type": "code",
     "collapsed": false,
     "input": [
      "%%R\n",
      "FDR = 0.10\n",
      "df_700_resp = subset(df_all, (Treatment == \"13C700\")&(padj <= FDR))\n",
      "nrow (df_700_resp)"
     ],
     "language": "python",
     "metadata": {},
     "outputs": [
      {
       "metadata": {},
       "output_type": "display_data",
       "text": [
        "[1] 454\n"
       ]
      }
     ],
     "prompt_number": 28
    },
    {
     "cell_type": "code",
     "collapsed": false,
     "input": [
      "%%R\n",
      "df_700_resp_unique = subset(df_700_resp, !duplicated(OTU))\n",
      "nrow(df_700_resp_unique)"
     ],
     "language": "python",
     "metadata": {},
     "outputs": [
      {
       "metadata": {},
       "output_type": "display_data",
       "text": [
        "[1] 310\n"
       ]
      }
     ],
     "prompt_number": 29
    },
    {
     "cell_type": "code",
     "collapsed": false,
     "input": [
      "%%R\n",
      "C700_counts_perday = count(df_700_resp, vars = \"Day\")\n",
      "print (C700_counts_perday)"
     ],
     "language": "python",
     "metadata": {},
     "outputs": [
      {
       "metadata": {},
       "output_type": "display_data",
       "text": [
        "  Day freq\n",
        "1  14  193\n",
        "2  28  136\n",
        "3  45  125\n"
       ]
      }
     ],
     "prompt_number": 30
    },
    {
     "cell_type": "code",
     "collapsed": false,
     "input": [
      "%%R\n",
      "df_C700_resp_day14 = subset(df_700_resp, (Day == \"14\"))\n",
      "#print(df_xylose_resp_day1)\n",
      "df_C700_resp_day28 = subset(df_700_resp, (Day == \"28\"))\n",
      "#print(df_xylose_resp_day3)\n",
      "df_C700_resp_day45 = subset(df_700_resp, (Day == \"45\"))\n",
      "#print(df_xylose_resp_day7)"
     ],
     "language": "python",
     "metadata": {},
     "outputs": [],
     "prompt_number": 41
    },
    {
     "cell_type": "code",
     "collapsed": false,
     "input": [
      "%%R\n",
      "df_C700_resp_counts = ddply(df_C700_resp_day45, .(Rank2), summarize, NumSubs = length(unique(OTU)))\n",
      "print (df_C700_resp_counts)"
     ],
     "language": "python",
     "metadata": {},
     "outputs": [
      {
       "metadata": {},
       "output_type": "display_data",
       "text": [
        "             Rank2 NumSubs\n",
        "1    Acidobacteria       6\n",
        "2   Actinobacteria       2\n",
        "3  Armatimonadetes       3\n",
        "4    Bacteroidetes       9\n",
        "5      Chloroflexi       8\n",
        "6    Cyanobacteria       1\n",
        "7    Elusimicrobia       1\n",
        "8    Fibrobacteres       1\n",
        "9   Planctomycetes      24\n",
        "10  Proteobacteria      53\n",
        "11 Verrucomicrobia      16\n",
        "12            <NA>       1\n"
       ]
      }
     ],
     "prompt_number": 44
    }
   ],
   "metadata": {}
  }
 ]
}