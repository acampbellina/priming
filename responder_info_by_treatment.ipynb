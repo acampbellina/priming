{
 "cells": [
  {
   "cell_type": "code",
   "execution_count": 1,
   "metadata": {
    "collapsed": false
   },
   "outputs": [],
   "source": [
    "from IPython.display import FileLink"
   ]
  },
  {
   "cell_type": "code",
   "execution_count": 2,
   "metadata": {
    "collapsed": false
   },
   "outputs": [],
   "source": [
    "%load_ext rpy2.ipython"
   ]
  },
  {
   "cell_type": "code",
   "execution_count": 3,
   "metadata": {
    "collapsed": false
   },
   "outputs": [
    {
     "data": {
      "text/plain": [
       "Loading required package: S4Vectors\n",
       "Loading required package: stats4\n",
       "Loading required package: BiocGenerics\n",
       "Loading required package: parallel\n",
       "\n",
       "Attaching package: ‘BiocGenerics’\n",
       "\n",
       "The following objects are masked from ‘package:parallel’:\n",
       "\n",
       "    clusterApply, clusterApplyLB, clusterCall, clusterEvalQ,\n",
       "    clusterExport, clusterMap, parApply, parCapply, parLapply,\n",
       "    parLapplyLB, parRapply, parSapply, parSapplyLB\n",
       "\n",
       "The following object is masked from ‘package:stats’:\n",
       "\n",
       "    xtabs\n",
       "\n",
       "The following objects are masked from ‘package:base’:\n",
       "\n",
       "    anyDuplicated, append, as.data.frame, as.vector, cbind, colnames,\n",
       "    do.call, duplicated, eval, evalq, Filter, Find, get, intersect,\n",
       "    is.unsorted, lapply, Map, mapply, match, mget, order, paste, pmax,\n",
       "    pmax.int, pmin, pmin.int, Position, rank, rbind, Reduce, rep.int,\n",
       "    rownames, sapply, setdiff, sort, table, tapply, union, unique,\n",
       "    unlist, unsplit\n",
       "\n",
       "Loading required package: IRanges\n",
       "Loading required package: GenomicRanges\n",
       "Loading required package: GenomeInfoDb\n",
       "Loading required package: Rcpp\n",
       "Loading required package: RcppArmadillo\n",
       "\n",
       "Attaching package: ‘phyloseq’\n",
       "\n",
       "The following object is masked from ‘package:GenomicRanges’:\n",
       "\n",
       "    distance\n",
       "\n",
       "The following object is masked from ‘package:IRanges’:\n",
       "\n",
       "    distance\n",
       "\n",
       "\n",
       "Attaching package: ‘plyr’\n",
       "\n",
       "The following object is masked from ‘package:IRanges’:\n",
       "\n",
       "    desc\n",
       "\n",
       "The following object is masked from ‘package:S4Vectors’:\n",
       "\n",
       "    rename\n",
       "\n",
       "\n",
       "Attaching package: ‘dplyr’\n",
       "\n",
       "The following objects are masked from ‘package:plyr’:\n",
       "\n",
       "    arrange, count, desc, failwith, id, mutate, rename, summarise,\n",
       "    summarize\n",
       "\n",
       "The following objects are masked from ‘package:GenomicRanges’:\n",
       "\n",
       "    intersect, setdiff, union\n",
       "\n",
       "The following object is masked from ‘package:GenomeInfoDb’:\n",
       "\n",
       "    intersect\n",
       "\n",
       "The following objects are masked from ‘package:IRanges’:\n",
       "\n",
       "    collapse, desc, intersect, setdiff, slice, union\n",
       "\n",
       "The following object is masked from ‘package:S4Vectors’:\n",
       "\n",
       "    rename\n",
       "\n",
       "The following objects are masked from ‘package:BiocGenerics’:\n",
       "\n",
       "    combine, intersect, setdiff, union\n",
       "\n",
       "The following object is masked from ‘package:stats’:\n",
       "\n",
       "    filter\n",
       "\n",
       "The following objects are masked from ‘package:base’:\n",
       "\n",
       "    intersect, setdiff, setequal, union\n",
       "\n",
       "Loading required package: foreach\n",
       "foreach: simple, scalable parallel programming from Revolution Analytics\n",
       "Use Revolution R for scalability, fault tolerance and more.\n",
       "http://www.revolutionanalytics.com\n",
       "Loading required package: iterators\n",
       "\n",
       "Attaching package: ‘reshape’\n",
       "\n",
       "The following object is masked from ‘package:dplyr’:\n",
       "\n",
       "    rename\n",
       "\n",
       "The following objects are masked from ‘package:plyr’:\n",
       "\n",
       "    rename, round_any\n",
       "\n",
       "The following object is masked from ‘package:IRanges’:\n",
       "\n",
       "    expand\n",
       "\n",
       "The following object is masked from ‘package:S4Vectors’:\n",
       "\n",
       "    rename\n",
       "\n",
       "Loading required package: grid\n",
       "data.table 1.9.4  For help type: ?data.table\n",
       "*** NB: by=.EACHI is now explicit. See README to restore previous behaviour.\n",
       "\n",
       "Attaching package: ‘data.table’\n",
       "\n",
       "The following objects are masked from ‘package:dplyr’:\n",
       "\n",
       "    between, last\n",
       "\n",
       "\n",
       "Attaching package: ‘compare’\n",
       "\n",
       "The following object is masked from ‘package:GenomicRanges’:\n",
       "\n",
       "    compare\n",
       "\n",
       "The following object is masked from ‘package:IRanges’:\n",
       "\n",
       "    compare\n",
       "\n",
       "The following object is masked from ‘package:S4Vectors’:\n",
       "\n",
       "    compare\n",
       "\n",
       "The following object is masked from ‘package:base’:\n",
       "\n",
       "    isTRUE\n",
       "\n",
       "Loading required package: mvtnorm\n",
       "Loading required package: VGAM\n",
       "Loading required package: splines\n",
       "\n",
       "Attaching package: ‘VGAM’\n",
       "\n",
       "The following object is masked from ‘package:DESeq2’:\n",
       "\n",
       "    rlog\n",
       "\n"
      ]
     },
     "metadata": {},
     "output_type": "display_data"
    }
   ],
   "source": [
    "%%R\n",
    "library(DESeq2)\n",
    "library(phyloseq)\n",
    "library(plyr); library(dplyr)\n",
    "library(ggplot2)\n",
    "library(doParallel)\n",
    "library(foreach)\n",
    "library(reshape)\n",
    "library(RColorBrewer)\n",
    "library(gridExtra)\n",
    "library(stats)\n",
    "library(data.table)\n",
    "library(compare, lib.loc=\"/home/ashley/R/x86_64-pc-linux-gnu-library/3.1/\")\n",
    "library(lawstat, lib.loc=\"/home/ashley/R/x86_64-pc-linux-gnu-library/3.1/\")"
   ]
  },
  {
   "cell_type": "markdown",
   "metadata": {},
   "source": [
    "###This is the file from the [Sparsity Notebook](./Sparsity_make_l2fc_table.ipynb)."
   ]
  },
  {
   "cell_type": "code",
   "execution_count": 4,
   "metadata": {
    "collapsed": false
   },
   "outputs": [
    {
     "data": {
      "text/plain": [
       "  sparsity_threshold Day Treatment       OTU log2FoldChange         p    Rank1\n",
       "1               0.25  14    13C000  OTU.4204    -0.20553170 1.0000000 Bacteria\n",
       "2               0.25  14    13C000   OTU.467    -0.33054855 1.0000000 Bacteria\n",
       "3               0.25  14    13C000   OTU.905     0.01698885 0.9827594 Bacteria\n",
       "4               0.25  14    13C000  OTU.7253     0.02799601 0.9772968 Bacteria\n",
       "5               0.25  14    13C000    OTU.67    -0.60115954 1.0000000 Bacteria\n",
       "6               0.25  14    13C000 OTU.10580     0.36193427 0.7248674 Bacteria\n",
       "          Rank2 Rank3                Rank4 Rank5 Rank6 Rank7 Rank8 padj\n",
       "1 Acidobacteria DA023                 <NA>  <NA>  <NA>  <NA>  <NA>    1\n",
       "2 Acidobacteria DA023 uncultured_bacterium  <NA>  <NA>  <NA>  <NA>    1\n",
       "3 Acidobacteria DA023 uncultured_bacterium  <NA>  <NA>  <NA>  <NA>    1\n",
       "4 Acidobacteria DA023 uncultured_bacterium  <NA>  <NA>  <NA>  <NA>    1\n",
       "5 Acidobacteria DA023 uncultured_bacterium  <NA>  <NA>  <NA>  <NA>    1\n",
       "6 Acidobacteria DA023                 <NA>  <NA>  <NA>  <NA>  <NA>    1\n"
      ]
     },
     "metadata": {},
     "output_type": "display_data"
    }
   ],
   "source": [
    "%%R\n",
    "df_all = read.csv(\"/var/seq_data/priming_exp/data/l2fc_table.csv\")\n",
    "head(df_all)"
   ]
  },
  {
   "cell_type": "code",
   "execution_count": 5,
   "metadata": {
    "collapsed": false
   },
   "outputs": [
    {
     "data": {
      "text/plain": [
       "[1] 28471\n"
      ]
     },
     "metadata": {},
     "output_type": "display_data"
    }
   ],
   "source": [
    "%%R\n",
    "nrow (df_all)"
   ]
  },
  {
   "cell_type": "markdown",
   "metadata": {},
   "source": [
    "### Treatment: CC"
   ]
  },
  {
   "cell_type": "code",
   "execution_count": 6,
   "metadata": {
    "collapsed": false
   },
   "outputs": [
    {
     "data": {
      "text/plain": [
       "    sparsity_threshold Day Treatment       OTU log2FoldChange            p\n",
       "134               0.25  14    13C000  OTU.7337       2.477516 0.0018908765\n",
       "251               0.25  14    13C000   OTU.950       3.497786 0.0021470637\n",
       "252               0.25  14    13C000 OTU.11380       5.169283 0.0002911960\n",
       "263               0.25  14    13C000  OTU.5228       2.654885 0.0002285059\n",
       "269               0.25  14    13C000   OTU.903       3.807659 0.0015749699\n",
       "270               0.25  14    13C000   OTU.752       4.813177 0.0002952637\n",
       "       Rank1           Rank2            Rank3              Rank4\n",
       "134 Bacteria   Acidobacteria       Holophagae             iii1-8\n",
       "251 Bacteria Verrucomicrobia Verrucomicrobiae Verrucomicrobiales\n",
       "252 Bacteria Verrucomicrobia Verrucomicrobiae Verrucomicrobiales\n",
       "263 Bacteria Verrucomicrobia Verrucomicrobiae Verrucomicrobiales\n",
       "269 Bacteria Verrucomicrobia Verrucomicrobiae Verrucomicrobiales\n",
       "270 Bacteria Verrucomicrobia   Spartobacteria Chthoniobacterales\n",
       "                   Rank5           Rank6                Rank7 Rank8        padj\n",
       "134 uncultured_bacterium            <NA>                 <NA>  <NA> 0.046611977\n",
       "251  Verrucomicrobiaceae Prosthecobacter                 <NA>  <NA> 0.051032476\n",
       "252  Verrucomicrobiaceae Prosthecobacter                 <NA>  <NA> 0.011068783\n",
       "263  Verrucomicrobiaceae      uncultured uncultured_bacterium  <NA> 0.009030517\n",
       "269  Verrucomicrobiaceae      Haloferula                 <NA>  <NA> 0.040930855\n",
       "270                 <NA>            <NA>                 <NA>  <NA> 0.011180728\n"
      ]
     },
     "metadata": {},
     "output_type": "display_data"
    }
   ],
   "source": [
    "%%R\n",
    "FDR = 0.10\n",
    "df_CC_resp = subset(df_all, (Treatment == \"13C000\")&(padj <= FDR))\n",
    "head(df_CC_resp)"
   ]
  },
  {
   "cell_type": "code",
   "execution_count": 7,
   "metadata": {
    "collapsed": false
   },
   "outputs": [
    {
     "data": {
      "text/plain": [
       "Source: local data frame [35 x 4]\n",
       "Groups: Day, Rank2\n",
       "\n",
       "   Day                   Rank2 Treatment Counts\n",
       "1   14           Acidobacteria    13C000      4\n",
       "2   14          Actinobacteria    13C000      2\n",
       "3   14         Armatimonadetes    13C000      4\n",
       "4   14           Bacteroidetes    13C000     39\n",
       "5   14 Candidate_division_BRC1    13C000      1\n",
       "6   14                Chlorobi    13C000      2\n",
       "7   14             Chloroflexi    13C000     11\n",
       "8   14           Cyanobacteria    13C000      1\n",
       "9   14             Nitrospirae    13C000      1\n",
       "10  14          Planctomycetes    13C000     11\n",
       ".. ...                     ...       ...    ...\n"
      ]
     },
     "metadata": {},
     "output_type": "display_data"
    }
   ],
   "source": [
    "%%R\n",
    "phy.sum.day.CC = df_CC_resp %>%\n",
    "    select(OTU, Day, Treatment, Rank2, Rank3) %>%\n",
    "    group_by(Day, Rank2, Treatment) %>%\n",
    "    summarize(Counts = n()) %>%\n",
    "    arrange(desc(Counts)) \n",
    "    \n",
    "phy.sum.day.CC"
   ]
  },
  {
   "cell_type": "code",
   "execution_count": 8,
   "metadata": {
    "collapsed": false
   },
   "outputs": [
    {
     "data": {
      "text/plain": [
       "[1] 369\n"
      ]
     },
     "metadata": {},
     "output_type": "display_data"
    }
   ],
   "source": [
    "%%R\n",
    "df_CC_resp_unique = subset(df_CC_resp, !duplicated(OTU))\n",
    "nrow(df_CC_resp_unique)"
   ]
  },
  {
   "cell_type": "code",
   "execution_count": 9,
   "metadata": {
    "collapsed": false
   },
   "outputs": [
    {
     "data": {
      "text/plain": [
       "Source: local data frame [35 x 5]\n",
       "Groups: Day\n",
       "\n",
       "   Treatment                   Rank2 Day  n pct.wi.day\n",
       "1     13C000           Acidobacteria  14  4  2.2857143\n",
       "2     13C000          Actinobacteria  14  2  1.1428571\n",
       "3     13C000         Armatimonadetes  14  4  2.2857143\n",
       "4     13C000           Bacteroidetes  14 39 22.2857143\n",
       "5     13C000 Candidate_division_BRC1  14  1  0.5714286\n",
       "6     13C000                Chlorobi  14  2  1.1428571\n",
       "7     13C000             Chloroflexi  14 11  6.2857143\n",
       "8     13C000           Cyanobacteria  14  1  0.5714286\n",
       "9     13C000             Nitrospirae  14  1  0.5714286\n",
       "10    13C000          Planctomycetes  14 11  6.2857143\n",
       "..       ...                     ... ... ..        ...\n"
      ]
     },
     "metadata": {},
     "output_type": "display_data"
    }
   ],
   "source": [
    "%%R\n",
    "CC_counts_perday = df_CC_resp %>%\n",
    "    group_by(Treatment, Rank2, Day) %>%\n",
    "    summarise (n = n()) %>%\n",
    "    group_by(Day) %>%\n",
    "    mutate(pct.wi.day = (100*(n / sum(n)))) %>%\n",
    "    arrange(Day)\n",
    "    \n",
    "print (CC_counts_perday)"
   ]
  },
  {
   "cell_type": "code",
   "execution_count": 10,
   "metadata": {
    "collapsed": false
   },
   "outputs": [],
   "source": [
    "%%R\n",
    "df_CC_resp_day14 = subset(df_CC_resp, (Day == \"14\"))\n",
    "#print(df_xylose_resp_day1)\n",
    "df_CC_resp_day28 = subset(df_CC_resp, (Day == \"28\"))\n",
    "#print(df_xylose_resp_day3)\n",
    "df_CC_resp_day45 = subset(df_CC_resp, (Day == \"45\"))\n",
    "#print(df_xylose_resp_day7)\n"
   ]
  },
  {
   "cell_type": "code",
   "execution_count": 11,
   "metadata": {
    "collapsed": false
   },
   "outputs": [
    {
     "data": {
      "text/plain": [
       "                    Rank2 NumSubs\n",
       "1           Acidobacteria       5\n",
       "2          Actinobacteria       7\n",
       "3         Armatimonadetes       2\n",
       "4           Bacteroidetes      18\n",
       "5                   BD1-5       2\n",
       "6  Candidate_division_OD1       1\n",
       "7                Chlorobi       1\n",
       "8             Chloroflexi      15\n",
       "9           Cyanobacteria       2\n",
       "10          Elusimicrobia       3\n",
       "11          Fibrobacteres       2\n",
       "12       Gemmatimonadetes       1\n",
       "13         Planctomycetes      51\n",
       "14         Proteobacteria     120\n",
       "15        Verrucomicrobia      29\n"
      ]
     },
     "metadata": {},
     "output_type": "display_data"
    }
   ],
   "source": [
    "%%R\n",
    "df_CC_resp_counts = ddply(df_CC_resp_day45, .(Rank2), summarize, NumSubs = length(unique(OTU)))\n",
    "print (df_CC_resp_counts)"
   ]
  },
  {
   "cell_type": "markdown",
   "metadata": {},
   "source": [
    "### Treatment: 100"
   ]
  },
  {
   "cell_type": "code",
   "execution_count": 12,
   "metadata": {
    "collapsed": false
   },
   "outputs": [
    {
     "data": {
      "text/plain": [
       "[1] 416\n"
      ]
     },
     "metadata": {},
     "output_type": "display_data"
    }
   ],
   "source": [
    "%%R\n",
    "FDR = 0.10\n",
    "df_100_resp = subset(df_all, (Treatment == \"13C100\")&(padj <= FDR))\n",
    "nrow(df_100_resp)"
   ]
  },
  {
   "cell_type": "code",
   "execution_count": 13,
   "metadata": {
    "collapsed": false
   },
   "outputs": [
    {
     "data": {
      "text/plain": [
       "Source: local data frame [32 x 4]\n",
       "Groups: Day, Rank2\n",
       "\n",
       "   Day                   Rank2 Treatment Counts\n",
       "1   14          Actinobacteria    13C100      3\n",
       "2   14           Bacteroidetes    13C100     10\n",
       "3   14 Candidate_division_BRC1    13C100      2\n",
       "4   14                Chlorobi    13C100      1\n",
       "5   14             Chloroflexi    13C100      7\n",
       "6   14           Cyanobacteria    13C100      2\n",
       "7   14          Planctomycetes    13C100     11\n",
       "8   14          Proteobacteria    13C100     69\n",
       "9   14         Verrucomicrobia    13C100      3\n",
       "10  28           Acidobacteria    13C100      4\n",
       ".. ...                     ...       ...    ...\n"
      ]
     },
     "metadata": {},
     "output_type": "display_data"
    }
   ],
   "source": [
    "%%R\n",
    "phy.sum.day.C100 = df_100_resp %>%\n",
    "    select(OTU, Day, Treatment, Rank2, Rank3) %>%\n",
    "    group_by(Day, Rank2, Treatment) %>%\n",
    "    summarize(Counts = n()) %>%\n",
    "    arrange(desc(Counts)) \n",
    "    \n",
    "phy.sum.day.C100"
   ]
  },
  {
   "cell_type": "code",
   "execution_count": 14,
   "metadata": {
    "collapsed": false
   },
   "outputs": [
    {
     "data": {
      "text/plain": [
       "[1] 273\n"
      ]
     },
     "metadata": {},
     "output_type": "display_data"
    }
   ],
   "source": [
    "%%R\n",
    "df_100_resp_unique = subset(df_100_resp, !duplicated(OTU))\n",
    "nrow(df_100_resp_unique)"
   ]
  },
  {
   "cell_type": "code",
   "execution_count": 15,
   "metadata": {
    "collapsed": false
   },
   "outputs": [
    {
     "data": {
      "text/plain": [
       "Source: local data frame [32 x 5]\n",
       "Groups: Day\n",
       "\n",
       "   Treatment                   Rank2 Day  n pct.wi.day\n",
       "1     13C100          Actinobacteria  14  3  2.7777778\n",
       "2     13C100           Bacteroidetes  14 10  9.2592593\n",
       "3     13C100 Candidate_division_BRC1  14  2  1.8518519\n",
       "4     13C100                Chlorobi  14  1  0.9259259\n",
       "5     13C100             Chloroflexi  14  7  6.4814815\n",
       "6     13C100           Cyanobacteria  14  2  1.8518519\n",
       "7     13C100          Planctomycetes  14 11 10.1851852\n",
       "8     13C100          Proteobacteria  14 69 63.8888889\n",
       "9     13C100         Verrucomicrobia  14  3  2.7777778\n",
       "10    13C100           Acidobacteria  28  4  2.3121387\n",
       "..       ...                     ... ... ..        ...\n"
      ]
     },
     "metadata": {},
     "output_type": "display_data"
    }
   ],
   "source": [
    "%%R\n",
    "C100_counts_perday = df_100_resp %>%\n",
    "    group_by(Treatment, Rank2, Day) %>%\n",
    "    summarise (n = n()) %>%\n",
    "    group_by(Day) %>%\n",
    "    mutate(pct.wi.day = (100*(n / sum(n)))) %>%\n",
    "    arrange(Day)\n",
    "print (C100_counts_perday)"
   ]
  },
  {
   "cell_type": "code",
   "execution_count": 16,
   "metadata": {
    "collapsed": false
   },
   "outputs": [],
   "source": [
    "%%R\n",
    "df_C100_resp_day14 = subset(df_100_resp, (Day == \"14\"))\n",
    "#print(df_xylose_resp_day1)\n",
    "df_C100_resp_day28 = subset(df_100_resp, (Day == \"28\"))\n",
    "#print(df_xylose_resp_day3)\n",
    "df_C100_resp_day45 = subset(df_100_resp, (Day == \"45\"))\n",
    "#print(df_xylose_resp_day7)"
   ]
  },
  {
   "cell_type": "code",
   "execution_count": 17,
   "metadata": {
    "collapsed": false
   },
   "outputs": [
    {
     "data": {
      "text/plain": [
       "             Rank2 NumSubs\n",
       "1    Acidobacteria       6\n",
       "2   Actinobacteria       1\n",
       "3    Bacteroidetes      19\n",
       "4            BD1-5       1\n",
       "5         Chlorobi       1\n",
       "6      Chloroflexi       7\n",
       "7    Cyanobacteria       2\n",
       "8    Fibrobacteres       1\n",
       "9   Planctomycetes      20\n",
       "10  Proteobacteria      59\n",
       "11 Verrucomicrobia      18\n"
      ]
     },
     "metadata": {},
     "output_type": "display_data"
    }
   ],
   "source": [
    "%%R\n",
    "df_C100_resp_counts = ddply(df_C100_resp_day45, .(Rank2), summarize, NumSubs = length(unique(OTU)))\n",
    "print (df_C100_resp_counts)"
   ]
  },
  {
   "cell_type": "markdown",
   "metadata": {},
   "source": [
    "### Treatment: 700"
   ]
  },
  {
   "cell_type": "code",
   "execution_count": 18,
   "metadata": {
    "collapsed": false
   },
   "outputs": [
    {
     "data": {
      "text/plain": [
       "[1] 524\n"
      ]
     },
     "metadata": {},
     "output_type": "display_data"
    }
   ],
   "source": [
    "%%R\n",
    "FDR = 0.10\n",
    "df_700_resp = subset(df_all, (Treatment == \"13C700\")&(padj <= FDR))\n",
    "nrow (df_700_resp)"
   ]
  },
  {
   "cell_type": "code",
   "execution_count": 19,
   "metadata": {
    "collapsed": false
   },
   "outputs": [
    {
     "data": {
      "text/plain": [
       "Source: local data frame [36 x 4]\n",
       "Groups: Day, Rank2\n",
       "\n",
       "   Day                   Rank2 Treatment Counts\n",
       "1   14           Acidobacteria    13C700      4\n",
       "2   14          Actinobacteria    13C700      1\n",
       "3   14         Armatimonadetes    13C700      3\n",
       "4   14           Bacteroidetes    13C700     94\n",
       "5   14 Candidate_division_BRC1    13C700      1\n",
       "6   14  Candidate_division_WS3    13C700      3\n",
       "7   14                Chlorobi    13C700      1\n",
       "8   14             Chloroflexi    13C700     11\n",
       "9   14          Planctomycetes    13C700     18\n",
       "10  14          Proteobacteria    13C700    102\n",
       ".. ...                     ...       ...    ...\n"
      ]
     },
     "metadata": {},
     "output_type": "display_data"
    }
   ],
   "source": [
    "%%R\n",
    "phy.sum.day.C700 = df_700_resp %>%\n",
    "    select(OTU, Day, Treatment, Rank2, Rank3) %>%\n",
    "    group_by(Day, Rank2, Treatment) %>%\n",
    "    summarize(Counts = n()) %>%\n",
    "    arrange(desc(Counts)) \n",
    "    \n",
    "phy.sum.day.C700"
   ]
  },
  {
   "cell_type": "code",
   "execution_count": 20,
   "metadata": {
    "collapsed": false
   },
   "outputs": [
    {
     "data": {
      "text/plain": [
       "[1] 358\n"
      ]
     },
     "metadata": {},
     "output_type": "display_data"
    }
   ],
   "source": [
    "%%R\n",
    "df_700_resp_unique = subset(df_700_resp, !duplicated(OTU))\n",
    "nrow(df_700_resp_unique)"
   ]
  },
  {
   "cell_type": "code",
   "execution_count": 21,
   "metadata": {
    "collapsed": false
   },
   "outputs": [
    {
     "data": {
      "text/plain": [
       "Source: local data frame [36 x 5]\n",
       "Groups: Day\n",
       "\n",
       "   Treatment                   Rank2 Day   n pct.wi.day\n",
       "1     13C700           Acidobacteria  14   4  1.6064257\n",
       "2     13C700          Actinobacteria  14   1  0.4016064\n",
       "3     13C700         Armatimonadetes  14   3  1.2048193\n",
       "4     13C700           Bacteroidetes  14  94 37.7510040\n",
       "5     13C700 Candidate_division_BRC1  14   1  0.4016064\n",
       "6     13C700  Candidate_division_WS3  14   3  1.2048193\n",
       "7     13C700                Chlorobi  14   1  0.4016064\n",
       "8     13C700             Chloroflexi  14  11  4.4176707\n",
       "9     13C700          Planctomycetes  14  18  7.2289157\n",
       "10    13C700          Proteobacteria  14 102 40.9638554\n",
       "..       ...                     ... ... ...        ...\n"
      ]
     },
     "metadata": {},
     "output_type": "display_data"
    }
   ],
   "source": [
    "%%R\n",
    "C700_counts_perday = df_700_resp %>%\n",
    "    group_by(Treatment, Rank2, Day) %>%\n",
    "    summarise (n = n()) %>%\n",
    "    group_by(Day) %>%\n",
    "    mutate(pct.wi.day = (100*(n / sum(n)))) %>%\n",
    "    arrange(Day)\n",
    "\n",
    "print (C700_counts_perday)"
   ]
  },
  {
   "cell_type": "code",
   "execution_count": 22,
   "metadata": {
    "collapsed": false
   },
   "outputs": [],
   "source": [
    "%%R\n",
    "df_C700_resp_day14 = subset(df_700_resp, (Day == \"14\"))\n",
    "#print(df_xylose_resp_day1)\n",
    "df_C700_resp_day28 = subset(df_700_resp, (Day == \"28\"))\n",
    "#print(df_xylose_resp_day3)\n",
    "df_C700_resp_day45 = subset(df_700_resp, (Day == \"45\"))\n",
    "#print(df_xylose_resp_day7)"
   ]
  },
  {
   "cell_type": "code",
   "execution_count": 23,
   "metadata": {
    "collapsed": false
   },
   "outputs": [
    {
     "data": {
      "text/plain": [
       "                     Rank2 NumSubs\n",
       "1            Acidobacteria       8\n",
       "2           Actinobacteria       2\n",
       "3          Armatimonadetes       3\n",
       "4            Bacteroidetes      11\n",
       "5  Candidate_division_OP11       1\n",
       "6                 Chlorobi       1\n",
       "7              Chloroflexi      11\n",
       "8            Cyanobacteria       2\n",
       "9            Elusimicrobia       1\n",
       "10           Fibrobacteres       2\n",
       "11              Firmicutes       1\n",
       "12          Planctomycetes      20\n",
       "13          Proteobacteria      64\n",
       "14         Verrucomicrobia      19\n",
       "15                    <NA>       1\n"
      ]
     },
     "metadata": {},
     "output_type": "display_data"
    }
   ],
   "source": [
    "%%R\n",
    "df_C700_resp_counts = ddply(df_C700_resp_day45, .(Rank2), summarize, NumSubs = length(unique(OTU)))\n",
    "print (df_C700_resp_counts)"
   ]
  },
  {
   "cell_type": "code",
   "execution_count": 24,
   "metadata": {
    "collapsed": false
   },
   "outputs": [
    {
     "data": {
      "text/plain": [
       "Source: local data frame [103 x 4]\n",
       "Groups: Day, Rank2\n",
       "\n",
       "   Day                   Rank2 Treatment Counts\n",
       "1   14           Acidobacteria    13C000      4\n",
       "2   14          Actinobacteria    13C000      2\n",
       "3   14         Armatimonadetes    13C000      4\n",
       "4   14           Bacteroidetes    13C000     39\n",
       "5   14 Candidate_division_BRC1    13C000      1\n",
       "6   14                Chlorobi    13C000      2\n",
       "7   14             Chloroflexi    13C000     11\n",
       "8   14           Cyanobacteria    13C000      1\n",
       "9   14             Nitrospirae    13C000      1\n",
       "10  14          Planctomycetes    13C000     11\n",
       ".. ...                     ...       ...    ...\n"
      ]
     },
     "metadata": {},
     "output_type": "display_data"
    }
   ],
   "source": [
    "%%R\n",
    "phy.counts = rbind(phy.sum.day.CC, phy.sum.day.C100, phy.sum.day.C700)\n",
    "phy.counts"
   ]
  },
  {
   "cell_type": "code",
   "execution_count": 25,
   "metadata": {
    "collapsed": true
   },
   "outputs": [],
   "source": [
    "%%R\n",
    "\n",
    "write.table(phy.counts, \n",
    "            file = \"data/phy_counts.csv\",\n",
    "            row.names = FALSE,\n",
    "            sep = \",\")"
   ]
  },
  {
   "cell_type": "code",
   "execution_count": 26,
   "metadata": {
    "collapsed": false
   },
   "outputs": [
    {
     "data": {
      "text/plain": [
       "Source: local data frame [103 x 5]\n",
       "Groups: Day\n",
       "\n",
       "   Treatment                   Rank2 Day  n pct.wi.day\n",
       "1     13C000           Acidobacteria  14  4  2.2857143\n",
       "2     13C000          Actinobacteria  14  2  1.1428571\n",
       "3     13C000         Armatimonadetes  14  4  2.2857143\n",
       "4     13C000           Bacteroidetes  14 39 22.2857143\n",
       "5     13C000 Candidate_division_BRC1  14  1  0.5714286\n",
       "6     13C000                Chlorobi  14  2  1.1428571\n",
       "7     13C000             Chloroflexi  14 11  6.2857143\n",
       "8     13C000           Cyanobacteria  14  1  0.5714286\n",
       "9     13C000             Nitrospirae  14  1  0.5714286\n",
       "10    13C000          Planctomycetes  14 11  6.2857143\n",
       "..       ...                     ... ... ..        ...\n"
      ]
     },
     "metadata": {},
     "output_type": "display_data"
    }
   ],
   "source": [
    "%%R\n",
    "phy.counts.pct = rbind(CC_counts_perday, C700_counts_perday, C100_counts_perday)\n",
    "phy.counts.pct"
   ]
  },
  {
   "cell_type": "code",
   "execution_count": 27,
   "metadata": {
    "collapsed": true
   },
   "outputs": [],
   "source": [
    "%%R\n",
    "\n",
    "write.table(phy.counts.pct, \n",
    "            file = \"data/phy_counts_pct.csv\",\n",
    "            row.names = FALSE,\n",
    "            sep = \",\")"
   ]
  }
 ],
 "metadata": {
  "kernelspec": {
   "display_name": "Python 2",
   "language": "python",
   "name": "python2"
  },
  "language_info": {
   "codemirror_mode": {
    "name": "ipython",
    "version": 2
   },
   "file_extension": ".py",
   "mimetype": "text/x-python",
   "name": "python",
   "nbconvert_exporter": "python",
   "pygments_lexer": "ipython2",
   "version": "2.7.9"
  }
 },
 "nbformat": 4,
 "nbformat_minor": 0
}
