{
 "metadata": {
  "name": "",
  "signature": "sha256:2b408806e9e330971e35900e6e9df0687dcad45423ff681566a62e2780065531"
 },
 "nbformat": 3,
 "nbformat_minor": 0,
 "worksheets": [
  {
   "cells": [
    {
     "cell_type": "heading",
     "level": 2,
     "metadata": {},
     "source": [
      "This is for seq1 files"
     ]
    },
    {
     "cell_type": "code",
     "collapsed": false,
     "input": [
      "!wget -q -c -O /var/seq_data/priming_exp/RawData/Seq1/seq1_read1.fastq.gz \\\n",
      "\"http://cbsuapps.tc.cornell.edu/Sequencing/showseqfile.aspx?mode=http&cntrl=912513546&refid=19200\"\n",
      "#for downloading first of 4 files received from sequencing\n",
      "\n",
      "!wget -q -c -O /var/seq_data/priming_exp/RawData/Seq1/seq1_read2.fastq.gz \\\n",
      "\"http://cbsuapps.tc.cornell.edu/Sequencing/showseqfile.aspx?mode=http&cntrl=78931238&refid=19201\"\n",
      "\n",
      "!wget -q -c -O /var/seq_data/priming_exp/RawData/Seq1/seq1_index_read1.fastq.gz \\\n",
      "\"http://cbsuapps.tc.cornell.edu/Sequencing/showseqfile.aspx?mode=http&cntrl=537040518&refid=19202\"\n",
      "\n",
      "!wget -q -c -O /var/seq_data/priming_exp/RawData/Seq1/seq1_index_read2.fastq.gz \\\n",
      "\"http://cbsuapps.tc.cornell.edu/Sequencing/showseqfile.aspx?mode=http&cntrl=1502054472&refid=19203\""
     ],
     "language": "python",
     "metadata": {},
     "outputs": [],
     "prompt_number": 1
    },
    {
     "cell_type": "heading",
     "level": 2,
     "metadata": {},
     "source": [
      "This is for seq2 files"
     ]
    },
    {
     "cell_type": "code",
     "collapsed": false,
     "input": [
      "!wget -q -c -O /var/seq_data/priming_exp/RawData/Seq2/seq2_read1.fastq.gz \\\n",
      "\"http://cbsuapps.tc.cornell.edu/Sequencing/showseqfile.aspx?mode=http&cntrl=251666516&refid=19034\"\n",
      "\n",
      "!wget -q -c -O /var/seq_data/priming_exp/RawData/Seq2/seq2_read2.fastq.gz \\\n",
      "\"http://cbsuapps.tc.cornell.edu/Sequencing/showseqfile.aspx?mode=http&cntrl=775793282&refid=19035\"\n",
      "\n",
      "!wget -q -c -O /var/seq_data/priming_exp/RawData/Seq2/seq2_index_read1.fastq.gz \\\n",
      "\"http://cbsuapps.tc.cornell.edu/Sequencing/showseqfile.aspx?mode=http&cntrl=363815222&refid=19036\"\n",
      "\n",
      "!wget -q -c -O /var/seq_data/priming_exp/RawData/Seq2/seq2_index_read2.fastq.gz \\\n",
      "\"http://cbsuapps.tc.cornell.edu/Sequencing/showseqfile.aspx?mode=http&cntrl=1204510407&refid=19037\""
     ],
     "language": "python",
     "metadata": {},
     "outputs": [],
     "prompt_number": 1
    },
    {
     "cell_type": "heading",
     "level": 2,
     "metadata": {},
     "source": [
      "This is for seq3 files"
     ]
    },
    {
     "cell_type": "code",
     "collapsed": false,
     "input": [
      "!wget -q -c -O /var/seq_data/priming_exp/RawData/Seq3/seq3_read1.fastq.gz \\\n",
      "\"http://cbsuapps.tc.cornell.edu/Sequencing/showseqfile.aspx?mode=http&cntrl=1352679370&refid=19056\"\n",
      "\n",
      "!wget -q -c -O /var/seq_data/priming_exp/RawData/Seq3/seq3_read2.fastq.gz \\\n",
      "\"http://cbsuapps.tc.cornell.edu/Sequencing/showseqfile.aspx?mode=http&cntrl=506250820&refid=19057\"\n",
      "\n",
      "!wget -q -c -O /var/seq_data/priming_exp/RawData/Seq3/seq3_index_read1.fastq.gz \\\n",
      "\"http://cbsuapps.tc.cornell.edu/Sequencing/showseqfile.aspx?mode=http&cntrl=536175111&refid=19058\"\n",
      "\n",
      "!wget -q -c -O /var/seq_data/priming_exp/RawData/Seq3/seq3_index_read2.fastq.gz \\\n",
      "\"http://cbsuapps.tc.cornell.edu/Sequencing/showseqfile.aspx?mode=http&cntrl=1970790482&refid=19059\""
     ],
     "language": "python",
     "metadata": {},
     "outputs": [],
     "prompt_number": 1
    },
    {
     "cell_type": "heading",
     "level": 2,
     "metadata": {},
     "source": [
      "This is for seq4 files"
     ]
    },
    {
     "cell_type": "code",
     "collapsed": false,
     "input": [
      "!wget -q -c -O /var/seq_data/priming_exp/RawData/Seq4/seq4_read1.fastq.gz \\\n",
      "\"http://cbsuapps.tc.cornell.edu/Sequencing/showseqfile.aspx?mode=http&cntrl=1891826663&refid=19060\"\n",
      "\n",
      "!wget -q -c -O /var/seq_data/priming_exp/RawData/Seq4/seq4_read2.fastq.gz \\\n",
      "\"http://cbsuapps.tc.cornell.edu/Sequencing/showseqfile.aspx?mode=http&cntrl=2123769088&refid=19061\"\n",
      "\n",
      "!wget -q -c -O /var/seq_data/priming_exp/RawData/Seq4/seq4_index_read1.fastq.gz \\\n",
      "\"http://cbsuapps.tc.cornell.edu/Sequencing/showseqfile.aspx?mode=http&cntrl=1348293164&refid=19062\"\n",
      "\n",
      "!wget -q -c -O /var/seq_data/priming_exp/RawData/Seq4/seq4_index_read2.fastq.gz \\\n",
      "\"http://cbsuapps.tc.cornell.edu/Sequencing/showseqfile.aspx?mode=http&cntrl=884751951&refid=19077\""
     ],
     "language": "python",
     "metadata": {},
     "outputs": [],
     "prompt_number": 2
    },
    {
     "cell_type": "heading",
     "level": 2,
     "metadata": {},
     "source": [
      "This is for seq5 files"
     ]
    },
    {
     "cell_type": "code",
     "collapsed": false,
     "input": [
      "!wget -q -c -O /var/seq_data/priming_exp/RawData/Seq5/seq5_read1.fastq.gz \\\n",
      "\"http://cbsuapps.tc.cornell.edu/Sequencing/showseqfile.aspx?mode=http&cntrl=875882480&refid=20219\"\n",
      "\n",
      "!wget -q -c -O /var/seq_data/priming_exp/RawData/Seq5/seq5_read2.fastq.gz \\\n",
      "\"http://cbsuapps.tc.cornell.edu/Sequencing/showseqfile.aspx?mode=http&cntrl=938440977&refid=20220\"\n",
      "\n",
      "!wget -q -c -O /var/seq_data/priming_exp/RawData/Seq5/seq5_index_read1.fastq.gz \\\n",
      "\"http://cbsuapps.tc.cornell.edu/Sequencing/showseqfile.aspx?mode=http&cntrl=291542741&refid=20221\"\n",
      "\n",
      "!wget -q -c -O /var/seq_data/priming_exp/RawData/Seq5/seq5_index_read2.fastq.gz \\\n",
      "\"http://cbsuapps.tc.cornell.edu/Sequencing/showseqfile.aspx?mode=http&cntrl=142621209&refid=20222\""
     ],
     "language": "python",
     "metadata": {},
     "outputs": [],
     "prompt_number": 2
    }
   ],
   "metadata": {}
  }
 ]
}