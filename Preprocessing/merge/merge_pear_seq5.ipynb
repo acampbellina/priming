{
 "metadata": {
  "name": "",
  "signature": "sha256:067932c15802ad5d84a9e1c0f3f3fa32efee56f8d975511143a693e3db879197"
 },
 "nbformat": 3,
 "nbformat_minor": 0,
 "worksheets": [
  {
   "cells": [
    {
     "cell_type": "code",
     "collapsed": false,
     "input": [
      "import screed\n",
      "import matplotlib.pyplot as plt\n",
      "from mpltools import style\n",
      "import numpy as np\n",
      "%matplotlib inline"
     ],
     "language": "python",
     "metadata": {},
     "outputs": [],
     "prompt_number": 1
    },
    {
     "cell_type": "code",
     "collapsed": false,
     "input": [
      "%%bash\n",
      "pigz -k -d -p 20 /var/seq_data/priming_exp/RawData/Seq5/seq5_read?.fastq.gz"
     ],
     "language": "python",
     "metadata": {},
     "outputs": [],
     "prompt_number": 2
    },
    {
     "cell_type": "code",
     "collapsed": false,
     "input": [
      "%%bash\n",
      "pear -m 600 -j 20 \\\n",
      "-f /var/seq_data/priming_exp/RawData/Seq5/seq5_read2.fastq \\\n",
      "-r /var/seq_data/priming_exp/RawData/Seq5/seq5_read1.fastq \\\n",
      "-o /var/seq_data/priming_exp/data/seq5_pear_merged-$(date +%F)"
     ],
     "language": "python",
     "metadata": {},
     "outputs": [
      {
       "output_type": "stream",
       "stream": "stdout",
       "text": [
        " ____  _____    _    ____ \n",
        "|  _ \\| ____|  / \\  |  _ \\\n",
        "| |_) |  _|   / _ \\ | |_) |\n",
        "|  __/| |___ / ___ \\|  _ <\n",
        "|_|   |_____/_/   \\_\\_| \\_\\\n",
        "\n",
        "PEAR v0.9.2 [March 26 2014]\n",
        "\n",
        "Citation - PEAR: a fast and accurate Illumina Paired-End reAd mergeR\n",
        "Zhang et al (2014) Bioinformatics 30(5): 614-620 | doi:10.1093/bioinformatics/btt593\n",
        "\n",
        "Forward reads file.................: /var/seq_data/priming_exp/RawData/Seq5/seq5_read2.fastq\n",
        "Reverse reads file.................: /var/seq_data/priming_exp/RawData/Seq5/seq5_read1.fastq\n",
        "PHRED..............................: 33\n",
        "Using empirical frequencies........: YES\n",
        "Statistical method.................: OES\n",
        "Maximum assembly length............: 600\n",
        "Minimum assembly length............: 50\n",
        "p-value............................: 0.010000\n",
        "Quality score threshold (trimming).: 0\n",
        "Minimum read size after trimming...: 1\n",
        "Maximal ratio of uncalled bases....: 1.000000\n",
        "Minimum overlap....................: 10\n",
        "Scoring method.....................: Scaled score\n",
        "Threads............................: 20\n",
        "\n",
        "Allocating memory..................: 200,000,000 bytes\n",
        "Computing empirical frequencies....: DONE\n",
        "  A: 0.215833\n",
        "  C: 0.289504\n",
        "  G: 0.274490\n",
        "  T: 0.220173\n",
        "  2902 uncalled bases\n",
        "Assemblying reads..................: [............................................................................................................................................................................................................]\n",
        "\n",
        "Assembled reads ...................: 13,962,299 / 14,309,231 (97.575%)\n",
        "Discarded reads ...................: 1 / 14,309,231 (0.000%)\n",
        "Not assembled reads ...............: 346,931 / 14,309,231 (2.425%)\n",
        "Assembled reads file...............: /var/seq_data/priming_exp/data/seq5_pear_merged-2014-08-29.assembled.fastq\n",
        "Discarded reads file...............: /var/seq_data/priming_exp/data/seq5_pear_merged-2014-08-29.discarded.fastq\n",
        "Unassembled forward reads file.....: /var/seq_data/priming_exp/data/seq5_pear_merged-2014-08-29.unassembled.forward.fastq\n",
        "Unassembled reverse reads file.....: /var/seq_data/priming_exp/data/seq5_pear_merged-2014-08-29.unassembled.reverse.fastq\n"
       ]
      }
     ],
     "prompt_number": 3
    },
    {
     "cell_type": "code",
     "collapsed": false,
     "input": [
      "fn = \"/var/seq_data/priming_exp/data/seq5_pear_merged-2014-08-29.assembled.fastq\""
     ],
     "language": "python",
     "metadata": {},
     "outputs": [],
     "prompt_number": 9
    },
    {
     "cell_type": "code",
     "collapsed": false,
     "input": [
      "lengths = []\n",
      "for read in screed.open(fn):\n",
      "    lengths.append((len(read[\"sequence\"])))"
     ],
     "language": "python",
     "metadata": {},
     "outputs": [],
     "prompt_number": 10
    },
    {
     "cell_type": "code",
     "collapsed": false,
     "input": [
      "style.use(\"ggplot\")\n",
      "fig = plt.figure()\n",
      "ax = fig.add_subplot(111)\n",
      "h = ax.hist(np.array(lengths), bins=50)\n",
      "xl = ax.set_xlabel(\"Sequence Length, nt\")\n",
      "yl = ax.set_ylabel(\"Count\")\n",
      "fig.set_size_inches((10,6))"
     ],
     "language": "python",
     "metadata": {},
     "outputs": [
      {
       "metadata": {},
       "output_type": "display_data",
       "png": "[encoded data removed]",
       "text": [
        "<matplotlib.figure.Figure at 0x2d13410>"
       ]
      }
     ],
     "prompt_number": 11
    }
   ],
   "metadata": {}
  }
 ]
}