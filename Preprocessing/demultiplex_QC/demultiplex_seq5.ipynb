{
 "metadata": {
  "name": "",
  "signature": "sha256:41b8d0a24887c5a66ac6988d4ddf5368bf056b8efd4605852988089c929751e3"
 },
 "nbformat": 3,
 "nbformat_minor": 0,
 "worksheets": [
  {
   "cells": [
    {
     "cell_type": "code",
     "collapsed": false,
     "input": [
      "import screed\n",
      "import pandas as pd\n",
      "from collections import Counter\n",
      "import matplotlib.pyplot as plt\n",
      "import numpy as np\n",
      "from mpltools import style\n",
      "from cogent import DNA"
     ],
     "language": "python",
     "metadata": {},
     "outputs": [
      {
       "output_type": "stream",
       "stream": "stderr",
       "text": [
        "/opt/anaconda/lib/python2.7/site-packages/pytz/__init__.py:29: UserWarning: Module argparse was already imported from /opt/anaconda/lib/python2.7/argparse.pyc, but /opt/anaconda/lib/python2.7/site-packages is being added to sys.path\n",
        "  from pkg_resources import resource_stream\n"
       ]
      }
     ],
     "prompt_number": 1
    },
    {
     "cell_type": "code",
     "collapsed": false,
     "input": [
      "style.use(\"ggplot\")"
     ],
     "language": "python",
     "metadata": {},
     "outputs": [],
     "prompt_number": 2
    },
    {
     "cell_type": "code",
     "collapsed": false,
     "input": [
      "%matplotlib inline"
     ],
     "language": "python",
     "metadata": {},
     "outputs": [],
     "prompt_number": 3
    },
    {
     "cell_type": "code",
     "collapsed": false,
     "input": [
      "ir1 = \"/var/seq_data/priming_exp/RawData/Seq5/seq5_index_read2.fastq.gz\"\n",
      "ir2 = \"/var/seq_data/priming_exp/RawData/Seq5/seq5_index_read1.fastq.gz\""
     ],
     "language": "python",
     "metadata": {},
     "outputs": [],
     "prompt_number": 4
    },
    {
     "cell_type": "code",
     "collapsed": false,
     "input": [
      "screed.read_fastq_sequences(ir1)\n",
      "screed.read_fastq_sequences(ir2)"
     ],
     "language": "python",
     "metadata": {},
     "outputs": [
      {
       "metadata": {},
       "output_type": "pyout",
       "prompt_number": 5,
       "text": [
        "<ScreedDB, '/var/seq_data/priming_exp/RawData/Seq5/seq5_index_read1.fastq.gz_screed'>"
       ]
      }
     ],
     "prompt_number": 5
    },
    {
     "cell_type": "code",
     "collapsed": false,
     "input": [
      "ir1db = screed.ScreedDB(\"/var/seq_data/priming_exp/RawData/Seq5/seq5_index_read1.fastq.gz\")\n",
      "ir2db = screed.ScreedDB(\"/var/seq_data/priming_exp/RawData/Seq5/seq5_index_read2.fastq.gz\")"
     ],
     "language": "python",
     "metadata": {},
     "outputs": [],
     "prompt_number": 6
    },
    {
     "cell_type": "code",
     "collapsed": false,
     "input": [
      "!head /var/seq_data/priming_exp/RawData/Seq5/seq5_mapper.csv"
     ],
     "language": "python",
     "metadata": {},
     "outputs": [
      {
       "output_type": "stream",
       "stream": "stdout",
       "text": [
        "Sample,PrimerNum,PrimerCombo,Rev.PrimerID,Rev.Seq,Rev.reverse.Seq,R.fullseq,Fwd.PrimerID,Fwd.Seq,F.fullseq,FractionNum,Bulk,Control,CC,100,700,H2O,Day,Density\r",
        "12C.000.28.03.07,130,R5 F10,R5,CGTACTCA,ACTCATGC,CAAGCAGAAGACGGCATACGAGATCGTACTCACAACCCAACAGGCCGYCCAATTYMTTTRAGTTT,F10,CGTTACTA,AATGATACGGCGACCACCGAGATCTACACCGTTACTAAATGTTTTAATGGTGYCAGCMGCMGCGGTRA,7,0,1,1,0,0,0,3,1.76464904\r",
        "12C.000.28.03.08,131,R5 F11,R5,CGTACTCA,ACTCATGC,CAAGCAGAAGACGGCATACGAGATCGTACTCACAACCCAACAGGCCGYCCAATTYMTTTRAGTTT,F11,AGAGTCAC,AATGATACGGCGACCACCGAGATCTACACAGAGTCACAATGTTTTAATGGTGYCAGCMGCMGCGGTRA,8,0,1,1,0,0,0,3,1.76137076\r",
        "12C.000.28.03.09,132,R5 F12,R5,CGTACTCA,ACTCATGC,CAAGCAGAAGACGGCATACGAGATCGTACTCACAACCCAACAGGCCGYCCAATTYMTTTRAGTTT,F12,TACGAGAC,AATGATACGGCGACCACCGAGATCTACACTACGAGACAATGTTTTAATGGTGYCAGCMGCMGCGGTRA,9,0,1,1,0,0,0,3,1.75372144\r",
        "12C.000.28.03.10,133,R5 F13,R5,CGTACTCA,ACTCATGC,CAAGCAGAAGACGGCATACGAGATCGTACTCACAACCCAACAGGCCGYCCAATTYMTTTRAGTTT,F13,ACGTCTCG,AATGATACGGCGACCACCGAGATCTACACACGTCTCGAATGTTTTAATGGTGYCAGCMGCMGCGGTRA,10,0,1,1,0,0,0,3,1.74825764\r",
        "12C.000.28.03.11,134,R5 F14,R5,CGTACTCA,ACTCATGC,CAAGCAGAAGACGGCATACGAGATCGTACTCACAACCCAACAGGCCGYCCAATTYMTTTRAGTTT,F14,GTCAGATA,AATGATACGGCGACCACCGAGATCTACACGTCAGATAAATGTTTTAATGGTGYCAGCMGCMGCGGTRA,11,0,1,1,0,0,0,3,1.74170108\r",
        "12C.000.28.03.12,135,R5 F15,R5,CGTACTCA,ACTCATGC,CAAGCAGAAGACGGCATACGAGATCGTACTCACAACCCAACAGGCCGYCCAATTYMTTTRAGTTT,F15,GATCGTGT,AATGATACGGCGACCACCGAGATCTACACGATCGTGTAATGTTTTAATGGTGYCAGCMGCMGCGGTRA,12,0,1,1,0,0,0,3,1.73733004\r",
        "12C.000.28.03.13,136,R5 F16,R5,CGTACTCA,ACTCATGC,CAAGCAGAAGACGGCATACGAGATCGTACTCACAACCCAACAGGCCGYCCAATTYMTTTRAGTTT,F16,TCGACGAG,AATGATACGGCGACCACCGAGATCTACACTCGACGAGAATGTTTTAATGGTGYCAGCMGCMGCGGTRA,13,0,1,1,0,0,0,3,1.732959\r",
        "12C.000.28.03.14,137,R6 F9,R6,CTACGCAG,GACGCATC,CAAGCAGAAGACGGCATACGAGATCTACGCAGCAACCCAACAGGCCGYCCAATTYMTTTRAGTTT,F9,CTACTATA,AATGATACGGCGACCACCGAGATCTACACCTACTATAAATGTTTTAATGGTGYCAGCMGCMGCGGTRA,14,0,1,1,0,0,0,3,1.7274952\r",
        "12C.000.28.03.15,138,R6 F10,R6,CTACGCAG,GACGCATC,CAAGCAGAAGACGGCATACGAGATCTACGCAGCAACCCAACAGGCCGYCCAATTYMTTTRAGTTT,F10,CGTTACTA,AATGATACGGCGACCACCGAGATCTACACCGTTACTAAATGTTTTAATGGTGYCAGCMGCMGCGGTRA,15,0,1,1,0,0,0,3,1.7220314\r",
        "12C.000.28.03.16,139,R6 F11,R6,CTACGCAG,GACGCATC,CAAGCAGAAGACGGCATACGAGATCTACGCAGCAACCCAACAGGCCGYCCAATTYMTTTRAGTTT,F11,AGAGTCAC,AATGATACGGCGACCACCGAGATCTACACAGAGTCACAATGTTTTAATGGTGYCAGCMGCMGCGGTRA,16,0,1,1,0,0,0,3,1.71875312\r",
        "12C.000.28.03.17,140,R6 F12,R6,CTACGCAG,GACGCATC,CAAGCAGAAGACGGCATACGAGATCTACGCAGCAACCCAACAGGCCGYCCAATTYMTTTRAGTTT,F12,TACGAGAC,AATGATACGGCGACCACCGAGATCTACACTACGAGACAATGTTTTAATGGTGYCAGCMGCMGCGGTRA,17,0,1,1,0,0,0,3,1.71547484\r",
        "12C.000.28.03.18,141,R6 F13,R6,CTACGCAG,GACGCATC,CAAGCAGAAGACGGCATACGAGATCTACGCAGCAACCCAACAGGCCGYCCAATTYMTTTRAGTTT,F13,ACGTCTCG,AATGATACGGCGACCACCGAGATCTACACACGTCTCGAATGTTTTAATGGTGYCAGCMGCMGCGGTRA,18,0,1,1,0,0,0,3,1.7111038\r",
        "12C.000.28.03.19,142,R6 F14,R6,CTACGCAG,GACGCATC,CAAGCAGAAGACGGCATACGAGATCTACGCAGCAACCCAACAGGCCGYCCAATTYMTTTRAGTTT,F14,GTCAGATA,AATGATACGGCGACCACCGAGATCTACACGTCAGATAAATGTTTTAATGGTGYCAGCMGCMGCGGTRA,19,0,1,1,0,0,0,3,1.70673276\r",
        "12C.000.28.03.20,143,R6 F15,R6,CTACGCAG,GACGCATC,CAAGCAGAAGACGGCATACGAGATCTACGCAGCAACCCAACAGGCCGYCCAATTYMTTTRAGTTT,F15,GATCGTGT,AATGATACGGCGACCACCGAGATCTACACGATCGTGTAATGTTTTAATGGTGYCAGCMGCMGCGGTRA,20,0,1,1,0,0,0,3,1.70345448\r",
        "12C.000.28.03.21,144,R6 F16,R6,CTACGCAG,GACGCATC,CAAGCAGAAGACGGCATACGAGATCTACGCAGCAACCCAACAGGCCGYCCAATTYMTTTRAGTTT,F16,TCGACGAG,AATGATACGGCGACCACCGAGATCTACACTCGACGAGAATGTTTTAATGGTGYCAGCMGCMGCGGTRA,21,0,1,1,0,0,0,3,1.7001762\r",
        "12C.000.28.03.22,145,R7 F9,R7,GGAGACTA,ATCAGAGG,CAAGCAGAAGACGGCATACGAGATGGAGACTACAACCCAACAGGCCGYCCAATTYMTTTRAGTTT,F9,CTACTATA,AATGATACGGCGACCACCGAGATCTACACCTACTATAAATGTTTTAATGGTGYCAGCMGCMGCGGTRA,22,0,1,1,0,0,0,3,1.69799068\r",
        "12C.000.28.03.23,146,R7 F10,R7,GGAGACTA,ATCAGAGG,CAAGCAGAAGACGGCATACGAGATGGAGACTACAACCCAACAGGCCGYCCAATTYMTTTRAGTTT,F10,CGTTACTA,AATGATACGGCGACCACCGAGATCTACACCGTTACTAAATGTTTTAATGGTGYCAGCMGCMGCGGTRA,23,0,1,1,0,0,0,3,1.69361964\r",
        "12C.000.28.03.24,147,R7 F11,R7,GGAGACTA,ATCAGAGG,CAAGCAGAAGACGGCATACGAGATGGAGACTACAACCCAACAGGCCGYCCAATTYMTTTRAGTTT,F11,AGAGTCAC,AATGATACGGCGACCACCGAGATCTACACAGAGTCACAATGTTTTAATGGTGYCAGCMGCMGCGGTRA,24,0,1,1,0,0,0,3,1.69034136\r",
        "12C.000.28.03.25,148,R7 F12,R7,GGAGACTA,ATCAGAGG,CAAGCAGAAGACGGCATACGAGATGGAGACTACAACCCAACAGGCCGYCCAATTYMTTTRAGTTT,F12,TACGAGAC,AATGATACGGCGACCACCGAGATCTACACTACGAGACAATGTTTTAATGGTGYCAGCMGCMGCGGTRA,25,0,1,1,0,0,0,3,1.68597032\r",
        "12C.000.28.03.26,149,R7 F13,R7,GGAGACTA,ATCAGAGG,CAAGCAGAAGACGGCATACGAGATGGAGACTACAACCCAACAGGCCGYCCAATTYMTTTRAGTTT,F13,ACGTCTCG,AATGATACGGCGACCACCGAGATCTACACACGTCTCGAATGTTTTAATGGTGYCAGCMGCMGCGGTRA,26,0,1,1,0,0,0,3,1.68159928\r",
        "12C.000.28.03.27,150,R7 F14,R7,GGAGACTA,ATCAGAGG,CAAGCAGAAGACGGCATACGAGATGGAGACTACAACCCAACAGGCCGYCCAATTYMTTTRAGTTT,F14,GTCAGATA,AATGATACGGCGACCACCGAGATCTACACGTCAGATAAATGTTTTAATGGTGYCAGCMGCMGCGGTRA,27,0,1,1,0,0,0,3,1.67941376\r",
        "12C.000.28.03.28,151,R7 F15,R7,GGAGACTA,ATCAGAGG,CAAGCAGAAGACGGCATACGAGATGGAGACTACAACCCAACAGGCCGYCCAATTYMTTTRAGTTT,F15,GATCGTGT,AATGATACGGCGACCACCGAGATCTACACGATCGTGTAATGTTTTAATGGTGYCAGCMGCMGCGGTRA,28,0,1,1,0,0,0,3,1.67504272\r",
        "0MC.000.00.00.00,192,R12 F16,R12,TCGCTATA,ATATCGCT,CAAGCAGAAGACGGCATACGAGATTCGCTATACAACCCAACAGGCCGYCCAATTYMTTTRAGTTT,F16,TCGACGAG,AATGATACGGCGACCACCGAGATCTACACTCGACGAGAATGTTTTAATGGTGYCAGCMGCMGCGGTRA,NA,NA,NA,NA,NA,NA,NA,NA,NA"
       ]
      }
     ],
     "prompt_number": 7
    },
    {
     "cell_type": "code",
     "collapsed": false,
     "input": [
      "df_map = pd.read_csv(\"/var/seq_data/priming_exp/RawData/Seq5/seq5_andseq1reseqs_mapper.csv\", \n",
      "                     skiprows=[0], \n",
      "                     delimiter=\",\", \n",
      "                     usecols=[0,4,8], \n",
      "                     names=[\"SampleID\",\"i1\",\"i2\"])\n",
      "df_map.head()"
     ],
     "language": "python",
     "metadata": {},
     "outputs": [
      {
       "html": [
        "<div style=\"max-height:1000px;max-width:1500px;overflow:auto;\">\n",
        "<table border=\"1\" class=\"dataframe\">\n",
        "  <thead>\n",
        "    <tr style=\"text-align: right;\">\n",
        "      <th></th>\n",
        "      <th>SampleID</th>\n",
        "      <th>i1</th>\n",
        "      <th>i2</th>\n",
        "    </tr>\n",
        "  </thead>\n",
        "  <tbody>\n",
        "    <tr>\n",
        "      <th>0</th>\n",
        "      <td> 12C.000.28.03.07</td>\n",
        "      <td> CGTACTCA</td>\n",
        "      <td> CGTTACTA</td>\n",
        "    </tr>\n",
        "    <tr>\n",
        "      <th>1</th>\n",
        "      <td> 12C.000.28.03.08</td>\n",
        "      <td> CGTACTCA</td>\n",
        "      <td> AGAGTCAC</td>\n",
        "    </tr>\n",
        "    <tr>\n",
        "      <th>2</th>\n",
        "      <td> 12C.000.28.03.09</td>\n",
        "      <td> CGTACTCA</td>\n",
        "      <td> TACGAGAC</td>\n",
        "    </tr>\n",
        "    <tr>\n",
        "      <th>3</th>\n",
        "      <td> 12C.000.28.03.10</td>\n",
        "      <td> CGTACTCA</td>\n",
        "      <td> ACGTCTCG</td>\n",
        "    </tr>\n",
        "    <tr>\n",
        "      <th>4</th>\n",
        "      <td> 12C.000.28.03.11</td>\n",
        "      <td> CGTACTCA</td>\n",
        "      <td> GTCAGATA</td>\n",
        "    </tr>\n",
        "  </tbody>\n",
        "</table>\n",
        "</div>"
       ],
       "metadata": {},
       "output_type": "pyout",
       "prompt_number": 8,
       "text": [
        "           SampleID        i1        i2\n",
        "0  12C.000.28.03.07  CGTACTCA  CGTTACTA\n",
        "1  12C.000.28.03.08  CGTACTCA  AGAGTCAC\n",
        "2  12C.000.28.03.09  CGTACTCA  TACGAGAC\n",
        "3  12C.000.28.03.10  CGTACTCA  ACGTCTCG\n",
        "4  12C.000.28.03.11  CGTACTCA  GTCAGATA"
       ]
      }
     ],
     "prompt_number": 8
    },
    {
     "cell_type": "code",
     "collapsed": false,
     "input": [
      "df_map[\"i1_rc\"] = df_map.i1.apply(lambda x: str(DNA.makeSequence(x).rc()))"
     ],
     "language": "python",
     "metadata": {},
     "outputs": [],
     "prompt_number": 9
    },
    {
     "cell_type": "code",
     "collapsed": false,
     "input": [
      "df_map.head()"
     ],
     "language": "python",
     "metadata": {},
     "outputs": [
      {
       "html": [
        "<div style=\"max-height:1000px;max-width:1500px;overflow:auto;\">\n",
        "<table border=\"1\" class=\"dataframe\">\n",
        "  <thead>\n",
        "    <tr style=\"text-align: right;\">\n",
        "      <th></th>\n",
        "      <th>SampleID</th>\n",
        "      <th>i1</th>\n",
        "      <th>i2</th>\n",
        "      <th>i1_rc</th>\n",
        "    </tr>\n",
        "  </thead>\n",
        "  <tbody>\n",
        "    <tr>\n",
        "      <th>0</th>\n",
        "      <td> 12C.000.28.03.07</td>\n",
        "      <td> CGTACTCA</td>\n",
        "      <td> CGTTACTA</td>\n",
        "      <td> TGAGTACG</td>\n",
        "    </tr>\n",
        "    <tr>\n",
        "      <th>1</th>\n",
        "      <td> 12C.000.28.03.08</td>\n",
        "      <td> CGTACTCA</td>\n",
        "      <td> AGAGTCAC</td>\n",
        "      <td> TGAGTACG</td>\n",
        "    </tr>\n",
        "    <tr>\n",
        "      <th>2</th>\n",
        "      <td> 12C.000.28.03.09</td>\n",
        "      <td> CGTACTCA</td>\n",
        "      <td> TACGAGAC</td>\n",
        "      <td> TGAGTACG</td>\n",
        "    </tr>\n",
        "    <tr>\n",
        "      <th>3</th>\n",
        "      <td> 12C.000.28.03.10</td>\n",
        "      <td> CGTACTCA</td>\n",
        "      <td> ACGTCTCG</td>\n",
        "      <td> TGAGTACG</td>\n",
        "    </tr>\n",
        "    <tr>\n",
        "      <th>4</th>\n",
        "      <td> 12C.000.28.03.11</td>\n",
        "      <td> CGTACTCA</td>\n",
        "      <td> GTCAGATA</td>\n",
        "      <td> TGAGTACG</td>\n",
        "    </tr>\n",
        "  </tbody>\n",
        "</table>\n",
        "</div>"
       ],
       "metadata": {},
       "output_type": "pyout",
       "prompt_number": 10,
       "text": [
        "           SampleID        i1        i2     i1_rc\n",
        "0  12C.000.28.03.07  CGTACTCA  CGTTACTA  TGAGTACG\n",
        "1  12C.000.28.03.08  CGTACTCA  AGAGTCAC  TGAGTACG\n",
        "2  12C.000.28.03.09  CGTACTCA  TACGAGAC  TGAGTACG\n",
        "3  12C.000.28.03.10  CGTACTCA  ACGTCTCG  TGAGTACG\n",
        "4  12C.000.28.03.11  CGTACTCA  GTCAGATA  TGAGTACG"
       ]
      }
     ],
     "prompt_number": 10
    },
    {
     "cell_type": "code",
     "collapsed": false,
     "input": [
      "\"CTACTATA\" in df_map.i2.tolist()"
     ],
     "language": "python",
     "metadata": {},
     "outputs": [
      {
       "metadata": {},
       "output_type": "pyout",
       "prompt_number": 11,
       "text": [
        "True"
       ]
      }
     ],
     "prompt_number": 11
    },
    {
     "cell_type": "code",
     "collapsed": false,
     "input": [
      "map_d = dict(map(lambda x: (x[0] + x[1], x[2]), zip(df_map.i1_rc, df_map.i2, df_map.SampleID)))\n",
      "print map_d.keys()[0], map_d[map_d.keys()[0]]"
     ],
     "language": "python",
     "metadata": {},
     "outputs": [
      {
       "output_type": "stream",
       "stream": "stdout",
       "text": [
        "CTGCGTAGTCGACGAG 12C.000.28.03.21\n"
       ]
      }
     ],
     "prompt_number": 12
    },
    {
     "cell_type": "code",
     "collapsed": false,
     "input": [
      "len(ir1db.keys())"
     ],
     "language": "python",
     "metadata": {},
     "outputs": [
      {
       "metadata": {},
       "output_type": "pyout",
       "prompt_number": 13,
       "text": [
        "14309231"
       ]
      }
     ],
     "prompt_number": 13
    },
    {
     "cell_type": "code",
     "collapsed": false,
     "input": [
      "counter = 0\n",
      "unassigned = 0\n",
      "plateID = \"seq5\"\n",
      "cnt = Counter()\n",
      "fn = \"/var/seq_data/priming_exp/data/seq5_pear_merged.assembled.demult.fastq\"\n",
      "with open(fn, \"w\") as out:\n",
      "    for rec in screed.open(\"/var/seq_data/priming_exp/data/seq5_pear_merged-2014-08-29.assembled.fastq\"):\n",
      "        index_concat = ir1db[rec[\"name\"]][\"sequence\"] + ir2db[rec[\"name\"]][\"sequence\"] \n",
      "        try:\n",
      "            new_name = map_d[index_concat] + \"_\" + str(counter) + plateID #case sensitive\n",
      "            counter += 1\n",
      "        except KeyError:\n",
      "            unassigned += 1\n",
      "            continue\n",
      "        cnt[map_d[index_concat]] += 1 #case sensitive\n",
      "        s, q = rec[\"sequence\"], rec[\"accuracy\"]\n",
      "        out.write(\"@%s orig_name=%s\\n%s\\n+\\n%s\\n\"%(new_name,rec[\"name\"],s,q))\n",
      "print \"Unable to assign %s reads to samples\"%unassigned"
     ],
     "language": "python",
     "metadata": {},
     "outputs": [
      {
       "output_type": "stream",
       "stream": "stdout",
       "text": [
        "Unable to assign 11523359 reads to samples\n"
       ]
      }
     ],
     "prompt_number": 14
    },
    {
     "cell_type": "code",
     "collapsed": false,
     "input": [
      "X = np.arange(len(cnt.keys()))\n",
      "Y = [v for k, v in cnt.most_common()]\n",
      "fig = plt.figure()\n",
      "fig.set_size_inches((18,8))\n",
      "ax = fig.add_subplot(111)\n",
      "bars = ax.bar(X, Y, width=0.50)\n",
      "xlims = ax.set_xlim((X.min(), X.max()))\n",
      "xt = ax.set_xticks(X)\n",
      "xtl = ax.set_xticklabels([k for k, v in cnt.most_common()], rotation=90, ha=\"center\", size=6)"
     ],
     "language": "python",
     "metadata": {},
     "outputs": [
      {
       "metadata": {},
       "output_type": "display_data",
       "png": "[encoded data removed]",
       "text": [
        "<matplotlib.figure.Figure at 0x469e990>"
       ]
      }
     ],
     "prompt_number": 15
    }
   ],
   "metadata": {}
  }
 ]
}