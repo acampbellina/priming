{
 "cells": [
  {
   "cell_type": "markdown",
   "metadata": {},
   "source": [
    "## Pooling Demultiplexed files from multiple seq runs"
   ]
  },
  {
   "cell_type": "markdown",
   "metadata": {},
   "source": [
    "###These files are from the demultiplex notebooks [1](./demultiplex_seq1.ipynb), [2](./demultiplex_seq2.ipynb), [3](./demultiplex_seq3.ipynb), [4](./demultiplex_seq4.ipynb), [5](./demultiplex_seq5.ipynb)."
   ]
  },
  {
   "cell_type": "code",
   "execution_count": 1,
   "metadata": {
    "collapsed": false
   },
   "outputs": [],
   "source": [
    "!cat /var/seq_data/priming_exp/data/*.demult.fastq > /var/seq_data/priming_exp/data/allseq.assembled.demult.fq"
   ]
  },
  {
   "cell_type": "code",
   "execution_count": 2,
   "metadata": {
    "collapsed": false
   },
   "outputs": [
    {
     "name": "stdout",
     "output_type": "stream",
     "text": [
      "@13C.000.28.07.NA_0seq1 orig_name=M02465:63:000000000-A9G5P:1:1101:18364:1748\r\n",
      "CCGCCTTGCGACCGTACTCCCCAGGCGGAGTCCTTCATGCGTTAGCTTCGGCACGGCCCCGATCGCTCCCCGCCCCACCAAGCACTCATCGTTTAGGGCTAGGACTACCGGGGTATCTAATCCTGTTTGCTCCCCACGCTTTCGTGCCTCAGCGTCAGTGTTGATCCAGATGGCCGCCTTCGCCACGGATGTTCCTCCCGATCTCTACGCATTTCACCGCTACACCGGGAATTCCGCCATCCTCTATCACACTCTAGCTGGCCAGTATCCATCGCCATTCCCAGGTTGAGCCCAGGGCTTTCACGACAGACTTAACCAACCGCCTACGCACGCTTTACGCCCAGTAATTCCGATTAACGCTTGCACCCTTCGTA\r\n",
      "+\r\n",
      "6,66ACE;B@+@F+=9B<EFGGD,6:77++8,CAE6,<5A>>C=6=FFF5:=6@,+@++++*1@8,:,@CF+>H+@4IID68G3CII1D@IIG?28D@HIIGICDIIII<ICII<II2?3CIIF6IG>0I6IIII6I3=A0EIGIFIIIIHFIFII@DIIHI97FIIIB7?:DIIBI@III>IIIIC?3IFI2IIIIIICDIIIIIII?IFIIIIGIIIIIGIGIIIDIIG6III8IIE8IIIIIB,IC?EIIIIGFIC<IIIGGF?III@2IFIIB?<IIIEIFIIGIFIIDIIAEIFIFGGGEFFFEGGACCB7CEGGGEGGEFFB@CGDGGGGGGGGGGFCFFF@FGFFF@@GGGGGFCGGFDFFC9CC<C\r\n",
      "@13C.700.45.03.NA_1seq1 orig_name=M02465:63:000000000-A9G5P:1:1101:14576:1759\r\n",
      "CACTCTTGCGACCCTCCTCCCCCTTCCCACTGCTTCCTTCGTTCTCTTCAGCCCTTCCCTGCGCACACCCTCTAACACTTAGCACTCATCGTTTACGGCGTGGACTACCAGGGTATCTAATCCTGTTTGCTCCCCACGCTTTCGCGCCTCAGCGTCAGTTACAGACCATAAAGTCGCCTTCGCCACTGGTGTTCCTCCACATCTCTACGCATTTCACCGCTACACGTGGAATTCCACTTTTCTCTTCTGCACTCAAGTTCCCCAGTTTCCAATGACCCTCCACGGTTGAGCCGTGGGCTTTCACATCAGACTTAAGAAACCGCCTGCGCGCGCTTTACGCCCAATAATTCCGGATAACGCTTGCCACCTACGTA\r\n",
      "+\r\n",
      "8,,,8@<,C++8@+=,B<CDFG++,;,,,,4,C?C@,6,;,;>,,?D,<+,;,@;,,,,,,0)++++98@,9,98DA@@9<??864I=:I<FI;?=,0,>99.-6<AA=I6<<@@8I84.:II44B@2->*I=GI;B<ID1I@AI4:I0?B->BIII6IICEIFCI;@*I7DB2I4GIIII89I=EICBIFIGIIFII>?FBE7IIII@I@;I3IEIICFCIEDI@@=BCCI7GI@IA=4,I,I>,E3@DB>IICD:8;8ICIFB3,79FFB3EB><?27I?IBDIICF@IAI3I==IIIEEFCC,CFFCC,9FF<FBCEFBDC7:F@+@@CC,@CFEEC<6FC<CC+6>DFCE7GEEFD@<FE9EF@@C@A-@\r\n",
      "@13C.100.45.03.NA_2seq1 orig_name=M02465:63:000000000-A9G5P:1:1101:12242:1776\r\n",
      "CCACCTTGCGGCCGTCCTCCCCAGGCGGACTACTTACTGCGTTATCTGCGGCACGGCCTCGACTGAACCACCCCACACCTAGTCGTCATCGTTTACCGCGTGGACTACCGGGGTATCTACTCCCGTTTGCTCCCCACGCTTTCGCGCCTCAGCGTCAGGAGATGCCCAGAGACCCGCCTTCGCCACCGGTGGTCCTCCCGATCTCTACACATTTCACCGCTACACCCGGAATTCCACTGCCCGCCGCCCACCTCGAGCCCCGCAGTCCCCCCCGACCCCTCCGAGTTGAGCCCGGAGATTTCACGGCCGACTTGCGGGGCCGCCTACGCGCGCTTTACGCCCAATGAATCCGGACAACGCTCGCCCCCTACGTA\r\n"
     ]
    }
   ],
   "source": [
    "!head /var/seq_data/priming_exp/data/allseq.assembled.demult.fq"
   ]
  },
  {
   "cell_type": "markdown",
   "metadata": {},
   "source": [
    "##Discard sequences that exceed the max expected error threshold."
   ]
  },
  {
   "cell_type": "code",
   "execution_count": 3,
   "metadata": {
    "collapsed": false
   },
   "outputs": [
    {
     "name": "stdout",
     "output_type": "stream",
     "text": [
      "25094893\n",
      ">12C.100.28.03.NA_53seq1 orig_name=M02465:63:000000000-A9G5P:1:1101:17937:1855\n",
      "CACACTTGCGTGCGTACTCCCCAGGCGGGTCACTTAACGCGTTAGCTACGGCACCGAGGGGGTCGATACCCCCGACACCTAGTGACCATCGTTTACAGCGTGGACTACCAGGGTATCTAATCCTGTTTGCTCCCCACGCTTTCGTACCTCAGCGTCAGAAACGGCCCAGAAGGTCGCCTTCGCCACCGGTGTTCTTCCGAATATCTACGCATTTCACCGCTACACCAGGAATTCCATTCTCCTCTTCCGGACTCTAGCCAGAAAGTTTCCACCGACAGCTCGACGTTGAGCCTCGAGTTTTCACAGCGGACTTTTCTGGCCGCCTACACGCGCTTTACGCCCAATGATTCCGGACAACGCTTGCCCCCTACGTA\n",
      ">12C.700.28.03.NA_54seq1 orig_name=M02465:63:000000000-A9G5P:1:1101:14269:1856\n",
      "TAATCTTGCGACCGTACTCCCCAGGCGGGATGCTTAATGCGTTAGCTGCGCCACTGAAGGGTAAACCCACCAACGGCTAGCATCCATCGTTTACGGCGTGGACTACCAGGGTATCTAATCCTGTTTGCTCCCCACGCTTTCGCACCTCAGCGTCAGTACCGGGCCAGTGAGCCGCCTTCGCCACTGGTGTTCTTGCGAATATCTACGAATTTCACCTCTACACCCGCAGTTCCACTTACCTCTTCCGGTCTCAAGCTCTACAGTATCGAAGGCAATTCTGTGGTTGAGCCACAGGCTTTCACCACCGACTTACAAGGCCGCCTACGCGCCCTTTACGCCCAGTGATTCCGAACAACGCTAGCCCCCTTCGTA\n",
      ">13C.100.28.07.NA_61seq1 orig_name=M02465:63:000000000-A9G5P:1:1101:9868:1862\n",
      "TAGCCTTGCGGCCGTACTCCCCAGGCGGGGCACTTAATGCGTTAGCTACGGCGCGGAAAACGTGGAATGTCCCCCACACCTAGTGCCCAACGTTTACGGCATGGACTACCGGGGTATCTAATCCCGTTCGCTCCCCACGCCTTCGCGCCTCAGCGTCAGGGACGGCCCAGCTGGCCGCCTTCGCCACGGGTGTTCCGCCTGATCTCTACGCATTTCACCACTACACCAGGCATTCCACCAGCCCCTACCGCCCTCAAGCGGTGCGGTCCCCGACGACCCTCCCCGGTTGAGCCGGGGGCTTTCACGCCGGGCCAGCACCGCCGCCTACGCGCGCTTTACGCCCAGTAACTCCGGACAACGCTCGGACCCTACGTA\n",
      ">13C.700.45.04.NA_70seq1 orig_name=M02465:63:000000000-A9G5P:1:1101:8574:1867\n",
      "TAATCTTGCGACCGTACTCCCCAGGCGGAATGCTTAATGCGTTAGCTGCGCCACCGAACAGTATACTGCCCGACGGCTAACATTCATCGTTTACGGCGTGGACTACCAGGCTATCTAATCCTGTTTGCTCCCCACGCTTTCGCACCTCAGCGTCAGTATCTGCCCAGACGACCGCCTTCGCCACTGGTGTTCCTCCCGATATCTACGAATTTCACCTCTACACCGGGAATTCCGTCGTCCTCTTCAGTACTCAAGCCTAGTAGTTTCGAATGCACTTCCTCAGTTAAGCTGAGGGCTTTCACACCCGACTTGCTAGACCGCCTACGTGCGCTTTACGCCCAATAATTCCGAGCAACGTTTGCACCCTCCGTA\n"
     ]
    }
   ],
   "source": [
    "%%bash\n",
    "\n",
    "nprocs=20\n",
    "maxee=1\n",
    "\n",
    "tmpdir1=`mktemp -d`\n",
    "trap \"rm -r $tmpdir1\" 1 2 3 15\n",
    "split -d -l 2000000 /var/seq_data/priming_exp/data/allseq.assembled.demult.fq $tmpdir1/Block\n",
    "\n",
    "tmpdir2=`mktemp -d`\n",
    "trap \"rm -r $tmpdir2\" 1 2 3 15\n",
    "ls $tmpdir1/Block?? | parallel --gnu -j $nprocs -k \"usearch -fastq_filter {} \\\n",
    "-fastq_maxee $maxee \\\n",
    "-fastaout $tmpdir2/{#}.fasta >/dev/null 2>&1 && cat $tmpdir2/{#}.fasta\" > /var/seq_data/priming_exp/data/tmp/maxee$maxee.fasta\n",
    "rm -r $tmpdir2 $tmpdir1\n",
    "\n",
    "grep -c \">\" /var/seq_data/priming_exp/data/tmp/maxee$maxee.fasta\n",
    "head -n 8 /var/seq_data/priming_exp/data/tmp/maxee$maxee.fasta"
   ]
  },
  {
   "cell_type": "markdown",
   "metadata": {},
   "source": [
    "##Remove seqs with N characters."
   ]
  },
  {
   "cell_type": "code",
   "execution_count": 4,
   "metadata": {
    "collapsed": false
   },
   "outputs": [
    {
     "name": "stdout",
     "output_type": "stream",
     "text": [
      "25094893\n",
      "25094861\n"
     ]
    }
   ],
   "source": [
    "%%bash\n",
    "bioawk -c fastx '{if ($seq !~ /N/){print \">\" $name \" \" $4 \"\\n\" $seq}}' /var/seq_data/priming_exp/data/tmp/maxee1.fasta > \\\n",
    "/var/seq_data/priming_exp/data/tmp/maxee1.0.noN.fasta\n",
    "grep -c \">\" /var/seq_data/priming_exp/data/tmp/maxee1.fasta\n",
    "grep -c \">\" /var/seq_data/priming_exp/data/tmp/maxee1.0.noN.fasta"
   ]
  },
  {
   "cell_type": "markdown",
   "metadata": {},
   "source": [
    "# Alignment-based QC with Mothur"
   ]
  },
  {
   "cell_type": "code",
   "execution_count": 5,
   "metadata": {
    "collapsed": false
   },
   "outputs": [],
   "source": [
    "!ionice mothur \"#unique.seqs(fasta=/var/seq_data/priming_exp/data/tmp/maxee1.0.noN.fasta)\" \\\n",
    ">mothur.out"
   ]
  },
  {
   "cell_type": "code",
   "execution_count": 6,
   "metadata": {
    "collapsed": false
   },
   "outputs": [
    {
     "name": "stdout",
     "output_type": "stream",
     "text": [
      "25094861\n",
      "14712014\n"
     ]
    }
   ],
   "source": [
    "!grep -c \">\" /var/seq_data/priming_exp/data/tmp/maxee1.0.noN.fasta\n",
    "!grep -c \">\" /var/seq_data/priming_exp/data/tmp/maxee1.0.noN.unique.fasta"
   ]
  },
  {
   "cell_type": "markdown",
   "metadata": {},
   "source": [
    "##### Need to use all sequences (not just unique sequences) for next step to create the data file"
   ]
  },
  {
   "cell_type": "code",
   "execution_count": 8,
   "metadata": {
    "collapsed": false
   },
   "outputs": [],
   "source": [
    "!mkdir -p /var/seq_data/priming_exp/data/tmp/db"
   ]
  },
  {
   "cell_type": "code",
   "execution_count": 9,
   "metadata": {
    "collapsed": false
   },
   "outputs": [],
   "source": [
    "%%bash\n",
    "if ! [ -e /var/seq_data/priming_exp/data/silva_ref_aln_mothur.fasta ]; then\n",
    "    curl -o /var/seq_data/priming_exp/data/tmp/db/silva_B.zip http://www.mothur.org/w/images/9/98/Silva.bacteria.zip \n",
    "    curl -o /var/seq_data/priming_exp/data/tmp/db/silva_E.zip http://www.mothur.org/w/images/1/1a/Silva.eukarya.zip \n",
    "    curl -o /var/seq_data/priming_exp/data/tmp/db/silva_A.zip http://www.mothur.org/w/images/3/3c/Silva.archaea.zip \n",
    "fi"
   ]
  },
  {
   "cell_type": "code",
   "execution_count": 10,
   "metadata": {
    "collapsed": false
   },
   "outputs": [],
   "source": [
    "%%bash\n",
    "if ! [ -e /var/seq_data/priming_exp/data/silva_ref_aln_mothur.fasta ]; then\n",
    "    unzip /var/seq_data/priming_exp/data/tmp/db/silva_A.zip -d /var/seq_data/priming_exp/data/tmp/db/\n",
    "    unzip /var/seq_data/priming_exp/data/tmp/db/silva_B.zip -d /var/seq_data/priming_exp/data/tmp/db/\n",
    "    unzip /var/seq_data/priming_exp/data/tmp/db/silva_E.zip -d /var/seq_data/priming_exp/data/tmp/db/\n",
    "fi"
   ]
  },
  {
   "cell_type": "code",
   "execution_count": 11,
   "metadata": {
    "collapsed": false
   },
   "outputs": [],
   "source": [
    "%%bash\n",
    "if ! [ -e /var/seq_data/priming_exp/data/silva_ref_aln_mothur.fasta ]; then\n",
    "    cat /var/seq_data/priming_exp/data/tmp/db/silva.bacteria/silva.bacteria.fasta \\\n",
    "    /var/seq_data/priming_exp/data/tmp/db/silva.eukarya/silva.eukarya.fasta \\\n",
    "    /var/seq_data/priming_exp/data/tmp/db/Silva.archaea/silva.archaea.fasta \\\n",
    "    > /var/seq_data/priming_exp/data/silva_ref_aln_mothur.fasta\n",
    "fi"
   ]
  },
  {
   "cell_type": "code",
   "execution_count": 12,
   "metadata": {
    "collapsed": false
   },
   "outputs": [],
   "source": [
    "%%bash\n",
    "mothur \"#filter.seqs(vertical=t, \\\n",
    "fasta=/var/seq_data/priming_exp/data/silva_ref_aln_mothur.fasta, \\\n",
    "processors=10)\" > /dev/null"
   ]
  },
  {
   "cell_type": "code",
   "execution_count": null,
   "metadata": {
    "collapsed": true
   },
   "outputs": [],
   "source": [
    "%%bash\n",
    "mothur \"#align.seqs(candidate=/var/seq_data/priming_exp/data/tmp/maxee1.0.noN.unique.fasta, \\\n",
    "template=/var/seq_data/priming_exp/data/silva_ref_aln_mothur.fasta, \\\n",
    "processors=20, \\\n",
    "flip=T)\" /dev/null"
   ]
  },
  {
   "cell_type": "markdown",
   "metadata": {},
   "source": [
    "#### We can filter out vertical gaps..."
   ]
  },
  {
   "cell_type": "code",
   "execution_count": null,
   "metadata": {
    "collapsed": false
   },
   "outputs": [],
   "source": [
    "%%bash\n",
    "mothur \"#filter.seqs(vertical=t, \\\n",
    "fasta=/var/seq_data/priming_exp/data/tmp/maxee1.0.noN.unique.align, \\\n",
    "processors=25)\" > /dev/null"
   ]
  },
  {
   "cell_type": "markdown",
   "metadata": {},
   "source": [
    "### Here is what our seqs look like."
   ]
  },
  {
   "cell_type": "code",
   "execution_count": 20,
   "metadata": {
    "collapsed": false
   },
   "outputs": [
    {
     "name": "stdout",
     "output_type": "stream",
     "text": [
      "\u001b[H\u001b[2J\n",
      "\n",
      "\n",
      "\n",
      "\n",
      "\n",
      "mothur v.1.32.1\n",
      "Last updated: 10/16/2013\n",
      "\n",
      "by\n",
      "Patrick D. Schloss\n",
      "\n",
      "Department of Microbiology & Immunology\n",
      "University of Michigan\n",
      "pschloss@umich.edu\n",
      "http://www.mothur.org\n",
      "\n",
      "When using, please cite:\n",
      "Schloss, P.D., et al., Introducing mothur: Open-source, platform-independent, community-supported software for describing and comparing microbial communities. Appl Environ Microbiol, 2009. 75(23):7537-41.\n",
      "\n",
      "Distributed under the GNU General Public License\n",
      "\n",
      "Type 'help()' for information on the commands that are available\n",
      "\n",
      "Type 'quit()' to exit program\n",
      "\n",
      "\n",
      "\n",
      "mothur > summary.seqs(fasta=/var/seq_data/priming_exp/data/tmp/maxee1.0.noN.unique.filter.fasta, processors=25, name=/var/seq_data/priming_exp/data/tmp/maxee1.0.noN.names)\n",
      "\n",
      "Using 25 processors.\n",
      "\n",
      "Using 25 processors.\n",
      "\n",
      "Using 25 processors.\n",
      "\n",
      "Using 25 processors.\n",
      "\n",
      "Using 25 processors.\n",
      "\n",
      "Using 25 processors.\n",
      "\n",
      "Using 25 processors.\n",
      "\n",
      "Using 25 processors.\n",
      "\n",
      "Using 25 processors.\n",
      "\n",
      "Using 25 processors.\n",
      "\n",
      "Using 25 processors.\n",
      "\n",
      "Using 25 processors.\n",
      "\n",
      "Using 25 processors.\n",
      "\n",
      "Using 25 processors.\n",
      "\n",
      "Using 25 processors.\n",
      "\n",
      "Using 25 processors.\n",
      "\n",
      "Using 25 processors.\n",
      "\n",
      "Using 25 processors.\n",
      "\n",
      "Using 25 processors.\n",
      "\n",
      "Using 25 processors.\n",
      "\n",
      "Using 25 processors.\n",
      "\n",
      "Using 25 processors.\n",
      "\n",
      "Using 25 processors.\n",
      "\n",
      "Using 25 processors.\n",
      "\n",
      "Using 25 processors.\n",
      "\n",
      "\t\tStart\tEnd\tNBases\tAmbigs\tPolymer\tNumSeqs\n",
      "Minimum:\t0\t0\t0\t0\t1\t1\n",
      "2.5%-tile:\t878\t2780\t370\t0\t4\t627372\n",
      "25%-tile:\t878\t2780\t372\t0\t4\t6273716\n",
      "Median: \t878\t2780\t374\t0\t5\t12547431\n",
      "75%-tile:\t878\t2780\t374\t0\t5\t18821146\n",
      "97.5%-tile:\t878\t2780\t377\t0\t8\t24467490\n",
      "Maximum:\t3546\t3546\t559\t0\t146\t25094861\n",
      "Mean:\t879.816\t2778.91\t372.843\t0\t5.08769\n",
      "# of unique seqs:\t14712014\n",
      "total # of seqs:\t25094861\n",
      "\n",
      "Output File Names: \n",
      "/var/seq_data/priming_exp/data/tmp/maxee1.0.noN.unique.filter.summary\n",
      "\n",
      "\n",
      "mothur > quit()\n"
     ]
    }
   ],
   "source": [
    "%%bash\n",
    "mothur \"#summary.seqs(fasta=/var/seq_data/priming_exp/data/tmp/maxee1.0.noN.unique.filter.fasta, \\\n",
    "processors=25, \\\n",
    "name=/var/seq_data/priming_exp/data/tmp/maxee1.0.noN.names)\""
   ]
  },
  {
   "cell_type": "markdown",
   "metadata": {},
   "source": [
    "### Removing homopolymers (larger than 8) and screen out sequences that don't align to amplicon region"
   ]
  },
  {
   "cell_type": "code",
   "execution_count": 24,
   "metadata": {
    "collapsed": false
   },
   "outputs": [],
   "source": [
    "%%bash\n",
    "\n",
    "mothur \"#screen.seqs(fasta=/var/seq_data/priming_exp/data/tmp/maxee1.0.noN.unique.filter.fasta, \\\n",
    "processors=25, \\\n",
    "name=/var/seq_data/priming_exp/data/tmp/maxee1.0.noN.names, \\\n",
    "start=878, \\\n",
    "end=2780, \\\n",
    "maxhomop=8, minlength=333)\" > /dev/null"
   ]
  },
  {
   "cell_type": "code",
   "execution_count": 25,
   "metadata": {
    "collapsed": false
   },
   "outputs": [],
   "source": [
    "%%bash\n",
    "\n",
    "mothur \"#filter.seqs(fasta=/var/seq_data/priming_exp/data/tmp/maxee1.0.noN.unique.filter.good.fasta, \\\n",
    "processors=25, \\\n",
    "vertical=T)\" > /dev/null"
   ]
  },
  {
   "cell_type": "code",
   "execution_count": 26,
   "metadata": {
    "collapsed": false
   },
   "outputs": [
    {
     "name": "stdout",
     "output_type": "stream",
     "text": [
      "\u001b[H\u001b[2J\n",
      "\n",
      "\n",
      "\n",
      "\n",
      "\n",
      "mothur v.1.32.1\n",
      "Last updated: 10/16/2013\n",
      "\n",
      "by\n",
      "Patrick D. Schloss\n",
      "\n",
      "Department of Microbiology & Immunology\n",
      "University of Michigan\n",
      "pschloss@umich.edu\n",
      "http://www.mothur.org\n",
      "\n",
      "When using, please cite:\n",
      "Schloss, P.D., et al., Introducing mothur: Open-source, platform-independent, community-supported software for describing and comparing microbial communities. Appl Environ Microbiol, 2009. 75(23):7537-41.\n",
      "\n",
      "Distributed under the GNU General Public License\n",
      "\n",
      "Type 'help()' for information on the commands that are available\n",
      "\n",
      "Type 'quit()' to exit program\n",
      "\n",
      "\n",
      "\n",
      "mothur > summary.seqs(fasta=/var/seq_data/priming_exp/data/tmp/maxee1.0.noN.unique.filter.good.filter.fasta, name=/var/seq_data/priming_exp/data/tmp/maxee1.0.noN.good.names)\n",
      "\n",
      "Using 1 processors.\n",
      "\n",
      "\t\tStart\tEnd\tNBases\tAmbigs\tPolymer\tNumSeqs\n",
      "Minimum:\t1\t1711\t334\t0\t3\t1\n",
      "2.5%-tile:\t219\t1711\t370\t0\t4\t623218\n",
      "25%-tile:\t219\t1711\t372\t0\t4\t6232175\n",
      "Median: \t219\t1711\t374\t0\t5\t12464349\n",
      "75%-tile:\t219\t1711\t374\t0\t5\t18696523\n",
      "97.5%-tile:\t219\t1711\t377\t0\t8\t24305480\n",
      "Maximum:\t219\t1908\t559\t0\t8\t24928697\n",
      "Mean:\t218.997\t1711.02\t373.402\t0\t5.08716\n",
      "# of unique seqs:\t14594820\n",
      "total # of seqs:\t24928697\n",
      "\n",
      "Output File Names: \n",
      "/var/seq_data/priming_exp/data/tmp/maxee1.0.noN.unique.filter.good.filter.summary\n",
      "\n",
      "\n",
      "mothur > quit()\n"
     ]
    }
   ],
   "source": [
    "%%bash\n",
    "\n",
    "mothur \"#summary.seqs(fasta=/var/seq_data/priming_exp/data/tmp/maxee1.0.noN.unique.filter.good.filter.fasta, \\\n",
    "name=/var/seq_data/priming_exp/data/tmp/maxee1.0.noN.good.names)\""
   ]
  },
  {
   "cell_type": "markdown",
   "metadata": {},
   "source": [
    "##Expand data, remove gaps, and copy into data directory"
   ]
  },
  {
   "cell_type": "code",
   "execution_count": null,
   "metadata": {
    "collapsed": false
   },
   "outputs": [],
   "source": [
    "%%bash\n",
    "mothur \"#deunique.seqs(fasta=/var/seq_data/priming_exp/data/tmp/maxee1.0.noN.unique.filter.good.fasta, \\\n",
    "name=/var/seq_data/priming_exp/data/tmp/maxee1.0.noN.good.names)\" > /dev/null"
   ]
  },
  {
   "cell_type": "code",
   "execution_count": null,
   "metadata": {
    "collapsed": false
   },
   "outputs": [],
   "source": [
    "!sed '/>/! s/-//g;/>/! s/\\.//g' /var/seq_data/priming_exp/data/tmp/maxee1.0.noN.redundant.fasta \\\n",
    "> /var/seq_data/priming_exp/data/finalQC.fasta"
   ]
  },
  {
   "cell_type": "code",
   "execution_count": 34,
   "metadata": {
    "collapsed": false
   },
   "outputs": [
    {
     "name": "stdout",
     "output_type": "stream",
     "text": [
      ">12C.100.28.03.NA_53seq1\r\n",
      "TACGTAGGGGGCAAGCGTTGTCCGGAATCATTGGGCGTAAAGCGCGTGTAGGCGGCCAGAAAAGTCCGCTGTGAAAACTCGAGGCTCAACGTCGAGCTGTCGGTGGAAACTTTCTGGCTAGAGTCCGGAAGAGGAGAATGGAATTCCTGGTGTAGCGGTGAAATGCGTAGATATTCGGAAGAACACCGGTGGCGAAGGCGACCTTCTGGGCCGTTTCTGACGCTGAGGTACGAAAGCGTGGGGAGCAAACAGGATTAGATACCCTGGTAGTCCACGCTGTAAACGATGGTCACTAGGTGTCGGGGGTATCGACCCCCTCGGTGCCGTAGCTAACGCGTTAAGTGACCCGCCTGGGGAGTACGCACGCAAGTGTG\r\n",
      ">12C.700.28.03.NA_54seq1\r\n",
      "TACGAAGGGGGCTAGCGTTGTTCGGAATCACTGGGCGTAAAGGGCGCGTAGGCGGCCTTGTAAGTCGGTGGTGAAAGCCTGTGGCTCAACCACAGAATTGCCTTCGATACTGTAGAGCTTGAGACCGGAAGAGGTAAGTGGAACTGCGGGTGTAGAGGTGAAATTCGTAGATATTCGCAAGAACACCAGTGGCGAAGGCGGCTCACTGGCCCGGTACTGACGCTGAGGTGCGAAAGCGTGGGGAGCAAACAGGATTAGATACCCTGGTAGTCCACGCCGTAAACGATGGATGCTAGCCGTTGGTGGGTTTACCCTTCAGTGGCGCAGCTAACGCATTAAGCATCCCGCCTGGGGAGTACGGTCGCAAGATTA\r\n",
      ">13C.100.28.07.NA_61seq1\r\n",
      "TACGTAGGGTCCGAGCGTTGTCCGGAGTTACTGGGCGTAAAGCGCGCGTAGGCGGCGGTGCTGGCCCGGCGTGAAAGCCCCCGGCTCAACCGGGGAGGGTCGTCGGGGACCGCACCGCTTGAGGGCGGTAGGGGCTGGTGGAATGCCTGGTGTAGTGGTGAAATGCGTAGAGATCAGGCGGAACACCCGTGGCGAAGGCGGCCAGCTGGGCCGTCCCTGACGCTGAGGCGCGAAGGCGTGGGGAGCGAACGGGATTAGATACCCCGGTAGTCCATGCCGTAAACGTTGGGCACTAGGTGTGGGGGACATTCCACGTTTTCCGCGCCGTAGCTAACGCATTAAGTGCCCCGCCTGGGGAGTACGGCCGCAAGGCTA\r\n",
      ">12C.100.45.01.11_1160219seq2\r\n",
      "TACGTAGGGTCCGAGCGTTGTCCGGAGTTACTGGGCGTAAAGCGCGCGTAGGCGGCGGTGCTGGCCCGGCGTGAAAGCCCCCGGCTCAACCGGGGAGGGTCGTCGGGGACCGCACCGCTTGAGGGCGGTAGGGGCTGGTGGAATGCCTGGTGTAGTGGTGAAATGCGTAGAGATCAGGCGGAACACCCGTGGCGAAGGCGGCCAGCTGGGCCGTCCCTGACGCTGAGGCGCGAAGGCGTGGGGAGCGAACGGGATTAGATACCCCGGTAGTCCATGCCGTAAACGTTGGGCACTAGGTGTGGGGGACATTCCACGTTTTCCGCGCCGTAGCTAACGCATTAAGTGCCCCGCCTGGGGAGTACGGCCGCAAGGCTA\r\n",
      ">13C.700.45.04.NA_70seq1\r\n",
      "TACGGAGGGTGCAAACGTTGCTCGGAATTATTGGGCGTAAAGCGCACGTAGGCGGTCTAGCAAGTCGGGTGTGAAAGCCCTCAGCTTAACTGAGGAAGTGCATTCGAAACTACTAGGCTTGAGTACTGAAGAGGACGACGGAATTCCCGGTGTAGAGGTGAAATTCGTAGATATCGGGAGGAACACCAGTGGCGAAGGCGGTCGTCTGGGCAGATACTGACGCTGAGGTGCGAAAGCGTGGGGAGCAAACAGGATTAGATAGCCTGGTAGTCCACGCCGTAAACGATGAATGTTAGCCGTCGGGCAGTATACTGTTCGGTGGCGCAGCTAACGCATTAAGCATTCCGCCTGGGGAGTACGGTCGCAAGATTA\r\n"
     ]
    }
   ],
   "source": [
    "!head /var/seq_data/priming_exp/data/finalQC.fasta"
   ]
  },
  {
   "cell_type": "markdown",
   "metadata": {},
   "source": [
    "#### Total Number of QC'd sequences"
   ]
  },
  {
   "cell_type": "code",
   "execution_count": 35,
   "metadata": {
    "collapsed": false
   },
   "outputs": [
    {
     "name": "stdout",
     "output_type": "stream",
     "text": [
      "24928697\r\n"
     ]
    }
   ],
   "source": [
    "!grep -c \">\" /var/seq_data/priming_exp/data/finalQC.fasta"
   ]
  }
 ],
 "metadata": {
  "kernelspec": {
   "display_name": "Python 2",
   "language": "python",
   "name": "python2"
  },
  "language_info": {
   "codemirror_mode": {
    "name": "ipython",
    "version": 2
   },
   "file_extension": ".py",
   "mimetype": "text/x-python",
   "name": "python",
   "nbconvert_exporter": "python",
   "pygments_lexer": "ipython2",
   "version": "2.7.9"
  }
 },
 "nbformat": 4,
 "nbformat_minor": 0
}
