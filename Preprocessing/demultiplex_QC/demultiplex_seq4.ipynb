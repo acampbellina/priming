{
 "metadata": {
  "name": "",
  "signature": "sha256:70e75b6126161e0d54248f6d5359610a8d167e0d0b9638cb61e5bba17ec0793a"
 },
 "nbformat": 3,
 "nbformat_minor": 0,
 "worksheets": [
  {
   "cells": [
    {
     "cell_type": "code",
     "collapsed": false,
     "input": [
      "import screed\n",
      "import pandas as pd\n",
      "from collections import Counter\n",
      "import matplotlib.pyplot as plt\n",
      "import numpy as np\n",
      "from mpltools import style\n",
      "from cogent import DNA"
     ],
     "language": "python",
     "metadata": {},
     "outputs": [
      {
       "output_type": "stream",
       "stream": "stderr",
       "text": [
        "/opt/anaconda/lib/python2.7/site-packages/pytz/__init__.py:29: UserWarning: Module argparse was already imported from /opt/anaconda/lib/python2.7/argparse.pyc, but /opt/anaconda/lib/python2.7/site-packages is being added to sys.path\n",
        "  from pkg_resources import resource_stream\n"
       ]
      }
     ],
     "prompt_number": 1
    },
    {
     "cell_type": "code",
     "collapsed": false,
     "input": [
      "style.use(\"ggplot\")"
     ],
     "language": "python",
     "metadata": {},
     "outputs": [],
     "prompt_number": 2
    },
    {
     "cell_type": "code",
     "collapsed": false,
     "input": [
      "%matplotlib inline"
     ],
     "language": "python",
     "metadata": {},
     "outputs": [],
     "prompt_number": 3
    },
    {
     "cell_type": "code",
     "collapsed": false,
     "input": [
      "ir1 = \"/var/seq_data/priming_exp/RawData/Seq4/seq4_index_read2.fastq.gz\"\n",
      "ir2 = \"/var/seq_data/priming_exp/RawData/Seq4/seq4_index_read1.fastq.gz\""
     ],
     "language": "python",
     "metadata": {},
     "outputs": []
    },
    {
     "cell_type": "code",
     "collapsed": false,
     "input": [
      "screed.read_fastq_sequences(ir1)\n",
      "screed.read_fastq_sequences(ir2)"
     ],
     "language": "python",
     "metadata": {},
     "outputs": []
    },
    {
     "cell_type": "code",
     "collapsed": false,
     "input": [
      "ir1db = screed.ScreedDB(\"/var/seq_data/priming_exp/RawData/Seq4/seq4_index_read1.fastq.gz\")\n",
      "ir2db = screed.ScreedDB(\"/var/seq_data/priming_exp/RawData/Seq4/seq4_index_read2.fastq.gz\")"
     ],
     "language": "python",
     "metadata": {},
     "outputs": []
    },
    {
     "cell_type": "code",
     "collapsed": false,
     "input": [
      "!head /var/seq_data/priming_exp/RawData/Seq4/seq4_mapper.csv"
     ],
     "language": "python",
     "metadata": {},
     "outputs": []
    },
    {
     "cell_type": "code",
     "collapsed": false,
     "input": [
      "df_map = pd.read_csv(\"/var/seq_data/priming_exp/RawData/Seq4/seq4_mapper.csv\", \n",
      "                     skiprows=[0], \n",
      "                     delimiter=\",\", \n",
      "                     usecols=[0,4,8], \n",
      "                     names=[\"SampleID\",\"i1\",\"i2\"])\n",
      "df_map.head()"
     ],
     "language": "python",
     "metadata": {},
     "outputs": []
    },
    {
     "cell_type": "code",
     "collapsed": false,
     "input": [
      "df_map[\"i1_rc\"] = df_map.i1.apply(lambda x: str(DNA.makeSequence(x).rc()))"
     ],
     "language": "python",
     "metadata": {},
     "outputs": []
    },
    {
     "cell_type": "code",
     "collapsed": false,
     "input": [
      "df_map.head()"
     ],
     "language": "python",
     "metadata": {},
     "outputs": []
    },
    {
     "cell_type": "code",
     "collapsed": false,
     "input": [
      "\"CTACTATA\" in df_map.i2.tolist()"
     ],
     "language": "python",
     "metadata": {},
     "outputs": []
    },
    {
     "cell_type": "code",
     "collapsed": false,
     "input": [
      "map_d = dict(map(lambda x: (x[0] + x[1], x[2]), zip(df_map.i1_rc, df_map.i2, df_map.SampleID)))\n",
      "print map_d.keys()[0], map_d[map_d.keys()[0]]"
     ],
     "language": "python",
     "metadata": {},
     "outputs": []
    },
    {
     "cell_type": "code",
     "collapsed": false,
     "input": [
      "len(ir1db.keys())"
     ],
     "language": "python",
     "metadata": {},
     "outputs": [],
     "prompt_number": 13
    },
    {
     "cell_type": "code",
     "collapsed": false,
     "input": [
      "counter = 0\n",
      "unassigned = 0\n",
      "plateID = \"seq4\"\n",
      "cnt = Counter()\n",
      "fn = \"/var/seq_data/priming_exp/data/seq4_pear_merged.assembled.demult.fastq\"\n",
      "with open(fn, \"w\") as out:\n",
      "    for rec in screed.open(\"/var/seq_data/priming_exp/data/seq4_pear_merged-2014-07-28.assembled.fastq\"):\n",
      "        index_concat = ir1db[rec[\"name\"]][\"sequence\"] + ir2db[rec[\"name\"]][\"sequence\"] \n",
      "        try:\n",
      "            new_name = map_d[index_concat] + \"_\" + str(counter) + plateID #case sensitive\n",
      "            counter += 1\n",
      "        except KeyError:\n",
      "            unassigned += 1\n",
      "            continue\n",
      "        cnt[map_d[index_concat]] += 1 #case sensitive\n",
      "        s, q = rec[\"sequence\"], rec[\"accuracy\"]\n",
      "        out.write(\"@%s orig_name=%s\\n%s\\n+\\n%s\\n\"%(new_name,rec[\"name\"],s,q))\n",
      "print \"Unable to assign %s reads to samples\"%unassigned"
     ],
     "language": "python",
     "metadata": {},
     "outputs": [
      {
       "output_type": "stream",
       "stream": "stdout",
       "text": [
        "Unable to assign 3691369 reads to samples\n"
       ]
      }
     ],
     "prompt_number": 14
    },
    {
     "cell_type": "code",
     "collapsed": false,
     "input": [
      "X = np.arange(len(cnt.keys()))\n",
      "Y = [v for k, v in cnt.most_common()]\n",
      "fig = plt.figure()\n",
      "fig.set_size_inches((18,8))\n",
      "ax = fig.add_subplot(111)\n",
      "bars = ax.bar(X, Y, width=0.50)\n",
      "xlims = ax.set_xlim((X.min(), X.max()))\n",
      "xt = ax.set_xticks(X)\n",
      "xtl = ax.set_xticklabels([k for k, v in cnt.most_common()], rotation=90, ha=\"center\", size=6)"
     ],
     "language": "python",
     "metadata": {},
     "outputs": [
      {
       "metadata": {},
       "output_type": "display_data",
       "png": "[encoded data removed]",
       "text": [
        "<matplotlib.figure.Figure at 0x537cd10>"
       ]
      }
     ],
     "prompt_number": 15
    }
   ],
   "metadata": {}
  }
 ]
}