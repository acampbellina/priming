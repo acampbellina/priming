{
 "metadata": {
  "name": "",
  "signature": "sha256:9185e12490a450806d7ec2d81125c4c90adce4562ce5d1b79a1e034fb2ca4e1b"
 },
 "nbformat": 3,
 "nbformat_minor": 0,
 "worksheets": [
  {
   "cells": [
    {
     "cell_type": "code",
     "collapsed": false,
     "input": [
      "from cogent.app.usearch import clusters_from_blast_uc_file\n",
      "from cogent.parse.fasta import MinimalFastaParser as parse"
     ],
     "language": "python",
     "metadata": {},
     "outputs": [],
     "prompt_number": 1
    },
    {
     "cell_type": "markdown",
     "metadata": {},
     "source": [
      "###This is the file from the [QC notebook](./QC_Primary.ipynb)"
     ]
    },
    {
     "cell_type": "code",
     "collapsed": false,
     "input": [
      "nprocs = 20"
     ],
     "language": "python",
     "metadata": {},
     "outputs": [],
     "prompt_number": 5
    },
    {
     "cell_type": "code",
     "collapsed": false,
     "input": [
      "!head /var/seq_data/priming_exp/data/finalQC.fasta"
     ],
     "language": "python",
     "metadata": {},
     "outputs": [
      {
       "output_type": "stream",
       "stream": "stdout",
       "text": [
        ">12C.100.28.03.NA_53seq1\r\n",
        "TACGTAGGGGGCAAGCGTTGTCCGGAATCATTGGGCGTAAAGCGCGTGTAGGCGGCCAGAAAAGTCCGCTGTGAAAACTCGAGGCTCAACGTCGAGCTGTCGGTGGAAACTTTCTGGCTAGAGTCCGGAAGAGGAGAATGGAATTCCTGGTGTAGCGGTGAAATGCGTAGATATTCGGAAGAACACCGGTGGCGAAGGCGACCTTCTGGGCCGTTTCTGACGCTGAGGTACGAAAGCGTGGGGAGCAAACAGGATTAGATACCCTGGTAGTCCACGCTGTAAACGATGGTCACTAGGTGTCGGGGGTATCGACCCCCTCGGTGCCGTAGCTAACGCGTTAAGTGACCCGCCTGGGGAGTACGCACGCAAGTGTG\r\n",
        ">12C.700.28.03.NA_54seq1\r\n",
        "TACGAAGGGGGCTAGCGTTGTTCGGAATCACTGGGCGTAAAGGGCGCGTAGGCGGCCTTGTAAGTCGGTGGTGAAAGCCTGTGGCTCAACCACAGAATTGCCTTCGATACTGTAGAGCTTGAGACCGGAAGAGGTAAGTGGAACTGCGGGTGTAGAGGTGAAATTCGTAGATATTCGCAAGAACACCAGTGGCGAAGGCGGCTCACTGGCCCGGTACTGACGCTGAGGTGCGAAAGCGTGGGGAGCAAACAGGATTAGATACCCTGGTAGTCCACGCCGTAAACGATGGATGCTAGCCGTTGGTGGGTTTACCCTTCAGTGGCGCAGCTAACGCATTAAGCATCCCGCCTGGGGAGTACGGTCGCAAGATTA\r\n",
        ">13C.100.28.07.NA_61seq1\r\n",
        "TACGTAGGGTCCGAGCGTTGTCCGGAGTTACTGGGCGTAAAGCGCGCGTAGGCGGCGGTGCTGGCCCGGCGTGAAAGCCCCCGGCTCAACCGGGGAGGGTCGTCGGGGACCGCACCGCTTGAGGGCGGTAGGGGCTGGTGGAATGCCTGGTGTAGTGGTGAAATGCGTAGAGATCAGGCGGAACACCCGTGGCGAAGGCGGCCAGCTGGGCCGTCCCTGACGCTGAGGCGCGAAGGCGTGGGGAGCGAACGGGATTAGATACCCCGGTAGTCCATGCCGTAAACGTTGGGCACTAGGTGTGGGGGACATTCCACGTTTTCCGCGCCGTAGCTAACGCATTAAGTGCCCCGCCTGGGGAGTACGGCCGCAAGGCTA\r\n",
        ">12C.100.45.01.11_1160219seq2\r\n",
        "TACGTAGGGTCCGAGCGTTGTCCGGAGTTACTGGGCGTAAAGCGCGCGTAGGCGGCGGTGCTGGCCCGGCGTGAAAGCCCCCGGCTCAACCGGGGAGGGTCGTCGGGGACCGCACCGCTTGAGGGCGGTAGGGGCTGGTGGAATGCCTGGTGTAGTGGTGAAATGCGTAGAGATCAGGCGGAACACCCGTGGCGAAGGCGGCCAGCTGGGCCGTCCCTGACGCTGAGGCGCGAAGGCGTGGGGAGCGAACGGGATTAGATACCCCGGTAGTCCATGCCGTAAACGTTGGGCACTAGGTGTGGGGGACATTCCACGTTTTCCGCGCCGTAGCTAACGCATTAAGTGCCCCGCCTGGGGAGTACGGCCGCAAGGCTA\r\n",
        ">13C.700.45.04.NA_70seq1\r\n",
        "TACGGAGGGTGCAAACGTTGCTCGGAATTATTGGGCGTAAAGCGCACGTAGGCGGTCTAGCAAGTCGGGTGTGAAAGCCCTCAGCTTAACTGAGGAAGTGCATTCGAAACTACTAGGCTTGAGTACTGAAGAGGACGACGGAATTCCCGGTGTAGAGGTGAAATTCGTAGATATCGGGAGGAACACCAGTGGCGAAGGCGGTCGTCTGGGCAGATACTGACGCTGAGGTGCGAAAGCGTGGGGAGCAAACAGGATTAGATAGCCTGGTAGTCCACGCCGTAAACGATGAATGTTAGCCGTCGGGCAGTATACTGTTCGGTGGCGCAGCTAACGCATTAAGCATTCCGCCTGGGGAGTACGGTCGCAAGATTA\r\n"
       ]
      }
     ],
     "prompt_number": 8
    },
    {
     "cell_type": "code",
     "collapsed": false,
     "input": [
      "!mothur \"#unique.seqs(fasta=/var/seq_data/priming_exp/data/finalQC.fasta)\" > /dev/null"
     ],
     "language": "python",
     "metadata": {},
     "outputs": [],
     "prompt_number": 36
    },
    {
     "cell_type": "code",
     "collapsed": false,
     "input": [
      "counts = {}\n",
      "with open(\"/var/seq_data/priming_exp/data/finalQC.names\") as f:\n",
      "    for line in f:\n",
      "        seedID, seqIDs = line.split(\"\\t\")\n",
      "        count = len(seqIDs.split(\",\"))\n",
      "        counts[seedID] = count     "
     ],
     "language": "python",
     "metadata": {},
     "outputs": [],
     "prompt_number": 39
    },
    {
     "cell_type": "code",
     "collapsed": false,
     "input": [
      "with open(\"/var/seq_data/priming_exp/data/finalQC.unique.usearch_names.fasta\", \"w\") as f:\n",
      "    for n, s in parse(open(\"/var/seq_data/priming_exp/data/finalQC.unique.fasta\")):\n",
      "        if counts[n] > 1:\n",
      "            f.write(\">%s;size=%s;\\n%s\\n\"%(n,counts[n],s))\n",
      "        else:\n",
      "            continue"
     ],
     "language": "python",
     "metadata": {},
     "outputs": [],
     "prompt_number": 52
    },
    {
     "cell_type": "code",
     "collapsed": false,
     "input": [
      "!head /var/seq_data/priming_exp/data/finalQC.unique.usearch_names.fasta"
     ],
     "language": "python",
     "metadata": {},
     "outputs": [
      {
       "output_type": "stream",
       "stream": "stdout",
       "text": [
        ">13C.100.28.07.NA_61seq1;size=2;\r\n",
        "TACGTAGGGTCCGAGCGTTGTCCGGAGTTACTGGGCGTAAAGCGCGCGTAGGCGGCGGTGCTGGCCCGGCGTGAAAGCCCCCGGCTCAACCGGGGAGGGTCGTCGGGGACCGCACCGCTTGAGGGCGGTAGGGGCTGGTGGAATGCCTGGTGTAGTGGTGAAATGCGTAGAGATCAGGCGGAACACCCGTGGCGAAGGCGGCCAGCTGGGCCGTCCCTGACGCTGAGGCGCGAAGGCGTGGGGAGCGAACGGGATTAGATACCCCGGTAGTCCATGCCGTAAACGTTGGGCACTAGGTGTGGGGGACATTCCACGTTTTCCGCGCCGTAGCTAACGCATTAAGTGCCCCGCCTGGGGAGTACGGCCGCAAGGCTA\r\n",
        ">13C.700.14.09.NA_82seq1;size=18;\r\n",
        "TACGTAGGGACCAAGCGTTGTTCGGATTTACTGGGCGTAAAGGGCGCGTAGGCGGCTTGACAAGTCACTTGTGAAATCTCCGGGCTTAACTCGGAACGGCCAAGTGAAACTGTCATGCTAGAGTGCAGAAGGGGCAATCGGAATTCTTGGTGTAGCGGTGAAATGCGTAGATATCAAGAGGAACACCTGAGGTGAAGACGGGTTGCTGGGCTGACACTGACGCTGAGGCGCGAAAGCCAGGGGAGCAAACGGGATTAGATACCCCGGTAGTCCTGGCCCTAAACGATGAATGCTTGGTGTGGCGGGTATCGATCCCTGCCGTGCCGAAGCTAACGCATTAAGCATTCCGCCTGGGGAGTACGGTCGCAAGGCTG\r\n",
        ">00C.000.28.07.NA_112seq1;size=93;\r\n",
        "TACGGAGGGGGCCAGCGTTGCTCGGAATCACTGGGCGTAAAGGGCTCGTAGGCGGTCTGATAAGTCCTGTGTGAAATCCCTTGGCTTAACCAAGGAATTGCGCCGGATACTGTCGGACTAGAGGCCGGGAGAGGGAAGCGGAATTCCGAGTGTAGCGGTGAAATGCGTAGATATTCGGAGGAACACCGGTGGCGAAGGCGGCTTCCTGGACCGGTTCTGACGCTCAAGAGCGAAAGCTAGGGGAGCAAACAGGATTAGATACCCTGGTAGTCCTAGCTGTAAACGATGGGCGCTTGGTGTTGCGGGTATCGACCCCTGCAGTGCCGAAGCTAACGCATTAAGCGCCCCGCCTGGGGAGTACGGTCGCAAGGCTG\r\n",
        ">12C.700.07.08.NA_142seq1;size=3;\r\n",
        "TACAGAGGGTGCAAGCGTTAATCGGAATTACTGGGCGTAAAGCGCGCGTAGGTGGTTTGTTAAGTTGGATGTGAAAGCCCCGGGCTCAACCTGGGAACTGCATCCAAAACTGGCAAGCTAGAGTACGGTAGAGGGTGGTGGAATTTCCTGTGTAGCGGTGAAATGCGTAGATATAGGAAGGAACACCAGTGGCGAAGGCGACCACCTGGACTGATACTGACACTGAGGTGCGAAAGCGTGGGGAGCAAACAGGATTAGATACCCTGGTAGTCCACGCCGTAAACGATGATAACTAGCTGTCCGGGCACTTGGTGCTTGGGTGGCGCAGCTAACGCATTAAGTTATCCGCCTGGGGAGTACGGTCGCAAGATTA\r\n",
        ">13C.100.45.05.NA_168seq1;size=5;\r\n",
        "TACGTAGGTGGCAAGCGTTATCCGGAATTATTGGGCGTAAAGCGCGCGCAGGCGGTTTCTTAAGTCTGATGTGAAAGCCCACGGCTCAACCGTGGAGGGTCATTGGAAACTGGGGAACTTGAGTGCAGAAGAGAAAAGCGGAATTCCACGTGTAGCGGTGAAATGCGTAGAGATGTGGAGGAACACCAGTGGCGAAGGCGGCTTTGTGGTCTGTAACTGACGCTGAGGCGCGAAAGCGTGGGGAGCAAACAGGATTAGATACCCTGGTAGTCCACGCCGTAAACGATGAGTGCTAAGTGTTAGAGGGTTTCCGCCCTTTAGTGCTGCAGCGAACGCATTAAGCACTCCGCCTGGGGAGTACGGTCGCAAGACTG\r\n"
       ]
      }
     ],
     "prompt_number": 53
    },
    {
     "cell_type": "code",
     "collapsed": false,
     "input": [
      "!usearch -sortbysize /var/seq_data/priming_exp/data/finalQC.unique.usearch_names.fasta \\\n",
      "-output /var/seq_data/priming_exp/data/finalQC_uniques_sorted.fasta -minsize 2"
     ],
     "language": "python",
     "metadata": {},
     "outputs": [
      {
       "output_type": "stream",
       "stream": "stdout",
       "text": [
        "usearch v7.0.1090_i86linux32, 4.0Gb RAM (132Gb total), 40 cores\r\n",
        "(C) Copyright 2013 Robert C. Edgar, all rights reserved.\r\n",
        "http://drive5.com/usearch\r\n",
        "\r\n",
        "Licensed to: chuck.peperanney@gmail.com\r\n",
        "\r\n",
        "00:00 2.1Mb Reading /var/seq_data/priming_exp/data/finalQC.unique.usearch_names.fasta"
       ]
      },
      {
       "output_type": "stream",
       "stream": "stdout",
       "text": [
        ", 475Mb\r\n"
       ]
      },
      {
       "output_type": "stream",
       "stream": "stdout",
       "text": [
        "00:08 477Mb 1151639 (1.2M) seqs"
       ]
      },
      {
       "output_type": "stream",
       "stream": "stdout",
       "text": [
        ", min 338, avg 373, max 550nt\r\n",
        "00:09 491Mb Getting sizes\r\n"
       ]
      },
      {
       "output_type": "stream",
       "stream": "stdout",
       "text": [
        "00:11 500Mb Sorting 1151639 sequences\r\n"
       ]
      },
      {
       "output_type": "stream",
       "stream": "stdout",
       "text": [
        "00:11 505Mb    0.0% Writing /var/seq_data/priming_exp/data/finalQC_uniques_sorted.fasta\r"
       ]
      },
      {
       "output_type": "stream",
       "stream": "stdout",
       "text": [
        "00:12 505Mb   15.2% Writing /var/seq_data/priming_exp/data/finalQC_uniques_sorted.fasta\r"
       ]
      },
      {
       "output_type": "stream",
       "stream": "stdout",
       "text": [
        "00:13 505Mb   31.8% Writing /var/seq_data/priming_exp/data/finalQC_uniques_sorted.fasta\r"
       ]
      },
      {
       "output_type": "stream",
       "stream": "stdout",
       "text": [
        "00:14 505Mb   48.9% Writing /var/seq_data/priming_exp/data/finalQC_uniques_sorted.fasta\r"
       ]
      },
      {
       "output_type": "stream",
       "stream": "stdout",
       "text": [
        "00:15 505Mb   66.7% W"
       ]
      },
      {
       "output_type": "stream",
       "stream": "stdout",
       "text": [
        "riting /var/seq_data/priming_exp/data/finalQC_uniques_sorted.fasta\r"
       ]
      },
      {
       "output_type": "stream",
       "stream": "stdout",
       "text": [
        "00:16 505Mb   84.4% Writing /var/seq_data/priming_exp/data/finalQC_uniques_sorted.fasta\r"
       ]
      },
      {
       "output_type": "stream",
       "stream": "stdout",
       "text": [
        "00:17 505Mb   98.9% Writing /var/seq_data/priming_exp/data/finalQC_uniques_sorted.fasta\r"
       ]
      },
      {
       "output_type": "stream",
       "stream": "stdout",
       "text": [
        "00:17 505Mb  100.0% Writing /var/seq_data/priming_exp/data/finalQC_uniques_sorted.fasta\r",
        "\r\n"
       ]
      }
     ],
     "prompt_number": 54
    },
    {
     "cell_type": "code",
     "collapsed": false,
     "input": [
      "!du -h /var/seq_data/priming_exp/data/finalQC.unique.usearch_names.fasta"
     ],
     "language": "python",
     "metadata": {},
     "outputs": [
      {
       "output_type": "stream",
       "stream": "stdout",
       "text": [
        "453M\t/var/seq_data/priming_exp/data/finalQC.unique.usearch_names.fasta\r\n"
       ]
      }
     ],
     "prompt_number": 55
    },
    {
     "cell_type": "code",
     "collapsed": false,
     "input": [
      "!usearch -cluster_otus /var/seq_data/priming_exp/data/finalQC_uniques_sorted.fasta \\\n",
      "-otus /var/seq_data/priming_exp/data/otus.fasta"
     ],
     "language": "python",
     "metadata": {},
     "outputs": [
      {
       "output_type": "stream",
       "stream": "stdout",
       "text": [
        "usearch v7.0.1090_i86linux32, 4.0Gb RAM (132Gb total), 40 cores\r\n",
        "(C) Copyright 2013 Robert C. Edgar, all rights reserved.\r\n",
        "http://drive5.com/usearch\r\n",
        "\r\n",
        "Licensed to: chuck.peperanney@gmail.com\r\n",
        "\r\n",
        "00:00  21Mb    0.1% 0 OTUs\r"
       ]
      },
      {
       "output_type": "stream",
       "stream": "stdout",
       "text": [
        "00:01  30Mb    0.2% 48 OTUs\r"
       ]
      },
      {
       "output_type": "stream",
       "stream": "stdout",
       "text": [
        "00:02  34Mb    0.2% 357 OTUs\r"
       ]
      },
      {
       "output_type": "stream",
       "stream": "stdout",
       "text": [
        "00:03  39Mb    0.6% 1164 OTUs\r"
       ]
      },
      {
       "output_type": "stream",
       "stream": "stdout",
       "text": [
        "00:04  42Mb    0.9% 1693 OTUs\r"
       ]
      },
      {
       "output_type": "stream",
       "stream": "stdout",
       "text": [
        "00:05  44Mb    1.2% 2037 OTUs\r"
       ]
      },
      {
       "output_type": "stream",
       "stream": "stdout",
       "text": [
        "00:06  50Mb    1.5% 2343 OTUs\r"
       ]
      },
      {
       "output_type": "stream",
       "stream": "stdout",
       "text": [
        "00:07  51Mb    1.9% 2597 OTUs\r"
       ]
      },
      {
       "output_type": "stream",
       "stream": "stdout",
       "text": [
        "00:08  53Mb    2.2% 2788 OTUs\r"
       ]
      },
      {
       "output_type": "stream",
       "stream": "stdout",
       "text": [
        "00:09  54Mb    2.5% 2977 OTUs\r"
       ]
      },
      {
       "output_type": "stream",
       "stream": "stdout",
       "text": [
        "00:10  56Mb    2.8% 3129 OTUs\r"
       ]
      },
      {
       "output_type": "stream",
       "stream": "stdout",
       "text": [
        "00:11  57Mb    3.1% 3254 OTUs\r"
       ]
      },
      {
       "output_type": "stream",
       "stream": "stdout",
       "text": [
        "00:12  58Mb    3.4% 3388 OTUs\r"
       ]
      },
      {
       "output_type": "stream",
       "stream": "stdout",
       "text": [
        "00:13  60Mb    3.6% 3488 OTUs\r"
       ]
      },
      {
       "output_type": "stream",
       "stream": "stdout",
       "text": [
        "00:14  61Mb    3.9% 3587 OTUs\r"
       ]
      },
      {
       "output_type": "stream",
       "stream": "stdout",
       "text": [
        "00:15  65Mb    4.2% 3674 OTUs\r"
       ]
      },
      {
       "output_type": "stream",
       "stream": "stdout",
       "text": [
        "00:16  66Mb    4.4% 3758 OTUs\r"
       ]
      },
      {
       "output_type": "stream",
       "stream": "stdout",
       "text": [
        "00:17  67Mb    4.7% 3845 OTUs\r"
       ]
      },
      {
       "output_type": "stream",
       "stream": "stdout",
       "text": [
        "00:18  68Mb    5.0% 3912 OTUs\r"
       ]
      },
      {
       "output_type": "stream",
       "stream": "stdout",
       "text": [
        "00:19  70Mb    5.3% 3988 OTUs\r"
       ]
      },
      {
       "output_type": "stream",
       "stream": "stdout",
       "text": [
        "00:20  71Mb    5.5% 4063 OTUs\r"
       ]
      },
      {
       "output_type": "stream",
       "stream": "stdout",
       "text": [
        "00:21  72Mb    5.8% 4144 OTUs\r"
       ]
      },
      {
       "output_type": "stream",
       "stream": "stdout",
       "text": [
        "00:22  73Mb    6.1% 4224 OTUs\r"
       ]
      },
      {
       "output_type": "stream",
       "stream": "stdout",
       "text": [
        "00:23  74Mb    6.3% 4296 OTUs\r"
       ]
      },
      {
       "output_type": "stream",
       "stream": "stdout",
       "text": [
        "00:24  75Mb    6.6% 4363 OTUs\r"
       ]
      },
      {
       "output_type": "stream",
       "stream": "stdout",
       "text": [
        "00:25  77Mb    6.8% 4417 OTUs\r"
       ]
      },
      {
       "output_type": "stream",
       "stream": "stdout",
       "text": [
        "00:26  77Mb    7.1% 4467 OTUs\r"
       ]
      },
      {
       "output_type": "stream",
       "stream": "stdout",
       "text": [
        "00:27  78Mb    7.2% 4491 OTUs\r"
       ]
      },
      {
       "output_type": "stream",
       "stream": "stdout",
       "text": [
        "00:28  79Mb    7.5% 4554 OTUs\r"
       ]
      },
      {
       "output_type": "stream",
       "stream": "stdout",
       "text": [
        "00:29  80Mb    7.7% 4613 OTUs\r"
       ]
      },
      {
       "output_type": "stream",
       "stream": "stdout",
       "text": [
        "00:30  81Mb    8.0% 4667 OTUs\r"
       ]
      },
      {
       "output_type": "stream",
       "stream": "stdout",
       "text": [
        "00:31  82Mb    8.2% 4723 OTUs\r"
       ]
      },
      {
       "output_type": "stream",
       "stream": "stdout",
       "text": [
        "00:32  83Mb    8.5% 4768 OTUs\r"
       ]
      },
      {
       "output_type": "stream",
       "stream": "stdout",
       "text": [
        "00:33  85Mb    8.7% 4821 OTUs\r"
       ]
      },
      {
       "output_type": "stream",
       "stream": "stdout",
       "text": [
        "00:34  85Mb    8.9% 4863 OTUs\r"
       ]
      },
      {
       "output_type": "stream",
       "stream": "stdout",
       "text": [
        "00:35  86Mb    9.2% 4907 OTUs\r"
       ]
      },
      {
       "output_type": "stream",
       "stream": "stdout",
       "text": [
        "00:36  87Mb    9.4% 4947 OTUs\r"
       ]
      },
      {
       "output_type": "stream",
       "stream": "stdout",
       "text": [
        "00:37  89Mb    9.7% 4991 OTUs\r"
       ]
      },
      {
       "output_type": "stream",
       "stream": "stdout",
       "text": [
        "00:38  90Mb    9.9% 5039 OTUs\r"
       ]
      },
      {
       "output_type": "stream",
       "stream": "stdout",
       "text": [
        "00:39  91Mb   10.1% 5082 OTUs\r"
       ]
      },
      {
       "output_type": "stream",
       "stream": "stdout",
       "text": [
        "00:40  92Mb   10.4% 5123 OTUs\r"
       ]
      },
      {
       "output_type": "stream",
       "stream": "stdout",
       "text": [
        "00:41  93Mb   10.6% 5163 OTUs\r"
       ]
      },
      {
       "output_type": "stream",
       "stream": "stdout",
       "text": [
        "00:42  93Mb   10.8% 5195 OTUs\r"
       ]
      },
      {
       "output_type": "stream",
       "stream": "stdout",
       "text": [
        "00:43  94Mb   11.0% 5227 OTUs\r"
       ]
      },
      {
       "output_type": "stream",
       "stream": "stdout",
       "text": [
        "00:44  95Mb   11.2% 5261 OTUs\r"
       ]
      },
      {
       "output_type": "stream",
       "stream": "stdout",
       "text": [
        "00:45  96Mb   11.5% 5303 OTUs\r"
       ]
      },
      {
       "output_type": "stream",
       "stream": "stdout",
       "text": [
        "00:46  97Mb   11.7% 5336 OTUs\r"
       ]
      },
      {
       "output_type": "stream",
       "stream": "stdout",
       "text": [
        "00:47  98Mb   11.9% 5374 OTUs\r"
       ]
      },
      {
       "output_type": "stream",
       "stream": "stdout",
       "text": [
        "00:48  99Mb   12.1% 5413 OTUs\r"
       ]
      },
      {
       "output_type": "stream",
       "stream": "stdout",
       "text": [
        "00:49 100Mb   12.4% 5444 OTUs\r"
       ]
      },
      {
       "output_type": "stream",
       "stream": "stdout",
       "text": [
        "00:50 101Mb   12.6% 5477 OTUs\r"
       ]
      },
      {
       "output_type": "stream",
       "stream": "stdout",
       "text": [
        "00:51 102Mb   12.8% 5518 OTUs\r"
       ]
      },
      {
       "output_type": "stream",
       "stream": "stdout",
       "text": [
        "00:52 103Mb   13.0% 5538 OTUs\r"
       ]
      },
      {
       "output_type": "stream",
       "stream": "stdout",
       "text": [
        "00:53 104Mb   13.3% 5569 OTUs\r"
       ]
      },
      {
       "output_type": "stream",
       "stream": "stdout",
       "text": [
        "00:54 105Mb   13.5% 5610 OTUs\r"
       ]
      },
      {
       "output_type": "stream",
       "stream": "stdout",
       "text": [
        "00:55 106Mb   13.7% 5642 OTUs\r"
       ]
      },
      {
       "output_type": "stream",
       "stream": "stdout",
       "text": [
        "00:56 107Mb   13.9% 5673 OTUs\r"
       ]
      },
      {
       "output_type": "stream",
       "stream": "stdout",
       "text": [
        "00:57 108Mb   14.1% 5710 OTUs\r"
       ]
      },
      {
       "output_type": "stream",
       "stream": "stdout",
       "text": [
        "00:58 109Mb   14.3% 5724 OTUs\r"
       ]
      },
      {
       "output_type": "stream",
       "stream": "stdout",
       "text": [
        "00:59 109Mb   14.5% 5754 OTUs\r"
       ]
      },
      {
       "output_type": "stream",
       "stream": "stdout",
       "text": [
        "01:00 110Mb   14.7% 5775 OTUs\r"
       ]
      },
      {
       "output_type": "stream",
       "stream": "stdout",
       "text": [
        "01:01 111Mb   14.9% 5809 OTUs\r"
       ]
      },
      {
       "output_type": "stream",
       "stream": "stdout",
       "text": [
        "01:02 112Mb   15.1% 5838 OTUs\r"
       ]
      },
      {
       "output_type": "stream",
       "stream": "stdout",
       "text": [
        "01:03 113Mb   15.3% 5863 OTUs\r"
       ]
      },
      {
       "output_type": "stream",
       "stream": "stdout",
       "text": [
        "01:04 114Mb   15.6% 5894 OTUs\r"
       ]
      },
      {
       "output_type": "stream",
       "stream": "stdout",
       "text": [
        "01:05 115Mb   15.8% 5915 OTUs\r"
       ]
      },
      {
       "output_type": "stream",
       "stream": "stdout",
       "text": [
        "01:06 116Mb   16.0% 5943 OTUs\r"
       ]
      },
      {
       "output_type": "stream",
       "stream": "stdout",
       "text": [
        "01:07 117Mb   16.2% 5980 OTUs\r"
       ]
      },
      {
       "output_type": "stream",
       "stream": "stdout",
       "text": [
        "01:08 118Mb   16.4% 5999 OTUs\r"
       ]
      },
      {
       "output_type": "stream",
       "stream": "stdout",
       "text": [
        "01:09 119Mb   16.6% 6022 OTUs\r"
       ]
      },
      {
       "output_type": "stream",
       "stream": "stdout",
       "text": [
        "01:10 120Mb   16.7% 6051 OTUs\r"
       ]
      },
      {
       "output_type": "stream",
       "stream": "stdout",
       "text": [
        "01:11 120Mb   16.9% 6072 OTUs\r"
       ]
      },
      {
       "output_type": "stream",
       "stream": "stdout",
       "text": [
        "01:12 121Mb   17.1% 6088 OTUs\r"
       ]
      },
      {
       "output_type": "stream",
       "stream": "stdout",
       "text": [
        "01:13 122Mb   17.3% 6109 OTUs\r"
       ]
      },
      {
       "output_type": "stream",
       "stream": "stdout",
       "text": [
        "01:14 123Mb   17.5% 6134 OTUs\r"
       ]
      },
      {
       "output_type": "stream",
       "stream": "stdout",
       "text": [
        "01:15 124Mb   17.7% 6150 OTUs\r"
       ]
      },
      {
       "output_type": "stream",
       "stream": "stdout",
       "text": [
        "01:16 125Mb   17.9% 6183 OTUs\r"
       ]
      },
      {
       "output_type": "stream",
       "stream": "stdout",
       "text": [
        "01:17 126Mb   18.1% 6209 OTUs\r"
       ]
      },
      {
       "output_type": "stream",
       "stream": "stdout",
       "text": [
        "01:18 127Mb   18.3% 6231 OTUs\r"
       ]
      },
      {
       "output_type": "stream",
       "stream": "stdout",
       "text": [
        "01:19 128Mb   18.5% 6255 OTUs\r"
       ]
      },
      {
       "output_type": "stream",
       "stream": "stdout",
       "text": [
        "01:20 128Mb   18.7% 6274 OTUs\r"
       ]
      },
      {
       "output_type": "stream",
       "stream": "stdout",
       "text": [
        "01:21 129Mb   18.9% 6298 OTUs\r"
       ]
      },
      {
       "output_type": "stream",
       "stream": "stdout",
       "text": [
        "01:22 130Mb   19.1% 6317 OTUs\r"
       ]
      },
      {
       "output_type": "stream",
       "stream": "stdout",
       "text": [
        "01:23 131Mb   19.3% 6337 OTUs\r"
       ]
      },
      {
       "output_type": "stream",
       "stream": "stdout",
       "text": [
        "01:24 132Mb   19.5% 6360 OTUs\r"
       ]
      },
      {
       "output_type": "stream",
       "stream": "stdout",
       "text": [
        "01:25 133Mb   19.7% 6377 OTUs\r"
       ]
      },
      {
       "output_type": "stream",
       "stream": "stdout",
       "text": [
        "01:26 134Mb   19.9% 6404 OTUs\r"
       ]
      },
      {
       "output_type": "stream",
       "stream": "stdout",
       "text": [
        "01:27 135Mb   20.1% 6426 OTUs\r"
       ]
      },
      {
       "output_type": "stream",
       "stream": "stdout",
       "text": [
        "01:28 136Mb   20.3% 6448 OTUs\r"
       ]
      },
      {
       "output_type": "stream",
       "stream": "stdout",
       "text": [
        "01:29 136Mb   20.5% 6465 OTUs\r"
       ]
      },
      {
       "output_type": "stream",
       "stream": "stdout",
       "text": [
        "01:30 137Mb   20.7% 6487 OTUs\r"
       ]
      },
      {
       "output_type": "stream",
       "stream": "stdout",
       "text": [
        "01:31 138Mb   20.9% 6507 OTUs\r"
       ]
      },
      {
       "output_type": "stream",
       "stream": "stdout",
       "text": [
        "01:32 139Mb   21.0% 6519 OTUs\r"
       ]
      },
      {
       "output_type": "stream",
       "stream": "stdout",
       "text": [
        "01:33 139Mb   21.2% 6539 OTUs\r"
       ]
      },
      {
       "output_type": "stream",
       "stream": "stdout",
       "text": [
        "01:34 140Mb   21.4% 6557 OTUs\r"
       ]
      },
      {
       "output_type": "stream",
       "stream": "stdout",
       "text": [
        "01:35 141Mb   21.6% 6573 OTUs\r"
       ]
      },
      {
       "output_type": "stream",
       "stream": "stdout",
       "text": [
        "01:36 142Mb   21.8% 6588 OTUs\r"
       ]
      },
      {
       "output_type": "stream",
       "stream": "stdout",
       "text": [
        "01:37 143Mb   22.0% 6600 OTUs\r"
       ]
      },
      {
       "output_type": "stream",
       "stream": "stdout",
       "text": [
        "01:38 144Mb   22.2% 6618 OTUs\r"
       ]
      },
      {
       "output_type": "stream",
       "stream": "stdout",
       "text": [
        "01:39 145Mb   22.4% 6634 OTUs\r"
       ]
      },
      {
       "output_type": "stream",
       "stream": "stdout",
       "text": [
        "01:40 145Mb   22.6% 6653 OTUs\r"
       ]
      },
      {
       "output_type": "stream",
       "stream": "stdout",
       "text": [
        "01:41 146Mb   22.8% 6670 OTUs\r"
       ]
      },
      {
       "output_type": "stream",
       "stream": "stdout",
       "text": [
        "01:42 147Mb   23.0% 6697 OTUs\r"
       ]
      },
      {
       "output_type": "stream",
       "stream": "stdout",
       "text": [
        "01:43 148Mb   23.2% 6709 OTUs\r"
       ]
      },
      {
       "output_type": "stream",
       "stream": "stdout",
       "text": [
        "01:44 149Mb   23.4% 6725 OTUs\r"
       ]
      },
      {
       "output_type": "stream",
       "stream": "stdout",
       "text": [
        "01:45 150Mb   23.6% 6739 OTUs\r"
       ]
      },
      {
       "output_type": "stream",
       "stream": "stdout",
       "text": [
        "01:46 150Mb   23.8% 6759 OTUs\r"
       ]
      },
      {
       "output_type": "stream",
       "stream": "stdout",
       "text": [
        "01:47 151Mb   24.0% 6773 OTUs\r"
       ]
      },
      {
       "output_type": "stream",
       "stream": "stdout",
       "text": [
        "01:48 152Mb   24.2% 6796 OTUs\r"
       ]
      },
      {
       "output_type": "stream",
       "stream": "stdout",
       "text": [
        "01:49 153Mb   24.3% 6814 OTUs\r"
       ]
      },
      {
       "output_type": "stream",
       "stream": "stdout",
       "text": [
        "01:50 154Mb   24.5% 6834 OTUs\r"
       ]
      },
      {
       "output_type": "stream",
       "stream": "stdout",
       "text": [
        "01:51 154Mb   24.7% 6844 OTUs\r"
       ]
      },
      {
       "output_type": "stream",
       "stream": "stdout",
       "text": [
        "01:52 155Mb   24.8% 6859 OTUs\r"
       ]
      },
      {
       "output_type": "stream",
       "stream": "stdout",
       "text": [
        "01:53 156Mb   25.0% 6879 OTUs\r"
       ]
      },
      {
       "output_type": "stream",
       "stream": "stdout",
       "text": [
        "01:54 157Mb   25.2% 6902 OTUs\r"
       ]
      },
      {
       "output_type": "stream",
       "stream": "stdout",
       "text": [
        "01:55 158Mb   25.4% 6920 OTUs\r"
       ]
      },
      {
       "output_type": "stream",
       "stream": "stdout",
       "text": [
        "01:56 159Mb   25.6% 6935 OTUs\r"
       ]
      },
      {
       "output_type": "stream",
       "stream": "stdout",
       "text": [
        "01:57 160Mb   25.8% 6949 OTUs\r"
       ]
      },
      {
       "output_type": "stream",
       "stream": "stdout",
       "text": [
        "01:58 160Mb   26.0% 6959 OTUs\r"
       ]
      },
      {
       "output_type": "stream",
       "stream": "stdout",
       "text": [
        "01:59 161Mb   26.1% 6971 OTUs\r"
       ]
      },
      {
       "output_type": "stream",
       "stream": "stdout",
       "text": [
        "02:00 162Mb   26.3% 6982 OTUs\r"
       ]
      },
      {
       "output_type": "stream",
       "stream": "stdout",
       "text": [
        "02:01 163Mb   26.5% 6996 OTUs\r"
       ]
      },
      {
       "output_type": "stream",
       "stream": "stdout",
       "text": [
        "02:02 164Mb   26.7% 7005 OTUs\r"
       ]
      },
      {
       "output_type": "stream",
       "stream": "stdout",
       "text": [
        "02:03 165Mb   26.9% 7014 OTUs\r"
       ]
      },
      {
       "output_type": "stream",
       "stream": "stdout",
       "text": [
        "02:04 166Mb   27.0% 7033 OTUs\r"
       ]
      },
      {
       "output_type": "stream",
       "stream": "stdout",
       "text": [
        "02:05 166Mb   27.2% 7045 OTUs\r"
       ]
      },
      {
       "output_type": "stream",
       "stream": "stdout",
       "text": [
        "02:06 167Mb   27.4% 7059 OTUs\r"
       ]
      },
      {
       "output_type": "stream",
       "stream": "stdout",
       "text": [
        "02:07 168Mb   27.6% 7072 OTUs\r"
       ]
      },
      {
       "output_type": "stream",
       "stream": "stdout",
       "text": [
        "02:08 169Mb   27.8% 7080 OTUs\r"
       ]
      },
      {
       "output_type": "stream",
       "stream": "stdout",
       "text": [
        "02:09 170Mb   27.9% 7093 OTUs\r"
       ]
      },
      {
       "output_type": "stream",
       "stream": "stdout",
       "text": [
        "02:10 170Mb   28.1% 7100 OTUs\r"
       ]
      },
      {
       "output_type": "stream",
       "stream": "stdout",
       "text": [
        "02:11 171Mb   28.3% 7111 OTUs\r"
       ]
      },
      {
       "output_type": "stream",
       "stream": "stdout",
       "text": [
        "02:12 172Mb   28.4% 7126 OTUs\r"
       ]
      },
      {
       "output_type": "stream",
       "stream": "stdout",
       "text": [
        "02:13 173Mb   28.6% 7139 OTUs\r"
       ]
      },
      {
       "output_type": "stream",
       "stream": "stdout",
       "text": [
        "02:14 174"
       ]
      },
      {
       "output_type": "stream",
       "stream": "stdout",
       "text": [
        "Mb   28.8% 7157 OTUs\r"
       ]
      },
      {
       "output_type": "stream",
       "stream": "stdout",
       "text": [
        "02:15 175Mb   29.0% 7166 OTUs\r"
       ]
      },
      {
       "output_type": "stream",
       "stream": "stdout",
       "text": [
        "02:16 175Mb   29.2% 7184 OTUs\r"
       ]
      },
      {
       "output_type": "stream",
       "stream": "stdout",
       "text": [
        "02:17 176Mb   29.4% 7190 OTUs\r"
       ]
      },
      {
       "output_type": "stream",
       "stream": "stdout",
       "text": [
        "02:18 177Mb   29.5% 7201 OTUs\r"
       ]
      },
      {
       "output_type": "stream",
       "stream": "stdout",
       "text": [
        "02:19 178Mb   29.7% 7216 OTUs\r"
       ]
      },
      {
       "output_type": "stream",
       "stream": "stdout",
       "text": [
        "02:20 179Mb   29.9% 7229 OTUs\r"
       ]
      },
      {
       "output_type": "stream",
       "stream": "stdout",
       "text": [
        "02:21 179Mb   30.1% 7243 OTUs\r"
       ]
      },
      {
       "output_type": "stream",
       "stream": "stdout",
       "text": [
        "02:22 180Mb   30.3% 7268 OTUs\r"
       ]
      },
      {
       "output_type": "stream",
       "stream": "stdout",
       "text": [
        "02:23 181Mb   30.4% 7282 OTUs\r"
       ]
      },
      {
       "output_type": "stream",
       "stream": "stdout",
       "text": [
        "02:24 182Mb   30.6% 7293 OTUs\r"
       ]
      },
      {
       "output_type": "stream",
       "stream": "stdout",
       "text": [
        "02:25 183Mb   30.8% 7303 OTUs\r"
       ]
      },
      {
       "output_type": "stream",
       "stream": "stdout",
       "text": [
        "02:26 184Mb   31.0% 7315 OTUs\r"
       ]
      },
      {
       "output_type": "stream",
       "stream": "stdout",
       "text": [
        "02:27 184Mb   31.2% 7329 OTUs\r"
       ]
      },
      {
       "output_type": "stream",
       "stream": "stdout",
       "text": [
        "02:28 185Mb   31.3% 7337 OTUs\r"
       ]
      },
      {
       "output_type": "stream",
       "stream": "stdout",
       "text": [
        "02:29 186Mb   31.5% 7346 OTUs\r"
       ]
      },
      {
       "output_type": "stream",
       "stream": "stdout",
       "text": [
        "02:30 187Mb   31.7% 7364 OTUs\r"
       ]
      },
      {
       "output_type": "stream",
       "stream": "stdout",
       "text": [
        "02:31 187Mb   31.9% 7376 OTUs\r"
       ]
      },
      {
       "output_type": "stream",
       "stream": "stdout",
       "text": [
        "02:32 188Mb   32.0% 7389 OTUs\r"
       ]
      },
      {
       "output_type": "stream",
       "stream": "stdout",
       "text": [
        "02:33 189Mb   32.2% 7405 OTUs\r"
       ]
      },
      {
       "output_type": "stream",
       "stream": "stdout",
       "text": [
        "02:34 190Mb   32.4% 7417 OTUs\r"
       ]
      },
      {
       "output_type": "stream",
       "stream": "stdout",
       "text": [
        "02:35 191Mb   32.6% 7428 OTUs\r"
       ]
      },
      {
       "output_type": "stream",
       "stream": "stdout",
       "text": [
        "02:36 192Mb   32.8% 7443 OTUs\r"
       ]
      },
      {
       "output_type": "stream",
       "stream": "stdout",
       "text": [
        "02:37 192Mb   32.9% 7457 OTUs\r"
       ]
      },
      {
       "output_type": "stream",
       "stream": "stdout",
       "text": [
        "02:38 193Mb   33.1% 7468 OTUs\r"
       ]
      },
      {
       "output_type": "stream",
       "stream": "stdout",
       "text": [
        "02:39 194Mb   33.3% 7480 OTUs\r"
       ]
      },
      {
       "output_type": "stream",
       "stream": "stdout",
       "text": [
        "02:40 195Mb   33.5% 7494 OTUs\r"
       ]
      },
      {
       "output_type": "stream",
       "stream": "stdout",
       "text": [
        "02:41 196Mb   33.6% 7511 OTUs\r"
       ]
      },
      {
       "output_type": "stream",
       "stream": "stdout",
       "text": [
        "02:42 197Mb   33.8% 7526 OTUs\r"
       ]
      },
      {
       "output_type": "stream",
       "stream": "stdout",
       "text": [
        "02:43 197Mb   34.0% 7536 OTUs\r"
       ]
      },
      {
       "output_type": "stream",
       "stream": "stdout",
       "text": [
        "02:44 198Mb   34.1% 7548 OTUs\r"
       ]
      },
      {
       "output_type": "stream",
       "stream": "stdout",
       "text": [
        "02:45 199Mb   34.3% 7561 OTUs\r"
       ]
      },
      {
       "output_type": "stream",
       "stream": "stdout",
       "text": [
        "02:46 200Mb   34.5% 7572 OTUs\r"
       ]
      },
      {
       "output_type": "stream",
       "stream": "stdout",
       "text": [
        "02:47 201Mb   34.7% 7585 OTUs\r"
       ]
      },
      {
       "output_type": "stream",
       "stream": "stdout",
       "text": [
        "02:48 201Mb   34.8% 7601 OTUs\r"
       ]
      },
      {
       "output_type": "stream",
       "stream": "stdout",
       "text": [
        "02:49 202Mb   35.0% 7615 OTUs\r"
       ]
      },
      {
       "output_type": "stream",
       "stream": "stdout",
       "text": [
        "02:50 203Mb   35.1% 7623 OTUs\r"
       ]
      },
      {
       "output_type": "stream",
       "stream": "stdout",
       "text": [
        "02:51 204Mb   35.3% 7634 OTUs\r"
       ]
      },
      {
       "output_type": "stream",
       "stream": "stdout",
       "text": [
        "02:52 204Mb   35.5% 7642 OTUs\r"
       ]
      },
      {
       "output_type": "stream",
       "stream": "stdout",
       "text": [
        "02:53 205Mb   35.6% 7659 OTUs\r"
       ]
      },
      {
       "output_type": "stream",
       "stream": "stdout",
       "text": [
        "02:54 206Mb   35.8% 7668 OTUs\r"
       ]
      },
      {
       "output_type": "stream",
       "stream": "stdout",
       "text": [
        "02:55 207Mb   36.0% 7676 OTUs\r"
       ]
      },
      {
       "output_type": "stream",
       "stream": "stdout",
       "text": [
        "02:56 208Mb   36.1% 7680 OTUs\r"
       ]
      },
      {
       "output_type": "stream",
       "stream": "stdout",
       "text": [
        "02:57 208Mb   36.3% 7689 OTUs\r"
       ]
      },
      {
       "output_type": "stream",
       "stream": "stdout",
       "text": [
        "02:58 209Mb   36.4% 7701 OTUs\r"
       ]
      },
      {
       "output_type": "stream",
       "stream": "stdout",
       "text": [
        "02:59 210Mb   36.6% 7710 OTUs\r"
       ]
      },
      {
       "output_type": "stream",
       "stream": "stdout",
       "text": [
        "03:00 211Mb   36.8% 7723 OTUs\r"
       ]
      },
      {
       "output_type": "stream",
       "stream": "stdout",
       "text": [
        "03:01 212Mb   36.9% 7736 OTUs\r"
       ]
      },
      {
       "output_type": "stream",
       "stream": "stdout",
       "text": [
        "03:02 213Mb   37.1% 7748 OTUs\r"
       ]
      },
      {
       "output_type": "stream",
       "stream": "stdout",
       "text": [
        "03:03 214Mb   37.2% 7759 OTUs\r"
       ]
      },
      {
       "output_type": "stream",
       "stream": "stdout",
       "text": [
        "03:04 214Mb   37.4% 7770 OTUs\r"
       ]
      },
      {
       "output_type": "stream",
       "stream": "stdout",
       "text": [
        "03:05 215Mb   37.5% 7778 OTUs\r"
       ]
      },
      {
       "output_type": "stream",
       "stream": "stdout",
       "text": [
        "03:06 216Mb   37.7% 7787 OTUs\r"
       ]
      },
      {
       "output_type": "stream",
       "stream": "stdout",
       "text": [
        "03:07 217Mb   37.9% 7795 OTUs\r"
       ]
      },
      {
       "output_type": "stream",
       "stream": "stdout",
       "text": [
        "03:08 217Mb   38.0% 7808 OTUs\r"
       ]
      },
      {
       "output_type": "stream",
       "stream": "stdout",
       "text": [
        "03:09 218Mb   38.2% 7817 OTUs\r"
       ]
      },
      {
       "output_type": "stream",
       "stream": "stdout",
       "text": [
        "03:10 219Mb   38.3% 7831 OTUs\r"
       ]
      },
      {
       "output_type": "stream",
       "stream": "stdout",
       "text": [
        "03:11 220Mb   38.5% 7843 OTUs\r"
       ]
      },
      {
       "output_type": "stream",
       "stream": "stdout",
       "text": [
        "03:12 221Mb   38.6% 7852 OTUs\r"
       ]
      },
      {
       "output_type": "stream",
       "stream": "stdout",
       "text": [
        "03:13 222Mb   38.8% 7857 OTUs\r"
       ]
      },
      {
       "output_type": "stream",
       "stream": "stdout",
       "text": [
        "03:14 222Mb   38.9% 7864 OTUs\r"
       ]
      },
      {
       "output_type": "stream",
       "stream": "stdout",
       "text": [
        "03:15 223Mb   39.1% 7877 OTUs\r"
       ]
      },
      {
       "output_type": "stream",
       "stream": "stdout",
       "text": [
        "03:16 224Mb   39.2% 7881 OTUs\r"
       ]
      },
      {
       "output_type": "stream",
       "stream": "stdout",
       "text": [
        "03:17 225Mb   39.4% 7894 OTUs\r"
       ]
      },
      {
       "output_type": "stream",
       "stream": "stdout",
       "text": [
        "03:18 226Mb   39.5% 7902 OTUs\r"
       ]
      },
      {
       "output_type": "stream",
       "stream": "stdout",
       "text": [
        "03:19 226Mb   39.7% 7909 OTUs\r"
       ]
      },
      {
       "output_type": "stream",
       "stream": "stdout",
       "text": [
        "03:20 227Mb   39.8% 7918 OTUs\r"
       ]
      },
      {
       "output_type": "stream",
       "stream": "stdout",
       "text": [
        "03:21 228Mb   40.0% 7927 OTUs\r"
       ]
      },
      {
       "output_type": "stream",
       "stream": "stdout",
       "text": [
        "03:22 229Mb   40.1% 7936 OTUs\r"
       ]
      },
      {
       "output_type": "stream",
       "stream": "stdout",
       "text": [
        "03:23 230Mb   40.3% 7951 OTUs\r"
       ]
      },
      {
       "output_type": "stream",
       "stream": "stdout",
       "text": [
        "03:24 231Mb   40.4% 7963 OTUs\r"
       ]
      },
      {
       "output_type": "stream",
       "stream": "stdout",
       "text": [
        "03:25 232Mb   40.6% 7976 OTUs\r"
       ]
      },
      {
       "output_type": "stream",
       "stream": "stdout",
       "text": [
        "03:26 232Mb   40.7% 7986 OTUs\r"
       ]
      },
      {
       "output_type": "stream",
       "stream": "stdout",
       "text": [
        "03:27 233Mb   40.9% 8000 OTUs\r"
       ]
      },
      {
       "output_type": "stream",
       "stream": "stdout",
       "text": [
        "03:28 234Mb   41.0% 8017 OTUs\r"
       ]
      },
      {
       "output_type": "stream",
       "stream": "stdout",
       "text": [
        "03:29 235Mb   41.1% 8030 OTUs\r"
       ]
      },
      {
       "output_type": "stream",
       "stream": "stdout",
       "text": [
        "03:30 236Mb   41.3% 8038 OTUs\r"
       ]
      },
      {
       "output_type": "stream",
       "stream": "stdout",
       "text": [
        "03:31 236Mb   41.4% 8051 OTUs\r"
       ]
      },
      {
       "output_type": "stream",
       "stream": "stdout",
       "text": [
        "03:32 237Mb   41.6% 8060 OTUs\r"
       ]
      },
      {
       "output_type": "stream",
       "stream": "stdout",
       "text": [
        "03:33 238Mb   41.7% 8069 OTUs\r"
       ]
      },
      {
       "output_type": "stream",
       "stream": "stdout",
       "text": [
        "03:34 239Mb   41.9% 8081 OTUs\r"
       ]
      },
      {
       "output_type": "stream",
       "stream": "stdout",
       "text": [
        "03:35 240Mb   42.0% 8092 OTUs\r"
       ]
      },
      {
       "output_type": "stream",
       "stream": "stdout",
       "text": [
        "03:36 240Mb   42.1% 8097 OTUs\r"
       ]
      },
      {
       "output_type": "stream",
       "stream": "stdout",
       "text": [
        "03:37 241Mb   42.3% 8109 OTUs\r"
       ]
      },
      {
       "output_type": "stream",
       "stream": "stdout",
       "text": [
        "03:38 242Mb   42.4% 8122 OTUs\r"
       ]
      },
      {
       "output_type": "stream",
       "stream": "stdout",
       "text": [
        "03:39 243Mb   42.6% 8133 OTUs\r"
       ]
      },
      {
       "output_type": "stream",
       "stream": "stdout",
       "text": [
        "03:40 243Mb   42.7% 8146 OTUs\r"
       ]
      },
      {
       "output_type": "stream",
       "stream": "stdout",
       "text": [
        "03:41 244Mb   42.9% 8156 OTUs\r"
       ]
      },
      {
       "output_type": "stream",
       "stream": "stdout",
       "text": [
        "03:42 245Mb   43.0% 8164 OTUs\r"
       ]
      },
      {
       "output_type": "stream",
       "stream": "stdout",
       "text": [
        "03:43 246Mb   43.2% 8173 OTUs\r"
       ]
      },
      {
       "output_type": "stream",
       "stream": "stdout",
       "text": [
        "03:44 247Mb   43.3% 8181 OTUs\r"
       ]
      },
      {
       "output_type": "stream",
       "stream": "stdout",
       "text": [
        "03:45 247Mb   43.5% 8184 OTUs\r"
       ]
      },
      {
       "output_type": "stream",
       "stream": "stdout",
       "text": [
        "03:46 248Mb   43.6% 8197 OTUs\r"
       ]
      },
      {
       "output_type": "stream",
       "stream": "stdout",
       "text": [
        "03:47 249Mb   43.8% 8210 OTUs\r"
       ]
      },
      {
       "output_type": "stream",
       "stream": "stdout",
       "text": [
        "03:48 250Mb   43.9% 8218 OTUs\r"
       ]
      },
      {
       "output_type": "stream",
       "stream": "stdout",
       "text": [
        "03:49 251Mb   44.1% 8227 OTUs\r"
       ]
      },
      {
       "output_type": "stream",
       "stream": "stdout",
       "text": [
        "03:50 251Mb   44.2% 8235 OTUs\r"
       ]
      },
      {
       "output_type": "stream",
       "stream": "stdout",
       "text": [
        "03:51 252Mb   44.3% 8241 OTUs\r"
       ]
      },
      {
       "output_type": "stream",
       "stream": "stdout",
       "text": [
        "03:52 253Mb   44.5% 8251 OTUs\r"
       ]
      },
      {
       "output_type": "stream",
       "stream": "stdout",
       "text": [
        "03:53 254Mb   44.6% 8261 OTUs\r"
       ]
      },
      {
       "output_type": "stream",
       "stream": "stdout",
       "text": [
        "03:54 255Mb   44.8% 8272 OTUs\r"
       ]
      },
      {
       "output_type": "stream",
       "stream": "stdout",
       "text": [
        "03:55 255Mb   44.9% 8281 OTUs\r"
       ]
      },
      {
       "output_type": "stream",
       "stream": "stdout",
       "text": [
        "03:56 256Mb   45.1% 8294 OTUs\r"
       ]
      },
      {
       "output_type": "stream",
       "stream": "stdout",
       "text": [
        "03:57 257Mb   45.2% 8317 OTUs\r"
       ]
      },
      {
       "output_type": "stream",
       "stream": "stdout",
       "text": [
        "03:58 258Mb   45.4% 8336 OTUs\r"
       ]
      },
      {
       "output_type": "stream",
       "stream": "stdout",
       "text": [
        "03:59 259Mb   45.5% 8375 OTUs\r"
       ]
      },
      {
       "output_type": "stream",
       "stream": "stdout",
       "text": [
        "04:00 259Mb   45.6% 8391 OTUs\r"
       ]
      },
      {
       "output_type": "stream",
       "stream": "stdout",
       "text": [
        "04:01 260Mb   45.7% 8421 OTUs\r"
       ]
      },
      {
       "output_type": "stream",
       "stream": "stdout",
       "text": [
        "04:02 261Mb   45.9% 8449 OTUs\r"
       ]
      },
      {
       "output_type": "stream",
       "stream": "stdout",
       "text": [
        "04:03 262Mb   46.0% 8473 OTUs\r"
       ]
      },
      {
       "output_type": "stream",
       "stream": "stdout",
       "text": [
        "04:04 263Mb   46.1% 8489 OTUs\r"
       ]
      },
      {
       "output_type": "stream",
       "stream": "stdout",
       "text": [
        "04:05 264Mb   46.3% 8514 OTUs\r"
       ]
      },
      {
       "output_type": "stream",
       "stream": "stdout",
       "text": [
        "04:06 265Mb   46.4% 8541 OTUs\r"
       ]
      },
      {
       "output_type": "stream",
       "stream": "stdout",
       "text": [
        "04:07 265Mb   46.5% 8562 OTUs\r"
       ]
      },
      {
       "output_type": "stream",
       "stream": "stdout",
       "text": [
        "04:08 266Mb   46.7% 8582 OTUs\r"
       ]
      },
      {
       "output_type": "stream",
       "stream": "stdout",
       "text": [
        "04:09 267Mb   46.8% 8609 OTUs\r"
       ]
      },
      {
       "output_type": "stream",
       "stream": "stdout",
       "text": [
        "04:10 268Mb   46.9% 8627 OTUs\r"
       ]
      },
      {
       "output_type": "stream",
       "stream": "stdout",
       "text": [
        "04:11 269Mb   47.0% 8644 OTUs\r"
       ]
      },
      {
       "output_type": "stream",
       "stream": "stdout",
       "text": [
        "04:12 270Mb   47.2% 8667 OTUs\r"
       ]
      },
      {
       "output_type": "stream",
       "stream": "stdout",
       "text": [
        "04:13 270Mb   47.3% 8688 OTUs\r"
       ]
      },
      {
       "output_type": "stream",
       "stream": "stdout",
       "text": [
        "04:14 271Mb   47.4% 8716 OTUs\r"
       ]
      },
      {
       "output_type": "stream",
       "stream": "stdout",
       "text": [
        "04:15 272Mb   47.5% 8726 OTUs\r"
       ]
      },
      {
       "output_type": "stream",
       "stream": "stdout",
       "text": [
        "04:16 273Mb   47.6% 8741 OTUs\r"
       ]
      },
      {
       "output_type": "stream",
       "stream": "stdout",
       "text": [
        "04:17 274Mb   47.8% 8759 OTUs\r"
       ]
      },
      {
       "output_type": "stream",
       "stream": "stdout",
       "text": [
        "04:18 275Mb   47.9% 8776 OTUs\r"
       ]
      },
      {
       "output_type": "stream",
       "stream": "stdout",
       "text": [
        "04:19 275Mb   48.0% 8792 OTUs\r"
       ]
      },
      {
       "output_type": "stream",
       "stream": "stdout",
       "text": [
        "04:20 276Mb   48.1% 8805 OTUs\r"
       ]
      },
      {
       "output_type": "stream",
       "stream": "stdout",
       "text": [
        "04:21 277Mb   48.2% 8829 OTUs\r"
       ]
      },
      {
       "output_type": "stream",
       "stream": "stdout",
       "text": [
        "04:22 278Mb   48.4% 8846 OTUs\r"
       ]
      },
      {
       "output_type": "stream",
       "stream": "stdout",
       "text": [
        "04:23 279Mb   48.5% 8866 OTUs\r"
       ]
      },
      {
       "output_type": "stream",
       "stream": "stdout",
       "text": [
        "04:24 280Mb   48.6% 8880 OTUs\r"
       ]
      },
      {
       "output_type": "stream",
       "stream": "stdout",
       "text": [
        "04:25 280Mb   48.7% 8900 OTUs\r"
       ]
      },
      {
       "output_type": "stream",
       "stream": "stdout",
       "text": [
        "04:26 281Mb   48.8% 8914 OTUs\r"
       ]
      },
      {
       "output_type": "stream",
       "stream": "stdout",
       "text": [
        "04:27 282Mb   49.0% 8928 OTUs\r"
       ]
      },
      {
       "output_type": "stream",
       "stream": "stdout",
       "text": [
        "04:28 283Mb   49.0% 8934 OTUs\r"
       ]
      },
      {
       "output_type": "stream",
       "stream": "stdout",
       "text": [
        "04:29 283Mb   49.1% 8955 OTUs\r"
       ]
      },
      {
       "output_type": "stream",
       "stream": "stdout",
       "text": [
        "04:30 284Mb   49.3% 8968 OTUs\r"
       ]
      },
      {
       "output_type": "stream",
       "stream": "stdout",
       "text": [
        "04:31 285Mb   49.4% 8984 OTUs\r"
       ]
      },
      {
       "output_type": "stream",
       "stream": "stdout",
       "text": [
        "04:32 286Mb   49.5% 8996 OTUs\r"
       ]
      },
      {
       "output_type": "stream",
       "stream": "stdout",
       "text": [
        "04:33 287Mb   49.6% 9011 OTUs\r"
       ]
      },
      {
       "output_type": "stream",
       "stream": "stdout",
       "text": [
        "04:34 287Mb   49.7% 9023 OTUs\r"
       ]
      },
      {
       "output_type": "stream",
       "stream": "stdout",
       "text": [
        "04:35 288Mb   49.8% 9042 OTUs\r"
       ]
      },
      {
       "output_type": "stream",
       "stream": "stdout",
       "text": [
        "04:36 289Mb   49.9% 9061 OTUs\r"
       ]
      },
      {
       "output_type": "stream",
       "stream": "stdout",
       "text": [
        "04:37 290Mb   50.0% 9083 OTUs\r"
       ]
      },
      {
       "output_type": "stream",
       "stream": "stdout",
       "text": [
        "04:38 291Mb   50.1% 9104 OTUs\r"
       ]
      },
      {
       "output_type": "stream",
       "stream": "stdout",
       "text": [
        "04:39 292Mb   50.2% 9124 OTUs\r"
       ]
      },
      {
       "output_type": "stream",
       "stream": "stdout",
       "text": [
        "04:40 292Mb   50.3% 9141 OTUs\r"
       ]
      },
      {
       "output_type": "stream",
       "stream": "stdout",
       "text": [
        "04:41 293Mb   50.4% 9160 OTUs\r"
       ]
      },
      {
       "output_type": "stream",
       "stream": "stdout",
       "text": [
        "04:42 294Mb   50.5% 9176 OTUs\r"
       ]
      },
      {
       "output_type": "stream",
       "stream": "stdout",
       "text": [
        "04:43 295Mb   50.6% 9193 OTUs\r"
       ]
      },
      {
       "output_type": "stream",
       "stream": "stdout",
       "text": [
        "04:44 296Mb   50.7% 9206 OTUs\r"
       ]
      },
      {
       "output_type": "stream",
       "stream": "stdout",
       "text": [
        "04:45 296Mb   50.8% 9224 OTUs\r"
       ]
      },
      {
       "output_type": "stream",
       "stream": "stdout",
       "text": [
        "04:46 297Mb   50.9% 9237 OTUs\r"
       ]
      },
      {
       "output_type": "stream",
       "stream": "stdout",
       "text": [
        "04:47 298Mb   51.1% 9254 OTUs\r"
       ]
      },
      {
       "output_type": "stream",
       "stream": "stdout",
       "text": [
        "04:48 299Mb   51.2% 9268 OTUs\r"
       ]
      },
      {
       "output_type": "stream",
       "stream": "stdout",
       "text": [
        "04:49 300Mb   51.3% 9284 OTUs\r"
       ]
      },
      {
       "output_type": "stream",
       "stream": "stdout",
       "text": [
        "04:50 301Mb   51.4% 9298 OTUs\r"
       ]
      },
      {
       "output_type": "stream",
       "stream": "stdout",
       "text": [
        "04:51 301Mb   51.5% 9319 OTUs\r"
       ]
      },
      {
       "output_type": "stream",
       "stream": "stdout",
       "text": [
        "04:52 302Mb   51.6% 9331 OTUs\r"
       ]
      },
      {
       "output_type": "stream",
       "stream": "stdout",
       "text": [
        "04:53 303Mb   51.7% 9343 OTUs\r"
       ]
      },
      {
       "output_type": "stream",
       "stream": "stdout",
       "text": [
        "04:54 304Mb   51.8% 9355 OTUs\r"
       ]
      },
      {
       "output_type": "stream",
       "stream": "stdout",
       "text": [
        "04:55 305Mb   51.9% 9371 OTUs\r"
       ]
      },
      {
       "output_type": "stream",
       "stream": "stdout",
       "text": [
        "04:56 305Mb   52.0% 9389 OTUs\r"
       ]
      },
      {
       "output_type": "stream",
       "stream": "stdout",
       "text": [
        "04:57 306Mb   52.1% 9404 OTUs\r"
       ]
      },
      {
       "output_type": "stream",
       "stream": "stdout",
       "text": [
        "04:58 307Mb   52.2% 9432 OTUs\r"
       ]
      },
      {
       "output_type": "stream",
       "stream": "stdout",
       "text": [
        "04:59 308Mb   52.3% 9458 OTUs\r"
       ]
      },
      {
       "output_type": "stream",
       "stream": "stdout",
       "text": [
        "05:00 309Mb   52.4% 9473 OTUs\r"
       ]
      },
      {
       "output_type": "stream",
       "stream": "stdout",
       "text": [
        "05:01 309Mb   52.5% 9492 OTUs\r"
       ]
      },
      {
       "output_type": "stream",
       "stream": "stdout",
       "text": [
        "05:02 310Mb   52.6% 9521 OTUs\r"
       ]
      },
      {
       "output_type": "stream",
       "stream": "stdout",
       "text": [
        "05:03 311Mb   52.7% 9552 OTUs\r"
       ]
      },
      {
       "output_type": "stream",
       "stream": "stdout",
       "text": [
        "05:04 312Mb   52.8% 9572 OTUs\r"
       ]
      },
      {
       "output_type": "stream",
       "stream": "stdout",
       "text": [
        "05:05 313Mb   52.9% 9594 OTUs\r"
       ]
      },
      {
       "output_type": "stream",
       "stream": "stdout",
       "text": [
        "05:06 314Mb   53.0% 9619 OTUs\r"
       ]
      },
      {
       "output_type": "stream",
       "stream": "stdout",
       "text": [
        "05:07 314Mb   53.1% 9631 OTUs\r"
       ]
      },
      {
       "output_type": "stream",
       "stream": "stdout",
       "text": [
        "05:08 315Mb   53.2% 9648 OTUs\r"
       ]
      },
      {
       "output_type": "stream",
       "stream": "stdout",
       "text": [
        "05:09 316Mb   53.3% 9659 OTUs\r"
       ]
      },
      {
       "output_type": "stream",
       "stream": "stdout",
       "text": [
        "05:10 317Mb   53.4% 9675 OTUs\r"
       ]
      },
      {
       "output_type": "stream",
       "stream": "stdout",
       "text": [
        "05:11 318Mb   53.5% 9687 OTUs\r"
       ]
      },
      {
       "output_type": "stream",
       "stream": "stdout",
       "text": [
        "05:12 318Mb   53.6% 9698 OTUs\r"
       ]
      },
      {
       "output_type": "stream",
       "stream": "stdout",
       "text": [
        "05:13 319Mb   53.7% 9706 OTUs\r"
       ]
      },
      {
       "output_type": "stream",
       "stream": "stdout",
       "text": [
        "05:14 320Mb   53.8% 9723 OTUs\r"
       ]
      },
      {
       "output_type": "stream",
       "stream": "stdout",
       "text": [
        "05:15 321Mb   53.9% 9731 OTUs\r"
       ]
      },
      {
       "output_type": "stream",
       "stream": "stdout",
       "text": [
        "05:16 322Mb   54.0% 9739 OTUs\r"
       ]
      },
      {
       "output_type": "stream",
       "stream": "stdout",
       "text": [
        "05:17 322Mb   54.1% 9753 OTUs\r"
       ]
      },
      {
       "output_type": "stream",
       "stream": "stdout",
       "text": [
        "05:18 323Mb   54.2% 9772 OTUs\r"
       ]
      },
      {
       "output_type": "stream",
       "stream": "stdout",
       "text": [
        "05:19 324Mb   54.3% 9791 OTUs\r"
       ]
      },
      {
       "output_type": "stream",
       "stream": "stdout",
       "text": [
        "05:20 325Mb   54.4% 9807 OTUs\r"
       ]
      },
      {
       "output_type": "stream",
       "stream": "stdout",
       "text": [
        "05:21 326Mb   54.5% 9830 OTUs\r"
       ]
      },
      {
       "output_type": "stream",
       "stream": "stdout",
       "text": [
        "05:22 326Mb   54.5% 9850 OTUs\r"
       ]
      },
      {
       "output_type": "stream",
       "stream": "stdout",
       "text": [
        "05:23 327Mb   54.6% 9866 OTUs\r"
       ]
      },
      {
       "output_type": "stream",
       "stream": "stdout",
       "text": [
        "05:24 328Mb   54.7% 9877 OTUs\r"
       ]
      },
      {
       "output_type": "stream",
       "stream": "stdout",
       "text": [
        "05:25 329Mb   54.8% 9890 OTUs\r"
       ]
      },
      {
       "output_type": "stream",
       "stream": "stdout",
       "text": [
        "05:26 330Mb   54.9% 9907 OTUs\r"
       ]
      },
      {
       "output_type": "stream",
       "stream": "stdout",
       "text": [
        "05:27 330Mb   55.0% 9924 OTUs\r"
       ]
      },
      {
       "output_type": "stream",
       "stream": "stdout",
       "text": [
        "05:28 331Mb   55.1% 9938 OTUs\r"
       ]
      },
      {
       "output_type": "stream",
       "stream": "stdout",
       "text": [
        "05:29 332Mb   55.2% 9959 OTUs\r"
       ]
      },
      {
       "output_type": "stream",
       "stream": "stdout",
       "text": [
        "05:30 333Mb   55.3% 9976 OTUs\r"
       ]
      },
      {
       "output_type": "stream",
       "stream": "stdout",
       "text": [
        "05:31 334Mb   55.4% 9993 OTUs\r"
       ]
      },
      {
       "output_type": "stream",
       "stream": "stdout",
       "text": [
        "05:32 335Mb   55.5% 10010 OTUs\r"
       ]
      },
      {
       "output_type": "stream",
       "stream": "stdout",
       "text": [
        "05:33 335Mb   55.6% 10028 OTUs\r"
       ]
      },
      {
       "output_type": "stream",
       "stream": "stdout",
       "text": [
        "05:34 336Mb   55.6% 10054 OTUs\r"
       ]
      },
      {
       "output_type": "stream",
       "stream": "stdout",
       "text": [
        "05:35 337Mb   55.7% 10080 OTUs\r"
       ]
      },
      {
       "output_type": "stream",
       "stream": "stdout",
       "text": [
        "05:36 338Mb   55.8% 10096 OTUs\r"
       ]
      },
      {
       "output_type": "stream",
       "stream": "stdout",
       "text": [
        "05:37 339Mb   55.9% 10118 OTUs\r"
       ]
      },
      {
       "output_type": "stream",
       "stream": "stdout",
       "text": [
        "05:38 339Mb   56.0% 10123 OTUs\r"
       ]
      },
      {
       "output_type": "stream",
       "stream": "stdout",
       "text": [
        "05:39 340Mb   56.0% 10142 OTUs\r"
       ]
      },
      {
       "output_type": "stream",
       "stream": "stdout",
       "text": [
        "05:40 341Mb   56.1% 10158 OTUs\r"
       ]
      },
      {
       "output_type": "stream",
       "stream": "stdout",
       "text": [
        "05:41 341Mb   56.2% 10173 OTUs\r"
       ]
      },
      {
       "output_type": "stream",
       "stream": "stdout",
       "text": [
        "05:42 342Mb   56.3% 10182 OTUs\r"
       ]
      },
      {
       "output_type": "stream",
       "stream": "stdout",
       "text": [
        "05:43 343Mb   56.4% 10190 OTUs\r"
       ]
      },
      {
       "output_type": "stream",
       "stream": "stdout",
       "text": [
        "05:44 344Mb   56.5% 10213 OTUs\r"
       ]
      },
      {
       "output_type": "stream",
       "stream": "stdout",
       "text": [
        "05:45 345Mb   56.6% 10230 OTUs\r"
       ]
      },
      {
       "output_type": "stream",
       "stream": "stdout",
       "text": [
        "05:46 345Mb   56.7% 10249 OTUs\r"
       ]
      },
      {
       "output_type": "stream",
       "stream": "stdout",
       "text": [
        "05:47 346Mb   56.7% 10268 OTUs\r"
       ]
      },
      {
       "output_type": "stream",
       "stream": "stdout",
       "text": [
        "05:48 347Mb   56.8% 10290 OTUs\r"
       ]
      },
      {
       "output_type": "stream",
       "stream": "stdout",
       "text": [
        "05:49 348Mb   56.9% 10311 OTUs\r"
       ]
      },
      {
       "output_type": "stream",
       "stream": "stdout",
       "text": [
        "05:50 349Mb   57.0% 10321 OTUs\r"
       ]
      },
      {
       "output_type": "stream",
       "stream": "stdout",
       "text": [
        "05:51 350Mb   57.1% 10333 OTUs\r"
       ]
      },
      {
       "output_type": "stream",
       "stream": "stdout",
       "text": [
        "05:52 351Mb   57.2% 10350 OTUs\r"
       ]
      },
      {
       "output_type": "stream",
       "stream": "stdout",
       "text": [
        "05:53 351Mb   57.3% 10381 OTUs\r"
       ]
      },
      {
       "output_type": "stream",
       "stream": "stdout",
       "text": [
        "05:54 352Mb   57.4% 10401 OTUs\r"
       ]
      },
      {
       "output_type": "stream",
       "stream": "stdout",
       "text": [
        "05:55 353Mb   57.4% 10422 OTUs\r"
       ]
      },
      {
       "output_type": "stream",
       "stream": "stdout",
       "text": [
        "05:56 354Mb   57.5% 10446 OTUs\r"
       ]
      },
      {
       "output_type": "stream",
       "stream": "stdout",
       "text": [
        "05:57 355Mb   57.6% 10480 OTUs\r"
       ]
      },
      {
       "output_type": "stream",
       "stream": "stdout",
       "text": [
        "05:58 356Mb   57.7% 10506 OTUs\r"
       ]
      },
      {
       "output_type": "stream",
       "stream": "stdout",
       "text": [
        "05:59 357Mb   57.8% 10537 OTUs\r"
       ]
      },
      {
       "output_type": "stream",
       "stream": "stdout",
       "text": [
        "06:00 358Mb   57.9% 10555 OTUs\r"
       ]
      },
      {
       "output_type": "stream",
       "stream": "stdout",
       "text": [
        "06:01 359Mb   58.0% 10581 OTUs\r"
       ]
      },
      {
       "output_type": "stream",
       "stream": "stdout",
       "text": [
        "06:02 360Mb   58.1% 10608 OTUs\r"
       ]
      },
      {
       "output_type": "stream",
       "stream": "stdout",
       "text": [
        "06:03 361Mb   58.2% 10629 OTUs\r"
       ]
      },
      {
       "output_type": "stream",
       "stream": "stdout",
       "text": [
        "06:04 362Mb   58.3% 10644 OTUs\r"
       ]
      },
      {
       "output_type": "stream",
       "stream": "stdout",
       "text": [
        "06:05 363Mb   58.4% 10663 OTUs\r"
       ]
      },
      {
       "output_type": "stream",
       "stream": "stdout",
       "text": [
        "06:06 363Mb   58.4% 10678 OTUs\r"
       ]
      },
      {
       "output_type": "stream",
       "stream": "stdout",
       "text": [
        "06:07 364Mb   58.5% 10691 OTUs\r"
       ]
      },
      {
       "output_type": "stream",
       "stream": "stdout",
       "text": [
        "06:08 365Mb   58.6% 10704 OTUs\r"
       ]
      },
      {
       "output_type": "stream",
       "stream": "stdout",
       "text": [
        "06:09 366Mb   58.7% 10723 OTUs\r"
       ]
      },
      {
       "output_type": "stream",
       "stream": "stdout",
       "text": [
        "06:10 367Mb   58.8% 10738 OTUs\r"
       ]
      },
      {
       "output_type": "stream",
       "stream": "stdout",
       "text": [
        "06:11 368Mb   58.9% 10750 OTUs\r"
       ]
      },
      {
       "output_type": "stream",
       "stream": "stdout",
       "text": [
        "06:12 369Mb   59.0% 10756 OTUs\r"
       ]
      },
      {
       "output_type": "stream",
       "stream": "stdout",
       "text": [
        "06:13 370Mb   59.1% 10769 OTUs\r"
       ]
      },
      {
       "output_type": "stream",
       "stream": "stdout",
       "text": [
        "06:14 370Mb   59.2% 10779 OTUs\r"
       ]
      },
      {
       "output_type": "stream",
       "stream": "stdout",
       "text": [
        "06:15 371Mb   59.2% 10787 OTUs\r"
       ]
      },
      {
       "output_type": "stream",
       "stream": "stdout",
       "text": [
        "06:16 372Mb   59.3% 10805 OTUs\r"
       ]
      },
      {
       "output_type": "stream",
       "stream": "stdout",
       "text": [
        "06:17 373Mb   59.4% 10825 OTUs\r"
       ]
      },
      {
       "output_type": "stream",
       "stream": "stdout",
       "text": [
        "06:18 374Mb   59.5% 10831 OTUs\r"
       ]
      },
      {
       "output_type": "stream",
       "stream": "stdout",
       "text": [
        "06:19 375Mb   59.5% 10848 OTUs\r"
       ]
      },
      {
       "output_type": "stream",
       "stream": "stdout",
       "text": [
        "06:20 375Mb   59.6% 10867 OTUs\r"
       ]
      },
      {
       "output_type": "stream",
       "stream": "stdout",
       "text": [
        "06:21 376Mb   59.7% 10887 OTUs\r"
       ]
      },
      {
       "output_type": "stream",
       "stream": "stdout",
       "text": [
        "06:22 377Mb   59.8% 10901 OTUs\r"
       ]
      },
      {
       "output_type": "stream",
       "stream": "stdout",
       "text": [
        "06:23 378Mb   59.9% 10918 OTUs\r"
       ]
      },
      {
       "output_type": "stream",
       "stream": "stdout",
       "text": [
        "06:24 379Mb   60.0% 10928 OTUs\r"
       ]
      },
      {
       "output_type": "stream",
       "stream": "stdout",
       "text": [
        "06:25 380Mb   60.1% 10942 OTUs\r"
       ]
      },
      {
       "output_type": "stream",
       "stream": "stdout",
       "text": [
        "06:26 381Mb   60.1% 10965 OTUs\r"
       ]
      },
      {
       "output_type": "stream",
       "stream": "stdout",
       "text": [
        "06:27 382Mb   60.2% 10991 OTUs\r"
       ]
      },
      {
       "output_type": "stream",
       "stream": "stdout",
       "text": [
        "06:28 383Mb   60.3% 11010 OTUs\r"
       ]
      },
      {
       "output_type": "stream",
       "stream": "stdout",
       "text": [
        "06:29 383Mb   60.4% 11025 OTUs\r"
       ]
      },
      {
       "output_type": "stream",
       "stream": "stdout",
       "text": [
        "06:30 384Mb   60.5% 11031 OTUs\r"
       ]
      },
      {
       "output_type": "stream",
       "stream": "stdout",
       "text": [
        "06:31 385Mb   60.6% 11041 OTUs\r"
       ]
      },
      {
       "output_type": "stream",
       "stream": "stdout",
       "text": [
        "06:32 386Mb   60.7% 11052 OTUs\r"
       ]
      },
      {
       "output_type": "stream",
       "stream": "stdout",
       "text": [
        "06:33 387Mb   60.7% 11058 OTUs\r"
       ]
      },
      {
       "output_type": "stream",
       "stream": "stdout",
       "text": [
        "06:34 388Mb   60.8% 11067 OTUs\r"
       ]
      },
      {
       "output_type": "stream",
       "stream": "stdout",
       "text": [
        "06:35 389Mb   60.9% 11072 OTUs\r"
       ]
      },
      {
       "output_type": "stream",
       "stream": "stdout",
       "text": [
        "06:36 389Mb   61.0% 11078 OTUs\r"
       ]
      },
      {
       "output_type": "stream",
       "stream": "stdout",
       "text": [
        "06:37 390Mb   61.1% 11082 OTUs\r"
       ]
      },
      {
       "output_type": "stream",
       "stream": "stdout",
       "text": [
        "06:38 391Mb   61.2% 11091 OTUs\r"
       ]
      },
      {
       "output_type": "stream",
       "stream": "stdout",
       "text": [
        "06:39 392Mb   61.3% 11096 OTUs\r"
       ]
      },
      {
       "output_type": "stream",
       "stream": "stdout",
       "text": [
        "06:40 393Mb   61.3% 11108 OTUs\r"
       ]
      },
      {
       "output_type": "stream",
       "stream": "stdout",
       "text": [
        "06:41 394Mb   61.4% 11113 OTUs\r"
       ]
      },
      {
       "output_type": "stream",
       "stream": "stdout",
       "text": [
        "06:42 394Mb   61.5% 11119 OTUs\r"
       ]
      },
      {
       "output_type": "stream",
       "stream": "stdout",
       "text": [
        "06:43 395Mb   61.6% 11130 OTUs\r"
       ]
      },
      {
       "output_type": "stream",
       "stream": "stdout",
       "text": [
        "06:44 396Mb   61.7% 11135 OTUs\r"
       ]
      },
      {
       "output_type": "stream",
       "stream": "stdout",
       "text": [
        "06:45 397Mb   61.8% 11150 OTUs\r"
       ]
      },
      {
       "output_type": "stream",
       "stream": "stdout",
       "text": [
        "06:46 398Mb   61.8% 11159 OTUs\r"
       ]
      },
      {
       "output_type": "stream",
       "stream": "stdout",
       "text": [
        "06:47 399Mb   61.9% 11170 OTUs\r"
       ]
      },
      {
       "output_type": "stream",
       "stream": "stdout",
       "text": [
        "06:48 400Mb   62.0% 11178 OTUs\r"
       ]
      },
      {
       "output_type": "stream",
       "stream": "stdout",
       "text": [
        "06:49 401Mb   62.1% 11190 OTUs\r"
       ]
      },
      {
       "output_type": "stream",
       "stream": "stdout",
       "text": [
        "06:50 401Mb   62.2% 11200 OTUs\r"
       ]
      },
      {
       "output_type": "stream",
       "stream": "stdout",
       "text": [
        "06:51 402Mb   62.3% 11214 OTUs\r"
       ]
      },
      {
       "output_type": "stream",
       "stream": "stdout",
       "text": [
        "06:52 403Mb   62.3% 11220 OTUs\r"
       ]
      },
      {
       "output_type": "stream",
       "stream": "stdout",
       "text": [
        "06:53 404Mb   62.4% 11230 OTUs\r"
       ]
      },
      {
       "output_type": "stream",
       "stream": "stdout",
       "text": [
        "06:54 405Mb   62.5% 11235 OTUs\r"
       ]
      },
      {
       "output_type": "stream",
       "stream": "stdout",
       "text": [
        "06:55 406Mb   62.6% 11241 OTUs\r"
       ]
      },
      {
       "output_type": "stream",
       "stream": "stdout",
       "text": [
        "06:56 406Mb   62.7% 11247 OTUs\r"
       ]
      },
      {
       "output_type": "stream",
       "stream": "stdout",
       "text": [
        "06:57 407Mb   62.8% 11254 OTUs\r"
       ]
      },
      {
       "output_type": "stream",
       "stream": "stdout",
       "text": [
        "06:58 408Mb   62.9% 11262 OTUs\r"
       ]
      },
      {
       "output_type": "stream",
       "stream": "stdout",
       "text": [
        "06:59 409Mb   62.9% 11265 OTUs\r"
       ]
      },
      {
       "output_type": "stream",
       "stream": "stdout",
       "text": [
        "07:00 410Mb   63.0% 11270 OTUs\r"
       ]
      },
      {
       "output_type": "stream",
       "stream": "stdout",
       "text": [
        "07:01 410Mb   63.1% 11276 OTUs\r"
       ]
      },
      {
       "output_type": "stream",
       "stream": "stdout",
       "text": [
        "07:02 411Mb   63.2% 11279 OTUs\r"
       ]
      },
      {
       "output_type": "stream",
       "stream": "stdout",
       "text": [
        "07:03 412Mb   63.3% 11289 OTUs\r"
       ]
      },
      {
       "output_type": "stream",
       "stream": "stdout",
       "text": [
        "07:04 413Mb   63.4% 11294 OTUs\r"
       ]
      },
      {
       "output_type": "stream",
       "stream": "stdout",
       "text": [
        "07:05 414Mb   63.4% 11301 OTUs\r"
       ]
      },
      {
       "output_type": "stream",
       "stream": "stdout",
       "text": [
        "07:06 415Mb   63.5% 11301 OTUs\r"
       ]
      },
      {
       "output_type": "stream",
       "stream": "stdout",
       "text": [
        "07:07 416Mb   63.6% 11308 OTUs\r"
       ]
      },
      {
       "output_type": "stream",
       "stream": "stdout",
       "text": [
        "07:08 416Mb   63.7% 11317 OTUs\r"
       ]
      },
      {
       "output_type": "stream",
       "stream": "stdout",
       "text": [
        "07:09 417Mb   63.8% 11326 OTUs\r"
       ]
      },
      {
       "output_type": "stream",
       "stream": "stdout",
       "text": [
        "07:10 418Mb   63.9% 11333 OTUs\r"
       ]
      },
      {
       "output_type": "stream",
       "stream": "stdout",
       "text": [
        "07:11 419Mb   63.9% 11339 OTUs\r"
       ]
      },
      {
       "output_type": "stream",
       "stream": "stdout",
       "text": [
        "07:12 420Mb   64.0% 11346 OTUs\r"
       ]
      },
      {
       "output_type": "stream",
       "stream": "stdout",
       "text": [
        "07:13 421Mb   64.1% 11350 OTUs\r"
       ]
      },
      {
       "output_type": "stream",
       "stream": "stdout",
       "text": [
        "07:14 421Mb   64.2% 11358 OTUs\r"
       ]
      },
      {
       "output_type": "stream",
       "stream": "stdout",
       "text": [
        "07:15 422Mb   64.3% 11363 OTUs\r"
       ]
      },
      {
       "output_type": "stream",
       "stream": "stdout",
       "text": [
        "07:16 423Mb   64.4% 11370 OTUs\r"
       ]
      },
      {
       "output_type": "stream",
       "stream": "stdout",
       "text": [
        "07:17 424Mb   64.4% 11378 OTUs\r"
       ]
      },
      {
       "output_type": "stream",
       "stream": "stdout",
       "text": [
        "07:18 425Mb   64.5% 11383 OTUs\r"
       ]
      },
      {
       "output_type": "stream",
       "stream": "stdout",
       "text": [
        "07:19 426Mb   64.6% 11396 OTUs\r"
       ]
      },
      {
       "output_type": "stream",
       "stream": "stdout",
       "text": [
        "07:20 426Mb   64.7% 11403 OTUs\r"
       ]
      },
      {
       "output_type": "stream",
       "stream": "stdout",
       "text": [
        "07:21 427Mb   64.8% 11413 OTUs\r"
       ]
      },
      {
       "output_type": "stream",
       "stream": "stdout",
       "text": [
        "07:22 428Mb   64.9% 11423 OTUs\r"
       ]
      },
      {
       "output_type": "stream",
       "stream": "stdout",
       "text": [
        "07:23 429Mb   64.9% 11432 OTUs\r"
       ]
      },
      {
       "output_type": "stream",
       "stream": "stdout",
       "text": [
        "07:24 430Mb   65.0% 11445 OTUs\r"
       ]
      },
      {
       "output_type": "stream",
       "stream": "stdout",
       "text": [
        "07:25 431Mb   65.1% 11453 OTUs\r"
       ]
      },
      {
       "output_type": "stream",
       "stream": "stdout",
       "text": [
        "07:26 431Mb   65.2% 11464 OTUs\r"
       ]
      },
      {
       "output_type": "stream",
       "stream": "stdout",
       "text": [
        "07:27 432Mb   65.3% 11473 OTUs\r"
       ]
      },
      {
       "output_type": "stream",
       "stream": "stdout",
       "text": [
        "07:28 433Mb   65.3% 11485 OTUs\r"
       ]
      },
      {
       "output_type": "stream",
       "stream": "stdout",
       "text": [
        "07:29 434Mb   65.4% 11494 OTUs\r"
       ]
      },
      {
       "output_type": "stream",
       "stream": "stdout",
       "text": [
        "07:30 435Mb   65.5% 11502 OTUs\r"
       ]
      },
      {
       "output_type": "stream",
       "stream": "stdout",
       "text": [
        "07:31 436Mb   65.6% 11509 OTUs\r"
       ]
      },
      {
       "output_type": "stream",
       "stream": "stdout",
       "text": [
        "07:32 437Mb   65.7% 11520 OTUs\r"
       ]
      },
      {
       "output_type": "stream",
       "stream": "stdout",
       "text": [
        "07:33 437Mb   65.7% 11531 OTUs\r"
       ]
      },
      {
       "output_type": "stream",
       "stream": "stdout",
       "text": [
        "07:34 438Mb   65.8% 11544 OTUs\r"
       ]
      },
      {
       "output_type": "stream",
       "stream": "stdout",
       "text": [
        "07:35 439Mb   65.9% 11552 OTUs\r"
       ]
      },
      {
       "output_type": "stream",
       "stream": "stdout",
       "text": [
        "07:36 440Mb   66.0% 11556 OTUs\r"
       ]
      },
      {
       "output_type": "stream",
       "stream": "stdout",
       "text": [
        "07:37 441Mb   66.1% 11564 OTUs\r"
       ]
      },
      {
       "output_type": "stream",
       "stream": "stdout",
       "text": [
        "07:38 442Mb   66.1% 11572 OTUs\r"
       ]
      },
      {
       "output_type": "stream",
       "stream": "stdout",
       "text": [
        "07:39 443Mb   66.2% 11584 OTUs\r"
       ]
      },
      {
       "output_type": "stream",
       "stream": "stdout",
       "text": [
        "07:40 444Mb   66.3% 11593 OTUs\r"
       ]
      },
      {
       "output_type": "stream",
       "stream": "stdout",
       "text": [
        "07:41 444Mb   66.4% 11603 OTUs\r"
       ]
      },
      {
       "output_type": "stream",
       "stream": "stdout",
       "text": [
        "07:42 445Mb   66.4% 11614 OTUs\r"
       ]
      },
      {
       "output_type": "stream",
       "stream": "stdout",
       "text": [
        "07:43 446Mb   66.5% 11617 OTUs\r"
       ]
      },
      {
       "output_type": "stream",
       "stream": "stdout",
       "text": [
        "07:44 447Mb   66.6% 11625 OTUs\r"
       ]
      },
      {
       "output_type": "stream",
       "stream": "stdout",
       "text": [
        "07:45 447Mb   66.7% 11629 OTUs\r"
       ]
      },
      {
       "output_type": "stream",
       "stream": "stdout",
       "text": [
        "07:46 448Mb   66.7% 11640 OTUs\r"
       ]
      },
      {
       "output_type": "stream",
       "stream": "stdout",
       "text": [
        "07:47 449Mb   66.8% 11642 OTUs\r"
       ]
      },
      {
       "output_type": "stream",
       "stream": "stdout",
       "text": [
        "07:48 450Mb   66.9% 11655 OTUs\r"
       ]
      },
      {
       "output_type": "stream",
       "stream": "stdout",
       "text": [
        "07:49 451Mb   67.0% 11666 OTUs\r"
       ]
      },
      {
       "output_type": "stream",
       "stream": "stdout",
       "text": [
        "07:50 451Mb   67.1% 11673 OTUs\r"
       ]
      },
      {
       "output_type": "stream",
       "stream": "stdout",
       "text": [
        "07:51 453Mb   67.1% 11684 OTUs\r"
       ]
      },
      {
       "output_type": "stream",
       "stream": "stdout",
       "text": [
        "07:52 453Mb   67.2% 11693 OTUs\r"
       ]
      },
      {
       "output_type": "stream",
       "stream": "stdout",
       "text": [
        "07:53 454Mb   67.3% 11701 OTUs\r"
       ]
      },
      {
       "output_type": "stream",
       "stream": "stdout",
       "text": [
        "07:54 455Mb   67.4% 11712 OTUs\r"
       ]
      },
      {
       "output_type": "stream",
       "stream": "stdout",
       "text": [
        "07:55 456Mb   67.5% 11717 OTUs\r"
       ]
      },
      {
       "output_type": "stream",
       "stream": "stdout",
       "text": [
        "07:56 457Mb   67.5% 11724 OTUs\r"
       ]
      },
      {
       "output_type": "stream",
       "stream": "stdout",
       "text": [
        "07:57 457Mb   67.6% 11732 OTUs\r"
       ]
      },
      {
       "output_type": "stream",
       "stream": "stdout",
       "text": [
        "07:58 458Mb   67.7% 11743 OTUs\r"
       ]
      },
      {
       "output_type": "stream",
       "stream": "stdout",
       "text": [
        "07:59 459Mb   67.8% 11748 OTUs\r"
       ]
      },
      {
       "output_type": "stream",
       "stream": "stdout",
       "text": [
        "08:00 460Mb   67.9% 11759 OTUs\r"
       ]
      },
      {
       "output_type": "stream",
       "stream": "stdout",
       "text": [
        "08:01 461Mb   67.9% 11768 OTUs\r"
       ]
      },
      {
       "output_type": "stream",
       "stream": "stdout",
       "text": [
        "08:02 462Mb   68.0% 11780 OTUs\r"
       ]
      },
      {
       "output_type": "stream",
       "stream": "stdout",
       "text": [
        "08:03 462Mb   68.1% 11787 OTUs\r"
       ]
      },
      {
       "output_type": "stream",
       "stream": "stdout",
       "text": [
        "08:04 463Mb   68.2% 11791 OTUs\r"
       ]
      },
      {
       "output_type": "stream",
       "stream": "stdout",
       "text": [
        "08:05 464Mb   68.2% 11800 OTUs\r"
       ]
      },
      {
       "output_type": "stream",
       "stream": "stdout",
       "text": [
        "08:06 465Mb   68.3% 11809 OTUs\r"
       ]
      },
      {
       "output_type": "stream",
       "stream": "stdout",
       "text": [
        "08:07 466Mb   68.4% 11813 OTUs\r"
       ]
      },
      {
       "output_type": "stream",
       "stream": "stdout",
       "text": [
        "08:08 467Mb   68.5% 11825 OTUs\r"
       ]
      },
      {
       "output_type": "stream",
       "stream": "stdout",
       "text": [
        "08:09 467Mb   68.6% 11837 OTUs\r"
       ]
      },
      {
       "output_type": "stream",
       "stream": "stdout",
       "text": [
        "08:10 468Mb   68.6% 11847 OTUs\r"
       ]
      },
      {
       "output_type": "stream",
       "stream": "stdout",
       "text": [
        "08:11 469Mb   68.7% 11854 OTUs\r"
       ]
      },
      {
       "output_type": "stream",
       "stream": "stdout",
       "text": [
        "08:12 470Mb   68.8% 11860 OTUs\r"
       ]
      },
      {
       "output_type": "stream",
       "stream": "stdout",
       "text": [
        "08:13 471Mb   68.9% 11864 OTUs\r"
       ]
      },
      {
       "output_type": "stream",
       "stream": "stdout",
       "text": [
        "08:14 472Mb   68.9% 11874 OTUs\r"
       ]
      },
      {
       "output_type": "stream",
       "stream": "stdout",
       "text": [
        "08:15 472Mb   69.0% 11884 OTUs\r"
       ]
      },
      {
       "output_type": "stream",
       "stream": "stdout",
       "text": [
        "08:16 473Mb   69.1% 11891 OTUs\r"
       ]
      },
      {
       "output_type": "stream",
       "stream": "stdout",
       "text": [
        "08:17 474Mb   69.2% 11896 OTUs\r"
       ]
      },
      {
       "output_type": "stream",
       "stream": "stdout",
       "text": [
        "08:18 475Mb   69.3% 11908 OTUs\r"
       ]
      },
      {
       "output_type": "stream",
       "stream": "stdout",
       "text": [
        "08:19 476Mb   69.3% 11917 OTUs\r"
       ]
      },
      {
       "output_type": "stream",
       "stream": "stdout",
       "text": [
        "08:20 477Mb   69.4% 11921 OTUs\r"
       ]
      },
      {
       "output_type": "stream",
       "stream": "stdout",
       "text": [
        "08:21 477Mb   69.5% 11926 OTUs\r"
       ]
      },
      {
       "output_type": "stream",
       "stream": "stdout",
       "text": [
        "08:22 478Mb   69.6% 11935 OTUs\r"
       ]
      },
      {
       "output_type": "stream",
       "stream": "stdout",
       "text": [
        "08:23 479Mb   69.6% 11946 OTUs\r"
       ]
      },
      {
       "output_type": "stream",
       "stream": "stdout",
       "text": [
        "08:24 480Mb   69.7% 11953 OTUs\r"
       ]
      },
      {
       "output_type": "stream",
       "stream": "stdout",
       "text": [
        "08:25 481Mb   69.8% 11960 OTUs\r"
       ]
      },
      {
       "output_type": "stream",
       "stream": "stdout",
       "text": [
        "08:26 481Mb   69.9% 11966 OTUs\r"
       ]
      },
      {
       "output_type": "stream",
       "stream": "stdout",
       "text": [
        "08:27 482Mb   69.9% 11969 OTUs\r"
       ]
      },
      {
       "output_type": "stream",
       "stream": "stdout",
       "text": [
        "08:28 483Mb   70.0% 11972 OTUs\r"
       ]
      },
      {
       "output_type": "stream",
       "stream": "stdout",
       "text": [
        "08:29 483Mb   70.1% 11978 OTUs\r"
       ]
      },
      {
       "output_type": "stream",
       "stream": "stdout",
       "text": [
        "08:30 484Mb   70.2% 11981 OTUs\r"
       ]
      },
      {
       "output_type": "stream",
       "stream": "stdout",
       "text": [
        "08:31 485Mb   70.2% 11983 OTUs\r"
       ]
      },
      {
       "output_type": "stream",
       "stream": "stdout",
       "text": [
        "08:32 486Mb   70.3% 11994 OTUs\r"
       ]
      },
      {
       "output_type": "stream",
       "stream": "stdout",
       "text": [
        "08:33 487Mb   70.4% 12001 OTUs\r"
       ]
      },
      {
       "output_type": "stream",
       "stream": "stdout",
       "text": [
        "08:34 488Mb   70.5% 12009 OTUs\r"
       ]
      },
      {
       "output_type": "stream",
       "stream": "stdout",
       "text": [
        "08:35 488Mb   70.5% 12014 OTUs\r"
       ]
      },
      {
       "output_type": "stream",
       "stream": "stdout",
       "text": [
        "08:36 489Mb   70.6% 12019 OTUs\r"
       ]
      },
      {
       "output_type": "stream",
       "stream": "stdout",
       "text": [
        "08:37 490Mb   70.7% 12022 OTUs\r"
       ]
      },
      {
       "output_type": "stream",
       "stream": "stdout",
       "text": [
        "08:38 491Mb   70.8% 12026 OTUs\r"
       ]
      },
      {
       "output_type": "stream",
       "stream": "stdout",
       "text": [
        "08:39 492Mb   70.8% 12027 OTUs\r"
       ]
      },
      {
       "output_type": "stream",
       "stream": "stdout",
       "text": [
        "08:40 492Mb   70.9% 12032 OTUs\r"
       ]
      },
      {
       "output_type": "stream",
       "stream": "stdout",
       "text": [
        "08:41 493Mb   71.0% 12042 OTUs\r"
       ]
      },
      {
       "output_type": "stream",
       "stream": "stdout",
       "text": [
        "08:42 494Mb   71.0% 12046 OTUs\r"
       ]
      },
      {
       "output_type": "stream",
       "stream": "stdout",
       "text": [
        "08:43 495Mb   71.1% 12064 OTUs\r"
       ]
      },
      {
       "output_type": "stream",
       "stream": "stdout",
       "text": [
        "08:44 496Mb   71.2% 12064 OTUs\r"
       ]
      },
      {
       "output_type": "stream",
       "stream": "stdout",
       "text": [
        "08:45 497Mb   71.3% 12067 OTUs\r"
       ]
      },
      {
       "output_type": "stream",
       "stream": "stdout",
       "text": [
        "08:46 498Mb   71.3% 12074 OTUs\r"
       ]
      },
      {
       "output_type": "stream",
       "stream": "stdout",
       "text": [
        "08:47 498Mb   71.4% 12074 OTUs\r"
       ]
      },
      {
       "output_type": "stream",
       "stream": "stdout",
       "text": [
        "08:48 499Mb   71.5% 12074 OTUs\r"
       ]
      },
      {
       "output_type": "stream",
       "stream": "stdout",
       "text": [
        "08:49 500Mb   71.5% 12077 OTUs\r"
       ]
      },
      {
       "output_type": "stream",
       "stream": "stdout",
       "text": [
        "08:50 501Mb   71.6% 12081 OTUs\r"
       ]
      },
      {
       "output_type": "stream",
       "stream": "stdout",
       "text": [
        "08:51 502Mb   71.7% 12089 OTUs\r"
       ]
      },
      {
       "output_type": "stream",
       "stream": "stdout",
       "text": [
        "08:52 502Mb   71.8% 12097 OTUs\r"
       ]
      },
      {
       "output_type": "stream",
       "stream": "stdout",
       "text": [
        "08:53 503Mb   71.8% 12106 OTUs\r"
       ]
      },
      {
       "output_type": "stream",
       "stream": "stdout",
       "text": [
        "08:54 504Mb   71.9% 12113 OTUs\r"
       ]
      },
      {
       "output_type": "stream",
       "stream": "stdout",
       "text": [
        "08:55 505Mb   72.0% 12115 OTUs\r"
       ]
      },
      {
       "output_type": "stream",
       "stream": "stdout",
       "text": [
        "08:56 506Mb   72.1% 12125 OTUs\r"
       ]
      },
      {
       "output_type": "stream",
       "stream": "stdout",
       "text": [
        "08:57 506Mb   72.1% 12135 OTUs\r"
       ]
      },
      {
       "output_type": "stream",
       "stream": "stdout",
       "text": [
        "08:58 507Mb   72.2% 12141 OTUs\r"
       ]
      },
      {
       "output_type": "stream",
       "stream": "stdout",
       "text": [
        "08:59 508Mb   72.3% 12143 OTUs\r"
       ]
      },
      {
       "output_type": "stream",
       "stream": "stdout",
       "text": [
        "09:00 509Mb   72.3% 12146 OTUs\r"
       ]
      },
      {
       "output_type": "stream",
       "stream": "stdout",
       "text": [
        "09:01 510Mb   72.4% 12146 OTUs\r"
       ]
      },
      {
       "output_type": "stream",
       "stream": "stdout",
       "text": [
        "09:02 510Mb   72.5% 12148 OTUs\r"
       ]
      },
      {
       "output_type": "stream",
       "stream": "stdout",
       "text": [
        "09:03 511Mb   72.5% 12152 OTUs\r"
       ]
      },
      {
       "output_type": "stream",
       "stream": "stdout",
       "text": [
        "09:04 512Mb   72.6% 12159 OTUs\r"
       ]
      },
      {
       "output_type": "stream",
       "stream": "stdout",
       "text": [
        "09:05 513Mb   72.7% 12165 OTUs\r"
       ]
      },
      {
       "output_type": "stream",
       "stream": "stdout",
       "text": [
        "09:06 514Mb   72.8% 12169 OTUs\r"
       ]
      },
      {
       "output_type": "stream",
       "stream": "stdout",
       "text": [
        "09:07 514Mb   72.9% 12176 OTUs\r"
       ]
      },
      {
       "output_type": "stream",
       "stream": "stdout",
       "text": [
        "09:08 515Mb   72.9% 12178 OTUs\r"
       ]
      },
      {
       "output_type": "stream",
       "stream": "stdout",
       "text": [
        "09:09 516Mb   73.0% 12185 OTUs\r"
       ]
      },
      {
       "output_type": "stream",
       "stream": "stdout",
       "text": [
        "09:10 517Mb   73.1% 12187 OTUs\r"
       ]
      },
      {
       "output_type": "stream",
       "stream": "stdout",
       "text": [
        "09:11 517Mb   73.1% 12190 OTUs\r"
       ]
      },
      {
       "output_type": "stream",
       "stream": "stdout",
       "text": [
        "09:12 518Mb   73.2% 12197 OTUs\r"
       ]
      },
      {
       "output_type": "stream",
       "stream": "stdout",
       "text": [
        "09:13 519Mb   73.3% 12204 OTUs\r"
       ]
      },
      {
       "output_type": "stream",
       "stream": "stdout",
       "text": [
        "09:14 520Mb   73.3% 12209 OTUs\r"
       ]
      },
      {
       "output_type": "stream",
       "stream": "stdout",
       "text": [
        "09:15 521Mb   73.4% 12213 OTUs\r"
       ]
      },
      {
       "output_type": "stream",
       "stream": "stdout",
       "text": [
        "09:16 521Mb   73.5% 12220 OTUs\r"
       ]
      },
      {
       "output_type": "stream",
       "stream": "stdout",
       "text": [
        "09:17 522Mb   73.5% 12225 OTUs\r"
       ]
      },
      {
       "output_type": "stream",
       "stream": "stdout",
       "text": [
        "09:18 523Mb   73.6% 12226 OTUs\r"
       ]
      },
      {
       "output_type": "stream",
       "stream": "stdout",
       "text": [
        "09:19 524Mb   73.7% 12233 OTUs\r"
       ]
      },
      {
       "output_type": "stream",
       "stream": "stdout",
       "text": [
        "09:20 524Mb   73.8% 12239 OTUs\r"
       ]
      },
      {
       "output_type": "stream",
       "stream": "stdout",
       "text": [
        "09:21 525Mb   73.9% 12247 OTUs\r"
       ]
      },
      {
       "output_type": "stream",
       "stream": "stdout",
       "text": [
        "09:22 526Mb   73.9% 12251 OTUs\r"
       ]
      },
      {
       "output_type": "stream",
       "stream": "stdout",
       "text": [
        "09:23 527Mb   74.0% 12259 OTUs\r"
       ]
      },
      {
       "output_type": "stream",
       "stream": "stdout",
       "text": [
        "09:24 528Mb   74.1% 12264 OTUs\r"
       ]
      },
      {
       "output_type": "stream",
       "stream": "stdout",
       "text": [
        "09:25 528Mb   74.2% 12267 OTUs\r"
       ]
      },
      {
       "output_type": "stream",
       "stream": "stdout",
       "text": [
        "09:26 529Mb   74.2% 12273 OTUs\r"
       ]
      },
      {
       "output_type": "stream",
       "stream": "stdout",
       "text": [
        "09:27 530Mb   74.3% 12279 OTUs\r"
       ]
      },
      {
       "output_type": "stream",
       "stream": "stdout",
       "text": [
        "09:28 531Mb   74.4% 12287 OTUs\r"
       ]
      },
      {
       "output_type": "stream",
       "stream": "stdout",
       "text": [
        "09:29 532Mb   74.5% 12292 OTUs\r"
       ]
      },
      {
       "output_type": "stream",
       "stream": "stdout",
       "text": [
        "09:30 532Mb   74.5% 12295 OTUs\r"
       ]
      },
      {
       "output_type": "stream",
       "stream": "stdout",
       "text": [
        "09:31 533Mb   74.6% 12298 OTUs\r"
       ]
      },
      {
       "output_type": "stream",
       "stream": "stdout",
       "text": [
        "09:32 534Mb   74.7% 12304 OTUs\r"
       ]
      },
      {
       "output_type": "stream",
       "stream": "stdout",
       "text": [
        "09:33 535Mb   74.8% 12308 OTUs\r"
       ]
      },
      {
       "output_type": "stream",
       "stream": "stdout",
       "text": [
        "09:34 536Mb   74.8% 12311 OTUs\r"
       ]
      },
      {
       "output_type": "stream",
       "stream": "stdout",
       "text": [
        "09:35 537Mb   74.9% 12319 OTUs\r"
       ]
      },
      {
       "output_type": "stream",
       "stream": "stdout",
       "text": [
        "09:36 537Mb   75.0% 12324 OTUs\r"
       ]
      },
      {
       "output_type": "stream",
       "stream": "stdout",
       "text": [
        "09:37 538Mb   75.1% 12333 OTUs\r"
       ]
      },
      {
       "output_type": "stream",
       "stream": "stdout",
       "text": [
        "09:38 539Mb   75.1% 12342 OTUs\r"
       ]
      },
      {
       "output_type": "stream",
       "stream": "stdout",
       "text": [
        "09:39 540Mb   75.2% 12348 OTUs\r"
       ]
      },
      {
       "output_type": "stream",
       "stream": "stdout",
       "text": [
        "09:40 541Mb   75.3% 12359 OTUs\r"
       ]
      },
      {
       "output_type": "stream",
       "stream": "stdout",
       "text": [
        "09:41 541Mb   75.4% 12360 OTUs\r"
       ]
      },
      {
       "output_type": "stream",
       "stream": "stdout",
       "text": [
        "09:42 542Mb   75.5% 12363 OTUs\r"
       ]
      },
      {
       "output_type": "stream",
       "stream": "stdout",
       "text": [
        "09:43 543Mb   75.5% 12371 OTUs\r"
       ]
      },
      {
       "output_type": "stream",
       "stream": "stdout",
       "text": [
        "09:44 544Mb   75.6% 12376 OTUs\r"
       ]
      },
      {
       "output_type": "stream",
       "stream": "stdout",
       "text": [
        "09:45 545Mb   75.7% 12381 OTUs\r"
       ]
      },
      {
       "output_type": "stream",
       "stream": "stdout",
       "text": [
        "09:46 546Mb   75.8% 12391 OTUs\r"
       ]
      },
      {
       "output_type": "stream",
       "stream": "stdout",
       "text": [
        "09:47 546Mb   75.8% 12397 OTUs\r"
       ]
      },
      {
       "output_type": "stream",
       "stream": "stdout",
       "text": [
        "09:48 547Mb   75.9% 12402 OTUs\r"
       ]
      },
      {
       "output_type": "stream",
       "stream": "stdout",
       "text": [
        "09:49 548Mb   76.0% 12408 OTUs\r"
       ]
      },
      {
       "output_type": "stream",
       "stream": "stdout",
       "text": [
        "09:50 549Mb   76.1% 12415 OTUs\r"
       ]
      },
      {
       "output_type": "stream",
       "stream": "stdout",
       "text": [
        "09:51 550Mb   76.1% 12422 OTUs\r"
       ]
      },
      {
       "output_type": "stream",
       "stream": "stdout",
       "text": [
        "09:52 551Mb   76.2% 12432 OTUs\r"
       ]
      },
      {
       "output_type": "stream",
       "stream": "stdout",
       "text": [
        "09:53 551Mb   76.3% 12440 OTUs\r"
       ]
      },
      {
       "output_type": "stream",
       "stream": "stdout",
       "text": [
        "09:54 552Mb   76.4% 12450 OTUs\r"
       ]
      },
      {
       "output_type": "stream",
       "stream": "stdout",
       "text": [
        "09:55 553Mb   76.4% 12460 OTUs\r"
       ]
      },
      {
       "output_type": "stream",
       "stream": "stdout",
       "text": [
        "09:56 554Mb   76.5% 12465 OTUs\r"
       ]
      },
      {
       "output_type": "stream",
       "stream": "stdout",
       "text": [
        "09:57 555Mb   76.6% 12467 OTUs\r"
       ]
      },
      {
       "output_type": "stream",
       "stream": "stdout",
       "text": [
        "09:58 556Mb   76.6% 12469 OTUs\r"
       ]
      },
      {
       "output_type": "stream",
       "stream": "stdout",
       "text": [
        "09:59 557Mb   76.7% 12474 OTUs\r"
       ]
      },
      {
       "output_type": "stream",
       "stream": "stdout",
       "text": [
        "10:00 557Mb   76.8% 12477 OTUs\r"
       ]
      },
      {
       "output_type": "stream",
       "stream": "stdout",
       "text": [
        "10:01 558Mb   76.8% 12480 OTUs\r"
       ]
      },
      {
       "output_type": "stream",
       "stream": "stdout",
       "text": [
        "10:02 559Mb   76.9% 12481 OTUs\r"
       ]
      },
      {
       "output_type": "stream",
       "stream": "stdout",
       "text": [
        "10:03 559Mb   77.0% 12484 OTUs\r"
       ]
      },
      {
       "output_type": "stream",
       "stream": "stdout",
       "text": [
        "10:04 560Mb   77.0% 12486 OTUs\r"
       ]
      },
      {
       "output_type": "stream",
       "stream": "stdout",
       "text": [
        "10:05 561Mb   77.1% 12490 OTUs\r"
       ]
      },
      {
       "output_type": "stream",
       "stream": "stdout",
       "text": [
        "10:06 562Mb   77.2% 12497 OTUs\r"
       ]
      },
      {
       "output_type": "stream",
       "stream": "stdout",
       "text": [
        "10:07 563Mb   77.2% 12499 OTUs\r"
       ]
      },
      {
       "output_type": "stream",
       "stream": "stdout",
       "text": [
        "10:08 564Mb   77.3% 12507 OTUs\r"
       ]
      },
      {
       "output_type": "stream",
       "stream": "stdout",
       "text": [
        "10:09 564Mb   77.4% 12510 OTUs\r"
       ]
      },
      {
       "output_type": "stream",
       "stream": "stdout",
       "text": [
        "10:10 565Mb   77.4% 12514 OTUs\r"
       ]
      },
      {
       "output_type": "stream",
       "stream": "stdout",
       "text": [
        "10:11 566Mb   77.5% 12518 OTUs\r"
       ]
      },
      {
       "output_type": "stream",
       "stream": "stdout",
       "text": [
        "10:12 567Mb   77.6% 12523 OTUs\r"
       ]
      },
      {
       "output_type": "stream",
       "stream": "stdout",
       "text": [
        "10:13 568Mb   77.6% 12527 OTUs\r"
       ]
      },
      {
       "output_type": "stream",
       "stream": "stdout",
       "text": [
        "10:14 568Mb   77.7% 12531 OTUs\r"
       ]
      },
      {
       "output_type": "stream",
       "stream": "stdout",
       "text": [
        "10:15 569Mb   77.8% 12537 OTUs\r"
       ]
      },
      {
       "output_type": "stream",
       "stream": "stdout",
       "text": [
        "10:16 570Mb   77.8% 12538 OTUs\r"
       ]
      },
      {
       "output_type": "stream",
       "stream": "stdout",
       "text": [
        "10:17 571Mb   77.9% 12544 OTUs\r"
       ]
      },
      {
       "output_type": "stream",
       "stream": "stdout",
       "text": [
        "10:18 572Mb   78.0% 12547 OTUs\r"
       ]
      },
      {
       "output_type": "stream",
       "stream": "stdout",
       "text": [
        "10:19 573Mb   78.0% 12552 OTUs\r"
       ]
      },
      {
       "output_type": "stream",
       "stream": "stdout",
       "text": [
        "10:20 573Mb   78.1% 12552 OTUs\r"
       ]
      },
      {
       "output_type": "stream",
       "stream": "stdout",
       "text": [
        "10:21 574Mb   78.2% 12559 OTUs\r"
       ]
      },
      {
       "output_type": "stream",
       "stream": "stdout",
       "text": [
        "10:22 575Mb   78.2% 12568 OTUs\r"
       ]
      },
      {
       "output_type": "stream",
       "stream": "stdout",
       "text": [
        "10:23 576Mb   78.3% 12573 OTUs\r"
       ]
      },
      {
       "output_type": "stream",
       "stream": "stdout",
       "text": [
        "10:24 577Mb   78.4% 12579 OTUs\r"
       ]
      },
      {
       "output_type": "stream",
       "stream": "stdout",
       "text": [
        "10:25 578Mb   78.4% 12583 OTUs\r"
       ]
      },
      {
       "output_type": "stream",
       "stream": "stdout",
       "text": [
        "10:26 579Mb   78.5% 12587 OTUs\r"
       ]
      },
      {
       "output_type": "stream",
       "stream": "stdout",
       "text": [
        "10:27 579Mb   78.6% 12591 OTUs\r"
       ]
      },
      {
       "output_type": "stream",
       "stream": "stdout",
       "text": [
        "10:28 580Mb   78.6% 12596 OTUs\r"
       ]
      },
      {
       "output_type": "stream",
       "stream": "stdout",
       "text": [
        "10:29 581Mb   78.7% 12597 OTUs\r"
       ]
      },
      {
       "output_type": "stream",
       "stream": "stdout",
       "text": [
        "10:30 582Mb   78.8% 12601 OTUs\r"
       ]
      },
      {
       "output_type": "stream",
       "stream": "stdout",
       "text": [
        "10:31 583Mb   78.8% 12607 OTUs\r"
       ]
      },
      {
       "output_type": "stream",
       "stream": "stdout",
       "text": [
        "10:32 583Mb   78.9% 12608 OTUs\r"
       ]
      },
      {
       "output_type": "stream",
       "stream": "stdout",
       "text": [
        "10:33 584Mb   79.0% 12612 OTUs\r"
       ]
      },
      {
       "output_type": "stream",
       "stream": "stdout",
       "text": [
        "10:34 585Mb   79.0% 12612 OTUs\r"
       ]
      },
      {
       "output_type": "stream",
       "stream": "stdout",
       "text": [
        "10:35 586Mb   79.1% 12614 OTUs\r"
       ]
      },
      {
       "output_type": "stream",
       "stream": "stdout",
       "text": [
        "10:36 586Mb   79.2% 12615 OTUs\r"
       ]
      },
      {
       "output_type": "stream",
       "stream": "stdout",
       "text": [
        "10:37 587Mb   79.2% 12618 OTUs\r"
       ]
      },
      {
       "output_type": "stream",
       "stream": "stdout",
       "text": [
        "10:38 588Mb   79.3% 12619 OTUs\r"
       ]
      },
      {
       "output_type": "stream",
       "stream": "stdout",
       "text": [
        "10:39 589Mb   79.4% 12622 OTUs\r"
       ]
      },
      {
       "output_type": "stream",
       "stream": "stdout",
       "text": [
        "10:40 590Mb   79.4% 12625 OTUs\r"
       ]
      },
      {
       "output_type": "stream",
       "stream": "stdout",
       "text": [
        "10:41 590Mb   79.5% 12629 OTUs\r"
       ]
      },
      {
       "output_type": "stream",
       "stream": "stdout",
       "text": [
        "10:42 591Mb   79.6% 12633 OTUs\r"
       ]
      },
      {
       "output_type": "stream",
       "stream": "stdout",
       "text": [
        "10:43 592Mb   79.6% 12637 OTUs\r"
       ]
      },
      {
       "output_type": "stream",
       "stream": "stdout",
       "text": [
        "10:44 593Mb   79.7% 12639 OTUs\r"
       ]
      },
      {
       "output_type": "stream",
       "stream": "stdout",
       "text": [
        "10:45 594Mb   79.8% 12642 OTUs\r"
       ]
      },
      {
       "output_type": "stream",
       "stream": "stdout",
       "text": [
        "10:46 595Mb   79.8% 12643 OTUs\r"
       ]
      },
      {
       "output_type": "stream",
       "stream": "stdout",
       "text": [
        "10:47 595Mb   79.9% 12647 OTUs\r"
       ]
      },
      {
       "output_type": "stream",
       "stream": "stdout",
       "text": [
        "10:48 596Mb   80.0% 12650 OTUs\r"
       ]
      },
      {
       "output_type": "stream",
       "stream": "stdout",
       "text": [
        "10:49 597Mb   80.0% 12652 OTUs\r"
       ]
      },
      {
       "output_type": "stream",
       "stream": "stdout",
       "text": [
        "10:50 598Mb   80.1% 12657 OTUs\r"
       ]
      },
      {
       "output_type": "stream",
       "stream": "stdout",
       "text": [
        "10:51 599Mb   80.2% 12660 OTUs\r"
       ]
      },
      {
       "output_type": "stream",
       "stream": "stdout",
       "text": [
        "10:52 599Mb   80.2% 12665 OTUs\r"
       ]
      },
      {
       "output_type": "stream",
       "stream": "stdout",
       "text": [
        "10:53 600Mb   80.3% 12665 OTUs\r"
       ]
      },
      {
       "output_type": "stream",
       "stream": "stdout",
       "text": [
        "10:54 601Mb   80.4% 12665 OTUs\r"
       ]
      },
      {
       "output_type": "stream",
       "stream": "stdout",
       "text": [
        "10:55 602Mb   80.4% 12666 OTUs\r"
       ]
      },
      {
       "output_type": "stream",
       "stream": "stdout",
       "text": [
        "10:56 602Mb   80.5% 12667 OTUs\r"
       ]
      },
      {
       "output_type": "stream",
       "stream": "stdout",
       "text": [
        "10:57 603Mb   80.5% 12667 OTUs\r"
       ]
      },
      {
       "output_type": "stream",
       "stream": "stdout",
       "text": [
        "10:58 604Mb   80.6% 12670 OTUs\r"
       ]
      },
      {
       "output_type": "stream",
       "stream": "stdout",
       "text": [
        "10:59 605Mb   80.6% 12674 OTUs\r"
       ]
      },
      {
       "output_type": "stream",
       "stream": "stdout",
       "text": [
        "11:00 605Mb   80.7% 12677 OTUs\r"
       ]
      },
      {
       "output_type": "stream",
       "stream": "stdout",
       "text": [
        "11:01 606Mb   80.7% 12679 OTUs\r"
       ]
      },
      {
       "output_type": "stream",
       "stream": "stdout",
       "text": [
        "11:02 607Mb   80.8% 12684 OTUs\r"
       ]
      },
      {
       "output_type": "stream",
       "stream": "stdout",
       "text": [
        "11:03 607Mb   80.9% 12689 OTUs\r"
       ]
      },
      {
       "output_type": "stream",
       "stream": "stdout",
       "text": [
        "11:04 608Mb   80.9% 12689 OTUs\r"
       ]
      },
      {
       "output_type": "stream",
       "stream": "stdout",
       "text": [
        "11:05 609Mb   81.0% 12690 OTUs\r"
       ]
      },
      {
       "output_type": "stream",
       "stream": "stdout",
       "text": [
        "11:06 609Mb   81.0% 12690 OTUs\r"
       ]
      },
      {
       "output_type": "stream",
       "stream": "stdout",
       "text": [
        "11:07 610Mb   81.1% 12692 O"
       ]
      },
      {
       "output_type": "stream",
       "stream": "stdout",
       "text": [
        "TUs\r"
       ]
      },
      {
       "output_type": "stream",
       "stream": "stdout",
       "text": [
        "11:08 611Mb   81.1% 12696 OTUs\r"
       ]
      },
      {
       "output_type": "stream",
       "stream": "stdout",
       "text": [
        "11:09 612Mb   81.2% 12702 OTUs\r"
       ]
      },
      {
       "output_type": "stream",
       "stream": "stdout",
       "text": [
        "11:10 612Mb   81.3% 12704 OTUs\r"
       ]
      },
      {
       "output_type": "stream",
       "stream": "stdout",
       "text": [
        "11:11 613Mb   81.3% 12707 OTUs\r"
       ]
      },
      {
       "output_type": "stream",
       "stream": "stdout",
       "text": [
        "11:12 614Mb   81.4% 12709 OTUs\r"
       ]
      },
      {
       "output_type": "stream",
       "stream": "stdout",
       "text": [
        "11:13 614Mb   81.4% 12713 OTUs\r"
       ]
      },
      {
       "output_type": "stream",
       "stream": "stdout",
       "text": [
        "11:14 615Mb   81.5% 12716 OTUs\r"
       ]
      },
      {
       "output_type": "stream",
       "stream": "stdout",
       "text": [
        "11:15 616Mb   81.5% 12720 OTUs\r"
       ]
      },
      {
       "output_type": "stream",
       "stream": "stdout",
       "text": [
        "11:16 616Mb   81.6% 12723 OTUs\r"
       ]
      },
      {
       "output_type": "stream",
       "stream": "stdout",
       "text": [
        "11:17 617Mb   81.7% 12725 OTUs\r"
       ]
      },
      {
       "output_type": "stream",
       "stream": "stdout",
       "text": [
        "11:18 618Mb   81.7% 12730 OTUs\r"
       ]
      },
      {
       "output_type": "stream",
       "stream": "stdout",
       "text": [
        "11:19 619Mb   81.8% 12732 OTUs\r"
       ]
      },
      {
       "output_type": "stream",
       "stream": "stdout",
       "text": [
        "11:20 619Mb   81.8% 12738 OTUs\r"
       ]
      },
      {
       "output_type": "stream",
       "stream": "stdout",
       "text": [
        "11:21 620Mb   81.9% 12742 OTUs\r"
       ]
      },
      {
       "output_type": "stream",
       "stream": "stdout",
       "text": [
        "11:22 621Mb   81.9% 12744 OTUs\r"
       ]
      },
      {
       "output_type": "stream",
       "stream": "stdout",
       "text": [
        "11:23 621Mb   82.0% 12747 OTUs"
       ]
      },
      {
       "output_type": "stream",
       "stream": "stdout",
       "text": [
        "\r"
       ]
      },
      {
       "output_type": "stream",
       "stream": "stdout",
       "text": [
        "11:24 622Mb   82.1% 12750 OTUs\r"
       ]
      },
      {
       "output_type": "stream",
       "stream": "stdout",
       "text": [
        "11:25 623Mb   82.1% 12752 OTUs\r"
       ]
      },
      {
       "output_type": "stream",
       "stream": "stdout",
       "text": [
        "11:26 624Mb   82.2% 12756 OTUs\r"
       ]
      },
      {
       "output_type": "stream",
       "stream": "stdout",
       "text": [
        "11:27 624Mb   82.2% 12758 OTUs\r"
       ]
      },
      {
       "output_type": "stream",
       "stream": "stdout",
       "text": [
        "11:28 625Mb   82.3% 12761 OTUs\r"
       ]
      },
      {
       "output_type": "stream",
       "stream": "stdout",
       "text": [
        "11:29 626Mb   82.4% 12767 OTUs\r"
       ]
      },
      {
       "output_type": "stream",
       "stream": "stdout",
       "text": [
        "11:30 627Mb   82.4% 12773 OTUs\r"
       ]
      },
      {
       "output_type": "stream",
       "stream": "stdout",
       "text": [
        "11:31 628Mb   82.5% 12777 OTUs\r"
       ]
      },
      {
       "output_type": "stream",
       "stream": "stdout",
       "text": [
        "11:32 628Mb   82.6% 12785 OTUs\r"
       ]
      },
      {
       "output_type": "stream",
       "stream": "stdout",
       "text": [
        "11:33 629Mb   82.6% 12789 OTUs\r"
       ]
      },
      {
       "output_type": "stream",
       "stream": "stdout",
       "text": [
        "11:34 630Mb   82.7% 12793 OTUs\r"
       ]
      },
      {
       "output_type": "stream",
       "stream": "stdout",
       "text": [
        "11:35 631Mb   82.8% 12797 OTUs\r"
       ]
      },
      {
       "output_type": "stream",
       "stream": "stdout",
       "text": [
        "11:36 631Mb   82.8% 12804 OTUs\r"
       ]
      },
      {
       "output_type": "stream",
       "stream": "stdout",
       "text": [
        "11:37 632Mb   82.9% 12808 OTUs\r"
       ]
      },
      {
       "output_type": "stream",
       "stream": "stdout",
       "text": [
        "11:38 633Mb   82.9% 12815 OTUs\r"
       ]
      },
      {
       "output_type": "stream",
       "stream": "stdout",
       "text": [
        "11:39 634Mb   83.0% 12821 OTUs\r"
       ]
      },
      {
       "output_type": "stream",
       "stream": "stdout",
       "text": [
        "11:40 635Mb   83.1% 12824 OTUs\r"
       ]
      },
      {
       "output_type": "stream",
       "stream": "stdout",
       "text": [
        "11:41 635Mb   83.1% 12828 OTUs\r"
       ]
      },
      {
       "output_type": "stream",
       "stream": "stdout",
       "text": [
        "11:42 636Mb   83.2% 12831 OTUs\r"
       ]
      },
      {
       "output_type": "stream",
       "stream": "stdout",
       "text": [
        "11:43 637Mb   83.3% 12840 OTUs\r"
       ]
      },
      {
       "output_type": "stream",
       "stream": "stdout",
       "text": [
        "11:44 638Mb   83.3% 12845 OTUs\r"
       ]
      },
      {
       "output_type": "stream",
       "stream": "stdout",
       "text": [
        "11:45 639Mb   83.3% 12852 OTUs\r"
       ]
      },
      {
       "output_type": "stream",
       "stream": "stdout",
       "text": [
        "11:46 640Mb   83.3% 12856 OTUs\r"
       ]
      },
      {
       "output_type": "stream",
       "stream": "stdout",
       "text": [
        "11:47 640Mb   83.4% 12862 OTUs\r"
       ]
      },
      {
       "output_type": "stream",
       "stream": "stdout",
       "text": [
        "11:48 641Mb   83.5% 12868 OTUs\r"
       ]
      },
      {
       "output_type": "stream",
       "stream": "stdout",
       "text": [
        "11:49 642Mb   83.5% 12870 OTUs\r"
       ]
      },
      {
       "output_type": "stream",
       "stream": "stdout",
       "text": [
        "11:50 643Mb   83.6% 12873 OTUs\r"
       ]
      },
      {
       "output_type": "stream",
       "stream": "stdout",
       "text": [
        "11:51 643Mb   83.7% 12875 OTUs\r"
       ]
      },
      {
       "output_type": "stream",
       "stream": "stdout",
       "text": [
        "11:52 644Mb   83.7% 12881 OTUs\r"
       ]
      },
      {
       "output_type": "stream",
       "stream": "stdout",
       "text": [
        "11:53 645Mb   83.8% 12885 OTUs\r"
       ]
      },
      {
       "output_type": "stream",
       "stream": "stdout",
       "text": [
        "11:54 646Mb   83.8% 12886 OTUs\r"
       ]
      },
      {
       "output_type": "stream",
       "stream": "stdout",
       "text": [
        "11:55 646Mb   83.9% 12891 OTUs\r"
       ]
      },
      {
       "output_type": "stream",
       "stream": "stdout",
       "text": [
        "11:56 647Mb   84.0% 12897 OTUs\r"
       ]
      },
      {
       "output_type": "stream",
       "stream": "stdout",
       "text": [
        "11:57 648Mb   84.0% 12903 OTUs\r"
       ]
      },
      {
       "output_type": "stream",
       "stream": "stdout",
       "text": [
        "11:58 649Mb   84.1% 12908 OTUs\r"
       ]
      },
      {
       "output_type": "stream",
       "stream": "stdout",
       "text": [
        "11:59 650Mb   84.1% 12912 OTUs\r"
       ]
      },
      {
       "output_type": "stream",
       "stream": "stdout",
       "text": [
        "12:00 650Mb   84.2% 12920 OTUs\r"
       ]
      },
      {
       "output_type": "stream",
       "stream": "stdout",
       "text": [
        "12:01 651Mb   84.3% 12927 OTUs\r"
       ]
      },
      {
       "output_type": "stream",
       "stream": "stdout",
       "text": [
        "12:02 652Mb   84.4% 12931 OTUs\r"
       ]
      },
      {
       "output_type": "stream",
       "stream": "stdout",
       "text": [
        "12:03 653Mb   84.4% 12937 OTUs\r"
       ]
      },
      {
       "output_type": "stream",
       "stream": "stdout",
       "text": [
        "12:04 654Mb   84.5% 12942 OTUs\r"
       ]
      },
      {
       "output_type": "stream",
       "stream": "stdout",
       "text": [
        "12:05 654Mb   84.6% 12944 OTUs\r"
       ]
      },
      {
       "output_type": "stream",
       "stream": "stdout",
       "text": [
        "12:06 655Mb   84.6% 12953 OTUs\r"
       ]
      },
      {
       "output_type": "stream",
       "stream": "stdout",
       "text": [
        "12:07 656Mb   84.7% 12958 OTUs\r"
       ]
      },
      {
       "output_type": "stream",
       "stream": "stdout",
       "text": [
        "12:08 657Mb   84.8% 12964 OTUs\r"
       ]
      },
      {
       "output_type": "stream",
       "stream": "stdout",
       "text": [
        "12:09 658Mb   84.8% 12969 OTUs\r"
       ]
      },
      {
       "output_type": "stream",
       "stream": "stdout",
       "text": [
        "12:10 658Mb   84.9% 12975 OTUs\r"
       ]
      },
      {
       "output_type": "stream",
       "stream": "stdout",
       "text": [
        "12:11 659Mb   85.0% 12981 OTUs\r"
       ]
      },
      {
       "output_type": "stream",
       "stream": "stdout",
       "text": [
        "12:12 660Mb   85.0% 12982 OTUs\r"
       ]
      },
      {
       "output_type": "stream",
       "stream": "stdout",
       "text": [
        "12:13 661Mb   85.1% 12991 OTUs\r"
       ]
      },
      {
       "output_type": "stream",
       "stream": "stdout",
       "text": [
        "12:14 662Mb   85.2% 12999 OTUs\r"
       ]
      },
      {
       "output_type": "stream",
       "stream": "stdout",
       "text": [
        "12:15 662Mb   85.3% 13003 OTUs\r"
       ]
      },
      {
       "output_type": "stream",
       "stream": "stdout",
       "text": [
        "12:16 663Mb   85.3% 13006 OTUs\r"
       ]
      },
      {
       "output_type": "stream",
       "stream": "stdout",
       "text": [
        "12:17 664Mb   85.4% 13014 OTUs\r"
       ]
      },
      {
       "output_type": "stream",
       "stream": "stdout",
       "text": [
        "12:18 665Mb   85.5% 13015 OTUs\r"
       ]
      },
      {
       "output_type": "stream",
       "stream": "stdout",
       "text": [
        "12:19 665Mb   85.5% 13017 OTUs\r"
       ]
      },
      {
       "output_type": "stream",
       "stream": "stdout",
       "text": [
        "12:20 666Mb   85.6% 13023 OTUs\r"
       ]
      },
      {
       "output_type": "stream",
       "stream": "stdout",
       "text": [
        "12:21 667Mb   85.7% 13029 OTUs\r"
       ]
      },
      {
       "output_type": "stream",
       "stream": "stdout",
       "text": [
        "12:22 668Mb   85.7% 13040 OTUs\r"
       ]
      },
      {
       "output_type": "stream",
       "stream": "stdout",
       "text": [
        "12:23 669Mb   85.8% 13047 OTUs\r"
       ]
      },
      {
       "output_type": "stream",
       "stream": "stdout",
       "text": [
        "12:24 670Mb   85.9% 13053 OTUs\r"
       ]
      },
      {
       "output_type": "stream",
       "stream": "stdout",
       "text": [
        "12:25 670Mb   85.9% 13061 OTUs\r"
       ]
      },
      {
       "output_type": "stream",
       "stream": "stdout",
       "text": [
        "12:26 671Mb   86.0% 13067 OTUs\r"
       ]
      },
      {
       "output_type": "stream",
       "stream": "stdout",
       "text": [
        "12:27 672Mb   86.1% 13074 OTUs\r"
       ]
      },
      {
       "output_type": "stream",
       "stream": "stdout",
       "text": [
        "12:28 673Mb   86.1% 13085 OTUs\r"
       ]
      },
      {
       "output_type": "stream",
       "stream": "stdout",
       "text": [
        "12:29 674Mb   86.2% 13094 OTUs\r"
       ]
      },
      {
       "output_type": "stream",
       "stream": "stdout",
       "text": [
        "12:30 674Mb   86.3% 13102 OTUs\r"
       ]
      },
      {
       "output_type": "stream",
       "stream": "stdout",
       "text": [
        "12:31 675Mb   86.3% 13108 OTUs\r"
       ]
      },
      {
       "output_type": "stream",
       "stream": "stdout",
       "text": [
        "12:32 676Mb   86.4% 13112 OTUs\r"
       ]
      },
      {
       "output_type": "stream",
       "stream": "stdout",
       "text": [
        "12:33 677Mb   86.5% 13118 OTUs\r"
       ]
      },
      {
       "output_type": "stream",
       "stream": "stdout",
       "text": [
        "12:34 677Mb   86.6% 13131 OTUs\r"
       ]
      },
      {
       "output_type": "stream",
       "stream": "stdout",
       "text": [
        "12:35 678Mb   86.6% 13134 OTUs\r"
       ]
      },
      {
       "output_type": "stream",
       "stream": "stdout",
       "text": [
        "12:36 679Mb   86.7% 13149 OTUs\r"
       ]
      },
      {
       "output_type": "stream",
       "stream": "stdout",
       "text": [
        "12:37 680Mb   86.8% 13159 OTUs\r"
       ]
      },
      {
       "output_type": "stream",
       "stream": "stdout",
       "text": [
        "12:38 681Mb   86.8% 13164 OTUs\r"
       ]
      },
      {
       "output_type": "stream",
       "stream": "stdout",
       "text": [
        "12:39 681Mb   86.9% 13174 OTUs\r"
       ]
      },
      {
       "output_type": "stream",
       "stream": "stdout",
       "text": [
        "12:40 682Mb   87.0% 13181 OTUs\r"
       ]
      },
      {
       "output_type": "stream",
       "stream": "stdout",
       "text": [
        "12:41 683Mb   87.0% 13185 OTUs\r"
       ]
      },
      {
       "output_type": "stream",
       "stream": "stdout",
       "text": [
        "12:42 684Mb   87.1% 13194 OTUs\r"
       ]
      },
      {
       "output_type": "stream",
       "stream": "stdout",
       "text": [
        "12:43 685Mb   87.2% 13199 OTUs\r"
       ]
      },
      {
       "output_type": "stream",
       "stream": "stdout",
       "text": [
        "12:44 685Mb   87.2% 13200 OTUs\r"
       ]
      },
      {
       "output_type": "stream",
       "stream": "stdout",
       "text": [
        "12:45 686Mb   87.3% 13207 OTUs\r"
       ]
      },
      {
       "output_type": "stream",
       "stream": "stdout",
       "text": [
        "12:46 687Mb   87.4% 13211 OTUs\r"
       ]
      },
      {
       "output_type": "stream",
       "stream": "stdout",
       "text": [
        "12:47 688Mb   87.4% 13217 OTUs\r"
       ]
      },
      {
       "output_type": "stream",
       "stream": "stdout",
       "text": [
        "12:48 688Mb   87.5% 13225 OTUs\r"
       ]
      },
      {
       "output_type": "stream",
       "stream": "stdout",
       "text": [
        "12:49 689Mb   87.6% 13228 OTUs\r"
       ]
      },
      {
       "output_type": "stream",
       "stream": "stdout",
       "text": [
        "12:50 690Mb   87.6% 13231 OTUs\r"
       ]
      },
      {
       "output_type": "stream",
       "stream": "stdout",
       "text": [
        "12:51 691Mb   87.7% 13240 OTUs\r"
       ]
      },
      {
       "output_type": "stream",
       "stream": "stdout",
       "text": [
        "12:52 692Mb   87.8% 13245 OTUs\r"
       ]
      },
      {
       "output_type": "stream",
       "stream": "stdout",
       "text": [
        "12:53 692Mb   87.8% 13251 OTUs\r"
       ]
      },
      {
       "output_type": "stream",
       "stream": "stdout",
       "text": [
        "12:54 693Mb   87.9% 13256 OTUs\r"
       ]
      },
      {
       "output_type": "stream",
       "stream": "stdout",
       "text": [
        "12:55 694Mb   88.0% 13261 OTUs\r"
       ]
      },
      {
       "output_type": "stream",
       "stream": "stdout",
       "text": [
        "12:56 695Mb   88.0% 13268 OTUs\r"
       ]
      },
      {
       "output_type": "stream",
       "stream": "stdout",
       "text": [
        "12:57 696Mb   88.1% 13275 OTUs\r"
       ]
      },
      {
       "output_type": "stream",
       "stream": "stdout",
       "text": [
        "12:58 696Mb   88.2% 13279 OTUs\r"
       ]
      },
      {
       "output_type": "stream",
       "stream": "stdout",
       "text": [
        "12:59 697Mb   88.2% 13293 OTUs\r"
       ]
      },
      {
       "output_type": "stream",
       "stream": "stdout",
       "text": [
        "13:00 698Mb   88.3% 13303 OTUs\r"
       ]
      },
      {
       "output_type": "stream",
       "stream": "stdout",
       "text": [
        "13:01 699Mb   88.4% 13308 OTUs\r"
       ]
      },
      {
       "output_type": "stream",
       "stream": "stdout",
       "text": [
        "13:02 700Mb   88.4% 13314 OTUs\r"
       ]
      },
      {
       "output_type": "stream",
       "stream": "stdout",
       "text": [
        "13:03 700Mb   88.5% 13323 OTUs\r"
       ]
      },
      {
       "output_type": "stream",
       "stream": "stdout",
       "text": [
        "13:04 701Mb   88.6% 13328 OTUs\r"
       ]
      },
      {
       "output_type": "stream",
       "stream": "stdout",
       "text": [
        "13:05 702Mb   88.6% 13330 OTUs\r"
       ]
      },
      {
       "output_type": "stream",
       "stream": "stdout",
       "text": [
        "13:06 703Mb   88.7% 13341 OTUs\r"
       ]
      },
      {
       "output_type": "stream",
       "stream": "stdout",
       "text": [
        "13:07 704Mb   88.8% 13351 OTUs\r"
       ]
      },
      {
       "output_type": "stream",
       "stream": "stdout",
       "text": [
        "13:08 704Mb   88.8% 13364 OTUs\r"
       ]
      },
      {
       "output_type": "stream",
       "stream": "stdout",
       "text": [
        "13:09 705Mb   88.9% 13370 OTUs\r"
       ]
      },
      {
       "output_type": "stream",
       "stream": "stdout",
       "text": [
        "13:10 706Mb   88.9% 13378 OTUs\r"
       ]
      },
      {
       "output_type": "stream",
       "stream": "stdout",
       "text": [
        "13:11 707Mb   89.0% 13384 OTUs\r"
       ]
      },
      {
       "output_type": "stream",
       "stream": "stdout",
       "text": [
        "13:12 707Mb   89.1% 13391 OTUs\r"
       ]
      },
      {
       "output_type": "stream",
       "stream": "stdout",
       "text": [
        "13:13 708Mb   89.1% 13400 OTUs\r"
       ]
      },
      {
       "output_type": "stream",
       "stream": "stdout",
       "text": [
        "13:14 709Mb   89.2% 13404 OTUs\r"
       ]
      },
      {
       "output_type": "stream",
       "stream": "stdout",
       "text": [
        "13:15 710Mb   89.3% 13410 OTUs\r"
       ]
      },
      {
       "output_type": "stream",
       "stream": "stdout",
       "text": [
        "13:16 710Mb   89.3% 13413 OTUs\r"
       ]
      },
      {
       "output_type": "stream",
       "stream": "stdout",
       "text": [
        "13:17 711Mb   89.4% 13420 OTUs\r"
       ]
      },
      {
       "output_type": "stream",
       "stream": "stdout",
       "text": [
        "13:18 712Mb   89.5% 13424 OTUs\r"
       ]
      },
      {
       "output_type": "stream",
       "stream": "stdout",
       "text": [
        "13:19 713Mb   89.5% 13433 OTUs\r"
       ]
      },
      {
       "output_type": "stream",
       "stream": "stdout",
       "text": [
        "13:20 713Mb   89.6% 13436 OTUs\r"
       ]
      },
      {
       "output_type": "stream",
       "stream": "stdout",
       "text": [
        "13:21 714Mb   89.6% 13442 OTUs\r"
       ]
      },
      {
       "output_type": "stream",
       "stream": "stdout",
       "text": [
        "13:22 715Mb   89.7% 13448 OTUs\r"
       ]
      },
      {
       "output_type": "stream",
       "stream": "stdout",
       "text": [
        "13:23 715Mb   89.8% 13453 OTUs\r"
       ]
      },
      {
       "output_type": "stream",
       "stream": "stdout",
       "text": [
        "13:24 716Mb   89.8% 13462 OTUs\r"
       ]
      },
      {
       "output_type": "stream",
       "stream": "stdout",
       "text": [
        "13:25 717Mb   89.9% 13466 OTUs\r"
       ]
      },
      {
       "output_type": "stream",
       "stream": "stdout",
       "text": [
        "13:26 718Mb   89.9% 13472 OTUs\r"
       ]
      },
      {
       "output_type": "stream",
       "stream": "stdout",
       "text": [
        "13:27 718Mb   90.0% 13482 OTUs\r"
       ]
      },
      {
       "output_type": "stream",
       "stream": "stdout",
       "text": [
        "13:28 719Mb   90.1% 13487 OTUs\r"
       ]
      },
      {
       "output_type": "stream",
       "stream": "stdout",
       "text": [
        "13:29 720Mb   90.1% 13494 OTUs\r"
       ]
      },
      {
       "output_type": "stream",
       "stream": "stdout",
       "text": [
        "13:30 721Mb   90.2% 13499 OTUs\r"
       ]
      },
      {
       "output_type": "stream",
       "stream": "stdout",
       "text": [
        "13:31 721Mb   90.3% 13503 OTUs\r"
       ]
      },
      {
       "output_type": "stream",
       "stream": "stdout",
       "text": [
        "13:32 722Mb   90.3% 13510 OTUs\r"
       ]
      },
      {
       "output_type": "stream",
       "stream": "stdout",
       "text": [
        "13:33 723Mb   90.4% 13513 OTUs\r"
       ]
      },
      {
       "output_type": "stream",
       "stream": "stdout",
       "text": [
        "13:34 724Mb   90.4% 13516 OTUs\r"
       ]
      },
      {
       "output_type": "stream",
       "stream": "stdout",
       "text": [
        "13:35 724Mb   90.5% 13524 OTUs\r"
       ]
      },
      {
       "output_type": "stream",
       "stream": "stdout",
       "text": [
        "13:36 725Mb   90.6% 13531 OTUs\r"
       ]
      },
      {
       "output_type": "stream",
       "stream": "stdout",
       "text": [
        "13:37 726Mb   90.6% 13539 OTUs\r"
       ]
      },
      {
       "output_type": "stream",
       "stream": "stdout",
       "text": [
        "13:38 726Mb   90.7% 13543 OTUs\r"
       ]
      },
      {
       "output_type": "stream",
       "stream": "stdout",
       "text": [
        "13:39 727Mb   90.7% 13552 OTUs\r"
       ]
      },
      {
       "output_type": "stream",
       "stream": "stdout",
       "text": [
        "13:40 728Mb   90.8% 13559 OTUs\r"
       ]
      },
      {
       "output_type": "stream",
       "stream": "stdout",
       "text": [
        "13:41 728Mb   90.8% 13562 OTUs\r"
       ]
      },
      {
       "output_type": "stream",
       "stream": "stdout",
       "text": [
        "13:42 729Mb   90.9% 13567 OTUs\r"
       ]
      },
      {
       "output_type": "stream",
       "stream": "stdout",
       "text": [
        "13:43 730Mb   91.0% 13573 OTUs\r"
       ]
      },
      {
       "output_type": "stream",
       "stream": "stdout",
       "text": [
        "13:44 731Mb   91.0% 13580 OTUs\r"
       ]
      },
      {
       "output_type": "stream",
       "stream": "stdout",
       "text": [
        "13:45 731Mb   91.1% 13587 OTUs\r"
       ]
      },
      {
       "output_type": "stream",
       "stream": "stdout",
       "text": [
        "13:46 732Mb   91.2% 13593 OTUs\r"
       ]
      },
      {
       "output_type": "stream",
       "stream": "stdout",
       "text": [
        "13:47 733Mb   91.2% 13597 OTUs\r"
       ]
      },
      {
       "output_type": "stream",
       "stream": "stdout",
       "text": [
        "13:48 734Mb   91.3% 13604 OTUs\r"
       ]
      },
      {
       "output_type": "stream",
       "stream": "stdout",
       "text": [
        "13:49 735Mb   91.3% 13"
       ]
      },
      {
       "output_type": "stream",
       "stream": "stdout",
       "text": [
        "611 OTUs\r"
       ]
      },
      {
       "output_type": "stream",
       "stream": "stdout",
       "text": [
        "13:50 735Mb   91.4% 13619 OTUs\r"
       ]
      },
      {
       "output_type": "stream",
       "stream": "stdout",
       "text": [
        "13:51 736Mb   91.5% 13625 OTUs\r"
       ]
      },
      {
       "output_type": "stream",
       "stream": "stdout",
       "text": [
        "13:52 737Mb   91.5% 13632 OTUs\r"
       ]
      },
      {
       "output_type": "stream",
       "stream": "stdout",
       "text": [
        "13:53 737Mb   91.6% 13637 OTUs\r"
       ]
      },
      {
       "output_type": "stream",
       "stream": "stdout",
       "text": [
        "13:54 738Mb   91.6% 13645 OTUs\r"
       ]
      },
      {
       "output_type": "stream",
       "stream": "stdout",
       "text": [
        "13:55 739Mb   91.7% 13656 OTUs\r"
       ]
      },
      {
       "output_type": "stream",
       "stream": "stdout",
       "text": [
        "13:56 740Mb   91.8% 13658 OTUs\r"
       ]
      },
      {
       "output_type": "stream",
       "stream": "stdout",
       "text": [
        "13:57 740Mb   91.8% 13663 OTUs\r"
       ]
      },
      {
       "output_type": "stream",
       "stream": "stdout",
       "text": [
        "13:58 741Mb   91.9% 13673 OTUs\r"
       ]
      },
      {
       "output_type": "stream",
       "stream": "stdout",
       "text": [
        "13:59 742Mb   91.9% 13677 OTUs\r"
       ]
      },
      {
       "output_type": "stream",
       "stream": "stdout",
       "text": [
        "14:00 743Mb   92.0% 13684 OTUs\r"
       ]
      },
      {
       "output_type": "stream",
       "stream": "stdout",
       "text": [
        "14:01 743Mb   92.1% 13684 OTUs\r"
       ]
      },
      {
       "output_type": "stream",
       "stream": "stdout",
       "text": [
        "14:02 744Mb   92.1% 13688 OTUs\r"
       ]
      },
      {
       "output_type": "stream",
       "stream": "stdout",
       "text": [
        "14:03 745Mb   92.2% 13695 OTUs\r"
       ]
      },
      {
       "output_type": "stream",
       "stream": "stdout",
       "text": [
        "14:04 746Mb   92.2% 13703 OTUs\r"
       ]
      },
      {
       "output_type": "stream",
       "stream": "stdout",
       "text": [
        "14:05 746Mb   92.3% 13713 OTUs\r"
       ]
      },
      {
       "output_type": "stream",
       "stream": "stdout",
       "text": [
        "14:06 747Mb   92.4% 13719 OTUs\r"
       ]
      },
      {
       "output_type": "stream",
       "stream": "stdout",
       "text": [
        "14:07 748Mb   92.4% 13726 OTUs\r"
       ]
      },
      {
       "output_type": "stream",
       "stream": "stdout",
       "text": [
        "14:08 748Mb   92.5% 13732 OTUs\r"
       ]
      },
      {
       "output_type": "stream",
       "stream": "stdout",
       "text": [
        "14:09 749Mb   92.6% 13734 OTUs\r"
       ]
      },
      {
       "output_type": "stream",
       "stream": "stdout",
       "text": [
        "14:10 750Mb   92.6% 13738 OTUs\r"
       ]
      },
      {
       "output_type": "stream",
       "stream": "stdout",
       "text": [
        "14:11 751Mb   92.7% 13743 OTUs\r"
       ]
      },
      {
       "output_type": "stream",
       "stream": "stdout",
       "text": [
        "14:12 751Mb   92.7% 13751 OTUs\r"
       ]
      },
      {
       "output_type": "stream",
       "stream": "stdout",
       "text": [
        "14:13 752Mb   92.8% 13754 OTUs\r"
       ]
      },
      {
       "output_type": "stream",
       "stream": "stdout",
       "text": [
        "14:14 753Mb   92.9% 13757 OTUs\r"
       ]
      },
      {
       "output_type": "stream",
       "stream": "stdout",
       "text": [
        "14:15 754Mb   92.9% 13763 OTUs\r"
       ]
      },
      {
       "output_type": "stream",
       "stream": "stdout",
       "text": [
        "14:16 754Mb   93.0% 13765 OTUs\r"
       ]
      },
      {
       "output_type": "stream",
       "stream": "stdout",
       "text": [
        "14:17 755Mb   93.0% 13769 OTUs\r"
       ]
      },
      {
       "output_type": "stream",
       "stream": "stdout",
       "text": [
        "14:18 756Mb   93.1% 13774 OTUs\r"
       ]
      },
      {
       "output_type": "stream",
       "stream": "stdout",
       "text": [
        "14:19 756Mb   93.2% 13776 OTUs\r"
       ]
      },
      {
       "output_type": "stream",
       "stream": "stdout",
       "text": [
        "14:20 757Mb   93.2% 13784 OTUs\r"
       ]
      },
      {
       "output_type": "stream",
       "stream": "stdout",
       "text": [
        "14:21 758Mb   93.3% 13791 OTUs\r"
       ]
      },
      {
       "output_type": "stream",
       "stream": "stdout",
       "text": [
        "14:22 759Mb   93.3% 13798 OTUs\r"
       ]
      },
      {
       "output_type": "stream",
       "stream": "stdout",
       "text": [
        "14:23 759Mb   93.4% 13806 OTUs\r"
       ]
      },
      {
       "output_type": "stream",
       "stream": "stdout",
       "text": [
        "14:24 760Mb   93.5% 13808 OTUs\r"
       ]
      },
      {
       "output_type": "stream",
       "stream": "stdout",
       "text": [
        "14:25 761Mb   93.5% 13815 OTUs\r"
       ]
      },
      {
       "output_type": "stream",
       "stream": "stdout",
       "text": [
        "14:26 762Mb   93.6% 13821 OTUs\r"
       ]
      },
      {
       "output_type": "stream",
       "stream": "stdout",
       "text": [
        "14:27 762Mb   93.6% 13829 OTUs\r"
       ]
      },
      {
       "output_type": "stream",
       "stream": "stdout",
       "text": [
        "14:28 763Mb   93.7% 13836 OTUs\r"
       ]
      },
      {
       "output_type": "stream",
       "stream": "stdout",
       "text": [
        "14:29 764Mb   93.8% 13844 OTUs\r"
       ]
      },
      {
       "output_type": "stream",
       "stream": "stdout",
       "text": [
        "14:30 765Mb   93.8% 13850 OTUs\r"
       ]
      },
      {
       "output_type": "stream",
       "stream": "stdout",
       "text": [
        "14:31 765Mb   93.9% 13860 OTUs\r"
       ]
      },
      {
       "output_type": "stream",
       "stream": "stdout",
       "text": [
        "14:32 766Mb   93.9% 13868 OTUs\r"
       ]
      },
      {
       "output_type": "stream",
       "stream": "stdout",
       "text": [
        "14:33 767Mb   94.0% 13873 OTUs\r"
       ]
      },
      {
       "output_type": "stream",
       "stream": "stdout",
       "text": [
        "14:34 767Mb   94.1% 13879 OTUs\r"
       ]
      },
      {
       "output_type": "stream",
       "stream": "stdout",
       "text": [
        "14:35 768Mb   94.1% 13884 OTUs\r"
       ]
      },
      {
       "output_type": "stream",
       "stream": "stdout",
       "text": [
        "14:36 769Mb   94.2% 13886 OTUs\r"
       ]
      },
      {
       "output_type": "stream",
       "stream": "stdout",
       "text": [
        "14:37 770Mb   94.2% 13889 OTUs\r"
       ]
      },
      {
       "output_type": "stream",
       "stream": "stdout",
       "text": [
        "14:38 770Mb   94.3% 13892 OTUs\r"
       ]
      },
      {
       "output_type": "stream",
       "stream": "stdout",
       "text": [
        "14:39 771Mb   94.3% 13893 OTUs\r"
       ]
      },
      {
       "output_type": "stream",
       "stream": "stdout",
       "text": [
        "14:40 772Mb   94.4% 13895 OTUs\r"
       ]
      },
      {
       "output_type": "stream",
       "stream": "stdout",
       "text": [
        "14:41 772Mb   94.5% 13897 OTUs\r"
       ]
      },
      {
       "output_type": "stream",
       "stream": "stdout",
       "text": [
        "14:42 773Mb   94.5% 13900 OTUs\r"
       ]
      },
      {
       "output_type": "stream",
       "stream": "stdout",
       "text": [
        "14:43 774Mb   94.6% 13903 OTUs\r"
       ]
      },
      {
       "output_type": "stream",
       "stream": "stdout",
       "text": [
        "14:44 775Mb   94.6% 13908 OTUs\r"
       ]
      },
      {
       "output_type": "stream",
       "stream": "stdout",
       "text": [
        "14:45 775Mb   94.7% 13909 OTUs\r"
       ]
      },
      {
       "output_type": "stream",
       "stream": "stdout",
       "text": [
        "14:46 776Mb   94.8% 13914 OTUs\r"
       ]
      },
      {
       "output_type": "stream",
       "stream": "stdout",
       "text": [
        "14:47 777Mb   94.8% 13915 OTUs\r"
       ]
      },
      {
       "output_type": "stream",
       "stream": "stdout",
       "text": [
        "14:48 777Mb   94.9% 13921 OTUs\r"
       ]
      },
      {
       "output_type": "stream",
       "stream": "stdout",
       "text": [
        "14:49 778Mb   94.9% 13923 OTUs\r"
       ]
      },
      {
       "output_type": "stream",
       "stream": "stdout",
       "text": [
        "14:50 779Mb   95.0% 13927 OTUs\r"
       ]
      },
      {
       "output_type": "stream",
       "stream": "stdout",
       "text": [
        "14:51 780Mb   95.1% 13928 OTUs\r"
       ]
      },
      {
       "output_type": "stream",
       "stream": "stdout",
       "text": [
        "14:52 780Mb   95.1% 13929 OTUs\r"
       ]
      },
      {
       "output_type": "stream",
       "stream": "stdout",
       "text": [
        "14:53 781Mb   95.2% 13933 OTUs\r"
       ]
      },
      {
       "output_type": "stream",
       "stream": "stdout",
       "text": [
        "14:54 782Mb   95.2% 13937 OTUs\r"
       ]
      },
      {
       "output_type": "stream",
       "stream": "stdout",
       "text": [
        "14:55 782Mb   95.3% 13941 OTUs\r"
       ]
      },
      {
       "output_type": "stream",
       "stream": "stdout",
       "text": [
        "14:56 783Mb   95.3% 13947 OTUs\r"
       ]
      },
      {
       "output_type": "stream",
       "stream": "stdout",
       "text": [
        "14:57 784Mb   95.4% 13948 OTUs\r"
       ]
      },
      {
       "output_type": "stream",
       "stream": "stdout",
       "text": [
        "14:58 785Mb   95.5% 13958 OTUs\r"
       ]
      },
      {
       "output_type": "stream",
       "stream": "stdout",
       "text": [
        "14:59 785Mb   95.5% 13964 OTUs\r"
       ]
      },
      {
       "output_type": "stream",
       "stream": "stdout",
       "text": [
        "15:00 786Mb   95.6% 13966 OTUs\r"
       ]
      },
      {
       "output_type": "stream",
       "stream": "stdout",
       "text": [
        "15:01 787Mb   95.6% 13967 OTUs\r"
       ]
      },
      {
       "output_type": "stream",
       "stream": "stdout",
       "text": [
        "15:02 788Mb   95.7% 13969 OTUs\r"
       ]
      },
      {
       "output_type": "stream",
       "stream": "stdout",
       "text": [
        "15:03 788Mb   95.8% 13973 OTUs\r"
       ]
      },
      {
       "output_type": "stream",
       "stream": "stdout",
       "text": [
        "15:04 789Mb   95.8% 13975 OTUs\r"
       ]
      },
      {
       "output_type": "stream",
       "stream": "stdout",
       "text": [
        "15:05 790Mb   95.9% 13980 OTUs\r"
       ]
      },
      {
       "output_type": "stream",
       "stream": "stdout",
       "text": [
        "15:06 790Mb   95.9% 13985 OTUs\r"
       ]
      },
      {
       "output_type": "stream",
       "stream": "stdout",
       "text": [
        "15:07 791Mb   96.0% 13997 OTUs\r"
       ]
      },
      {
       "output_type": "stream",
       "stream": "stdout",
       "text": [
        "15:08 792Mb   96.1% 14005 OTUs\r"
       ]
      },
      {
       "output_type": "stream",
       "stream": "stdout",
       "text": [
        "15:09 793Mb   96.1% 14009 OTUs\r"
       ]
      },
      {
       "output_type": "stream",
       "stream": "stdout",
       "text": [
        "15:10 793Mb   96.2% 14016 OTUs\r"
       ]
      },
      {
       "output_type": "stream",
       "stream": "stdout",
       "text": [
        "15:11 794Mb   96.2% 14019 OTUs\r"
       ]
      },
      {
       "output_type": "stream",
       "stream": "stdout",
       "text": [
        "15:12 795Mb   96.3% 14024 OTUs\r"
       ]
      },
      {
       "output_type": "stream",
       "stream": "stdout",
       "text": [
        "15:13 796Mb   96.4% 14027 OTUs\r"
       ]
      },
      {
       "output_type": "stream",
       "stream": "stdout",
       "text": [
        "15:14 796Mb   96.4% 14033 OTUs\r"
       ]
      },
      {
       "output_type": "stream",
       "stream": "stdout",
       "text": [
        "15:15 797Mb   96.5% 14035 OTUs\r"
       ]
      },
      {
       "output_type": "stream",
       "stream": "stdout",
       "text": [
        "15:16 798Mb   96.5% 14039 OTUs\r"
       ]
      },
      {
       "output_type": "stream",
       "stream": "stdout",
       "text": [
        "15:17 798Mb   96.6% 14045 OTUs\r"
       ]
      },
      {
       "output_type": "stream",
       "stream": "stdout",
       "text": [
        "15:18 799Mb   96.6% 14053 OTUs\r"
       ]
      },
      {
       "output_type": "stream",
       "stream": "stdout",
       "text": [
        "15:19 800Mb   96.7% 14061 OTUs\r"
       ]
      },
      {
       "output_type": "stream",
       "stream": "stdout",
       "text": [
        "15:20 801Mb   96.8% 14068 OTUs\r"
       ]
      },
      {
       "output_type": "stream",
       "stream": "stdout",
       "text": [
        "15:21 801Mb   96.8% 14075 OTUs\r"
       ]
      },
      {
       "output_type": "stream",
       "stream": "stdout",
       "text": [
        "15:22 802Mb   96.9% 14079 OTUs\r"
       ]
      },
      {
       "output_type": "stream",
       "stream": "stdout",
       "text": [
        "15:23 803Mb   96.9% 14087 OTUs\r"
       ]
      },
      {
       "output_type": "stream",
       "stream": "stdout",
       "text": [
        "15:24 803Mb   97.0% 14092 OTUs\r"
       ]
      },
      {
       "output_type": "stream",
       "stream": "stdout",
       "text": [
        "15:25 804Mb   97.1% 14098 OTUs\r"
       ]
      },
      {
       "output_type": "stream",
       "stream": "stdout",
       "text": [
        "15:26 805Mb   97.1% 14105 OTUs\r"
       ]
      },
      {
       "output_type": "stream",
       "stream": "stdout",
       "text": [
        "15:27 806Mb   97.2% 14109 OTUs\r"
       ]
      },
      {
       "output_type": "stream",
       "stream": "stdout",
       "text": [
        "15:28 806Mb   97.2% 14115 OTUs\r"
       ]
      },
      {
       "output_type": "stream",
       "stream": "stdout",
       "text": [
        "15:29 807Mb   97.3% 14116 OTUs\r"
       ]
      },
      {
       "output_type": "stream",
       "stream": "stdout",
       "text": [
        "15:30 808Mb   97.3% 14118 OTUs\r"
       ]
      },
      {
       "output_type": "stream",
       "stream": "stdout",
       "text": [
        "15:31 808Mb   97.4% 14121 OTUs\r"
       ]
      },
      {
       "output_type": "stream",
       "stream": "stdout",
       "text": [
        "15:32 809Mb   97.5% 14131 OTUs\r"
       ]
      },
      {
       "output_type": "stream",
       "stream": "stdout",
       "text": [
        "15:33 810Mb   97.5% 14134 OTUs\r"
       ]
      },
      {
       "output_type": "stream",
       "stream": "stdout",
       "text": [
        "15:34 811Mb   97.6% 14141 OTUs\r"
       ]
      },
      {
       "output_type": "stream",
       "stream": "stdout",
       "text": [
        "15:35 811Mb   97.6% 14144 OTUs\r"
       ]
      },
      {
       "output_type": "stream",
       "stream": "stdout",
       "text": [
        "15:36 812Mb   97.7% 14151 OTUs\r"
       ]
      },
      {
       "output_type": "stream",
       "stream": "stdout",
       "text": [
        "15:37 813Mb   97.8% 14157 OTUs\r"
       ]
      },
      {
       "output_type": "stream",
       "stream": "stdout",
       "text": [
        "15:38 813Mb   97.8% 14161 OTUs\r"
       ]
      },
      {
       "output_type": "stream",
       "stream": "stdout",
       "text": [
        "15:39 814Mb   97.9% 14167 OTUs\r"
       ]
      },
      {
       "output_type": "stream",
       "stream": "stdout",
       "text": [
        "15:40 815Mb   97.9% 14169 OTUs\r"
       ]
      },
      {
       "output_type": "stream",
       "stream": "stdout",
       "text": [
        "15:41 815Mb   98.0% 14174 OTUs\r"
       ]
      },
      {
       "output_type": "stream",
       "stream": "stdout",
       "text": [
        "15:42 816Mb   98.0% 14182 OTUs\r"
       ]
      },
      {
       "output_type": "stream",
       "stream": "stdout",
       "text": [
        "15:43 817Mb   98.1% 14186 OTUs\r"
       ]
      },
      {
       "output_type": "stream",
       "stream": "stdout",
       "text": [
        "15:44 818Mb   98.2% 14194 OTUs\r"
       ]
      },
      {
       "output_type": "stream",
       "stream": "stdout",
       "text": [
        "15:45 818Mb   98.2% 14200 OTUs\r"
       ]
      },
      {
       "output_type": "stream",
       "stream": "stdout",
       "text": [
        "15:46 819Mb   98.3% 14208 OTUs\r"
       ]
      },
      {
       "output_type": "stream",
       "stream": "stdout",
       "text": [
        "15:47 820Mb   98.3% 14212 OTUs\r"
       ]
      },
      {
       "output_type": "stream",
       "stream": "stdout",
       "text": [
        "15:48 820Mb   98.4% 14219 OTUs\r"
       ]
      },
      {
       "output_type": "stream",
       "stream": "stdout",
       "text": [
        "15:49 821Mb   98.4% 14222 OTUs\r"
       ]
      },
      {
       "output_type": "stream",
       "stream": "stdout",
       "text": [
        "15:50 822Mb   98.5% 14224 OTUs\r"
       ]
      },
      {
       "output_type": "stream",
       "stream": "stdout",
       "text": [
        "15:51 823Mb   98.6% 14232 OTUs\r"
       ]
      },
      {
       "output_type": "stream",
       "stream": "stdout",
       "text": [
        "15:52 823Mb   98.6% 14239 OTUs\r"
       ]
      },
      {
       "output_type": "stream",
       "stream": "stdout",
       "text": [
        "15:53 824Mb   98.7% 14249 OTUs\r"
       ]
      },
      {
       "output_type": "stream",
       "stream": "stdout",
       "text": [
        "15:54 825Mb   98.7% 14253 OTUs\r"
       ]
      },
      {
       "output_type": "stream",
       "stream": "stdout",
       "text": [
        "15:55 826Mb   98.8% 14261 OTUs\r"
       ]
      },
      {
       "output_type": "stream",
       "stream": "stdout",
       "text": [
        "15:56 826Mb   98.9% 14266 OTUs\r"
       ]
      },
      {
       "output_type": "stream",
       "stream": "stdout",
       "text": [
        "15:57 827Mb   98.9% 14272 OTUs\r"
       ]
      },
      {
       "output_type": "stream",
       "stream": "stdout",
       "text": [
        "15:58 828Mb   99.0% 14283 OTUs\r"
       ]
      },
      {
       "output_type": "stream",
       "stream": "stdout",
       "text": [
        "15:59 828Mb   99.0% 14294 OTUs\r"
       ]
      },
      {
       "output_type": "stream",
       "stream": "stdout",
       "text": [
        "16:00 829Mb   99.1% 14301 OTUs\r"
       ]
      },
      {
       "output_type": "stream",
       "stream": "stdout",
       "text": [
        "16:01 830Mb   99.1% 14303 OTUs\r"
       ]
      },
      {
       "output_type": "stream",
       "stream": "stdout",
       "text": [
        "16:02 831Mb   99.2% 14305 OTUs\r"
       ]
      },
      {
       "output_type": "stream",
       "stream": "stdout",
       "text": [
        "16:03 831Mb   99.3% 14312 OTUs\r"
       ]
      },
      {
       "output_type": "stream",
       "stream": "stdout",
       "text": [
        "16:04 832Mb   99.3% 14317 OTUs\r"
       ]
      },
      {
       "output_type": "stream",
       "stream": "stdout",
       "text": [
        "16:05 833Mb   99.4% 14322 OTUs\r"
       ]
      },
      {
       "output_type": "stream",
       "stream": "stdout",
       "text": [
        "16:06 833Mb   99.4% 14326 OTUs\r"
       ]
      },
      {
       "output_type": "stream",
       "stream": "stdout",
       "text": [
        "16:07 834Mb   99.5% 14329 OTUs\r"
       ]
      },
      {
       "output_type": "stream",
       "stream": "stdout",
       "text": [
        "16:08 835Mb   99.5% 14333 OTUs\r"
       ]
      },
      {
       "output_type": "stream",
       "stream": "stdout",
       "text": [
        "16:09 835Mb   99.6% 14336 OTUs\r"
       ]
      },
      {
       "output_type": "stream",
       "stream": "stdout",
       "text": [
        "16:10 836Mb   99.7% 14342 OTUs\r"
       ]
      },
      {
       "output_type": "stream",
       "stream": "stdout",
       "text": [
        "16:11 837Mb   99.7% 14348 OTUs\r"
       ]
      },
      {
       "output_type": "stream",
       "stream": "stdout",
       "text": [
        "16:12 838Mb   99.7% 14351 OTUs\r"
       ]
      },
      {
       "output_type": "stream",
       "stream": "stdout",
       "text": [
        "16:13 838Mb   99.7% 14354 OTUs\r"
       ]
      },
      {
       "output_type": "stream",
       "stream": "stdout",
       "text": [
        "16:13 839Mb  100.0% 14356 OTUs\r",
        "\r\n"
       ]
      },
      {
       "output_type": "stream",
       "stream": "stdout",
       "text": [
        "                              \r\n",
        "Input seqs  1151639 (1.2M)\r\n",
        "      OTUs  14356 (14.4k)\r\n",
        "   Members  755872 (755.9k)\r\n",
        "  Chimeras  381411 (381.4k)\r\n",
        "   Max mem  839Mb\r\n",
        "      Time  16:13\r\n",
        "Throughput  1183.6 seqs/sec.\r\n",
        "\r\n"
       ]
      }
     ],
     "prompt_number": 57
    },
    {
     "cell_type": "code",
     "collapsed": false,
     "input": [
      "!bioawk -c fastx '{print \">\" \"OTU\" \".\" NR \"\\n\" $seq}' /var/seq_data/priming_exp/data/otus.fasta \\\n",
      "> /var/seq_data/priming_exp/otusn.fasta"
     ],
     "language": "python",
     "metadata": {},
     "outputs": [],
     "prompt_number": 59
    },
    {
     "cell_type": "code",
     "collapsed": false,
     "input": [
      "!head -n 2 /var/seq_data/priming_exp/otusn.fasta"
     ],
     "language": "python",
     "metadata": {},
     "outputs": [
      {
       "output_type": "stream",
       "stream": "stdout",
       "text": [
        ">OTU.1\r\n",
        "TACGTAGGGCGCAAGCGTTATCCGGAATTATTGGGCGTAAAGAGCTCGTAGGCGGTTTGTCGCGTCTGCCGTGAAAGTCCGGGGCTCAACTCCGGATCTGCGGTGGGTACGGGCAGACTAGAGTGATGTAGGGGAGACTGGAATTCCTGGTGTAGCGGTGAAATGCGCAGATATCAGGAGGAACACCGATGGCGAAGGCAGGTCTCTGGGCATTAACTGACGCTGAGGAGCGAAAGCATGGGGAGCGAACAGGATTAGATACCCTGGTAGTCCATGCCGTAAACGTTGGGCACTAGGTGTGGgggACATTCCACGTTTTCCGCGCCGTAGCTAACGCATTAAGTGCCCCGCCTGGGGAGTACGGCCGCAAGGCTA\r\n"
       ]
      }
     ],
     "prompt_number": 60
    },
    {
     "cell_type": "heading",
     "level": 3,
     "metadata": {},
     "source": [
      "Removing Chloroplast, Eukaryal, and Archaeal sequences"
     ]
    },
    {
     "cell_type": "code",
     "collapsed": false,
     "input": [
      "!parallel_assign_taxonomy_uclust.py \\\n",
      "-r /var/seq_data/priming_exp/data/databases/Silva_111_post/no_ambiguous_bases_files/97_Silva_111_rep_set_no_ambig.fasta \\\n",
      "-t /var/seq_data/priming_exp/data/databases/Silva_111_post/taxonomy/Silva_111_taxa_map_full.txt \\\n",
      "-O 10 \\\n",
      "-i /var/seq_data/priming_exp/otusn.fasta \\\n",
      "-o /var/seq_data/priming_exp/otusn_tax"
     ],
     "language": "python",
     "metadata": {},
     "outputs": [],
     "prompt_number": 63
    },
    {
     "cell_type": "code",
     "collapsed": false,
     "input": [
      "!egrep \"Chloroplast|Eukaryota|Archaea|Unassigned|mitochondria\" \\\n",
      "/var/seq_data/priming_exp/otusn_tax/otusn_tax_assignments.txt \\\n",
      "| awk '{print $1}' > /var/seq_data/priming_exp/to_remove_tax.accnos"
     ],
     "language": "python",
     "metadata": {},
     "outputs": [],
     "prompt_number": 64
    },
    {
     "cell_type": "code",
     "collapsed": false,
     "input": [
      "!wc -l /var/seq_data/priming_exp/to_remove_tax.accnos"
     ],
     "language": "python",
     "metadata": {},
     "outputs": [
      {
       "output_type": "stream",
       "stream": "stdout",
       "text": [
        "3995 /var/seq_data/priming_exp/to_remove_tax.accnos\r\n"
       ]
      }
     ],
     "prompt_number": 65
    },
    {
     "cell_type": "code",
     "collapsed": false,
     "input": [
      "!head /var/seq_data/priming_exp/to_remove_tax.accnos"
     ],
     "language": "python",
     "metadata": {},
     "outputs": [
      {
       "output_type": "stream",
       "stream": "stdout",
       "text": [
        "OTU.1379\r\n",
        "OTU.5\r\n",
        "OTU.6\r\n",
        "OTU.1151\r\n",
        "OTU.94\r\n",
        "OTU.990\r\n",
        "OTU.1401\r\n",
        "OTU.1434\r\n",
        "OTU.977\r\n",
        "OTU.575\r\n"
       ]
      }
     ],
     "prompt_number": 66
    },
    {
     "cell_type": "code",
     "collapsed": false,
     "input": [
      "%%bash\n",
      "mothur \"#remove.seqs(fasta=/var/seq_data/priming_exp/otusn.fasta, \\\n",
      "accnos=/var/seq_data/priming_exp/to_remove_tax.accnos)\" #> /dev/null"
     ],
     "language": "python",
     "metadata": {},
     "outputs": [
      {
       "output_type": "stream",
       "stream": "stdout",
       "text": [
        "\u001b[H\u001b[2J\n",
        "\n",
        "\n",
        "\n",
        "\n",
        "\n",
        "mothur v.1.32.1\n",
        "Last updated: 10/16/2013\n",
        "\n",
        "by\n",
        "Patrick D. Schloss\n",
        "\n",
        "Department of Microbiology & Immunology\n",
        "University of Michigan\n",
        "pschloss@umich.edu\n",
        "http://www.mothur.org\n",
        "\n",
        "When using, please cite:\n",
        "Schloss, P.D., et al., Introducing mothur: Open-source, platform-independent, community-supported software for describing and comparing microbial communities. Appl Environ Microbiol, 2009. 75(23):7537-41.\n",
        "\n",
        "Distributed under the GNU General Public License\n",
        "\n",
        "Type 'help()' for information on the commands that are available\n",
        "\n",
        "Type 'quit()' to exit program\n",
        "\n",
        "\n",
        "\n",
        "mothur > remove.seqs(fasta=/var/seq_data/priming_exp/otusn.fasta, accnos=/var/seq_data/priming_exp/to_remove_tax.accnos)\n",
        "Removed 3995 sequences from your fasta file.\n",
        "\n",
        "Output File Names: \n",
        "/var/seq_data/priming_exp/otusn.pick.fasta\n",
        "\n",
        "\n",
        "mothur > quit()\n"
       ]
      }
     ],
     "prompt_number": 67
    },
    {
     "cell_type": "heading",
     "level": 3,
     "metadata": {},
     "source": [
      "Mapping Reads"
     ]
    },
    {
     "cell_type": "code",
     "collapsed": false,
     "input": [
      "!awk -F\"_\" \\\n",
      "'BEGIN{OFS=\";\"}{ if ( substr($1,0,1) == \">\"){ print $0,\"barcodelabel=\",$1 } else { print $0 } }' \\\n",
      "/var/seq_data/priming_exp/data/finalQC.fasta | \\\n",
      "sed 's/;>//' > /var/seq_data/priming_exp/data/finalQC_usearchfmt.fasta"
     ],
     "language": "python",
     "metadata": {},
     "outputs": [],
     "prompt_number": 68
    },
    {
     "cell_type": "code",
     "collapsed": false,
     "input": [
      "!head /var/seq_data/priming_exp/data/finalQC_usearchfmt.fasta"
     ],
     "language": "python",
     "metadata": {},
     "outputs": [
      {
       "output_type": "stream",
       "stream": "stdout",
       "text": [
        ">12C.100.28.03.NA_53seq1;barcodelabel=12C.100.28.03.NA\r\n",
        "TACGTAGGGGGCAAGCGTTGTCCGGAATCATTGGGCGTAAAGCGCGTGTAGGCGGCCAGAAAAGTCCGCTGTGAAAACTCGAGGCTCAACGTCGAGCTGTCGGTGGAAACTTTCTGGCTAGAGTCCGGAAGAGGAGAATGGAATTCCTGGTGTAGCGGTGAAATGCGTAGATATTCGGAAGAACACCGGTGGCGAAGGCGACCTTCTGGGCCGTTTCTGACGCTGAGGTACGAAAGCGTGGGGAGCAAACAGGATTAGATACCCTGGTAGTCCACGCTGTAAACGATGGTCACTAGGTGTCGGGGGTATCGACCCCCTCGGTGCCGTAGCTAACGCGTTAAGTGACCCGCCTGGGGAGTACGCACGCAAGTGTG\r\n",
        ">12C.700.28.03.NA_54seq1;barcodelabel=12C.700.28.03.NA\r\n",
        "TACGAAGGGGGCTAGCGTTGTTCGGAATCACTGGGCGTAAAGGGCGCGTAGGCGGCCTTGTAAGTCGGTGGTGAAAGCCTGTGGCTCAACCACAGAATTGCCTTCGATACTGTAGAGCTTGAGACCGGAAGAGGTAAGTGGAACTGCGGGTGTAGAGGTGAAATTCGTAGATATTCGCAAGAACACCAGTGGCGAAGGCGGCTCACTGGCCCGGTACTGACGCTGAGGTGCGAAAGCGTGGGGAGCAAACAGGATTAGATACCCTGGTAGTCCACGCCGTAAACGATGGATGCTAGCCGTTGGTGGGTTTACCCTTCAGTGGCGCAGCTAACGCATTAAGCATCCCGCCTGGGGAGTACGGTCGCAAGATTA\r\n",
        ">13C.100.28.07.NA_61seq1;barcodelabel=13C.100.28.07.NA\r\n",
        "TACGTAGGGTCCGAGCGTTGTCCGGAGTTACTGGGCGTAAAGCGCGCGTAGGCGGCGGTGCTGGCCCGGCGTGAAAGCCCCCGGCTCAACCGGGGAGGGTCGTCGGGGACCGCACCGCTTGAGGGCGGTAGGGGCTGGTGGAATGCCTGGTGTAGTGGTGAAATGCGTAGAGATCAGGCGGAACACCCGTGGCGAAGGCGGCCAGCTGGGCCGTCCCTGACGCTGAGGCGCGAAGGCGTGGGGAGCGAACGGGATTAGATACCCCGGTAGTCCATGCCGTAAACGTTGGGCACTAGGTGTGGGGGACATTCCACGTTTTCCGCGCCGTAGCTAACGCATTAAGTGCCCCGCCTGGGGAGTACGGCCGCAAGGCTA\r\n",
        ">12C.100.45.01.11_1160219seq2;barcodelabel=12C.100.45.01.11\r\n",
        "TACGTAGGGTCCGAGCGTTGTCCGGAGTTACTGGGCGTAAAGCGCGCGTAGGCGGCGGTGCTGGCCCGGCGTGAAAGCCCCCGGCTCAACCGGGGAGGGTCGTCGGGGACCGCACCGCTTGAGGGCGGTAGGGGCTGGTGGAATGCCTGGTGTAGTGGTGAAATGCGTAGAGATCAGGCGGAACACCCGTGGCGAAGGCGGCCAGCTGGGCCGTCCCTGACGCTGAGGCGCGAAGGCGTGGGGAGCGAACGGGATTAGATACCCCGGTAGTCCATGCCGTAAACGTTGGGCACTAGGTGTGGGGGACATTCCACGTTTTCCGCGCCGTAGCTAACGCATTAAGTGCCCCGCCTGGGGAGTACGGCCGCAAGGCTA\r\n",
        ">13C.700.45.04.NA_70seq1;barcodelabel=13C.700.45.04.NA\r\n",
        "TACGGAGGGTGCAAACGTTGCTCGGAATTATTGGGCGTAAAGCGCACGTAGGCGGTCTAGCAAGTCGGGTGTGAAAGCCCTCAGCTTAACTGAGGAAGTGCATTCGAAACTACTAGGCTTGAGTACTGAAGAGGACGACGGAATTCCCGGTGTAGAGGTGAAATTCGTAGATATCGGGAGGAACACCAGTGGCGAAGGCGGTCGTCTGGGCAGATACTGACGCTGAGGTGCGAAAGCGTGGGGAGCAAACAGGATTAGATAGCCTGGTAGTCCACGCCGTAAACGATGAATGTTAGCCGTCGGGCAGTATACTGTTCGGTGGCGCAGCTAACGCATTAAGCATTCCGCCTGGGGAGTACGGTCGCAAGATTA\r\n"
       ]
      }
     ],
     "prompt_number": 69
    },
    {
     "cell_type": "code",
     "collapsed": false,
     "input": [
      "#see how many Gb this file is.\n",
      "!du -h /var/seq_data/priming_exp/data/finalQC_usearchfmt.fasta"
     ],
     "language": "python",
     "metadata": {},
     "outputs": [
      {
       "output_type": "stream",
       "stream": "stdout",
       "text": [
        "11G\t/var/seq_data/priming_exp/data/finalQC_usearchfmt.fasta\r\n"
       ]
      }
     ],
     "prompt_number": 80
    },
    {
     "cell_type": "code",
     "collapsed": false,
     "input": [
      "#dataframe too big so I had to split it\n",
      "!pyfasta split -n 6 /var/seq_data/priming_exp/data/finalQC_usearchfmt.fasta"
     ],
     "language": "python",
     "metadata": {},
     "outputs": [
      {
       "output_type": "stream",
       "stream": "stdout",
       "text": [
        "creating new files:\r\n",
        "/var/seq_data/priming_exp/data/finalQC_usearchfmt.0.fasta\r\n",
        "/var/seq_data/priming_exp/data/finalQC_usearchfmt.1.fasta\r\n",
        "/var/seq_data/priming_exp/data/finalQC_usearchfmt.2.fasta\r\n",
        "/var/seq_data/priming_exp/data/finalQC_usearchfmt.3.fasta\r\n",
        "/var/seq_data/priming_exp/data/finalQC_usearchfmt.4.fasta\r\n",
        "/var/seq_data/priming_exp/data/finalQC_usearchfmt.5.fasta\r\n"
       ]
      }
     ],
     "prompt_number": 8
    },
    {
     "cell_type": "code",
     "collapsed": false,
     "input": [
      "!usearch -usearch_global /var/seq_data/priming_exp/data/split_files/finalQC_usearchfmt.0.fasta \\\n",
      "-db /var/seq_data/priming_exp/otusn.pick.fasta \\\n",
      "-strand plus -id 0.97 \\\n",
      "-uc /var/seq_data/priming_exp/data/readmap0.uc \\\n",
      "-threads 15"
     ],
     "language": "python",
     "metadata": {},
     "outputs": [
      {
       "output_type": "stream",
       "stream": "stdout",
       "text": [
        "usearch v7.0.1090_i86linux32, 4.0Gb RAM (132Gb total), 40 cores\r\n",
        "(C) Copyright 2013 Robert C. Edgar, all rights reserved.\r\n",
        "http://drive5.com/usearch\r\n",
        "\r\n",
        "Licensed to: chuck.peperanney@gmail.com\r\n",
        "\r\n"
       ]
      },
      {
       "output_type": "stream",
       "stream": "stdout",
       "text": [
        "00:00  19Mb Reading /var/seq_data/priming_exp/otusn.pick.fasta, 4.0Mb\r\n",
        "00:00  23Mb 10361 (10.4k) seqs, min 362, avg 373, max 423nt\r\n",
        "00:00  23Mb    0.0% Masking\r"
       ]
      },
      {
       "output_type": "stream",
       "stream": "stdout",
       "text": [
        "00:00  23Mb  100.0% Masking\r",
        "\r\n",
        "00:00  23Mb    0.0% Word stats\r"
       ]
      },
      {
       "output_type": "stream",
       "stream": "stdout",
       "text": [
        "00:00  23Mb  100.0% Word stats\r",
        "\r\n",
        "00:00  24Mb    0.0% Building slots\r"
       ]
      },
      {
       "output_type": "stream",
       "stream": "stdout",
       "text": [
        "00:00  39Mb  100.0% Building slots\r",
        "\r\n",
        "00:00  39Mb    0.0% Build index   \r"
       ]
      },
      {
       "output_type": "stream",
       "stream": "stdout",
       "text": [
        "00:00  39Mb  100.0% Build index\r",
        "\r\n",
        "00:00 162Mb    0.1% Searching, 0.0% matched\r"
       ]
      },
      {
       "output_type": "stream",
       "stream": "stdout",
       "text": [
        "00:01 193Mb    0.5% Searching, 38.2% matched\r"
       ]
      },
      {
       "output_type": "stream",
       "stream": "stdout",
       "text": [
        "00:02 195Mb    0.9% Searching, 26.3% matched\r"
       ]
      },
      {
       "output_type": "stream",
       "stream": "stdout",
       "text": [
        "00:03 194Mb    1.3% Searching, 19.7% matched\r"
       ]
      },
      {
       "output_type": "stream",
       "stream": "stdout",
       "text": [
        "00:04 196Mb    1.7% Searching, 16.1% matched\r"
       ]
      },
      {
       "output_type": "stream",
       "stream": "stdout",
       "text": [
        "00:05 195Mb    2.0% Searching, 14.0% matched\r"
       ]
      },
      {
       "output_type": "stream",
       "stream": "stdout",
       "text": [
        "00:06 195Mb    2.4% Searching, 12.5% matched\r"
       ]
      },
      {
       "output_type": "stream",
       "stream": "stdout",
       "text": [
        "00:07 195Mb    2.8% Searching, 11.5% matched\r"
       ]
      },
      {
       "output_type": "stream",
       "stream": "stdout",
       "text": [
        "00:08 195Mb    3.2% Searching, 10.8% matched\r"
       ]
      },
      {
       "output_type": "stream",
       "stream": "stdout",
       "text": [
        "00:09 196Mb    3.5% Searching, 10.2% matched\r"
       ]
      },
      {
       "output_type": "stream",
       "stream": "stdout",
       "text": [
        "00:10 196Mb    3.9% Searching, 9.7% matched \r"
       ]
      },
      {
       "output_type": "stream",
       "stream": "stdout",
       "text": [
        "00:11 196Mb    4.5% Searching, 14.0% matched\r"
       ]
      },
      {
       "output_type": "stream",
       "stream": "stdout",
       "text": [
        "00:12 196Mb    6.3% Searching, 32.4% matched\r"
       ]
      },
      {
       "output_type": "stream",
       "stream": "stdout",
       "text": [
        "00:13 196Mb    8.0% Searching, 37.7% matched\r"
       ]
      },
      {
       "output_type": "stream",
       "stream": "stdout",
       "text": [
        "00:14 196Mb    9.6% Searching, 41.3% matched\r"
       ]
      },
      {
       "output_type": "stream",
       "stream": "stdout",
       "text": [
        "00:15 196Mb   11.3% Searching, 43.9% matched\r"
       ]
      },
      {
       "output_type": "stream",
       "stream": "stdout",
       "text": [
        "00:16 196Mb   13.0% Searching, 45.6% matched\r"
       ]
      },
      {
       "output_type": "stream",
       "stream": "stdout",
       "text": [
        "00:17 196Mb   14.6% Searching, 47.1% matched\r"
       ]
      },
      {
       "output_type": "stream",
       "stream": "stdout",
       "text": [
        "00:18 196Mb   16.4% Searching, 48.4% matched\r"
       ]
      },
      {
       "output_type": "stream",
       "stream": "stdout",
       "text": [
        "00:19 196Mb   18.2% Searching, 49.7% matched\r"
       ]
      },
      {
       "output_type": "stream",
       "stream": "stdout",
       "text": [
        "00:20 196Mb   20.1% Searching, 50.8% matched\r"
       ]
      },
      {
       "output_type": "stream",
       "stream": "stdout",
       "text": [
        "00:21 196Mb   21.9% Searching, 51.7% matched\r"
       ]
      },
      {
       "output_type": "stream",
       "stream": "stdout",
       "text": [
        "00:22 196Mb   23.8% Searching, 52.5% matched\r"
       ]
      },
      {
       "output_type": "stream",
       "stream": "stdout",
       "text": [
        "00:23 196Mb   25.5% Searching, 53.2% matched\r"
       ]
      },
      {
       "output_type": "stream",
       "stream": "stdout",
       "text": [
        "00:24 195Mb   27.4% Searching, 53.8% matched\r"
       ]
      },
      {
       "output_type": "stream",
       "stream": "stdout",
       "text": [
        "00:25 196Mb   29.3% Searching, 54.4% matched\r"
       ]
      },
      {
       "output_type": "stream",
       "stream": "stdout",
       "text": [
        "00:26 196Mb   31.2% Searching, 54.9% matched\r"
       ]
      },
      {
       "output_type": "stream",
       "stream": "stdout",
       "text": [
        "00:27 196Mb   33.1% Searching, 55.4% matched\r"
       ]
      },
      {
       "output_type": "stream",
       "stream": "stdout",
       "text": [
        "00:28 196Mb   35.0% Searching, 55.8% matched\r"
       ]
      },
      {
       "output_type": "stream",
       "stream": "stdout",
       "text": [
        "00:29 196Mb   36.9% Searching, 56.2% matched\r"
       ]
      },
      {
       "output_type": "stream",
       "stream": "stdout",
       "text": [
        "00:30 196Mb   38.7% Searching, 56.4% matched\r"
       ]
      },
      {
       "output_type": "stream",
       "stream": "stdout",
       "text": [
        "00:31 196Mb   40.6% Searching, 56.6% matched\r"
       ]
      },
      {
       "output_type": "stream",
       "stream": "stdout",
       "text": [
        "00:32 196Mb   42.4% Searching, 56.8% matched\r"
       ]
      },
      {
       "output_type": "stream",
       "stream": "stdout",
       "text": [
        "00:33 196Mb   44.2% Searching, 57.0% matched\r"
       ]
      },
      {
       "output_type": "stream",
       "stream": "stdout",
       "text": [
        "00:34 196Mb   46.1% Searching, 57.2% matched\r"
       ]
      },
      {
       "output_type": "stream",
       "stream": "stdout",
       "text": [
        "00:35 196Mb   48.0% Searching, 57.3% matched\r"
       ]
      },
      {
       "output_type": "stream",
       "stream": "stdout",
       "text": [
        "00:36 196Mb   49.8% Searching, 57.5% matched\r"
       ]
      },
      {
       "output_type": "stream",
       "stream": "stdout",
       "text": [
        "00:37 196Mb   51.7% Searching, 57.7% matched\r"
       ]
      },
      {
       "output_type": "stream",
       "stream": "stdout",
       "text": [
        "00:38 196Mb   53.6% Searching, 57.9% matched\r"
       ]
      },
      {
       "output_type": "stream",
       "stream": "stdout",
       "text": [
        "00:39 196Mb   55.5% Searching, 58.1% matched\r"
       ]
      },
      {
       "output_type": "stream",
       "stream": "stdout",
       "text": [
        "00:40 196Mb   57.4% Searching, 58.2% matched\r"
       ]
      },
      {
       "output_type": "stream",
       "stream": "stdout",
       "text": [
        "00:41 196Mb   59.1% Searching, 58.3% matched\r"
       ]
      },
      {
       "output_type": "stream",
       "stream": "stdout",
       "text": [
        "00:42 196Mb   60.8% Searching, 58.4% matched\r"
       ]
      },
      {
       "output_type": "stream",
       "stream": "stdout",
       "text": [
        "00:43 196Mb   62.3% Searching, 58.5% matched\r"
       ]
      },
      {
       "output_type": "stream",
       "stream": "stdout",
       "text": [
        "00:44 196Mb   63.9% Searching, 58.6% matched\r"
       ]
      },
      {
       "output_type": "stream",
       "stream": "stdout",
       "text": [
        "00:45 196Mb   65.2% Searching, 58.6% matched\r"
       ]
      },
      {
       "output_type": "stream",
       "stream": "stdout",
       "text": [
        "00:46 196Mb   66.8% Searching, 58.7% matched\r"
       ]
      },
      {
       "output_type": "stream",
       "stream": "stdout",
       "text": [
        "00:47 196Mb   68.2% Searching, 58.8% matched\r"
       ]
      },
      {
       "output_type": "stream",
       "stream": "stdout",
       "text": [
        "00:48 196Mb   69.8% Searching, 58.9% matched\r"
       ]
      },
      {
       "output_type": "stream",
       "stream": "stdout",
       "text": [
        "00:49 196Mb   71.3% Searching, 58.9% matched\r"
       ]
      },
      {
       "output_type": "stream",
       "stream": "stdout",
       "text": [
        "00:50 196Mb   72.8% Searching, 59.0% matched\r"
       ]
      },
      {
       "output_type": "stream",
       "stream": "stdout",
       "text": [
        "00:51 196Mb   74.4% Searching, 59.0% matched\r"
       ]
      },
      {
       "output_type": "stream",
       "stream": "stdout",
       "text": [
        "00:52 196Mb   75.9% Searching, 59.1% matched\r"
       ]
      },
      {
       "output_type": "stream",
       "stream": "stdout",
       "text": [
        "00:53 196Mb   77.4% Searching, 59.2% matched\r"
       ]
      },
      {
       "output_type": "stream",
       "stream": "stdout",
       "text": [
        "00:54 196Mb   78.9% Searching, 59.3% matched\r"
       ]
      },
      {
       "output_type": "stream",
       "stream": "stdout",
       "text": [
        "00:55 196Mb   "
       ]
      },
      {
       "output_type": "stream",
       "stream": "stdout",
       "text": [
        "80.8% Searching, 59.4% matched\r"
       ]
      },
      {
       "output_type": "stream",
       "stream": "stdout",
       "text": [
        "00:56 196Mb   82.6% Searching, 59.4% matched\r"
       ]
      },
      {
       "output_type": "stream",
       "stream": "stdout",
       "text": [
        "00:57 196Mb   84.3% Searching, 59.5% matched\r"
       ]
      },
      {
       "output_type": "stream",
       "stream": "stdout",
       "text": [
        "00:58 196Mb   85.9% Searching, 59.5% matched\r"
       ]
      },
      {
       "output_type": "stream",
       "stream": "stdout",
       "text": [
        "00:59 196Mb   87.3% Searching, 59.5% matched\r"
       ]
      },
      {
       "output_type": "stream",
       "stream": "stdout",
       "text": [
        "01:00 196Mb   89.0% Searching, 59.6% matched\r"
       ]
      },
      {
       "output_type": "stream",
       "stream": "stdout",
       "text": [
        "01:01 196Mb   90.6% Searching, 59.7% matched\r"
       ]
      },
      {
       "output_type": "stream",
       "stream": "stdout",
       "text": [
        "01:02 196Mb   92.3% Searching, 59.7% matched\r"
       ]
      },
      {
       "output_type": "stream",
       "stream": "stdout",
       "text": [
        "01:03 196Mb   93.7% Searching, 59.7% matched\r"
       ]
      },
      {
       "output_type": "stream",
       "stream": "stdout",
       "text": [
        "01:04 196Mb   95.4% Searching, 59.8% matched\r"
       ]
      },
      {
       "output_type": "stream",
       "stream": "stdout",
       "text": [
        "01:05 196Mb   97.0% Searching, 59.9% matched\r"
       ]
      },
      {
       "output_type": "stream",
       "stream": "stdout",
       "text": [
        "01:06 196Mb   98.7% Searching, 60.0% matched\r"
       ]
      },
      {
       "output_type": "stream",
       "stream": "stdout",
       "text": [
        "01:07 196Mb   99.8% Searching, 60.0% matched\r"
       ]
      },
      {
       "output_type": "stream",
       "stream": "stdout",
       "text": [
        "01:07 196Mb  100.0% Searching, 59.9% matched\r",
        "\r\n"
       ]
      }
     ],
     "prompt_number": 24
    },
    {
     "cell_type": "code",
     "collapsed": false,
     "input": [
      "!usearch -usearch_global /var/seq_data/priming_exp/data/split_files/finalQC_usearchfmt.1.fasta \\\n",
      "-db /var/seq_data/priming_exp/otusn.pick.fasta \\\n",
      "-strand plus -id 0.97 \\\n",
      "-uc /var/seq_data/priming_exp/data/readmap1.uc \\\n",
      "-threads 15"
     ],
     "language": "python",
     "metadata": {},
     "outputs": [
      {
       "output_type": "stream",
       "stream": "stdout",
       "text": [
        "usearch v7.0.1090_i86linux32, 4.0Gb RAM (132Gb total), 40 cores\r\n",
        "(C) Copyright 2013 Robert C. Edgar, all rights reserved.\r\n",
        "http://drive5.com/usearch\r\n",
        "\r\n",
        "Licensed to: chuck.peperanney@gmail.com\r\n",
        "\r\n"
       ]
      },
      {
       "output_type": "stream",
       "stream": "stdout",
       "text": [
        "00:00  19Mb Reading /var/seq_data/priming_exp/otusn.pick.fasta, 4.0Mb\r\n",
        "00:00  23Mb 10361 (10.4k) seqs, min 362, avg 373, max 423nt\r\n",
        "00:00  23Mb    0.0% Masking\r"
       ]
      },
      {
       "output_type": "stream",
       "stream": "stdout",
       "text": [
        "00:00  23Mb  100.0% Masking\r",
        "\r\n",
        "00:00  23Mb    0.0% Word stats\r"
       ]
      },
      {
       "output_type": "stream",
       "stream": "stdout",
       "text": [
        "00:00  23Mb  100.0% Word stats\r",
        "\r\n",
        "00:00  24Mb    0.0% Building slots\r",
        "00:00  39Mb  100.0% Building slots\r",
        "\r\n",
        "00:00  39Mb    0.0% Build index   \r"
       ]
      },
      {
       "output_type": "stream",
       "stream": "stdout",
       "text": [
        "00:00  39Mb  100.0% Build index\r",
        "\r\n",
        "00:00 160Mb    0.1% Searching, 0.0% matched\r"
       ]
      },
      {
       "output_type": "stream",
       "stream": "stdout",
       "text": [
        "00:01 192Mb    0.3% Searching, 42.8% matched\r"
       ]
      },
      {
       "output_type": "stream",
       "stream": "stdout",
       "text": [
        "00:02 197Mb    0.8% Searching, 28.5% matched\r"
       ]
      },
      {
       "output_type": "stream",
       "stream": "stdout",
       "text": [
        "00:03 198Mb    1.2% Searching, 20.5% matched\r"
       ]
      },
      {
       "output_type": "stream",
       "stream": "stdout",
       "text": [
        "00:04 199Mb    1.6% Searching, 16.4% matched\r"
       ]
      },
      {
       "output_type": "stream",
       "stream": "stdout",
       "text": [
        "00:05 199Mb    2.0% Searching, 14.0% matched\r"
       ]
      },
      {
       "output_type": "stream",
       "stream": "stdout",
       "text": [
        "00:06 198Mb    2.3% Searching, 12.6% matched\r"
       ]
      },
      {
       "output_type": "stream",
       "stream": "stdout",
       "text": [
        "00:07 198Mb    2.7% Searching, 11.5% matched\r"
       ]
      },
      {
       "output_type": "stream",
       "stream": "stdout",
       "text": [
        "00:08 198Mb    3.1% Searching, 10.7% matched\r"
       ]
      },
      {
       "output_type": "stream",
       "stream": "stdout",
       "text": [
        "00:09 198Mb    3.4% Searching, 10.1% matched\r"
       ]
      },
      {
       "output_type": "stream",
       "stream": "stdout",
       "text": [
        "00:10 198Mb    3.8% Searching, 9.6% matched \r"
       ]
      },
      {
       "output_type": "stream",
       "stream": "stdout",
       "text": [
        "00:11 198Mb    4.2% Searching, 9.2% matched\r"
       ]
      },
      {
       "output_type": "stream",
       "stream": "stdout",
       "text": [
        "00:12 198Mb    6.1% Searching, 30.8% matched\r"
       ]
      },
      {
       "output_type": "stream",
       "stream": "stdout",
       "text": [
        "00:13 198Mb    7.8% Searching, 37.1% matched\r"
       ]
      },
      {
       "output_type": "stream",
       "stream": "stdout",
       "text": [
        "00:14 198Mb    9.5% Searching, 40.9% matched\r"
       ]
      },
      {
       "output_type": "stream",
       "stream": "stdout",
       "text": [
        "00:15 198Mb   11.2% Searching, 43.7% matched\r"
       ]
      },
      {
       "output_type": "stream",
       "stream": "stdout",
       "text": [
        "00:16 198Mb   12.8% Searching, 45.4% matched\r"
       ]
      },
      {
       "output_type": "stream",
       "stream": "stdout",
       "text": [
        "00:17 198Mb   14.5% Searching, 46.9% matched\r"
       ]
      },
      {
       "output_type": "stream",
       "stream": "stdout",
       "text": [
        "00:18 198Mb   16.2% Searching, 48.3% matched\r"
       ]
      },
      {
       "output_type": "stream",
       "stream": "stdout",
       "text": [
        "00:19 196Mb   18.1% Searching, 49.6% matched\r"
       ]
      },
      {
       "output_type": "stream",
       "stream": "stdout",
       "text": [
        "00:20 197Mb   19.9% Searching, 50.7% matched\r"
       ]
      },
      {
       "output_type": "stream",
       "stream": "stdout",
       "text": [
        "00:21 197Mb   21.8% Searching, 51.6% matched\r"
       ]
      },
      {
       "output_type": "stream",
       "stream": "stdout",
       "text": [
        "00:22 197Mb   23.6% Searching, 52.4% matched\r"
       ]
      },
      {
       "output_type": "stream",
       "stream": "stdout",
       "text": [
        "00:23 197Mb   25.4% Searching, 53.1% matched\r"
       ]
      },
      {
       "output_type": "stream",
       "stream": "stdout",
       "text": [
        "00:24 196Mb   27.3% Searching, 53.8% matched\r"
       ]
      },
      {
       "output_type": "stream",
       "stream": "stdout",
       "text": [
        "00:25 196Mb   29.2% Searching, 54.3% matched\r"
       ]
      },
      {
       "output_type": "stream",
       "stream": "stdout",
       "text": [
        "00:26 196Mb   31.1% Searching, 54.8% matched\r"
       ]
      },
      {
       "output_type": "stream",
       "stream": "stdout",
       "text": [
        "00:27 196Mb   33.0% Searching, 55.3% matched\r"
       ]
      },
      {
       "output_type": "stream",
       "stream": "stdout",
       "text": [
        "00:28 197Mb   34.9% Searching, 55.7% matched\r"
       ]
      },
      {
       "output_type": "stream",
       "stream": "stdout",
       "text": [
        "00:29 197Mb   36.8% Searching, 56.1% matched\r"
       ]
      },
      {
       "output_type": "stream",
       "stream": "stdout",
       "text": [
        "00:30 197Mb   38.6% Searching, 56.3% matched\r"
       ]
      },
      {
       "output_type": "stream",
       "stream": "stdout",
       "text": [
        "00:31 197Mb   40.5% Searching, 56.6% matched\r"
       ]
      },
      {
       "output_type": "stream",
       "stream": "stdout",
       "text": [
        "00:32 197Mb   42.3% Searching, 56.7% matched\r"
       ]
      },
      {
       "output_type": "stream",
       "stream": "stdout",
       "text": [
        "00:33 197Mb   44.1% Searching, 56.9% matched\r"
       ]
      },
      {
       "output_type": "stream",
       "stream": "stdout",
       "text": [
        "00:34 197Mb   46.0% Searching, 57.1% matched\r"
       ]
      },
      {
       "output_type": "stream",
       "stream": "stdout",
       "text": [
        "00:35 197Mb   47.9% Searching, 57.3% matched\r"
       ]
      },
      {
       "output_type": "stream",
       "stream": "stdout",
       "text": [
        "00:36 197Mb   49.7% Searching, 57.5% matched\r"
       ]
      },
      {
       "output_type": "stream",
       "stream": "stdout",
       "text": [
        "00:37 197Mb   51.6% Searching, 57.7% matched\r"
       ]
      },
      {
       "output_type": "stream",
       "stream": "stdout",
       "text": [
        "00:38 197Mb   53.5% Searching, 57.8% matched\r"
       ]
      },
      {
       "output_type": "stream",
       "stream": "stdout",
       "text": [
        "00:39 197Mb   55.4% Searching, 58.0% matched\r"
       ]
      },
      {
       "output_type": "stream",
       "stream": "stdout",
       "text": [
        "00:40 197Mb   57.3% Searching, 58.2% matched\r"
       ]
      },
      {
       "output_type": "stream",
       "stream": "stdout",
       "text": [
        "00:41 197Mb   59.0% Searching, 58.3% matched\r"
       ]
      },
      {
       "output_type": "stream",
       "stream": "stdout",
       "text": [
        "00:42 197Mb   60.7% Searching, 58.3% matched\r"
       ]
      },
      {
       "output_type": "stream",
       "stream": "stdout",
       "text": [
        "00:43 197Mb   62.3% Searching, 58.5% matched\r"
       ]
      },
      {
       "output_type": "stream",
       "stream": "stdout",
       "text": [
        "00:44 197Mb   63.8% Searching, 58.6% matched\r"
       ]
      },
      {
       "output_type": "stream",
       "stream": "stdout",
       "text": [
        "00:45 197Mb   65.2% Searching, 58.6% matched\r"
       ]
      },
      {
       "output_type": "stream",
       "stream": "stdout",
       "text": [
        "00:46 197Mb   66.7% Searching, 58.6% matched\r"
       ]
      },
      {
       "output_type": "stream",
       "stream": "stdout",
       "text": [
        "00:47 197Mb   68.2% Searching, 58.7% matched\r"
       ]
      },
      {
       "output_type": "stream",
       "stream": "stdout",
       "text": [
        "00:48 197Mb   69.8% Searching, 58.8% matched\r"
       ]
      },
      {
       "output_type": "stream",
       "stream": "stdout",
       "text": [
        "00:49 197Mb   71.2% Searching, 58.9% matched\r"
       ]
      },
      {
       "output_type": "stream",
       "stream": "stdout",
       "text": [
        "00:50 197Mb   72.8% Searching, 58.9% matched\r"
       ]
      },
      {
       "output_type": "stream",
       "stream": "stdout",
       "text": [
        "00:51 197Mb   74.4% Searching, 59.0% matched\r"
       ]
      },
      {
       "output_type": "stream",
       "stream": "stdout",
       "text": [
        "00:52 197Mb   75.9% Searching, 59.0% matched\r"
       ]
      },
      {
       "output_type": "stream",
       "stream": "stdout",
       "text": [
        "00:53 197Mb   77.4% Searching, 59.1% matched\r"
       ]
      },
      {
       "output_type": "stream",
       "stream": "stdout",
       "text": [
        "00:54 197Mb   78.9% Searching, 59.2% matched\r"
       ]
      },
      {
       "output_type": "stream",
       "stream": "stdout",
       "text": [
        "00:55 197Mb   80.7% Searching, 59.3% matched\r"
       ]
      },
      {
       "output_type": "stream",
       "stream": "stdout",
       "text": [
        "00:56 197Mb   82.5% Searching, 59.4% matched\r"
       ]
      },
      {
       "output_type": "stream",
       "stream": "stdout",
       "text": [
        "00:57 197Mb   84.3% Searching, 59.4% matched\r"
       ]
      },
      {
       "output_type": "stream",
       "stream": "stdout",
       "text": [
        "00:58 197Mb   85.8% Searching, 59.4% matched\r"
       ]
      },
      {
       "output_type": "stream",
       "stream": "stdout",
       "text": [
        "00:59 197Mb   87.3% Searching, 59.5% matched\r"
       ]
      },
      {
       "output_type": "stream",
       "stream": "stdout",
       "text": [
        "01:00 197Mb   89.0% Searching, 59.5% matched\r"
       ]
      },
      {
       "output_type": "stream",
       "stream": "stdout",
       "text": [
        "01:01 197Mb   90.7% Searching, 59.6% matched\r"
       ]
      },
      {
       "output_type": "stream",
       "stream": "stdout",
       "text": [
        "01:02 197Mb   92.3% Searching, 59.7% matched\r"
       ]
      },
      {
       "output_type": "stream",
       "stream": "stdout",
       "text": [
        "01:03 197Mb   93.7% Searching, 59.7% matched\r"
       ]
      },
      {
       "output_type": "stream",
       "stream": "stdout",
       "text": [
        "01:04 197Mb   95.4% Searching, 59.8% matched\r"
       ]
      },
      {
       "output_type": "stream",
       "stream": "stdout",
       "text": [
        "01:05 197Mb   97.2% Searching, 59.9% matched\r"
       ]
      },
      {
       "output_type": "stream",
       "stream": "stdout",
       "text": [
        "01:06 197Mb   99.1% Searching, 59.9% matched\r"
       ]
      },
      {
       "output_type": "stream",
       "stream": "stdout",
       "text": [
        "01:06 197Mb  100.0% Searching, 59.9% matched\r",
        "\r\n"
       ]
      }
     ],
     "prompt_number": 25
    },
    {
     "cell_type": "code",
     "collapsed": false,
     "input": [
      "!usearch -usearch_global /var/seq_data/priming_exp/data/split_files/finalQC_usearchfmt.2.fasta \\\n",
      "-db /var/seq_data/priming_exp/otusn.pick.fasta \\\n",
      "-strand plus -id 0.97 \\\n",
      "-uc /var/seq_data/priming_exp/data/readmap2.uc \\\n",
      "-threads 15"
     ],
     "language": "python",
     "metadata": {},
     "outputs": [
      {
       "output_type": "stream",
       "stream": "stdout",
       "text": [
        "usearch v7.0.1090_i86linux32, 4.0Gb RAM (132Gb total), 40 cores\r\n",
        "(C) Copyright 2013 Robert C. Edgar, all rights reserved.\r\n",
        "http://drive5.com/usearch\r\n",
        "\r\n",
        "Licensed to: chuck.peperanney@gmail.com\r\n",
        "\r\n"
       ]
      },
      {
       "output_type": "stream",
       "stream": "stdout",
       "text": [
        "00:00  19Mb Reading /var/seq_data/priming_exp/otusn.pick.fasta, 4.0Mb\r\n",
        "00:00  23Mb 10361 (10.4k) seqs, min 362, avg 373, max 423nt\r\n",
        "00:00  23Mb    0.0% Masking\r"
       ]
      },
      {
       "output_type": "stream",
       "stream": "stdout",
       "text": [
        "00:00  23Mb  100.0% Masking\r",
        "\r\n",
        "00:00  23Mb    0.0% Word stats\r"
       ]
      },
      {
       "output_type": "stream",
       "stream": "stdout",
       "text": [
        "00:00  23Mb  100.0% Word stats\r",
        "\r\n",
        "00:00  24Mb    0.0% Building slots\r",
        "00:00  39Mb  100.0% Building slots\r",
        "\r\n",
        "00:00  39Mb    0.0% Build index   \r"
       ]
      },
      {
       "output_type": "stream",
       "stream": "stdout",
       "text": [
        "00:00  39Mb  100.0% Build index\r",
        "\r\n",
        "00:00 163Mb    0.1% Searching, 0.0% matched\r"
       ]
      },
      {
       "output_type": "stream",
       "stream": "stdout",
       "text": [
        "00:01 192Mb    0.3% Searching, 47.7% matched\r"
       ]
      },
      {
       "output_type": "stream",
       "stream": "stdout",
       "text": [
        "00:02 198Mb    0.9% Searching, 27.9% matched\r"
       ]
      },
      {
       "output_type": "stream",
       "stream": "stdout",
       "text": [
        "00:03 198Mb    1.2% Searching, 20.3% matched\r"
       ]
      },
      {
       "output_type": "stream",
       "stream": "stdout",
       "text": [
        "00:04 198Mb    1.6% Searching, 16.3% matched\r"
       ]
      },
      {
       "output_type": "stream",
       "stream": "stdout",
       "text": [
        "00:05 198Mb    2.0% Searching, 13.9% matched\r"
       ]
      },
      {
       "output_type": "stream",
       "stream": "stdout",
       "text": [
        "00:06 198Mb    2.3% Searching, 12.5% matched\r"
       ]
      },
      {
       "output_type": "stream",
       "stream": "stdout",
       "text": [
        "00:07 198Mb    2.7% Searching, 11.4% matched\r"
       ]
      },
      {
       "output_type": "stream",
       "stream": "stdout",
       "text": [
        "00:08 198Mb    3.1% Searching, 10.7% matched\r"
       ]
      },
      {
       "output_type": "stream",
       "stream": "stdout",
       "text": [
        "00:09 198Mb    3.5% Searching, 10.0% matched\r"
       ]
      },
      {
       "output_type": "stream",
       "stream": "stdout",
       "text": [
        "00:10 198Mb    3.9% Searching, 9.5% matched \r"
       ]
      },
      {
       "output_type": "stream",
       "stream": "stdout",
       "text": [
        "00:11 198Mb    4.3% Searching, 10.6% matched\r"
       ]
      },
      {
       "output_type": "stream",
       "stream": "stdout",
       "text": [
        "00:12 198Mb    6.2% Searching, 31.1% matched\r"
       ]
      },
      {
       "output_type": "stream",
       "stream": "stdout",
       "text": [
        "00:13 199Mb    7.9% Searching, 37.2% matched\r"
       ]
      },
      {
       "output_type": "stream",
       "stream": "stdout",
       "text": [
        "00:14 199Mb    9.5% Searching, 40.9% matched\r"
       ]
      },
      {
       "output_type": "stream",
       "stream": "stdout",
       "text": [
        "00:15 198Mb   11.2% Searching, 43.7% matched\r"
       ]
      },
      {
       "output_type": "stream",
       "stream": "stdout",
       "text": [
        "00:16 199Mb   12.8% Searching, 45.4% matched\r"
       ]
      },
      {
       "output_type": "stream",
       "stream": "stdout",
       "text": [
        "00:17 199Mb   14.5% Searching, 46.9% matched\r"
       ]
      },
      {
       "output_type": "stream",
       "stream": "stdout",
       "text": [
        "00:18 199Mb   16.2% Searching, 48.3% matched\r"
       ]
      },
      {
       "output_type": "stream",
       "stream": "stdout",
       "text": [
        "00:19 199Mb   18.1% Searching, 49.6% matched\r"
       ]
      },
      {
       "output_type": "stream",
       "stream": "stdout",
       "text": [
        "00:20 199Mb   19.9% Searching, 50.7% matched\r"
       ]
      },
      {
       "output_type": "stream",
       "stream": "stdout",
       "text": [
        "00:21 199Mb   21.7% Searching, 51.6% matched\r"
       ]
      },
      {
       "output_type": "stream",
       "stream": "stdout",
       "text": [
        "00:22 199Mb   23.6% Searching, 52.4% matched\r"
       ]
      },
      {
       "output_type": "stream",
       "stream": "stdout",
       "text": [
        "00:23 199Mb   25.4% Searching, 53.1% matched\r"
       ]
      },
      {
       "output_type": "stream",
       "stream": "stdout",
       "text": [
        "00:24 199Mb   27.2% Searching, 53.7% matched\r"
       ]
      },
      {
       "output_type": "stream",
       "stream": "stdout",
       "text": [
        "00:25 199Mb   29.1% Searching, 54.3% matched\r"
       ]
      },
      {
       "output_type": "stream",
       "stream": "stdout",
       "text": [
        "00:26 199Mb   31.0% Searching, 54.8% matched\r"
       ]
      },
      {
       "output_type": "stream",
       "stream": "stdout",
       "text": [
        "00:27 199Mb   32.9% Searching, 55.3% matched\r"
       ]
      },
      {
       "output_type": "stream",
       "stream": "stdout",
       "text": [
        "00:28 198Mb   34.8% Searching, 55.7% matched\r"
       ]
      },
      {
       "output_type": "stream",
       "stream": "stdout",
       "text": [
        "00:29 198Mb   36.7% Searching, 56.1% matched\r"
       ]
      },
      {
       "output_type": "stream",
       "stream": "stdout",
       "text": [
        "00:30 198Mb   38.5% Searching, 56.3% matched\r"
       ]
      },
      {
       "output_type": "stream",
       "stream": "stdout",
       "text": [
        "00:31 198Mb   40.4% Searching, 56.6% matched\r"
       ]
      },
      {
       "output_type": "stream",
       "stream": "stdout",
       "text": [
        "00:32 198Mb   42.2% Searching, 56.8% matched\r"
       ]
      },
      {
       "output_type": "stream",
       "stream": "stdout",
       "text": [
        "00:33 198Mb   44.1% Searching, 56.9% matched\r"
       ]
      },
      {
       "output_type": "stream",
       "stream": "stdout",
       "text": [
        "00:34 198Mb   45.9% Searching, 57.1% matched\r"
       ]
      },
      {
       "output_type": "stream",
       "stream": "stdout",
       "text": [
        "00:35 198Mb   47.8% Searching, 57.3% matched\r"
       ]
      },
      {
       "output_type": "stream",
       "stream": "stdout",
       "text": [
        "00:36 198Mb   49.7% Searching, 57.5% matched\r"
       ]
      },
      {
       "output_type": "stream",
       "stream": "stdout",
       "text": [
        "00:37 198Mb   51.6% Searching, 57.7% matched\r"
       ]
      },
      {
       "output_type": "stream",
       "stream": "stdout",
       "text": [
        "00:38 198Mb   53.4% Searching, 57.9% matched\r"
       ]
      },
      {
       "output_type": "stream",
       "stream": "stdout",
       "text": [
        "00:39 198Mb   55.3% Searching, 58.0% matched\r"
       ]
      },
      {
       "output_type": "stream",
       "stream": "stdout",
       "text": [
        "00:40 198Mb   57.2% Searching, 58.2% matched\r"
       ]
      },
      {
       "output_type": "stream",
       "stream": "stdout",
       "text": [
        "00:41 198Mb   58.9% Searching, 58.3% matched\r"
       ]
      },
      {
       "output_type": "stream",
       "stream": "stdout",
       "text": [
        "00:42 198Mb   60.6% Searching, 58.4% matched\r"
       ]
      },
      {
       "output_type": "stream",
       "stream": "stdout",
       "text": [
        "00:43 198Mb   62.3% Searching, 58.5% matched\r"
       ]
      },
      {
       "output_type": "stream",
       "stream": "stdout",
       "text": [
        "00:44 198Mb   63.8% Searching, 58.6% matched\r"
       ]
      },
      {
       "output_type": "stream",
       "stream": "stdout",
       "text": [
        "00:45 198Mb   65.2% Searching, 58.6% matched\r"
       ]
      },
      {
       "output_type": "stream",
       "stream": "stdout",
       "text": [
        "00:46 198Mb   66.8% Searching, 58.7% matched\r"
       ]
      },
      {
       "output_type": "stream",
       "stream": "stdout",
       "text": [
        "00:47 198Mb   68.2% Searching, 58.7% matched\r"
       ]
      },
      {
       "output_type": "stream",
       "stream": "stdout",
       "text": [
        "00:48 198Mb   69.8% Searching, 58.8% matched\r"
       ]
      },
      {
       "output_type": "stream",
       "stream": "stdout",
       "text": [
        "00:49 198Mb   71.2% Searching, 58.9% matched\r"
       ]
      },
      {
       "output_type": "stream",
       "stream": "stdout",
       "text": [
        "00:50 198Mb   72.7% Searching, 58.9% matched\r"
       ]
      },
      {
       "output_type": "stream",
       "stream": "stdout",
       "text": [
        "00:51 198Mb   74.4% Searching, 59.0% matched\r"
       ]
      },
      {
       "output_type": "stream",
       "stream": "stdout",
       "text": [
        "00:52 198Mb   75.8% Searching, 59.1% matched\r"
       ]
      },
      {
       "output_type": "stream",
       "stream": "stdout",
       "text": [
        "00:53 198Mb   77.3% Searching, 59.1% matched\r"
       ]
      },
      {
       "output_type": "stream",
       "stream": "stdout",
       "text": [
        "00:54 198Mb   78.9% Searching, 59.2% matched\r"
       ]
      },
      {
       "output_type": "stream",
       "stream": "stdout",
       "text": [
        "00:55 198Mb   80.7% Searching, 59.3% matched\r"
       ]
      },
      {
       "output_type": "stream",
       "stream": "stdout",
       "text": [
        "00:56 198Mb   82.4% Searching, 59.4% matched\r"
       ]
      },
      {
       "output_type": "stream",
       "stream": "stdout",
       "text": [
        "00:57 198Mb   84.2% Searching, 59.4% matched\r"
       ]
      },
      {
       "output_type": "stream",
       "stream": "stdout",
       "text": [
        "00:58 198Mb   85.8% Searching, 59.5% matched\r"
       ]
      },
      {
       "output_type": "stream",
       "stream": "stdout",
       "text": [
        "00:59 198Mb   87.3% Searching, 59.5% matched\r"
       ]
      },
      {
       "output_type": "stream",
       "stream": "stdout",
       "text": [
        "01:00 198Mb   89.1% Searching, 59.6% matched\r"
       ]
      },
      {
       "output_type": "stream",
       "stream": "stdout",
       "text": [
        "01:01 198Mb   90.8% Searching, 59.7% matched\r"
       ]
      },
      {
       "output_type": "stream",
       "stream": "stdout",
       "text": [
        "01:02 198Mb   92.4% Searching, 59.7% matched\r"
       ]
      },
      {
       "output_type": "stream",
       "stream": "stdout",
       "text": [
        "01:03 198Mb   93.8% Searching, 59.7% matched\r"
       ]
      },
      {
       "output_type": "stream",
       "stream": "stdout",
       "text": [
        "01:04 198Mb   95.6% Searching, 59.8% matched\r"
       ]
      },
      {
       "output_type": "stream",
       "stream": "stdout",
       "text": [
        "01:05 198Mb   97.5% Searching, 59.9% matched\r"
       ]
      },
      {
       "output_type": "stream",
       "stream": "stdout",
       "text": [
        "01:06 198Mb   99.2% Searching, 60.0% matched\r"
       ]
      },
      {
       "output_type": "stream",
       "stream": "stdout",
       "text": [
        "01:06 198Mb  100.0% Searching, 59.9% matched\r",
        "\r\n"
       ]
      }
     ],
     "prompt_number": 26
    },
    {
     "cell_type": "code",
     "collapsed": false,
     "input": [
      "!usearch -usearch_global /var/seq_data/priming_exp/data/split_files/finalQC_usearchfmt.3.fasta \\\n",
      "-db /var/seq_data/priming_exp/otusn.pick.fasta \\\n",
      "-strand plus -id 0.97 \\\n",
      "-uc /var/seq_data/priming_exp/data/readmap3.uc \\\n",
      "-threads 15"
     ],
     "language": "python",
     "metadata": {},
     "outputs": [
      {
       "output_type": "stream",
       "stream": "stdout",
       "text": [
        "usearch v7.0.1090_i86linux32, 4.0Gb RAM (132Gb total), 40 cores\r\n",
        "(C) Copyright 2013 Robert C. Edgar, all rights reserved.\r\n",
        "http://drive5.com/usearch\r\n",
        "\r\n",
        "Licensed to: chuck.peperanney@gmail.com\r\n",
        "\r\n"
       ]
      },
      {
       "output_type": "stream",
       "stream": "stdout",
       "text": [
        "00:00  19Mb Reading /var/seq_data/priming_exp/otusn.pick.fasta, 4.0Mb\r\n",
        "00:00  23Mb 10361 (10.4k) seqs, min 362, avg 373, max 423nt\r\n",
        "00:00  23Mb    0.0% Masking\r"
       ]
      },
      {
       "output_type": "stream",
       "stream": "stdout",
       "text": [
        "00:01  23Mb   34.6% Masking\r"
       ]
      },
      {
       "output_type": "stream",
       "stream": "stdout",
       "text": [
        "00:01  23Mb  100.0% Masking\r",
        "\r\n",
        "00:01  23Mb    0.0% Word stats\r"
       ]
      },
      {
       "output_type": "stream",
       "stream": "stdout",
       "text": [
        "00:01  23Mb  100.0% Word stats\r",
        "\r\n",
        "00:01  24Mb    0.0% Building slots\r",
        "00:01  39Mb  100.0% Building slots\r",
        "\r\n",
        "00:01  39Mb    0.0% Build index   \r"
       ]
      },
      {
       "output_type": "stream",
       "stream": "stdout",
       "text": [
        "00:01  39Mb  100.0% Build index\r",
        "\r\n",
        "00:01 162Mb    0.1% Searching, 0.0% "
       ]
      },
      {
       "output_type": "stream",
       "stream": "stdout",
       "text": [
        "matched\r"
       ]
      },
      {
       "output_type": "stream",
       "stream": "stdout",
       "text": [
        "00:02 195Mb    0.6% Searching, 37.8% matched\r"
       ]
      },
      {
       "output_type": "stream",
       "stream": "stdout",
       "text": [
        "00:03 195Mb    1.0% Searching, 23.4% matched\r"
       ]
      },
      {
       "output_type": "stream",
       "stream": "stdout",
       "text": [
        "00:04 195Mb    1.4% Searching, 18.1% matched\r"
       ]
      },
      {
       "output_type": "stream",
       "stream": "stdout",
       "text": [
        "00:05 195Mb    1.8% Searching, 15.1% matched\r"
       ]
      },
      {
       "output_type": "stream",
       "stream": "stdout",
       "text": [
        "00:06 195Mb    2.1% Searching, 13.3% matched\r"
       ]
      },
      {
       "output_type": "stream",
       "stream": "stdout",
       "text": [
        "00:07 195Mb    2"
       ]
      },
      {
       "output_type": "stream",
       "stream": "stdout",
       "text": [
        ".5% Searching, 12.0% matched\r"
       ]
      },
      {
       "output_type": "stream",
       "stream": "stdout",
       "text": [
        "00:08 195Mb    2.9% Searching, 11.1% matched\r"
       ]
      },
      {
       "output_type": "stream",
       "stream": "stdout",
       "text": [
        "00:09 195Mb    3.2% Searching, 10.5% matched\r"
       ]
      },
      {
       "output_type": "stream",
       "stream": "stdout",
       "text": [
        "00:10 195Mb    3.6% Searching, 9.9% matched \r"
       ]
      },
      {
       "output_type": "stream",
       "stream": "stdout",
       "text": [
        "00:11 195Mb    4.0% Searching, 9.4% matched\r"
       ]
      },
      {
       "output_type": "stream",
       "stream": "stdout",
       "text": [
        "00:12 196Mb    5.0% Searching, 20.2% matched\r"
       ]
      },
      {
       "output_type": "stream",
       "stream": "stdout",
       "text": [
        "00:13 196Mb    6.9% Searching, 34.5% matched\r"
       ]
      },
      {
       "output_type": "stream",
       "stream": "stdout",
       "text": [
        "00:14 196Mb    8.6% Searching, 39.0% matched\r"
       ]
      },
      {
       "output_type": "stream",
       "stream": "stdout",
       "text": [
        "00:15 197Mb   10.2% Searching, 42.3% matched\r"
       ]
      },
      {
       "output_type": "stream",
       "stream": "stdout",
       "text": [
        "00:16 197Mb   11.9% Searching, 44.5% matched\r"
       ]
      },
      {
       "output_type": "stream",
       "stream": "stdout",
       "text": [
        "00:17 198Mb   13.5% Searching, 46.1% matched\r"
       ]
      },
      {
       "output_type": "stream",
       "stream": "stdout",
       "text": [
        "00:18 197Mb   15.2% Searching, 47.5% matched\r"
       ]
      },
      {
       "output_type": "stream",
       "stream": "stdout",
       "text": [
        "00:19 197Mb   17.0% Searching, 48.9% matched\r"
       ]
      },
      {
       "output_type": "stream",
       "stream": "stdout",
       "text": [
        "00:20 198Mb   18.8% Searching, 50.1% matched\r"
       ]
      },
      {
       "output_type": "stream",
       "stream": "stdout",
       "text": [
        "00:21 198Mb   20.7% Searching, 51.1% matched\r"
       ]
      },
      {
       "output_type": "stream",
       "stream": "stdout",
       "text": [
        "00:22 198Mb   22.5% Searching, 52.0% matched\r"
       ]
      },
      {
       "output_type": "stream",
       "stream": "stdout",
       "text": [
        "00:23 198Mb   24.4% Searching, 52.7% matched\r"
       ]
      },
      {
       "output_type": "stream",
       "stream": "stdout",
       "text": [
        "00:24 198Mb   26.2% Searching, 53.4% matched\r"
       ]
      },
      {
       "output_type": "stream",
       "stream": "stdout",
       "text": [
        "00:25 198Mb   28.1% Searching, 54.0% matched\r"
       ]
      },
      {
       "output_type": "stream",
       "stream": "stdout",
       "text": [
        "00:26 198Mb   29.9% Searching, 54.5% matched\r"
       ]
      },
      {
       "output_type": "stream",
       "stream": "stdout",
       "text": [
        "00:27 198Mb   31.8% Searching, 55.0% matched\r"
       ]
      },
      {
       "output_type": "stream",
       "stream": "stdout",
       "text": [
        "00:28 198Mb   33.7% Searching, 55.5% matched\r"
       ]
      },
      {
       "output_type": "stream",
       "stream": "stdout",
       "text": [
        "00:29 198Mb   35.7% Searching, 55.9% matched\r"
       ]
      },
      {
       "output_type": "stream",
       "stream": "stdout",
       "text": [
        "00:30 198Mb   37.5% Searching, 56.2% matched\r"
       ]
      },
      {
       "output_type": "stream",
       "stream": "stdout",
       "text": [
        "00:31 198Mb   39.4% Searching, 56.4% matched\r"
       ]
      },
      {
       "output_type": "stream",
       "stream": "stdout",
       "text": [
        "00:32 198Mb   41.2% Searching, 56.7% matched\r"
       ]
      },
      {
       "output_type": "stream",
       "stream": "stdout",
       "text": [
        "00:33 198Mb   43.0% Searching, 56.9% matched\r"
       ]
      },
      {
       "output_type": "stream",
       "stream": "stdout",
       "text": [
        "00:34 198Mb   44.9% Searching, 57.1% matched\r"
       ]
      },
      {
       "output_type": "stream",
       "stream": "stdout",
       "text": [
        "00:35 198Mb   46.7% Searching, 57.2% matched\r"
       ]
      },
      {
       "output_type": "stream",
       "stream": "stdout",
       "text": [
        "00:36 198Mb   48.6% Searching, 57.4% matched\r"
       ]
      },
      {
       "output_type": "stream",
       "stream": "stdout",
       "text": [
        "00:37 198Mb   50.5% Searching, 57.6% matched\r"
       ]
      },
      {
       "output_type": "stream",
       "stream": "stdout",
       "text": [
        "00:38 198Mb   52.4% Searching, 57.8% matched\r"
       ]
      },
      {
       "output_type": "stream",
       "stream": "stdout",
       "text": [
        "00:39 198Mb   54.3% Searching, 58.0% matched\r"
       ]
      },
      {
       "output_type": "stream",
       "stream": "stdout",
       "text": [
        "00:40 198Mb   56.1% Searching, 58.1% matched\r"
       ]
      },
      {
       "output_type": "stream",
       "stream": "stdout",
       "text": [
        "00:41 199Mb   58.0% Searching, 58.2% matched\r"
       ]
      },
      {
       "output_type": "stream",
       "stream": "stdout",
       "text": [
        "00:42 199Mb   59.6% Searching, 58.3% matched\r"
       ]
      },
      {
       "output_type": "stream",
       "stream": "stdout",
       "text": [
        "00:43 199Mb   61.3% Searching, 58.4% matched\r"
       ]
      },
      {
       "output_type": "stream",
       "stream": "stdout",
       "text": [
        "00:44 199Mb   62.9% Searching, 58.5% matched\r"
       ]
      },
      {
       "output_type": "stream",
       "stream": "stdout",
       "text": [
        "00:45 199Mb   64.3% Searching, 58.6% matched\r"
       ]
      },
      {
       "output_type": "stream",
       "stream": "stdout",
       "text": [
        "00:46 199Mb   65.8% Searching, 58.6% matched\r"
       ]
      },
      {
       "output_type": "stream",
       "stream": "stdout",
       "text": [
        "00:47 199Mb   67.3% Searching, 58.7% matched\r"
       ]
      },
      {
       "output_type": "stream",
       "stream": "stdout",
       "text": [
        "00:48 199Mb   68.8% Searching, 58.8% matched\r"
       ]
      },
      {
       "output_type": "stream",
       "stream": "stdout",
       "text": [
        "00:49 199Mb   70.3% Searching, 58.8% matched\r"
       ]
      },
      {
       "output_type": "stream",
       "stream": "stdout",
       "text": [
        "00:50 199Mb   71.8% Searching, 58.9% matched\r"
       ]
      },
      {
       "output_type": "stream",
       "stream": "stdout",
       "text": [
        "00:51 199Mb   73.5% Searching, 59.0% matched\r"
       ]
      },
      {
       "output_type": "stream",
       "stream": "stdout",
       "text": [
        "00:52 199Mb   75.0% Searching, 59.0% matched\r"
       ]
      },
      {
       "output_type": "stream",
       "stream": "stdout",
       "text": [
        "00:53 199Mb   76.4% Searching, 59.1% matched\r"
       ]
      },
      {
       "output_type": "stream",
       "stream": "stdout",
       "text": [
        "00:54 199Mb   78.0% Searching, 59.2% matched\r"
       ]
      },
      {
       "output_type": "stream",
       "stream": "stdout",
       "text": [
        "00:55 199Mb   79.6% Searching, 59.3% matched\r"
       ]
      },
      {
       "output_type": "stream",
       "stream": "stdout",
       "text": [
        "00:56 199Mb   81.4% Searching, 59.3% matched\r"
       ]
      },
      {
       "output_type": "stream",
       "stream": "stdout",
       "text": [
        "00:57 199Mb   83.2% Searching, 59.4% matched\r"
       ]
      },
      {
       "output_type": "stream",
       "stream": "stdout",
       "text": [
        "00:58 199Mb   84.9% Searching, 59.4% matched\r"
       ]
      },
      {
       "output_type": "stream",
       "stream": "stdout",
       "text": [
        "00:59 199Mb   86.4% Searching, 59.5% matched\r"
       ]
      },
      {
       "output_type": "stream",
       "stream": "stdout",
       "text": [
        "01:00 199Mb   88.0% Searching, 59.5% matched\r"
       ]
      },
      {
       "output_type": "stream",
       "stream": "stdout",
       "text": [
        "01:01 199Mb   89.6% Searching, 59.6% matched\r"
       ]
      },
      {
       "output_type": "stream",
       "stream": "stdout",
       "text": [
        "01:02 199Mb   91.3% Searching, 59.7% matched\r"
       ]
      },
      {
       "output_type": "stream",
       "stream": "stdout",
       "text": [
        "01:03 199Mb   92.8% Searching, 59.7% matched\r"
       ]
      },
      {
       "output_type": "stream",
       "stream": "stdout",
       "text": [
        "01:04 199Mb   94.4% Searching, 59.7% matched\r"
       ]
      },
      {
       "output_type": "stream",
       "stream": "stdout",
       "text": [
        "01:05 199Mb   96.1% Searching, 59.8% matched\r"
       ]
      },
      {
       "output_type": "stream",
       "stream": "stdout",
       "text": [
        "01:06 199Mb   97.8% Searching, 59.9% matched\r"
       ]
      },
      {
       "output_type": "stream",
       "stream": "stdout",
       "text": [
        "01:07 199Mb   99.3% Searching, 59.9% matched\r"
       ]
      },
      {
       "output_type": "stream",
       "stream": "stdout",
       "text": [
        "01:07 199Mb  100.0% Searching, 59.9% matched\r",
        "\r\n"
       ]
      }
     ],
     "prompt_number": 27
    },
    {
     "cell_type": "code",
     "collapsed": false,
     "input": [
      "!usearch -usearch_global /var/seq_data/priming_exp/data/split_files/finalQC_usearchfmt.4.fasta \\\n",
      "-db /var/seq_data/priming_exp/otusn.pick.fasta \\\n",
      "-strand plus -id 0.97 \\\n",
      "-uc /var/seq_data/priming_exp/data/readmap4.uc \\\n",
      "-threads 15"
     ],
     "language": "python",
     "metadata": {},
     "outputs": [
      {
       "output_type": "stream",
       "stream": "stdout",
       "text": [
        "usearch v7.0.1090_i86linux32, 4.0Gb RAM (132Gb total), 40 cores\r\n",
        "(C) Copyright 2013 Robert C. Edgar, all rights reserved.\r\n",
        "http://drive5.com/usearch\r\n",
        "\r\n",
        "Licensed to: chuck.peperanney@gmail.com\r\n",
        "\r\n"
       ]
      },
      {
       "output_type": "stream",
       "stream": "stdout",
       "text": [
        "00:00  19Mb Reading /var/seq_data/priming_exp/otusn.pick.fasta, 4.0Mb\r\n",
        "00:00  23Mb 10361 (10.4k) seqs"
       ]
      },
      {
       "output_type": "stream",
       "stream": "stdout",
       "text": [
        ", min 362, avg 373, max 423nt\r\n",
        "00:00  23Mb    0.0% Masking\r"
       ]
      },
      {
       "output_type": "stream",
       "stream": "stdout",
       "text": [
        "00:00  23Mb  100.0% Masking\r",
        "\r\n",
        "00:00  23Mb    0.0% Word stats\r"
       ]
      },
      {
       "output_type": "stream",
       "stream": "stdout",
       "text": [
        "00:00  23Mb  100.0% Word stats\r",
        "\r\n",
        "00:00  24Mb    0.0% Building slots\r",
        "00:00  39Mb  100.0% Building slots\r",
        "\r\n",
        "00:00  39Mb    0.0% Build index   \r"
       ]
      },
      {
       "output_type": "stream",
       "stream": "stdout",
       "text": [
        "00:01  39Mb    9.7% Build index\r"
       ]
      },
      {
       "output_type": "stream",
       "stream": "stdout",
       "text": [
        "00:01  39Mb  100.0% Build index\r",
        "\r\n",
        "00:01 162Mb    0.1% Searching, 0.0% matched\r"
       ]
      },
      {
       "output_type": "stream",
       "stream": "stdout",
       "text": [
        "00:02 195Mb    0.7% Searching, 33.3% matched\r"
       ]
      },
      {
       "output_type": "stream",
       "stream": "stdout",
       "text": [
        "00:03 195Mb    1.1% Searching, 22.5% matched\r"
       ]
      },
      {
       "output_type": "stream",
       "stream": "stdout",
       "text": [
        "00:04 194Mb    1.5% Searching, 17.4% matched\r"
       ]
      },
      {
       "output_type": "stream",
       "stream": "stdout",
       "text": [
        "00:05 194Mb    1.8% Searching, 14.7% matched\r"
       ]
      },
      {
       "output_type": "stream",
       "stream": "stdout",
       "text": [
        "00:06 194Mb    2.2% Searching, 13.1% matched\r"
       ]
      },
      {
       "output_type": "stream",
       "stream": "stdout",
       "text": [
        "00:07 194Mb    2.6% Searching, 11.9% matched\r"
       ]
      },
      {
       "output_type": "stream",
       "stream": "stdout",
       "text": [
        "00:08 194Mb    2.9% Searching, 11.0% matched\r"
       ]
      },
      {
       "output_type": "stream",
       "stream": "stdout",
       "text": [
        "00:09 194Mb    3.3% Searching, 10.4% matched\r"
       ]
      },
      {
       "output_type": "stream",
       "stream": "stdout",
       "text": [
        "00:10 194Mb    3.7% Searching, 9.8% matched \r"
       ]
      },
      {
       "output_type": "stream",
       "stream": "stdout",
       "text": [
        "00:11 194Mb    4.0% Searching, 9.4% matched\r"
       ]
      },
      {
       "output_type": "stream",
       "stream": "stdout",
       "text": [
        "00:12 194Mb    5.3% Searching, 23.3% matched\r"
       ]
      },
      {
       "output_type": "stream",
       "stream": "stdout",
       "text": [
        "00:13 194Mb    7.1% Searching, 35.1% matched\r"
       ]
      },
      {
       "output_type": "stream",
       "stream": "stdout",
       "text": [
        "00:14 195Mb    8.8% Searching, 39.4% matched\r"
       ]
      },
      {
       "output_type": "stream",
       "stream": "stdout",
       "text": [
        "00:15 195Mb   10.4% Searching, 42.5% matched\r"
       ]
      },
      {
       "output_type": "stream",
       "stream": "stdout",
       "text": [
        "00:16 195Mb   12.1% Searching, 44.7% matched\r"
       ]
      },
      {
       "output_type": "stream",
       "stream": "stdout",
       "text": [
        "00:17 196Mb   13.7% Searching, 46.2% matched\r"
       ]
      },
      {
       "output_type": "stream",
       "stream": "stdout",
       "text": [
        "00:18 196Mb   15.4% Searching, 47.5% matched\r"
       ]
      },
      {
       "output_type": "stream",
       "stream": "stdout",
       "text": [
        "00:19 196Mb   17.2% Searching, 49.0% matched\r"
       ]
      },
      {
       "output_type": "stream",
       "stream": "stdout",
       "text": [
        "00:20 195Mb   19.0% Searching, 50.1% matched\r"
       ]
      },
      {
       "output_type": "stream",
       "stream": "stdout",
       "text": [
        "00:21 195Mb   20.9% Searching, 51.2% matched\r"
       ]
      },
      {
       "output_type": "stream",
       "stream": "stdout",
       "text": [
        "00:22 196Mb   22.7% Searching, 52.0% matched\r"
       ]
      },
      {
       "output_type": "stream",
       "stream": "stdout",
       "text": [
        "00:23 196Mb   24.6% Searching, 52.8% matched\r"
       ]
      },
      {
       "output_type": "stream",
       "stream": "stdout",
       "text": [
        "00:24 196Mb   26.4% Searching, 53.4% matched\r"
       ]
      },
      {
       "output_type": "stream",
       "stream": "stdout",
       "text": [
        "00:25 196Mb   28.2% Searching, 54.0% matched\r"
       ]
      },
      {
       "output_type": "stream",
       "stream": "stdout",
       "text": [
        "00:26 196Mb   30.1% Searching, 54.5% matched\r"
       ]
      },
      {
       "output_type": "stream",
       "stream": "stdout",
       "text": [
        "00:27 196Mb   32.0% Searching, 55.0% matched\r"
       ]
      },
      {
       "output_type": "stream",
       "stream": "stdout",
       "text": [
        "00:28 196Mb   33.9% Searching, 55.5% matched\r"
       ]
      },
      {
       "output_type": "stream",
       "stream": "stdout",
       "text": [
        "00:29 196Mb   35.8% Searching, 55.9% matched\r"
       ]
      },
      {
       "output_type": "stream",
       "stream": "stdout",
       "text": [
        "00:30 196Mb   37.7% Searching, 56.2% matched\r"
       ]
      },
      {
       "output_type": "stream",
       "stream": "stdout",
       "text": [
        "00:31 196Mb   39.5% Searching, 56.5% matched\r"
       ]
      },
      {
       "output_type": "stream",
       "stream": "stdout",
       "text": [
        "00:32 196Mb   41.3% Searching, 56.7% matched\r"
       ]
      },
      {
       "output_type": "stream",
       "stream": "stdout",
       "text": [
        "00:33 196Mb   43.2% Searching, 56.9% matched\r"
       ]
      },
      {
       "output_type": "stream",
       "stream": "stdout",
       "text": [
        "00:34 196Mb   45.0% Searching, 57.1% matched\r"
       ]
      },
      {
       "output_type": "stream",
       "stream": "stdout",
       "text": [
        "00:35 196Mb   46.9% Searching, 57.2% matched\r"
       ]
      },
      {
       "output_type": "stream",
       "stream": "stdout",
       "text": [
        "00:36 196Mb   48.7% Searching, 57.4% matched\r"
       ]
      },
      {
       "output_type": "stream",
       "stream": "stdout",
       "text": [
        "00:37 196Mb   50.6% Searching, 57.6% matched\r"
       ]
      },
      {
       "output_type": "stream",
       "stream": "stdout",
       "text": [
        "00:38 196Mb   52.5% Searching, 57.8% matched\r"
       ]
      },
      {
       "output_type": "stream",
       "stream": "stdout",
       "text": [
        "00:39 196Mb   54.4% Searching, 57.9% matched\r"
       ]
      },
      {
       "output_type": "stream",
       "stream": "stdout",
       "text": [
        "00:40 196Mb   56.3% Searching, 58.1% matched\r"
       ]
      },
      {
       "output_type": "stream",
       "stream": "stdout",
       "text": [
        "00:41 196Mb   58.1% Searching, 58.2% matched\r"
       ]
      },
      {
       "output_type": "stream",
       "stream": "stdout",
       "text": [
        "00:42 196Mb   59.7% Searching, 58.3% matched\r"
       ]
      },
      {
       "output_type": "stream",
       "stream": "stdout",
       "text": [
        "00:43 196Mb   61.4% Searching, 58.4% matched\r"
       ]
      },
      {
       "output_type": "stream",
       "stream": "stdout",
       "text": [
        "00:44 196Mb   63.0% Searching, 58.5% matched\r"
       ]
      },
      {
       "output_type": "stream",
       "stream": "stdout",
       "text": [
        "00:45 196Mb   64.4% Searching, 58.6% matched\r"
       ]
      },
      {
       "output_type": "stream",
       "stream": "stdout",
       "text": [
        "00:46 196Mb   66.0% Searching, 58.6% matched\r"
       ]
      },
      {
       "output_type": "stream",
       "stream": "stdout",
       "text": [
        "00:47 196Mb   67.4% Searching, 58.7% matched\r"
       ]
      },
      {
       "output_type": "stream",
       "stream": "stdout",
       "text": [
        "00:48 196Mb   68.9% Searching, 58.8% matched\r"
       ]
      },
      {
       "output_type": "stream",
       "stream": "stdout",
       "text": [
        "00:49 196Mb   70.5% Searching, 58.8% matched\r"
       ]
      },
      {
       "output_type": "stream",
       "stream": "stdout",
       "text": [
        "00:50 196Mb   72.0% Searching, 58.9% matched\r"
       ]
      },
      {
       "output_type": "stream",
       "stream": "stdout",
       "text": [
        "00:51 196Mb   73.5% Searching, 58.9% matched\r"
       ]
      },
      {
       "output_type": "stream",
       "stream": "stdout",
       "text": [
        "00:52 196Mb   75.1% Searching, 59.0% matched\r"
       ]
      },
      {
       "output_type": "stream",
       "stream": "stdout",
       "text": [
        "00:53 196Mb   76.5% Searching, 59.1% matched\r"
       ]
      },
      {
       "output_type": "stream",
       "stream": "stdout",
       "text": [
        "00:54 196Mb   78.0% Searching, 59.2% matched\r"
       ]
      },
      {
       "output_type": "stream",
       "stream": "stdout",
       "text": [
        "00:55 196Mb   79.7% Searching, 59.3% matched\r"
       ]
      },
      {
       "output_type": "stream",
       "stream": "stdout",
       "text": [
        "00:56 196Mb   81.5% Searching, 59.4% matched\r"
       ]
      },
      {
       "output_type": "stream",
       "stream": "stdout",
       "text": [
        "00:57 196Mb   83.3% Searching, 59.4% matched\r"
       ]
      },
      {
       "output_type": "stream",
       "stream": "stdout",
       "text": [
        "00:58 196Mb   85.0% Searching, 59.4% matched\r"
       ]
      },
      {
       "output_type": "stream",
       "stream": "stdout",
       "text": [
        "00:59 196Mb   86.4% Searching, 59.5% matched\r"
       ]
      },
      {
       "output_type": "stream",
       "stream": "stdout",
       "text": [
        "01:00 196Mb   88.1% Searching, 59.5% matched\r"
       ]
      },
      {
       "output_type": "stream",
       "stream": "stdout",
       "text": [
        "01:01 196Mb   89.6% Searching, 59.6% matched\r"
       ]
      },
      {
       "output_type": "stream",
       "stream": "stdout",
       "text": [
        "01:02 196Mb   91.3% Searching, 59.7% matched\r"
       ]
      },
      {
       "output_type": "stream",
       "stream": "stdout",
       "text": [
        "01:03 196Mb   92.8% Searching, 59.7% matched\r"
       ]
      },
      {
       "output_type": "stream",
       "stream": "stdout",
       "text": [
        "01:04 196Mb   94.3% Searching, 59.7% matched\r"
       ]
      },
      {
       "output_type": "stream",
       "stream": "stdout",
       "text": [
        "01:05 196Mb   96.0% Searching, 59.8% matched\r"
       ]
      },
      {
       "output_type": "stream",
       "stream": "stdout",
       "text": [
        "01:06 196Mb   97.8% Searching, 59.9% matched\r"
       ]
      },
      {
       "output_type": "stream",
       "stream": "stdout",
       "text": [
        "01:07 196Mb   99.3% Searching, 59.9% matched\r"
       ]
      },
      {
       "output_type": "stream",
       "stream": "stdout",
       "text": [
        "01:07 196Mb  100.0% Searching, 59.9% matched\r",
        "\r\n"
       ]
      }
     ],
     "prompt_number": 28
    },
    {
     "cell_type": "code",
     "collapsed": false,
     "input": [
      "!usearch -usearch_global /var/seq_data/priming_exp/data/split_files/finalQC_usearchfmt.5.fasta \\\n",
      "-db /var/seq_data/priming_exp/otusn.pick.fasta \\\n",
      "-strand plus -id 0.97 \\\n",
      "-uc /var/seq_data/priming_exp/data/readmap5.uc \\\n",
      "-threads 15"
     ],
     "language": "python",
     "metadata": {},
     "outputs": [
      {
       "output_type": "stream",
       "stream": "stdout",
       "text": [
        "usearch v7.0.1090_i86linux32, 4.0Gb RAM (132Gb total), 40 cores\r\n",
        "(C) Copyright 2013 Robert C. Edgar, all rights reserved.\r\n",
        "http://drive5.com/usearch\r\n",
        "\r\n",
        "Licensed to: chuck.peperanney@gmail.com\r\n",
        "\r\n"
       ]
      },
      {
       "output_type": "stream",
       "stream": "stdout",
       "text": [
        "00:00  19Mb Reading /var/seq_data/priming_exp/otusn.pick.fasta"
       ]
      },
      {
       "output_type": "stream",
       "stream": "stdout",
       "text": [
        ", 4.0Mb\r\n",
        "00:00  23Mb 10361 (10.4k) seqs, min 362, avg 373, max 423nt\r\n",
        "00:00  23Mb    0.0% Masking\r"
       ]
      },
      {
       "output_type": "stream",
       "stream": "stdout",
       "text": [
        "00:00  23Mb  100.0% Masking\r",
        "\r\n",
        "00:00  23Mb    0.0% Word stats\r"
       ]
      },
      {
       "output_type": "stream",
       "stream": "stdout",
       "text": [
        "00:00  23Mb  100.0% Word stats\r",
        "\r\n",
        "00:00  24Mb    0.0% Building slots\r",
        "00:00  39Mb  100.0% Building slots\r",
        "\r\n",
        "00:00  39Mb    0.0% Build index   \r"
       ]
      },
      {
       "output_type": "stream",
       "stream": "stdout",
       "text": [
        "00:01  39Mb    8.7% Build index\r"
       ]
      },
      {
       "output_type": "stream",
       "stream": "stdout",
       "text": [
        "00:01  39Mb  100.0% Build index\r",
        "\r\n",
        "00:01 160Mb    0.1% Searching, 0.0% matched\r"
       ]
      },
      {
       "output_type": "stream",
       "stream": "stdout",
       "text": [
        "00:02 194Mb    0.7% Searching, 33.6% matched\r"
       ]
      },
      {
       "output_type": "stream",
       "stream": "stdout",
       "text": [
        "00:03 195Mb    1.1% Searching, 22.5% matched\r"
       ]
      },
      {
       "output_type": "stream",
       "stream": "stdout",
       "text": [
        "00:04 196Mb    1.5% Searching, 17.5% matched\r"
       ]
      },
      {
       "output_type": "stream",
       "stream": "stdout",
       "text": [
        "00:05 194Mb    1.8% Searching, 14.7% matched\r"
       ]
      },
      {
       "output_type": "stream",
       "stream": "stdout",
       "text": [
        "00:06 194Mb    2.2% Searching, 13.1% matched\r"
       ]
      },
      {
       "output_type": "stream",
       "stream": "stdout",
       "text": [
        "00:07 194Mb    2.6% Searching, 11.8% matched\r"
       ]
      },
      {
       "output_type": "stream",
       "stream": "stdout",
       "text": [
        "00:08 195Mb    2.9% Searching, 10.9% matched\r"
       ]
      },
      {
       "output_type": "stream",
       "stream": "stdout",
       "text": [
        "00:09 195Mb    3.3% Searching, 10.3% matched\r"
       ]
      },
      {
       "output_type": "stream",
       "stream": "stdout",
       "text": [
        "00:10 195Mb    3.7% Searching, 9.7% matched \r"
       ]
      },
      {
       "output_type": "stream",
       "stream": "stdout",
       "text": [
        "00:11 195Mb    4.1% Searching, 9.3% matched\r"
       ]
      },
      {
       "output_type": "stream",
       "stream": "stdout",
       "text": [
        "00:12 194Mb    5.4% Searching, 24.3% matched\r"
       ]
      },
      {
       "output_type": "stream",
       "stream": "stdout",
       "text": [
        "00:13 194Mb    7.2% Searching, 35.2% matched\r"
       ]
      },
      {
       "output_type": "stream",
       "stream": "stdout",
       "text": [
        "00:14 195Mb    8.8% Searching, 39.5% matched\r"
       ]
      },
      {
       "output_type": "stream",
       "stream": "stdout",
       "text": [
        "00:15 196Mb   10.5% Searching, 42.8% matched\r"
       ]
      },
      {
       "output_type": "stream",
       "stream": "stdout",
       "text": [
        "00:16 196Mb   12.1% Searching, 44.9% matched\r"
       ]
      },
      {
       "output_type": "stream",
       "stream": "stdout",
       "text": [
        "00:17 196Mb   13.8% Searching, 46.4% matched\r"
       ]
      },
      {
       "output_type": "stream",
       "stream": "stdout",
       "text": [
        "00:18 196Mb   15."
       ]
      },
      {
       "output_type": "stream",
       "stream": "stdout",
       "text": [
        "4% Searching, 47.7% matched\r"
       ]
      },
      {
       "output_type": "stream",
       "stream": "stdout",
       "text": [
        "00:19 196Mb   17.2% Searching, 49.1% matched\r"
       ]
      },
      {
       "output_type": "stream",
       "stream": "stdout",
       "text": [
        "00:20 196Mb   19.0% Searching, 50.2% matched\r"
       ]
      },
      {
       "output_type": "stream",
       "stream": "stdout",
       "text": [
        "00:21 197Mb   20.9% Searching, 51.2% matched\r"
       ]
      },
      {
       "output_type": "stream",
       "stream": "stdout",
       "text": [
        "00:22 197Mb   22.7% Searching, 52.0% matched\r"
       ]
      },
      {
       "output_type": "stream",
       "stream": "stdout",
       "text": [
        "00:23 197Mb   24.6% Searching, 52.8% matched\r"
       ]
      },
      {
       "output_type": "stream",
       "stream": "stdout",
       "text": [
        "00:24 197Mb   26.3% Searching, 53.5% matched\r"
       ]
      },
      {
       "output_type": "stream",
       "stream": "stdout",
       "text": [
        "00:25 197Mb   28.2% Searching, 54.1% matched\r"
       ]
      },
      {
       "output_type": "stream",
       "stream": "stdout",
       "text": [
        "00:26 197Mb   30.1% Searching, 54.6% matched\r"
       ]
      },
      {
       "output_type": "stream",
       "stream": "stdout",
       "text": [
        "00:27 197Mb   32.0% Searching, 55.1% matched\r"
       ]
      },
      {
       "output_type": "stream",
       "stream": "stdout",
       "text": [
        "00:28 196Mb   33.8% Searching, 55.5% matched\r"
       ]
      },
      {
       "output_type": "stream",
       "stream": "stdout",
       "text": [
        "00:29 196Mb   35.7% Searching, 55.9% matched\r"
       ]
      },
      {
       "output_type": "stream",
       "stream": "stdout",
       "text": [
        "00:30 196Mb   37.6% Searching, 56.2% matched\r"
       ]
      },
      {
       "output_type": "stream",
       "stream": "stdout",
       "text": [
        "00:31 196Mb   39.4% Searching, 56.5% matched\r"
       ]
      },
      {
       "output_type": "stream",
       "stream": "stdout",
       "text": [
        "00:32 196Mb   41.3% Searching, 56.7% matched\r"
       ]
      },
      {
       "output_type": "stream",
       "stream": "stdout",
       "text": [
        "00:33 196Mb   43.1% Searching, 56.9% matched\r"
       ]
      },
      {
       "output_type": "stream",
       "stream": "stdout",
       "text": [
        "00:34 196Mb   44.9% Searching, 57.1% matched\r"
       ]
      },
      {
       "output_type": "stream",
       "stream": "stdout",
       "text": [
        "00:35 196Mb   46.7% Searching, 57.2% matched\r"
       ]
      },
      {
       "output_type": "stream",
       "stream": "stdout",
       "text": [
        "00:36 196Mb   48.6% Searching, 57.4% matched\r"
       ]
      },
      {
       "output_type": "stream",
       "stream": "stdout",
       "text": [
        "00:37 196Mb   50.5% Searching, 57.6% matched\r"
       ]
      },
      {
       "output_type": "stream",
       "stream": "stdout",
       "text": [
        "00:38 196Mb   52.3% Searching, 57.8% matched\r"
       ]
      },
      {
       "output_type": "stream",
       "stream": "stdout",
       "text": [
        "00:39 196Mb   54.2% Searching, 57.9% matched\r"
       ]
      },
      {
       "output_type": "stream",
       "stream": "stdout",
       "text": [
        "00:40 196Mb   56.1% Searching, 58.1% matched\r"
       ]
      },
      {
       "output_type": "stream",
       "stream": "stdout",
       "text": [
        "00:41 196Mb   57.9% Searching, 58.3% matched\r"
       ]
      },
      {
       "output_type": "stream",
       "stream": "stdout",
       "text": [
        "00:42 196Mb   59.6% Searching, 58.3% matched\r"
       ]
      },
      {
       "output_type": "stream",
       "stream": "stdout",
       "text": [
        "00:43 196Mb   61.3% Searching, 58.4% matched\r"
       ]
      },
      {
       "output_type": "stream",
       "stream": "stdout",
       "text": [
        "00:44 196Mb   62.8% Searching, 58.5% matched\r"
       ]
      },
      {
       "output_type": "stream",
       "stream": "stdout",
       "text": [
        "00:45 196Mb   64.2% Searching, 58.6% matched\r"
       ]
      },
      {
       "output_type": "stream",
       "stream": "stdout",
       "text": [
        "00:46 196Mb   65.9% Searching, 58.6% matched\r"
       ]
      },
      {
       "output_type": "stream",
       "stream": "stdout",
       "text": [
        "00:47 196Mb   67.3% Searching, 58.7% matched\r"
       ]
      },
      {
       "output_type": "stream",
       "stream": "stdout",
       "text": [
        "00:48 196Mb   68.8% Searching, 58.8% matched\r"
       ]
      },
      {
       "output_type": "stream",
       "stream": "stdout",
       "text": [
        "00:49 196Mb   70.2% Searching, 58.8% matched\r"
       ]
      },
      {
       "output_type": "stream",
       "stream": "stdout",
       "text": [
        "00:50 196Mb   71.7% Searching, 58.9% matched\r"
       ]
      },
      {
       "output_type": "stream",
       "stream": "stdout",
       "text": [
        "00:51 196Mb   73.4% Searching, 58.9% matched\r"
       ]
      },
      {
       "output_type": "stream",
       "stream": "stdout",
       "text": [
        "00:52 196Mb   74.8% Searching, 59.0% matched\r"
       ]
      },
      {
       "output_type": "stream",
       "stream": "stdout",
       "text": [
        "00:53 196Mb   76.2% Searching, 59.1% matched\r"
       ]
      },
      {
       "output_type": "stream",
       "stream": "stdout",
       "text": [
        "00:54 196Mb   77.9% Searching, 59.2% matched\r"
       ]
      },
      {
       "output_type": "stream",
       "stream": "stdout",
       "text": [
        "00:55 196Mb   79.4% Searching, 59.3% matched\r"
       ]
      },
      {
       "output_type": "stream",
       "stream": "stdout",
       "text": [
        "00:56 196Mb   81.2% Searching, 59.4% matched\r"
       ]
      },
      {
       "output_type": "stream",
       "stream": "stdout",
       "text": [
        "00:57 196Mb   83.0% Searching, 59.4% matched\r"
       ]
      },
      {
       "output_type": "stream",
       "stream": "stdout",
       "text": [
        "00:58 196Mb   84.6% Searching, 59.4% matched\r"
       ]
      },
      {
       "output_type": "stream",
       "stream": "stdout",
       "text": [
        "00:59 196Mb   86.3% Searching, 59.5% matched\r"
       ]
      },
      {
       "output_type": "stream",
       "stream": "stdout",
       "text": [
        "01:00 196Mb   87.8% Searching, 59.5% matched\r"
       ]
      },
      {
       "output_type": "stream",
       "stream": "stdout",
       "text": [
        "01:01 196Mb   89.3% Searching, 59.6% matched\r"
       ]
      },
      {
       "output_type": "stream",
       "stream": "stdout",
       "text": [
        "01:02 196Mb   91.0% Searching, 59.6% matched\r"
       ]
      },
      {
       "output_type": "stream",
       "stream": "stdout",
       "text": [
        "01:03 196Mb   92.5% Searching, 59.7% matched\r"
       ]
      },
      {
       "output_type": "stream",
       "stream": "stdout",
       "text": [
        "01:04 196Mb   93.9% Searching, 59.7% matched\r"
       ]
      },
      {
       "output_type": "stream",
       "stream": "stdout",
       "text": [
        "01:05 196Mb   95.7% Searching, 59.8% matched\r"
       ]
      },
      {
       "output_type": "stream",
       "stream": "stdout",
       "text": [
        "01:06 196Mb   97.4% Searching, 59.9% matched\r"
       ]
      },
      {
       "output_type": "stream",
       "stream": "stdout",
       "text": [
        "01:07 196Mb   99.1% Searching, 60.0% matched\r"
       ]
      },
      {
       "output_type": "stream",
       "stream": "stdout",
       "text": [
        "01:07 196Mb  100.0% Searching, 59.9% matched\r",
        "\r\n"
       ]
      }
     ],
     "prompt_number": 29
    },
    {
     "cell_type": "code",
     "collapsed": false,
     "input": [
      "!cat /var/seq_data/priming_exp/data/uc_files/*.uc > /var/seq_data/priming_exp/data/uc_files/all_readmap.uc"
     ],
     "language": "python",
     "metadata": {},
     "outputs": [],
     "prompt_number": 33
    },
    {
     "cell_type": "code",
     "collapsed": false,
     "input": [
      "OTU_dict, unassigned_reads = clusters_from_blast_uc_file(open(\"/var/seq_data/priming_exp/data/uc_files/all_readmap.uc\"), otu_id_field=9)"
     ],
     "language": "python",
     "metadata": {},
     "outputs": [],
     "prompt_number": 34
    },
    {
     "cell_type": "code",
     "collapsed": false,
     "input": [
      "with open(\"/var/seq_data/priming_exp/data/otu_map.txt\", \"w\") as out:\n",
      "    for otu in OTU_dict:\n",
      "        line = \"%s\\t%s\\n\"%(otu, \"\\t\".join(OTU_dict[otu]))\n",
      "        out.write(line)"
     ],
     "language": "python",
     "metadata": {},
     "outputs": [],
     "prompt_number": 36
    },
    {
     "cell_type": "code",
     "collapsed": false,
     "input": [
      "!make_otu_table.py -i /var/seq_data/priming_exp/data/otu_map.txt -o /var/seq_data/priming_exp/data/otu_table.biom"
     ],
     "language": "python",
     "metadata": {},
     "outputs": [],
     "prompt_number": 37
    },
    {
     "cell_type": "code",
     "collapsed": false,
     "input": [
      "# Makes an OTU table\n",
      "# It will tell me the OTU ID, and then for all the samples, which OTUs it has sequences from.\n",
      "!python /opt/bioinfo/edgar_python_scripts/uc2otutab.py /var/seq_data/priming_exp/data/uc_files/all_readmap.uc > /var/seq_data/priming_exp/data/otu_table.txt"
     ],
     "language": "python",
     "metadata": {},
     "outputs": [
      {
       "output_type": "stream",
       "stream": "stdout",
       "text": [
        "/var/seq_data/priming_exp/data/uc_files/all_readmap.uc   0.0%   \r"
       ]
      },
      {
       "output_type": "stream",
       "stream": "stdout",
       "text": [
        "/var/seq_data/priming_exp/data/uc_files/all_readmap.uc   0.2%   \r"
       ]
      },
      {
       "output_type": "stream",
       "stream": "stdout",
       "text": [
        "/var/seq_data/priming_exp/data/uc_files/all_readmap.uc   0.5%   \r"
       ]
      },
      {
       "output_type": "stream",
       "stream": "stdout",
       "text": [
        "/var/seq_data/priming_exp/data/uc_files/all_readmap.uc   0.7%   \r"
       ]
      },
      {
       "output_type": "stream",
       "stream": "stdout",
       "text": [
        "/var/seq_data/priming_exp/data/uc_files/all_readmap.uc   0.9%   \r"
       ]
      },
      {
       "output_type": "stream",
       "stream": "stdout",
       "text": [
        "/var/seq_data/priming_exp/data/uc_files/all_readmap.uc   1.1%   \r"
       ]
      },
      {
       "output_type": "stream",
       "stream": "stdout",
       "text": [
        "/var/seq_data/priming_exp/data/uc_files/all_readmap.uc   1.3%   \r"
       ]
      },
      {
       "output_type": "stream",
       "stream": "stdout",
       "text": [
        "/var/seq_data/priming_exp/data/uc_files/all_readmap.uc   1.5%   \r"
       ]
      },
      {
       "output_type": "stream",
       "stream": "stdout",
       "text": [
        "/var/seq_data/priming_exp/data/uc_files/all_readmap.uc   1.7%   \r"
       ]
      },
      {
       "output_type": "stream",
       "stream": "stdout",
       "text": [
        "/var/seq_data/priming_exp/data/uc_files/all_readmap.uc   1.9%   \r"
       ]
      },
      {
       "output_type": "stream",
       "stream": "stdout",
       "text": [
        "/var/seq_data/priming_exp/data/uc_files/all_readmap.uc   2.1%   \r"
       ]
      },
      {
       "output_type": "stream",
       "stream": "stdout",
       "text": [
        "/var/seq_data/priming_exp/data/uc_files/all_readmap.uc   2.3%   \r"
       ]
      },
      {
       "output_type": "stream",
       "stream": "stdout",
       "text": [
        "/var/seq_data/priming_exp/data/uc_files/all_readmap.uc   2.5%   \r"
       ]
      },
      {
       "output_type": "stream",
       "stream": "stdout",
       "text": [
        "/var/seq_data/priming_exp/data/uc_files/all_readmap.uc   2.6%   \r"
       ]
      },
      {
       "output_type": "stream",
       "stream": "stdout",
       "text": [
        "/var/seq_data/priming_exp/data/uc_files/all_readmap.uc   2.7%   \r"
       ]
      },
      {
       "output_type": "stream",
       "stream": "stdout",
       "text": [
        "/var/seq_data/priming_exp/data/uc_files/all_readmap.uc   2.9%   \r"
       ]
      },
      {
       "output_type": "stream",
       "stream": "stdout",
       "text": [
        "/var/seq_data/priming_exp/data/uc_files/all_readmap.uc   3.0%   \r"
       ]
      },
      {
       "output_type": "stream",
       "stream": "stdout",
       "text": [
        "/var/seq_data/priming_exp/data/uc_files/all_readmap.uc   3.1%   \r"
       ]
      },
      {
       "output_type": "stream",
       "stream": "stdout",
       "text": [
        "/var/seq_data/priming_exp/data/uc_files/all_readmap.uc   3.2%   \r"
       ]
      },
      {
       "output_type": "stream",
       "stream": "stdout",
       "text": [
        "/var/seq_data/priming_exp/data/uc_files/all_readmap.uc   3.3%   \r"
       ]
      },
      {
       "output_type": "stream",
       "stream": "stdout",
       "text": [
        "/var/seq_data/priming_exp/data/uc_files/all_readmap.uc   3.4%   \r"
       ]
      },
      {
       "output_type": "stream",
       "stream": "stdout",
       "text": [
        "/var/seq_data/priming_exp/data/uc_files/all_readmap.uc   3.6%   \r"
       ]
      },
      {
       "output_type": "stream",
       "stream": "stdout",
       "text": [
        "/var/seq_data/priming_exp/data/uc_files/all_readmap.uc   3.7%   \r"
       ]
      },
      {
       "output_type": "stream",
       "stream": "stdout",
       "text": [
        "/var/seq_data/priming_exp/data/uc_files/all_readmap.uc   3.8%   \r"
       ]
      },
      {
       "output_type": "stream",
       "stream": "stdout",
       "text": [
        "/var/seq_data/priming_exp/data/uc_files/all_readmap.uc   3.9%   \r"
       ]
      },
      {
       "output_type": "stream",
       "stream": "stdout",
       "text": [
        "/var/seq_data/priming_exp/data/uc_files/all_readmap.uc   4.0%   \r"
       ]
      },
      {
       "output_type": "stream",
       "stream": "stdout",
       "text": [
        "/var/seq_data/priming_exp/data/uc_files/all_readmap.uc   4.2%   \r"
       ]
      },
      {
       "output_type": "stream",
       "stream": "stdout",
       "text": [
        "/var/seq_data/priming_exp/data/uc_files/all_readmap.uc   4.3%   \r"
       ]
      },
      {
       "output_type": "stream",
       "stream": "stdout",
       "text": [
        "/var/seq_data/priming_exp/data/uc_files/all_readmap.uc   4.4%   \r"
       ]
      },
      {
       "output_type": "stream",
       "stream": "stdout",
       "text": [
        "/var/seq_data/priming_exp/data/uc_files/all_readmap.uc   4.5%   \r"
       ]
      },
      {
       "output_type": "stream",
       "stream": "stdout",
       "text": [
        "/var/seq_data/priming_exp/data/uc_files/all_readmap.uc   4.6%   \r"
       ]
      },
      {
       "output_type": "stream",
       "stream": "stdout",
       "text": [
        "/var/seq_data/priming_exp/data/uc_files/all_readmap.uc   4.7%   \r"
       ]
      },
      {
       "output_type": "stream",
       "stream": "stdout",
       "text": [
        "/var/seq_data/priming_exp/data/uc_files/all_readmap.uc   4.9%   \r"
       ]
      },
      {
       "output_type": "stream",
       "stream": "stdout",
       "text": [
        "/var/seq_data/priming_exp/data/uc_files/all_readmap.uc   5.0%   \r"
       ]
      },
      {
       "output_type": "stream",
       "stream": "stdout",
       "text": [
        "/var/seq_data/priming_exp/data/uc_files/all_readmap.uc   5.1%   \r"
       ]
      },
      {
       "output_type": "stream",
       "stream": "stdout",
       "text": [
        "/var/seq_data/priming_exp/data/uc_files/all_readmap.uc   5.2%   \r"
       ]
      },
      {
       "output_type": "stream",
       "stream": "stdout",
       "text": [
        "/var/seq_data/priming_exp/data/uc_files/all_readmap.uc   5.3%   \r"
       ]
      },
      {
       "output_type": "stream",
       "stream": "stdout",
       "text": [
        "/var/seq_data/priming_exp/data/uc_files/all_readmap.uc   5.4%   \r"
       ]
      },
      {
       "output_type": "stream",
       "stream": "stdout",
       "text": [
        "/var/seq_data/priming_exp/data/uc_files/all_readmap.uc   5.6%   \r"
       ]
      },
      {
       "output_type": "stream",
       "stream": "stdout",
       "text": [
        "/var/seq_data/priming_exp/data/uc_files/all_readmap.uc   5.7%   \r"
       ]
      },
      {
       "output_type": "stream",
       "stream": "stdout",
       "text": [
        "/var/seq_data/priming_exp/data/uc_files/all_readmap.uc   5.8%   \r"
       ]
      },
      {
       "output_type": "stream",
       "stream": "stdout",
       "text": [
        "/var/seq_data/priming_exp/data/uc_files/all_readmap.uc   5.9%   \r"
       ]
      },
      {
       "output_type": "stream",
       "stream": "stdout",
       "text": [
        "/var/seq_data/priming_exp/data/uc_files/all_readmap.uc   6.0%   \r"
       ]
      },
      {
       "output_type": "stream",
       "stream": "stdout",
       "text": [
        "/var/seq_data/priming_exp/data/uc_files/all_readmap.uc   6.1%   \r"
       ]
      },
      {
       "output_type": "stream",
       "stream": "stdout",
       "text": [
        "/var/seq_data/priming_exp/data/uc_files/all_readmap.uc   6.3%   \r"
       ]
      },
      {
       "output_type": "stream",
       "stream": "stdout",
       "text": [
        "/var/seq_data/priming_exp/data/uc_files/all_readmap.uc   6.4%   \r"
       ]
      },
      {
       "output_type": "stream",
       "stream": "stdout",
       "text": [
        "/var/seq_data/priming_exp/data/uc_files/all_readmap.uc   6.5%   \r"
       ]
      },
      {
       "output_type": "stream",
       "stream": "stdout",
       "text": [
        "/var/seq_data/priming_exp/data/uc_files/all_readmap.uc   6.6%   \r"
       ]
      },
      {
       "output_type": "stream",
       "stream": "stdout",
       "text": [
        "/var/seq_data/priming_exp/data/uc_files/all_readmap.uc   6.7%   \r"
       ]
      },
      {
       "output_type": "stream",
       "stream": "stdout",
       "text": [
        "/var/seq_data/priming_exp/data/uc_files/all_readmap.uc   6.9%   \r"
       ]
      },
      {
       "output_type": "stream",
       "stream": "stdout",
       "text": [
        "/var/seq_data/priming_exp/data/uc_files/all_readmap.uc   7.0%   \r"
       ]
      },
      {
       "output_type": "stream",
       "stream": "stdout",
       "text": [
        "/var/seq_data/priming_exp/data/uc_files/all_readmap.uc   7.1%   \r"
       ]
      },
      {
       "output_type": "stream",
       "stream": "stdout",
       "text": [
        "/var/seq_data/priming_exp/data/uc_files/all_readmap.uc   7.2%   \r"
       ]
      },
      {
       "output_type": "stream",
       "stream": "stdout",
       "text": [
        "/var/seq_data/priming_exp/data/uc_files/all_readmap.uc   7.3%   \r"
       ]
      },
      {
       "output_type": "stream",
       "stream": "stdout",
       "text": [
        "/var/seq_data/priming_exp/data/uc_files/all_readmap.uc   7.5%   \r"
       ]
      },
      {
       "output_type": "stream",
       "stream": "stdout",
       "text": [
        "/var/seq_data/priming_exp/data/uc_files/all_readmap.uc   7.6%   \r"
       ]
      },
      {
       "output_type": "stream",
       "stream": "stdout",
       "text": [
        "/var/seq_data/priming_exp/data/uc_files/all_readmap.uc   7.7%   \r"
       ]
      },
      {
       "output_type": "stream",
       "stream": "stdout",
       "text": [
        "/var/seq_data/priming_exp/data/uc_files/all_readmap.uc   7.8%   \r"
       ]
      },
      {
       "output_type": "stream",
       "stream": "stdout",
       "text": [
        "/var/seq_data/priming_exp/data/uc_files/all_readmap.uc   7.9%   \r"
       ]
      },
      {
       "output_type": "stream",
       "stream": "stdout",
       "text": [
        "/var/seq_data/priming_exp/data/uc_files/all_readmap.uc   8.0%   \r"
       ]
      },
      {
       "output_type": "stream",
       "stream": "stdout",
       "text": [
        "/var/seq_data/priming_exp/data/uc_files/all_readmap.uc   8.2%   \r"
       ]
      },
      {
       "output_type": "stream",
       "stream": "stdout",
       "text": [
        "/var/seq_data/priming_exp/data/uc_files/all_readmap.uc   8.3%   \r"
       ]
      },
      {
       "output_type": "stream",
       "stream": "stdout",
       "text": [
        "/var/seq_data/priming_exp/data/uc_files/all_readmap.uc   8.4%   \r"
       ]
      },
      {
       "output_type": "stream",
       "stream": "stdout",
       "text": [
        "/var/seq_data/priming_exp/data/uc_files/all_readmap.uc   8.5%   \r"
       ]
      },
      {
       "output_type": "stream",
       "stream": "stdout",
       "text": [
        "/var/seq_data/priming_exp/data/uc_files/all_readmap.uc   8.6%   \r"
       ]
      },
      {
       "output_type": "stream",
       "stream": "stdout",
       "text": [
        "/var/seq_data/priming_exp/data/uc_files/all_readmap.uc   8.7%   \r"
       ]
      },
      {
       "output_type": "stream",
       "stream": "stdout",
       "text": [
        "/var/seq_data/priming_exp/data/uc_files/all_readmap.uc   8.9%   \r"
       ]
      },
      {
       "output_type": "stream",
       "stream": "stdout",
       "text": [
        "/var/seq_data/priming_exp/data/uc_files/all_readmap.uc   9.0%   \r"
       ]
      },
      {
       "output_type": "stream",
       "stream": "stdout",
       "text": [
        "/var/seq_data/priming_exp/data/uc_files/all_readmap.uc   9.1%   \r"
       ]
      },
      {
       "output_type": "stream",
       "stream": "stdout",
       "text": [
        "/var/seq_data/priming_exp/data/uc_files/all_readmap.uc   9.2%   \r"
       ]
      },
      {
       "output_type": "stream",
       "stream": "stdout",
       "text": [
        "/var/seq_data/priming_exp/data/uc_files/all_readmap.uc   9.3%   \r"
       ]
      },
      {
       "output_type": "stream",
       "stream": "stdout",
       "text": [
        "/var/seq_data/priming_exp/data/uc_files/all_readmap.uc   9.4%   \r"
       ]
      },
      {
       "output_type": "stream",
       "stream": "stdout",
       "text": [
        "/var/seq_data/priming_exp/data/uc_files/all_readmap.uc   9.5%   \r"
       ]
      },
      {
       "output_type": "stream",
       "stream": "stdout",
       "text": [
        "/var/seq_data/priming_exp/data/uc_files/all_readmap.uc   9.6%   \r"
       ]
      },
      {
       "output_type": "stream",
       "stream": "stdout",
       "text": [
        "/var/seq_data/priming_exp/data/uc_files/all_readmap.uc   9.6%   \r"
       ]
      },
      {
       "output_type": "stream",
       "stream": "stdout",
       "text": [
        "/var/seq_data/priming_exp/data/uc_files/all_readmap.uc   9.7%   \r"
       ]
      },
      {
       "output_type": "stream",
       "stream": "stdout",
       "text": [
        "/var/seq_data/priming_exp/data/uc_files/all_readmap.uc   9.8%   \r"
       ]
      },
      {
       "output_type": "stream",
       "stream": "stdout",
       "text": [
        "/var/seq_data/priming_exp/data/uc_files/all_readmap.uc   9.8%   \r"
       ]
      },
      {
       "output_type": "stream",
       "stream": "stdout",
       "text": [
        "/var/seq_data/priming_exp/data/uc_files/all_readmap.uc   9.9%   \r"
       ]
      },
      {
       "output_type": "stream",
       "stream": "stdout",
       "text": [
        "/var/seq_data/priming_exp/data/uc_files/all_readmap.uc   9.9%   \r"
       ]
      },
      {
       "output_type": "stream",
       "stream": "stdout",
       "text": [
        "/var/seq_data/priming_exp/data/uc_files/all_readmap.uc  10.0%   \r"
       ]
      },
      {
       "output_type": "stream",
       "stream": "stdout",
       "text": [
        "/var/seq_data/priming_exp/data/uc_files/all_readmap.uc  10.0%   \r"
       ]
      },
      {
       "output_type": "stream",
       "stream": "stdout",
       "text": [
        "/var/seq_data/priming_exp/data/uc_files/all_readmap.uc  10.1%   \r"
       ]
      },
      {
       "output_type": "stream",
       "stream": "stdout",
       "text": [
        "/var/seq_data/priming_exp/data/uc_files/all_readmap.uc  10.2%   \r"
       ]
      },
      {
       "output_type": "stream",
       "stream": "stdout",
       "text": [
        "/var/seq_data/priming_exp/data/uc_files/all_readmap.uc  10.2%   \r"
       ]
      },
      {
       "output_type": "stream",
       "stream": "stdout",
       "text": [
        "/var/seq_data/priming_exp/data/uc_files/all_readmap.uc  10.3%   \r"
       ]
      },
      {
       "output_type": "stream",
       "stream": "stdout",
       "text": [
        "/var/seq_data/priming_exp/data/uc_files/all_readmap.uc  10.3%   \r"
       ]
      },
      {
       "output_type": "stream",
       "stream": "stdout",
       "text": [
        "/var/seq_data/priming_exp/data/uc_files/all_readmap.uc  10.4%   \r"
       ]
      },
      {
       "output_type": "stream",
       "stream": "stdout",
       "text": [
        "/var/seq_data/priming_exp/data/uc_files/all_readmap.uc  10.4%   \r"
       ]
      },
      {
       "output_type": "stream",
       "stream": "stdout",
       "text": [
        "/var/seq_data/priming_exp/data/uc_files/all_readmap.uc  10.5%   \r"
       ]
      },
      {
       "output_type": "stream",
       "stream": "stdout",
       "text": [
        "/var/seq_data/priming_exp/data/uc_files/all_readmap.uc  10.5%   \r"
       ]
      },
      {
       "output_type": "stream",
       "stream": "stdout",
       "text": [
        "/var/seq_data/priming_exp/data/uc_files/all_readmap.uc  10.6%   \r"
       ]
      },
      {
       "output_type": "stream",
       "stream": "stdout",
       "text": [
        "/var/seq_data/priming_exp/data/uc_files/all_readmap.uc  10.7%   \r"
       ]
      },
      {
       "output_type": "stream",
       "stream": "stdout",
       "text": [
        "/var/seq_data/priming_exp/data/uc_files/all_readmap.uc  10.7%   \r"
       ]
      },
      {
       "output_type": "stream",
       "stream": "stdout",
       "text": [
        "/var/seq_data/priming_exp/data/uc_files/all_readmap.uc  10.8%   \r"
       ]
      },
      {
       "output_type": "stream",
       "stream": "stdout",
       "text": [
        "/var/seq_data/priming_exp/data/uc_files/all_readmap.uc  10.8%   \r"
       ]
      },
      {
       "output_type": "stream",
       "stream": "stdout",
       "text": [
        "/var/seq_data/priming_exp/data/uc_files/all_readmap.uc  10.9%   \r"
       ]
      },
      {
       "output_type": "stream",
       "stream": "stdout",
       "text": [
        "/var/seq_data/priming_exp/data/uc_files/all_readmap.uc  10.9%   \r"
       ]
      },
      {
       "output_type": "stream",
       "stream": "stdout",
       "text": [
        "/var/seq_data/priming_exp/data/uc_files/all_readmap.uc  11.0%   \r"
       ]
      },
      {
       "output_type": "stream",
       "stream": "stdout",
       "text": [
        "/var/seq_data/priming_exp/data/uc_files/all_readmap.uc  11.1%   \r"
       ]
      },
      {
       "output_type": "stream",
       "stream": "stdout",
       "text": [
        "/var/seq_data/priming_exp/data/uc_files/all_readmap.uc  11.1%   \r"
       ]
      },
      {
       "output_type": "stream",
       "stream": "stdout",
       "text": [
        "/var/seq_data/priming_exp/data/uc_files/all_readmap.uc  11.2%   \r"
       ]
      },
      {
       "output_type": "stream",
       "stream": "stdout",
       "text": [
        "/var/seq_data/priming_exp/data/uc_files/all_readmap.uc  11.2%   \r"
       ]
      },
      {
       "output_type": "stream",
       "stream": "stdout",
       "text": [
        "/var/seq_data/priming_exp/data/uc_files/all_readmap.uc  11.3%   \r"
       ]
      },
      {
       "output_type": "stream",
       "stream": "stdout",
       "text": [
        "/var/seq_data/priming_exp/data/uc_files/all_readmap.uc  11.3%   \r"
       ]
      },
      {
       "output_type": "stream",
       "stream": "stdout",
       "text": [
        "/var/seq_data/priming_exp/data/uc_files/all_readmap.uc  11.4%   \r"
       ]
      },
      {
       "output_type": "stream",
       "stream": "stdout",
       "text": [
        "/var/seq_data/priming_exp/data/uc_files/all_readmap.uc  11.5%   \r"
       ]
      },
      {
       "output_type": "stream",
       "stream": "stdout",
       "text": [
        "/var/seq_data/priming_exp/data/uc_files/all_readmap.uc  11.5%   \r"
       ]
      },
      {
       "output_type": "stream",
       "stream": "stdout",
       "text": [
        "/var/seq_data/priming_exp/data/uc_files/all_readmap.uc  11.6%   \r"
       ]
      },
      {
       "output_type": "stream",
       "stream": "stdout",
       "text": [
        "/var/seq_data/priming_exp/data/uc_files/all_readmap.uc  11.6%   \r"
       ]
      },
      {
       "output_type": "stream",
       "stream": "stdout",
       "text": [
        "/var/seq_data/priming_exp/data/uc_files/all_readmap.uc  11.7%   \r"
       ]
      },
      {
       "output_type": "stream",
       "stream": "stdout",
       "text": [
        "/var/seq_data/priming_exp/data/uc_files/all_readmap.uc  11.7%   \r"
       ]
      },
      {
       "output_type": "stream",
       "stream": "stdout",
       "text": [
        "/var/seq_data/priming_exp/data/uc_files/all_readmap.uc  11.8%   \r"
       ]
      },
      {
       "output_type": "stream",
       "stream": "stdout",
       "text": [
        "/var/seq_data/priming_exp/data/uc_files/all_readmap.uc  11.8%   \r"
       ]
      },
      {
       "output_type": "stream",
       "stream": "stdout",
       "text": [
        "/var/seq_data/priming_exp/data/uc_files/all_readmap.uc  11.9%   \r"
       ]
      },
      {
       "output_type": "stream",
       "stream": "stdout",
       "text": [
        "/var/seq_data/priming_exp/data/uc_files/all_readmap.uc  11.9%   \r"
       ]
      },
      {
       "output_type": "stream",
       "stream": "stdout",
       "text": [
        "/var/seq_data/priming_exp/data/uc_files/all_readmap.uc  12.0%   \r"
       ]
      },
      {
       "output_type": "stream",
       "stream": "stdout",
       "text": [
        "/var/seq_data/priming_exp/data/uc_files/all_readmap.uc  12.0%   \r"
       ]
      },
      {
       "output_type": "stream",
       "stream": "stdout",
       "text": [
        "/var/seq_data/priming_exp/data/uc_files/all_readmap.uc  12.1%   \r"
       ]
      },
      {
       "output_type": "stream",
       "stream": "stdout",
       "text": [
        "/var/seq_data/priming_exp/data/uc_files/all_readmap.uc  12.1%   \r"
       ]
      },
      {
       "output_type": "stream",
       "stream": "stdout",
       "text": [
        "/var/seq_data/priming_exp/data/uc_files/all_readmap.uc  12.2%   \r"
       ]
      },
      {
       "output_type": "stream",
       "stream": "stdout",
       "text": [
        "/var/seq_data/priming_exp/data/uc_files/all_readmap.uc  12.2%   \r"
       ]
      },
      {
       "output_type": "stream",
       "stream": "stdout",
       "text": [
        "/var/seq_data/priming_exp/data/uc_files/all_readmap.uc  12.2%   \r"
       ]
      },
      {
       "output_type": "stream",
       "stream": "stdout",
       "text": [
        "/var/seq_data/priming_exp/data/uc_files/all_readmap.uc  12.3%   \r"
       ]
      },
      {
       "output_type": "stream",
       "stream": "stdout",
       "text": [
        "/var/seq_data/priming_exp/data/uc_files/all_readmap.uc  12.3%   \r"
       ]
      },
      {
       "output_type": "stream",
       "stream": "stdout",
       "text": [
        "/var/seq_data/priming_exp/data/uc_files/all_readmap.uc  12.4%   \r"
       ]
      },
      {
       "output_type": "stream",
       "stream": "stdout",
       "text": [
        "/var/seq_data/priming_exp/data/uc_files/all_readmap.uc  12.4%   \r"
       ]
      },
      {
       "output_type": "stream",
       "stream": "stdout",
       "text": [
        "/var/seq_data/priming_exp/data/uc_files/all_readmap.uc  12.5%   \r"
       ]
      },
      {
       "output_type": "stream",
       "stream": "stdout",
       "text": [
        "/var/seq_data/priming_exp/data/uc_files/all_readmap.uc  12.5%   \r"
       ]
      },
      {
       "output_type": "stream",
       "stream": "stdout",
       "text": [
        "/var/seq_data/priming_exp/data/uc_files/all_readmap.uc  12.6%   \r"
       ]
      },
      {
       "output_type": "stream",
       "stream": "stdout",
       "text": [
        "/var/seq_data/priming_exp/data/uc_files/all_readmap.uc  12.6%   \r"
       ]
      },
      {
       "output_type": "stream",
       "stream": "stdout",
       "text": [
        "/var/seq_data/priming_exp/data/uc_files/all_readmap.uc  12.7%   \r"
       ]
      },
      {
       "output_type": "stream",
       "stream": "stdout",
       "text": [
        "/var/seq_data/priming_exp/data/uc_files/all_readmap.uc  12.7%   \r"
       ]
      },
      {
       "output_type": "stream",
       "stream": "stdout",
       "text": [
        "/var/seq_data/priming_exp/data/uc_files/all_readmap.uc  12.8%   \r"
       ]
      },
      {
       "output_type": "stream",
       "stream": "stdout",
       "text": [
        "/var/seq_data/priming_exp/data/uc_files/all_readmap.uc  12.8%   \r"
       ]
      },
      {
       "output_type": "stream",
       "stream": "stdout",
       "text": [
        "/var/seq_data/priming_exp/data/uc_files/all_readmap.uc  12.9%   \r"
       ]
      },
      {
       "output_type": "stream",
       "stream": "stdout",
       "text": [
        "/var/seq_data/priming_exp/data/uc_files/all_readmap.uc  12.9%   \r"
       ]
      },
      {
       "output_type": "stream",
       "stream": "stdout",
       "text": [
        "/var/seq_data/priming_exp/data/uc_files/all_readmap.uc  13.0%   \r"
       ]
      },
      {
       "output_type": "stream",
       "stream": "stdout",
       "text": [
        "/var/seq_data/priming_exp/data/uc_files/all_readmap.uc  13.0%   \r"
       ]
      },
      {
       "output_type": "stream",
       "stream": "stdout",
       "text": [
        "/var/seq_data/priming_exp/data/uc_files/all_readmap.uc  13.1%   \r"
       ]
      },
      {
       "output_type": "stream",
       "stream": "stdout",
       "text": [
        "/var/seq_data/priming_exp/data/uc_files/all_readmap.uc  13.1%   \r"
       ]
      },
      {
       "output_type": "stream",
       "stream": "stdout",
       "text": [
        "/var/seq_data/priming_exp/data/uc_files/all_readmap.uc  13.2%   \r"
       ]
      },
      {
       "output_type": "stream",
       "stream": "stdout",
       "text": [
        "/var/seq_data/priming_exp/data/uc_files/all_readmap.uc  13.2%   \r"
       ]
      },
      {
       "output_type": "stream",
       "stream": "stdout",
       "text": [
        "/var/seq_data/priming_exp/data/uc_files/all_readmap.uc  13.2%   \r"
       ]
      },
      {
       "output_type": "stream",
       "stream": "stdout",
       "text": [
        "/var/seq_data/priming_exp/data/uc_files/all_readmap.uc  13.3%   \r"
       ]
      },
      {
       "output_type": "stream",
       "stream": "stdout",
       "text": [
        "/var/seq_data/priming_exp/data/uc_files/all_readmap.uc  13.3%   \r"
       ]
      },
      {
       "output_type": "stream",
       "stream": "stdout",
       "text": [
        "/var/seq_data/priming_exp/data/uc_files/all_readmap.uc  13.4%   \r"
       ]
      },
      {
       "output_type": "stream",
       "stream": "stdout",
       "text": [
        "/var/seq_data/priming_exp/data/uc_files/all_readmap.uc  13.4%   \r"
       ]
      },
      {
       "output_type": "stream",
       "stream": "stdout",
       "text": [
        "/var/seq_data/priming_exp/data/uc_files/all_readmap.uc  13.5%   \r"
       ]
      },
      {
       "output_type": "stream",
       "stream": "stdout",
       "text": [
        "/var/seq_data/priming_exp/data/uc_files/all_readmap.uc  13.5%   \r"
       ]
      },
      {
       "output_type": "stream",
       "stream": "stdout",
       "text": [
        "/var/seq_data/priming_exp/data/uc_files/all_readmap.uc  13.6%   \r"
       ]
      },
      {
       "output_type": "stream",
       "stream": "stdout",
       "text": [
        "/var/seq_data/priming_exp/data/uc_files/all_readmap.uc  13.6%   \r"
       ]
      },
      {
       "output_type": "stream",
       "stream": "stdout",
       "text": [
        "/var/seq_data/priming_exp/data/uc_files/all_readmap.uc  13.7%   \r"
       ]
      },
      {
       "output_type": "stream",
       "stream": "stdout",
       "text": [
        "/var/seq_data/priming_exp/data/uc_files/all_readmap.uc  13.7%   \r"
       ]
      },
      {
       "output_type": "stream",
       "stream": "stdout",
       "text": [
        "/var/seq_data/priming_exp/data/uc_files/all_readmap.uc  13.8%   \r"
       ]
      },
      {
       "output_type": "stream",
       "stream": "stdout",
       "text": [
        "/var/seq_data/priming_exp/data/uc_files/all_readmap.uc  13.8%   \r"
       ]
      },
      {
       "output_type": "stream",
       "stream": "stdout",
       "text": [
        "/var/seq_data/priming_exp/data/uc_files/all_readmap.uc  13.9%   \r"
       ]
      },
      {
       "output_type": "stream",
       "stream": "stdout",
       "text": [
        "/var/seq_data/priming_exp/data/uc_files/all_readmap.uc  13.9%   \r"
       ]
      },
      {
       "output_type": "stream",
       "stream": "stdout",
       "text": [
        "/var/seq_data/priming_exp/data/uc_files/all_readmap.uc  14.0%   \r"
       ]
      },
      {
       "output_type": "stream",
       "stream": "stdout",
       "text": [
        "/var/seq_data/priming_exp/data/uc_files/all_readmap.uc  14.0%   \r"
       ]
      },
      {
       "output_type": "stream",
       "stream": "stdout",
       "text": [
        "/var/seq_data/priming_exp/data/uc_files/all_readmap.uc  14.1%   \r"
       ]
      },
      {
       "output_type": "stream",
       "stream": "stdout",
       "text": [
        "/var/seq_data/priming_exp/data/uc_files/all_readmap.uc  14.1%   \r"
       ]
      },
      {
       "output_type": "stream",
       "stream": "stdout",
       "text": [
        "/var/seq_data/priming_exp/data/uc_files/all_readmap.uc  14.2%   \r"
       ]
      },
      {
       "output_type": "stream",
       "stream": "stdout",
       "text": [
        "/var/seq_data/priming_exp/data/uc_files/all_readmap.uc  14.2%   \r"
       ]
      },
      {
       "output_type": "stream",
       "stream": "stdout",
       "text": [
        "/var/seq_data/priming_exp/data/uc_files/all_readmap.uc  14.3%   \r"
       ]
      },
      {
       "output_type": "stream",
       "stream": "stdout",
       "text": [
        "/var/seq_data/priming_exp/data/uc_files/all_readmap.uc  14.3%   \r"
       ]
      },
      {
       "output_type": "stream",
       "stream": "stdout",
       "text": [
        "/var/seq_data/priming_exp/data/uc_files/all_readmap.uc  14.4%   \r"
       ]
      },
      {
       "output_type": "stream",
       "stream": "stdout",
       "text": [
        "/var/seq_data/priming_exp/data/uc_files/all_readmap.uc  14.4%   \r"
       ]
      },
      {
       "output_type": "stream",
       "stream": "stdout",
       "text": [
        "/var/seq_data/priming_exp/data/uc_files/all_readmap.uc  14.5%   \r"
       ]
      },
      {
       "output_type": "stream",
       "stream": "stdout",
       "text": [
        "/var/seq_data/priming_exp/data/uc_files/all_readmap.uc  14.5%   \r"
       ]
      },
      {
       "output_type": "stream",
       "stream": "stdout",
       "text": [
        "/var/seq_data/priming_exp/data/uc_files/all_readmap.uc  14.5%   \r"
       ]
      },
      {
       "output_type": "stream",
       "stream": "stdout",
       "text": [
        "/var/seq_data/priming_exp/data/uc_files/all_readmap.uc  14.6%   \r"
       ]
      },
      {
       "output_type": "stream",
       "stream": "stdout",
       "text": [
        "/var/seq_data/priming_exp/data/uc_files/all_readmap.uc  14.6%   \r"
       ]
      },
      {
       "output_type": "stream",
       "stream": "stdout",
       "text": [
        "/var/seq_data/priming_exp/data/uc_files/all_readmap.uc  14.7%   \r"
       ]
      },
      {
       "output_type": "stream",
       "stream": "stdout",
       "text": [
        "/var/seq_data/priming_exp/data/uc_files/all_readmap.uc  14.7%   \r"
       ]
      },
      {
       "output_type": "stream",
       "stream": "stdout",
       "text": [
        "/var/seq_data/priming_exp/data/uc_files/all_readmap.uc  14.8%   \r"
       ]
      },
      {
       "output_type": "stream",
       "stream": "stdout",
       "text": [
        "/var/seq_data/priming_exp/data/uc_files/all_readmap.uc  14.8%   \r"
       ]
      },
      {
       "output_type": "stream",
       "stream": "stdout",
       "text": [
        "/var/seq_data/priming_exp/data/uc_files/all_readmap.uc  14.9%   \r"
       ]
      },
      {
       "output_type": "stream",
       "stream": "stdout",
       "text": [
        "/var/seq_data/priming_exp/data/uc_files/all_readmap.uc  14.9%   \r"
       ]
      },
      {
       "output_type": "stream",
       "stream": "stdout",
       "text": [
        "/var/seq_data/priming_exp/data/uc_files/all_readmap.uc  15.0%   \r"
       ]
      },
      {
       "output_type": "stream",
       "stream": "stdout",
       "text": [
        "/var/seq_data/priming_exp/data/uc_files/all_readmap.uc  15.0%   \r"
       ]
      },
      {
       "output_type": "stream",
       "stream": "stdout",
       "text": [
        "/var/seq_data/priming_exp/data/uc_files/all_readmap.uc  15.1%   \r"
       ]
      },
      {
       "output_type": "stream",
       "stream": "stdout",
       "text": [
        "/var/seq_data/priming_exp/data/uc_files/all_readmap.uc  15.1%   \r"
       ]
      },
      {
       "output_type": "stream",
       "stream": "stdout",
       "text": [
        "/var/seq_data/priming_exp/data/uc_files/all_readmap.uc  15.2%   \r"
       ]
      },
      {
       "output_type": "stream",
       "stream": "stdout",
       "text": [
        "/var/seq_data/priming_exp/data/uc_files/all_readmap.uc  15.2%   \r"
       ]
      },
      {
       "output_type": "stream",
       "stream": "stdout",
       "text": [
        "/var/seq_data/priming_exp/data/uc_files/all_readmap.uc  15.3%   \r"
       ]
      },
      {
       "output_type": "stream",
       "stream": "stdout",
       "text": [
        "/var/seq_data/priming_exp/data/uc_files/all_readmap.uc  15.3%   \r"
       ]
      },
      {
       "output_type": "stream",
       "stream": "stdout",
       "text": [
        "/var/seq_data/priming_exp/data/uc_files/all_readmap.uc  15.4%   \r"
       ]
      },
      {
       "output_type": "stream",
       "stream": "stdout",
       "text": [
        "/var/seq_data/priming_exp/data/uc_files/all_readmap.uc  15.4%   \r"
       ]
      },
      {
       "output_type": "stream",
       "stream": "stdout",
       "text": [
        "/var/seq_data/priming_exp/data/uc_files/all_readmap.uc  15.4%   \r"
       ]
      },
      {
       "output_type": "stream",
       "stream": "stdout",
       "text": [
        "/var/seq_data/priming_exp/data/uc_files/all_readmap.uc  15.5%   \r"
       ]
      },
      {
       "output_type": "stream",
       "stream": "stdout",
       "text": [
        "/var/seq_data/priming_exp/data/uc_files/all_readmap.uc  15.5%   \r"
       ]
      },
      {
       "output_type": "stream",
       "stream": "stdout",
       "text": [
        "/var/seq_data/priming_exp/data/uc_files/all_readmap.uc  15.6%   \r"
       ]
      },
      {
       "output_type": "stream",
       "stream": "stdout",
       "text": [
        "/var/seq_data/priming_exp/data/uc_files/all_readmap.uc  15.6%   \r"
       ]
      },
      {
       "output_type": "stream",
       "stream": "stdout",
       "text": [
        "/var/seq_data/priming_exp/data/uc_files/all_readmap.uc  15.6%   \r"
       ]
      },
      {
       "output_type": "stream",
       "stream": "stdout",
       "text": [
        "/var/seq_data/priming_exp/data/uc_files/all_readmap.uc  15.7%   \r"
       ]
      },
      {
       "output_type": "stream",
       "stream": "stdout",
       "text": [
        "/var/seq_data/priming_exp/data/uc_files/all_readmap.uc  15.7%   \r"
       ]
      },
      {
       "output_type": "stream",
       "stream": "stdout",
       "text": [
        "/var/seq_data/priming_exp/data/uc_files/all_readmap.uc  15.7%   \r"
       ]
      },
      {
       "output_type": "stream",
       "stream": "stdout",
       "text": [
        "/var/seq_data/priming_exp/data/uc_files/all_readmap.uc  15.8%   \r"
       ]
      },
      {
       "output_type": "stream",
       "stream": "stdout",
       "text": [
        "/var/seq_data/priming_exp/data/uc_files/all_readmap.uc  15.8%   \r"
       ]
      },
      {
       "output_type": "stream",
       "stream": "stdout",
       "text": [
        "/var/seq_data/priming_exp/data/uc_files/all_readmap.uc  15.9%   \r"
       ]
      },
      {
       "output_type": "stream",
       "stream": "stdout",
       "text": [
        "/var/seq_data/priming_exp/data/uc_files/all_readmap.uc  15.9%   \r"
       ]
      },
      {
       "output_type": "stream",
       "stream": "stdout",
       "text": [
        "/var/seq_data/priming_exp/data/uc_files/all_readmap.uc  15.9%   \r"
       ]
      },
      {
       "output_type": "stream",
       "stream": "stdout",
       "text": [
        "/var/seq_data/priming_exp/data/uc_files/all_readmap.uc  16.0%   \r"
       ]
      },
      {
       "output_type": "stream",
       "stream": "stdout",
       "text": [
        "/var/seq_data/priming_exp/data/uc_files/all_readmap.uc  16.0%   \r"
       ]
      },
      {
       "output_type": "stream",
       "stream": "stdout",
       "text": [
        "/var/seq_data/priming_exp/data/uc_files/all_readmap.uc  16.0%   \r"
       ]
      },
      {
       "output_type": "stream",
       "stream": "stdout",
       "text": [
        "/var/seq_data/priming_exp/data/uc_files/all_readmap.uc  16.1%   \r"
       ]
      },
      {
       "output_type": "stream",
       "stream": "stdout",
       "text": [
        "/var/seq_data/priming_exp/data/uc_files/all_readmap.uc  16.1%   \r"
       ]
      },
      {
       "output_type": "stream",
       "stream": "stdout",
       "text": [
        "/var/seq_data/priming_exp/data/uc_files/all_readmap.uc  16.1%   \r"
       ]
      },
      {
       "output_type": "stream",
       "stream": "stdout",
       "text": [
        "/var/seq_data/priming_exp/data/uc_files/all_readmap.uc  16.2%   \r"
       ]
      },
      {
       "output_type": "stream",
       "stream": "stdout",
       "text": [
        "/var/seq_data/priming_exp/data/uc_files/all_readmap.uc  16.2%   \r"
       ]
      },
      {
       "output_type": "stream",
       "stream": "stdout",
       "text": [
        "/var/seq_data/priming_exp/data/uc_files/all_readmap.uc  16.3%   \r"
       ]
      },
      {
       "output_type": "stream",
       "stream": "stdout",
       "text": [
        "/var/seq_data/priming_exp/data/uc_files/all_readmap.uc  16.3%   \r"
       ]
      },
      {
       "output_type": "stream",
       "stream": "stdout",
       "text": [
        "/var/seq_data/priming_exp/data/uc_files/all_readmap.uc  16.3%   \r"
       ]
      },
      {
       "output_type": "stream",
       "stream": "stdout",
       "text": [
        "/var/seq_data/priming_exp/data/uc_files/all_readmap.uc  16.4%   \r"
       ]
      },
      {
       "output_type": "stream",
       "stream": "stdout",
       "text": [
        "/var/seq_data/priming_exp/data/uc_files/all_readmap.uc  16.4%   \r"
       ]
      },
      {
       "output_type": "stream",
       "stream": "stdout",
       "text": [
        "/var/seq_data/priming_exp/data/uc_files/all_readmap.uc  16.4%   \r"
       ]
      },
      {
       "output_type": "stream",
       "stream": "stdout",
       "text": [
        "/var/seq_data/priming_exp/data/uc_files/all_readmap.uc  16.5%   \r"
       ]
      },
      {
       "output_type": "stream",
       "stream": "stdout",
       "text": [
        "/var/seq_data/priming_exp/data/uc_files/all_readmap.uc  16.5%   \r"
       ]
      },
      {
       "output_type": "stream",
       "stream": "stdout",
       "text": [
        "/var/seq_data/priming_exp/data/uc_files/all_readmap.uc  16.6%   \r"
       ]
      },
      {
       "output_type": "stream",
       "stream": "stdout",
       "text": [
        "/var/seq_data/priming_exp/data/uc_files/all_readmap.uc  16.6%   \r"
       ]
      },
      {
       "output_type": "stream",
       "stream": "stdout",
       "text": [
        "/var/seq_data/priming_exp/data/uc_files/all_readmap.uc  16.6%   \r"
       ]
      },
      {
       "output_type": "stream",
       "stream": "stdout",
       "text": [
        "/var/seq_data/priming_exp/data/uc_files/all_readmap.uc  16.7%   \r"
       ]
      },
      {
       "output_type": "stream",
       "stream": "stdout",
       "text": [
        "/var/seq_data/priming_exp/data/uc_files/all_readmap.uc  16.9%   \r"
       ]
      },
      {
       "output_type": "stream",
       "stream": "stdout",
       "text": [
        "/var/seq_data/priming_exp/data/uc_files/all_readmap.uc  17.1%   \r"
       ]
      },
      {
       "output_type": "stream",
       "stream": "stdout",
       "text": [
        "/var/seq_data/priming_exp/data/uc_files/all_readmap.uc  17.4%   \r"
       ]
      },
      {
       "output_type": "stream",
       "stream": "stdout",
       "text": [
        "/var/seq_data/priming_exp/data/uc_files/all_readmap.uc  17.6%   \r"
       ]
      },
      {
       "output_type": "stream",
       "stream": "stdout",
       "text": [
        "/var/seq_data/priming_exp/data/uc_files/all_readmap.uc  17.8%   \r"
       ]
      },
      {
       "output_type": "stream",
       "stream": "stdout",
       "text": [
        "/var/seq_data/priming_exp/data/uc_files/all_readmap.uc  18.0%   \r"
       ]
      },
      {
       "output_type": "stream",
       "stream": "stdout",
       "text": [
        "/var/seq_data/priming_exp/data/uc_files/all_readmap.uc  18.2%   \r"
       ]
      },
      {
       "output_type": "stream",
       "stream": "stdout",
       "text": [
        "/var/seq_data/priming_exp/data/uc_files/all_readmap.uc  18.4%   \r"
       ]
      },
      {
       "output_type": "stream",
       "stream": "stdout",
       "text": [
        "/var/seq_data/priming_exp/data/uc_files/all_readmap.uc  18.6%   \r"
       ]
      },
      {
       "output_type": "stream",
       "stream": "stdout",
       "text": [
        "/var/seq_data/priming_exp/data/uc_files/all_readmap.uc  18.8%   \r"
       ]
      },
      {
       "output_type": "stream",
       "stream": "stdout",
       "text": [
        "/var/seq_data/priming_exp/data/uc_files/all_readmap.uc  19.0%   \r"
       ]
      },
      {
       "output_type": "stream",
       "stream": "stdout",
       "text": [
        "/var/seq_data/priming_exp/data/uc_files/all_readmap.uc  19.2%   \r"
       ]
      },
      {
       "output_type": "stream",
       "stream": "stdout",
       "text": [
        "/var/seq_data/priming_exp/data/uc_files/all_readmap.uc  19.3%   \r"
       ]
      },
      {
       "output_type": "stream",
       "stream": "stdout",
       "text": [
        "/var/seq_data/priming_exp/data/uc_files/all_readmap.uc  19.4%   \r"
       ]
      },
      {
       "output_type": "stream",
       "stream": "stdout",
       "text": [
        "/var/seq_data/priming_exp/data/uc_files/all_readmap.uc  19.5%   \r"
       ]
      },
      {
       "output_type": "stream",
       "stream": "stdout",
       "text": [
        "/var/seq_data/priming_exp/data/uc_files/all_readmap.uc  19.6%   \r"
       ]
      },
      {
       "output_type": "stream",
       "stream": "stdout",
       "text": [
        "/var/seq_data/priming_exp/data/uc_files/all_readmap.uc  19.8%   \r"
       ]
      },
      {
       "output_type": "stream",
       "stream": "stdout",
       "text": [
        "/var/seq_data/priming_exp/data/uc_files/all_readmap.uc  19.9%   \r"
       ]
      },
      {
       "output_type": "stream",
       "stream": "stdout",
       "text": [
        "/var/seq_data/priming_exp/data/uc_files/all_readmap.uc  20.0%   \r"
       ]
      },
      {
       "output_type": "stream",
       "stream": "stdout",
       "text": [
        "/var/seq_data/priming_exp/data/uc_files/all_readmap.uc  20.1%   \r"
       ]
      },
      {
       "output_type": "stream",
       "stream": "stdout",
       "text": [
        "/var/seq_data/priming_exp/data/uc_files/all_readmap.uc  20.2%   \r"
       ]
      },
      {
       "output_type": "stream",
       "stream": "stdout",
       "text": [
        "/var/seq_data/priming_exp/data/uc_files/all_readmap.uc  20.3%   \r"
       ]
      },
      {
       "output_type": "stream",
       "stream": "stdout",
       "text": [
        "/var/seq_data/priming_exp/data/uc_files/all_readmap.uc  20.5%   \r"
       ]
      },
      {
       "output_type": "stream",
       "stream": "stdout",
       "text": [
        "/var/seq_data/priming_exp/data/uc_files/all_readmap.uc  20.6%   \r"
       ]
      },
      {
       "output_type": "stream",
       "stream": "stdout",
       "text": [
        "/var/seq_data/priming_exp/data/uc_files/all_readmap.uc  20.7%   \r"
       ]
      },
      {
       "output_type": "stream",
       "stream": "stdout",
       "text": [
        "/var/seq_data/priming_exp/data/uc_files/all_readmap.uc  20.8%   \r"
       ]
      },
      {
       "output_type": "stream",
       "stream": "stdout",
       "text": [
        "/var/seq_data/priming_exp/data/uc_files/all_readmap.uc  20.9%   \r"
       ]
      },
      {
       "output_type": "stream",
       "stream": "stdout",
       "text": [
        "/var/seq_data/priming_exp/data/uc_files/all_readmap.uc  21.0%   \r"
       ]
      },
      {
       "output_type": "stream",
       "stream": "stdout",
       "text": [
        "/var/seq_data/priming_exp/data/uc_files/all_readmap.uc  21.2%   \r"
       ]
      },
      {
       "output_type": "stream",
       "stream": "stdout",
       "text": [
        "/var/seq_data/priming_exp/data/uc_files/all_readmap.uc  21.3%   \r"
       ]
      },
      {
       "output_type": "stream",
       "stream": "stdout",
       "text": [
        "/var/seq_data/priming_exp/data/uc_files/all_readmap.uc  21.4%   \r"
       ]
      },
      {
       "output_type": "stream",
       "stream": "stdout",
       "text": [
        "/var/seq_data/priming_exp/data/uc_files/all_readmap.uc  21.5%   \r"
       ]
      },
      {
       "output_type": "stream",
       "stream": "stdout",
       "text": [
        "/var/seq_data/priming_exp/data/uc_files/all_readmap.uc  21.6%   \r"
       ]
      },
      {
       "output_type": "stream",
       "stream": "stdout",
       "text": [
        "/var/seq_data/priming_exp/data/uc_files/all_readmap.uc  21.7%   \r"
       ]
      },
      {
       "output_type": "stream",
       "stream": "stdout",
       "text": [
        "/var/seq_data/priming_exp/data/uc_files/all_readmap.uc  21.9%   \r"
       ]
      },
      {
       "output_type": "stream",
       "stream": "stdout",
       "text": [
        "/var/seq_data/priming_exp/data/uc_files/all_readmap.uc  22.0%   \r"
       ]
      },
      {
       "output_type": "stream",
       "stream": "stdout",
       "text": [
        "/var/seq_data/priming_exp/data/uc_files/all_readmap.uc  22.1%   \r"
       ]
      },
      {
       "output_type": "stream",
       "stream": "stdout",
       "text": [
        "/var/seq_data/priming_exp/data/uc_files/all_readmap.uc  22.2%   \r"
       ]
      },
      {
       "output_type": "stream",
       "stream": "stdout",
       "text": [
        "/var/seq_data/priming_exp/data/uc_files/all_readmap.uc  22.3%   \r"
       ]
      },
      {
       "output_type": "stream",
       "stream": "stdout",
       "text": [
        "/var/seq_data/priming_exp/data/uc_files/all_readmap.uc  22.4%   \r"
       ]
      },
      {
       "output_type": "stream",
       "stream": "stdout",
       "text": [
        "/var/seq_data/priming_exp/data/uc_files/all_readmap.uc  22.6%   \r"
       ]
      },
      {
       "output_type": "stream",
       "stream": "stdout",
       "text": [
        "/var/seq_data/priming_exp/data/uc_files/all_readmap.uc  22.7%   \r"
       ]
      },
      {
       "output_type": "stream",
       "stream": "stdout",
       "text": [
        "/var/seq_data/priming_exp/data/uc_files/all_readmap.uc  22.8%   \r"
       ]
      },
      {
       "output_type": "stream",
       "stream": "stdout",
       "text": [
        "/var/seq_data/priming_exp/data/uc_files/all_readmap.uc  22.9%   \r"
       ]
      },
      {
       "output_type": "stream",
       "stream": "stdout",
       "text": [
        "/var/seq_data/priming_exp/data/uc_files/all_readmap.uc  23.0%   \r"
       ]
      },
      {
       "output_type": "stream",
       "stream": "stdout",
       "text": [
        "/var/seq_data/priming_exp/data/uc_files/all_readmap.uc  23.2%   \r"
       ]
      },
      {
       "output_type": "stream",
       "stream": "stdout",
       "text": [
        "/var/seq_data/priming_exp/data/uc_files/all_readmap.uc  23.3%   \r"
       ]
      },
      {
       "output_type": "stream",
       "stream": "stdout",
       "text": [
        "/var/seq_data/priming_exp/data/uc_files/all_readmap.uc  23.4%   \r"
       ]
      },
      {
       "output_type": "stream",
       "stream": "stdout",
       "text": [
        "/var/seq_data/priming_exp/data/uc_files/all_readmap.uc  23.5%   \r"
       ]
      },
      {
       "output_type": "stream",
       "stream": "stdout",
       "text": [
        "/var/seq_data/priming_exp/data/uc_files/all_readmap.uc  23.6%   \r"
       ]
      },
      {
       "output_type": "stream",
       "stream": "stdout",
       "text": [
        "/var/seq_data/priming_exp/data/uc_files/all_readmap.uc  23.7%   \r"
       ]
      },
      {
       "output_type": "stream",
       "stream": "stdout",
       "text": [
        "/var/seq_data/priming_exp/data/uc_files/all_readmap.uc  23.9%   \r"
       ]
      },
      {
       "output_type": "stream",
       "stream": "stdout",
       "text": [
        "/var/seq_data/priming_exp/data/uc_files/all_readmap.uc  24.0%   \r"
       ]
      },
      {
       "output_type": "stream",
       "stream": "stdout",
       "text": [
        "/var/seq_data/priming_exp/data/uc_files/all_readmap.uc  24.1%   \r"
       ]
      },
      {
       "output_type": "stream",
       "stream": "stdout",
       "text": [
        "/var/seq_data/priming_exp/data/uc_files/all_readmap.uc  24.2%   \r"
       ]
      },
      {
       "output_type": "stream",
       "stream": "stdout",
       "text": [
        "/var/seq_data/priming_exp/data/uc_files/all_readmap.uc  24.3%   \r"
       ]
      },
      {
       "output_type": "stream",
       "stream": "stdout",
       "text": [
        "/var/seq_data/priming_exp/data/uc_files/all_readmap.uc  24.5%   \r"
       ]
      },
      {
       "output_type": "stream",
       "stream": "stdout",
       "text": [
        "/var/seq_data/priming_exp/data/uc_files/all_readmap.uc  24.6%   \r"
       ]
      },
      {
       "output_type": "stream",
       "stream": "stdout",
       "text": [
        "/var/seq_data/priming_exp/data/uc_files/all_readmap.uc  24.7%   \r"
       ]
      },
      {
       "output_type": "stream",
       "stream": "stdout",
       "text": [
        "/var/seq_data/priming_exp/data/uc_files/all_readmap.uc  24.8%   \r"
       ]
      },
      {
       "output_type": "stream",
       "stream": "stdout",
       "text": [
        "/var/seq_data/priming_exp/data/uc_files/all_readmap.uc  24.9%   \r"
       ]
      },
      {
       "output_type": "stream",
       "stream": "stdout",
       "text": [
        "/var/seq_data/priming_exp/data/uc_files/all_readmap.uc  25.0%   \r"
       ]
      },
      {
       "output_type": "stream",
       "stream": "stdout",
       "text": [
        "/var/seq_data/priming_exp/data/uc_files/all_readmap.uc  25.2%   \r"
       ]
      },
      {
       "output_type": "stream",
       "stream": "stdout",
       "text": [
        "/var/seq_data/priming_exp/data/uc_files/all_readmap.uc  25.3%   \r"
       ]
      },
      {
       "output_type": "stream",
       "stream": "stdout",
       "text": [
        "/var/seq_data/priming_exp/data/uc_files/all_readmap.uc  25.4%   \r"
       ]
      },
      {
       "output_type": "stream",
       "stream": "stdout",
       "text": [
        "/var/seq_data/priming_exp/data/uc_files/all_readmap.uc  25.5%   \r"
       ]
      },
      {
       "output_type": "stream",
       "stream": "stdout",
       "text": [
        "/var/seq_data/priming_exp/data/uc_files/all_readmap.uc  25.6%   \r"
       ]
      },
      {
       "output_type": "stream",
       "stream": "stdout",
       "text": [
        "/var/seq_data/priming_exp/data/uc_files/all_readmap.uc  25.7%   \r"
       ]
      },
      {
       "output_type": "stream",
       "stream": "stdout",
       "text": [
        "/var/seq_data/priming_exp/data/uc_files/all_readmap.uc  25.9%   \r"
       ]
      },
      {
       "output_type": "stream",
       "stream": "stdout",
       "text": [
        "/var/seq_data/priming_exp/data/uc_files/all_readmap.uc  26.0%   \r"
       ]
      },
      {
       "output_type": "stream",
       "stream": "stdout",
       "text": [
        "/var/seq_data/priming_exp/data/uc_files/all_readmap.uc  26.1%   \r"
       ]
      },
      {
       "output_type": "stream",
       "stream": "stdout",
       "text": [
        "/var/seq_data/priming_exp/data/uc_files/all_readmap.uc  26.2%   \r"
       ]
      },
      {
       "output_type": "stream",
       "stream": "stdout",
       "text": [
        "/var/seq_data/priming_exp/data/uc_files/all_readmap.uc  26.2%   \r"
       ]
      },
      {
       "output_type": "stream",
       "stream": "stdout",
       "text": [
        "/var/seq_data/priming_exp/data/uc_files/all_readmap.uc  26.3%   \r"
       ]
      },
      {
       "output_type": "stream",
       "stream": "stdout",
       "text": [
        "/var/seq_data/priming_exp/data/uc_files/all_readmap.uc  26.4%   \r"
       ]
      },
      {
       "output_type": "stream",
       "stream": "stdout",
       "text": [
        "/var/seq_data/priming_exp/data/uc_files/all_readmap.uc  26.4%   \r"
       ]
      },
      {
       "output_type": "stream",
       "stream": "stdout",
       "text": [
        "/var/seq_data/priming_exp/data/uc_files/all_readmap.uc  26.5%   \r"
       ]
      },
      {
       "output_type": "stream",
       "stream": "stdout",
       "text": [
        "/var/seq_data/priming_exp/data/uc_files/all_readmap.uc  26.5%   \r"
       ]
      },
      {
       "output_type": "stream",
       "stream": "stdout",
       "text": [
        "/var/seq_data/priming_exp/data/uc_files/all_readmap.uc  26.6%   \r"
       ]
      },
      {
       "output_type": "stream",
       "stream": "stdout",
       "text": [
        "/var/seq_data/priming_exp/data/uc_files/all_readmap.uc  26.6%   \r"
       ]
      },
      {
       "output_type": "stream",
       "stream": "stdout",
       "text": [
        "/var/seq_data/priming_exp/data/uc_files/all_readmap.uc  26.7%   \r"
       ]
      },
      {
       "output_type": "stream",
       "stream": "stdout",
       "text": [
        "/var/seq_data/priming_exp/data/uc_files/all_readmap.uc  26.8%   \r"
       ]
      },
      {
       "output_type": "stream",
       "stream": "stdout",
       "text": [
        "/var/seq_data/priming_exp/data/uc_files/all_readmap.uc  26.8%   \r"
       ]
      },
      {
       "output_type": "stream",
       "stream": "stdout",
       "text": [
        "/var/seq_data/priming_exp/data/uc_files/all_readmap.uc  26.9%   \r"
       ]
      },
      {
       "output_type": "stream",
       "stream": "stdout",
       "text": [
        "/var/seq_data/priming_exp/data/uc_files/all_readmap.uc  26.9%   \r"
       ]
      },
      {
       "output_type": "stream",
       "stream": "stdout",
       "text": [
        "/var/seq_data/priming_exp/data/uc_files/all_readmap.uc  27.0%   \r"
       ]
      },
      {
       "output_type": "stream",
       "stream": "stdout",
       "text": [
        "/var/seq_data/priming_exp/data/uc_files/all_readmap.uc  27.0%   \r"
       ]
      },
      {
       "output_type": "stream",
       "stream": "stdout",
       "text": [
        "/var/seq_data/priming_exp/data/uc_files/all_readmap.uc  27.1%   \r"
       ]
      },
      {
       "output_type": "stream",
       "stream": "stdout",
       "text": [
        "/var/seq_data/priming_exp/data/uc_files/all_readmap.uc  27.2%   \r"
       ]
      },
      {
       "output_type": "stream",
       "stream": "stdout",
       "text": [
        "/var/seq_data/priming_exp/data/uc_files/all_readmap.uc  27.2%   \r"
       ]
      },
      {
       "output_type": "stream",
       "stream": "stdout",
       "text": [
        "/var/seq_data/priming_exp/data/uc_files/all_readmap.uc  27.3%   \r"
       ]
      },
      {
       "output_type": "stream",
       "stream": "stdout",
       "text": [
        "/var/seq_data/priming_exp/data/uc_files/all_readmap.uc  27.3%   \r"
       ]
      },
      {
       "output_type": "stream",
       "stream": "stdout",
       "text": [
        "/var/seq_data/priming_exp/data/uc_files/all_readmap.uc  27.4%   \r"
       ]
      },
      {
       "output_type": "stream",
       "stream": "stdout",
       "text": [
        "/var/seq_data/priming_exp/data/uc_files/all_readmap.uc  27.4%   \r"
       ]
      },
      {
       "output_type": "stream",
       "stream": "stdout",
       "text": [
        "/var/seq_data/priming_exp/data/uc_files/all_readmap.uc  27.5%   \r"
       ]
      },
      {
       "output_type": "stream",
       "stream": "stdout",
       "text": [
        "/var/seq_data/priming_exp/data/uc_files/all_readmap.uc  27.6%   \r"
       ]
      },
      {
       "output_type": "stream",
       "stream": "stdout",
       "text": [
        "/var/seq_data/priming_exp/data/uc_files/all_readmap.uc  27.6%   \r"
       ]
      },
      {
       "output_type": "stream",
       "stream": "stdout",
       "text": [
        "/var/seq_data/priming_exp/data/uc_files/all_readmap.uc  27.7%   \r"
       ]
      },
      {
       "output_type": "stream",
       "stream": "stdout",
       "text": [
        "/var/seq_data/priming_exp/data/uc_files/all_readmap.uc  27.7%   \r"
       ]
      },
      {
       "output_type": "stream",
       "stream": "stdout",
       "text": [
        "/var/seq_data/priming_exp/data/uc_files/all_readmap.uc  27.8%   \r"
       ]
      },
      {
       "output_type": "stream",
       "stream": "stdout",
       "text": [
        "/var/seq_data/priming_exp/data/uc_files/all_readmap.uc  27.8%   \r"
       ]
      },
      {
       "output_type": "stream",
       "stream": "stdout",
       "text": [
        "/var/seq_data/priming_exp/data/uc_files/all_readmap.uc  27.9%   \r"
       ]
      },
      {
       "output_type": "stream",
       "stream": "stdout",
       "text": [
        "/var/seq_data/priming_exp/data/uc_files/all_readmap.uc  28.0%   \r"
       ]
      },
      {
       "output_type": "stream",
       "stream": "stdout",
       "text": [
        "/var/seq_data/priming_exp/data/uc_files/all_readmap.uc  28.0%   \r"
       ]
      },
      {
       "output_type": "stream",
       "stream": "stdout",
       "text": [
        "/var/seq_data/priming_exp/data/uc_files/all_readmap.uc  28.1%   \r"
       ]
      },
      {
       "output_type": "stream",
       "stream": "stdout",
       "text": [
        "/var/seq_data/priming_exp/data/uc_files/all_readmap.uc  28.1%   \r"
       ]
      },
      {
       "output_type": "stream",
       "stream": "stdout",
       "text": [
        "/var/seq_data/priming_exp/data/uc_files/all_readmap.uc  28.2%   \r"
       ]
      },
      {
       "output_type": "stream",
       "stream": "stdout",
       "text": [
        "/var/seq_data/priming_exp/data/uc_files/all_readmap.uc  28.2%   \r"
       ]
      },
      {
       "output_type": "stream",
       "stream": "stdout",
       "text": [
        "/var/seq_data/priming_exp/data/uc_files/all_readmap.uc  28.3%   \r"
       ]
      },
      {
       "output_type": "stream",
       "stream": "stdout",
       "text": [
        "/var/seq_data/priming_exp/data/uc_files/all_readmap.uc  28.3%   \r"
       ]
      },
      {
       "output_type": "stream",
       "stream": "stdout",
       "text": [
        "/var/seq_data/priming_exp/data/uc_files/all_readmap.uc  28.4%   \r"
       ]
      },
      {
       "output_type": "stream",
       "stream": "stdout",
       "text": [
        "/var/seq_data/priming_exp/data/uc_files/all_readmap.uc  28.4%   \r"
       ]
      },
      {
       "output_type": "stream",
       "stream": "stdout",
       "text": [
        "/var/seq_data/priming_exp/data/uc_files/all_readmap.uc  28.5%   \r"
       ]
      },
      {
       "output_type": "stream",
       "stream": "stdout",
       "text": [
        "/var/seq_data/priming_exp/data/uc_files/all_readmap.uc  28.5%   \r"
       ]
      },
      {
       "output_type": "stream",
       "stream": "stdout",
       "text": [
        "/var/seq_data/priming_exp/data/uc_files/all_readmap.uc  28.6%   \r"
       ]
      },
      {
       "output_type": "stream",
       "stream": "stdout",
       "text": [
        "/var/seq_data/priming_exp/data/uc_files/all_readmap.uc  28.6%   \r"
       ]
      },
      {
       "output_type": "stream",
       "stream": "stdout",
       "text": [
        "/var/seq_data/priming_exp/data/uc_files/all_readmap.uc  28.7%   \r"
       ]
      },
      {
       "output_type": "stream",
       "stream": "stdout",
       "text": [
        "/var/seq_data/priming_exp/data/uc_files/all_readmap.uc  28.7%   \r"
       ]
      },
      {
       "output_type": "stream",
       "stream": "stdout",
       "text": [
        "/var/seq_data/priming_exp/data/uc_files/all_readmap.uc  28.8%   \r"
       ]
      },
      {
       "output_type": "stream",
       "stream": "stdout",
       "text": [
        "/var/seq_data/priming_exp/data/uc_files/all_readmap.uc  28.8%   \r"
       ]
      },
      {
       "output_type": "stream",
       "stream": "stdout",
       "text": [
        "/var/seq_data/priming_exp/data/uc_files/all_readmap.uc  28.9%   \r"
       ]
      },
      {
       "output_type": "stream",
       "stream": "stdout",
       "text": [
        "/var/seq_data/priming_exp/data/uc_files/all_readmap.uc  28.9%   \r"
       ]
      },
      {
       "output_type": "stream",
       "stream": "stdout",
       "text": [
        "/var/seq_data/priming_exp/data/uc_files/all_readmap.uc  29.0%   \r"
       ]
      },
      {
       "output_type": "stream",
       "stream": "stdout",
       "text": [
        "/var/seq_data/priming_exp/data/uc_files/all_readmap.uc  29.0%   \r"
       ]
      },
      {
       "output_type": "stream",
       "stream": "stdout",
       "text": [
        "/var/seq_data/priming_exp/data/uc_files/all_readmap.uc  29.1%   \r"
       ]
      },
      {
       "output_type": "stream",
       "stream": "stdout",
       "text": [
        "/var/seq_data/priming_exp/data/uc_files/all_readmap.uc  29.1%   \r"
       ]
      },
      {
       "output_type": "stream",
       "stream": "stdout",
       "text": [
        "/var/seq_data/priming_exp/data/uc_files/all_readmap.uc  29.2%   \r"
       ]
      },
      {
       "output_type": "stream",
       "stream": "stdout",
       "text": [
        "/var/seq_data/priming_exp/data/uc_files/all_readmap.uc  29.2%   \r"
       ]
      },
      {
       "output_type": "stream",
       "stream": "stdout",
       "text": [
        "/var/seq_data/priming_exp/data/uc_files/all_readmap.uc  29.2%   \r"
       ]
      },
      {
       "output_type": "stream",
       "stream": "stdout",
       "text": [
        "/var/seq_data/priming_exp/data/uc_files/all_readmap.uc  29.3%   \r"
       ]
      },
      {
       "output_type": "stream",
       "stream": "stdout",
       "text": [
        "/var/seq_data/priming_exp/data/uc_files/all_readmap.uc  29.3%   \r"
       ]
      },
      {
       "output_type": "stream",
       "stream": "stdout",
       "text": [
        "/var/seq_data/priming_exp/data/uc_files/all_readmap.uc  29.4%   \r"
       ]
      },
      {
       "output_type": "stream",
       "stream": "stdout",
       "text": [
        "/var/seq_data/priming_exp/data/uc_files/all_readmap.uc  29.4%   \r"
       ]
      },
      {
       "output_type": "stream",
       "stream": "stdout",
       "text": [
        "/var/seq_data/priming_exp/data/uc_files/all_readmap.uc  29.5%   \r"
       ]
      },
      {
       "output_type": "stream",
       "stream": "stdout",
       "text": [
        "/var/seq_data/priming_exp/data/uc_files/all_readmap.uc  29.5%   \r"
       ]
      },
      {
       "output_type": "stream",
       "stream": "stdout",
       "text": [
        "/var/seq_data/priming_exp/data/uc_files/all_readmap.uc  29.6%   \r"
       ]
      },
      {
       "output_type": "stream",
       "stream": "stdout",
       "text": [
        "/var/seq_data/priming_exp/data/uc_files/all_readmap.uc  29.6%   \r"
       ]
      },
      {
       "output_type": "stream",
       "stream": "stdout",
       "text": [
        "/var/seq_data/priming_exp/data/uc_files/all_readmap.uc  29.7%   \r"
       ]
      },
      {
       "output_type": "stream",
       "stream": "stdout",
       "text": [
        "/var/seq_data/priming_exp/data/uc_files/all_readmap.uc  29.7%   \r"
       ]
      },
      {
       "output_type": "stream",
       "stream": "stdout",
       "text": [
        "/var/seq_data/priming_exp/data/uc_files/all_readmap.uc  29.8%   \r"
       ]
      },
      {
       "output_type": "stream",
       "stream": "stdout",
       "text": [
        "/var/seq_data/priming_exp/data/uc_files/all_readmap.uc  29.8%   \r"
       ]
      },
      {
       "output_type": "stream",
       "stream": "stdout",
       "text": [
        "/var/seq_data/priming_exp/data/uc_files/all_readmap.uc  29.9%   \r"
       ]
      },
      {
       "output_type": "stream",
       "stream": "stdout",
       "text": [
        "/var/seq_data/priming_exp/data/uc_files/all_readmap.uc  29.9%   \r"
       ]
      },
      {
       "output_type": "stream",
       "stream": "stdout",
       "text": [
        "/var/seq_data/priming_exp/data/uc_files/all_readmap.uc  30.0%   \r"
       ]
      },
      {
       "output_type": "stream",
       "stream": "stdout",
       "text": [
        "/var/seq_data/priming_exp/data/uc_files/all_readmap.uc  30.0%   \r"
       ]
      },
      {
       "output_type": "stream",
       "stream": "stdout",
       "text": [
        "/var/seq_data/priming_exp/data/uc_files/all_readmap.uc  30.1%   \r"
       ]
      },
      {
       "output_type": "stream",
       "stream": "stdout",
       "text": [
        "/var/seq_data/priming_exp/data/uc_files/all_readmap.uc  30.1%   \r"
       ]
      },
      {
       "output_type": "stream",
       "stream": "stdout",
       "text": [
        "/var/seq_data/priming_exp/data/uc_files/all_readmap.uc  30.1%   \r"
       ]
      },
      {
       "output_type": "stream",
       "stream": "stdout",
       "text": [
        "/var/seq_data/priming_exp/data/uc_files/all_readmap.uc  30.2%   \r"
       ]
      },
      {
       "output_type": "stream",
       "stream": "stdout",
       "text": [
        "/var/seq_data/priming_exp/data/uc_files/all_readmap.uc  30.2%   \r"
       ]
      },
      {
       "output_type": "stream",
       "stream": "stdout",
       "text": [
        "/var/seq_data/priming_exp/data/uc_files/all_readmap.uc  30.3%   \r"
       ]
      },
      {
       "output_type": "stream",
       "stream": "stdout",
       "text": [
        "/var/seq_data/priming_exp/data/uc_files/all_readmap.uc  30.3%   \r"
       ]
      },
      {
       "output_type": "stream",
       "stream": "stdout",
       "text": [
        "/var/seq_data/priming_exp/data/uc_files/all_readmap.uc  30.4%   \r"
       ]
      },
      {
       "output_type": "stream",
       "stream": "stdout",
       "text": [
        "/var/seq_data/priming_exp/data/uc_files/all_readmap.uc  30.4%   \r"
       ]
      },
      {
       "output_type": "stream",
       "stream": "stdout",
       "text": [
        "/var/seq_data/priming_exp/data/uc_files/all_readmap.uc  30.5%   \r"
       ]
      },
      {
       "output_type": "stream",
       "stream": "stdout",
       "text": [
        "/var/seq_data/priming_exp/data/uc_files/all_readmap.uc  30.5%   \r"
       ]
      },
      {
       "output_type": "stream",
       "stream": "stdout",
       "text": [
        "/var/seq_data/priming_exp/data/uc_files/all_readmap.uc  30.6%   \r"
       ]
      },
      {
       "output_type": "stream",
       "stream": "stdout",
       "text": [
        "/var/seq_data/priming_exp/data/uc_files/all_readmap.uc  30.6%   \r"
       ]
      },
      {
       "output_type": "stream",
       "stream": "stdout",
       "text": [
        "/var/seq_data/priming_exp/data/uc_files/all_readmap.uc  30.7%   \r"
       ]
      },
      {
       "output_type": "stream",
       "stream": "stdout",
       "text": [
        "/var/seq_data/priming_exp/data/uc_files/all_readmap.uc  30.7%   \r"
       ]
      },
      {
       "output_type": "stream",
       "stream": "stdout",
       "text": [
        "/var/seq_data/priming_exp/data/uc_files/all_readmap.uc  30.8%   \r"
       ]
      },
      {
       "output_type": "stream",
       "stream": "stdout",
       "text": [
        "/var/seq_data/priming_exp/data/uc_files/all_readmap.uc  30.8%   \r"
       ]
      },
      {
       "output_type": "stream",
       "stream": "stdout",
       "text": [
        "/var/seq_data/priming_exp/data/uc_files/all_readmap.uc  30.9%   \r"
       ]
      },
      {
       "output_type": "stream",
       "stream": "stdout",
       "text": [
        "/var/seq_data/priming_exp/data/uc_files/all_readmap.uc  30.9%   \r"
       ]
      },
      {
       "output_type": "stream",
       "stream": "stdout",
       "text": [
        "/var/seq_data/priming_exp/data/uc_files/all_readmap.uc  31.0%   \r"
       ]
      },
      {
       "output_type": "stream",
       "stream": "stdout",
       "text": [
        "/var/seq_data/priming_exp/data/uc_files/all_readmap.uc  31.0%   \r"
       ]
      },
      {
       "output_type": "stream",
       "stream": "stdout",
       "text": [
        "/var/seq_data/priming_exp/data/uc_files/all_readmap.uc  31.1%   \r"
       ]
      },
      {
       "output_type": "stream",
       "stream": "stdout",
       "text": [
        "/var/seq_data/priming_exp/data/uc_files/all_readmap.uc  31.1%   \r"
       ]
      },
      {
       "output_type": "stream",
       "stream": "stdout",
       "text": [
        "/var/seq_data/priming_exp/data/uc_files/all_readmap.uc  31.2%   \r"
       ]
      },
      {
       "output_type": "stream",
       "stream": "stdout",
       "text": [
        "/var/seq_data/priming_exp/data/uc_files/all_readmap.uc  31.2%   \r"
       ]
      },
      {
       "output_type": "stream",
       "stream": "stdout",
       "text": [
        "/var/seq_data/priming_exp/data/uc_files/all_readmap.uc  31.3%   \r"
       ]
      },
      {
       "output_type": "stream",
       "stream": "stdout",
       "text": [
        "/var/seq_data/priming_exp/data/uc_files/all_readmap.uc  31.3%   \r"
       ]
      },
      {
       "output_type": "stream",
       "stream": "stdout",
       "text": [
        "/var/seq_data/priming_exp/data/uc_files/all_readmap.uc  31.4%   \r"
       ]
      },
      {
       "output_type": "stream",
       "stream": "stdout",
       "text": [
        "/var/seq_data/priming_exp/data/uc_files/all_readmap.uc  31.4%   \r"
       ]
      },
      {
       "output_type": "stream",
       "stream": "stdout",
       "text": [
        "/var/seq_data/priming_exp/data/uc_files/all_readmap.uc  31.4%   \r"
       ]
      },
      {
       "output_type": "stream",
       "stream": "stdout",
       "text": [
        "/var/seq_data/priming_exp/data/uc_files/all_readmap.uc  31.5%   \r"
       ]
      },
      {
       "output_type": "stream",
       "stream": "stdout",
       "text": [
        "/var/seq_data/priming_exp/data/uc_files/all_readmap.uc  31.5%   \r"
       ]
      },
      {
       "output_type": "stream",
       "stream": "stdout",
       "text": [
        "/var/seq_data/priming_exp/data/uc_files/all_readmap.uc  31.6%   \r"
       ]
      },
      {
       "output_type": "stream",
       "stream": "stdout",
       "text": [
        "/var/seq_data/priming_exp/data/uc_files/all_readmap.uc  31.6%   \r"
       ]
      },
      {
       "output_type": "stream",
       "stream": "stdout",
       "text": [
        "/var/seq_data/priming_exp/data/uc_files/all_readmap.uc  31.7%   \r"
       ]
      },
      {
       "output_type": "stream",
       "stream": "stdout",
       "text": [
        "/var/seq_data/priming_exp/data/uc_files/all_readmap.uc  31.7%   \r"
       ]
      },
      {
       "output_type": "stream",
       "stream": "stdout",
       "text": [
        "/var/seq_data/priming_exp/data/uc_files/all_readmap.uc  31.8%   \r"
       ]
      },
      {
       "output_type": "stream",
       "stream": "stdout",
       "text": [
        "/var/seq_data/priming_exp/data/uc_files/all_readmap.uc  31.8%   \r"
       ]
      },
      {
       "output_type": "stream",
       "stream": "stdout",
       "text": [
        "/var/seq_data/priming_exp/data/uc_files/all_readmap.uc  31.9%   \r"
       ]
      },
      {
       "output_type": "stream",
       "stream": "stdout",
       "text": [
        "/var/seq_data/priming_exp/data/uc_files/all_readmap.uc  31.9%   \r"
       ]
      },
      {
       "output_type": "stream",
       "stream": "stdout",
       "text": [
        "/var/seq_data/priming_exp/data/uc_files/all_readmap.uc  32.0%   \r"
       ]
      },
      {
       "output_type": "stream",
       "stream": "stdout",
       "text": [
        "/var/seq_data/priming_exp/data/uc_files/all_readmap.uc  32.0%   \r"
       ]
      },
      {
       "output_type": "stream",
       "stream": "stdout",
       "text": [
        "/var/seq_data/priming_exp/data/uc_files/all_readmap.uc  32.1%   \r"
       ]
      },
      {
       "output_type": "stream",
       "stream": "stdout",
       "text": [
        "/var/seq_data/priming_exp/data/uc_files/all_readmap.uc  32.1%   \r"
       ]
      },
      {
       "output_type": "stream",
       "stream": "stdout",
       "text": [
        "/var/seq_data/priming_exp/data/uc_files/all_readmap.uc  32.1%   \r"
       ]
      },
      {
       "output_type": "stream",
       "stream": "stdout",
       "text": [
        "/var/seq_data/priming_exp/data/uc_files/all_readmap.uc  32.2%   \r"
       ]
      },
      {
       "output_type": "stream",
       "stream": "stdout",
       "text": [
        "/var/seq_data/priming_exp/data/uc_files/all_readmap.uc  32.2%   \r"
       ]
      },
      {
       "output_type": "stream",
       "stream": "stdout",
       "text": [
        "/var/seq_data/priming_exp/data/uc_files/all_readmap.uc  32.3%   \r"
       ]
      },
      {
       "output_type": "stream",
       "stream": "stdout",
       "text": [
        "/var/seq_data/priming_exp/data/uc_files/all_readmap.uc  32.3%   \r"
       ]
      },
      {
       "output_type": "stream",
       "stream": "stdout",
       "text": [
        "/var/seq_data/priming_exp/data/uc_files/all_readmap.uc  32.3%   \r"
       ]
      },
      {
       "output_type": "stream",
       "stream": "stdout",
       "text": [
        "/var/seq_data/priming_exp/data/uc_files/all_readmap.uc  32.4%   \r"
       ]
      },
      {
       "output_type": "stream",
       "stream": "stdout",
       "text": [
        "/var/seq_data/priming_exp/data/uc_files/all_readmap.uc  32.4%   \r"
       ]
      },
      {
       "output_type": "stream",
       "stream": "stdout",
       "text": [
        "/var/seq_data/priming_exp/data/uc_files/all_readmap.uc  32.4%   \r"
       ]
      },
      {
       "output_type": "stream",
       "stream": "stdout",
       "text": [
        "/var/seq_data/priming_exp/data/uc_files/all_readmap.uc  32.5%   \r"
       ]
      },
      {
       "output_type": "stream",
       "stream": "stdout",
       "text": [
        "/var/seq_data/priming_exp/data/uc_files/all_readmap.uc  32.5%   \r"
       ]
      },
      {
       "output_type": "stream",
       "stream": "stdout",
       "text": [
        "/var/seq_data/priming_exp/data/uc_files/all_readmap.uc  32.6%   \r"
       ]
      },
      {
       "output_type": "stream",
       "stream": "stdout",
       "text": [
        "/var/seq_data/priming_exp/data/uc_files/all_readmap.uc  32.6%   \r"
       ]
      },
      {
       "output_type": "stream",
       "stream": "stdout",
       "text": [
        "/var/seq_data/priming_exp/data/uc_files/all_readmap.uc  32.6%   \r"
       ]
      },
      {
       "output_type": "stream",
       "stream": "stdout",
       "text": [
        "/var/seq_data/priming_exp/data/uc_files/all_readmap.uc  32.7%   \r"
       ]
      },
      {
       "output_type": "stream",
       "stream": "stdout",
       "text": [
        "/var/seq_data/priming_exp/data/uc_files/all_readmap.uc  32.7%   \r"
       ]
      },
      {
       "output_type": "stream",
       "stream": "stdout",
       "text": [
        "/var/seq_data/priming_exp/data/uc_files/all_readmap.uc  32.7%   \r"
       ]
      },
      {
       "output_type": "stream",
       "stream": "stdout",
       "text": [
        "/var/seq_data/priming_exp/data/uc_files/all_readmap.uc  32.8%   \r"
       ]
      },
      {
       "output_type": "stream",
       "stream": "stdout",
       "text": [
        "/var/seq_data/priming_exp/data/uc_files/all_readmap.uc  32.8%   \r"
       ]
      },
      {
       "output_type": "stream",
       "stream": "stdout",
       "text": [
        "/var/seq_data/priming_exp/data/uc_files/all_readmap.uc  32.9%   \r"
       ]
      },
      {
       "output_type": "stream",
       "stream": "stdout",
       "text": [
        "/var/seq_data/priming_exp/data/uc_files/all_readmap.uc  32.9%   \r"
       ]
      },
      {
       "output_type": "stream",
       "stream": "stdout",
       "text": [
        "/var/seq_data/priming_exp/data/uc_files/all_readmap.uc  32.9%   \r"
       ]
      },
      {
       "output_type": "stream",
       "stream": "stdout",
       "text": [
        "/var/seq_data/priming_exp/data/uc_files/all_readmap.uc  33.0%   \r"
       ]
      },
      {
       "output_type": "stream",
       "stream": "stdout",
       "text": [
        "/var/seq_data/priming_exp/data/uc_files/all_readmap.uc  33.0%   \r"
       ]
      },
      {
       "output_type": "stream",
       "stream": "stdout",
       "text": [
        "/var/seq_data/priming_exp/data/uc_files/all_readmap.uc  33.0%   \r"
       ]
      },
      {
       "output_type": "stream",
       "stream": "stdout",
       "text": [
        "/var/seq_data/priming_exp/data/uc_files/all_readmap.uc  33.1%   \r"
       ]
      },
      {
       "output_type": "stream",
       "stream": "stdout",
       "text": [
        "/var/seq_data/priming_exp/data/uc_files/all_readmap.uc  33.1%   \r"
       ]
      },
      {
       "output_type": "stream",
       "stream": "stdout",
       "text": [
        "/var/seq_data/priming_exp/data/uc_files/all_readmap.uc  33.2%   \r"
       ]
      },
      {
       "output_type": "stream",
       "stream": "stdout",
       "text": [
        "/var/seq_data/priming_exp/data/uc_files/all_readmap.uc  33.2%   \r"
       ]
      },
      {
       "output_type": "stream",
       "stream": "stdout",
       "text": [
        "/var/seq_data/priming_exp/data/uc_files/all_readmap.uc  33.2%   \r"
       ]
      },
      {
       "output_type": "stream",
       "stream": "stdout",
       "text": [
        "/var/seq_data/priming_exp/data/uc_files/all_readmap.uc  33.3%   \r"
       ]
      },
      {
       "output_type": "stream",
       "stream": "stdout",
       "text": [
        "/var/seq_data/priming_exp/data/uc_files/all_readmap.uc  33.3%   \r"
       ]
      },
      {
       "output_type": "stream",
       "stream": "stdout",
       "text": [
        "/var/seq_data/priming_exp/data/uc_files/all_readmap.uc  33.3%   \r"
       ]
      },
      {
       "output_type": "stream",
       "stream": "stdout",
       "text": [
        "/var/seq_data/priming_exp/data/uc_files/all_readmap.uc  33.6%   \r"
       ]
      },
      {
       "output_type": "stream",
       "stream": "stdout",
       "text": [
        "/var/seq_data/priming_exp/data/uc_files/all_readmap.uc  33.8%   \r"
       ]
      },
      {
       "output_type": "stream",
       "stream": "stdout",
       "text": [
        "/var/seq_data/priming_exp/data/uc_files/all_readmap.uc  34.1%   \r"
       ]
      },
      {
       "output_type": "stream",
       "stream": "stdout",
       "text": [
        "/var/seq_data/priming_exp/data/uc_files/all_readmap.uc  34.3%   \r"
       ]
      },
      {
       "output_type": "stream",
       "stream": "stdout",
       "text": [
        "/var/seq_data/priming_exp/data/uc_files/all_readmap.uc  34.5%   \r"
       ]
      },
      {
       "output_type": "stream",
       "stream": "stdout",
       "text": [
        "/var/seq_data/priming_exp/data/uc_files/all_readmap.uc  34.7%   \r"
       ]
      },
      {
       "output_type": "stream",
       "stream": "stdout",
       "text": [
        "/var/seq_data/priming_exp/data/uc_files/all_readmap.uc  34.9%   \r"
       ]
      },
      {
       "output_type": "stream",
       "stream": "stdout",
       "text": [
        "/var/seq_data/priming_exp/data/uc_files/all_readmap.uc  35.1%   \r"
       ]
      },
      {
       "output_type": "stream",
       "stream": "stdout",
       "text": [
        "/var/seq_data/priming_exp/data/uc_files/all_readmap.uc  35.3%   \r"
       ]
      },
      {
       "output_type": "stream",
       "stream": "stdout",
       "text": [
        "/var/seq_data/priming_exp/data/uc_files/all_readmap.uc  35.4%   \r"
       ]
      },
      {
       "output_type": "stream",
       "stream": "stdout",
       "text": [
        "/var/seq_data/priming_exp/data/uc_files/all_readmap.uc  35.6%   \r"
       ]
      },
      {
       "output_type": "stream",
       "stream": "stdout",
       "text": [
        "/var/seq_data/priming_exp/data/uc_files/all_readmap.uc  35.8%   \r"
       ]
      },
      {
       "output_type": "stream",
       "stream": "stdout",
       "text": [
        "/var/seq_data/priming_exp/data/uc_files/all_readmap.uc  36.0%   \r"
       ]
      },
      {
       "output_type": "stream",
       "stream": "stdout",
       "text": [
        "/var/seq_data/priming_exp/data/uc_files/all_readmap.uc  36.1%   \r"
       ]
      },
      {
       "output_type": "stream",
       "stream": "stdout",
       "text": [
        "/var/seq_data/priming_exp/data/uc_files/all_readmap.uc  36.2%   \r"
       ]
      },
      {
       "output_type": "stream",
       "stream": "stdout",
       "text": [
        "/var/seq_data/priming_exp/data/uc_files/all_readmap.uc  36.3%   \r"
       ]
      },
      {
       "output_type": "stream",
       "stream": "stdout",
       "text": [
        "/var/seq_data/priming_exp/data/uc_files/all_readmap.uc  36.4%   \r"
       ]
      },
      {
       "output_type": "stream",
       "stream": "stdout",
       "text": [
        "/var/seq_data/priming_exp/data/uc_files/all_readmap.uc  36.5%   \r"
       ]
      },
      {
       "output_type": "stream",
       "stream": "stdout",
       "text": [
        "/var/seq_data/priming_exp/data/uc_files/all_readmap.uc  36.7%   \r"
       ]
      },
      {
       "output_type": "stream",
       "stream": "stdout",
       "text": [
        "/var/seq_data/priming_exp/data/uc_files/all_readmap.uc  36.8%   \r"
       ]
      },
      {
       "output_type": "stream",
       "stream": "stdout",
       "text": [
        "/var/seq_data/priming_exp/data/uc_files/all_readmap.uc  36.9%   \r"
       ]
      },
      {
       "output_type": "stream",
       "stream": "stdout",
       "text": [
        "/var/seq_data/priming_exp/data/uc_files/all_readmap.uc  37.0%   \r"
       ]
      },
      {
       "output_type": "stream",
       "stream": "stdout",
       "text": [
        "/var/seq_data/priming_exp/data/uc_files/all_readmap.uc  37.1%   \r"
       ]
      },
      {
       "output_type": "stream",
       "stream": "stdout",
       "text": [
        "/var/seq_data/priming_exp/data/uc_files/all_readmap.uc  37.3%   \r"
       ]
      },
      {
       "output_type": "stream",
       "stream": "stdout",
       "text": [
        "/var/seq_data/priming_exp/data/uc_files/all_readmap.uc  37.4%   \r"
       ]
      },
      {
       "output_type": "stream",
       "stream": "stdout",
       "text": [
        "/var/seq_data/priming_exp/data/uc_files/all_readmap.uc  37.5%   \r"
       ]
      },
      {
       "output_type": "stream",
       "stream": "stdout",
       "text": [
        "/var/seq_data/priming_exp/data/uc_files/all_readmap.uc  37.6%   \r"
       ]
      },
      {
       "output_type": "stream",
       "stream": "stdout",
       "text": [
        "/var/seq_data/priming_exp/data/uc_files/all_readmap.uc  37.7%   \r"
       ]
      },
      {
       "output_type": "stream",
       "stream": "stdout",
       "text": [
        "/var/seq_data/priming_exp/data/uc_files/all_readmap.uc  37.8%   \r"
       ]
      },
      {
       "output_type": "stream",
       "stream": "stdout",
       "text": [
        "/var/seq_data/priming_exp/data/uc_files/all_readmap.uc  38.0%   \r"
       ]
      },
      {
       "output_type": "stream",
       "stream": "stdout",
       "text": [
        "/var/seq_data/priming_exp/data/uc_files/all_readmap.uc  38.1%   \r"
       ]
      },
      {
       "output_type": "stream",
       "stream": "stdout",
       "text": [
        "/var/seq_data/priming_exp/data/uc_files/all_readmap.uc  38.2%   \r"
       ]
      },
      {
       "output_type": "stream",
       "stream": "stdout",
       "text": [
        "/var/seq_data/priming_exp/data/uc_files/all_readmap.uc  38.3%   \r"
       ]
      },
      {
       "output_type": "stream",
       "stream": "stdout",
       "text": [
        "/var/seq_data/priming_exp/data/uc_files/all_readmap.uc  38.4%   \r"
       ]
      },
      {
       "output_type": "stream",
       "stream": "stdout",
       "text": [
        "/var/seq_data/priming_exp/data/uc_files/all_readmap.uc  38.5%   \r"
       ]
      },
      {
       "output_type": "stream",
       "stream": "stdout",
       "text": [
        "/var/seq_data/priming_exp/data/uc_files/all_readmap.uc  38.7%   \r"
       ]
      },
      {
       "output_type": "stream",
       "stream": "stdout",
       "text": [
        "/var/seq_data/priming_exp/data/uc_files/all_readmap.uc  38.8%   \r"
       ]
      },
      {
       "output_type": "stream",
       "stream": "stdout",
       "text": [
        "/var/seq_data/priming_exp/data/uc_files/all_readmap.uc  38.9%   \r"
       ]
      },
      {
       "output_type": "stream",
       "stream": "stdout",
       "text": [
        "/var/seq_data/priming_exp/data/uc_files/all_readmap.uc  39.0%   \r"
       ]
      },
      {
       "output_type": "stream",
       "stream": "stdout",
       "text": [
        "/var/seq_data/priming_exp/data/uc_files/all_readmap.uc  39.1%   \r"
       ]
      },
      {
       "output_type": "stream",
       "stream": "stdout",
       "text": [
        "/var/seq_data/priming_exp/data/uc_files/all_readmap.uc  39.2%   \r"
       ]
      },
      {
       "output_type": "stream",
       "stream": "stdout",
       "text": [
        "/var/seq_data/priming_exp/data/uc_files/all_readmap.uc  39.4%   \r"
       ]
      },
      {
       "output_type": "stream",
       "stream": "stdout",
       "text": [
        "/var/seq_data/priming_exp/data/uc_files/all_readmap.uc  39.5%   \r"
       ]
      },
      {
       "output_type": "stream",
       "stream": "stdout",
       "text": [
        "/var/seq_data/priming_exp/data/uc_files/all_readmap.uc  39.6%   \r"
       ]
      },
      {
       "output_type": "stream",
       "stream": "stdout",
       "text": [
        "/var/seq_data/priming_exp/data/uc_files/all_readmap.uc  39.7%   \r"
       ]
      },
      {
       "output_type": "stream",
       "stream": "stdout",
       "text": [
        "/var/seq_data/priming_exp/data/uc_files/all_readmap.uc  39.8%   \r"
       ]
      },
      {
       "output_type": "stream",
       "stream": "stdout",
       "text": [
        "/var/seq_data/priming_exp/data/uc_files/all_readmap.uc  39.9%   \r"
       ]
      },
      {
       "output_type": "stream",
       "stream": "stdout",
       "text": [
        "/var/seq_data/priming_exp/data/uc_files/all_readmap.uc  40.1%   \r"
       ]
      },
      {
       "output_type": "stream",
       "stream": "stdout",
       "text": [
        "/var/seq_data/priming_exp/data/uc_files/all_readmap.uc  40.2%   \r"
       ]
      },
      {
       "output_type": "stream",
       "stream": "stdout",
       "text": [
        "/var/seq_data/priming_exp/data/uc_files/all_readmap.uc  40.3%   \r"
       ]
      },
      {
       "output_type": "stream",
       "stream": "stdout",
       "text": [
        "/var/seq_data/priming_exp/data/uc_files/all_readmap.uc  40.4%   \r"
       ]
      },
      {
       "output_type": "stream",
       "stream": "stdout",
       "text": [
        "/var/seq_data/priming_exp/data/uc_files/all_readmap.uc  40.5%   \r"
       ]
      },
      {
       "output_type": "stream",
       "stream": "stdout",
       "text": [
        "/var/seq_data/priming_exp/data/uc_files/all_readmap.uc  40.6%   \r"
       ]
      },
      {
       "output_type": "stream",
       "stream": "stdout",
       "text": [
        "/var/seq_data/priming_exp/data/uc_files/all_readmap.uc  40.8%   \r"
       ]
      },
      {
       "output_type": "stream",
       "stream": "stdout",
       "text": [
        "/var/seq_data/priming_exp/data/uc_files/all_readmap.uc  40.9%   \r"
       ]
      },
      {
       "output_type": "stream",
       "stream": "stdout",
       "text": [
        "/var/seq_data/priming_exp/data/uc_files/all_readmap.uc  41.0%   \r"
       ]
      },
      {
       "output_type": "stream",
       "stream": "stdout",
       "text": [
        "/var/seq_data/priming_exp/data/uc_files/all_readmap.uc  41.1%   \r"
       ]
      },
      {
       "output_type": "stream",
       "stream": "stdout",
       "text": [
        "/var/seq_data/priming_exp/data/uc_files/all_readmap.uc  41.2%   \r"
       ]
      },
      {
       "output_type": "stream",
       "stream": "stdout",
       "text": [
        "/var/seq_data/priming_exp/data/uc_files/all_readmap.uc  41.4%   \r"
       ]
      },
      {
       "output_type": "stream",
       "stream": "stdout",
       "text": [
        "/var/seq_data/priming_exp/data/uc_files/all_readmap.uc  41.5%   \r"
       ]
      },
      {
       "output_type": "stream",
       "stream": "stdout",
       "text": [
        "/var/seq_data/priming_exp/data/uc_files/all_readmap.uc  41.6%   \r"
       ]
      },
      {
       "output_type": "stream",
       "stream": "stdout",
       "text": [
        "/var/seq_data/priming_exp/data/uc_files/all_readmap.uc  41.7%   \r"
       ]
      },
      {
       "output_type": "stream",
       "stream": "stdout",
       "text": [
        "/var/seq_data/priming_exp/data/uc_files/all_readmap.uc  41.8%   \r"
       ]
      },
      {
       "output_type": "stream",
       "stream": "stdout",
       "text": [
        "/var/seq_data/priming_exp/data/uc_files/all_readmap.uc  41.9%   \r"
       ]
      },
      {
       "output_type": "stream",
       "stream": "stdout",
       "text": [
        "/var/seq_data/priming_exp/data/uc_files/all_readmap.uc  42.1%   \r"
       ]
      },
      {
       "output_type": "stream",
       "stream": "stdout",
       "text": [
        "/var/seq_data/priming_exp/data/uc_files/all_readmap.uc  42.2%   \r"
       ]
      },
      {
       "output_type": "stream",
       "stream": "stdout",
       "text": [
        "/var/seq_data/priming_exp/data/uc_files/all_readmap.uc  42.3%   \r"
       ]
      },
      {
       "output_type": "stream",
       "stream": "stdout",
       "text": [
        "/var/seq_data/priming_exp/data/uc_files/all_readmap.uc  42.4%   \r"
       ]
      },
      {
       "output_type": "stream",
       "stream": "stdout",
       "text": [
        "/var/seq_data/priming_exp/data/uc_files/all_readmap.uc  42.5%   \r"
       ]
      },
      {
       "output_type": "stream",
       "stream": "stdout",
       "text": [
        "/var/seq_data/priming_exp/data/uc_files/all_readmap.uc  42.6%   \r"
       ]
      },
      {
       "output_type": "stream",
       "stream": "stdout",
       "text": [
        "/var/seq_data/priming_exp/data/uc_files/all_readmap.uc  42.8%   \r"
       ]
      },
      {
       "output_type": "stream",
       "stream": "stdout",
       "text": [
        "/var/seq_data/priming_exp/data/uc_files/all_readmap.uc  42.8%   \r"
       ]
      },
      {
       "output_type": "stream",
       "stream": "stdout",
       "text": [
        "/var/seq_data/priming_exp/data/uc_files/all_readmap.uc  42.9%   \r"
       ]
      },
      {
       "output_type": "stream",
       "stream": "stdout",
       "text": [
        "/var/seq_data/priming_exp/data/uc_files/all_readmap.uc  43.0%   \r"
       ]
      },
      {
       "output_type": "stream",
       "stream": "stdout",
       "text": [
        "/var/seq_data/priming_exp/data/uc_files/all_readmap.uc  43.0%   \r"
       ]
      },
      {
       "output_type": "stream",
       "stream": "stdout",
       "text": [
        "/var/seq_data/priming_exp/data/uc_files/all_readmap.uc  43.1%   \r"
       ]
      },
      {
       "output_type": "stream",
       "stream": "stdout",
       "text": [
        "/var/seq_data/priming_exp/data/uc_files/all_readmap.uc  43.1%   \r"
       ]
      },
      {
       "output_type": "stream",
       "stream": "stdout",
       "text": [
        "/var/seq_data/priming_exp/data/uc_files/all_readmap.uc  43.2%   \r"
       ]
      },
      {
       "output_type": "stream",
       "stream": "stdout",
       "text": [
        "/var/seq_data/priming_exp/data/uc_files/all_readmap.uc  43.2%   \r"
       ]
      },
      {
       "output_type": "stream",
       "stream": "stdout",
       "text": [
        "/var/seq_data/priming_exp/data/uc_files/all_readmap.uc  43.3%   \r"
       ]
      },
      {
       "output_type": "stream",
       "stream": "stdout",
       "text": [
        "/var/seq_data/priming_exp/data/uc_files/all_readmap.uc  43.4%   \r"
       ]
      },
      {
       "output_type": "stream",
       "stream": "stdout",
       "text": [
        "/var/seq_data/priming_exp/data/uc_files/all_readmap.uc  43.4%   \r"
       ]
      },
      {
       "output_type": "stream",
       "stream": "stdout",
       "text": [
        "/var/seq_data/priming_exp/data/uc_files/all_readmap.uc  43.5%   \r"
       ]
      },
      {
       "output_type": "stream",
       "stream": "stdout",
       "text": [
        "/var/seq_data/priming_exp/data/uc_files/all_readmap.uc  43.5%   \r"
       ]
      },
      {
       "output_type": "stream",
       "stream": "stdout",
       "text": [
        "/var/seq_data/priming_exp/data/uc_files/all_readmap.uc  43.6%   \r"
       ]
      },
      {
       "output_type": "stream",
       "stream": "stdout",
       "text": [
        "/var/seq_data/priming_exp/data/uc_files/all_readmap.uc  43.6%   \r"
       ]
      },
      {
       "output_type": "stream",
       "stream": "stdout",
       "text": [
        "/var/seq_data/priming_exp/data/uc_files/all_readmap.uc  43.7%   \r"
       ]
      },
      {
       "output_type": "stream",
       "stream": "stdout",
       "text": [
        "/var/seq_data/priming_exp/data/uc_files/all_readmap.uc  43.8%   \r"
       ]
      },
      {
       "output_type": "stream",
       "stream": "stdout",
       "text": [
        "/var/seq_data/priming_exp/data/uc_files/all_readmap.uc  43.8%   \r"
       ]
      },
      {
       "output_type": "stream",
       "stream": "stdout",
       "text": [
        "/var/seq_data/priming_exp/data/uc_files/all_readmap.uc  43.9%   \r"
       ]
      },
      {
       "output_type": "stream",
       "stream": "stdout",
       "text": [
        "/var/seq_data/priming_exp/data/uc_files/all_readmap.uc  43.9%   \r"
       ]
      },
      {
       "output_type": "stream",
       "stream": "stdout",
       "text": [
        "/var/seq_data/priming_exp/data/uc_files/all_readmap.uc  44.0%   \r"
       ]
      },
      {
       "output_type": "stream",
       "stream": "stdout",
       "text": [
        "/var/seq_data/priming_exp/data/uc_files/all_readmap.uc  44.0%   \r"
       ]
      },
      {
       "output_type": "stream",
       "stream": "stdout",
       "text": [
        "/var/seq_data/priming_exp/data/uc_files/all_readmap.uc  44.1%   \r"
       ]
      },
      {
       "output_type": "stream",
       "stream": "stdout",
       "text": [
        "/var/seq_data/priming_exp/data/uc_files/all_readmap.uc  44.2%   \r"
       ]
      },
      {
       "output_type": "stream",
       "stream": "stdout",
       "text": [
        "/var/seq_data/priming_exp/data/uc_files/all_readmap.uc  44.2%   \r"
       ]
      },
      {
       "output_type": "stream",
       "stream": "stdout",
       "text": [
        "/var/seq_data/priming_exp/data/uc_files/all_readmap.uc  44.3%   \r"
       ]
      },
      {
       "output_type": "stream",
       "stream": "stdout",
       "text": [
        "/var/seq_data/priming_exp/data/uc_files/all_readmap.uc  44.3%   \r"
       ]
      },
      {
       "output_type": "stream",
       "stream": "stdout",
       "text": [
        "/var/seq_data/priming_exp/data/uc_files/all_readmap.uc  44.4%   \r"
       ]
      },
      {
       "output_type": "stream",
       "stream": "stdout",
       "text": [
        "/var/seq_data/priming_exp/data/uc_files/all_readmap.uc  44.4%   \r"
       ]
      },
      {
       "output_type": "stream",
       "stream": "stdout",
       "text": [
        "/var/seq_data/priming_exp/data/uc_files/all_readmap.uc  44.5%   \r"
       ]
      },
      {
       "output_type": "stream",
       "stream": "stdout",
       "text": [
        "/var/seq_data/priming_exp/data/uc_files/all_readmap.uc  44.6%   \r"
       ]
      },
      {
       "output_type": "stream",
       "stream": "stdout",
       "text": [
        "/var/seq_data/priming_exp/data/uc_files/all_readmap.uc  44.6%   \r"
       ]
      },
      {
       "output_type": "stream",
       "stream": "stdout",
       "text": [
        "/var/seq_data/priming_exp/data/uc_files/all_readmap.uc  44.7%   \r"
       ]
      },
      {
       "output_type": "stream",
       "stream": "stdout",
       "text": [
        "/var/seq_data/priming_exp/data/uc_files/all_readmap.uc  44.7%   \r"
       ]
      },
      {
       "output_type": "stream",
       "stream": "stdout",
       "text": [
        "/var/seq_data/priming_exp/data/uc_files/all_readmap.uc  44.8%   \r"
       ]
      },
      {
       "output_type": "stream",
       "stream": "stdout",
       "text": [
        "/var/seq_data/priming_exp/data/uc_files/all_readmap.uc  44.8%   \r"
       ]
      },
      {
       "output_type": "stream",
       "stream": "stdout",
       "text": [
        "/var/seq_data/priming_exp/data/uc_files/all_readmap.uc  44.9%   \r"
       ]
      },
      {
       "output_type": "stream",
       "stream": "stdout",
       "text": [
        "/var/seq_data/priming_exp/data/uc_files/all_readmap.uc  44.9%   \r"
       ]
      },
      {
       "output_type": "stream",
       "stream": "stdout",
       "text": [
        "/var/seq_data/priming_exp/data/uc_files/all_readmap.uc  45.0%   \r"
       ]
      },
      {
       "output_type": "stream",
       "stream": "stdout",
       "text": [
        "/var/seq_data/priming_exp/data/uc_files/all_readmap.uc  45.0%   \r"
       ]
      },
      {
       "output_type": "stream",
       "stream": "stdout",
       "text": [
        "/var/seq_data/priming_exp/data/uc_files/all_readmap.uc  45.1%   \r"
       ]
      },
      {
       "output_type": "stream",
       "stream": "stdout",
       "text": [
        "/var/seq_data/priming_exp/data/uc_files/all_readmap.uc  45.1%   \r"
       ]
      },
      {
       "output_type": "stream",
       "stream": "stdout",
       "text": [
        "/var/seq_data/priming_exp/data/uc_files/all_readmap.uc  45.2%   \r"
       ]
      },
      {
       "output_type": "stream",
       "stream": "stdout",
       "text": [
        "/var/seq_data/priming_exp/data/uc_files/all_readmap.uc  45.2%   \r"
       ]
      },
      {
       "output_type": "stream",
       "stream": "stdout",
       "text": [
        "/var/seq_data/priming_exp/data/uc_files/all_readmap.uc  45.3%   \r"
       ]
      },
      {
       "output_type": "stream",
       "stream": "stdout",
       "text": [
        "/var/seq_data/priming_exp/data/uc_files/all_readmap.uc  45.3%   \r"
       ]
      },
      {
       "output_type": "stream",
       "stream": "stdout",
       "text": [
        "/var/seq_data/priming_exp/data/uc_files/all_readmap.uc  45.4%   \r"
       ]
      },
      {
       "output_type": "stream",
       "stream": "stdout",
       "text": [
        "/var/seq_data/priming_exp/data/uc_files/all_readmap.uc  45.4%   \r"
       ]
      },
      {
       "output_type": "stream",
       "stream": "stdout",
       "text": [
        "/var/seq_data/priming_exp/data/uc_files/all_readmap.uc  45.5%   \r"
       ]
      },
      {
       "output_type": "stream",
       "stream": "stdout",
       "text": [
        "/var/seq_data/priming_exp/data/uc_files/all_readmap.uc  45.5%   \r"
       ]
      },
      {
       "output_type": "stream",
       "stream": "stdout",
       "text": [
        "/var/seq_data/priming_exp/data/uc_files/all_readmap.uc  45.6%   \r"
       ]
      },
      {
       "output_type": "stream",
       "stream": "stdout",
       "text": [
        "/var/seq_data/priming_exp/data/uc_files/all_readmap.uc  45.6%   \r"
       ]
      },
      {
       "output_type": "stream",
       "stream": "stdout",
       "text": [
        "/var/seq_data/priming_exp/data/uc_files/all_readmap.uc  45.7%   \r"
       ]
      },
      {
       "output_type": "stream",
       "stream": "stdout",
       "text": [
        "/var/seq_data/priming_exp/data/uc_files/all_readmap.uc  45.7%   \r"
       ]
      },
      {
       "output_type": "stream",
       "stream": "stdout",
       "text": [
        "/var/seq_data/priming_exp/data/uc_files/all_readmap.uc  45.8%   \r"
       ]
      },
      {
       "output_type": "stream",
       "stream": "stdout",
       "text": [
        "/var/seq_data/priming_exp/data/uc_files/all_readmap.uc  45.8%   \r"
       ]
      },
      {
       "output_type": "stream",
       "stream": "stdout",
       "text": [
        "/var/seq_data/priming_exp/data/uc_files/all_readmap.uc  45.9%   \r"
       ]
      },
      {
       "output_type": "stream",
       "stream": "stdout",
       "text": [
        "/var/seq_data/priming_exp/data/uc_files/all_readmap.uc  45.9%   \r"
       ]
      },
      {
       "output_type": "stream",
       "stream": "stdout",
       "text": [
        "/var/seq_data/priming_exp/data/uc_files/all_readmap.uc  46.0%   \r"
       ]
      },
      {
       "output_type": "stream",
       "stream": "stdout",
       "text": [
        "/var/seq_data/priming_exp/data/uc_files/all_readmap.uc  46.0%   \r"
       ]
      },
      {
       "output_type": "stream",
       "stream": "stdout",
       "text": [
        "/var/seq_data/priming_exp/data/uc_files/all_readmap.uc  46.0%   \r"
       ]
      },
      {
       "output_type": "stream",
       "stream": "stdout",
       "text": [
        "/var/seq_data/priming_exp/data/uc_files/all_readmap.uc  46.1%   \r"
       ]
      },
      {
       "output_type": "stream",
       "stream": "stdout",
       "text": [
        "/var/seq_data/priming_exp/data/uc_files/all_readmap.uc  46.1%   \r"
       ]
      },
      {
       "output_type": "stream",
       "stream": "stdout",
       "text": [
        "/var/seq_data/priming_exp/data/uc_files/all_readmap.uc  46.2%   \r"
       ]
      },
      {
       "output_type": "stream",
       "stream": "stdout",
       "text": [
        "/var/seq_data/priming_exp/data/uc_files/all_readmap.uc  46.2%   \r"
       ]
      },
      {
       "output_type": "stream",
       "stream": "stdout",
       "text": [
        "/var/seq_data/priming_exp/data/uc_files/all_readmap.uc  46.3%   \r"
       ]
      },
      {
       "output_type": "stream",
       "stream": "stdout",
       "text": [
        "/var/seq_data/priming_exp/data/uc_files/all_readmap.uc  46.3%   \r"
       ]
      },
      {
       "output_type": "stream",
       "stream": "stdout",
       "text": [
        "/var/seq_data/priming_exp/data/uc_files/all_readmap.uc  46.4%   \r"
       ]
      },
      {
       "output_type": "stream",
       "stream": "stdout",
       "text": [
        "/var/seq_data/priming_exp/data/uc_files/all_readmap.uc  46.4%   \r"
       ]
      },
      {
       "output_type": "stream",
       "stream": "stdout",
       "text": [
        "/var/seq_data/priming_exp/data/uc_files/all_readmap.uc  46.5%   \r"
       ]
      },
      {
       "output_type": "stream",
       "stream": "stdout",
       "text": [
        "/var/seq_data/priming_exp/data/uc_files/all_readmap.uc  46.5%   \r"
       ]
      },
      {
       "output_type": "stream",
       "stream": "stdout",
       "text": [
        "/var/seq_data/priming_exp/data/uc_files/all_readmap.uc  46.6%   \r"
       ]
      },
      {
       "output_type": "stream",
       "stream": "stdout",
       "text": [
        "/var/seq_data/priming_exp/data/uc_files/all_readmap.uc  46.6%   \r"
       ]
      },
      {
       "output_type": "stream",
       "stream": "stdout",
       "text": [
        "/var/seq_data/priming_exp/data/uc_files/all_readmap.uc  46.7%   \r"
       ]
      },
      {
       "output_type": "stream",
       "stream": "stdout",
       "text": [
        "/var/seq_data/priming_exp/data/uc_files/all_readmap.uc  46.7%   \r"
       ]
      },
      {
       "output_type": "stream",
       "stream": "stdout",
       "text": [
        "/var/seq_data/priming_exp/data/uc_files/all_readmap.uc  46.8%   \r"
       ]
      },
      {
       "output_type": "stream",
       "stream": "stdout",
       "text": [
        "/var/seq_data/priming_exp/data/uc_files/all_readmap.uc  46.8%   \r"
       ]
      },
      {
       "output_type": "stream",
       "stream": "stdout",
       "text": [
        "/var/seq_data/priming_exp/data/uc_files/all_readmap.uc  46.9%   \r"
       ]
      },
      {
       "output_type": "stream",
       "stream": "stdout",
       "text": [
        "/var/seq_data/priming_exp/data/uc_files/all_readmap.uc  46.9%   \r"
       ]
      },
      {
       "output_type": "stream",
       "stream": "stdout",
       "text": [
        "/var/seq_data/priming_exp/data/uc_files/all_readmap.uc  47.0%   \r"
       ]
      },
      {
       "output_type": "stream",
       "stream": "stdout",
       "text": [
        "/var/seq_data/priming_exp/data/uc_files/all_readmap.uc  47.0%   \r"
       ]
      },
      {
       "output_type": "stream",
       "stream": "stdout",
       "text": [
        "/var/seq_data/priming_exp/data/uc_files/all_readmap.uc  47.1%   \r"
       ]
      },
      {
       "output_type": "stream",
       "stream": "stdout",
       "text": [
        "/var/seq_data/priming_exp/data/uc_files/all_readmap.uc  47.1%   \r"
       ]
      },
      {
       "output_type": "stream",
       "stream": "stdout",
       "text": [
        "/var/seq_data/priming_exp/data/uc_files/all_readmap.uc  47.1%   \r"
       ]
      },
      {
       "output_type": "stream",
       "stream": "stdout",
       "text": [
        "/var/seq_data/priming_exp/data/uc_files/all_readmap.uc  47.2%   \r"
       ]
      },
      {
       "output_type": "stream",
       "stream": "stdout",
       "text": [
        "/var/seq_data/priming_exp/data/uc_files/all_readmap.uc  47.2%   \r"
       ]
      },
      {
       "output_type": "stream",
       "stream": "stdout",
       "text": [
        "/var/seq_data/priming_exp/data/uc_files/all_readmap.uc  47.3%   \r"
       ]
      },
      {
       "output_type": "stream",
       "stream": "stdout",
       "text": [
        "/var/seq_data/priming_exp/data/uc_files/all_readmap.uc  47.3%   \r"
       ]
      },
      {
       "output_type": "stream",
       "stream": "stdout",
       "text": [
        "/var/seq_data/priming_exp/data/uc_files/all_readmap.uc  47.4%   \r"
       ]
      },
      {
       "output_type": "stream",
       "stream": "stdout",
       "text": [
        "/var/seq_data/priming_exp/data/uc_files/all_readmap.uc  47.4%   \r"
       ]
      },
      {
       "output_type": "stream",
       "stream": "stdout",
       "text": [
        "/var/seq_data/priming_exp/data/uc_files/all_readmap.uc  47.5%   \r"
       ]
      },
      {
       "output_type": "stream",
       "stream": "stdout",
       "text": [
        "/var/seq_data/priming_exp/data/uc_files/all_readmap.uc  47.5%   \r"
       ]
      },
      {
       "output_type": "stream",
       "stream": "stdout",
       "text": [
        "/var/seq_data/priming_exp/data/uc_files/all_readmap.uc  47.6%   \r"
       ]
      },
      {
       "output_type": "stream",
       "stream": "stdout",
       "text": [
        "/var/seq_data/priming_exp/data/uc_files/all_readmap.uc  47.6%   \r"
       ]
      },
      {
       "output_type": "stream",
       "stream": "stdout",
       "text": [
        "/var/seq_data/priming_exp/data/uc_files/all_readmap.uc  47.7%   \r"
       ]
      },
      {
       "output_type": "stream",
       "stream": "stdout",
       "text": [
        "/var/seq_data/priming_exp/data/uc_files/all_readmap.uc  47.7%   \r"
       ]
      },
      {
       "output_type": "stream",
       "stream": "stdout",
       "text": [
        "/var/seq_data/priming_exp/data/uc_files/all_readmap.uc  47.8%   \r"
       ]
      },
      {
       "output_type": "stream",
       "stream": "stdout",
       "text": [
        "/var/seq_data/priming_exp/data/uc_files/all_readmap.uc  47.8%   \r"
       ]
      },
      {
       "output_type": "stream",
       "stream": "stdout",
       "text": [
        "/var/seq_data/priming_exp/data/uc_files/all_readmap.uc  47.9%   \r"
       ]
      },
      {
       "output_type": "stream",
       "stream": "stdout",
       "text": [
        "/var/seq_data/priming_exp/data/uc_files/all_readmap.uc  47.9%   \r"
       ]
      },
      {
       "output_type": "stream",
       "stream": "stdout",
       "text": [
        "/var/seq_data/priming_exp/data/uc_files/all_readmap.uc  48.0%   \r"
       ]
      },
      {
       "output_type": "stream",
       "stream": "stdout",
       "text": [
        "/var/seq_data/priming_exp/data/uc_files/all_readmap.uc  48.0%   \r"
       ]
      },
      {
       "output_type": "stream",
       "stream": "stdout",
       "text": [
        "/var/seq_data/priming_exp/data/uc_files/all_readmap.uc  48.1%   \r"
       ]
      },
      {
       "output_type": "stream",
       "stream": "stdout",
       "text": [
        "/var/seq_data/priming_exp/data/uc_files/all_readmap.uc  48.1%   \r"
       ]
      },
      {
       "output_type": "stream",
       "stream": "stdout",
       "text": [
        "/var/seq_data/priming_exp/data/uc_files/all_readmap.uc  48.2%   \r"
       ]
      },
      {
       "output_type": "stream",
       "stream": "stdout",
       "text": [
        "/var/seq_data/priming_exp/data/uc_files/all_readmap.uc  48.2%   \r"
       ]
      },
      {
       "output_type": "stream",
       "stream": "stdout",
       "text": [
        "/var/seq_data/priming_exp/data/uc_files/all_readmap.uc  48.3%   \r"
       ]
      },
      {
       "output_type": "stream",
       "stream": "stdout",
       "text": [
        "/var/seq_data/priming_exp/data/uc_files/all_readmap.uc  48.3%   \r"
       ]
      },
      {
       "output_type": "stream",
       "stream": "stdout",
       "text": [
        "/var/seq_data/priming_exp/data/uc_files/all_readmap.uc  48.4%   \r"
       ]
      },
      {
       "output_type": "stream",
       "stream": "stdout",
       "text": [
        "/var/seq_data/priming_exp/data/uc_files/all_readmap.uc  48.4%   \r"
       ]
      },
      {
       "output_type": "stream",
       "stream": "stdout",
       "text": [
        "/var/seq_data/priming_exp/data/uc_files/all_readmap.uc  48.4%   \r"
       ]
      },
      {
       "output_type": "stream",
       "stream": "stdout",
       "text": [
        "/var/seq_data/priming_exp/data/uc_files/all_readmap.uc  48.5%   \r"
       ]
      },
      {
       "output_type": "stream",
       "stream": "stdout",
       "text": [
        "/var/seq_data/priming_exp/data/uc_files/all_readmap.uc  48.5%   \r"
       ]
      },
      {
       "output_type": "stream",
       "stream": "stdout",
       "text": [
        "/var/seq_data/priming_exp/data/uc_files/all_readmap.uc  48.6%   \r"
       ]
      },
      {
       "output_type": "stream",
       "stream": "stdout",
       "text": [
        "/var/seq_data/priming_exp/data/uc_files/all_readmap.uc  48.6%   \r"
       ]
      },
      {
       "output_type": "stream",
       "stream": "stdout",
       "text": [
        "/var/seq_data/priming_exp/data/uc_files/all_readmap.uc  48.7%   \r"
       ]
      },
      {
       "output_type": "stream",
       "stream": "stdout",
       "text": [
        "/var/seq_data/priming_exp/data/uc_files/all_readmap.uc  48.7%   \r"
       ]
      },
      {
       "output_type": "stream",
       "stream": "stdout",
       "text": [
        "/var/seq_data/priming_exp/data/uc_files/all_readmap.uc  48.8%   \r"
       ]
      },
      {
       "output_type": "stream",
       "stream": "stdout",
       "text": [
        "/var/seq_data/priming_exp/data/uc_files/all_readmap.uc  48.8%   \r"
       ]
      },
      {
       "output_type": "stream",
       "stream": "stdout",
       "text": [
        "/var/seq_data/priming_exp/data/uc_files/all_readmap.uc  48.8%   \r"
       ]
      },
      {
       "output_type": "stream",
       "stream": "stdout",
       "text": [
        "/var/seq_data/priming_exp/data/uc_files/all_readmap.uc  48.9%   \r"
       ]
      },
      {
       "output_type": "stream",
       "stream": "stdout",
       "text": [
        "/var/seq_data/priming_exp/data/uc_files/all_readmap.uc  48.9%   \r"
       ]
      },
      {
       "output_type": "stream",
       "stream": "stdout",
       "text": [
        "/var/seq_data/priming_exp/data/uc_files/all_readmap.uc  49.0%   \r"
       ]
      },
      {
       "output_type": "stream",
       "stream": "stdout",
       "text": [
        "/var/seq_data/priming_exp/data/uc_files/all_readmap.uc  49.0%   \r"
       ]
      },
      {
       "output_type": "stream",
       "stream": "stdout",
       "text": [
        "/var/seq_data/priming_exp/data/uc_files/all_readmap.uc  49.0%   \r"
       ]
      },
      {
       "output_type": "stream",
       "stream": "stdout",
       "text": [
        "/var/seq_data/priming_exp/data/uc_files/all_readmap.uc  49.1%   \r"
       ]
      },
      {
       "output_type": "stream",
       "stream": "stdout",
       "text": [
        "/var/seq_data/priming_exp/data/uc_files/all_readmap.uc  49.1%   \r"
       ]
      },
      {
       "output_type": "stream",
       "stream": "stdout",
       "text": [
        "/var/seq_data/priming_exp/data/uc_files/all_readmap.uc  49.1%   \r"
       ]
      },
      {
       "output_type": "stream",
       "stream": "stdout",
       "text": [
        "/var/seq_data/priming_exp/data/uc_files/all_readmap.uc  49.2%   \r"
       ]
      },
      {
       "output_type": "stream",
       "stream": "stdout",
       "text": [
        "/var/seq_data/priming_exp/data/uc_files/all_readmap.uc  49.2%   \r"
       ]
      },
      {
       "output_type": "stream",
       "stream": "stdout",
       "text": [
        "/var/seq_data/priming_exp/data/uc_files/all_readmap.uc  49.3%   \r"
       ]
      },
      {
       "output_type": "stream",
       "stream": "stdout",
       "text": [
        "/var/seq_data/priming_exp/data/uc_files/all_readmap.uc  49.3%   \r"
       ]
      },
      {
       "output_type": "stream",
       "stream": "stdout",
       "text": [
        "/var/seq_data/priming_exp/data/uc_files/all_readmap.uc  49.3%   \r"
       ]
      },
      {
       "output_type": "stream",
       "stream": "stdout",
       "text": [
        "/var/seq_data/priming_exp/data/uc_files/all_readmap.uc  49.4%   \r"
       ]
      },
      {
       "output_type": "stream",
       "stream": "stdout",
       "text": [
        "/var/seq_data/priming_exp/data/uc_files/all_readmap.uc  49.4%   \r"
       ]
      },
      {
       "output_type": "stream",
       "stream": "stdout",
       "text": [
        "/var/seq_data/priming_exp/data/uc_files/all_readmap.uc  49.4%   \r"
       ]
      },
      {
       "output_type": "stream",
       "stream": "stdout",
       "text": [
        "/var/seq_data/priming_exp/data/uc_files/all_readmap.uc  49.5%   \r"
       ]
      },
      {
       "output_type": "stream",
       "stream": "stdout",
       "text": [
        "/var/seq_data/priming_exp/data/uc_files/all_readmap.uc  49.5%   \r"
       ]
      },
      {
       "output_type": "stream",
       "stream": "stdout",
       "text": [
        "/var/seq_data/priming_exp/data/uc_files/all_readmap.uc  49.6%   \r"
       ]
      },
      {
       "output_type": "stream",
       "stream": "stdout",
       "text": [
        "/var/seq_data/priming_exp/data/uc_files/all_readmap.uc  49.6%   \r"
       ]
      },
      {
       "output_type": "stream",
       "stream": "stdout",
       "text": [
        "/var/seq_data/priming_exp/data/uc_files/all_readmap.uc  49.6%   \r"
       ]
      },
      {
       "output_type": "stream",
       "stream": "stdout",
       "text": [
        "/var/seq_data/priming_exp/data/uc_files/all_readmap.uc  49.7%   \r"
       ]
      },
      {
       "output_type": "stream",
       "stream": "stdout",
       "text": [
        "/var/seq_data/priming_exp/data/uc_files/all_readmap.uc  49.7%   \r"
       ]
      },
      {
       "output_type": "stream",
       "stream": "stdout",
       "text": [
        "/var/seq_data/priming_exp/data/uc_files/all_readmap.uc  49.7%   \r"
       ]
      },
      {
       "output_type": "stream",
       "stream": "stdout",
       "text": [
        "/var/seq_data/priming_exp/data/uc_files/all_readmap.uc  49.8%   \r"
       ]
      },
      {
       "output_type": "stream",
       "stream": "stdout",
       "text": [
        "/var/seq_data/priming_exp/data/uc_files/all_readmap.uc  49.8%   \r"
       ]
      },
      {
       "output_type": "stream",
       "stream": "stdout",
       "text": [
        "/var/seq_data/priming_exp/data/uc_files/all_readmap.uc  49.9%   \r"
       ]
      },
      {
       "output_type": "stream",
       "stream": "stdout",
       "text": [
        "/var/seq_data/priming_exp/data/uc_files/all_readmap.uc  49.9%   \r"
       ]
      },
      {
       "output_type": "stream",
       "stream": "stdout",
       "text": [
        "/var/seq_data/priming_exp/data/uc_files/all_readmap.uc  49.9%   \r"
       ]
      },
      {
       "output_type": "stream",
       "stream": "stdout",
       "text": [
        "/var/seq_data/priming_exp/data/uc_files/all_readmap.uc  50.0%   \r"
       ]
      },
      {
       "output_type": "stream",
       "stream": "stdout",
       "text": [
        "/var/seq_data/priming_exp/data/uc_files/all_readmap.uc  50.0%   \r"
       ]
      },
      {
       "output_type": "stream",
       "stream": "stdout",
       "text": [
        "/var/seq_data/priming_exp/data/uc_files/all_readmap.uc  50.3%   \r"
       ]
      },
      {
       "output_type": "stream",
       "stream": "stdout",
       "text": [
        "/var/seq_data/priming_exp/data/uc_files/all_readmap.uc  50.5%   \r"
       ]
      },
      {
       "output_type": "stream",
       "stream": "stdout",
       "text": [
        "/var/seq_data/priming_exp/data/uc_files/all_readmap.uc  50.7%   \r"
       ]
      },
      {
       "output_type": "stream",
       "stream": "stdout",
       "text": [
        "/var/seq_data/priming_exp/data/uc_files/all_readmap.uc  51.0%   \r"
       ]
      },
      {
       "output_type": "stream",
       "stream": "stdout",
       "text": [
        "/var/seq_data/priming_exp/data/uc_files/all_readmap.uc  51.2%   \r"
       ]
      },
      {
       "output_type": "stream",
       "stream": "stdout",
       "text": [
        "/var/seq_data/priming_exp/data/uc_files/all_readmap.uc  51.4%   \r"
       ]
      },
      {
       "output_type": "stream",
       "stream": "stdout",
       "text": [
        "/var/seq_data/priming_exp/data/uc_files/all_readmap.uc  51.5%   \r"
       ]
      },
      {
       "output_type": "stream",
       "stream": "stdout",
       "text": [
        "/var/seq_data/priming_exp/data/uc_files/all_readmap.uc  51.7%   \r"
       ]
      },
      {
       "output_type": "stream",
       "stream": "stdout",
       "text": [
        "/var/seq_data/priming_exp/data/uc_files/all_readmap.uc  51.9%   \r"
       ]
      },
      {
       "output_type": "stream",
       "stream": "stdout",
       "text": [
        "/var/seq_data/priming_exp/data/uc_files/all_readmap.uc  52.1%   \r"
       ]
      },
      {
       "output_type": "stream",
       "stream": "stdout",
       "text": [
        "/var/seq_data/priming_exp/data/uc_files/all_readmap.uc  52.3%   \r"
       ]
      },
      {
       "output_type": "stream",
       "stream": "stdout",
       "text": [
        "/var/seq_data/priming_exp/data/uc_files/all_readmap.uc  52.5%   \r"
       ]
      },
      {
       "output_type": "stream",
       "stream": "stdout",
       "text": [
        "/var/seq_data/priming_exp/data/uc_files/all_readmap.uc  52.6%   \r"
       ]
      },
      {
       "output_type": "stream",
       "stream": "stdout",
       "text": [
        "/var/seq_data/priming_exp/data/uc_files/all_readmap.uc  52.7%   \r"
       ]
      },
      {
       "output_type": "stream",
       "stream": "stdout",
       "text": [
        "/var/seq_data/priming_exp/data/uc_files/all_readmap.uc  52.9%   \r"
       ]
      },
      {
       "output_type": "stream",
       "stream": "stdout",
       "text": [
        "/var/seq_data/priming_exp/data/uc_files/all_readmap.uc  53.0%   \r"
       ]
      },
      {
       "output_type": "stream",
       "stream": "stdout",
       "text": [
        "/var/seq_data/priming_exp/data/uc_files/all_readmap.uc  53.1%   \r"
       ]
      },
      {
       "output_type": "stream",
       "stream": "stdout",
       "text": [
        "/var/seq_data/priming_exp/data/uc_files/all_readmap.uc  53.2%   \r"
       ]
      },
      {
       "output_type": "stream",
       "stream": "stdout",
       "text": [
        "/var/seq_data/priming_exp/data/uc_files/all_readmap.uc  53.3%   \r"
       ]
      },
      {
       "output_type": "stream",
       "stream": "stdout",
       "text": [
        "/var/seq_data/priming_exp/data/uc_files/all_readmap.uc  53.5%   \r"
       ]
      },
      {
       "output_type": "stream",
       "stream": "stdout",
       "text": [
        "/var/seq_data/priming_exp/data/uc_files/all_readmap.uc  53.6%   \r"
       ]
      },
      {
       "output_type": "stream",
       "stream": "stdout",
       "text": [
        "/var/seq_data/priming_exp/data/uc_files/all_readmap.uc  53.7%   \r"
       ]
      },
      {
       "output_type": "stream",
       "stream": "stdout",
       "text": [
        "/var/seq_data/priming_exp/data/uc_files/all_readmap.uc  53.8%   \r"
       ]
      },
      {
       "output_type": "stream",
       "stream": "stdout",
       "text": [
        "/var/seq_data/priming_exp/data/uc_files/all_readmap.uc  53.9%   \r"
       ]
      },
      {
       "output_type": "stream",
       "stream": "stdout",
       "text": [
        "/var/seq_data/priming_exp/data/uc_files/all_readmap.uc  54.0%   \r"
       ]
      },
      {
       "output_type": "stream",
       "stream": "stdout",
       "text": [
        "/var/seq_data/priming_exp/data/uc_files/all_readmap.uc  54.2%   \r"
       ]
      },
      {
       "output_type": "stream",
       "stream": "stdout",
       "text": [
        "/var/seq_data/priming_exp/data/uc_files/all_readmap.uc  54.3%   \r"
       ]
      },
      {
       "output_type": "stream",
       "stream": "stdout",
       "text": [
        "/var/seq_data/priming_exp/data/uc_files/all_readmap.uc  54.4%   \r"
       ]
      },
      {
       "output_type": "stream",
       "stream": "stdout",
       "text": [
        "/var/seq_data/priming_exp/data/uc_files/all_readmap.uc  54.5%   \r"
       ]
      },
      {
       "output_type": "stream",
       "stream": "stdout",
       "text": [
        "/var/seq_data/priming_exp/data/uc_files/all_readmap.uc  54.6%   \r"
       ]
      },
      {
       "output_type": "stream",
       "stream": "stdout",
       "text": [
        "/var/seq_data/priming_exp/data/uc_files/all_readmap.uc  54.7%   \r"
       ]
      },
      {
       "output_type": "stream",
       "stream": "stdout",
       "text": [
        "/var/seq_data/priming_exp/data/uc_files/all_readmap.uc  54.9%   \r"
       ]
      },
      {
       "output_type": "stream",
       "stream": "stdout",
       "text": [
        "/var/seq_data/priming_exp/data/uc_files/all_readmap.uc  55.0%   \r"
       ]
      },
      {
       "output_type": "stream",
       "stream": "stdout",
       "text": [
        "/var/seq_data/priming_exp/data/uc_files/all_readmap.uc  55.1%   \r"
       ]
      },
      {
       "output_type": "stream",
       "stream": "stdout",
       "text": [
        "/var/seq_data/priming_exp/data/uc_files/all_readmap.uc  55.2%   \r"
       ]
      },
      {
       "output_type": "stream",
       "stream": "stdout",
       "text": [
        "/var/seq_data/priming_exp/data/uc_files/all_readmap.uc  55.3%   \r"
       ]
      },
      {
       "output_type": "stream",
       "stream": "stdout",
       "text": [
        "/var/seq_data/priming_exp/data/uc_files/all_readmap.uc  55.4%   \r"
       ]
      },
      {
       "output_type": "stream",
       "stream": "stdout",
       "text": [
        "/var/seq_data/priming_exp/data/uc_files/all_readmap.uc  55.6%   \r"
       ]
      },
      {
       "output_type": "stream",
       "stream": "stdout",
       "text": [
        "/var/seq_data/priming_exp/data/uc_files/all_readmap.uc  55.7%   \r"
       ]
      },
      {
       "output_type": "stream",
       "stream": "stdout",
       "text": [
        "/var/seq_data/priming_exp/data/uc_files/all_readmap.uc  55.8%   \r"
       ]
      },
      {
       "output_type": "stream",
       "stream": "stdout",
       "text": [
        "/var/seq_data/priming_exp/data/uc_files/all_readmap.uc  55.9%   \r"
       ]
      },
      {
       "output_type": "stream",
       "stream": "stdout",
       "text": [
        "/var/seq_data/priming_exp/data/uc_files/all_readmap.uc  56.0%   \r"
       ]
      },
      {
       "output_type": "stream",
       "stream": "stdout",
       "text": [
        "/var/seq_data/priming_exp/data/uc_files/all_readmap.uc  56.1%   \r"
       ]
      },
      {
       "output_type": "stream",
       "stream": "stdout",
       "text": [
        "/var/seq_data/priming_exp/data/uc_files/all_readmap.uc  56.3%   \r"
       ]
      },
      {
       "output_type": "stream",
       "stream": "stdout",
       "text": [
        "/var/seq_data/priming_exp/data/uc_files/all_readmap.uc  56.4%   \r"
       ]
      },
      {
       "output_type": "stream",
       "stream": "stdout",
       "text": [
        "/var/seq_data/priming_exp/data/uc_files/all_readmap.uc  56.5%   \r"
       ]
      },
      {
       "output_type": "stream",
       "stream": "stdout",
       "text": [
        "/var/seq_data/priming_exp/data/uc_files/all_readmap.uc  56.6%   \r"
       ]
      },
      {
       "output_type": "stream",
       "stream": "stdout",
       "text": [
        "/var/seq_data/priming_exp/data/uc_files/all_readmap.uc  56.7%   \r"
       ]
      },
      {
       "output_type": "stream",
       "stream": "stdout",
       "text": [
        "/var/seq_data/priming_exp/data/uc_files/all_readmap.uc  56.9%   \r"
       ]
      },
      {
       "output_type": "stream",
       "stream": "stdout",
       "text": [
        "/var/seq_data/priming_exp/data/uc_files/all_readmap.uc  57.0%   \r"
       ]
      },
      {
       "output_type": "stream",
       "stream": "stdout",
       "text": [
        "/var/seq_data/priming_exp/data/uc_files/all_readmap.uc  57.1%   \r"
       ]
      },
      {
       "output_type": "stream",
       "stream": "stdout",
       "text": [
        "/var/seq_data/priming_exp/data/uc_files/all_readmap.uc  57.2%   \r"
       ]
      },
      {
       "output_type": "stream",
       "stream": "stdout",
       "text": [
        "/var/seq_data/priming_exp/data/uc_files/all_readmap.uc  57.3%   \r"
       ]
      },
      {
       "output_type": "stream",
       "stream": "stdout",
       "text": [
        "/var/seq_data/priming_exp/data/uc_files/all_readmap.uc  57.5%   \r"
       ]
      },
      {
       "output_type": "stream",
       "stream": "stdout",
       "text": [
        "/var/seq_data/priming_exp/data/uc_files/all_readmap.uc  57.6%   \r"
       ]
      },
      {
       "output_type": "stream",
       "stream": "stdout",
       "text": [
        "/var/seq_data/priming_exp/data/uc_files/all_readmap.uc  57.7%   \r"
       ]
      },
      {
       "output_type": "stream",
       "stream": "stdout",
       "text": [
        "/var/seq_data/priming_exp/data/uc_files/all_readmap.uc  57.8%   \r"
       ]
      },
      {
       "output_type": "stream",
       "stream": "stdout",
       "text": [
        "/var/seq_data/priming_exp/data/uc_files/all_readmap.uc  57.9%   \r"
       ]
      },
      {
       "output_type": "stream",
       "stream": "stdout",
       "text": [
        "/var/seq_data/priming_exp/data/uc_files/all_readmap.uc  58.0%   \r"
       ]
      },
      {
       "output_type": "stream",
       "stream": "stdout",
       "text": [
        "/var/seq_data/priming_exp/data/uc_files/all_readmap.uc  58.2%   \r"
       ]
      },
      {
       "output_type": "stream",
       "stream": "stdout",
       "text": [
        "/var/seq_data/priming_exp/data/uc_files/all_readmap.uc  58.3%   \r"
       ]
      },
      {
       "output_type": "stream",
       "stream": "stdout",
       "text": [
        "/var/seq_data/priming_exp/data/uc_files/all_readmap.uc  58.4%   \r"
       ]
      },
      {
       "output_type": "stream",
       "stream": "stdout",
       "text": [
        "/var/seq_data/priming_exp/data/uc_files/all_readmap.uc  58.5%   \r"
       ]
      },
      {
       "output_type": "stream",
       "stream": "stdout",
       "text": [
        "/var/seq_data/priming_exp/data/uc_files/all_readmap.uc  58.6%   \r"
       ]
      },
      {
       "output_type": "stream",
       "stream": "stdout",
       "text": [
        "/var/seq_data/priming_exp/data/uc_files/all_readmap.uc  58.7%   \r"
       ]
      },
      {
       "output_type": "stream",
       "stream": "stdout",
       "text": [
        "/var/seq_data/priming_exp/data/uc_files/all_readmap.uc  58.9%   \r"
       ]
      },
      {
       "output_type": "stream",
       "stream": "stdout",
       "text": [
        "/var/seq_data/priming_exp/data/uc_files/all_readmap.uc  59.0%   \r"
       ]
      },
      {
       "output_type": "stream",
       "stream": "stdout",
       "text": [
        "/var/seq_data/priming_exp/data/uc_files/all_readmap.uc  59.1%   \r"
       ]
      },
      {
       "output_type": "stream",
       "stream": "stdout",
       "text": [
        "/var/seq_data/priming_exp/data/uc_files/all_readmap.uc  59.2%   \r"
       ]
      },
      {
       "output_type": "stream",
       "stream": "stdout",
       "text": [
        "/var/seq_data/priming_exp/data/uc_files/all_readmap.uc  59.3%   \r"
       ]
      },
      {
       "output_type": "stream",
       "stream": "stdout",
       "text": [
        "/var/seq_data/priming_exp/data/uc_files/all_readmap.uc  59.5%   \r"
       ]
      },
      {
       "output_type": "stream",
       "stream": "stdout",
       "text": [
        "/var/seq_data/priming_exp/data/uc_files/all_readmap.uc  59.5%   \r"
       ]
      },
      {
       "output_type": "stream",
       "stream": "stdout",
       "text": [
        "/var/seq_data/priming_exp/data/uc_files/all_readmap.uc  59.6%   \r"
       ]
      },
      {
       "output_type": "stream",
       "stream": "stdout",
       "text": [
        "/var/seq_data/priming_exp/data/uc_files/all_readmap.uc  59.7%   \r"
       ]
      },
      {
       "output_type": "stream",
       "stream": "stdout",
       "text": [
        "/var/seq_data/priming_exp/data/uc_files/all_readmap.uc  59.7%   \r"
       ]
      },
      {
       "output_type": "stream",
       "stream": "stdout",
       "text": [
        "/var/seq_data/priming_exp/data/uc_files/all_readmap.uc  59.8%   \r"
       ]
      },
      {
       "output_type": "stream",
       "stream": "stdout",
       "text": [
        "/var/seq_data/priming_exp/data/uc_files/all_readmap.uc  59.8%   \r"
       ]
      },
      {
       "output_type": "stream",
       "stream": "stdout",
       "text": [
        "/var/seq_data/priming_exp/data/uc_files/all_readmap.uc  59.9%   \r"
       ]
      },
      {
       "output_type": "stream",
       "stream": "stdout",
       "text": [
        "/var/seq_data/priming_exp/data/uc_files/all_readmap.uc  59.9%   \r"
       ]
      },
      {
       "output_type": "stream",
       "stream": "stdout",
       "text": [
        "/var/seq_data/priming_exp/data/uc_files/all_readmap.uc  60.0%   \r"
       ]
      },
      {
       "output_type": "stream",
       "stream": "stdout",
       "text": [
        "/var/seq_data/priming_exp/data/uc_files/all_readmap.uc  60.1%   \r"
       ]
      },
      {
       "output_type": "stream",
       "stream": "stdout",
       "text": [
        "/var/seq_data/priming_exp/data/uc_files/all_readmap.uc  60.1%   \r"
       ]
      },
      {
       "output_type": "stream",
       "stream": "stdout",
       "text": [
        "/var/seq_data/priming_exp/data/uc_files/all_readmap.uc  60.2%   \r"
       ]
      },
      {
       "output_type": "stream",
       "stream": "stdout",
       "text": [
        "/var/seq_data/priming_exp/data/uc_files/all_readmap.uc  60.2%   \r"
       ]
      },
      {
       "output_type": "stream",
       "stream": "stdout",
       "text": [
        "/var/seq_data/priming_exp/data/uc_files/all_readmap.uc  60.3%   \r"
       ]
      },
      {
       "output_type": "stream",
       "stream": "stdout",
       "text": [
        "/var/seq_data/priming_exp/data/uc_files/all_readmap.uc  60.3%   \r"
       ]
      },
      {
       "output_type": "stream",
       "stream": "stdout",
       "text": [
        "/var/seq_data/priming_exp/data/uc_files/all_readmap.uc  60.4%   \r"
       ]
      },
      {
       "output_type": "stream",
       "stream": "stdout",
       "text": [
        "/var/seq_data/priming_exp/data/uc_files/all_readmap.uc  60.4%   \r"
       ]
      },
      {
       "output_type": "stream",
       "stream": "stdout",
       "text": [
        "/var/seq_data/priming_exp/data/uc_files/all_readmap.uc  60.5%   \r"
       ]
      },
      {
       "output_type": "stream",
       "stream": "stdout",
       "text": [
        "/var/seq_data/priming_exp/data/uc_files/all_readmap.uc  60.6%   \r"
       ]
      },
      {
       "output_type": "stream",
       "stream": "stdout",
       "text": [
        "/var/seq_data/priming_exp/data/uc_files/all_readmap.uc  60.6%   \r"
       ]
      },
      {
       "output_type": "stream",
       "stream": "stdout",
       "text": [
        "/var/seq_data/priming_exp/data/uc_files/all_readmap.uc  60.7%   \r"
       ]
      },
      {
       "output_type": "stream",
       "stream": "stdout",
       "text": [
        "/var/seq_data/priming_exp/data/uc_files/all_readmap.uc  60.7%   \r"
       ]
      },
      {
       "output_type": "stream",
       "stream": "stdout",
       "text": [
        "/var/seq_data/priming_exp/data/uc_files/all_readmap.uc  60.8%   \r"
       ]
      },
      {
       "output_type": "stream",
       "stream": "stdout",
       "text": [
        "/var/seq_data/priming_exp/data/uc_files/all_readmap.uc  60.8%   \r"
       ]
      },
      {
       "output_type": "stream",
       "stream": "stdout",
       "text": [
        "/var/seq_data/priming_exp/data/uc_files/all_readmap.uc  60.9%   \r"
       ]
      },
      {
       "output_type": "stream",
       "stream": "stdout",
       "text": [
        "/var/seq_data/priming_exp/data/uc_files/all_readmap.uc  61.0%   \r"
       ]
      },
      {
       "output_type": "stream",
       "stream": "stdout",
       "text": [
        "/var/seq_data/priming_exp/data/uc_files/all_readmap.uc  61.0%   \r"
       ]
      },
      {
       "output_type": "stream",
       "stream": "stdout",
       "text": [
        "/var/seq_data/priming_exp/data/uc_files/all_readmap.uc  61.1%   \r"
       ]
      },
      {
       "output_type": "stream",
       "stream": "stdout",
       "text": [
        "/var/seq_data/priming_exp/data/uc_files/all_readmap.uc  61.1%   \r"
       ]
      },
      {
       "output_type": "stream",
       "stream": "stdout",
       "text": [
        "/var/seq_data/priming_exp/data/uc_files/all_readmap.uc  61.2%   \r"
       ]
      },
      {
       "output_type": "stream",
       "stream": "stdout",
       "text": [
        "/var/seq_data/priming_exp/data/uc_files/all_readmap.uc  61.2%   \r"
       ]
      },
      {
       "output_type": "stream",
       "stream": "stdout",
       "text": [
        "/var/seq_data/priming_exp/data/uc_files/all_readmap.uc  61.3%   \r"
       ]
      },
      {
       "output_type": "stream",
       "stream": "stdout",
       "text": [
        "/var/seq_data/priming_exp/data/uc_files/all_readmap.uc  61.4%   \r"
       ]
      },
      {
       "output_type": "stream",
       "stream": "stdout",
       "text": [
        "/var/seq_data/priming_exp/data/uc_files/all_readmap.uc  61.4%   \r"
       ]
      },
      {
       "output_type": "stream",
       "stream": "stdout",
       "text": [
        "/var/seq_data/priming_exp/data/uc_files/all_readmap.uc  61.5%   \r"
       ]
      },
      {
       "output_type": "stream",
       "stream": "stdout",
       "text": [
        "/var/seq_data/priming_exp/data/uc_files/all_readmap.uc  61.5%   \r"
       ]
      },
      {
       "output_type": "stream",
       "stream": "stdout",
       "text": [
        "/var/seq_data/priming_exp/data/uc_files/all_readmap.uc  61.6%   \r"
       ]
      },
      {
       "output_type": "stream",
       "stream": "stdout",
       "text": [
        "/var/seq_data/priming_exp/data/uc_files/all_readmap.uc  61.6%   \r"
       ]
      },
      {
       "output_type": "stream",
       "stream": "stdout",
       "text": [
        "/var/seq_data/priming_exp/data/uc_files/all_readmap.uc  61.7%   \r"
       ]
      },
      {
       "output_type": "stream",
       "stream": "stdout",
       "text": [
        "/var/seq_data/priming_exp/data/uc_files/all_readmap.uc  61.7%   \r"
       ]
      },
      {
       "output_type": "stream",
       "stream": "stdout",
       "text": [
        "/var/seq_data/priming_exp/data/uc_files/all_readmap.uc  61.8%   \r"
       ]
      },
      {
       "output_type": "stream",
       "stream": "stdout",
       "text": [
        "/var/seq_data/priming_exp/data/uc_files/all_readmap.uc  61.8%   \r"
       ]
      },
      {
       "output_type": "stream",
       "stream": "stdout",
       "text": [
        "/var/seq_data/priming_exp/data/uc_files/all_readmap.uc  61.9%   \r"
       ]
      },
      {
       "output_type": "stream",
       "stream": "stdout",
       "text": [
        "/var/seq_data/priming_exp/data/uc_files/all_readmap.uc  61.9%   \r"
       ]
      },
      {
       "output_type": "stream",
       "stream": "stdout",
       "text": [
        "/var/seq_data/priming_exp/data/uc_files/all_readmap.uc  62.0%   \r"
       ]
      },
      {
       "output_type": "stream",
       "stream": "stdout",
       "text": [
        "/var/seq_data/priming_exp/data/uc_files/all_readmap.uc  62.0%   \r"
       ]
      },
      {
       "output_type": "stream",
       "stream": "stdout",
       "text": [
        "/var/seq_data/priming_exp/data/uc_files/all_readmap.uc  62.1%   \r"
       ]
      },
      {
       "output_type": "stream",
       "stream": "stdout",
       "text": [
        "/var/seq_data/priming_exp/data/uc_files/all_readmap.uc  62.1%   \r"
       ]
      },
      {
       "output_type": "stream",
       "stream": "stdout",
       "text": [
        "/var/seq_data/priming_exp/data/uc_files/all_readmap.uc  62.2%   \r"
       ]
      },
      {
       "output_type": "stream",
       "stream": "stdout",
       "text": [
        "/var/seq_data/priming_exp/data/uc_files/all_readmap.uc  62.2%   \r"
       ]
      },
      {
       "output_type": "stream",
       "stream": "stdout",
       "text": [
        "/var/seq_data/priming_exp/data/uc_files/all_readmap.uc  62.3%   \r"
       ]
      },
      {
       "output_type": "stream",
       "stream": "stdout",
       "text": [
        "/var/seq_data/priming_exp/data/uc_files/all_readmap.uc  62.3%   \r"
       ]
      },
      {
       "output_type": "stream",
       "stream": "stdout",
       "text": [
        "/var/seq_data/priming_exp/data/uc_files/all_readmap.uc  62.4%   \r"
       ]
      },
      {
       "output_type": "stream",
       "stream": "stdout",
       "text": [
        "/var/seq_data/priming_exp/data/uc_files/all_readmap.uc  62.4%   \r"
       ]
      },
      {
       "output_type": "stream",
       "stream": "stdout",
       "text": [
        "/var/seq_data/priming_exp/data/uc_files/all_readmap.uc  62.4%   \r"
       ]
      },
      {
       "output_type": "stream",
       "stream": "stdout",
       "text": [
        "/var/seq_data/priming_exp/data/uc_files/all_readmap.uc  62.5%   \r"
       ]
      },
      {
       "output_type": "stream",
       "stream": "stdout",
       "text": [
        "/var/seq_data/priming_exp/data/uc_files/all_readmap.uc  62.5%   \r"
       ]
      },
      {
       "output_type": "stream",
       "stream": "stdout",
       "text": [
        "/var/seq_data/priming_exp/data/uc_files/all_readmap.uc  62.6%   \r"
       ]
      },
      {
       "output_type": "stream",
       "stream": "stdout",
       "text": [
        "/var/seq_data/priming_exp/data/uc_files/all_readmap.uc  62.6%   \r"
       ]
      },
      {
       "output_type": "stream",
       "stream": "stdout",
       "text": [
        "/var/seq_data/priming_exp/data/uc_files/all_readmap.uc  62.7%   \r"
       ]
      },
      {
       "output_type": "stream",
       "stream": "stdout",
       "text": [
        "/var/seq_data/priming_exp/data/uc_files/all_readmap.uc  62.7%   \r"
       ]
      },
      {
       "output_type": "stream",
       "stream": "stdout",
       "text": [
        "/var/seq_data/priming_exp/data/uc_files/all_readmap.uc  62.8%   \r"
       ]
      },
      {
       "output_type": "stream",
       "stream": "stdout",
       "text": [
        "/var/seq_data/priming_exp/data/uc_files/all_readmap.uc  62.8%   \r"
       ]
      },
      {
       "output_type": "stream",
       "stream": "stdout",
       "text": [
        "/var/seq_data/priming_exp/data/uc_files/all_readmap.uc  62.9%   \r"
       ]
      },
      {
       "output_type": "stream",
       "stream": "stdout",
       "text": [
        "/var/seq_data/priming_exp/data/uc_files/all_readmap.uc  62.9%   \r"
       ]
      },
      {
       "output_type": "stream",
       "stream": "stdout",
       "text": [
        "/var/seq_data/priming_exp/data/uc_files/all_readmap.uc  63.0%   \r"
       ]
      },
      {
       "output_type": "stream",
       "stream": "stdout",
       "text": [
        "/var/seq_data/priming_exp/data/uc_files/all_readmap.uc  63.0%   \r"
       ]
      },
      {
       "output_type": "stream",
       "stream": "stdout",
       "text": [
        "/var/seq_data/priming_exp/data/uc_files/all_readmap.uc  63.1%   \r"
       ]
      },
      {
       "output_type": "stream",
       "stream": "stdout",
       "text": [
        "/var/seq_data/priming_exp/data/uc_files/all_readmap.uc  63.1%   \r"
       ]
      },
      {
       "output_type": "stream",
       "stream": "stdout",
       "text": [
        "/var/seq_data/priming_exp/data/uc_files/all_readmap.uc  63.2%   \r"
       ]
      },
      {
       "output_type": "stream",
       "stream": "stdout",
       "text": [
        "/var/seq_data/priming_exp/data/uc_files/all_readmap.uc  63.2%   \r"
       ]
      },
      {
       "output_type": "stream",
       "stream": "stdout",
       "text": [
        "/var/seq_data/priming_exp/data/uc_files/all_readmap.uc  63.3%   \r"
       ]
      },
      {
       "output_type": "stream",
       "stream": "stdout",
       "text": [
        "/var/seq_data/priming_exp/data/uc_files/all_readmap.uc  63.3%   \r"
       ]
      },
      {
       "output_type": "stream",
       "stream": "stdout",
       "text": [
        "/var/seq_data/priming_exp/data/uc_files/all_readmap.uc  63.4%   \r"
       ]
      },
      {
       "output_type": "stream",
       "stream": "stdout",
       "text": [
        "/var/seq_data/priming_exp/data/uc_files/all_readmap.uc  63.4%   \r"
       ]
      },
      {
       "output_type": "stream",
       "stream": "stdout",
       "text": [
        "/var/seq_data/priming_exp/data/uc_files/all_readmap.uc  63.4%   \r"
       ]
      },
      {
       "output_type": "stream",
       "stream": "stdout",
       "text": [
        "/var/seq_data/priming_exp/data/uc_files/all_readmap.uc  63.5%   \r"
       ]
      },
      {
       "output_type": "stream",
       "stream": "stdout",
       "text": [
        "/var/seq_data/priming_exp/data/uc_files/all_readmap.uc  63.5%   \r"
       ]
      },
      {
       "output_type": "stream",
       "stream": "stdout",
       "text": [
        "/var/seq_data/priming_exp/data/uc_files/all_readmap.uc  63.6%   \r"
       ]
      },
      {
       "output_type": "stream",
       "stream": "stdout",
       "text": [
        "/var/seq_data/priming_exp/data/uc_files/all_readmap.uc  63.6%   \r"
       ]
      },
      {
       "output_type": "stream",
       "stream": "stdout",
       "text": [
        "/var/seq_data/priming_exp/data/uc_files/all_readmap.uc  63.7%   \r"
       ]
      },
      {
       "output_type": "stream",
       "stream": "stdout",
       "text": [
        "/var/seq_data/priming_exp/data/uc_files/all_readmap.uc  63.7%   \r"
       ]
      },
      {
       "output_type": "stream",
       "stream": "stdout",
       "text": [
        "/var/seq_data/priming_exp/data/uc_files/all_readmap.uc  63.8%   \r"
       ]
      },
      {
       "output_type": "stream",
       "stream": "stdout",
       "text": [
        "/var/seq_data/priming_exp/data/uc_files/all_readmap.uc  63.8%   \r"
       ]
      },
      {
       "output_type": "stream",
       "stream": "stdout",
       "text": [
        "/var/seq_data/priming_exp/data/uc_files/all_readmap.uc  63.9%   \r"
       ]
      },
      {
       "output_type": "stream",
       "stream": "stdout",
       "text": [
        "/var/seq_data/priming_exp/data/uc_files/all_readmap.uc  63.9%   \r"
       ]
      },
      {
       "output_type": "stream",
       "stream": "stdout",
       "text": [
        "/var/seq_data/priming_exp/data/uc_files/all_readmap.uc  64.0%   \r"
       ]
      },
      {
       "output_type": "stream",
       "stream": "stdout",
       "text": [
        "/var/seq_data/priming_exp/data/uc_files/all_readmap.uc  64.0%   \r"
       ]
      },
      {
       "output_type": "stream",
       "stream": "stdout",
       "text": [
        "/var/seq_data/priming_exp/data/uc_files/all_readmap.uc  64.1%   \r"
       ]
      },
      {
       "output_type": "stream",
       "stream": "stdout",
       "text": [
        "/var/seq_data/priming_exp/data/uc_files/all_readmap.uc  64.1%   \r"
       ]
      },
      {
       "output_type": "stream",
       "stream": "stdout",
       "text": [
        "/var/seq_data/priming_exp/data/uc_files/all_readmap.uc  64.2%   \r"
       ]
      },
      {
       "output_type": "stream",
       "stream": "stdout",
       "text": [
        "/var/seq_data/priming_exp/data/uc_files/all_readmap.uc  64.2%   \r"
       ]
      },
      {
       "output_type": "stream",
       "stream": "stdout",
       "text": [
        "/var/seq_data/priming_exp/data/uc_files/all_readmap.uc  64.3%   \r"
       ]
      },
      {
       "output_type": "stream",
       "stream": "stdout",
       "text": [
        "/var/seq_data/priming_exp/data/uc_files/all_readmap.uc  64.3%   \r"
       ]
      },
      {
       "output_type": "stream",
       "stream": "stdout",
       "text": [
        "/var/seq_data/priming_exp/data/uc_files/all_readmap.uc  64.4%   \r"
       ]
      },
      {
       "output_type": "stream",
       "stream": "stdout",
       "text": [
        "/var/seq_data/priming_exp/data/uc_files/all_readmap.uc  64.4%   \r"
       ]
      },
      {
       "output_type": "stream",
       "stream": "stdout",
       "text": [
        "/var/seq_data/priming_exp/data/uc_files/all_readmap.uc  64.5%   \r"
       ]
      },
      {
       "output_type": "stream",
       "stream": "stdout",
       "text": [
        "/var/seq_data/priming_exp/data/uc_files/all_readmap.uc  64.5%   \r"
       ]
      },
      {
       "output_type": "stream",
       "stream": "stdout",
       "text": [
        "/var/seq_data/priming_exp/data/uc_files/all_readmap.uc  64.6%   \r"
       ]
      },
      {
       "output_type": "stream",
       "stream": "stdout",
       "text": [
        "/var/seq_data/priming_exp/data/uc_files/all_readmap.uc  64.6%   \r"
       ]
      },
      {
       "output_type": "stream",
       "stream": "stdout",
       "text": [
        "/var/seq_data/priming_exp/data/uc_files/all_readmap.uc  64.7%   \r"
       ]
      },
      {
       "output_type": "stream",
       "stream": "stdout",
       "text": [
        "/var/seq_data/priming_exp/data/uc_files/all_readmap.uc  64.7%   \r"
       ]
      },
      {
       "output_type": "stream",
       "stream": "stdout",
       "text": [
        "/var/seq_data/priming_exp/data/uc_files/all_readmap.uc  64.8%   \r"
       ]
      },
      {
       "output_type": "stream",
       "stream": "stdout",
       "text": [
        "/var/seq_data/priming_exp/data/uc_files/all_readmap.uc  64.8%   \r"
       ]
      },
      {
       "output_type": "stream",
       "stream": "stdout",
       "text": [
        "/var/seq_data/priming_exp/data/uc_files/all_readmap.uc  64.8%   \r"
       ]
      },
      {
       "output_type": "stream",
       "stream": "stdout",
       "text": [
        "/var/seq_data/priming_exp/data/uc_files/all_readmap.uc  64.9%   \r"
       ]
      },
      {
       "output_type": "stream",
       "stream": "stdout",
       "text": [
        "/var/seq_data/priming_exp/data/uc_files/all_readmap.uc  64.9%   \r"
       ]
      },
      {
       "output_type": "stream",
       "stream": "stdout",
       "text": [
        "/var/seq_data/priming_exp/data/uc_files/all_readmap.uc  65.0%   \r"
       ]
      },
      {
       "output_type": "stream",
       "stream": "stdout",
       "text": [
        "/var/seq_data/priming_exp/data/uc_files/all_readmap.uc  65.0%   \r"
       ]
      },
      {
       "output_type": "stream",
       "stream": "stdout",
       "text": [
        "/var/seq_data/priming_exp/data/uc_files/all_readmap.uc  65.1%   \r"
       ]
      },
      {
       "output_type": "stream",
       "stream": "stdout",
       "text": [
        "/var/seq_data/priming_exp/data/uc_files/all_readmap.uc  65.1%   \r"
       ]
      },
      {
       "output_type": "stream",
       "stream": "stdout",
       "text": [
        "/var/seq_data/priming_exp/data/uc_files/all_readmap.uc  65.2%   \r"
       ]
      },
      {
       "output_type": "stream",
       "stream": "stdout",
       "text": [
        "/var/seq_data/priming_exp/data/uc_files/all_readmap.uc  65.2%   \r"
       ]
      },
      {
       "output_type": "stream",
       "stream": "stdout",
       "text": [
        "/var/seq_data/priming_exp/data/uc_files/all_readmap.uc  65.3%   \r"
       ]
      },
      {
       "output_type": "stream",
       "stream": "stdout",
       "text": [
        "/var/seq_data/priming_exp/data/uc_files/all_readmap.uc  65.3%   \r"
       ]
      },
      {
       "output_type": "stream",
       "stream": "stdout",
       "text": [
        "/var/seq_data/priming_exp/data/uc_files/all_readmap.uc  65.4%   \r"
       ]
      },
      {
       "output_type": "stream",
       "stream": "stdout",
       "text": [
        "/var/seq_data/priming_exp/data/uc_files/all_readmap.uc  65.4%   \r"
       ]
      },
      {
       "output_type": "stream",
       "stream": "stdout",
       "text": [
        "/var/seq_data/priming_exp/data/uc_files/all_readmap.uc  65.4%   \r"
       ]
      },
      {
       "output_type": "stream",
       "stream": "stdout",
       "text": [
        "/var/seq_data/priming_exp/data/uc_files/all_readmap.uc  65.5%   \r"
       ]
      },
      {
       "output_type": "stream",
       "stream": "stdout",
       "text": [
        "/var/seq_data/priming_exp/data/uc_files/all_readmap.uc  65.5%   \r"
       ]
      },
      {
       "output_type": "stream",
       "stream": "stdout",
       "text": [
        "/var/seq_data/priming_exp/data/uc_files/all_readmap.uc  65.6%   \r"
       ]
      },
      {
       "output_type": "stream",
       "stream": "stdout",
       "text": [
        "/var/seq_data/priming_exp/data/uc_files/all_readmap.uc  65.6%   \r"
       ]
      },
      {
       "output_type": "stream",
       "stream": "stdout",
       "text": [
        "/var/seq_data/priming_exp/data/uc_files/all_readmap.uc  65.6%   \r"
       ]
      },
      {
       "output_type": "stream",
       "stream": "stdout",
       "text": [
        "/var/seq_data/priming_exp/data/uc_files/all_readmap.uc  65.7%   \r"
       ]
      },
      {
       "output_type": "stream",
       "stream": "stdout",
       "text": [
        "/var/seq_data/priming_exp/data/uc_files/all_readmap.uc  65.7%   \r"
       ]
      },
      {
       "output_type": "stream",
       "stream": "stdout",
       "text": [
        "/var/seq_data/priming_exp/data/uc_files/all_readmap.uc  65.7%   \r"
       ]
      },
      {
       "output_type": "stream",
       "stream": "stdout",
       "text": [
        "/var/seq_data/priming_exp/data/uc_files/all_readmap.uc  65.8%   \r"
       ]
      },
      {
       "output_type": "stream",
       "stream": "stdout",
       "text": [
        "/var/seq_data/priming_exp/data/uc_files/all_readmap.uc  65.8%   \r"
       ]
      },
      {
       "output_type": "stream",
       "stream": "stdout",
       "text": [
        "/var/seq_data/priming_exp/data/uc_files/all_readmap.uc  65.9%   \r"
       ]
      },
      {
       "output_type": "stream",
       "stream": "stdout",
       "text": [
        "/var/seq_data/priming_exp/data/uc_files/all_readmap.uc  65.9%   \r"
       ]
      },
      {
       "output_type": "stream",
       "stream": "stdout",
       "text": [
        "/var/seq_data/priming_exp/data/uc_files/all_readmap.uc  65.9%   \r"
       ]
      },
      {
       "output_type": "stream",
       "stream": "stdout",
       "text": [
        "/var/seq_data/priming_exp/data/uc_files/all_readmap.uc  66.0%   \r"
       ]
      },
      {
       "output_type": "stream",
       "stream": "stdout",
       "text": [
        "/var/seq_data/priming_exp/data/uc_files/all_readmap.uc  66.0%   \r"
       ]
      },
      {
       "output_type": "stream",
       "stream": "stdout",
       "text": [
        "/var/seq_data/priming_exp/data/uc_files/all_readmap.uc  66.0%   \r"
       ]
      },
      {
       "output_type": "stream",
       "stream": "stdout",
       "text": [
        "/var/seq_data/priming_exp/data/uc_files/all_readmap.uc  66.1%   \r"
       ]
      },
      {
       "output_type": "stream",
       "stream": "stdout",
       "text": [
        "/var/seq_data/priming_exp/data/uc_files/all_readmap.uc  66.1%   \r"
       ]
      },
      {
       "output_type": "stream",
       "stream": "stdout",
       "text": [
        "/var/seq_data/priming_exp/data/uc_files/all_readmap.uc  66.2%   \r"
       ]
      },
      {
       "output_type": "stream",
       "stream": "stdout",
       "text": [
        "/var/seq_data/priming_exp/data/uc_files/all_readmap.uc  66.2%   \r"
       ]
      },
      {
       "output_type": "stream",
       "stream": "stdout",
       "text": [
        "/var/seq_data/priming_exp/data/uc_files/all_readmap.uc  66.2%   \r"
       ]
      },
      {
       "output_type": "stream",
       "stream": "stdout",
       "text": [
        "/var/seq_data/priming_exp/data/uc_files/all_readmap.uc  66.3%   \r"
       ]
      },
      {
       "output_type": "stream",
       "stream": "stdout",
       "text": [
        "/var/seq_data/priming_exp/data/uc_files/all_readmap.uc  66.3%   \r"
       ]
      },
      {
       "output_type": "stream",
       "stream": "stdout",
       "text": [
        "/var/seq_data/priming_exp/data/uc_files/all_readmap.uc  66.3%   \r"
       ]
      },
      {
       "output_type": "stream",
       "stream": "stdout",
       "text": [
        "/var/seq_data/priming_exp/data/uc_files/all_readmap.uc  66.4%   \r"
       ]
      },
      {
       "output_type": "stream",
       "stream": "stdout",
       "text": [
        "/var/seq_data/priming_exp/data/uc_files/all_readmap.uc  66.4%   \r"
       ]
      },
      {
       "output_type": "stream",
       "stream": "stdout",
       "text": [
        "/var/seq_data/priming_exp/data/uc_files/all_readmap.uc  66.5%   \r"
       ]
      },
      {
       "output_type": "stream",
       "stream": "stdout",
       "text": [
        "/var/seq_data/priming_exp/data/uc_files/all_readmap.uc  66.5%   \r"
       ]
      },
      {
       "output_type": "stream",
       "stream": "stdout",
       "text": [
        "/var/seq_data/priming_exp/data/uc_files/all_readmap.uc  66.5%   \r"
       ]
      },
      {
       "output_type": "stream",
       "stream": "stdout",
       "text": [
        "/var/seq_data/priming_exp/data/uc_files/all_readmap.uc  66.6%   \r"
       ]
      },
      {
       "output_type": "stream",
       "stream": "stdout",
       "text": [
        "/var/seq_data/priming_exp/data/uc_files/all_readmap.uc  66.6%   \r"
       ]
      },
      {
       "output_type": "stream",
       "stream": "stdout",
       "text": [
        "/var/seq_data/priming_exp/data/uc_files/all_readmap.uc  66.6%   \r"
       ]
      },
      {
       "output_type": "stream",
       "stream": "stdout",
       "text": [
        "/var/seq_data/priming_exp/data/uc_files/all_readmap.uc  66.7%   \r"
       ]
      },
      {
       "output_type": "stream",
       "stream": "stdout",
       "text": [
        "/var/seq_data/priming_exp/data/uc_files/all_readmap.uc  67.0%   \r"
       ]
      },
      {
       "output_type": "stream",
       "stream": "stdout",
       "text": [
        "/var/seq_data/priming_exp/data/uc_files/all_readmap.uc  67.2%   \r"
       ]
      },
      {
       "output_type": "stream",
       "stream": "stdout",
       "text": [
        "/var/seq_data/priming_exp/data/uc_files/all_readmap.uc  67.5%   \r"
       ]
      },
      {
       "output_type": "stream",
       "stream": "stdout",
       "text": [
        "/var/seq_data/priming_exp/data/uc_files/all_readmap.uc  67.7%   \r"
       ]
      },
      {
       "output_type": "stream",
       "stream": "stdout",
       "text": [
        "/var/seq_data/priming_exp/data/uc_files/all_readmap.uc  67.9%   \r"
       ]
      },
      {
       "output_type": "stream",
       "stream": "stdout",
       "text": [
        "/var/seq_data/priming_exp/data/uc_files/all_readmap.uc  68.1%   \r"
       ]
      },
      {
       "output_type": "stream",
       "stream": "stdout",
       "text": [
        "/var/seq_data/priming_exp/data/uc_files/all_readmap.uc  68.3%   \r"
       ]
      },
      {
       "output_type": "stream",
       "stream": "stdout",
       "text": [
        "/var/seq_data/priming_exp/data/uc_files/all_readmap.uc  68.5%   \r"
       ]
      },
      {
       "output_type": "stream",
       "stream": "stdout",
       "text": [
        "/var/seq_data/priming_exp/data/uc_files/all_readmap.uc  68.7%   \r"
       ]
      },
      {
       "output_type": "stream",
       "stream": "stdout",
       "text": [
        "/var/seq_data/priming_exp/data/uc_files/all_readmap.uc  68.8%   \r"
       ]
      },
      {
       "output_type": "stream",
       "stream": "stdout",
       "text": [
        "/var/seq_data/priming_exp/data/uc_files/all_readmap.uc  69.0%   \r"
       ]
      },
      {
       "output_type": "stream",
       "stream": "stdout",
       "text": [
        "/var/seq_data/priming_exp/data/uc_files/all_readmap.uc  69.2%   \r"
       ]
      },
      {
       "output_type": "stream",
       "stream": "stdout",
       "text": [
        "/var/seq_data/priming_exp/data/uc_files/all_readmap.uc  69.3%   \r"
       ]
      },
      {
       "output_type": "stream",
       "stream": "stdout",
       "text": [
        "/var/seq_data/priming_exp/data/uc_files/all_readmap.uc  69.4%   \r"
       ]
      },
      {
       "output_type": "stream",
       "stream": "stdout",
       "text": [
        "/var/seq_data/priming_exp/data/uc_files/all_readmap.uc  69.6%   \r"
       ]
      },
      {
       "output_type": "stream",
       "stream": "stdout",
       "text": [
        "/var/seq_data/priming_exp/data/uc_files/all_readmap.uc  69.7%   \r"
       ]
      },
      {
       "output_type": "stream",
       "stream": "stdout",
       "text": [
        "/var/seq_data/priming_exp/data/uc_files/all_readmap.uc  69.8%   \r"
       ]
      },
      {
       "output_type": "stream",
       "stream": "stdout",
       "text": [
        "/var/seq_data/priming_exp/data/uc_files/all_readmap.uc  69.9%   \r"
       ]
      },
      {
       "output_type": "stream",
       "stream": "stdout",
       "text": [
        "/var/seq_data/priming_exp/data/uc_files/all_readmap.uc  70.0%   \r"
       ]
      },
      {
       "output_type": "stream",
       "stream": "stdout",
       "text": [
        "/var/seq_data/priming_exp/data/uc_files/all_readmap.uc  70.1%   \r"
       ]
      },
      {
       "output_type": "stream",
       "stream": "stdout",
       "text": [
        "/var/seq_data/priming_exp/data/uc_files/all_readmap.uc  70.3%   \r"
       ]
      },
      {
       "output_type": "stream",
       "stream": "stdout",
       "text": [
        "/var/seq_data/priming_exp/data/uc_files/all_readmap.uc  70.4%   \r"
       ]
      },
      {
       "output_type": "stream",
       "stream": "stdout",
       "text": [
        "/var/seq_data/priming_exp/data/uc_files/all_readmap.uc  70.5%   \r"
       ]
      },
      {
       "output_type": "stream",
       "stream": "stdout",
       "text": [
        "/var/seq_data/priming_exp/data/uc_files/all_readmap.uc  70.6%   \r"
       ]
      },
      {
       "output_type": "stream",
       "stream": "stdout",
       "text": [
        "/var/seq_data/priming_exp/data/uc_files/all_readmap.uc  70.7%   \r"
       ]
      },
      {
       "output_type": "stream",
       "stream": "stdout",
       "text": [
        "/var/seq_data/priming_exp/data/uc_files/all_readmap.uc  70.9%   \r"
       ]
      },
      {
       "output_type": "stream",
       "stream": "stdout",
       "text": [
        "/var/seq_data/priming_exp/data/uc_files/all_readmap.uc  71.0%   \r"
       ]
      },
      {
       "output_type": "stream",
       "stream": "stdout",
       "text": [
        "/var/seq_data/priming_exp/data/uc_files/all_readmap.uc  71.1%   \r"
       ]
      },
      {
       "output_type": "stream",
       "stream": "stdout",
       "text": [
        "/var/seq_data/priming_exp/data/uc_files/all_readmap.uc  71.2%   \r"
       ]
      },
      {
       "output_type": "stream",
       "stream": "stdout",
       "text": [
        "/var/seq_data/priming_exp/data/uc_files/all_readmap.uc  71.3%   \r"
       ]
      },
      {
       "output_type": "stream",
       "stream": "stdout",
       "text": [
        "/var/seq_data/priming_exp/data/uc_files/all_readmap.uc  71.4%   \r"
       ]
      },
      {
       "output_type": "stream",
       "stream": "stdout",
       "text": [
        "/var/seq_data/priming_exp/data/uc_files/all_readmap.uc  71.6%   \r"
       ]
      },
      {
       "output_type": "stream",
       "stream": "stdout",
       "text": [
        "/var/seq_data/priming_exp/data/uc_files/all_readmap.uc  71.7%   \r"
       ]
      },
      {
       "output_type": "stream",
       "stream": "stdout",
       "text": [
        "/var/seq_data/priming_exp/data/uc_files/all_readmap.uc  71.8%   \r"
       ]
      },
      {
       "output_type": "stream",
       "stream": "stdout",
       "text": [
        "/var/seq_data/priming_exp/data/uc_files/all_readmap.uc  71.9%   \r"
       ]
      },
      {
       "output_type": "stream",
       "stream": "stdout",
       "text": [
        "/var/seq_data/priming_exp/data/uc_files/all_readmap.uc  72.0%   \r"
       ]
      },
      {
       "output_type": "stream",
       "stream": "stdout",
       "text": [
        "/var/seq_data/priming_exp/data/uc_files/all_readmap.uc  72.1%   \r"
       ]
      },
      {
       "output_type": "stream",
       "stream": "stdout",
       "text": [
        "/var/seq_data/priming_exp/data/uc_files/all_readmap.uc  72.3%   \r"
       ]
      },
      {
       "output_type": "stream",
       "stream": "stdout",
       "text": [
        "/var/seq_data/priming_exp/data/uc_files/all_readmap.uc  72.4%   \r"
       ]
      },
      {
       "output_type": "stream",
       "stream": "stdout",
       "text": [
        "/var/seq_data/priming_exp/data/uc_files/all_readmap.uc  72.5%   \r"
       ]
      },
      {
       "output_type": "stream",
       "stream": "stdout",
       "text": [
        "/var/seq_data/priming_exp/data/uc_files/all_readmap.uc  72.6%   \r"
       ]
      },
      {
       "output_type": "stream",
       "stream": "stdout",
       "text": [
        "/var/seq_data/priming_exp/data/uc_files/all_readmap.uc  72.7%   \r"
       ]
      },
      {
       "output_type": "stream",
       "stream": "stdout",
       "text": [
        "/var/seq_data/priming_exp/data/uc_files/all_readmap.uc  72.8%   \r"
       ]
      },
      {
       "output_type": "stream",
       "stream": "stdout",
       "text": [
        "/var/seq_data/priming_exp/data/uc_files/all_readmap.uc  73.0%   \r"
       ]
      },
      {
       "output_type": "stream",
       "stream": "stdout",
       "text": [
        "/var/seq_data/priming_exp/data/uc_files/all_readmap.uc  73.1%   \r"
       ]
      },
      {
       "output_type": "stream",
       "stream": "stdout",
       "text": [
        "/var/seq_data/priming_exp/data/uc_files/all_readmap.uc  73.2%   \r"
       ]
      },
      {
       "output_type": "stream",
       "stream": "stdout",
       "text": [
        "/var/seq_data/priming_exp/data/uc_files/all_readmap.uc  73.3%   \r"
       ]
      },
      {
       "output_type": "stream",
       "stream": "stdout",
       "text": [
        "/var/seq_data/priming_exp/data/uc_files/all_readmap.uc  73.4%   \r"
       ]
      },
      {
       "output_type": "stream",
       "stream": "stdout",
       "text": [
        "/var/seq_data/priming_exp/data/uc_files/all_readmap.uc  73.6%   \r"
       ]
      },
      {
       "output_type": "stream",
       "stream": "stdout",
       "text": [
        "/var/seq_data/priming_exp/data/uc_files/all_readmap.uc  73.7%   \r"
       ]
      },
      {
       "output_type": "stream",
       "stream": "stdout",
       "text": [
        "/var/seq_data/priming_exp/data/uc_files/all_readmap.uc  73.8%   \r"
       ]
      },
      {
       "output_type": "stream",
       "stream": "stdout",
       "text": [
        "/var/seq_data/priming_exp/data/uc_files/all_readmap.uc  73.9%   \r"
       ]
      },
      {
       "output_type": "stream",
       "stream": "stdout",
       "text": [
        "/var/seq_data/priming_exp/data/uc_files/all_readmap.uc  74.0%   \r"
       ]
      },
      {
       "output_type": "stream",
       "stream": "stdout",
       "text": [
        "/var/seq_data/priming_exp/data/uc_files/all_readmap.uc  74.1%   \r"
       ]
      },
      {
       "output_type": "stream",
       "stream": "stdout",
       "text": [
        "/var/seq_data/priming_exp/data/uc_files/all_readmap.uc  74.3%   \r"
       ]
      },
      {
       "output_type": "stream",
       "stream": "stdout",
       "text": [
        "/var/seq_data/priming_exp/data/uc_files/all_readmap.uc  74.4%   \r"
       ]
      },
      {
       "output_type": "stream",
       "stream": "stdout",
       "text": [
        "/var/seq_data/priming_exp/data/uc_files/all_readmap.uc  74.5%   \r"
       ]
      },
      {
       "output_type": "stream",
       "stream": "stdout",
       "text": [
        "/var/seq_data/priming_exp/data/uc_files/all_readmap.uc  74.6%   \r"
       ]
      },
      {
       "output_type": "stream",
       "stream": "stdout",
       "text": [
        "/var/seq_data/priming_exp/data/uc_files/all_readmap.uc  74.7%   \r"
       ]
      },
      {
       "output_type": "stream",
       "stream": "stdout",
       "text": [
        "/var/seq_data/priming_exp/data/uc_files/all_readmap.uc  74.9%   \r"
       ]
      },
      {
       "output_type": "stream",
       "stream": "stdout",
       "text": [
        "/var/seq_data/priming_exp/data/uc_files/all_readmap.uc  75.0%   \r"
       ]
      },
      {
       "output_type": "stream",
       "stream": "stdout",
       "text": [
        "/var/seq_data/priming_exp/data/uc_files/all_readmap.uc  75.1%   \r"
       ]
      },
      {
       "output_type": "stream",
       "stream": "stdout",
       "text": [
        "/var/seq_data/priming_exp/data/uc_files/all_readmap.uc  75.2%   \r"
       ]
      },
      {
       "output_type": "stream",
       "stream": "stdout",
       "text": [
        "/var/seq_data/priming_exp/data/uc_files/all_readmap.uc  75.3%   \r"
       ]
      },
      {
       "output_type": "stream",
       "stream": "stdout",
       "text": [
        "/var/seq_data/priming_exp/data/uc_files/all_readmap.uc  75.4%   \r"
       ]
      },
      {
       "output_type": "stream",
       "stream": "stdout",
       "text": [
        "/var/seq_data/priming_exp/data/uc_files/all_readmap.uc  75.6%   \r"
       ]
      },
      {
       "output_type": "stream",
       "stream": "stdout",
       "text": [
        "/var/seq_data/priming_exp/data/uc_files/all_readmap.uc  75.7%   \r"
       ]
      },
      {
       "output_type": "stream",
       "stream": "stdout",
       "text": [
        "/var/seq_data/priming_exp/data/uc_files/all_readmap.uc  75.8%   \r"
       ]
      },
      {
       "output_type": "stream",
       "stream": "stdout",
       "text": [
        "/var/seq_data/priming_exp/data/uc_files/all_readmap.uc  75.9%   \r"
       ]
      },
      {
       "output_type": "stream",
       "stream": "stdout",
       "text": [
        "/var/seq_data/priming_exp/data/uc_files/all_readmap.uc  76.0%   \r"
       ]
      },
      {
       "output_type": "stream",
       "stream": "stdout",
       "text": [
        "/var/seq_data/priming_exp/data/uc_files/all_readmap.uc  76.1%   \r"
       ]
      },
      {
       "output_type": "stream",
       "stream": "stdout",
       "text": [
        "/var/seq_data/priming_exp/data/uc_files/all_readmap.uc  76.2%   \r"
       ]
      },
      {
       "output_type": "stream",
       "stream": "stdout",
       "text": [
        "/var/seq_data/priming_exp/data/uc_files/all_readmap.uc  76.3%   \r"
       ]
      },
      {
       "output_type": "stream",
       "stream": "stdout",
       "text": [
        "/var/seq_data/priming_exp/data/uc_files/all_readmap.uc  76.3%   \r"
       ]
      },
      {
       "output_type": "stream",
       "stream": "stdout",
       "text": [
        "/var/seq_data/priming_exp/data/uc_files/all_readmap.uc  76.4%   \r"
       ]
      },
      {
       "output_type": "stream",
       "stream": "stdout",
       "text": [
        "/var/seq_data/priming_exp/data/uc_files/all_readmap.uc  76.4%   \r"
       ]
      },
      {
       "output_type": "stream",
       "stream": "stdout",
       "text": [
        "/var/seq_data/priming_exp/data/uc_files/all_readmap.uc  76.5%   \r"
       ]
      },
      {
       "output_type": "stream",
       "stream": "stdout",
       "text": [
        "/var/seq_data/priming_exp/data/uc_files/all_readmap.uc  76.6%   \r"
       ]
      },
      {
       "output_type": "stream",
       "stream": "stdout",
       "text": [
        "/var/seq_data/priming_exp/data/uc_files/all_readmap.uc  76.6%   \r"
       ]
      },
      {
       "output_type": "stream",
       "stream": "stdout",
       "text": [
        "/var/seq_data/priming_exp/data/uc_files/all_readmap.uc  76.7%   \r"
       ]
      },
      {
       "output_type": "stream",
       "stream": "stdout",
       "text": [
        "/var/seq_data/priming_exp/data/uc_files/all_readmap.uc  76.7%   \r"
       ]
      },
      {
       "output_type": "stream",
       "stream": "stdout",
       "text": [
        "/var/seq_data/priming_exp/data/uc_files/all_readmap.uc  76.8%   \r"
       ]
      },
      {
       "output_type": "stream",
       "stream": "stdout",
       "text": [
        "/var/seq_data/priming_exp/data/uc_files/all_readmap.uc  76.8%   \r"
       ]
      },
      {
       "output_type": "stream",
       "stream": "stdout",
       "text": [
        "/var/seq_data/priming_exp/data/uc_files/all_readmap.uc  76.9%   \r"
       ]
      },
      {
       "output_type": "stream",
       "stream": "stdout",
       "text": [
        "/var/seq_data/priming_exp/data/uc_files/all_readmap.uc  77.0%   \r"
       ]
      },
      {
       "output_type": "stream",
       "stream": "stdout",
       "text": [
        "/var/seq_data/priming_exp/data/uc_files/all_readmap.uc  77.0%   \r"
       ]
      },
      {
       "output_type": "stream",
       "stream": "stdout",
       "text": [
        "/var/seq_data/priming_exp/data/uc_files/all_readmap.uc  77.1%   \r"
       ]
      },
      {
       "output_type": "stream",
       "stream": "stdout",
       "text": [
        "/var/seq_data/priming_exp/data/uc_files/all_readmap.uc  77.1%   \r"
       ]
      },
      {
       "output_type": "stream",
       "stream": "stdout",
       "text": [
        "/var/seq_data/priming_exp/data/uc_files/all_readmap.uc  77.2%   \r"
       ]
      },
      {
       "output_type": "stream",
       "stream": "stdout",
       "text": [
        "/var/seq_data/priming_exp/data/uc_files/all_readmap.uc  77.2%   \r"
       ]
      },
      {
       "output_type": "stream",
       "stream": "stdout",
       "text": [
        "/var/seq_data/priming_exp/data/uc_files/all_readmap.uc  77.3%   \r"
       ]
      },
      {
       "output_type": "stream",
       "stream": "stdout",
       "text": [
        "/var/seq_data/priming_exp/data/uc_files/all_readmap.uc  77.3%   \r"
       ]
      },
      {
       "output_type": "stream",
       "stream": "stdout",
       "text": [
        "/var/seq_data/priming_exp/data/uc_files/all_readmap.uc  77.4%   \r"
       ]
      },
      {
       "output_type": "stream",
       "stream": "stdout",
       "text": [
        "/var/seq_data/priming_exp/data/uc_files/all_readmap.uc  77.5%   \r"
       ]
      },
      {
       "output_type": "stream",
       "stream": "stdout",
       "text": [
        "/var/seq_data/priming_exp/data/uc_files/all_readmap.uc  77.5%   \r"
       ]
      },
      {
       "output_type": "stream",
       "stream": "stdout",
       "text": [
        "/var/seq_data/priming_exp/data/uc_files/all_readmap.uc  77.6%   \r"
       ]
      },
      {
       "output_type": "stream",
       "stream": "stdout",
       "text": [
        "/var/seq_data/priming_exp/data/uc_files/all_readmap.uc  77.6%   \r"
       ]
      },
      {
       "output_type": "stream",
       "stream": "stdout",
       "text": [
        "/var/seq_data/priming_exp/data/uc_files/all_readmap.uc  77.7%   \r"
       ]
      },
      {
       "output_type": "stream",
       "stream": "stdout",
       "text": [
        "/var/seq_data/priming_exp/data/uc_files/all_readmap.uc  77.7%   \r"
       ]
      },
      {
       "output_type": "stream",
       "stream": "stdout",
       "text": [
        "/var/seq_data/priming_exp/data/uc_files/all_readmap.uc  77.8%   \r"
       ]
      },
      {
       "output_type": "stream",
       "stream": "stdout",
       "text": [
        "/var/seq_data/priming_exp/data/uc_files/all_readmap.uc  77.9%   \r"
       ]
      },
      {
       "output_type": "stream",
       "stream": "stdout",
       "text": [
        "/var/seq_data/priming_exp/data/uc_files/all_readmap.uc  77.9%   \r"
       ]
      },
      {
       "output_type": "stream",
       "stream": "stdout",
       "text": [
        "/var/seq_data/priming_exp/data/uc_files/all_readmap.uc  78.0%   \r"
       ]
      },
      {
       "output_type": "stream",
       "stream": "stdout",
       "text": [
        "/var/seq_data/priming_exp/data/uc_files/all_readmap.uc  78.0%   \r"
       ]
      },
      {
       "output_type": "stream",
       "stream": "stdout",
       "text": [
        "/var/seq_data/priming_exp/data/uc_files/all_readmap.uc  78.1%   \r"
       ]
      },
      {
       "output_type": "stream",
       "stream": "stdout",
       "text": [
        "/var/seq_data/priming_exp/data/uc_files/all_readmap.uc  78.1%   \r"
       ]
      },
      {
       "output_type": "stream",
       "stream": "stdout",
       "text": [
        "/var/seq_data/priming_exp/data/uc_files/all_readmap.uc  78.2%   \r"
       ]
      },
      {
       "output_type": "stream",
       "stream": "stdout",
       "text": [
        "/var/seq_data/priming_exp/data/uc_files/all_readmap.uc  78.3%   \r"
       ]
      },
      {
       "output_type": "stream",
       "stream": "stdout",
       "text": [
        "/var/seq_data/priming_exp/data/uc_files/all_readmap.uc  78.3%   \r"
       ]
      },
      {
       "output_type": "stream",
       "stream": "stdout",
       "text": [
        "/var/seq_data/priming_exp/data/uc_files/all_readmap.uc  78.4%   \r"
       ]
      },
      {
       "output_type": "stream",
       "stream": "stdout",
       "text": [
        "/var/seq_data/priming_exp/data/uc_files/all_readmap.uc  78.4%   \r"
       ]
      },
      {
       "output_type": "stream",
       "stream": "stdout",
       "text": [
        "/var/seq_data/priming_exp/data/uc_files/all_readmap.uc  78.4%   \r"
       ]
      },
      {
       "output_type": "stream",
       "stream": "stdout",
       "text": [
        "/var/seq_data/priming_exp/data/uc_files/all_readmap.uc  78.5%   \r"
       ]
      },
      {
       "output_type": "stream",
       "stream": "stdout",
       "text": [
        "/var/seq_data/priming_exp/data/uc_files/all_readmap.uc  78.5%   \r"
       ]
      },
      {
       "output_type": "stream",
       "stream": "stdout",
       "text": [
        "/var/seq_data/priming_exp/data/uc_files/all_readmap.uc  78.6%   \r"
       ]
      },
      {
       "output_type": "stream",
       "stream": "stdout",
       "text": [
        "/var/seq_data/priming_exp/data/uc_files/all_readmap.uc  78.6%   \r"
       ]
      },
      {
       "output_type": "stream",
       "stream": "stdout",
       "text": [
        "/var/seq_data/priming_exp/data/uc_files/all_readmap.uc  78.7%   \r"
       ]
      },
      {
       "output_type": "stream",
       "stream": "stdout",
       "text": [
        "/var/seq_data/priming_exp/data/uc_files/all_readmap.uc  78.7%   \r"
       ]
      },
      {
       "output_type": "stream",
       "stream": "stdout",
       "text": [
        "/var/seq_data/priming_exp/data/uc_files/all_readmap.uc  78.8%   \r"
       ]
      },
      {
       "output_type": "stream",
       "stream": "stdout",
       "text": [
        "/var/seq_data/priming_exp/data/uc_files/all_readmap.uc  78.8%   \r"
       ]
      },
      {
       "output_type": "stream",
       "stream": "stdout",
       "text": [
        "/var/seq_data/priming_exp/data/uc_files/all_readmap.uc  78.9%   \r"
       ]
      },
      {
       "output_type": "stream",
       "stream": "stdout",
       "text": [
        "/var/seq_data/priming_exp/data/uc_files/all_readmap.uc  78.9%   \r"
       ]
      },
      {
       "output_type": "stream",
       "stream": "stdout",
       "text": [
        "/var/seq_data/priming_exp/data/uc_files/all_readmap.uc  79.0%   \r"
       ]
      },
      {
       "output_type": "stream",
       "stream": "stdout",
       "text": [
        "/var/seq_data/priming_exp/data/uc_files/all_readmap.uc  79.0%   \r"
       ]
      },
      {
       "output_type": "stream",
       "stream": "stdout",
       "text": [
        "/var/seq_data/priming_exp/data/uc_files/all_readmap.uc  79.1%   \r"
       ]
      },
      {
       "output_type": "stream",
       "stream": "stdout",
       "text": [
        "/var/seq_data/priming_exp/data/uc_files/all_readmap.uc  79.1%   \r"
       ]
      },
      {
       "output_type": "stream",
       "stream": "stdout",
       "text": [
        "/var/seq_data/priming_exp/data/uc_files/all_readmap.uc  79.2%   \r"
       ]
      },
      {
       "output_type": "stream",
       "stream": "stdout",
       "text": [
        "/var/seq_data/priming_exp/data/uc_files/all_readmap.uc  79.2%   \r"
       ]
      },
      {
       "output_type": "stream",
       "stream": "stdout",
       "text": [
        "/var/seq_data/priming_exp/data/uc_files/all_readmap.uc  79.3%   \r"
       ]
      },
      {
       "output_type": "stream",
       "stream": "stdout",
       "text": [
        "/var/seq_data/priming_exp/data/uc_files/all_readmap.uc  79.3%   \r"
       ]
      },
      {
       "output_type": "stream",
       "stream": "stdout",
       "text": [
        "/var/seq_data/priming_exp/data/uc_files/all_readmap.uc  79.4%   \r"
       ]
      },
      {
       "output_type": "stream",
       "stream": "stdout",
       "text": [
        "/var/seq_data/priming_exp/data/uc_files/all_readmap.uc  79.4%   \r"
       ]
      },
      {
       "output_type": "stream",
       "stream": "stdout",
       "text": [
        "/var/seq_data/priming_exp/data/uc_files/all_readmap.uc  79.5%   \r"
       ]
      },
      {
       "output_type": "stream",
       "stream": "stdout",
       "text": [
        "/var/seq_data/priming_exp/data/uc_files/all_readmap.uc  79.5%   \r"
       ]
      },
      {
       "output_type": "stream",
       "stream": "stdout",
       "text": [
        "/var/seq_data/priming_exp/data/uc_files/all_readmap.uc  79.6%   \r"
       ]
      },
      {
       "output_type": "stream",
       "stream": "stdout",
       "text": [
        "/var/seq_data/priming_exp/data/uc_files/all_readmap.uc  79.6%   \r"
       ]
      },
      {
       "output_type": "stream",
       "stream": "stdout",
       "text": [
        "/var/seq_data/priming_exp/data/uc_files/all_readmap.uc  79.6%   \r"
       ]
      },
      {
       "output_type": "stream",
       "stream": "stdout",
       "text": [
        "/var/seq_data/priming_exp/data/uc_files/all_readmap.uc  79.7%   \r"
       ]
      },
      {
       "output_type": "stream",
       "stream": "stdout",
       "text": [
        "/var/seq_data/priming_exp/data/uc_files/all_readmap.uc  79.7%   \r"
       ]
      },
      {
       "output_type": "stream",
       "stream": "stdout",
       "text": [
        "/var/seq_data/priming_exp/data/uc_files/all_readmap.uc  79.8%   \r"
       ]
      },
      {
       "output_type": "stream",
       "stream": "stdout",
       "text": [
        "/var/seq_data/priming_exp/data/uc_files/all_readmap.uc  79.8%   \r"
       ]
      },
      {
       "output_type": "stream",
       "stream": "stdout",
       "text": [
        "/var/seq_data/priming_exp/data/uc_files/all_readmap.uc  79.9%   \r"
       ]
      },
      {
       "output_type": "stream",
       "stream": "stdout",
       "text": [
        "/var/seq_data/priming_exp/data/uc_files/all_readmap.uc  79.9%   \r"
       ]
      },
      {
       "output_type": "stream",
       "stream": "stdout",
       "text": [
        "/var/seq_data/priming_exp/data/uc_files/all_readmap.uc  80.0%   \r"
       ]
      },
      {
       "output_type": "stream",
       "stream": "stdout",
       "text": [
        "/var/seq_data/priming_exp/data/uc_files/all_readmap.uc  80.0%   \r"
       ]
      },
      {
       "output_type": "stream",
       "stream": "stdout",
       "text": [
        "/var/seq_data/priming_exp/data/uc_files/all_readmap.uc  80.1%   \r"
       ]
      },
      {
       "output_type": "stream",
       "stream": "stdout",
       "text": [
        "/var/seq_data/priming_exp/data/uc_files/all_readmap.uc  80.1%   \r"
       ]
      },
      {
       "output_type": "stream",
       "stream": "stdout",
       "text": [
        "/var/seq_data/priming_exp/data/uc_files/all_readmap.uc  80.2%   \r"
       ]
      },
      {
       "output_type": "stream",
       "stream": "stdout",
       "text": [
        "/var/seq_data/priming_exp/data/uc_files/all_readmap.uc  80.2%   \r"
       ]
      },
      {
       "output_type": "stream",
       "stream": "stdout",
       "text": [
        "/var/seq_data/priming_exp/data/uc_files/all_readmap.uc  80.3%   \r"
       ]
      },
      {
       "output_type": "stream",
       "stream": "stdout",
       "text": [
        "/var/seq_data/priming_exp/data/uc_files/all_readmap.uc  80.3%   \r"
       ]
      },
      {
       "output_type": "stream",
       "stream": "stdout",
       "text": [
        "/var/seq_data/priming_exp/data/uc_files/all_readmap.uc  80.4%   \r"
       ]
      },
      {
       "output_type": "stream",
       "stream": "stdout",
       "text": [
        "/var/seq_data/priming_exp/data/uc_files/all_readmap.uc  80.4%   \r"
       ]
      },
      {
       "output_type": "stream",
       "stream": "stdout",
       "text": [
        "/var/seq_data/priming_exp/data/uc_files/all_readmap.uc  80.5%   \r"
       ]
      },
      {
       "output_type": "stream",
       "stream": "stdout",
       "text": [
        "/var/seq_data/priming_exp/data/uc_files/all_readmap.uc  80.5%   \r"
       ]
      },
      {
       "output_type": "stream",
       "stream": "stdout",
       "text": [
        "/var/seq_data/priming_exp/data/uc_files/all_readmap.uc  80.6%   \r"
       ]
      },
      {
       "output_type": "stream",
       "stream": "stdout",
       "text": [
        "/var/seq_data/priming_exp/data/uc_files/all_readmap.uc  80.6%   \r"
       ]
      },
      {
       "output_type": "stream",
       "stream": "stdout",
       "text": [
        "/var/seq_data/priming_exp/data/uc_files/all_readmap.uc  80.7%   \r"
       ]
      },
      {
       "output_type": "stream",
       "stream": "stdout",
       "text": [
        "/var/seq_data/priming_exp/data/uc_files/all_readmap.uc  80.7%   \r"
       ]
      },
      {
       "output_type": "stream",
       "stream": "stdout",
       "text": [
        "/var/seq_data/priming_exp/data/uc_files/all_readmap.uc  80.8%   \r"
       ]
      },
      {
       "output_type": "stream",
       "stream": "stdout",
       "text": [
        "/var/seq_data/priming_exp/data/uc_files/all_readmap.uc  80.8%   \r"
       ]
      },
      {
       "output_type": "stream",
       "stream": "stdout",
       "text": [
        "/var/seq_data/priming_exp/data/uc_files/all_readmap.uc  80.9%   \r"
       ]
      },
      {
       "output_type": "stream",
       "stream": "stdout",
       "text": [
        "/var/seq_data/priming_exp/data/uc_files/all_readmap.uc  80.9%   \r"
       ]
      },
      {
       "output_type": "stream",
       "stream": "stdout",
       "text": [
        "/var/seq_data/priming_exp/data/uc_files/all_readmap.uc  80.9%   \r"
       ]
      },
      {
       "output_type": "stream",
       "stream": "stdout",
       "text": [
        "/var/seq_data/priming_exp/data/uc_files/all_readmap.uc  81.0%   \r"
       ]
      },
      {
       "output_type": "stream",
       "stream": "stdout",
       "text": [
        "/var/seq_data/priming_exp/data/uc_files/all_readmap.uc  81.0%   \r"
       ]
      },
      {
       "output_type": "stream",
       "stream": "stdout",
       "text": [
        "/var/seq_data/priming_exp/data/uc_files/all_readmap.uc  81.1%   \r"
       ]
      },
      {
       "output_type": "stream",
       "stream": "stdout",
       "text": [
        "/var/seq_data/priming_exp/data/uc_files/all_readmap.uc  81.1%   \r"
       ]
      },
      {
       "output_type": "stream",
       "stream": "stdout",
       "text": [
        "/var/seq_data/priming_exp/data/uc_files/all_readmap.uc  81.2%   \r"
       ]
      },
      {
       "output_type": "stream",
       "stream": "stdout",
       "text": [
        "/var/seq_data/priming_exp/data/uc_files/all_readmap.uc  81.2%   \r"
       ]
      },
      {
       "output_type": "stream",
       "stream": "stdout",
       "text": [
        "/var/seq_data/priming_exp/data/uc_files/all_readmap.uc  81.3%   \r"
       ]
      },
      {
       "output_type": "stream",
       "stream": "stdout",
       "text": [
        "/var/seq_data/priming_exp/data/uc_files/all_readmap.uc  81.3%   \r"
       ]
      },
      {
       "output_type": "stream",
       "stream": "stdout",
       "text": [
        "/var/seq_data/priming_exp/data/uc_files/all_readmap.uc  81.4%   \r"
       ]
      },
      {
       "output_type": "stream",
       "stream": "stdout",
       "text": [
        "/var/seq_data/priming_exp/data/uc_files/all_readmap.uc  81.4%   \r"
       ]
      },
      {
       "output_type": "stream",
       "stream": "stdout",
       "text": [
        "/var/seq_data/priming_exp/data/uc_files/all_readmap.uc  81.5%   \r"
       ]
      },
      {
       "output_type": "stream",
       "stream": "stdout",
       "text": [
        "/var/seq_data/priming_exp/data/uc_files/all_readmap.uc  81.5%   \r"
       ]
      },
      {
       "output_type": "stream",
       "stream": "stdout",
       "text": [
        "/var/seq_data/priming_exp/data/uc_files/all_readmap.uc  81.6%   \r"
       ]
      },
      {
       "output_type": "stream",
       "stream": "stdout",
       "text": [
        "/var/seq_data/priming_exp/data/uc_files/all_readmap.uc  81.6%   \r"
       ]
      },
      {
       "output_type": "stream",
       "stream": "stdout",
       "text": [
        "/var/seq_data/priming_exp/data/uc_files/all_readmap.uc  81.7%   \r"
       ]
      },
      {
       "output_type": "stream",
       "stream": "stdout",
       "text": [
        "/var/seq_data/priming_exp/data/uc_files/all_readmap.uc  81.7%   \r"
       ]
      },
      {
       "output_type": "stream",
       "stream": "stdout",
       "text": [
        "/var/seq_data/priming_exp/data/uc_files/all_readmap.uc  81.8%   \r"
       ]
      },
      {
       "output_type": "stream",
       "stream": "stdout",
       "text": [
        "/var/seq_data/priming_exp/data/uc_files/all_readmap.uc  81.8%   \r"
       ]
      },
      {
       "output_type": "stream",
       "stream": "stdout",
       "text": [
        "/var/seq_data/priming_exp/data/uc_files/all_readmap.uc  81.9%   \r"
       ]
      },
      {
       "output_type": "stream",
       "stream": "stdout",
       "text": [
        "/var/seq_data/priming_exp/data/uc_files/all_readmap.uc  81.9%   \r"
       ]
      },
      {
       "output_type": "stream",
       "stream": "stdout",
       "text": [
        "/var/seq_data/priming_exp/data/uc_files/all_readmap.uc  82.0%   \r"
       ]
      },
      {
       "output_type": "stream",
       "stream": "stdout",
       "text": [
        "/var/seq_data/priming_exp/data/uc_files/all_readmap.uc  82.0%   \r"
       ]
      },
      {
       "output_type": "stream",
       "stream": "stdout",
       "text": [
        "/var/seq_data/priming_exp/data/uc_files/all_readmap.uc  82.0%   \r"
       ]
      },
      {
       "output_type": "stream",
       "stream": "stdout",
       "text": [
        "/var/seq_data/priming_exp/data/uc_files/all_readmap.uc  82.1%   \r"
       ]
      },
      {
       "output_type": "stream",
       "stream": "stdout",
       "text": [
        "/var/seq_data/priming_exp/data/uc_files/all_readmap.uc  82.1%   \r"
       ]
      },
      {
       "output_type": "stream",
       "stream": "stdout",
       "text": [
        "/var/seq_data/priming_exp/data/uc_files/all_readmap.uc  82.2%   \r"
       ]
      },
      {
       "output_type": "stream",
       "stream": "stdout",
       "text": [
        "/var/seq_data/priming_exp/data/uc_files/all_readmap.uc  82.2%   \r"
       ]
      },
      {
       "output_type": "stream",
       "stream": "stdout",
       "text": [
        "/var/seq_data/priming_exp/data/uc_files/all_readmap.uc  82.2%   \r"
       ]
      },
      {
       "output_type": "stream",
       "stream": "stdout",
       "text": [
        "/var/seq_data/priming_exp/data/uc_files/all_readmap.uc  82.3%   \r"
       ]
      },
      {
       "output_type": "stream",
       "stream": "stdout",
       "text": [
        "/var/seq_data/priming_exp/data/uc_files/all_readmap.uc  82.3%   \r"
       ]
      },
      {
       "output_type": "stream",
       "stream": "stdout",
       "text": [
        "/var/seq_data/priming_exp/data/uc_files/all_readmap.uc  82.4%   \r"
       ]
      },
      {
       "output_type": "stream",
       "stream": "stdout",
       "text": [
        "/var/seq_data/priming_exp/data/uc_files/all_readmap.uc  82.4%   \r"
       ]
      },
      {
       "output_type": "stream",
       "stream": "stdout",
       "text": [
        "/var/seq_data/priming_exp/data/uc_files/all_readmap.uc  82.4%   \r"
       ]
      },
      {
       "output_type": "stream",
       "stream": "stdout",
       "text": [
        "/var/seq_data/priming_exp/data/uc_files/all_readmap.uc  82.5%   \r"
       ]
      },
      {
       "output_type": "stream",
       "stream": "stdout",
       "text": [
        "/var/seq_data/priming_exp/data/uc_files/all_readmap.uc  82.5%   \r"
       ]
      },
      {
       "output_type": "stream",
       "stream": "stdout",
       "text": [
        "/var/seq_data/priming_exp/data/uc_files/all_readmap.uc  82.5%   \r"
       ]
      },
      {
       "output_type": "stream",
       "stream": "stdout",
       "text": [
        "/var/seq_data/priming_exp/data/uc_files/all_readmap.uc  82.6%   \r"
       ]
      },
      {
       "output_type": "stream",
       "stream": "stdout",
       "text": [
        "/var/seq_data/priming_exp/data/uc_files/all_readmap.uc  82.6%   \r"
       ]
      },
      {
       "output_type": "stream",
       "stream": "stdout",
       "text": [
        "/var/seq_data/priming_exp/data/uc_files/all_readmap.uc  82.7%   \r"
       ]
      },
      {
       "output_type": "stream",
       "stream": "stdout",
       "text": [
        "/var/seq_data/priming_exp/data/uc_files/all_readmap.uc  82.7%   \r"
       ]
      },
      {
       "output_type": "stream",
       "stream": "stdout",
       "text": [
        "/var/seq_data/priming_exp/data/uc_files/all_readmap.uc  82.7%   \r"
       ]
      },
      {
       "output_type": "stream",
       "stream": "stdout",
       "text": [
        "/var/seq_data/priming_exp/data/uc_files/all_readmap.uc  82.8%   \r"
       ]
      },
      {
       "output_type": "stream",
       "stream": "stdout",
       "text": [
        "/var/seq_data/priming_exp/data/uc_files/all_readmap.uc  82.8%   \r"
       ]
      },
      {
       "output_type": "stream",
       "stream": "stdout",
       "text": [
        "/var/seq_data/priming_exp/data/uc_files/all_readmap.uc  82.8%   \r"
       ]
      },
      {
       "output_type": "stream",
       "stream": "stdout",
       "text": [
        "/var/seq_data/priming_exp/data/uc_files/all_readmap.uc  82.9%   \r"
       ]
      },
      {
       "output_type": "stream",
       "stream": "stdout",
       "text": [
        "/var/seq_data/priming_exp/data/uc_files/all_readmap.uc  82.9%   \r"
       ]
      },
      {
       "output_type": "stream",
       "stream": "stdout",
       "text": [
        "/var/seq_data/priming_exp/data/uc_files/all_readmap.uc  83.0%   \r"
       ]
      },
      {
       "output_type": "stream",
       "stream": "stdout",
       "text": [
        "/var/seq_data/priming_exp/data/uc_files/all_readmap.uc  83.0%   \r"
       ]
      },
      {
       "output_type": "stream",
       "stream": "stdout",
       "text": [
        "/var/seq_data/priming_exp/data/uc_files/all_readmap.uc  83.0%   \r"
       ]
      },
      {
       "output_type": "stream",
       "stream": "stdout",
       "text": [
        "/var/seq_data/priming_exp/data/uc_files/all_readmap.uc  83.1%   \r"
       ]
      },
      {
       "output_type": "stream",
       "stream": "stdout",
       "text": [
        "/var/seq_data/priming_exp/data/uc_files/all_readmap.uc  83.1%   \r"
       ]
      },
      {
       "output_type": "stream",
       "stream": "stdout",
       "text": [
        "/var/seq_data/priming_exp/data/uc_files/all_readmap.uc  83.1%   \r"
       ]
      },
      {
       "output_type": "stream",
       "stream": "stdout",
       "text": [
        "/var/seq_data/priming_exp/data/uc_files/all_readmap.uc  83.2%   \r"
       ]
      },
      {
       "output_type": "stream",
       "stream": "stdout",
       "text": [
        "/var/seq_data/priming_exp/data/uc_files/all_readmap.uc  83.2%   \r"
       ]
      },
      {
       "output_type": "stream",
       "stream": "stdout",
       "text": [
        "/var/seq_data/priming_exp/data/uc_files/all_readmap.uc  83.3%   \r"
       ]
      },
      {
       "output_type": "stream",
       "stream": "stdout",
       "text": [
        "/var/seq_data/priming_exp/data/uc_files/all_readmap.uc  83.3%   \r"
       ]
      },
      {
       "output_type": "stream",
       "stream": "stdout",
       "text": [
        "/var/seq_data/priming_exp/data/uc_files/all_readmap.uc  83.3%   \r"
       ]
      },
      {
       "output_type": "stream",
       "stream": "stdout",
       "text": [
        "/var/seq_data/priming_exp/data/uc_files/all_readmap.uc  83.5%   \r"
       ]
      },
      {
       "output_type": "stream",
       "stream": "stdout",
       "text": [
        "/var/seq_data/priming_exp/data/uc_files/all_readmap.uc  83.7%   \r"
       ]
      },
      {
       "output_type": "stream",
       "stream": "stdout",
       "text": [
        "/var/seq_data/priming_exp/data/uc_files/all_readmap.uc  84.0%   \r"
       ]
      },
      {
       "output_type": "stream",
       "stream": "stdout",
       "text": [
        "/var/seq_data/priming_exp/data/uc_files/all_readmap.uc  84.2%   \r"
       ]
      },
      {
       "output_type": "stream",
       "stream": "stdout",
       "text": [
        "/var/seq_data/priming_exp/data/uc_files/all_readmap.uc  84.4%   \r"
       ]
      },
      {
       "output_type": "stream",
       "stream": "stdout",
       "text": [
        "/var/seq_data/priming_exp/data/uc_files/all_readmap.uc  84.6%   \r"
       ]
      },
      {
       "output_type": "stream",
       "stream": "stdout",
       "text": [
        "/var/seq_data/priming_exp/data/uc_files/all_readmap.uc  84.8%   \r"
       ]
      },
      {
       "output_type": "stream",
       "stream": "stdout",
       "text": [
        "/var/seq_data/priming_exp/data/uc_files/all_readmap.uc  85.0%   \r"
       ]
      },
      {
       "output_type": "stream",
       "stream": "stdout",
       "text": [
        "/var/seq_data/priming_exp/data/uc_files/all_readmap.uc  85.2%   \r"
       ]
      },
      {
       "output_type": "stream",
       "stream": "stdout",
       "text": [
        "/var/seq_data/priming_exp/data/uc_files/all_readmap.uc  85.4%   \r"
       ]
      },
      {
       "output_type": "stream",
       "stream": "stdout",
       "text": [
        "/var/seq_data/priming_exp/data/uc_files/all_readmap.uc  85.6%   \r"
       ]
      },
      {
       "output_type": "stream",
       "stream": "stdout",
       "text": [
        "/var/seq_data/priming_exp/data/uc_files/all_readmap.uc  85.8%   \r"
       ]
      },
      {
       "output_type": "stream",
       "stream": "stdout",
       "text": [
        "/var/seq_data/priming_exp/data/uc_files/all_readmap.uc  85.9%   \r"
       ]
      },
      {
       "output_type": "stream",
       "stream": "stdout",
       "text": [
        "/var/seq_data/priming_exp/data/uc_files/all_readmap.uc  86.0%   \r"
       ]
      },
      {
       "output_type": "stream",
       "stream": "stdout",
       "text": [
        "/var/seq_data/priming_exp/data/uc_files/all_readmap.uc  86.2%   \r"
       ]
      },
      {
       "output_type": "stream",
       "stream": "stdout",
       "text": [
        "/var/seq_data/priming_exp/data/uc_files/all_readmap.uc  86.3%   \r"
       ]
      },
      {
       "output_type": "stream",
       "stream": "stdout",
       "text": [
        "/var/seq_data/priming_exp/data/uc_files/all_readmap.uc  86.4%   \r"
       ]
      },
      {
       "output_type": "stream",
       "stream": "stdout",
       "text": [
        "/var/seq_data/priming_exp/data/uc_files/all_readmap.uc  86.5%   \r"
       ]
      },
      {
       "output_type": "stream",
       "stream": "stdout",
       "text": [
        "/var/seq_data/priming_exp/data/uc_files/all_readmap.uc  86.6%   \r"
       ]
      },
      {
       "output_type": "stream",
       "stream": "stdout",
       "text": [
        "/var/seq_data/priming_exp/data/uc_files/all_readmap.uc  86.7%   \r"
       ]
      },
      {
       "output_type": "stream",
       "stream": "stdout",
       "text": [
        "/var/seq_data/priming_exp/data/uc_files/all_readmap.uc  86.9%   \r"
       ]
      },
      {
       "output_type": "stream",
       "stream": "stdout",
       "text": [
        "/var/seq_data/priming_exp/data/uc_files/all_readmap.uc  87.0%   \r"
       ]
      },
      {
       "output_type": "stream",
       "stream": "stdout",
       "text": [
        "/var/seq_data/priming_exp/data/uc_files/all_readmap.uc  87.1%   \r"
       ]
      },
      {
       "output_type": "stream",
       "stream": "stdout",
       "text": [
        "/var/seq_data/priming_exp/data/uc_files/all_readmap.uc  87.2%   \r"
       ]
      },
      {
       "output_type": "stream",
       "stream": "stdout",
       "text": [
        "/var/seq_data/priming_exp/data/uc_files/all_readmap.uc  87.3%   \r"
       ]
      },
      {
       "output_type": "stream",
       "stream": "stdout",
       "text": [
        "/var/seq_data/priming_exp/data/uc_files/all_readmap.uc  87.5%   \r"
       ]
      },
      {
       "output_type": "stream",
       "stream": "stdout",
       "text": [
        "/var/seq_data/priming_exp/data/uc_files/all_readmap.uc  87.6%   \r"
       ]
      },
      {
       "output_type": "stream",
       "stream": "stdout",
       "text": [
        "/var/seq_data/priming_exp/data/uc_files/all_readmap.uc  87.7%   \r"
       ]
      },
      {
       "output_type": "stream",
       "stream": "stdout",
       "text": [
        "/var/seq_data/priming_exp/data/uc_files/all_readmap.uc  87.8%   \r"
       ]
      },
      {
       "output_type": "stream",
       "stream": "stdout",
       "text": [
        "/var/seq_data/priming_exp/data/uc_files/all_readmap.uc  87.9%   \r"
       ]
      },
      {
       "output_type": "stream",
       "stream": "stdout",
       "text": [
        "/var/seq_data/priming_exp/data/uc_files/all_readmap.uc  88.0%   \r"
       ]
      },
      {
       "output_type": "stream",
       "stream": "stdout",
       "text": [
        "/var/seq_data/priming_exp/data/uc_files/all_readmap.uc  88.2%   \r"
       ]
      },
      {
       "output_type": "stream",
       "stream": "stdout",
       "text": [
        "/var/seq_data/priming_exp/data/uc_files/all_readmap.uc  88.3%   \r"
       ]
      },
      {
       "output_type": "stream",
       "stream": "stdout",
       "text": [
        "/var/seq_data/priming_exp/data/uc_files/all_readmap.uc  88.4%   \r"
       ]
      },
      {
       "output_type": "stream",
       "stream": "stdout",
       "text": [
        "/var/seq_data/priming_exp/data/uc_files/all_readmap.uc  88.5%   \r"
       ]
      },
      {
       "output_type": "stream",
       "stream": "stdout",
       "text": [
        "/var/seq_data/priming_exp/data/uc_files/all_readmap.uc  88.6%   \r"
       ]
      },
      {
       "output_type": "stream",
       "stream": "stdout",
       "text": [
        "/var/seq_data/priming_exp/data/uc_files/all_readmap.uc  88.7%   \r"
       ]
      },
      {
       "output_type": "stream",
       "stream": "stdout",
       "text": [
        "/var/seq_data/priming_exp/data/uc_files/all_readmap.uc  88.9%   \r"
       ]
      },
      {
       "output_type": "stream",
       "stream": "stdout",
       "text": [
        "/var/seq_data/priming_exp/data/uc_files/all_readmap.uc  89.0%   \r"
       ]
      },
      {
       "output_type": "stream",
       "stream": "stdout",
       "text": [
        "/var/seq_data/priming_exp/data/uc_files/all_readmap.uc  89.1%   \r"
       ]
      },
      {
       "output_type": "stream",
       "stream": "stdout",
       "text": [
        "/var/seq_data/priming_exp/data/uc_files/all_readmap.uc  89.2%   \r"
       ]
      },
      {
       "output_type": "stream",
       "stream": "stdout",
       "text": [
        "/var/seq_data/priming_exp/data/uc_files/all_readmap.uc  89.3%   \r"
       ]
      },
      {
       "output_type": "stream",
       "stream": "stdout",
       "text": [
        "/var/seq_data/priming_exp/data/uc_files/all_readmap.uc  89.4%   \r"
       ]
      },
      {
       "output_type": "stream",
       "stream": "stdout",
       "text": [
        "/var/seq_data/priming_exp/data/uc_files/all_readmap.uc  89.6%   \r"
       ]
      },
      {
       "output_type": "stream",
       "stream": "stdout",
       "text": [
        "/var/seq_data/priming_exp/data/uc_files/all_readmap.uc  89.7%   \r"
       ]
      },
      {
       "output_type": "stream",
       "stream": "stdout",
       "text": [
        "/var/seq_data/priming_exp/data/uc_files/all_readmap.uc  89.8%   \r"
       ]
      },
      {
       "output_type": "stream",
       "stream": "stdout",
       "text": [
        "/var/seq_data/priming_exp/data/uc_files/all_readmap.uc  89.9%   \r"
       ]
      },
      {
       "output_type": "stream",
       "stream": "stdout",
       "text": [
        "/var/seq_data/priming_exp/data/uc_files/all_readmap.uc  90.0%   \r"
       ]
      },
      {
       "output_type": "stream",
       "stream": "stdout",
       "text": [
        "/var/seq_data/priming_exp/data/uc_files/all_readmap.uc  90.1%   \r"
       ]
      },
      {
       "output_type": "stream",
       "stream": "stdout",
       "text": [
        "/var/seq_data/priming_exp/data/uc_files/all_readmap.uc  90.3%   \r"
       ]
      },
      {
       "output_type": "stream",
       "stream": "stdout",
       "text": [
        "/var/seq_data/priming_exp/data/uc_files/all_readmap.uc  90.4%   \r"
       ]
      },
      {
       "output_type": "stream",
       "stream": "stdout",
       "text": [
        "/var/seq_data/priming_exp/data/uc_files/all_readmap.uc  90.5%   \r"
       ]
      },
      {
       "output_type": "stream",
       "stream": "stdout",
       "text": [
        "/var/seq_data/priming_exp/data/uc_files/all_readmap.uc  90.6%   \r"
       ]
      },
      {
       "output_type": "stream",
       "stream": "stdout",
       "text": [
        "/var/seq_data/priming_exp/data/uc_files/all_readmap.uc  90.7%   \r"
       ]
      },
      {
       "output_type": "stream",
       "stream": "stdout",
       "text": [
        "/var/seq_data/priming_exp/data/uc_files/all_readmap.uc  90.9%   \r"
       ]
      },
      {
       "output_type": "stream",
       "stream": "stdout",
       "text": [
        "/var/seq_data/priming_exp/data/uc_files/all_readmap.uc  91.0%   \r"
       ]
      },
      {
       "output_type": "stream",
       "stream": "stdout",
       "text": [
        "/var/seq_data/priming_exp/data/uc_files/all_readmap.uc  91.1%   \r"
       ]
      },
      {
       "output_type": "stream",
       "stream": "stdout",
       "text": [
        "/var/seq_data/priming_exp/data/uc_files/all_readmap.uc  91.2%   \r"
       ]
      },
      {
       "output_type": "stream",
       "stream": "stdout",
       "text": [
        "/var/seq_data/priming_exp/data/uc_files/all_readmap.uc  91.3%   \r"
       ]
      },
      {
       "output_type": "stream",
       "stream": "stdout",
       "text": [
        "/var/seq_data/priming_exp/data/uc_files/all_readmap.uc  91.4%   \r"
       ]
      },
      {
       "output_type": "stream",
       "stream": "stdout",
       "text": [
        "/var/seq_data/priming_exp/data/uc_files/all_readmap.uc  91.6%   \r"
       ]
      },
      {
       "output_type": "stream",
       "stream": "stdout",
       "text": [
        "/var/seq_data/priming_exp/data/uc_files/all_readmap.uc  91.7%   \r"
       ]
      },
      {
       "output_type": "stream",
       "stream": "stdout",
       "text": [
        "/var/seq_data/priming_exp/data/uc_files/all_readmap.uc  91.8%   \r"
       ]
      },
      {
       "output_type": "stream",
       "stream": "stdout",
       "text": [
        "/var/seq_data/priming_exp/data/uc_files/all_readmap.uc  91.9%   \r"
       ]
      },
      {
       "output_type": "stream",
       "stream": "stdout",
       "text": [
        "/var/seq_data/priming_exp/data/uc_files/all_readmap.uc  92.0%   \r"
       ]
      },
      {
       "output_type": "stream",
       "stream": "stdout",
       "text": [
        "/var/seq_data/priming_exp/data/uc_files/all_readmap.uc  92.1%   \r"
       ]
      },
      {
       "output_type": "stream",
       "stream": "stdout",
       "text": [
        "/var/seq_data/priming_exp/data/uc_files/all_readmap.uc  92.3%   \r"
       ]
      },
      {
       "output_type": "stream",
       "stream": "stdout",
       "text": [
        "/var/seq_data/priming_exp/data/uc_files/all_readmap.uc  92.4%   \r"
       ]
      },
      {
       "output_type": "stream",
       "stream": "stdout",
       "text": [
        "/var/seq_data/priming_exp/data/uc_files/all_readmap.uc  92.5%   \r"
       ]
      },
      {
       "output_type": "stream",
       "stream": "stdout",
       "text": [
        "/var/seq_data/priming_exp/data/uc_files/all_readmap.uc  92.6%   \r"
       ]
      },
      {
       "output_type": "stream",
       "stream": "stdout",
       "text": [
        "/var/seq_data/priming_exp/data/uc_files/all_readmap.uc  92.7%   \r"
       ]
      },
      {
       "output_type": "stream",
       "stream": "stdout",
       "text": [
        "/var/seq_data/priming_exp/data/uc_files/all_readmap.uc  92.8%   \r"
       ]
      },
      {
       "output_type": "stream",
       "stream": "stdout",
       "text": [
        "/var/seq_data/priming_exp/data/uc_files/all_readmap.uc  92.9%   \r"
       ]
      },
      {
       "output_type": "stream",
       "stream": "stdout",
       "text": [
        "/var/seq_data/priming_exp/data/uc_files/all_readmap.uc  92.9%   \r"
       ]
      },
      {
       "output_type": "stream",
       "stream": "stdout",
       "text": [
        "/var/seq_data/priming_exp/data/uc_files/all_readmap.uc  93.0%   \r"
       ]
      },
      {
       "output_type": "stream",
       "stream": "stdout",
       "text": [
        "/var/seq_data/priming_exp/data/uc_files/all_readmap.uc  93.1%   \r"
       ]
      },
      {
       "output_type": "stream",
       "stream": "stdout",
       "text": [
        "/var/seq_data/priming_exp/data/uc_files/all_readmap.uc  93.1%   \r"
       ]
      },
      {
       "output_type": "stream",
       "stream": "stdout",
       "text": [
        "/var/seq_data/priming_exp/data/uc_files/all_readmap.uc  93.2%   \r"
       ]
      },
      {
       "output_type": "stream",
       "stream": "stdout",
       "text": [
        "/var/seq_data/priming_exp/data/uc_files/all_readmap.uc  93.2%   \r"
       ]
      },
      {
       "output_type": "stream",
       "stream": "stdout",
       "text": [
        "/var/seq_data/priming_exp/data/uc_files/all_readmap.uc  93.3%   \r"
       ]
      },
      {
       "output_type": "stream",
       "stream": "stdout",
       "text": [
        "/var/seq_data/priming_exp/data/uc_files/all_readmap.uc  93.4%   \r"
       ]
      },
      {
       "output_type": "stream",
       "stream": "stdout",
       "text": [
        "/var/seq_data/priming_exp/data/uc_files/all_readmap.uc  93.4%   \r"
       ]
      },
      {
       "output_type": "stream",
       "stream": "stdout",
       "text": [
        "/var/seq_data/priming_exp/data/uc_files/all_readmap.uc  93.5%   \r"
       ]
      },
      {
       "output_type": "stream",
       "stream": "stdout",
       "text": [
        "/var/seq_data/priming_exp/data/uc_files/all_readmap.uc  93.5%   \r"
       ]
      },
      {
       "output_type": "stream",
       "stream": "stdout",
       "text": [
        "/var/seq_data/priming_exp/data/uc_files/all_readmap.uc  93.6%   \r"
       ]
      },
      {
       "output_type": "stream",
       "stream": "stdout",
       "text": [
        "/var/seq_data/priming_exp/data/uc_files/all_readmap.uc  93.6%   \r"
       ]
      },
      {
       "output_type": "stream",
       "stream": "stdout",
       "text": [
        "/var/seq_data/priming_exp/data/uc_files/all_readmap.uc  93.7%   \r"
       ]
      },
      {
       "output_type": "stream",
       "stream": "stdout",
       "text": [
        "/var/seq_data/priming_exp/data/uc_files/all_readmap.uc  93.7%   \r"
       ]
      },
      {
       "output_type": "stream",
       "stream": "stdout",
       "text": [
        "/var/seq_data/priming_exp/data/uc_files/all_readmap.uc  93.8%   \r"
       ]
      },
      {
       "output_type": "stream",
       "stream": "stdout",
       "text": [
        "/var/seq_data/priming_exp/data/uc_files/all_readmap.uc  93.9%   \r"
       ]
      },
      {
       "output_type": "stream",
       "stream": "stdout",
       "text": [
        "/var/seq_data/priming_exp/data/uc_files/all_readmap.uc  93.9%   \r"
       ]
      },
      {
       "output_type": "stream",
       "stream": "stdout",
       "text": [
        "/var/seq_data/priming_exp/data/uc_files/all_readmap.uc  94.0%   \r"
       ]
      },
      {
       "output_type": "stream",
       "stream": "stdout",
       "text": [
        "/var/seq_data/priming_exp/data/uc_files/all_readmap.uc  94.0%   \r"
       ]
      },
      {
       "output_type": "stream",
       "stream": "stdout",
       "text": [
        "/var/seq_data/priming_exp/data/uc_files/all_readmap.uc  94.1%   \r"
       ]
      },
      {
       "output_type": "stream",
       "stream": "stdout",
       "text": [
        "/var/seq_data/priming_exp/data/uc_files/all_readmap.uc  94.1%   \r"
       ]
      },
      {
       "output_type": "stream",
       "stream": "stdout",
       "text": [
        "/var/seq_data/priming_exp/data/uc_files/all_readmap.uc  94.2%   \r"
       ]
      },
      {
       "output_type": "stream",
       "stream": "stdout",
       "text": [
        "/var/seq_data/priming_exp/data/uc_files/all_readmap.uc  94.3%   \r"
       ]
      },
      {
       "output_type": "stream",
       "stream": "stdout",
       "text": [
        "/var/seq_data/priming_exp/data/uc_files/all_readmap.uc  94.3%   \r"
       ]
      },
      {
       "output_type": "stream",
       "stream": "stdout",
       "text": [
        "/var/seq_data/priming_exp/data/uc_files/all_readmap.uc  94.4%   \r"
       ]
      },
      {
       "output_type": "stream",
       "stream": "stdout",
       "text": [
        "/var/seq_data/priming_exp/data/uc_files/all_readmap.uc  94.4%   \r"
       ]
      },
      {
       "output_type": "stream",
       "stream": "stdout",
       "text": [
        "/var/seq_data/priming_exp/data/uc_files/all_readmap.uc  94.5%   \r"
       ]
      },
      {
       "output_type": "stream",
       "stream": "stdout",
       "text": [
        "/var/seq_data/priming_exp/data/uc_files/all_readmap.uc  94.6%   \r"
       ]
      },
      {
       "output_type": "stream",
       "stream": "stdout",
       "text": [
        "/var/seq_data/priming_exp/data/uc_files/all_readmap.uc  94.6%   \r"
       ]
      },
      {
       "output_type": "stream",
       "stream": "stdout",
       "text": [
        "/var/seq_data/priming_exp/data/uc_files/all_readmap.uc  94.7%   \r"
       ]
      },
      {
       "output_type": "stream",
       "stream": "stdout",
       "text": [
        "/var/seq_data/priming_exp/data/uc_files/all_readmap.uc  94.7%   \r"
       ]
      },
      {
       "output_type": "stream",
       "stream": "stdout",
       "text": [
        "/var/seq_data/priming_exp/data/uc_files/all_readmap.uc  94.8%   \r"
       ]
      },
      {
       "output_type": "stream",
       "stream": "stdout",
       "text": [
        "/var/seq_data/priming_exp/data/uc_files/all_readmap.uc  94.8%   \r"
       ]
      },
      {
       "output_type": "stream",
       "stream": "stdout",
       "text": [
        "/var/seq_data/priming_exp/data/uc_files/all_readmap.uc  94.9%   \r"
       ]
      },
      {
       "output_type": "stream",
       "stream": "stdout",
       "text": [
        "/var/seq_data/priming_exp/data/uc_files/all_readmap.uc  94.9%   \r"
       ]
      },
      {
       "output_type": "stream",
       "stream": "stdout",
       "text": [
        "/var/seq_data/priming_exp/data/uc_files/all_readmap.uc  95.0%   \r"
       ]
      },
      {
       "output_type": "stream",
       "stream": "stdout",
       "text": [
        "/var/seq_data/priming_exp/data/uc_files/all_readmap.uc  95.0%   \r"
       ]
      },
      {
       "output_type": "stream",
       "stream": "stdout",
       "text": [
        "/var/seq_data/priming_exp/data/uc_files/all_readmap.uc  95.1%   \r"
       ]
      },
      {
       "output_type": "stream",
       "stream": "stdout",
       "text": [
        "/var/seq_data/priming_exp/data/uc_files/all_readmap.uc  95.1%   \r"
       ]
      },
      {
       "output_type": "stream",
       "stream": "stdout",
       "text": [
        "/var/seq_data/priming_exp/data/uc_files/all_readmap.uc  95.2%   \r"
       ]
      },
      {
       "output_type": "stream",
       "stream": "stdout",
       "text": [
        "/var/seq_data/priming_exp/data/uc_files/all_readmap.uc  95.2%   \r"
       ]
      },
      {
       "output_type": "stream",
       "stream": "stdout",
       "text": [
        "/var/seq_data/priming_exp/data/uc_files/all_readmap.uc  95.3%   \r"
       ]
      },
      {
       "output_type": "stream",
       "stream": "stdout",
       "text": [
        "/var/seq_data/priming_exp/data/uc_files/all_readmap.uc  95.3%   \r"
       ]
      },
      {
       "output_type": "stream",
       "stream": "stdout",
       "text": [
        "/var/seq_data/priming_exp/data/uc_files/all_readmap.uc  95.4%   \r"
       ]
      },
      {
       "output_type": "stream",
       "stream": "stdout",
       "text": [
        "/var/seq_data/priming_exp/data/uc_files/all_readmap.uc  95.4%   \r"
       ]
      },
      {
       "output_type": "stream",
       "stream": "stdout",
       "text": [
        "/var/seq_data/priming_exp/data/uc_files/all_readmap.uc  95.5%   \r"
       ]
      },
      {
       "output_type": "stream",
       "stream": "stdout",
       "text": [
        "/var/seq_data/priming_exp/data/uc_files/all_readmap.uc  95.5%   \r"
       ]
      },
      {
       "output_type": "stream",
       "stream": "stdout",
       "text": [
        "/var/seq_data/priming_exp/data/uc_files/all_readmap.uc  95.6%   \r"
       ]
      },
      {
       "output_type": "stream",
       "stream": "stdout",
       "text": [
        "/var/seq_data/priming_exp/data/uc_files/all_readmap.uc  95.6%   \r"
       ]
      },
      {
       "output_type": "stream",
       "stream": "stdout",
       "text": [
        "/var/seq_data/priming_exp/data/uc_files/all_readmap.uc  95.7%   \r"
       ]
      },
      {
       "output_type": "stream",
       "stream": "stdout",
       "text": [
        "/var/seq_data/priming_exp/data/uc_files/all_readmap.uc  95.7%   \r"
       ]
      },
      {
       "output_type": "stream",
       "stream": "stdout",
       "text": [
        "/var/seq_data/priming_exp/data/uc_files/all_readmap.uc  95.8%   \r"
       ]
      },
      {
       "output_type": "stream",
       "stream": "stdout",
       "text": [
        "/var/seq_data/priming_exp/data/uc_files/all_readmap.uc  95.8%   \r"
       ]
      },
      {
       "output_type": "stream",
       "stream": "stdout",
       "text": [
        "/var/seq_data/priming_exp/data/uc_files/all_readmap.uc  95.9%   \r"
       ]
      },
      {
       "output_type": "stream",
       "stream": "stdout",
       "text": [
        "/var/seq_data/priming_exp/data/uc_files/all_readmap.uc  95.9%   \r"
       ]
      },
      {
       "output_type": "stream",
       "stream": "stdout",
       "text": [
        "/var/seq_data/priming_exp/data/uc_files/all_readmap.uc  96.0%   \r"
       ]
      },
      {
       "output_type": "stream",
       "stream": "stdout",
       "text": [
        "/var/seq_data/priming_exp/data/uc_files/all_readmap.uc  96.0%   \r"
       ]
      },
      {
       "output_type": "stream",
       "stream": "stdout",
       "text": [
        "/var/seq_data/priming_exp/data/uc_files/all_readmap.uc  96.0%   \r"
       ]
      },
      {
       "output_type": "stream",
       "stream": "stdout",
       "text": [
        "/var/seq_data/priming_exp/data/uc_files/all_readmap.uc  96.1%   \r"
       ]
      },
      {
       "output_type": "stream",
       "stream": "stdout",
       "text": [
        "/var/seq_data/priming_exp/data/uc_files/all_readmap.uc  96.1%   \r"
       ]
      },
      {
       "output_type": "stream",
       "stream": "stdout",
       "text": [
        "/var/seq_data/priming_exp/data/uc_files/all_readmap.uc  96.2%   \r"
       ]
      },
      {
       "output_type": "stream",
       "stream": "stdout",
       "text": [
        "/var/seq_data/priming_exp/data/uc_files/all_readmap.uc  96.2%   \r"
       ]
      },
      {
       "output_type": "stream",
       "stream": "stdout",
       "text": [
        "/var/seq_data/priming_exp/data/uc_files/all_readmap.uc  96.3%   \r"
       ]
      },
      {
       "output_type": "stream",
       "stream": "stdout",
       "text": [
        "/var/seq_data/priming_exp/data/uc_files/all_readmap.uc  96.3%   \r"
       ]
      },
      {
       "output_type": "stream",
       "stream": "stdout",
       "text": [
        "/var/seq_data/priming_exp/data/uc_files/all_readmap.uc  96.4%   \r"
       ]
      },
      {
       "output_type": "stream",
       "stream": "stdout",
       "text": [
        "/var/seq_data/priming_exp/data/uc_files/all_readmap.uc  96.4%   \r"
       ]
      },
      {
       "output_type": "stream",
       "stream": "stdout",
       "text": [
        "/var/seq_data/priming_exp/data/uc_files/all_readmap.uc  96.5%   \r"
       ]
      },
      {
       "output_type": "stream",
       "stream": "stdout",
       "text": [
        "/var/seq_data/priming_exp/data/uc_files/all_readmap.uc  96.5%   \r"
       ]
      },
      {
       "output_type": "stream",
       "stream": "stdout",
       "text": [
        "/var/seq_data/priming_exp/data/uc_files/all_readmap.uc  96.6%   \r"
       ]
      },
      {
       "output_type": "stream",
       "stream": "stdout",
       "text": [
        "/var/seq_data/priming_exp/data/uc_files/all_readmap.uc  96.6%   \r"
       ]
      },
      {
       "output_type": "stream",
       "stream": "stdout",
       "text": [
        "/var/seq_data/priming_exp/data/uc_files/all_readmap.uc  96.7%   \r"
       ]
      },
      {
       "output_type": "stream",
       "stream": "stdout",
       "text": [
        "/var/seq_data/priming_exp/data/uc_files/all_readmap.uc  96.7%   \r"
       ]
      },
      {
       "output_type": "stream",
       "stream": "stdout",
       "text": [
        "/var/seq_data/priming_exp/data/uc_files/all_readmap.uc  96.8%   \r"
       ]
      },
      {
       "output_type": "stream",
       "stream": "stdout",
       "text": [
        "/var/seq_data/priming_exp/data/uc_files/all_readmap.uc  96.8%   \r"
       ]
      },
      {
       "output_type": "stream",
       "stream": "stdout",
       "text": [
        "/var/seq_data/priming_exp/data/uc_files/all_readmap.uc  96.9%   \r"
       ]
      },
      {
       "output_type": "stream",
       "stream": "stdout",
       "text": [
        "/var/seq_data/priming_exp/data/uc_files/all_readmap.uc  96.9%   \r"
       ]
      },
      {
       "output_type": "stream",
       "stream": "stdout",
       "text": [
        "/var/seq_data/priming_exp/data/uc_files/all_readmap.uc  97.0%   \r"
       ]
      },
      {
       "output_type": "stream",
       "stream": "stdout",
       "text": [
        "/var/seq_data/priming_exp/data/uc_files/all_readmap.uc  97.0%   \r"
       ]
      },
      {
       "output_type": "stream",
       "stream": "stdout",
       "text": [
        "/var/seq_data/priming_exp/data/uc_files/all_readmap.uc  97.1%   \r"
       ]
      },
      {
       "output_type": "stream",
       "stream": "stdout",
       "text": [
        "/var/seq_data/priming_exp/data/uc_files/all_readmap.uc  97.1%   \r"
       ]
      },
      {
       "output_type": "stream",
       "stream": "stdout",
       "text": [
        "/var/seq_data/priming_exp/data/uc_files/all_readmap.uc  97.2%   \r"
       ]
      },
      {
       "output_type": "stream",
       "stream": "stdout",
       "text": [
        "/var/seq_data/priming_exp/data/uc_files/all_readmap.uc  97.2%   \r"
       ]
      },
      {
       "output_type": "stream",
       "stream": "stdout",
       "text": [
        "/var/seq_data/priming_exp/data/uc_files/all_readmap.uc  97.3%   \r"
       ]
      },
      {
       "output_type": "stream",
       "stream": "stdout",
       "text": [
        "/var/seq_data/priming_exp/data/uc_files/all_readmap.uc  97.3%   \r"
       ]
      },
      {
       "output_type": "stream",
       "stream": "stdout",
       "text": [
        "/var/seq_data/priming_exp/data/uc_files/all_readmap.uc  97.3%   \r"
       ]
      },
      {
       "output_type": "stream",
       "stream": "stdout",
       "text": [
        "/var/seq_data/priming_exp/data/uc_files/all_readmap.uc  97.4%   \r"
       ]
      },
      {
       "output_type": "stream",
       "stream": "stdout",
       "text": [
        "/var/seq_data/priming_exp/data/uc_files/all_readmap.uc  97.4%   \r"
       ]
      },
      {
       "output_type": "stream",
       "stream": "stdout",
       "text": [
        "/var/seq_data/priming_exp/data/uc_files/all_readmap.uc  97.5%   \r"
       ]
      },
      {
       "output_type": "stream",
       "stream": "stdout",
       "text": [
        "/var/seq_data/priming_exp/data/uc_files/all_readmap.uc  97.5%   \r"
       ]
      },
      {
       "output_type": "stream",
       "stream": "stdout",
       "text": [
        "/var/seq_data/priming_exp/data/uc_files/all_readmap.uc  97.6%   \r"
       ]
      },
      {
       "output_type": "stream",
       "stream": "stdout",
       "text": [
        "/var/seq_data/priming_exp/data/uc_files/all_readmap.uc  97.6%   \r"
       ]
      },
      {
       "output_type": "stream",
       "stream": "stdout",
       "text": [
        "/var/seq_data/priming_exp/data/uc_files/all_readmap.uc  97.7%   \r"
       ]
      },
      {
       "output_type": "stream",
       "stream": "stdout",
       "text": [
        "/var/seq_data/priming_exp/data/uc_files/all_readmap.uc  97.7%   \r"
       ]
      },
      {
       "output_type": "stream",
       "stream": "stdout",
       "text": [
        "/var/seq_data/priming_exp/data/uc_files/all_readmap.uc  97.8%   \r"
       ]
      },
      {
       "output_type": "stream",
       "stream": "stdout",
       "text": [
        "/var/seq_data/priming_exp/data/uc_files/all_readmap.uc  97.8%   \r"
       ]
      },
      {
       "output_type": "stream",
       "stream": "stdout",
       "text": [
        "/var/seq_data/priming_exp/data/uc_files/all_readmap.uc  97.9%   \r"
       ]
      },
      {
       "output_type": "stream",
       "stream": "stdout",
       "text": [
        "/var/seq_data/priming_exp/data/uc_files/all_readmap.uc  97.9%   \r"
       ]
      },
      {
       "output_type": "stream",
       "stream": "stdout",
       "text": [
        "/var/seq_data/priming_exp/data/uc_files/all_readmap.uc  98.0%   \r"
       ]
      },
      {
       "output_type": "stream",
       "stream": "stdout",
       "text": [
        "/var/seq_data/priming_exp/data/uc_files/all_readmap.uc  98.0%   \r"
       ]
      },
      {
       "output_type": "stream",
       "stream": "stdout",
       "text": [
        "/var/seq_data/priming_exp/data/uc_files/all_readmap.uc  98.1%   \r"
       ]
      },
      {
       "output_type": "stream",
       "stream": "stdout",
       "text": [
        "/var/seq_data/priming_exp/data/uc_files/all_readmap.uc  98.1%   \r"
       ]
      },
      {
       "output_type": "stream",
       "stream": "stdout",
       "text": [
        "/var/seq_data/priming_exp/data/uc_files/all_readmap.uc  98.2%   \r"
       ]
      },
      {
       "output_type": "stream",
       "stream": "stdout",
       "text": [
        "/var/seq_data/priming_exp/data/uc_files/all_readmap.uc  98.2%   \r"
       ]
      },
      {
       "output_type": "stream",
       "stream": "stdout",
       "text": [
        "/var/seq_data/priming_exp/data/uc_files/all_readmap.uc  98.3%   \r"
       ]
      },
      {
       "output_type": "stream",
       "stream": "stdout",
       "text": [
        "/var/seq_data/priming_exp/data/uc_files/all_readmap.uc  98.3%   \r"
       ]
      },
      {
       "output_type": "stream",
       "stream": "stdout",
       "text": [
        "/var/seq_data/priming_exp/data/uc_files/all_readmap.uc  98.4%   \r"
       ]
      },
      {
       "output_type": "stream",
       "stream": "stdout",
       "text": [
        "/var/seq_data/priming_exp/data/uc_files/all_readmap.uc  98.4%   \r"
       ]
      },
      {
       "output_type": "stream",
       "stream": "stdout",
       "text": [
        "/var/seq_data/priming_exp/data/uc_files/all_readmap.uc  98.5%   \r"
       ]
      },
      {
       "output_type": "stream",
       "stream": "stdout",
       "text": [
        "/var/seq_data/priming_exp/data/uc_files/all_readmap.uc  98.5%   \r"
       ]
      },
      {
       "output_type": "stream",
       "stream": "stdout",
       "text": [
        "/var/seq_data/priming_exp/data/uc_files/all_readmap.uc  98.6%   \r"
       ]
      },
      {
       "output_type": "stream",
       "stream": "stdout",
       "text": [
        "/var/seq_data/priming_exp/data/uc_files/all_readmap.uc  98.6%   \r"
       ]
      },
      {
       "output_type": "stream",
       "stream": "stdout",
       "text": [
        "/var/seq_data/priming_exp/data/uc_files/all_readmap.uc  98.6%   \r"
       ]
      },
      {
       "output_type": "stream",
       "stream": "stdout",
       "text": [
        "/var/seq_data/priming_exp/data/uc_files/all_readmap.uc  98.7%   \r"
       ]
      },
      {
       "output_type": "stream",
       "stream": "stdout",
       "text": [
        "/var/seq_data/priming_exp/data/uc_files/all_readmap.uc  98.7%   \r"
       ]
      },
      {
       "output_type": "stream",
       "stream": "stdout",
       "text": [
        "/var/seq_data/priming_exp/data/uc_files/all_readmap.uc  98.8%   \r"
       ]
      },
      {
       "output_type": "stream",
       "stream": "stdout",
       "text": [
        "/var/seq_data/priming_exp/data/uc_files/all_readmap.uc  98.8%   \r"
       ]
      },
      {
       "output_type": "stream",
       "stream": "stdout",
       "text": [
        "/var/seq_data/priming_exp/data/uc_files/all_readmap.uc  98.9%   \r"
       ]
      },
      {
       "output_type": "stream",
       "stream": "stdout",
       "text": [
        "/var/seq_data/priming_exp/data/uc_files/all_readmap.uc  98.9%   \r"
       ]
      },
      {
       "output_type": "stream",
       "stream": "stdout",
       "text": [
        "/var/seq_data/priming_exp/data/uc_files/all_readmap.uc  98.9%   \r"
       ]
      },
      {
       "output_type": "stream",
       "stream": "stdout",
       "text": [
        "/var/seq_data/priming_exp/data/uc_files/all_readmap.uc  99.0%   \r"
       ]
      },
      {
       "output_type": "stream",
       "stream": "stdout",
       "text": [
        "/var/seq_data/priming_exp/data/uc_files/all_readmap.uc  99.0%   \r"
       ]
      },
      {
       "output_type": "stream",
       "stream": "stdout",
       "text": [
        "/var/seq_data/priming_exp/data/uc_files/all_readmap.uc  99.0%   \r"
       ]
      },
      {
       "output_type": "stream",
       "stream": "stdout",
       "text": [
        "/var/seq_data/priming_exp/data/uc_files/all_readmap.uc  99.1%   \r"
       ]
      },
      {
       "output_type": "stream",
       "stream": "stdout",
       "text": [
        "/var/seq_data/priming_exp/data/uc_files/all_readmap.uc  99.1%   \r"
       ]
      },
      {
       "output_type": "stream",
       "stream": "stdout",
       "text": [
        "/var/seq_data/priming_exp/data/uc_files/all_readmap.uc  99.2%   \r"
       ]
      },
      {
       "output_type": "stream",
       "stream": "stdout",
       "text": [
        "/var/seq_data/priming_exp/data/uc_files/all_readmap.uc  99.2%   \r"
       ]
      },
      {
       "output_type": "stream",
       "stream": "stdout",
       "text": [
        "/var/seq_data/priming_exp/data/uc_files/all_readmap.uc  99.2%   \r"
       ]
      },
      {
       "output_type": "stream",
       "stream": "stdout",
       "text": [
        "/var/seq_data/priming_exp/data/uc_files/all_readmap.uc  99.3%   \r"
       ]
      },
      {
       "output_type": "stream",
       "stream": "stdout",
       "text": [
        "/var/seq_data/priming_exp/data/uc_files/all_readmap.uc  99.3%   \r"
       ]
      },
      {
       "output_type": "stream",
       "stream": "stdout",
       "text": [
        "/var/seq_data/priming_exp/data/uc_files/all_readmap.uc  99.3%   \r"
       ]
      },
      {
       "output_type": "stream",
       "stream": "stdout",
       "text": [
        "/var/seq_data/priming_exp/data/uc_files/all_readmap.uc  99.4%   \r"
       ]
      },
      {
       "output_type": "stream",
       "stream": "stdout",
       "text": [
        "/var/seq_data/priming_exp/data/uc_files/all_readmap.uc  99.4%   \r"
       ]
      },
      {
       "output_type": "stream",
       "stream": "stdout",
       "text": [
        "/var/seq_data/priming_exp/data/uc_files/all_readmap.uc  99.4%   \r"
       ]
      },
      {
       "output_type": "stream",
       "stream": "stdout",
       "text": [
        "/var/seq_data/priming_exp/data/uc_files/all_readmap.uc  99.5%   \r"
       ]
      },
      {
       "output_type": "stream",
       "stream": "stdout",
       "text": [
        "/var/seq_data/priming_exp/data/uc_files/all_readmap.uc  99.5%   \r"
       ]
      },
      {
       "output_type": "stream",
       "stream": "stdout",
       "text": [
        "/var/seq_data/priming_exp/data/uc_files/all_readmap.uc  99.6%   \r"
       ]
      },
      {
       "output_type": "stream",
       "stream": "stdout",
       "text": [
        "/var/seq_data/priming_exp/data/uc_files/all_readmap.uc  99.6%   \r"
       ]
      },
      {
       "output_type": "stream",
       "stream": "stdout",
       "text": [
        "/var/seq_data/priming_exp/data/uc_files/all_readmap.uc  99.6%   \r"
       ]
      },
      {
       "output_type": "stream",
       "stream": "stdout",
       "text": [
        "/var/seq_data/priming_exp/data/uc_files/all_readmap.uc  99.7%   \r"
       ]
      },
      {
       "output_type": "stream",
       "stream": "stdout",
       "text": [
        "/var/seq_data/priming_exp/data/uc_files/all_readmap.uc  99.7%   \r"
       ]
      },
      {
       "output_type": "stream",
       "stream": "stdout",
       "text": [
        "/var/seq_data/priming_exp/data/uc_files/all_readmap.uc  99.7%   \r"
       ]
      },
      {
       "output_type": "stream",
       "stream": "stdout",
       "text": [
        "/var/seq_data/priming_exp/data/uc_files/all_readmap.uc  99.8%   \r"
       ]
      },
      {
       "output_type": "stream",
       "stream": "stdout",
       "text": [
        "/var/seq_data/priming_exp/data/uc_files/all_readmap.uc  99.8%   \r"
       ]
      },
      {
       "output_type": "stream",
       "stream": "stdout",
       "text": [
        "/var/seq_data/priming_exp/data/uc_files/all_readmap.uc  99.9%   \r"
       ]
      },
      {
       "output_type": "stream",
       "stream": "stdout",
       "text": [
        "/var/seq_data/priming_exp/data/uc_files/all_readmap.uc  99.9%   \r"
       ]
      },
      {
       "output_type": "stream",
       "stream": "stdout",
       "text": [
        "/var/seq_data/priming_exp/data/uc_files/all_readmap.uc  99.9%   \r"
       ]
      },
      {
       "output_type": "stream",
       "stream": "stdout",
       "text": [
        "/var/seq_data/priming_exp/data/uc_files/all_readmap.uc 100.0%   \r"
       ]
      },
      {
       "output_type": "stream",
       "stream": "stdout",
       "text": [
        "/var/seq_data/priming_exp/data/uc_files/all_readmap.uc 100.0%   \r\n"
       ]
      }
     ],
     "prompt_number": 39
    },
    {
     "cell_type": "code",
     "collapsed": false,
     "input": [
      "!if [ -f /var/seq_data/priming_exp/data/otu_table.biom ]; then rm /var/seq_data/priming_exp/data/otu_table.biom; fi #This is to mitigate a biom bug\n",
      "!biom convert -i /var/seq_data/priming_exp/data/otu_table.txt -o /var/seq_data/priming_exp/data/otu_table.biom --table-type \"otu table\""
     ],
     "language": "python",
     "metadata": {},
     "outputs": [],
     "prompt_number": 40
    },
    {
     "cell_type": "code",
     "collapsed": false,
     "input": [
      "!if [ -f /var/seq_data/priming_exp/data/otu_table_summary.txt ]; then rm /var/seq_data/priming_exp/data/otu_table_summary.txt; fi #This is to mitigate a biom bug\n",
      "!biom summarize-table -i /var/seq_data/priming_exp/data/otu_table.biom -o /var/seq_data/priming_exp/data/otu_table_summary.txt"
     ],
     "language": "python",
     "metadata": {},
     "outputs": [],
     "prompt_number": 41
    },
    {
     "cell_type": "code",
     "collapsed": false,
     "input": [
      "!cat /var/seq_data/priming_exp/data/otu_table_summary.txt"
     ],
     "language": "python",
     "metadata": {},
     "outputs": [
      {
       "output_type": "stream",
       "stream": "stdout",
       "text": [
        "Num samples: 467\r\n",
        "Num observations: 10361\r\n",
        "Total count: 14934544\r\n",
        "Table density (fraction of non-zero values): 0.226\r\n",
        "Table md5 (unzipped): e2de090a3254d9fc72769606df09a2c0\r\n",
        "\r\n",
        "Counts/sample summary:\r\n",
        " Min: 1.0\r\n",
        " Max: 180942.0\r\n",
        " Median: 26271.000\r\n",
        " Mean: 31979.752\r\n",
        " Std. dev.: 20799.132\r\n",
        " Sample Metadata Categories: None provided\r\n",
        " Observation Metadata Categories: None provided\r\n",
        "\r\n",
        "Counts/sample detail:\r\n",
        " 0MC.000.00.00.00NA: 1.0\r\n",
        " 12C.000.28.03.27: 2.0\r\n",
        " 13C.700.45.03.21: 2.0\r\n",
        " 0MC.000.00.00.00: 2.0\r\n",
        " 12C.000.28.03.26: 1952.0\r\n",
        " 12C.100.45.01.17: 2131.0\r\n",
        " 12C.000.28.03.23: 2700.0\r\n",
        " 13C.700.45.03.09: 2832.0\r\n",
        " 12C.000.28.03.22: 2886.0\r\n",
        " 12C.000.45.01.05: 3245.0\r\n",
        " 12C.000.28.03.11: 3777.0\r\n",
        " 12C.000.45.01.13: 3978.0\r\n",
        " 12C.100.45.01.09: 4161.0\r\n",
        " 12C.700.28.04.15: 4279.0\r\n",
        " 13C.700.45.03.11: 4354.0\r\n",
        " 12C.000.45.01.21: 5338.0\r\n",
        " 13C.000.14.09.17: 5516.0\r\n",
        " 12C.100.45.01.01: 5988.0\r\n",
        " 12C.000.14.05.13: 6262.0\r\n",
        " 13C.000.14.09.23: 6277.0\r\n",
        " 12C.000.14.05.21: 6315.0\r\n",
        " 13C.000.14.09.15: 6767.0\r\n",
        " 12C.000.14.05.05: 6945.0\r\n",
        " 13C.700.45.03.16: 6988.0\r\n",
        " 13C.000.14.09.03: 7012.0\r\n",
        " 13C.700.45.03.17: 7066.0\r\n",
        " 12C.700.28.04.07: 7419.0\r\n",
        " 13C.700.45.02.NA: 8559.0\r\n",
        " 13C.700.45.03.19: 8642.0\r\n",
        " 13C.700.45.03.15: 8814.0\r\n",
        " 13C.000.14.09.22: 8872.0\r\n",
        " 13C.700.45.03.07: 9336.0\r\n",
        " 13C.000.28.06.16: 9849.0\r\n",
        " 12C.100.45.01.15: 10028.0\r\n",
        " 00C.000.45.02.NA: 10293.0\r\n",
        " 12C.000.14.05.19: 10326.0\r\n",
        " 13C.000.45.03.15: 10525.0\r\n",
        " 12C.100.45.01.10: 10570.0\r\n",
        " 00C.000.28.06.NA: 10622.0\r\n",
        " 13C.100.14.09.17: 10648.0\r\n",
        " 13C.700.28.07.11: 10691.0\r\n",
        " 13C.000.14.09.21: 10762.0\r\n",
        " 12C.100.45.01.NA: 10811.0\r\n",
        " 13C.000.28.06.20: 11005.0\r\n",
        " 13C.100.14.09.14: 11200.0\r\n",
        " 00C.000.07.10.NA: 11233.0\r\n",
        " 12C.000.14.05.NA: 11447.0\r\n",
        " 00C.000.45.05.NA: 11461.0\r\n",
        " 13C.100.14.09.12: 11962.0\r\n",
        " 13C.100.28.06.14: 12121.0\r\n",
        " 13C.700.45.03.NA: 12288.0\r\n",
        " 13C.100.28.07.12: 12318.0\r\n",
        " 13C.700.28.07.19: 12356.0\r\n",
        " 12C.000.28.03.20: 12392.0\r\n",
        " 13C.700.45.01.NA: 12404.0\r\n",
        " 13C.000.28.06.08: 12647.0\r\n",
        " 13C.000.28.06.12: 12849.0\r\n",
        " 13C.000.14.09.14: 12899.0\r\n",
        " 12C.700.14.06.NA: 13004.0\r\n",
        " 13C.100.28.06.09: 13100.0\r\n",
        " 12C.100.45.01.03: 13342.0\r\n",
        " 12C.000.28.03.12: 13522.0\r\n",
        " 13C.700.45.03.08: 13603.0\r\n",
        " 13C.100.14.09.13: 13730.0\r\n",
        " 00C.000.45.04.NA: 13916.0\r\n",
        " 13C.700.28.07.13: 13927.0\r\n",
        " 13C.100.45.03.14: 13988.0\r\n",
        " 12C.000.07.08.NA: 14058.0\r\n",
        " 13C.000.45.02.NA: 14317.0\r\n",
        " 13C.100.14.09.19: 14378.0\r\n",
        " 13C.000.14.09.11: 14452.0\r\n",
        " 13C.100.28.06.22: 14654.0\r\n",
        " 13C.700.14.09.NA: 14771.0\r\n",
        " 13C.100.45.01.NA: 14795.0\r\n",
        " 13C.100.28.07.10: 14864.0\r\n",
        " 12C.000.14.05.17: 14976.0\r\n",
        " 00C.000.45.03.NA: 14999.0\r\n",
        " 12C.100.00.09.NA: 15324.0\r\n",
        " 13C.100.28.06.16: 15624.0\r\n",
        " 13C.100.14.09.18: 15635.0\r\n",
        " 13C.100.14.09.16: 15673.0\r\n",
        " 12C.100.45.01.18: 15697.0\r\n",
        " 13C.100.28.07.05: 15761.0\r\n",
        " 13C.000.45.03.21: 15852.0\r\n",
        " 13C.100.28.06.19: 15909.0\r\n",
        " 13C.100.28.07.13: 15969.0\r\n",
        " 13C.100.45.03.17: 15978.0\r\n",
        " 12C.700.28.03.NA: 16011.0\r\n",
        " 13C.100.28.06.20: 16031.0\r\n",
        " 13C.700.14.08.13: 16088.0\r\n",
        " 13C.100.28.06.10: 16112.0\r\n",
        " 13C.700.45.03.03: 16184.0\r\n",
        " 13C.100.45.03.06: 16303.0\r\n",
        " 13C.700.14.08.21: 16605.0\r\n",
        " 13C.100.14.09.15: 16624.0\r\n",
        " 13C.100.28.07.21: 16795.0\r\n",
        " 13C.000.14.09.09: 16822.0\r\n",
        " 00C.000.00.13.NA: 16869.0\r\n",
        " 13C.100.28.06.NA: 16872.0\r\n",
        " 12C.000.28.03.21: 17107.0\r\n",
        " 13C.100.45.03.09: 17108.0\r\n",
        " 13C.100.28.07.04: 17130.0\r\n",
        " 13C.100.28.07.18: 17244.0\r\n",
        " 13C.100.28.06.17: 17302.0\r\n",
        " 13C.100.45.03.21: 17330.0\r\n",
        " 12C.000.45.01.17: 17376.0\r\n",
        " 13C.100.45.03.11: 17397.0\r\n",
        " 13C.100.45.03.07: 17405.0\r\n",
        " 13C.100.45.03.16: 17472.0\r\n",
        " 13C.100.28.06.23: 17648.0\r\n",
        " 13C.000.28.07.NA: 17693.0\r\n",
        " 12C.700.07.07.NA: 17698.0\r\n",
        " 13C.100.45.03.08: 17750.0\r\n",
        " 13C.100.28.07.14: 17783.0\r\n",
        " 12C.000.28.03.NA: 17811.0\r\n",
        " 00C.000.28.07.NA: 17817.0\r\n",
        " 12C.700.28.04.19: 17847.0\r\n",
        " 13C.100.28.06.06: 17855.0\r\n",
        " 13C.700.28.07.14: 17864.0\r\n",
        " 13C.000.14.09.07: 17946.0\r\n",
        " 13C.000.14.09.NA: 17966.0\r\n",
        " 13C.700.14.08.19: 18012.0\r\n",
        " 13C.700.14.08.10: 18012.0\r\n",
        " 00C.000.14.08.NA: 18015.0\r\n",
        " 13C.100.45.03.19: 18027.0\r\n",
        " 13C.100.28.06.13: 18087.0\r\n",
        " 12C.000.45.01.19: 18137.0\r\n",
        " 12C.100.28.04.NA: 18166.0\r\n",
        " 13C.100.28.06.15: 18211.0\r\n",
        " 13C.100.14.09.11: 18243.0\r\n",
        " 13C.700.14.08.11: 18468.0\r\n",
        " 13C.700.28.06.NA: 18508.0\r\n",
        " 13C.700.14.08.12: 18550.0\r\n",
        " 13C.000.45.05.NA: 18683.0\r\n",
        " 13C.100.14.09.09: 18892.0\r\n",
        " 13C.000.45.03.07: 18955.0\r\n",
        " 13C.100.28.07.06: 18974.0\r\n",
        " 13C.100.28.07.22: 19026.0\r\n",
        " 13C.100.28.06.11: 19062.0\r\n",
        " 13C.700.28.07.15: 19135.0\r\n",
        " 13C.100.28.06.08: 19274.0\r\n",
        " 12C.000.45.01.NA: 19363.0\r\n",
        " 13C.700.45.03.12: 19427.0\r\n",
        " 12C.000.14.05.11: 19511.0\r\n",
        " 13C.100.28.06.12: 19540.0\r\n",
        " 13C.100.28.07.07: 19544.0\r\n",
        " 13C.100.28.06.04: 19609.0\r\n",
        " 12C.000.28.03.10: 19626.0\r\n",
        " 13C.100.45.03.22: 19631.0\r\n",
        " 12C.700.45.01.NA: 19663.0\r\n",
        " 13C.100.45.03.15: 19722.0\r\n",
        " 13C.700.14.08.16: 19908.0\r\n",
        " 00C.000.00.12.NA: 19925.0\r\n",
        " 13C.100.14.09.10: 19962.0\r\n",
        " 13C.100.28.07.20: 20018.0\r\n",
        " 13C.100.14.09.23: 20055.0\r\n",
        " 13C.000.14.09.18: 20167.0\r\n",
        " 13C.700.14.08.18: 20294.0\r\n",
        " 13C.000.28.06.22: 20407.0\r\n",
        " 13C.100.14.09.21: 20487.0\r\n",
        " 13C.700.14.08.15: 20516.0\r\n",
        " 12C.000.28.03.28: 20573.0\r\n",
        " 13C.100.45.03.13: 20596.0\r\n",
        " 12C.000.28.04.NA: 20635.0\r\n",
        " 13C.100.14.09.08: 20658.0\r\n",
        " 13C.700.28.07.17: 20686.0\r\n",
        " 12C.100.45.01.22: 20927.0\r\n",
        " 12C.000.45.02.NA: 20928.0\r\n",
        " 13C.100.28.07.16: 20932.0\r\n",
        " 12C.700.14.05.NA: 20979.0\r\n",
        " 12C.100.14.05.NA: 21165.0\r\n",
        " 12C.700.28.04.21: 21239.0\r\n",
        " 13C.700.14.08.14: 21239.0\r\n",
        " 12C.000.07.07.NA: 21246.0\r\n",
        " 12C.100.14.05.20: 21323.0\r\n",
        " 12C.000.14.06.NA: 21476.0\r\n",
        " 12C.000.00.09.NA: 21551.0\r\n",
        " 13C.100.28.06.21: 21610.0\r\n",
        " 13C.100.28.07.23: 21747.0\r\n",
        " 13C.100.28.06.18: 21795.0\r\n",
        " 13C.100.45.03.20: 21916.0\r\n",
        " 13C.100.14.09.06: 21939.0\r\n",
        " 12C.000.14.05.01: 21963.0\r\n",
        " 13C.100.28.07.08: 21975.0\r\n",
        " 12C.700.07.08.NA: 21984.0\r\n",
        " 12C.100.28.03.NA: 22198.0\r\n",
        " 13C.000.28.06.04: 22246.0\r\n",
        " 13C.100.28.06.07: 22317.0\r\n",
        " 13C.100.28.07.15: 22460.0\r\n",
        " 12C.000.14.05.09: 22469.0\r\n",
        " 13C.700.28.07.18: 22471.0\r\n",
        " 12C.100.45.01.14: 22546.0\r\n",
        " 13C.100.28.07.11: 22644.0\r\n",
        " 13C.100.45.03.NA: 22645.0\r\n",
        " 13C.100.45.03.05: 22655.0\r\n",
        " 12C.000.28.03.19: 22739.0\r\n",
        " 12C.700.28.04.11: 22743.0\r\n",
        " 13C.700.28.07.10: 22945.0\r\n",
        " 12C.100.14.05.04: 22962.0\r\n",
        " 13C.700.14.08.17: 23152.0\r\n",
        " 12C.000.45.01.09: 23613.0\r\n",
        " 00C.000.07.11.NA: 23717.0\r\n",
        " 12C.000.45.01.11: 23758.0\r\n",
        " 13C.100.28.07.09: 23816.0\r\n",
        " 13C.100.14.09.20: 24013.0\r\n",
        " 13C.700.28.07.16: 24106.0\r\n",
        " 12C.700.28.04.13: 24127.0\r\n",
        " 12C.100.14.06.NA: 24133.0\r\n",
        " 12C.100.45.01.02: 24164.0\r\n",
        " 13C.100.45.03.23: 24194.0\r\n",
        " 12C.700.45.01.20: 24641.0\r\n",
        " 12C.100.45.01.19: 24695.0\r\n",
        " 13C.100.45.03.12: 24699.0\r\n",
        " 13C.700.45.04.NA: 24762.0\r\n",
        " 13C.100.28.07.19: 24764.0\r\n",
        " 12C.000.00.10.NA: 24924.0\r\n",
        " 13C.000.45.04.NA: 25015.0\r\n",
        " 13C.100.28.07.17: 25018.0\r\n",
        " 13C.100.14.09.04: 25044.0\r\n",
        " 13C.700.28.07.NA: 25096.0\r\n",
        " 13C.100.45.03.24: 25154.0\r\n",
        " 12C.700.28.04.NA: 25218.0\r\n",
        " 12C.000.28.03.15: 25590.0\r\n",
        " 12C.000.14.05.03: 25674.0\r\n",
        " 12C.000.28.03.24: 25858.0\r\n",
        " 12C.100.45.02.NA: 25865.0\r\n",
        " 12C.000.28.03.17: 26004.0\r\n",
        " 13C.000.45.03.20: 26044.0\r\n",
        " 13C.700.45.03.14: 26076.0\r\n",
        " 12C.100.07.07.NA: 26087.0\r\n",
        " 13C.000.28.06.14: 26152.0\r\n",
        " 12C.000.28.03.16: 26163.0\r\n",
        " 13C.100.28.06.05: 26171.0\r\n",
        " 13C.000.45.03.NA: 26271.0\r\n",
        " 13C.100.14.09.22: 26276.0\r\n",
        " 13C.100.14.09.07: 26299.0\r\n",
        " 13C.700.28.07.04: 26327.0\r\n",
        " 12C.000.28.03.14: 26443.0\r\n",
        " 13C.100.45.03.10: 26547.0\r\n",
        " 13C.700.14.08.20: 26914.0\r\n",
        " 13C.700.14.08.NA: 26921.0\r\n",
        " 13C.700.45.05.NA: 27084.0\r\n",
        " 12C.000.28.03.13: 27117.0\r\n",
        " 12C.700.45.01.24: 27315.0\r\n",
        " 13C.000.45.03.19: 27523.0\r\n",
        " 13C.000.45.03.13: 27572.0\r\n",
        " 12C.700.28.04.05: 27821.0\r\n",
        " 13C.100.45.03.18: 27822.0\r\n",
        " 13C.700.28.07.20: 27875.0\r\n",
        " 13C.700.28.07.09: 27996.0\r\n",
        " 12C.700.00.09.NA: 28135.0\r\n",
        " 13C.100.45.03.04: 28137.0\r\n",
        " 13C.000.45.01.NA: 28175.0\r\n",
        " 12C.700.28.04.16: 28210.0\r\n",
        " 13C.000.14.09.20: 28263.0\r\n",
        " 13C.700.45.03.20: 28422.0\r\n",
        " 12C.100.14.05.12: 28474.0\r\n",
        " 13C.000.28.06.19: 28588.0\r\n",
        " 13C.700.28.07.03: 28684.0\r\n",
        " 12C.700.28.04.17: 28883.0\r\n",
        " 12C.000.28.03.25: 28902.0\r\n",
        " 13C.700.14.08.08: 28929.0\r\n",
        " 12C.700.28.04.03: 29185.0\r\n",
        " 12C.100.45.01.13: 29188.0\r\n",
        " 12C.700.45.01.16: 29225.0\r\n",
        " 12C.100.14.05.18: 29638.0\r\n",
        " 12C.000.14.05.23: 29689.0\r\n",
        " 12C.700.14.06.23: 29969.0\r\n",
        " 12C.700.28.04.14: 29976.0\r\n",
        " 12C.100.45.01.21: 30114.0\r\n",
        " 13C.000.14.09.12: 30247.0\r\n",
        " 13C.100.14.09.24: 30360.0\r\n",
        " 12C.100.28.03.15: 30404.0\r\n",
        " 12C.700.28.04.06: 30422.0\r\n",
        " 12C.100.28.03.20: 30537.0\r\n",
        " 13C.100.14.09.05: 30713.0\r\n",
        " 12C.700.14.06.20: 31087.0\r\n",
        " 12C.000.28.03.18: 31151.0\r\n",
        " 12C.100.28.03.22: 31351.0\r\n",
        " 12C.100.45.01.23: 31420.0\r\n",
        " 13C.000.45.03.18: 31619.0\r\n",
        " 13C.100.45.02.NA: 31988.0\r\n",
        " 12C.100.45.01.11: 32034.0\r\n",
        " 12C.100.45.01.07: 32239.0\r\n",
        " 13C.700.28.07.21: 32554.0\r\n",
        " 13C.700.28.07.05: 32788.0\r\n",
        " 12C.000.14.05.07: 33051.0\r\n",
        " 12C.000.14.05.22: 33079.0\r\n",
        " 12C.100.45.01.06: 33093.0\r\n",
        " 13C.700.28.07.23: 33094.0\r\n",
        " 12C.100.14.05.22: 33293.0\r\n",
        " 12C.100.28.03.21: 33347.0\r\n",
        " 12C.100.14.05.15: 33517.0\r\n",
        " 13C.700.28.07.07: 33595.0\r\n",
        " 13C.000.45.03.10: 33989.0\r\n",
        " 13C.700.28.07.08: 34435.0\r\n",
        " 12C.000.28.03.08: 34712.0\r\n",
        " 12C.700.45.01.17: 34735.0\r\n",
        " 12C.700.14.06.19: 35033.0\r\n",
        " 12C.100.28.03.19: 35115.0\r\n",
        " 13C.000.45.03.14: 35426.0\r\n",
        " 13C.000.14.09.10: 35599.0\r\n",
        " 13C.000.45.03.16: 35945.0\r\n",
        " 12C.100.07.08.NA: 36359.0\r\n",
        " 12C.000.14.05.16: 36372.0\r\n",
        " 13C.100.28.07.NA: 36528.0\r\n",
        " 12C.700.14.06.12: 36551.0\r\n",
        " 13C.000.45.03.11: 36674.0\r\n",
        " 13C.000.45.03.17: 36726.0\r\n",
        " 12C.000.14.05.20: 37164.0\r\n",
        " 13C.700.45.03.04: 37385.0\r\n",
        " 13C.000.14.08.NA: 37486.0\r\n",
        " 13C.700.14.08.07: 37537.0\r\n",
        " 12C.100.14.05.17: 37641.0\r\n",
        " 13C.700.28.07.22: 37668.0\r\n",
        " 13C.000.28.06.NA: 37763.0\r\n",
        " 12C.700.14.06.07: 37769.0\r\n",
        " 12C.100.14.05.13: 37833.0\r\n",
        " 12C.100.28.03.18: 37881.0\r\n",
        " 13C.000.14.09.06: 37934.0\r\n",
        " 12C.000.28.03.09: 38082.0\r\n",
        " 13C.000.14.09.13: 38116.0\r\n",
        " 13C.700.45.03.06: 38154.0\r\n",
        " 12C.000.14.05.18: 38508.0\r\n",
        " 12C.700.45.01.08: 38533.0\r\n",
        " 12C.700.28.04.08: 38570.0\r\n",
        " 12C.700.45.01.23: 38618.0\r\n",
        " 12C.100.45.01.20: 38934.0\r\n",
        " 12C.100.14.05.23: 39042.0\r\n",
        " 13C.700.28.07.12: 39410.0\r\n",
        " 12C.100.00.10.NA: 39801.0\r\n",
        " 12C.100.14.05.16: 39810.0\r\n",
        " 13C.700.14.08.05: 40077.0\r\n",
        " 13C.700.14.08.03: 40281.0\r\n",
        " 12C.000.45.01.15: 40348.0\r\n",
        " 12C.100.45.01.12: 40509.0\r\n",
        " 12C.100.14.05.14: 40807.0\r\n",
        " 12C.100.28.03.14: 40883.0\r\n",
        " 13C.000.28.06.11: 41045.0\r\n",
        " 12C.100.14.05.19: 41149.0\r\n",
        " 13C.700.28.07.06: 41222.0\r\n",
        " 12C.700.14.06.11: 41252.0\r\n",
        " 13C.000.45.03.08: 41454.0\r\n",
        " 12C.100.14.05.08: 41472.0\r\n",
        " 12C.700.45.01.22: 41742.0\r\n",
        " 12C.000.14.05.06: 41897.0\r\n",
        " 12C.000.14.05.14: 42323.0\r\n",
        " 12C.700.45.01.15: 42428.0\r\n",
        " 12C.100.28.03.10: 42468.0\r\n",
        " 12C.100.28.03.16: 42685.0\r\n",
        " 13C.000.45.03.09: 42740.0\r\n",
        " 12C.000.45.01.06: 42756.0\r\n",
        " 12C.700.14.06.22: 42814.0\r\n",
        " 12C.700.45.01.19: 42825.0\r\n",
        " 12C.700.14.06.18: 43172.0\r\n",
        " 12C.100.14.05.11: 43298.0\r\n",
        " 12C.000.28.03.07: 43800.0\r\n",
        " 12C.700.45.01.21: 43819.0\r\n",
        " 13C.700.14.08.09: 43845.0\r\n",
        " 12C.000.45.01.23: 44093.0\r\n",
        " 12C.700.28.04.09: 44160.0\r\n",
        " 13C.000.28.06.06: 44269.0\r\n",
        " 13C.700.45.03.18: 44342.0\r\n",
        " 13C.000.45.03.12: 45059.0\r\n",
        " 12C.000.45.01.14: 45362.0\r\n",
        " 12C.000.14.05.08: 45426.0\r\n",
        " 12C.700.14.06.17: 45462.0\r\n",
        " 12C.100.28.03.12: 45647.0\r\n",
        " 13C.000.28.06.17: 45658.0\r\n",
        " 12C.100.14.05.21: 46200.0\r\n",
        " 12C.700.45.01.09: 46720.0\r\n",
        " 12C.700.14.06.14: 46808.0\r\n",
        " 12C.700.14.06.21: 46987.0\r\n",
        " 13C.700.14.08.04: 47061.0\r\n",
        " 12C.100.28.03.17: 47082.0\r\n",
        " 12C.700.14.06.16: 47410.0\r\n",
        " 13C.100.14.09.NA: 47656.0\r\n",
        " 12C.700.14.06.13: 47841.0\r\n",
        " 12C.700.14.06.06: 47977.0\r\n",
        " 12C.000.45.01.07: 48189.0\r\n",
        " 12C.000.14.05.15: 48366.0\r\n",
        " 13C.700.14.08.02: 48371.0\r\n",
        " 13C.100.45.04.NA: 48603.0\r\n",
        " 12C.700.45.01.11: 48750.0\r\n",
        " 13C.700.14.08.06: 49072.0\r\n",
        " 12C.700.14.06.15: 49098.0\r\n",
        " 13C.000.28.06.18: 49216.0\r\n",
        " 13C.100.45.05.NA: 49448.0\r\n",
        " 12C.100.28.03.13: 49558.0\r\n",
        " 13C.700.45.03.05: 49730.0\r\n",
        " 12C.100.28.03.06: 50024.0\r\n",
        " 13C.000.14.09.04: 50717.0\r\n",
        " 13C.000.45.03.06: 50721.0\r\n",
        " 12C.000.45.01.20: 50948.0\r\n",
        " 12C.700.28.04.12: 51037.0\r\n",
        " 12C.100.45.01.16: 51299.0\r\n",
        " 12C.700.28.04.18: 51399.0\r\n",
        " 12C.700.45.01.18: 52207.0\r\n",
        " 12C.000.45.01.24: 52230.0\r\n",
        " 12C.100.28.03.07: 52683.0\r\n",
        " 12C.700.14.06.09: 52696.0\r\n",
        " 13C.000.28.06.03: 52840.0\r\n",
        " 13C.700.45.03.13: 52925.0\r\n",
        " 13C.000.45.03.05: 53109.0\r\n",
        " 12C.100.45.01.05: 53221.0\r\n",
        " 13C.000.45.03.22: 53289.0\r\n",
        " 12C.700.45.02.NA: 53455.0\r\n",
        " 13C.000.14.09.08: 53614.0\r\n",
        " 12C.000.45.01.16: 53819.0\r\n",
        " 13C.700.45.03.10: 54141.0\r\n",
        " 12C.700.14.06.10: 54349.0\r\n",
        " 12C.000.14.05.12: 54496.0\r\n",
        " 12C.700.45.01.12: 54734.0\r\n",
        " 12C.700.45.01.14: 54824.0\r\n",
        " 13C.000.45.03.04: 55080.0\r\n",
        " 13C.000.14.09.19: 56356.0\r\n",
        " 12C.000.45.01.12: 56452.0\r\n",
        " 12C.700.14.06.08: 57621.0\r\n",
        " 13C.000.14.09.16: 58079.0\r\n",
        " 12C.100.28.03.05: 58810.0\r\n",
        " 12C.000.45.01.04: 59519.0\r\n",
        " 13C.000.28.06.23: 59805.0\r\n",
        " 13C.000.14.09.05: 60716.0\r\n",
        " 12C.700.00.10.NA: 60926.0\r\n",
        " 12C.100.45.01.04: 61020.0\r\n",
        " 13C.100.14.08.NA: 62180.0\r\n",
        " 12C.000.45.01.18: 62511.0\r\n",
        " 12C.700.28.04.10: 63041.0\r\n",
        " 12C.000.45.01.22: 63438.0\r\n",
        " 13C.000.28.06.21: 63578.0\r\n",
        " 12C.100.28.03.08: 63710.0\r\n",
        " 12C.100.14.05.09: 63778.0\r\n",
        " 12C.100.28.03.04: 65855.0\r\n",
        " 12C.100.14.05.10: 66349.0\r\n",
        " 12C.000.14.05.10: 66695.0\r\n",
        " 12C.000.45.01.08: 66862.0\r\n",
        " 00C.000.45.01.NA: 66982.0\r\n",
        " 12C.700.45.01.10: 66999.0\r\n",
        " 12C.700.28.04.20: 67192.0\r\n",
        " 13C.000.28.06.15: 67273.0\r\n",
        " 12C.700.28.04.04: 67628.0\r\n",
        " 12C.700.14.06.04: 68287.0\r\n",
        " 13C.000.28.06.09: 71093.0\r\n",
        " 12C.100.28.03.09: 71804.0\r\n",
        " 12C.000.14.05.04: 71977.0\r\n",
        " 12C.100.28.03.11: 72041.0\r\n",
        " 12C.100.45.01.08: 73334.0\r\n",
        " 12C.700.45.01.07: 75579.0\r\n",
        " 12C.100.28.03.03: 77381.0\r\n",
        " 13C.700.28.07.24: 77594.0\r\n",
        " 13C.000.28.06.13: 78016.0\r\n",
        " 12C.100.14.05.06: 78655.0\r\n",
        " 00C.000.14.09.NA: 78974.0\r\n",
        " 12C.000.45.01.10: 79375.0\r\n",
        " 12C.700.45.01.13: 80602.0\r\n",
        " 13C.000.45.03.03: 81614.0\r\n",
        " 12C.100.14.05.07: 84025.0\r\n",
        " 13C.000.28.06.10: 86724.0\r\n",
        " 13C.700.45.03.02: 86862.0\r\n",
        " 13C.000.28.06.07: 87848.0\r\n",
        " 12C.700.45.01.06: 91681.0\r\n",
        " 12C.700.28.04.02: 91885.0\r\n",
        " 12C.000.14.05.02: 94820.0\r\n",
        " 12C.700.14.06.05: 98296.0\r\n",
        " 12C.100.14.05.05: 103677.0\r\n",
        " 13C.000.28.06.05: 119515.0\r\n",
        " 12C.700.45.01.05: 180942.0\r\n"
       ]
      }
     ],
     "prompt_number": 42
    }
   ],
   "metadata": {}
  }
 ]
}