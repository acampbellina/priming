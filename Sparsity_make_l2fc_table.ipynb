{
 "cells": [
  {
   "cell_type": "code",
   "execution_count": 10,
   "metadata": {
    "collapsed": false
   },
   "outputs": [
    {
     "name": "stdout",
     "output_type": "stream",
     "text": [
      "The rpy2.ipython extension is already loaded. To reload it, use:\n",
      "  %reload_ext rpy2.ipython\n"
     ]
    }
   ],
   "source": [
    "%load_ext rpy2.ipython"
   ]
  },
  {
   "cell_type": "code",
   "execution_count": 11,
   "metadata": {
    "collapsed": false
   },
   "outputs": [],
   "source": [
    "%%R\n",
    "library(DESeq2)\n",
    "library(phyloseq)\n",
    "library(plyr); library(dplyr)\n",
    "library(ggplot2)\n",
    "library(doParallel)\n",
    "library(foreach)"
   ]
  },
  {
   "cell_type": "markdown",
   "metadata": {},
   "source": [
    "###These files are from the [assign taxonomy notebook](./Assign_taxonomy.ipynb), [tree notebook](./Tree.ipynb), [merge mappers notebook](./Merge_mappers.ipynb) "
   ]
  },
  {
   "cell_type": "code",
   "execution_count": 12,
   "metadata": {
    "collapsed": false
   },
   "outputs": [],
   "source": [
    "%%R\n",
    "\n",
    "asNumeric = function(x) { as.numeric(as.character(x)) }\n",
    "\n",
    "physeq = import_biom(\"/var/seq_data/priming_exp/data/otu_table_wtax.biom\", \"/var/seq_data/priming_exp/data/otusn.tree\")\n",
    "sample.data = import_qiime_sample_data(\"/var/seq_data/priming_exp/data/allsample_metadata_nomock.txt\")\n",
    "sample.data$Density = asNumeric(sample.data$Density)\n",
    "physeq = merge_phyloseq(physeq,sample.data)"
   ]
  },
  {
   "cell_type": "markdown",
   "metadata": {},
   "source": [
    "### Get log2foldchange for CC"
   ]
  },
  {
   "cell_type": "code",
   "execution_count": 13,
   "metadata": {
    "collapsed": false
   },
   "outputs": [],
   "source": [
    "%%R\n",
    "l2fc.threshold = 0.75\n",
    "density.min = 1.7125\n",
    "density.max = 1.755\n",
    "                           \n",
    "get_Ps = function(physeq.obj, Treatment, Day, sparsity_threshold) {\n",
    "    \n",
    "    physeq.md = sample_data(physeq.obj)\n",
    "    p = prune_samples((physeq.md$Bulk == 0)& (physeq.md$Treatment %in% c(\"12CC\",as.character(Treatment)))&\n",
    "                      (physeq.md$Day == Day)&\n",
    "                      (physeq.md$Density >= density.min)&\n",
    "                      (physeq.md$Density <= density.max), physeq.obj)\n",
    "    p.thresh = filter_taxa(p, function(x) sum(x > 0) > sparsity_threshold * length(x), TRUE)\n",
    "    \n",
    "    dds = phyloseq_to_deseq2(p.thresh, ~Treatment)\n",
    "    dds = DESeq(dds, quiet = TRUE, fitType = \"local\")\n",
    "    theta = l2fc.threshold\n",
    "    r = results(dds, independentFiltering = FALSE)\n",
    "    r$OTU = rownames(r)\n",
    "    beta = r$log2FoldChange\n",
    "    betaSE = r$lfcSE\n",
    "    p = pnorm(beta, theta, betaSE, lower.tail = FALSE)\n",
    "    r$p = p\n",
    "    d = data.frame(r[, c(\"OTU\",\"log2FoldChange\", \"p\")])\n",
    "    TT = data.frame(tax_table(p.thresh))\n",
    "    TT$OTU = rownames(TT)\n",
    "    d = left_join(d, TT)\n",
    "    d\n",
    "}"
   ]
  },
  {
   "cell_type": "code",
   "execution_count": 14,
   "metadata": {
    "collapsed": false
   },
   "outputs": [],
   "source": [
    "%%R\n",
    "m = expand.grid(sparsity_threshold = seq(0.05,0.95,0.05), \n",
    "                Day = c(14, 28, 45),\n",
    "                Treatment = c(\"13CC\"))\n",
    "\n",
    "registerDoParallel(20)\n",
    "\n",
    "df.l2fc.CC = tbl_df(mdply(m, \n",
    "                       get_Ps, \n",
    "                       .parallel = TRUE, \n",
    "                       physeq.obj = physeq))"
   ]
  },
  {
   "cell_type": "code",
   "execution_count": 15,
   "metadata": {
    "collapsed": false
   },
   "outputs": [
    {
     "data": {
      "text/plain": [
       "Source: local data frame [136,807 x 15]\n",
       "Groups: sparsity_threshold, Treatment, Day\n",
       "\n",
       "   sparsity_threshold Day Treatment       OTU log2FoldChange         p    Rank1\n",
       "1                0.05  14      13CC OTU.11642    -0.05016719 0.9851968 Bacteria\n",
       "2                0.05  14      13CC OTU.12643     0.02095124 0.9759902 Bacteria\n",
       "3                0.05  14      13CC OTU.12562     0.18274882 0.9381109 Bacteria\n",
       "4                0.05  14      13CC  OTU.4204    -0.43748848 0.9998722 Bacteria\n",
       "5                0.05  14      13CC   OTU.467    -0.54605634 0.9999798 Bacteria\n",
       "6                0.05  14      13CC   OTU.905    -0.22011389 0.9987163 Bacteria\n",
       "7                0.05  14      13CC  OTU.7253    -0.19278468 0.9986082 Bacteria\n",
       "8                0.05  14      13CC    OTU.67    -0.64041246 0.9999884 Bacteria\n",
       "9                0.05  14      13CC OTU.10580     0.06467225 0.9711234 Bacteria\n",
       "10               0.05  14      13CC  OTU.4907    -0.20394732 0.9989140 Bacteria\n",
       "..                ... ...       ...       ...            ...       ...      ...\n",
       "Variables not shown: Rank2 (fctr), Rank3 (fctr), Rank4 (fctr), Rank5 (fctr),\n",
       "  Rank6 (fctr), Rank7 (fctr), Rank8 (fctr), padj (dbl)\n"
      ]
     },
     "metadata": {},
     "output_type": "display_data"
    }
   ],
   "source": [
    "%%R\n",
    "df.l2fc.CC = df.l2fc.CC %.%\n",
    "    group_by(sparsity_threshold, Treatment, Day) %.%\n",
    "    mutate(padj = p.adjust(p, method = \"BH\"))\n",
    "\n",
    "df.l2fc.CC"
   ]
  },
  {
   "cell_type": "markdown",
   "metadata": {},
   "source": [
    "### Get log2foldchange for 100"
   ]
  },
  {
   "cell_type": "code",
   "execution_count": 16,
   "metadata": {
    "collapsed": false
   },
   "outputs": [],
   "source": [
    "%%R\n",
    "l2fc.threshold = 0.75\n",
    "density.min = 1.7125\n",
    "density.max = 1.755\n",
    "                           \n",
    "get_Ps = function(physeq.obj, Treatment, Day, sparsity_threshold) {\n",
    "    \n",
    "    physeq.md = sample_data(physeq.obj)\n",
    "    p = prune_samples((physeq.md$Bulk == 0)& (physeq.md$Treatment %in% c(\"12C100\",as.character(Treatment)))&\n",
    "                      (physeq.md$Day == Day)&\n",
    "                      (physeq.md$Density >= density.min)&\n",
    "                      (physeq.md$Density <= density.max), physeq.obj)\n",
    "    p.thresh = filter_taxa(p, function(x) sum(x > 0) > sparsity_threshold * length(x), TRUE)\n",
    "    \n",
    "    dds = phyloseq_to_deseq2(p.thresh, ~Treatment)\n",
    "    dds = DESeq(dds, quiet = TRUE, fitType = \"local\")\n",
    "    theta = l2fc.threshold\n",
    "    r = results(dds, independentFiltering = FALSE)\n",
    "    r$OTU = rownames(r)\n",
    "    beta = r$log2FoldChange\n",
    "    betaSE = r$lfcSE\n",
    "    p = pnorm(beta, theta, betaSE, lower.tail = FALSE)\n",
    "    r$p = p\n",
    "    d = data.frame(r[, c(\"OTU\",\"log2FoldChange\", \"p\")])\n",
    "    TT = data.frame(tax_table(p.thresh))\n",
    "    TT$OTU = rownames(TT)\n",
    "    d = left_join(d, TT)\n",
    "    d\n",
    "}"
   ]
  },
  {
   "cell_type": "code",
   "execution_count": 17,
   "metadata": {
    "collapsed": false
   },
   "outputs": [],
   "source": [
    "%%R\n",
    "m = expand.grid(sparsity_threshold = seq(0.05,0.95,0.05), \n",
    "                Day = c(14, 28, 45),\n",
    "                Treatment = c(\"13C100\"))\n",
    "\n",
    "registerDoParallel(20)\n",
    "\n",
    "df.l2fc.100 = tbl_df(mdply(m, \n",
    "                       get_Ps, \n",
    "                       .parallel = TRUE, \n",
    "                       physeq.obj = physeq))"
   ]
  },
  {
   "cell_type": "code",
   "execution_count": 18,
   "metadata": {
    "collapsed": false
   },
   "outputs": [
    {
     "data": {
      "text/plain": [
       "Source: local data frame [123,320 x 15]\n",
       "Groups: sparsity_threshold, Treatment, Day\n",
       "\n",
       "   sparsity_threshold Day Treatment       OTU log2FoldChange         p    Rank1\n",
       "1                0.05  14    13C100 OTU.11642     0.19209071 0.8560663 Bacteria\n",
       "2                0.05  14    13C100  OTU.4204    -1.85760437 1.0000000 Bacteria\n",
       "3                0.05  14    13C100   OTU.467    -1.01259560 0.9999984 Bacteria\n",
       "4                0.05  14    13C100   OTU.905    -0.84836086 0.9995200 Bacteria\n",
       "5                0.05  14    13C100  OTU.7253     0.25675543 0.8644203 Bacteria\n",
       "6                0.05  14    13C100    OTU.67    -1.64857817 1.0000000 Bacteria\n",
       "7                0.05  14    13C100 OTU.10580     0.39568338 0.7541804 Bacteria\n",
       "8                0.05  14    13C100  OTU.4907    -1.77538737 1.0000000 Bacteria\n",
       "9                0.05  14    13C100  OTU.7898    -1.49051386 1.0000000 Bacteria\n",
       "10               0.05  14    13C100  OTU.8632    -0.04956325 0.9365274 Bacteria\n",
       "..                ... ...       ...       ...            ...       ...      ...\n",
       "Variables not shown: Rank2 (fctr), Rank3 (fctr), Rank4 (fctr), Rank5 (fctr),\n",
       "  Rank6 (fctr), Rank7 (fctr), Rank8 (fctr), padj (dbl)\n"
      ]
     },
     "metadata": {},
     "output_type": "display_data"
    }
   ],
   "source": [
    "%%R\n",
    "df.l2fc.100 = df.l2fc.100 %.% \n",
    "    group_by(sparsity_threshold, Treatment, Day) %.%\n",
    "    mutate(padj = p.adjust(p, method = \"BH\"))\n",
    "\n",
    "df.l2fc.100"
   ]
  },
  {
   "cell_type": "markdown",
   "metadata": {},
   "source": [
    "### Get log2foldchange for 700"
   ]
  },
  {
   "cell_type": "code",
   "execution_count": 19,
   "metadata": {
    "collapsed": false
   },
   "outputs": [],
   "source": [
    "%%R\n",
    "l2fc.threshold = 0.75\n",
    "density.min = 1.7125\n",
    "density.max = 1.755\n",
    "                           \n",
    "get_Ps = function(physeq.obj, Treatment, Day, sparsity_threshold) {\n",
    "    \n",
    "    physeq.md = sample_data(physeq.obj)\n",
    "    p = prune_samples((physeq.md$Bulk == 0)& (physeq.md$Treatment %in% c(\"12C700\",as.character(Treatment)))&\n",
    "                      (physeq.md$Day == Day)&\n",
    "                      (physeq.md$Density >= density.min)&\n",
    "                      (physeq.md$Density <= density.max), physeq.obj)\n",
    "    p.thresh = filter_taxa(p, function(x) sum(x > 0) > sparsity_threshold * length(x), TRUE)\n",
    "    \n",
    "    dds = phyloseq_to_deseq2(p.thresh, ~Treatment)\n",
    "    dds = DESeq(dds, quiet = TRUE, fitType = \"local\")\n",
    "    theta = l2fc.threshold\n",
    "    r = results(dds, independentFiltering = FALSE)\n",
    "    r$OTU = rownames(r)\n",
    "    beta = r$log2FoldChange\n",
    "    betaSE = r$lfcSE\n",
    "    p = pnorm(beta, theta, betaSE, lower.tail = FALSE)\n",
    "    r$p = p\n",
    "    d = data.frame(r[, c(\"OTU\",\"log2FoldChange\", \"p\")])\n",
    "    TT = data.frame(tax_table(p.thresh))\n",
    "    TT$OTU = rownames(TT)\n",
    "    d = left_join(d, TT)\n",
    "    d\n",
    "}"
   ]
  },
  {
   "cell_type": "code",
   "execution_count": 20,
   "metadata": {
    "collapsed": false
   },
   "outputs": [],
   "source": [
    "%%R\n",
    "m = expand.grid(sparsity_threshold = seq(0.05,0.95,0.05), \n",
    "                Day = c(14, 28, 45),\n",
    "                Treatment = c(\"13C700\"))\n",
    "\n",
    "registerDoParallel(20)\n",
    "\n",
    "df.l2fc.700 = tbl_df(mdply(m, \n",
    "                       get_Ps, \n",
    "                       .parallel = TRUE, \n",
    "                       physeq.obj = physeq))"
   ]
  },
  {
   "cell_type": "code",
   "execution_count": 21,
   "metadata": {
    "collapsed": false
   },
   "outputs": [
    {
     "data": {
      "text/plain": [
       "Source: local data frame [137,309 x 15]\n",
       "Groups: sparsity_threshold, Treatment, Day\n",
       "\n",
       "   sparsity_threshold Day Treatment       OTU log2FoldChange         p    Rank1\n",
       "1                0.05  14    13C700  OTU.4204   -0.610989881 0.9998859 Bacteria\n",
       "2                0.05  14    13C700   OTU.467    0.172568868 0.9400225 Bacteria\n",
       "3                0.05  14    13C700   OTU.905   -0.698484823 0.9999204 Bacteria\n",
       "4                0.05  14    13C700  OTU.7253    0.403132354 0.8064568 Bacteria\n",
       "5                0.05  14    13C700    OTU.67   -1.189770696 1.0000000 Bacteria\n",
       "6                0.05  14    13C700 OTU.10580    0.091258765 0.9270886 Bacteria\n",
       "7                0.05  14    13C700  OTU.4907   -0.326055657 0.9975980 Bacteria\n",
       "8                0.05  14    13C700  OTU.7898   -0.519122491 0.9995464 Bacteria\n",
       "9                0.05  14    13C700   OTU.125   -0.511675526 0.9994491 Bacteria\n",
       "10               0.05  14    13C700  OTU.3516    0.003727662 0.9489748 Bacteria\n",
       "..                ... ...       ...       ...            ...       ...      ...\n",
       "Variables not shown: Rank2 (fctr), Rank3 (fctr), Rank4 (fctr), Rank5 (fctr),\n",
       "  Rank6 (fctr), Rank7 (fctr), Rank8 (fctr), padj (dbl)\n"
      ]
     },
     "metadata": {},
     "output_type": "display_data"
    }
   ],
   "source": [
    "%%R\n",
    "df.l2fc.700 = df.l2fc.700 %.% \n",
    "    group_by(sparsity_threshold, Treatment, Day) %.%\n",
    "    mutate(padj = p.adjust(p, method = \"BH\"))\n",
    "\n",
    "df.l2fc.700"
   ]
  },
  {
   "cell_type": "markdown",
   "metadata": {},
   "source": [
    "### Combine SS and PS dataframes then determine sparsity threshold"
   ]
  },
  {
   "cell_type": "code",
   "execution_count": 22,
   "metadata": {
    "collapsed": false
   },
   "outputs": [
    {
     "data": {
      "text/plain": [
       "Source: local data frame [397,436 x 15]\n",
       "Groups: sparsity_threshold, Treatment, Day\n",
       "\n",
       "   sparsity_threshold Day Treatment       OTU log2FoldChange         p    Rank1\n",
       "1                0.05  14      13CC OTU.11642    -0.05016719 0.9851968 Bacteria\n",
       "2                0.05  14      13CC OTU.12643     0.02095124 0.9759902 Bacteria\n",
       "3                0.05  14      13CC OTU.12562     0.18274882 0.9381109 Bacteria\n",
       "4                0.05  14      13CC  OTU.4204    -0.43748848 0.9998722 Bacteria\n",
       "5                0.05  14      13CC   OTU.467    -0.54605634 0.9999798 Bacteria\n",
       "6                0.05  14      13CC   OTU.905    -0.22011389 0.9987163 Bacteria\n",
       "7                0.05  14      13CC  OTU.7253    -0.19278468 0.9986082 Bacteria\n",
       "8                0.05  14      13CC    OTU.67    -0.64041246 0.9999884 Bacteria\n",
       "9                0.05  14      13CC OTU.10580     0.06467225 0.9711234 Bacteria\n",
       "10               0.05  14      13CC  OTU.4907    -0.20394732 0.9989140 Bacteria\n",
       "..                ... ...       ...       ...            ...       ...      ...\n",
       "Variables not shown: Rank2 (fctr), Rank3 (fctr), Rank4 (fctr), Rank5 (fctr),\n",
       "  Rank6 (fctr), Rank7 (fctr), Rank8 (fctr), padj (dbl)\n"
      ]
     },
     "metadata": {},
     "output_type": "display_data"
    }
   ],
   "source": [
    "%%R\n",
    "combined_l2fc = rbind(df.l2fc.CC, df.l2fc.100, df.l2fc.700)\n",
    "print(combined_l2fc)"
   ]
  },
  {
   "cell_type": "code",
   "execution_count": 24,
   "metadata": {
    "collapsed": false
   },
   "outputs": [
    {
     "data": {
      "image/png": "[encoded data removed]"
     },
     "metadata": {},
     "output_type": "display_data"
    }
   ],
   "source": [
    "%%R -w 400 -h 350\n",
    "d = combined_l2fc %.% \n",
    "    group_by(sparsity_threshold) %.%\n",
    "    summarize(sum_pass_FDR = sum(padj < 0.10))\n",
    "\n",
    "p = ggplot(d, aes(x = sparsity_threshold, y = sum_pass_FDR))\n",
    "\n",
    "p = p + geom_point(size = 4, shape = 21, color = \"blue\")\n",
    "\n",
    "p = p + geom_vline(x = 0.45)\n",
    "\n",
    "p = p + geom_hline(y = max(d$sum_pass_FDR))\n",
    "\n",
    "p = p + theme_bw()\n",
    "    \n",
    "p = p + theme(axis.text = element_text(size = 14),\n",
    "              axis.title = element_text(size = 14))\n",
    "\n",
    "p"
   ]
  },
  {
   "cell_type": "markdown",
   "metadata": {},
   "source": [
    "### Make dataframe that will be used for log2 fold change figures"
   ]
  },
  {
   "cell_type": "code",
   "execution_count": 27,
   "metadata": {
    "collapsed": false
   },
   "outputs": [],
   "source": [
    "%%R\n",
    "write.table(combined_l2fc[zapsmall(combined_l2fc$sparsity_threshold) - 0.45 == 0,], \n",
    "            file = \"/var/seq_data/priming_exp/data/l2fc_table.csv\",\n",
    "            row.names = FALSE,\n",
    "            sep = \",\")"
   ]
  },
  {
   "cell_type": "code",
   "execution_count": 28,
   "metadata": {
    "collapsed": false
   },
   "outputs": [
    {
     "name": "stdout",
     "output_type": "stream",
     "text": [
      "\"sparsity_threshold\",\"Day\",\"Treatment\",\"OTU\",\"log2FoldChange\",\"p\",\"Rank1\",\"Rank2\",\"Rank3\",\"Rank4\",\"R\r\n",
      "0.45,14,\"13CC\",\"OTU.4204\",-0.205888181069775,0.999965745681036,\"Bacteria\",\"Acidobacteria\",\"DA023\",NA\r\n",
      "0.45,14,\"13CC\",\"OTU.467\",-0.304023920635686,0.999997986280081,\"Bacteria\",\"Acidobacteria\",\"DA023\",\"un\r\n",
      "0.45,14,\"13CC\",\"OTU.905\",0.0837289535801584,0.976367905132783,\"Bacteria\",\"Acidobacteria\",\"DA023\",\"un\r\n",
      "0.45,14,\"13CC\",\"OTU.7253\",0.128030790581088,0.965795231598108,\"Bacteria\",\"Acidobacteria\",\"DA023\",\"un\r\n",
      "0.45,14,\"13CC\",\"OTU.67\",-0.520848405641092,0.999999054342696,\"Bacteria\",\"Acidobacteria\",\"DA023\",\"unc\r\n",
      "0.45,14,\"13CC\",\"OTU.4907\",0.143864492029812,0.999423832655062,\"Bacteria\",\"Acidobacteria\",\"DA023\",\"un\r\n",
      "0.45,14,\"13CC\",\"OTU.7898\",0.337550167874079,0.964540955529558,\"Bacteria\",\"Acidobacteria\",\"DA023\",\"un\r\n",
      "0.45,14,\"13CC\",\"OTU.125\",-0.177871081617135,0.999999507409887,\"Bacteria\",\"Acidobacteria\",\"DA023\",\"un\r\n",
      "0.45,14,\"13CC\",\"OTU.3516\",0.197074807132437,0.900455822168823,\"Bacteria\",\"Acidobacteria\",\"DA023\",\"un\r\n"
     ]
    }
   ],
   "source": [
    "!head /var/seq_data/priming_exp/data/l2fc_table.csv | cut -c1-100"
   ]
  }
 ],
 "metadata": {
  "kernelspec": {
   "display_name": "Python 2",
   "language": "python",
   "name": "python2"
  },
  "language_info": {
   "codemirror_mode": {
    "name": "ipython",
    "version": 2
   },
   "file_extension": ".py",
   "mimetype": "text/x-python",
   "name": "python",
   "nbconvert_exporter": "python",
   "pygments_lexer": "ipython2",
   "version": "2.7.9"
  }
 },
 "nbformat": 4,
 "nbformat_minor": 0
}
