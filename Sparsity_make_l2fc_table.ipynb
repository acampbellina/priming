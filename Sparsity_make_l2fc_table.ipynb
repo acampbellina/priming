{
 "cells": [
  {
   "cell_type": "code",
   "execution_count": 1,
   "metadata": {
    "collapsed": false
   },
   "outputs": [],
   "source": [
    "%load_ext rpy2.ipython"
   ]
  },
  {
   "cell_type": "code",
   "execution_count": 2,
   "metadata": {
    "collapsed": false
   },
   "outputs": [
    {
     "data": {
      "text/plain": [
       "Loading required package: S4Vectors\n",
       "Loading required package: stats4\n",
       "Loading required package: BiocGenerics\n",
       "Loading required package: parallel\n",
       "\n",
       "Attaching package: ‘BiocGenerics’\n",
       "\n",
       "The following objects are masked from ‘package:parallel’:\n",
       "\n",
       "    clusterApply, clusterApplyLB, clusterCall, clusterEvalQ,\n",
       "    clusterExport, clusterMap, parApply, parCapply, parLapply,\n",
       "    parLapplyLB, parRapply, parSapply, parSapplyLB\n",
       "\n",
       "The following object is masked from ‘package:stats’:\n",
       "\n",
       "    xtabs\n",
       "\n",
       "The following objects are masked from ‘package:base’:\n",
       "\n",
       "    anyDuplicated, append, as.data.frame, as.vector, cbind, colnames,\n",
       "    do.call, duplicated, eval, evalq, Filter, Find, get, intersect,\n",
       "    is.unsorted, lapply, Map, mapply, match, mget, order, paste, pmax,\n",
       "    pmax.int, pmin, pmin.int, Position, rank, rbind, Reduce, rep.int,\n",
       "    rownames, sapply, setdiff, sort, table, tapply, union, unique,\n",
       "    unlist, unsplit\n",
       "\n",
       "Loading required package: IRanges\n",
       "Loading required package: GenomicRanges\n",
       "Loading required package: GenomeInfoDb\n",
       "Loading required package: Rcpp\n",
       "Loading required package: RcppArmadillo\n",
       "\n",
       "Attaching package: ‘phyloseq’\n",
       "\n",
       "The following object is masked from ‘package:GenomicRanges’:\n",
       "\n",
       "    distance\n",
       "\n",
       "The following object is masked from ‘package:IRanges’:\n",
       "\n",
       "    distance\n",
       "\n",
       "\n",
       "Attaching package: ‘plyr’\n",
       "\n",
       "The following object is masked from ‘package:IRanges’:\n",
       "\n",
       "    desc\n",
       "\n",
       "The following object is masked from ‘package:S4Vectors’:\n",
       "\n",
       "    rename\n",
       "\n",
       "\n",
       "Attaching package: ‘dplyr’\n",
       "\n",
       "The following objects are masked from ‘package:plyr’:\n",
       "\n",
       "    arrange, count, desc, failwith, id, mutate, rename, summarise,\n",
       "    summarize\n",
       "\n",
       "The following objects are masked from ‘package:GenomicRanges’:\n",
       "\n",
       "    intersect, setdiff, union\n",
       "\n",
       "The following object is masked from ‘package:GenomeInfoDb’:\n",
       "\n",
       "    intersect\n",
       "\n",
       "The following objects are masked from ‘package:IRanges’:\n",
       "\n",
       "    collapse, desc, intersect, setdiff, slice, union\n",
       "\n",
       "The following object is masked from ‘package:S4Vectors’:\n",
       "\n",
       "    rename\n",
       "\n",
       "The following objects are masked from ‘package:BiocGenerics’:\n",
       "\n",
       "    combine, intersect, setdiff, union\n",
       "\n",
       "The following object is masked from ‘package:stats’:\n",
       "\n",
       "    filter\n",
       "\n",
       "The following objects are masked from ‘package:base’:\n",
       "\n",
       "    intersect, setdiff, setequal, union\n",
       "\n",
       "Loading required package: foreach\n",
       "foreach: simple, scalable parallel programming from Revolution Analytics\n",
       "Use Revolution R for scalability, fault tolerance and more.\n",
       "http://www.revolutionanalytics.com\n",
       "Loading required package: iterators\n"
      ]
     },
     "metadata": {},
     "output_type": "display_data"
    }
   ],
   "source": [
    "%%R\n",
    "library(DESeq2)\n",
    "library(phyloseq)\n",
    "library(plyr); library(dplyr)\n",
    "library(ggplot2)\n",
    "library(doParallel)\n",
    "library(foreach)"
   ]
  },
  {
   "cell_type": "markdown",
   "metadata": {},
   "source": [
    "###These files are from the [assign taxonomy notebook](./Assign_taxonomy.ipynb), [tree notebook](./Tree.ipynb), [merge mappers notebook](./Merge_mappers.ipynb) "
   ]
  },
  {
   "cell_type": "code",
   "execution_count": 3,
   "metadata": {
    "collapsed": false
   },
   "outputs": [
    {
     "data": {
      "text/plain": [
       "phyloseq-class experiment-level object\n",
       "otu_table()   OTU Table:         [ 10361 taxa and 466 samples ]\n",
       "sample_data() Sample Data:       [ 466 samples by 13 sample variables ]\n",
       "tax_table()   Taxonomy Table:    [ 10361 taxa by 8 taxonomic ranks ]\n",
       "phy_tree()    Phylogenetic Tree: [ 10361 tips and 10360 internal nodes ]\n"
      ]
     },
     "metadata": {},
     "output_type": "display_data"
    }
   ],
   "source": [
    "%%R\n",
    "\n",
    "asNumeric = function(x) { as.numeric(as.character(x)) }\n",
    "\n",
    "physeq = import_biom(\"/var/seq_data/priming_exp/data/otu_table_wtax.biom\", \"/var/seq_data/priming_exp/data/otusn.tree\")\n",
    "sample.data = import_qiime_sample_data(\"/var/seq_data/priming_exp/data/allsample_metadata_nomock.txt\")\n",
    "sample.data$Density = asNumeric(sample.data$Density)\n",
    "physeq = merge_phyloseq(physeq,sample.data)\n",
    "physeq"
   ]
  },
  {
   "cell_type": "markdown",
   "metadata": {},
   "source": [
    "### Get log2foldchange for CC"
   ]
  },
  {
   "cell_type": "code",
   "execution_count": 4,
   "metadata": {
    "collapsed": false
   },
   "outputs": [],
   "source": [
    "%%R\n",
    "l2fc.threshold = 0.75\n",
    "density.min = 1.7125\n",
    "density.max = 1.755\n",
    "                           \n",
    "get_Ps = function(physeq.obj, Treatment, Day, sparsity_threshold) {\n",
    "    \n",
    "    physeq.md = sample_data(physeq.obj)\n",
    "    p = prune_samples((physeq.md$Bulk == 0)& (physeq.md$Treatment %in% c(\"12C000\",as.character(Treatment)))&\n",
    "                      (physeq.md$Day == Day)&\n",
    "                      (physeq.md$Density >= density.min)&\n",
    "                      (physeq.md$Density <= density.max), physeq.obj)\n",
    "    p.thresh = filter_taxa(p, function(x) sum(x > 0) > sparsity_threshold * length(x), TRUE)\n",
    "    \n",
    "    dds = phyloseq_to_deseq2(p.thresh, ~Treatment)\n",
    "    dds = DESeq(dds, quiet = TRUE, fitType = \"local\")\n",
    "    theta = l2fc.threshold\n",
    "    r = results(dds, independentFiltering = FALSE)\n",
    "    r$OTU = rownames(r)\n",
    "    beta = r$log2FoldChange\n",
    "    betaSE = r$lfcSE\n",
    "    p = pnorm(beta, theta, betaSE, lower.tail = FALSE)\n",
    "    r$p = p\n",
    "    d = data.frame(r[, c(\"OTU\",\"log2FoldChange\", \"p\")])\n",
    "    TT = data.frame(tax_table(p.thresh))\n",
    "    TT$OTU = rownames(TT)\n",
    "    d = left_join(d, TT)\n",
    "    d\n",
    "}"
   ]
  },
  {
   "cell_type": "code",
   "execution_count": 5,
   "metadata": {
    "collapsed": false
   },
   "outputs": [],
   "source": [
    "%%R\n",
    "m = expand.grid(sparsity_threshold = seq(0.05,0.95,0.05), \n",
    "                Day = c(14, 28, 45),\n",
    "                Treatment = c(\"13C000\"))\n",
    "\n",
    "registerDoParallel(20)\n",
    "\n",
    "df.l2fc.CC = tbl_df(mdply(m, \n",
    "                       get_Ps, \n",
    "                       .parallel = TRUE, \n",
    "                       physeq.obj = physeq))"
   ]
  },
  {
   "cell_type": "code",
   "execution_count": 6,
   "metadata": {
    "collapsed": false
   },
   "outputs": [
    {
     "data": {
      "text/plain": [
       "Source: local data frame [136,807 x 15]\n",
       "Groups: sparsity_threshold, Treatment, Day\n",
       "\n",
       "   sparsity_threshold Day Treatment       OTU log2FoldChange         p    Rank1\n",
       "1                0.05  14    13C000 OTU.11642    -0.90172182 0.8588611 Bacteria\n",
       "2                0.05  14    13C000 OTU.12643    -0.39624914 0.7727994 Bacteria\n",
       "3                0.05  14    13C000 OTU.12562     0.77933903 0.4923539 Bacteria\n",
       "4                0.05  14    13C000  OTU.4204    -0.20544785 0.9999991 Bacteria\n",
       "5                0.05  14    13C000   OTU.467    -0.33034377 0.9999959 Bacteria\n",
       "6                0.05  14    13C000   OTU.905     0.01698161 0.9409344 Bacteria\n",
       "7                0.05  14    13C000  OTU.7253     0.02615064 0.9305930 Bacteria\n",
       "8                0.05  14    13C000    OTU.67    -0.60130140 1.0000000 Bacteria\n",
       "9                0.05  14    13C000 OTU.10580     0.35997190 0.6272233 Bacteria\n",
       "10               0.05  14    13C000  OTU.4907     0.17895387 0.9999994 Bacteria\n",
       "..                ... ...       ...       ...            ...       ...      ...\n",
       "Variables not shown: Rank2 (fctr), Rank3 (fctr), Rank4 (fctr), Rank5 (fctr),\n",
       "  Rank6 (fctr), Rank7 (fctr), Rank8 (fctr), padj (dbl)\n"
      ]
     },
     "metadata": {},
     "output_type": "display_data"
    }
   ],
   "source": [
    "%%R\n",
    "df.l2fc.CC = df.l2fc.CC %.%\n",
    "    group_by(sparsity_threshold, Treatment, Day) %.%\n",
    "    mutate(padj = p.adjust(p, method = \"BH\"))\n",
    "\n",
    "df.l2fc.CC"
   ]
  },
  {
   "cell_type": "markdown",
   "metadata": {},
   "source": [
    "### Get log2foldchange for 100"
   ]
  },
  {
   "cell_type": "code",
   "execution_count": 7,
   "metadata": {
    "collapsed": false
   },
   "outputs": [],
   "source": [
    "%%R\n",
    "l2fc.threshold = 0.75\n",
    "density.min = 1.7125\n",
    "density.max = 1.755\n",
    "                           \n",
    "get_Ps = function(physeq.obj, Treatment, Day, sparsity_threshold) {\n",
    "    \n",
    "    physeq.md = sample_data(physeq.obj)\n",
    "    p = prune_samples((physeq.md$Bulk == 0)& (physeq.md$Treatment %in% c(\"12C100\",as.character(Treatment)))&\n",
    "                      (physeq.md$Day == Day)&\n",
    "                      (physeq.md$Density >= density.min)&\n",
    "                      (physeq.md$Density <= density.max), physeq.obj)\n",
    "    p.thresh = filter_taxa(p, function(x) sum(x > 0) > sparsity_threshold * length(x), TRUE)\n",
    "    \n",
    "    dds = phyloseq_to_deseq2(p.thresh, ~Treatment)\n",
    "    dds = DESeq(dds, quiet = TRUE, fitType = \"local\")\n",
    "    theta = l2fc.threshold\n",
    "    r = results(dds, independentFiltering = FALSE)\n",
    "    r$OTU = rownames(r)\n",
    "    beta = r$log2FoldChange\n",
    "    betaSE = r$lfcSE\n",
    "    p = pnorm(beta, theta, betaSE, lower.tail = FALSE)\n",
    "    r$p = p\n",
    "    d = data.frame(r[, c(\"OTU\",\"log2FoldChange\", \"p\")])\n",
    "    TT = data.frame(tax_table(p.thresh))\n",
    "    TT$OTU = rownames(TT)\n",
    "    d = left_join(d, TT)\n",
    "    d\n",
    "}"
   ]
  },
  {
   "cell_type": "code",
   "execution_count": 8,
   "metadata": {
    "collapsed": false
   },
   "outputs": [],
   "source": [
    "%%R\n",
    "m = expand.grid(sparsity_threshold = seq(0.05,0.95,0.05), \n",
    "                Day = c(14, 28, 45),\n",
    "                Treatment = c(\"13C100\"))\n",
    "\n",
    "registerDoParallel(20)\n",
    "\n",
    "df.l2fc.100 = tbl_df(mdply(m, \n",
    "                       get_Ps, \n",
    "                       .parallel = TRUE, \n",
    "                       physeq.obj = physeq))"
   ]
  },
  {
   "cell_type": "code",
   "execution_count": 9,
   "metadata": {
    "collapsed": false
   },
   "outputs": [
    {
     "data": {
      "text/plain": [
       "Source: local data frame [123,320 x 15]\n",
       "Groups: sparsity_threshold, Treatment, Day\n",
       "\n",
       "   sparsity_threshold Day Treatment       OTU log2FoldChange          p\n",
       "1                0.05  14    13C100 OTU.11642     1.86640621 0.21228907\n",
       "2                0.05  14    13C100  OTU.4204    -0.12055084 0.99990303\n",
       "3                0.05  14    13C100   OTU.467     0.55860664 0.65637280\n",
       "4                0.05  14    13C100   OTU.905     0.20651232 0.73221266\n",
       "5                0.05  14    13C100  OTU.7253     2.17512546 0.03440459\n",
       "6                0.05  14    13C100    OTU.67     0.03413556 0.98168844\n",
       "7                0.05  14    13C100 OTU.10580     3.21495409 0.03394705\n",
       "8                0.05  14    13C100  OTU.4907     0.06688307 0.99999973\n",
       "9                0.05  14    13C100  OTU.7898     0.32740807 0.98243768\n",
       "10               0.05  14    13C100  OTU.8632     0.08524245 0.68377200\n",
       "..                ... ...       ...       ...            ...        ...\n",
       "Variables not shown: Rank1 (fctr), Rank2 (fctr), Rank3 (fctr), Rank4 (fctr),\n",
       "  Rank5 (fctr), Rank6 (fctr), Rank7 (fctr), Rank8 (fctr), padj (dbl)\n"
      ]
     },
     "metadata": {},
     "output_type": "display_data"
    }
   ],
   "source": [
    "%%R\n",
    "df.l2fc.100 = df.l2fc.100 %.% \n",
    "    group_by(sparsity_threshold, Treatment, Day) %.%\n",
    "    mutate(padj = p.adjust(p, method = \"BH\"))\n",
    "\n",
    "df.l2fc.100"
   ]
  },
  {
   "cell_type": "markdown",
   "metadata": {},
   "source": [
    "### Get log2foldchange for 700"
   ]
  },
  {
   "cell_type": "code",
   "execution_count": 10,
   "metadata": {
    "collapsed": false
   },
   "outputs": [],
   "source": [
    "%%R\n",
    "l2fc.threshold = 0.75\n",
    "density.min = 1.7125\n",
    "density.max = 1.755\n",
    "                           \n",
    "get_Ps = function(physeq.obj, Treatment, Day, sparsity_threshold) {\n",
    "    \n",
    "    physeq.md = sample_data(physeq.obj)\n",
    "    p = prune_samples((physeq.md$Bulk == 0)& (physeq.md$Treatment %in% c(\"12C700\",as.character(Treatment)))&\n",
    "                      (physeq.md$Day == Day)&\n",
    "                      (physeq.md$Density >= density.min)&\n",
    "                      (physeq.md$Density <= density.max), physeq.obj)\n",
    "    p.thresh = filter_taxa(p, function(x) sum(x > 0) > sparsity_threshold * length(x), TRUE)\n",
    "    \n",
    "    dds = phyloseq_to_deseq2(p.thresh, ~Treatment)\n",
    "    dds = DESeq(dds, quiet = TRUE, fitType = \"local\")\n",
    "    theta = l2fc.threshold\n",
    "    r = results(dds, independentFiltering = FALSE)\n",
    "    r$OTU = rownames(r)\n",
    "    beta = r$log2FoldChange\n",
    "    betaSE = r$lfcSE\n",
    "    p = pnorm(beta, theta, betaSE, lower.tail = FALSE)\n",
    "    r$p = p\n",
    "    d = data.frame(r[, c(\"OTU\",\"log2FoldChange\", \"p\")])\n",
    "    TT = data.frame(tax_table(p.thresh))\n",
    "    TT$OTU = rownames(TT)\n",
    "    d = left_join(d, TT)\n",
    "    d\n",
    "}"
   ]
  },
  {
   "cell_type": "code",
   "execution_count": 11,
   "metadata": {
    "collapsed": false
   },
   "outputs": [],
   "source": [
    "%%R\n",
    "m = expand.grid(sparsity_threshold = seq(0.05,0.95,0.05), \n",
    "                Day = c(14, 28, 45),\n",
    "                Treatment = c(\"13C700\"))\n",
    "\n",
    "registerDoParallel(20)\n",
    "\n",
    "df.l2fc.700 = tbl_df(mdply(m, \n",
    "                       get_Ps, \n",
    "                       .parallel = TRUE, \n",
    "                       physeq.obj = physeq))"
   ]
  },
  {
   "cell_type": "code",
   "execution_count": 12,
   "metadata": {
    "collapsed": false
   },
   "outputs": [
    {
     "data": {
      "text/plain": [
       "Source: local data frame [137,309 x 15]\n",
       "Groups: sparsity_threshold, Treatment, Day\n",
       "\n",
       "   sparsity_threshold Day Treatment       OTU log2FoldChange          p\n",
       "1                0.05  14    13C700  OTU.4204      0.2951127 0.87289454\n",
       "2                0.05  14    13C700   OTU.467      1.1748995 0.17315591\n",
       "3                0.05  14    13C700   OTU.905     -0.2726527 0.92806436\n",
       "4                0.05  14    13C700  OTU.7253      1.7721812 0.08577159\n",
       "5                0.05  14    13C700    OTU.67     -0.3273769 0.99873581\n",
       "6                0.05  14    13C700 OTU.10580      1.0737168 0.40943299\n",
       "7                0.05  14    13C700  OTU.4907      0.6242936 0.61582105\n",
       "8                0.05  14    13C700  OTU.7898      0.4178486 0.77884399\n",
       "9                0.05  14    13C700   OTU.125      0.3489531 0.83278401\n",
       "10               0.05  14    13C700  OTU.3516      0.9217271 0.45411090\n",
       "..                ... ...       ...       ...            ...        ...\n",
       "Variables not shown: Rank1 (fctr), Rank2 (fctr), Rank3 (fctr), Rank4 (fctr),\n",
       "  Rank5 (fctr), Rank6 (fctr), Rank7 (fctr), Rank8 (fctr), padj (dbl)\n"
      ]
     },
     "metadata": {},
     "output_type": "display_data"
    }
   ],
   "source": [
    "%%R\n",
    "df.l2fc.700 = df.l2fc.700 %.% \n",
    "    group_by(sparsity_threshold, Treatment, Day) %.%\n",
    "    mutate(padj = p.adjust(p, method = \"BH\"))\n",
    "\n",
    "df.l2fc.700"
   ]
  },
  {
   "cell_type": "markdown",
   "metadata": {},
   "source": [
    "### Combine SS and PS dataframes then determine sparsity threshold"
   ]
  },
  {
   "cell_type": "code",
   "execution_count": 13,
   "metadata": {
    "collapsed": false
   },
   "outputs": [
    {
     "data": {
      "text/plain": [
       "Source: local data frame [397,436 x 15]\n",
       "Groups: sparsity_threshold, Treatment, Day\n",
       "\n",
       "   sparsity_threshold Day Treatment       OTU log2FoldChange         p    Rank1\n",
       "1                0.05  14    13C000 OTU.11642    -0.90172182 0.8588611 Bacteria\n",
       "2                0.05  14    13C000 OTU.12643    -0.39624914 0.7727994 Bacteria\n",
       "3                0.05  14    13C000 OTU.12562     0.77933903 0.4923539 Bacteria\n",
       "4                0.05  14    13C000  OTU.4204    -0.20544785 0.9999991 Bacteria\n",
       "5                0.05  14    13C000   OTU.467    -0.33034377 0.9999959 Bacteria\n",
       "6                0.05  14    13C000   OTU.905     0.01698161 0.9409344 Bacteria\n",
       "7                0.05  14    13C000  OTU.7253     0.02615064 0.9305930 Bacteria\n",
       "8                0.05  14    13C000    OTU.67    -0.60130140 1.0000000 Bacteria\n",
       "9                0.05  14    13C000 OTU.10580     0.35997190 0.6272233 Bacteria\n",
       "10               0.05  14    13C000  OTU.4907     0.17895387 0.9999994 Bacteria\n",
       "..                ... ...       ...       ...            ...       ...      ...\n",
       "Variables not shown: Rank2 (fctr), Rank3 (fctr), Rank4 (fctr), Rank5 (fctr),\n",
       "  Rank6 (fctr), Rank7 (fctr), Rank8 (fctr), padj (dbl)\n"
      ]
     },
     "metadata": {},
     "output_type": "display_data"
    }
   ],
   "source": [
    "%%R\n",
    "combined_l2fc = rbind(df.l2fc.CC, df.l2fc.100, df.l2fc.700)\n",
    "combined_l2fc"
   ]
  },
  {
   "cell_type": "code",
   "execution_count": 14,
   "metadata": {
    "collapsed": false
   },
   "outputs": [
    {
     "data": {
      "text/plain": [
       "Source: local data frame [19 x 2]\n",
       "\n",
       "   sparsity_threshold sum_pass_FDR\n",
       "1                0.05         1760\n",
       "2                0.10         1894\n",
       "3                0.15         1989\n",
       "4                0.20         2027\n",
       "5                0.25         2016\n",
       "6                0.30         1958\n",
       "7                0.35         1936\n",
       "8                0.40         1837\n",
       "9                0.45         1736\n",
       "10               0.50         1673\n",
       "11               0.55         1614\n",
       "12               0.60         1533\n",
       "13               0.65         1423\n",
       "14               0.70         1353\n",
       "15               0.75         1275\n",
       "16               0.80         1164\n",
       "17               0.85         1028\n",
       "18               0.90          815\n",
       "19               0.95          439\n"
      ]
     },
     "metadata": {},
     "output_type": "display_data"
    }
   ],
   "source": [
    "%%R\n",
    "d = combined_l2fc %.% \n",
    "    group_by(sparsity_threshold) %.%\n",
    "    summarize(sum_pass_FDR = sum(padj < 0.10))\n",
    "d"
   ]
  },
  {
   "cell_type": "code",
   "execution_count": 15,
   "metadata": {
    "collapsed": false
   },
   "outputs": [
    {
     "data": {
      "image/png": "[encoded data removed]"
     },
     "metadata": {},
     "output_type": "display_data"
    }
   ],
   "source": [
    "%%R -w 400 -h 350\n",
    "\n",
    "p = ggplot(d, aes(x = sparsity_threshold, y = sum_pass_FDR))\n",
    "\n",
    "p = p + geom_point(size = 4, shape = 21, color = \"blue\")\n",
    "\n",
    "p = p + geom_vline(x = 0.45)\n",
    "\n",
    "p = p + geom_hline(y = max(d$sum_pass_FDR))\n",
    "\n",
    "p = p + theme_bw()\n",
    "    \n",
    "p = p + theme(axis.text = element_text(size = 14),\n",
    "              axis.title = element_text(size = 14))\n",
    "\n",
    "p"
   ]
  },
  {
   "cell_type": "markdown",
   "metadata": {},
   "source": [
    "### Make dataframe that will be used for log2 fold change figures"
   ]
  },
  {
   "cell_type": "code",
   "execution_count": 24,
   "metadata": {
    "collapsed": false
   },
   "outputs": [
    {
     "data": {
      "text/plain": [
       "Source: local data frame [136,618 x 15]\n",
       "Groups: Treatment\n",
       "\n",
       "   sparsity_threshold Day Treatment      OTU log2FoldChange         p    Rank1\n",
       "1                0.45  14    13C000 OTU.4204    -0.20543977 0.9999991 Bacteria\n",
       "2                0.45  14    13C000  OTU.467    -0.32975385 0.9999957 Bacteria\n",
       "3                0.45  14    13C000  OTU.905     0.01693499 0.9444023 Bacteria\n",
       "4                0.45  14    13C000 OTU.7253     0.02959686 0.9328765 Bacteria\n",
       "5                0.45  14    13C000   OTU.67    -0.60063536 1.0000000 Bacteria\n",
       "6                0.45  14    13C000 OTU.4907     0.17904571 0.9999992 Bacteria\n",
       "7                0.45  14    13C000 OTU.7898     0.32207772 0.9870169 Bacteria\n",
       "8                0.45  14    13C000  OTU.125    -0.15079026 1.0000000 Bacteria\n",
       "9                0.45  14    13C000 OTU.3516    -0.17573786 0.8745698 Bacteria\n",
       "10               0.45  14    13C000 OTU.9497     0.89584208 0.2531573 Bacteria\n",
       "..                ... ...       ...      ...            ...       ...      ...\n",
       "Variables not shown: Rank2 (fctr), Rank3 (fctr), Rank4 (fctr), Rank5 (fctr),\n",
       "  Rank6 (fctr), Rank7 (fctr), Rank8 (fctr), padj (dbl)\n"
      ]
     },
     "metadata": {},
     "output_type": "display_data"
    }
   ],
   "source": [
    "%%R\n",
    "sparsity.threshold = 0.45\n",
    "\n",
    "df.l2fc = combined_l2fc %>% \n",
    "    filter(sparsity_threshold >= sparsity.threshold) %>%\n",
    "    group_by(Treatment) %>%\n",
    "    mutate(padj = p.adjust(p, method = \"BH\"))\n",
    "\n",
    "df.l2fc"
   ]
  },
  {
   "cell_type": "code",
   "execution_count": 26,
   "metadata": {
    "collapsed": false
   },
   "outputs": [],
   "source": [
    "%%R\n",
    "\n",
    "write.table(df.l2fc, \n",
    "            file = \"/var/seq_data/priming_exp/data/l2fc_table.csv\",\n",
    "            row.names = FALSE,\n",
    "            sep = \",\")"
   ]
  },
  {
   "cell_type": "code",
   "execution_count": 27,
   "metadata": {
    "collapsed": false
   },
   "outputs": [
    {
     "name": "stdout",
     "output_type": "stream",
     "text": [
      "\"sparsity_threshold\",\"Day\",\"Treatment\",\"OTU\",\"log2FoldChange\",\"p\",\"Rank1\",\"Rank2\",\"Rank3\",\"Rank4\",\"R\r\n",
      "0.45,14,\"13C000\",\"OTU.4204\",-0.205439771058824,0.999999065640418,\"Bacteria\",\"Acidobacteria\",\"DA023\",\r\n",
      "0.45,14,\"13C000\",\"OTU.467\",-0.329753849298316,0.999995674772677,\"Bacteria\",\"Acidobacteria\",\"DA023\",\"\r\n",
      "0.45,14,\"13C000\",\"OTU.905\",0.0169349858903954,0.94440233938488,\"Bacteria\",\"Acidobacteria\",\"DA023\",\"u\r\n",
      "0.45,14,\"13C000\",\"OTU.7253\",0.0295968615610199,0.932876517678725,\"Bacteria\",\"Acidobacteria\",\"DA023\",\r\n",
      "0.45,14,\"13C000\",\"OTU.67\",-0.600635364661309,0.999999998578617,\"Bacteria\",\"Acidobacteria\",\"DA023\",\"u\r\n",
      "0.45,14,\"13C000\",\"OTU.4907\",0.179045710971328,0.999999186685025,\"Bacteria\",\"Acidobacteria\",\"DA023\",\"\r\n",
      "0.45,14,\"13C000\",\"OTU.7898\",0.322077724462856,0.987016947061489,\"Bacteria\",\"Acidobacteria\",\"DA023\",\"\r\n",
      "0.45,14,\"13C000\",\"OTU.125\",-0.150790263470163,0.999999998726782,\"Bacteria\",\"Acidobacteria\",\"DA023\",\"\r\n",
      "0.45,14,\"13C000\",\"OTU.3516\",-0.175737859304129,0.874569770872288,\"Bacteria\",\"Acidobacteria\",\"DA023\",\r\n"
     ]
    }
   ],
   "source": [
    "!head /var/seq_data/priming_exp/data/l2fc_table.csv | cut -c1-100"
   ]
  }
 ],
 "metadata": {
  "kernelspec": {
   "display_name": "Python 2",
   "language": "python",
   "name": "python2"
  },
  "language_info": {
   "codemirror_mode": {
    "name": "ipython",
    "version": 2
   },
   "file_extension": ".py",
   "mimetype": "text/x-python",
   "name": "python",
   "nbconvert_exporter": "python",
   "pygments_lexer": "ipython2",
   "version": "2.7.9"
  }
 },
 "nbformat": 4,
 "nbformat_minor": 0
}
