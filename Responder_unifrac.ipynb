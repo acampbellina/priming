{
 "cells": [
  {
   "cell_type": "code",
   "execution_count": 1,
   "metadata": {
    "collapsed": true
   },
   "outputs": [],
   "source": [
    "%load_ext rpy2.ipython\n",
    "from IPython.display import FileLink"
   ]
  },
  {
   "cell_type": "code",
   "execution_count": 2,
   "metadata": {
    "collapsed": false
   },
   "outputs": [
    {
     "data": {
      "text/plain": [
       "\n",
       "Attaching package: ‘dplyr’\n",
       "\n",
       "The following object is masked from ‘package:stats’:\n",
       "\n",
       "    filter\n",
       "\n",
       "The following objects are masked from ‘package:base’:\n",
       "\n",
       "    intersect, setdiff, setequal, union\n",
       "\n",
       "Loading required package: grid\n",
       "foreach: simple, scalable parallel programming from Revolution Analytics\n",
       "Use Revolution R for scalability, fault tolerance and more.\n",
       "http://www.revolutionanalytics.com\n",
       "Loading required package: iterators\n",
       "Loading required package: parallel\n"
      ]
     },
     "metadata": {},
     "output_type": "display_data"
    }
   ],
   "source": [
    "%%R\n",
    "library(phyloseq)\n",
    "library(dplyr); library(tidyr)\n",
    "library(ggplot2)\n",
    "library(gridExtra)\n",
    "library(foreach)\n",
    "library(doParallel)"
   ]
  },
  {
   "cell_type": "markdown",
   "metadata": {},
   "source": [
    "###These files are from the [l2fc sparsity notebook](./Sparsity_make_l2fc_table.ipynb) and [l2fc no sparsity notebook](./l2fc_table_nospar.ipynb)"
   ]
  },
  {
   "cell_type": "code",
   "execution_count": 3,
   "metadata": {
    "collapsed": false
   },
   "outputs": [],
   "source": [
    "%%R\n",
    "l2fc = read.csv(\"/var/seq_data/priming_exp/data/l2fc_table.csv\")"
   ]
  },
  {
   "cell_type": "code",
   "execution_count": 4,
   "metadata": {
    "collapsed": false
   },
   "outputs": [
    {
     "data": {
      "text/plain": [
       "  sparsity_threshold Day Treatment       OTU log2FoldChange         p    Rank1\n",
       "1               0.25  14    13C000  OTU.4204    -0.20553170 1.0000000 Bacteria\n",
       "2               0.25  14    13C000   OTU.467    -0.33054855 1.0000000 Bacteria\n",
       "3               0.25  14    13C000   OTU.905     0.01698885 0.9827594 Bacteria\n",
       "4               0.25  14    13C000  OTU.7253     0.02799601 0.9772968 Bacteria\n",
       "5               0.25  14    13C000    OTU.67    -0.60115954 1.0000000 Bacteria\n",
       "6               0.25  14    13C000 OTU.10580     0.36193427 0.7248674 Bacteria\n",
       "          Rank2 Rank3                Rank4 Rank5 Rank6 Rank7 Rank8 padj\n",
       "1 Acidobacteria DA023                 <NA>  <NA>  <NA>  <NA>  <NA>    1\n",
       "2 Acidobacteria DA023 uncultured_bacterium  <NA>  <NA>  <NA>  <NA>    1\n",
       "3 Acidobacteria DA023 uncultured_bacterium  <NA>  <NA>  <NA>  <NA>    1\n",
       "4 Acidobacteria DA023 uncultured_bacterium  <NA>  <NA>  <NA>  <NA>    1\n",
       "5 Acidobacteria DA023 uncultured_bacterium  <NA>  <NA>  <NA>  <NA>    1\n",
       "6 Acidobacteria DA023                 <NA>  <NA>  <NA>  <NA>  <NA>    1\n"
      ]
     },
     "metadata": {},
     "output_type": "display_data"
    }
   ],
   "source": [
    "%%R\n",
    "head(l2fc)"
   ]
  },
  {
   "cell_type": "code",
   "execution_count": 5,
   "metadata": {
    "collapsed": false
   },
   "outputs": [
    {
     "data": {
      "text/plain": [
       "Source: local data frame [1,000 x 4]\n",
       "Groups: OTU, Treatment\n",
       "\n",
       "         OTU Treatment          Rank2         minP\n",
       "1      OTU.1    13C000 Actinobacteria 1.323119e-02\n",
       "2     OTU.10    13C000 Proteobacteria 8.989932e-06\n",
       "3     OTU.10    13C100 Proteobacteria 3.352715e-05\n",
       "4     OTU.10    13C700 Proteobacteria 5.974757e-13\n",
       "5   OTU.1009    13C000  Bacteroidetes 5.712882e-02\n",
       "6   OTU.1009    13C100  Bacteroidetes 1.484723e-04\n",
       "7   OTU.1009    13C700  Bacteroidetes 2.958242e-07\n",
       "8    OTU.101    13C000 Actinobacteria 2.899518e-02\n",
       "9   OTU.1016    13C700  Acidobacteria 2.081194e-03\n",
       "10 OTU.10167    13C000  Acidobacteria 1.087521e-03\n",
       "..       ...       ...            ...          ...\n"
      ]
     },
     "metadata": {},
     "output_type": "display_data"
    }
   ],
   "source": [
    "%%R\n",
    "FDR = 0.10\n",
    "\n",
    "df = l2fc %>%\n",
    "    group_by(OTU, Treatment, Rank2) %>%\n",
    "    summarize(minP = min(padj)) %>%\n",
    "    filter(minP <= FDR) \n",
    "\n",
    "df"
   ]
  },
  {
   "cell_type": "code",
   "execution_count": 9,
   "metadata": {
    "collapsed": false
   },
   "outputs": [
    {
     "data": {
      "text/plain": [
       "phyloseq-class experiment-level object\n",
       "otu_table()   OTU Table:         [ 3203 taxa and 395 samples ]\n",
       "sample_data() Sample Data:       [ 395 samples by 13 sample variables ]\n",
       "phy_tree()    Phylogenetic Tree: [ 3203 tips and 3202 internal nodes ]\n"
      ]
     },
     "metadata": {},
     "output_type": "display_data"
    }
   ],
   "source": [
    "%%R\n",
    "physeq = import_biom(\"/var/seq_data/priming_exp/data/otu_table.biom\", \"/var/seq_data/priming_exp/data/otusn.tree\")\n",
    "sample.data = import_qiime_sample_data(\"/var/seq_data/priming_exp/data/allsample_metadata_nomock.txt\")\n",
    "physeq = merge_phyloseq(physeq,sample.data)\n",
    "physeq.md = sample_data(physeq)\n",
    "physeq.PE = prune_samples((physeq.md$Bulk == 0), physeq)\n",
    "physeq.PE.snorm = transform_sample_counts(physeq.PE, function(x) x/sum(x))\n",
    "physeq.PE.thresh = filter_taxa(physeq.PE.snorm, function(x) sum(x > 0) > (0.25 * length(x)), TRUE)\n",
    "#physeq.PE.responders = subset_taxa(physeq.PE.thresh, OTU == \"OTU.1\", TRUE)\n",
    "#print(physeq.PE.responders)\n",
    " print(physeq.PE.thresh)   "
   ]
  }
 ],
 "metadata": {
  "kernelspec": {
   "display_name": "Python 2",
   "language": "python",
   "name": "python2"
  },
  "language_info": {
   "codemirror_mode": {
    "name": "ipython",
    "version": 2
   },
   "file_extension": ".py",
   "mimetype": "text/x-python",
   "name": "python",
   "nbconvert_exporter": "python",
   "pygments_lexer": "ipython2",
   "version": "2.7.9"
  }
 },
 "nbformat": 4,
 "nbformat_minor": 0
}
