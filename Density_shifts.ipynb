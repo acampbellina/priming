{
 "cells": [
  {
   "cell_type": "code",
   "execution_count": 13,
   "metadata": {
    "collapsed": true
   },
   "outputs": [],
   "source": [
    "from IPython.display import FileLink"
   ]
  },
  {
   "cell_type": "code",
   "execution_count": 14,
   "metadata": {
    "collapsed": false
   },
   "outputs": [
    {
     "name": "stdout",
     "output_type": "stream",
     "text": [
      "The rpy2.ipython extension is already loaded. To reload it, use:\n",
      "  %reload_ext rpy2.ipython\n"
     ]
    }
   ],
   "source": [
    "%load_ext rpy2.ipython"
   ]
  },
  {
   "cell_type": "code",
   "execution_count": 15,
   "metadata": {
    "collapsed": false
   },
   "outputs": [],
   "source": [
    "%%R\n",
    "library(dplyr)\n",
    "library(ggplot2)\n",
    "library(phyloseq)\n",
    "library(RColorBrewer)\n",
    "library(gridExtra)\n",
    "library(stats)"
   ]
  },
  {
   "cell_type": "markdown",
   "metadata": {},
   "source": [
    "###These files are from the density shift notebooks [1](./Density_shift_100.ipynb), [2](./Density_shift_700.ipynb), [3](./Density_shift_CC.ipynb)."
   ]
  },
  {
   "cell_type": "code",
   "execution_count": 16,
   "metadata": {
    "collapsed": false
   },
   "outputs": [
    {
     "data": {
      "text/plain": [
       "       OTU        shift Day Treatment\n",
       "1 OTU.4676  0.024507476  28    13C000\n",
       "2  OTU.759 -0.018044877  28    13C000\n",
       "3 OTU.9994           NA  28    13C000\n",
       "4  OTU.758 -0.006204949  28    13C000\n",
       "5 OTU.9015           NA  28    13C000\n",
       "6 OTU.9996           NA  28    13C000\n"
      ]
     },
     "metadata": {},
     "output_type": "display_data"
    }
   ],
   "source": [
    "%%R\n",
    "df.shifts.CC = read.csv(\"data/density_shifts_CC.csv\", sep = \",\", header = TRUE, )\n",
    "df.shifts.CC$shift = as.numeric(as.character(df.shifts.CC$shift))\n",
    "head(df.shifts.CC)"
   ]
  },
  {
   "cell_type": "code",
   "execution_count": 17,
   "metadata": {
    "collapsed": false
   },
   "outputs": [
    {
     "data": {
      "text/plain": [
       "       OTU        shift Day Treatment\n",
       "1 OTU.4676  0.014023631  28    13C100\n",
       "2  OTU.759 -0.001393483  28    13C100\n",
       "3 OTU.9994           NA  28    13C100\n",
       "4  OTU.758 -0.015521089  28    13C100\n",
       "5 OTU.9015           NA  28    13C100\n",
       "6 OTU.9996           NA  28    13C100\n"
      ]
     },
     "metadata": {},
     "output_type": "display_data"
    }
   ],
   "source": [
    "%%R\n",
    "df.shifts.C100 = read.csv(\"data/density_shifts_C100.csv\", sep = \",\", header = TRUE, )\n",
    "df.shifts.C100$shift = as.numeric(as.character(df.shifts.C100$shift))\n",
    "head(df.shifts.C100)"
   ]
  },
  {
   "cell_type": "code",
   "execution_count": 18,
   "metadata": {
    "collapsed": false
   },
   "outputs": [
    {
     "data": {
      "text/plain": [
       "       OTU       shift Day Treatment\n",
       "1 OTU.4676  0.01981864  28    13C700\n",
       "2  OTU.759 -0.00866067  28    13C700\n",
       "3 OTU.9994          NA  28    13C700\n",
       "4  OTU.758 -0.01440077  28    13C700\n",
       "5 OTU.9015          NA  28    13C700\n",
       "6 OTU.9996          NA  28    13C700\n"
      ]
     },
     "metadata": {},
     "output_type": "display_data"
    }
   ],
   "source": [
    "%%R\n",
    "df.shifts.C700 = read.csv(\"data/density_shifts_C700.csv\", sep = \",\", header = TRUE, )\n",
    "df.shifts.C700$shift = as.numeric(as.character(df.shifts.C700$shift))\n",
    "head(df.shifts.C700)"
   ]
  },
  {
   "cell_type": "code",
   "execution_count": 19,
   "metadata": {
    "collapsed": false
   },
   "outputs": [
    {
     "data": {
      "text/plain": [
       "       OTU        shift Day Treatment\n",
       "1 OTU.4676  0.024507476  28    13C000\n",
       "2  OTU.759 -0.018044877  28    13C000\n",
       "3 OTU.9994           NA  28    13C000\n",
       "4  OTU.758 -0.006204949  28    13C000\n",
       "5 OTU.9015           NA  28    13C000\n",
       "6 OTU.9996           NA  28    13C000\n"
      ]
     },
     "metadata": {},
     "output_type": "display_data"
    }
   ],
   "source": [
    "%%R\n",
    "density_shift_all = rbind(df.shifts.CC, df.shifts.C100, df.shifts.C700)\n",
    "head(density_shift_all)"
   ]
  },
  {
   "cell_type": "code",
   "execution_count": 20,
   "metadata": {
    "collapsed": true
   },
   "outputs": [],
   "source": [
    "%%R\n",
    "write.csv(density_shift_all, \"data/density_shifts_all.csv\")"
   ]
  },
  {
   "cell_type": "code",
   "execution_count": 21,
   "metadata": {
    "collapsed": false
   },
   "outputs": [
    {
     "name": "stdout",
     "output_type": "stream",
     "text": [
      "\"\",\"OTU\",\"shift\",\"Day\",\"Treatment\"\r\n",
      "\"1\",\"OTU.4676\",0.0245074760226234,28,\"13C000\"\r\n",
      "\"2\",\"OTU.759\",-0.0180448773590349,28,\"13C000\"\r\n",
      "\"3\",\"OTU.9994\",NA,28,\"13C000\"\r\n",
      "\"4\",\"OTU.758\",-0.00620494887500089,28,\"13C000\"\r\n",
      "\"5\",\"OTU.9015\",NA,28,\"13C000\"\r\n",
      "\"6\",\"OTU.9996\",NA,28,\"13C000\"\r\n",
      "\"7\",\"OTU.5680\",NA,28,\"13C000\"\r\n",
      "\"8\",\"OTU.9017\",-0.00596657183326155,28,\"13C000\"\r\n",
      "\"9\",\"OTU.9444\",NA,28,\"13C000\"\r\n"
     ]
    }
   ],
   "source": [
    "!head data/density_shifts_all.csv"
   ]
  },
  {
   "cell_type": "markdown",
   "metadata": {},
   "source": [
    "###This file is from the [sparsity notebook](./Sparsity_make_l2fc_table.ipynb)."
   ]
  },
  {
   "cell_type": "code",
   "execution_count": 22,
   "metadata": {
    "collapsed": false
   },
   "outputs": [
    {
     "data": {
      "text/plain": [
       "  sparsity_threshold Day Treatment      OTU log2FoldChange         p    Rank1\n",
       "1               0.45  14    13C000 OTU.4204    -0.20543977 0.9999991 Bacteria\n",
       "2               0.45  14    13C000  OTU.467    -0.32975385 0.9999957 Bacteria\n",
       "3               0.45  14    13C000  OTU.905     0.01693499 0.9444023 Bacteria\n",
       "4               0.45  14    13C000 OTU.7253     0.02959686 0.9328765 Bacteria\n",
       "5               0.45  14    13C000   OTU.67    -0.60063536 1.0000000 Bacteria\n",
       "6               0.45  14    13C000 OTU.4907     0.17904571 0.9999992 Bacteria\n",
       "          Rank2 Rank3                Rank4 Rank5 Rank6 Rank7 Rank8 padj\n",
       "1 Acidobacteria DA023                 <NA>  <NA>  <NA>  <NA>  <NA>    1\n",
       "2 Acidobacteria DA023 uncultured_bacterium  <NA>  <NA>  <NA>  <NA>    1\n",
       "3 Acidobacteria DA023 uncultured_bacterium  <NA>  <NA>  <NA>  <NA>    1\n",
       "4 Acidobacteria DA023 uncultured_bacterium  <NA>  <NA>  <NA>  <NA>    1\n",
       "5 Acidobacteria DA023 uncultured_bacterium  <NA>  <NA>  <NA>  <NA>    1\n",
       "6 Acidobacteria DA023 uncultured_bacterium  <NA>  <NA>  <NA>  <NA>    1\n"
      ]
     },
     "metadata": {},
     "output_type": "display_data"
    }
   ],
   "source": [
    "%%R\n",
    "df_all = read.table(\"/var/seq_data/priming_exp/data/l2fc_table.csv\", \n",
    "                    header = TRUE,\n",
    "                    sep = \",\")\n",
    "head(df_all)"
   ]
  },
  {
   "cell_type": "code",
   "execution_count": 36,
   "metadata": {
    "collapsed": false
   },
   "outputs": [
    {
     "data": {
      "image/png": "[encoded data removed]"
     },
     "metadata": {},
     "output_type": "display_data"
    }
   ],
   "source": [
    "%%R -w 500 -h 350\n",
    "\n",
    "FDR = 0.1\n",
    "\n",
    "df_all.wShifts = merge(df_all, density_shift_all, by = c(\"OTU\",\"Day\",\"Treatment\"))\n",
    "\n",
    "df.plot = subset(df_all.wShifts, padj <= FDR)\n",
    "\n",
    "colours = c(\"#009999\", \"#CC0033\", \"#99CC00\")\n",
    "\n",
    "p = ggplot(df.plot, aes(x = as.numeric(as.character(shift))))\n",
    "\n",
    "p = p + geom_density(aes(color = Treatment, fill = Treatment), alpha = 0.50)\n",
    "p = p + geom_rug(aes(color = Treatment))\n",
    "p = p + scale_color_manual(values=colours,\n",
    "                           breaks=c(\"13C000\", \"13C100\", \"13C700\"),\n",
    "                           labels=c(\"Cellulose Only\", \"Root Exudate Continuous\", \"Root Exudate Pulse\")) \n",
    "\n",
    "p = p + scale_fill_manual(values=colours,\n",
    "                          breaks=c(\"13C000\", \"13C100\", \"13C700\"),\n",
    "                          labels=c(\"Cellulose Only\", \"Root Exudate Continuous\", \"Root Exudate Pulse\"))\n",
    "p = p + labs(y = \"Kernel Density\", x =  expression(paste(\"Density Shift (g mL\",{}^-1,\")\",sep=\"\")))\n",
    "p = p + xlim(xmin = -0.005, xmax = 0.042)\n",
    "\n",
    "p = p + theme_bw()\n",
    "p = p + theme(axis.title.y = element_text(size=15))\n",
    "p = p + theme(axis.title.x = element_text(size=15))\n",
    "p = p + theme(axis.text.x = element_text(size=12))\n",
    "p = p + theme(axis.text.y = element_text(size=12))\n",
    "p = p + theme(legend.title = element_text(size = 12), legend.text = element_text(size = 12))\n",
    "p = p + theme(legend.position=c(0.8,0.85))\n",
    "\n",
    "p"
   ]
  },
  {
   "cell_type": "code",
   "execution_count": 37,
   "metadata": {
    "collapsed": false
   },
   "outputs": [
    {
     "data": {
      "text/plain": [
       "png \n",
       "  2 \n"
      ]
     },
     "metadata": {},
     "output_type": "display_data"
    }
   ],
   "source": [
    "%%R \n",
    "pdf(\"figs/density_shifts_KDE.pdf\", width = 7, height = 5)\n",
    "grid.arrange(p, ncol = 1)\n",
    "dev.off()"
   ]
  },
  {
   "cell_type": "code",
   "execution_count": 38,
   "metadata": {
    "collapsed": false
   },
   "outputs": [
    {
     "data": {
      "text/html": [
       "<a href='figs/density_shifts_KDE.pdf' target='_blank'>figs/density_shifts_KDE.pdf</a><br>"
      ],
      "text/plain": [
       "/home/ashley/priming_exp/figs/density_shifts_KDE.pdf"
      ]
     },
     "execution_count": 38,
     "metadata": {},
     "output_type": "execute_result"
    }
   ],
   "source": [
    "FileLink(\"figs/density_shifts_KDE.pdf\")"
   ]
  },
  {
   "cell_type": "code",
   "execution_count": 39,
   "metadata": {
    "collapsed": false
   },
   "outputs": [
    {
     "data": {
      "text/plain": [
       "png \n",
       "  2 \n"
      ]
     },
     "metadata": {},
     "output_type": "display_data"
    }
   ],
   "source": [
    "%%R \n",
    "png(\"figs/density_shifts_KDE.png\", width = 7, height = 5, units = \"in\", res = 600)\n",
    "grid.arrange(p, ncol = 1)\n",
    "dev.off()"
   ]
  },
  {
   "cell_type": "code",
   "execution_count": 40,
   "metadata": {
    "collapsed": false
   },
   "outputs": [
    {
     "data": {
      "text/html": [
       "<a href='figs/density_shifts_KDE.png' target='_blank'>figs/density_shifts_KDE.png</a><br>"
      ],
      "text/plain": [
       "/home/ashley/priming_exp/figs/density_shifts_KDE.png"
      ]
     },
     "execution_count": 40,
     "metadata": {},
     "output_type": "execute_result"
    }
   ],
   "source": [
    "FileLink(\"figs/density_shifts_KDE.png\")"
   ]
  },
  {
   "cell_type": "code",
   "execution_count": 30,
   "metadata": {
    "collapsed": true
   },
   "outputs": [],
   "source": [
    "%%R\n",
    "FDR = 0.1\n",
    "CO.shifts = subset(df_all.wShifts, (Treatment == \"13C000\")&(padj <= FDR))$shift\n",
    "REcont.shifts = subset(df_all.wShifts, (Treatment == \"13C100\")&(padj <= FDR))$shift\n",
    "REpulse.shifts = subset(df_all.wShifts, (Treatment == \"13C700\")&(padj <= FDR))$shift"
   ]
  },
  {
   "cell_type": "code",
   "execution_count": 33,
   "metadata": {
    "collapsed": false
   },
   "outputs": [
    {
     "data": {
      "text/plain": [
       "\n",
       "\tWilcoxon rank sum test with continuity correction\n",
       "\n",
       "data:  CO.shifts and REcont.shifts\n",
       "W = 8209799, p-value < 2.2e-16\n",
       "alternative hypothesis: true location shift is not equal to 0\n",
       "\n"
      ]
     },
     "metadata": {},
     "output_type": "display_data"
    }
   ],
   "source": [
    "%%R\n",
    "wilcox.test(CO.shifts, REcont.shifts)"
   ]
  },
  {
   "cell_type": "code",
   "execution_count": 34,
   "metadata": {
    "collapsed": false
   },
   "outputs": [
    {
     "data": {
      "text/plain": [
       "\n",
       "\tWilcoxon rank sum test with continuity correction\n",
       "\n",
       "data:  CO.shifts and REpulse.shifts\n",
       "W = 14242656, p-value = 1.346e-14\n",
       "alternative hypothesis: true location shift is not equal to 0\n",
       "\n"
      ]
     },
     "metadata": {},
     "output_type": "display_data"
    }
   ],
   "source": [
    "%%R\n",
    "wilcox.test(CO.shifts, REpulse.shifts)"
   ]
  },
  {
   "cell_type": "code",
   "execution_count": 35,
   "metadata": {
    "collapsed": false
   },
   "outputs": [
    {
     "data": {
      "text/plain": [
       "\n",
       "\tWilcoxon rank sum test with continuity correction\n",
       "\n",
       "data:  REpulse.shifts and REcont.shifts\n",
       "W = 7924764, p-value < 2.2e-16\n",
       "alternative hypothesis: true location shift is not equal to 0\n",
       "\n"
      ]
     },
     "metadata": {},
     "output_type": "display_data"
    }
   ],
   "source": [
    "%%R\n",
    "wilcox.test(REpulse.shifts, REcont.shifts)"
   ]
  },
  {
   "cell_type": "code",
   "execution_count": null,
   "metadata": {
    "collapsed": true
   },
   "outputs": [],
   "source": []
  }
 ],
 "metadata": {
  "kernelspec": {
   "display_name": "Python 2",
   "language": "python",
   "name": "python2"
  },
  "language_info": {
   "codemirror_mode": {
    "name": "ipython",
    "version": 2
   },
   "file_extension": ".py",
   "mimetype": "text/x-python",
   "name": "python",
   "nbconvert_exporter": "python",
   "pygments_lexer": "ipython2",
   "version": "2.7.9"
  }
 },
 "nbformat": 4,
 "nbformat_minor": 0
}
