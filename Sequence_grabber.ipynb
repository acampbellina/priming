{
 "metadata": {
  "name": "",
  "signature": "sha256:e0a12170a2c9289b84d34e432ffe23896b52e64933eeb31556ea78a0c0c36f51"
 },
 "nbformat": 3,
 "nbformat_minor": 0,
 "worksheets": [
  {
   "cells": [
    {
     "cell_type": "code",
     "collapsed": false,
     "input": [
      "from cogent import LoadSeqs, DNA"
     ],
     "language": "python",
     "metadata": {},
     "outputs": [],
     "prompt_number": 3
    },
    {
     "cell_type": "code",
     "collapsed": false,
     "input": [
      "OTU_ids = [\"OTU.848\"]\n",
      "seqs = LoadSeqs(\"/var/seq_data/priming_exp/otusn.pick.fasta\", moltype=DNA, aligned=False)\n",
      "print seqs.takeSeqs(OTU_ids).toFasta()"
     ],
     "language": "python",
     "metadata": {},
     "outputs": [
      {
       "output_type": "stream",
       "stream": "stdout",
       "text": [
        ">OTU.848\n",
        "GACGTAGGATGCGAGCGTTGTCCGGATTTATTGGGCGTAAAGAGTTCGTAGGTGGTTCGTTAAGTTTGGTGTTAAAGACCAGGGCTCAACCTTGGGACCGCACTGAATACTGGCGGACTGGAGTGAAGTAGAGGCAAGCGGAATTCCAGGTGTAGCGGTGAAATGCGTAGATATCTGGAAGAACACCGGTGGCGTAAGCGGCTTGCTGGGCTTTAACTGACGCTGAGGAACGAAAGCTAGGGTAGCGAATGGGATTAGATACCCCAGTAGTCCTAGCCGTAAACGATGGATACTAGGCGTATCGGGTATCGACCCCTGATGTGCCGTAGCAAACGCGATAAGTATCCCGCCTGAGTAGTACGGCCGCAAGGTTG\n"
       ]
      }
     ],
     "prompt_number": 6
    }
   ],
   "metadata": {}
  }
 ]
}