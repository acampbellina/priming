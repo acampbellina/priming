{
 "metadata": {
  "name": "",
  "signature": "sha256:7e3697564bf5eeda972190af97a49c7aaf1cce90ec901282638e15d851682b6a"
 },
 "nbformat": 3,
 "nbformat_minor": 0,
 "worksheets": [
  {
   "cells": [
    {
     "cell_type": "code",
     "collapsed": false,
     "input": [
      "from IPython.display import FileLink"
     ],
     "language": "python",
     "metadata": {},
     "outputs": [],
     "prompt_number": 1
    },
    {
     "cell_type": "code",
     "collapsed": false,
     "input": [
      "%load_ext rpy2.ipython"
     ],
     "language": "python",
     "metadata": {},
     "outputs": [
      {
       "output_type": "stream",
       "stream": "stderr",
       "text": [
        "/opt/anaconda/lib/python2.7/site-packages/pytz/__init__.py:29: UserWarning: Module argparse was already imported from /opt/anaconda/lib/python2.7/argparse.pyc, but /opt/anaconda/lib/python2.7/site-packages is being added to sys.path\n",
        "  from pkg_resources import resource_stream\n"
       ]
      }
     ],
     "prompt_number": 2
    },
    {
     "cell_type": "code",
     "collapsed": false,
     "input": [
      "%%R\n",
      "library(DESeq2)\n",
      "library(phyloseq)\n",
      "library(plyr); library(dplyr)\n",
      "library(ggplot2)\n",
      "library(doParallel)\n",
      "library(foreach)\n",
      "library(tidyr)"
     ],
     "language": "python",
     "metadata": {},
     "outputs": [
      {
       "metadata": {},
       "output_type": "display_data",
       "text": [
        "Loading required package: S4Vectors\n",
        "Loading required package: stats4\n",
        "Loading required package: BiocGenerics\n",
        "Loading required package: parallel\n",
        "\n",
        "Attaching package: \u2018BiocGenerics\u2019\n",
        "\n",
        "The following objects are masked from \u2018package:parallel\u2019:\n",
        "\n",
        "    clusterApply, clusterApplyLB, clusterCall, clusterEvalQ,\n",
        "    clusterExport, clusterMap, parApply, parCapply, parLapply,\n",
        "    parLapplyLB, parRapply, parSapply, parSapplyLB\n",
        "\n",
        "The following object is masked from \u2018package:stats\u2019:\n",
        "\n",
        "    xtabs\n",
        "\n",
        "The following objects are masked from \u2018package:base\u2019:\n",
        "\n",
        "    anyDuplicated, append, as.data.frame, as.vector, cbind, colnames,\n",
        "    do.call, duplicated, eval, evalq, Filter, Find, get, intersect,\n",
        "    is.unsorted, lapply, Map, mapply, match, mget, order, paste, pmax,\n",
        "    pmax.int, pmin, pmin.int, Position, rank, rbind, Reduce, rep.int,\n",
        "    rownames, sapply, setdiff, sort, table, tapply, union, unique,\n",
        "    unlist, unsplit\n",
        "\n",
        "Loading required package: IRanges\n",
        "Loading required package: GenomicRanges\n",
        "Loading required package: GenomeInfoDb\n",
        "Loading required package: Rcpp\n",
        "Loading required package: RcppArmadillo\n",
        "\n",
        "Attaching package: \u2018phyloseq\u2019\n",
        "\n",
        "The following object is masked from \u2018package:GenomicRanges\u2019:\n",
        "\n",
        "    distance\n",
        "\n",
        "The following object is masked from \u2018package:IRanges\u2019:\n",
        "\n",
        "    distance\n",
        "\n",
        "\n",
        "Attaching package: \u2018plyr\u2019\n",
        "\n",
        "The following object is masked from \u2018package:IRanges\u2019:\n",
        "\n",
        "    desc\n",
        "\n",
        "The following object is masked from \u2018package:S4Vectors\u2019:\n",
        "\n",
        "    rename\n",
        "\n",
        "\n",
        "Attaching package: \u2018dplyr\u2019\n",
        "\n",
        "The following objects are masked from \u2018package:plyr\u2019:\n",
        "\n",
        "    arrange, count, desc, failwith, id, mutate, rename, summarise,\n",
        "    summarize\n",
        "\n",
        "The following objects are masked from \u2018package:GenomicRanges\u2019:\n",
        "\n",
        "    intersect, setdiff, union\n",
        "\n",
        "The following object is masked from \u2018package:GenomeInfoDb\u2019:\n",
        "\n",
        "    intersect\n",
        "\n",
        "The following objects are masked from \u2018package:IRanges\u2019:\n",
        "\n",
        "    collapse, desc, intersect, setdiff, slice, union\n",
        "\n",
        "The following object is masked from \u2018package:S4Vectors\u2019:\n",
        "\n",
        "    rename\n",
        "\n",
        "The following objects are masked from \u2018package:BiocGenerics\u2019:\n",
        "\n",
        "    intersect, setdiff, union\n",
        "\n",
        "The following object is masked from \u2018package:stats\u2019:\n",
        "\n",
        "    filter\n",
        "\n",
        "The following objects are masked from \u2018package:base\u2019:\n",
        "\n",
        "    intersect, setdiff, setequal, union\n",
        "\n",
        "Loading required package: foreach\n",
        "foreach: simple, scalable parallel programming from Revolution Analytics\n",
        "Use Revolution R for scalability, fault tolerance and more.\n",
        "http://www.revolutionanalytics.com\n",
        "Loading required package: iterators\n"
       ]
      }
     ],
     "prompt_number": 3
    },
    {
     "cell_type": "markdown",
     "metadata": {},
     "source": [
      "###These files are from the [assign taxonomy notebook](./Assign_taxonomy.ipynb), [tree notebook](./Tree.ipynb), [merge mappers notebook](./Merge_mappers.ipynb) "
     ]
    },
    {
     "cell_type": "code",
     "collapsed": false,
     "input": [
      "%%R\n",
      "physeq = import_biom(\"/var/seq_data/priming_exp/data/otu_table_wtax.biom\", \"/var/seq_data/priming_exp/data/otusn.tree\")\n",
      "\n",
      "sample.data = read.table(\"/var/seq_data/priming_exp/data/sample_data_all.csv\",\n",
      "                         sep = \",\", header = TRUE, colClasses = c(\"Density\" = \"numeric\"),\n",
      "                         na.strings = c(\"nan\", \"\"))\n",
      "rownames(sample.data) = sample.data$Sample\n",
      "sample.data = sample_data(sample.data)\n",
      "\n",
      "sample_data(physeq) = sample.data\n",
      "\n",
      "physeq"
     ],
     "language": "python",
     "metadata": {},
     "outputs": [
      {
       "metadata": {},
       "output_type": "display_data",
       "text": [
        "phyloseq-class experiment-level object\n",
        "otu_table()   OTU Table:         [ 10361 taxa and 467 samples ]\n",
        "sample_data() Sample Data:       [ 467 samples by 12 sample variables ]\n",
        "tax_table()   Taxonomy Table:    [ 10361 taxa by 8 taxonomic ranks ]\n",
        "phy_tree()    Phylogenetic Tree: [ 10361 tips and 10360 internal nodes ]\n"
       ]
      }
     ],
     "prompt_number": 4
    },
    {
     "cell_type": "code",
     "collapsed": false,
     "input": [
      "%%R\n",
      "md = sample_data(physeq)\n",
      "physeq.rep = prune_samples(!is.na(md$rep), physeq)\n",
      "physeq.rep"
     ],
     "language": "python",
     "metadata": {},
     "outputs": [
      {
       "metadata": {},
       "output_type": "display_data",
       "text": [
        "phyloseq-class experiment-level object\n",
        "otu_table()   OTU Table:         [ 10361 taxa and 60 samples ]\n",
        "sample_data() Sample Data:       [ 60 samples by 12 sample variables ]\n",
        "tax_table()   Taxonomy Table:    [ 10361 taxa by 8 taxonomic ranks ]\n",
        "phy_tree()    Phylogenetic Tree: [ 10361 tips and 10360 internal nodes ]\n"
       ]
      }
     ],
     "prompt_number": 5
    },
    {
     "cell_type": "heading",
     "level": 3,
     "metadata": {},
     "source": [
      "Get log2foldchange for CC"
     ]
    },
    {
     "cell_type": "code",
     "collapsed": false,
     "input": [
      "%%R\n",
      "l2fc.threshold = 0.75\n",
      "density.min = 1.7125\n",
      "density.max = 1.755\n",
      "sparsity.threshold = 0.45\n",
      "                           \n",
      "get_Ps = function(physeq.obj, Rep) {\n",
      "    \n",
      "    physeq.md = sample_data(physeq.obj)\n",
      "    p = prune_samples((physeq.md$rep %in% c(Rep, \"control_rep\"))&\n",
      "                      (physeq.md$Density >= density.min)&\n",
      "                      (physeq.md$Density <= density.max), physeq.obj)\n",
      "    p.thresh = filter_taxa(p, function(x) sum(x > 0) > sparsity.threshold * length(x), TRUE)\n",
      "    dds = phyloseq_to_deseq2(p.thresh, ~Treatment)\n",
      "    dds = DESeq(dds, quiet = TRUE, fitType = \"local\")\n",
      "    theta = l2fc.threshold\n",
      "    r = results(dds, independentFiltering = FALSE)\n",
      "    r$OTU = rownames(r)\n",
      "    beta = r$log2FoldChange\n",
      "    betaSE = r$lfcSE\n",
      "    p = pnorm(beta, theta, betaSE, lower.tail = FALSE)\n",
      "    r$p = p\n",
      "    r$rep = Rep\n",
      "    d = data.frame(r[, c(\"OTU\",\"log2FoldChange\", \"p\", \"rep\")])\n",
      "    TT = data.frame(tax_table(p.thresh))\n",
      "    TT$OTU = rownames(TT)\n",
      "    d = left_join(d, TT)\n",
      "    d\n",
      "}"
     ],
     "language": "python",
     "metadata": {},
     "outputs": [],
     "prompt_number": 6
    },
    {
     "cell_type": "code",
     "collapsed": false,
     "input": [
      "%%R\n",
      "l2fc.df.rep = ldply(c(\"label_rep_06\",\"label_rep_07\"), get_Ps, physeq.obj = physeq.rep)"
     ],
     "language": "python",
     "metadata": {},
     "outputs": [
      {
       "metadata": {},
       "output_type": "display_data",
       "text": [
        "converting counts to integer mode\n",
        "Joining by: \"OTU\"\n",
        "converting counts to integer mode\n",
        "Joining by: \"OTU\"\n"
       ]
      }
     ],
     "prompt_number": 7
    },
    {
     "cell_type": "code",
     "collapsed": false,
     "input": [
      "%%R\n",
      "head(l2fc.df.rep)"
     ],
     "language": "python",
     "metadata": {},
     "outputs": [
      {
       "metadata": {},
       "output_type": "display_data",
       "text": [
        "       OTU log2FoldChange         p          rep    Rank1         Rank2 Rank3\n",
        "1 OTU.4204    -0.50050740 0.9999949 label_rep_06 Bacteria Acidobacteria DA023\n",
        "2  OTU.467    -0.01260815 0.9757167 label_rep_06 Bacteria Acidobacteria DA023\n",
        "3  OTU.905    -0.23943188 0.9236757 label_rep_06 Bacteria Acidobacteria DA023\n",
        "4 OTU.7253     0.53509768 0.6254603 label_rep_06 Bacteria Acidobacteria DA023\n",
        "5   OTU.67    -0.25478344 0.9998535 label_rep_06 Bacteria Acidobacteria DA023\n",
        "6 OTU.4907    -0.18195344 1.0000000 label_rep_06 Bacteria Acidobacteria DA023\n",
        "                 Rank4 Rank5 Rank6 Rank7 Rank8\n",
        "1                 <NA>  <NA>  <NA>  <NA>  <NA>\n",
        "2 uncultured_bacterium  <NA>  <NA>  <NA>  <NA>\n",
        "3 uncultured_bacterium  <NA>  <NA>  <NA>  <NA>\n",
        "4 uncultured_bacterium  <NA>  <NA>  <NA>  <NA>\n",
        "5 uncultured_bacterium  <NA>  <NA>  <NA>  <NA>\n",
        "6 uncultured_bacterium  <NA>  <NA>  <NA>  <NA>\n"
       ]
      }
     ],
     "prompt_number": 8
    },
    {
     "cell_type": "code",
     "collapsed": false,
     "input": [
      "%%R\n",
      "l2fc.df.rep.padj = l2fc.df.rep %>%\n",
      "    group_by(rep) %>%\n",
      "    mutate(padj = p.adjust(p, method = \"BH\"))"
     ],
     "language": "python",
     "metadata": {},
     "outputs": [],
     "prompt_number": 9
    },
    {
     "cell_type": "code",
     "collapsed": false,
     "input": [
      "%%R\n",
      "write.table(l2fc.df.rep.padj, \n",
      "            file = \"/var/seq_data/priming_exp/data/l2fc_table_13C100rep.csv\",\n",
      "            row.names = FALSE,\n",
      "            sep = \",\")"
     ],
     "language": "python",
     "metadata": {},
     "outputs": [],
     "prompt_number": 10
    },
    {
     "cell_type": "code",
     "collapsed": false,
     "input": [
      "%%R -w 400 -h 375\n",
      "d = l2fc.df.rep.padj %>% select(OTU, rep, 2^log2FoldChange) %>% spread(rep, log2FoldChange)\n",
      "\n",
      "p = ggplot(d, aes(x = label_rep_06, y = label_rep_07))\n",
      "\n",
      "p = p + geom_point(shape = 21)\n",
      "\n",
      "p = p + stat_smooth(method = \"lm\")\n",
      "\n",
      "p = p + labs(x = \"Replicate 1, l2fc\",\n",
      "             y = \"Replicate 2, l2fc\")\n",
      "\n",
      "p = p + theme_bw()\n",
      "\n",
      "p"
     ],
     "language": "python",
     "metadata": {},
     "outputs": [
      {
       "output_type": "stream",
       "stream": "stdout",
       "text": [
        "Error in eval(expr, envir, enclos) : index out of bounds\n"
       ]
      }
     ],
     "prompt_number": 11
    },
    {
     "cell_type": "code",
     "collapsed": false,
     "input": [
      "%%R \n",
      "ggsave(plot = p, filename = \"figs/Replicate_PE_scatter.pdf\", width = 12, height = 10)"
     ],
     "language": "python",
     "metadata": {},
     "outputs": [
      {
       "output_type": "stream",
       "stream": "stdout",
       "text": [
        "Error in inherits(plot, \"ggplot\") : object 'p' not found\n"
       ]
      }
     ],
     "prompt_number": 12
    },
    {
     "cell_type": "code",
     "collapsed": false,
     "input": [
      "FileLink(\"figs/Replicate_PE_scatter.pdf\")"
     ],
     "language": "python",
     "metadata": {},
     "outputs": [
      {
       "html": [
        "<a href='figs/Replicate_PE_scatter.pdf' target='_blank'>figs/Replicate_PE_scatter.pdf</a><br>"
       ],
       "metadata": {},
       "output_type": "pyout",
       "prompt_number": 13,
       "text": [
        "/home/ashley/priming_exp/figs/Replicate_PE_scatter.pdf"
       ]
      }
     ],
     "prompt_number": 13
    },
    {
     "cell_type": "code",
     "collapsed": false,
     "input": [
      "%%R\n",
      "fit = lm(label_rep_06 ~ label_rep_07, d)\n",
      "summary(fit)"
     ],
     "language": "python",
     "metadata": {},
     "outputs": [
      {
       "output_type": "stream",
       "stream": "stdout",
       "text": [
        "Error in is.data.frame(data) : object 'd' not found\n"
       ]
      }
     ],
     "prompt_number": 14
    },
    {
     "cell_type": "code",
     "collapsed": false,
     "input": [
      "%%R\n",
      "FDR = 0.10\n",
      "\n",
      "df.sum.sig = l2fc.df.rep.padj %>%\n",
      "    group_by(OTU) %>%\n",
      "    summarize(sum_sig = sum(padj < FDR, na.rm = TRUE))"
     ],
     "language": "python",
     "metadata": {},
     "outputs": [],
     "prompt_number": 15
    },
    {
     "cell_type": "code",
     "collapsed": false,
     "input": [
      "%%R -w 500 -h 375\n",
      "p = ggplot(left_join(d, df.sum.sig), aes(x = label_rep_06, y = label_rep_07, color = factor(sum_sig)))\n",
      "\n",
      "p = p + geom_point(shape = 21)\n",
      "\n",
      "p = p + labs(x = \"Replicate 1, l2fc\",\n",
      "             y = \"Replicate 2, l2fc\", \n",
      "             color = \"# of\\np-values < FDR\")\n",
      "\n",
      "p = p + theme_bw()\n",
      "\n",
      "p"
     ],
     "language": "python",
     "metadata": {},
     "outputs": [
      {
       "output_type": "stream",
       "stream": "stdout",
       "text": [
        "Error in left_join(d, df.sum.sig) : object 'd' not found\n"
       ]
      }
     ],
     "prompt_number": 16
    },
    {
     "cell_type": "code",
     "collapsed": false,
     "input": [
      "%%R \n",
      "ggsave(plot = p, filename = \"figs/Replicate_PE_scatter_color.pdf\", width = 12, height = 10)"
     ],
     "language": "python",
     "metadata": {},
     "outputs": [
      {
       "output_type": "stream",
       "stream": "stdout",
       "text": [
        "Error in inherits(plot, \"ggplot\") : object 'p' not found\n"
       ]
      }
     ],
     "prompt_number": 17
    },
    {
     "cell_type": "code",
     "collapsed": false,
     "input": [
      "FileLink(\"figs/Replicate_PE_scatter_color.pdf\")"
     ],
     "language": "python",
     "metadata": {},
     "outputs": [
      {
       "html": [
        "<a href='figs/Replicate_PE_scatter_color.pdf' target='_blank'>figs/Replicate_PE_scatter_color.pdf</a><br>"
       ],
       "metadata": {},
       "output_type": "pyout",
       "prompt_number": 18,
       "text": [
        "/home/ashley/priming_exp/figs/Replicate_PE_scatter_color.pdf"
       ]
      }
     ],
     "prompt_number": 18
    }
   ],
   "metadata": {}
  }
 ]
}