{
 "metadata": {
  "name": "",
  "signature": "sha256:dac25e72a0ea1e159774462bc572a9783457a56a375ecbe2f85cb3674fd8a125"
 },
 "nbformat": 3,
 "nbformat_minor": 0,
 "worksheets": [
  {
   "cells": [
    {
     "cell_type": "markdown",
     "metadata": {},
     "source": [
      "##Import various python functions and modules that we need."
     ]
    },
    {
     "cell_type": "code",
     "collapsed": false,
     "input": [
      "from pandas import DataFrame\n",
      "from IPython.display import FileLink"
     ],
     "language": "python",
     "metadata": {},
     "outputs": [],
     "prompt_number": 35
    },
    {
     "cell_type": "markdown",
     "metadata": {},
     "source": [
      "##Pylab namespace and inline plots. Import Rmagic."
     ]
    },
    {
     "cell_type": "code",
     "collapsed": false,
     "input": [
      "%matplotlib inline\n",
      "%load_ext rpy2.ipython"
     ],
     "language": "python",
     "metadata": {},
     "outputs": [
      {
       "output_type": "stream",
       "stream": "stdout",
       "text": [
        "The rpy2.ipython extension is already loaded. To reload it, use:\n",
        "  %reload_ext rpy2.ipython\n"
       ]
      }
     ],
     "prompt_number": 36
    },
    {
     "cell_type": "markdown",
     "metadata": {},
     "source": [
      "##Import R libraries we'll use."
     ]
    },
    {
     "cell_type": "code",
     "collapsed": false,
     "input": [
      "%%R\n",
      "library(phyloseq)\n",
      "library(ggplot2)\n",
      "library(foreach)\n",
      "library(doParallel)\n",
      "library(gridExtra)"
     ],
     "language": "python",
     "metadata": {},
     "outputs": [],
     "prompt_number": 37
    },
    {
     "cell_type": "markdown",
     "metadata": {},
     "source": [
      "##Import data into R. Prune to relevant samples (PS, non-bulk). Get rid of OTUs not observed in at least 25% of samples)"
     ]
    },
    {
     "cell_type": "markdown",
     "metadata": {},
     "source": [
      "###These files are from the [binning notebook](./OTU_binning.ipynb), [tree notebook](./Tree.ipynb), [merge mappers notebook](./Merge_mappers.ipynb) "
     ]
    },
    {
     "cell_type": "heading",
     "level": 4,
     "metadata": {},
     "source": [
      "I used excel to change 13C100 in the Treatment column to 13C100.1 (for 13C.100.28.06 samples) and 13C100.2 (for 13C.100.28.07 samples) for this analysis"
     ]
    },
    {
     "cell_type": "code",
     "collapsed": false,
     "input": [
      "%%R \n",
      "sampledata = read.csv(\"/home/ashley/allsample_metadata_nomock_13C100.csv\")\n",
      "sampledata$X = NULL\n",
      "write.table(sampledata, \"/var/seq_data/priming_exp/data/allsample_metadata_nomock_13C100.txt\", sep=\"\\t\")\n",
      "#print(sampledata)"
     ],
     "language": "python",
     "metadata": {},
     "outputs": [],
     "prompt_number": 43
    },
    {
     "cell_type": "code",
     "collapsed": false,
     "input": [
      "%%R\n",
      "physeq = import_biom(\"/var/seq_data/priming_exp/data/otu_table.biom\", \"/var/seq_data/priming_exp/data/otusn.tree\")\n",
      "#print(physeq)\n",
      "#sample.data = read.csv(file = \"/var/seq_data/priming_exp/data/allsample_metadata_nomock.csv\")\n",
      "sample.data = import_qiime_sample_data(\"/var/seq_data/priming_exp/data/allsample_metadata_nomock_13C100.txt\")\n",
      "#print(sample.data)\n",
      "physeq = merge_phyloseq(physeq,sample.data)\n",
      "#print(physeq)\n",
      "physeq.md = sample_data(physeq)\n",
      "physeq.PE = prune_samples((physeq.md$Bulk == 0)& (physeq.md$Treatment %in% c(\"12C100\",\"13C100\")&\n",
      "                                                 (physeq.md$Day == 28)), physeq)\n",
      "physeq.PE.snorm = transform_sample_counts(physeq.PE, function(x) x/sum(x))\n",
      "physeq.PE.thresh = filter_taxa(physeq.PE.snorm, function(x) sum(x > 0) > (0.25 * length(x)), TRUE)\n",
      "print(physeq.PE.thresh)\n"
     ],
     "language": "python",
     "metadata": {},
     "outputs": [
      {
       "metadata": {},
       "output_type": "display_data",
       "text": [
        "phyloseq-class experiment-level object\n",
        "otu_table()   OTU Table:         [ 2980 taxa and 60 samples ]\n",
        "sample_data() Sample Data:       [ 60 samples by 12 sample variables ]\n",
        "phy_tree()    Phylogenetic Tree: [ 2980 tips and 2979 internal nodes ]\n"
       ]
      }
     ],
     "prompt_number": 44
    },
    {
     "cell_type": "code",
     "collapsed": false,
     "input": [
      "#%%R\n",
      "#physeq.md$Sample <- replace(physeq.md$Sample, physeq.md$Sample==\"13C.100.28.07.*\", \"13C100.2\")\n",
      "#print(physeq.md)"
     ],
     "language": "python",
     "metadata": {},
     "outputs": [],
     "prompt_number": 45
    },
    {
     "cell_type": "markdown",
     "metadata": {},
     "source": [
      "###Calculate pairwise weighted unifrac distances between samples."
     ]
    },
    {
     "cell_type": "code",
     "collapsed": false,
     "input": [
      "%%R\n",
      "registerDoParallel(cores=20)\n",
      "wunif.dist = distance(physeq.PE.thresh, \n",
      "                      method = \"unifrac\", \n",
      "                      weighted = TRUE,\n",
      "                      fast = TRUE, \n",
      "                      parallel = TRUE, \n",
      "                      normalized = FALSE)"
     ],
     "language": "python",
     "metadata": {},
     "outputs": [],
     "prompt_number": 46
    },
    {
     "cell_type": "markdown",
     "metadata": {},
     "source": [
      "###Ordinate using weighted unifrac distnaces with NMDS."
     ]
    },
    {
     "cell_type": "code",
     "collapsed": false,
     "input": [
      "%%R\n",
      "nmds = ordinate(physeq.PE.thresh, \n",
      "                method = \"NMDS\", \n",
      "                distance = wunif.dist)"
     ],
     "language": "python",
     "metadata": {},
     "outputs": [
      {
       "metadata": {},
       "output_type": "display_data",
       "text": [
        "Run 0 stress 0.07092457 \n",
        "Run 1 stress 0.07116619 \n",
        "... procrustes: rmse 0.009142097  max resid 0.05264672 \n",
        "Run 2 stress 0.07101726 \n",
        "... procrustes: rmse 0.00366373  max resid 0.02322015 \n",
        "Run 3 stress 0.07101775 \n",
        "... procrustes: rmse 0.003663408  max resid 0.02344896 \n",
        "Run 4 stress 0.07092388 \n",
        "... New best solution\n",
        "... procrustes: rmse 0.0009805586  max resid 0.005660237 \n",
        "*** Solution reached\n",
        "\n"
       ]
      }
     ],
     "prompt_number": 47
    },
    {
     "cell_type": "code",
     "collapsed": false,
     "input": [
      "%%R -w 16 -h 6 -u in\n",
      "\n",
      "colours = c(\"#ff7f00\", \"#377eb8\", \"#4daf4a\", \"#00f5ff\", \"#ff4040\", \"#68228b\")\n",
      "\n",
      "df = plot_ordination(physeq.PE.thresh, nmds, justDF = TRUE)\n",
      "df$Density = as.numeric(as.character(df$Density))\n",
      "\n",
      "p1 = ggplot(df, aes(x = NMDS1, y = NMDS2)) \n",
      "p1 = p1 + geom_point(aes(fill = Rep, size = Density, alpha = 0.85), shape=21) \n",
      "p1 = p1 + scale_fill_manual(values = colours)\n",
      "p1 = p1 + guides(alpha = FALSE)\n",
      "p1 = p1 + scale_size_area(aesthetics = \"Density\")\n",
      "p1 = p1 + ggtitle(\"A\")\n",
      "p1 = p1 + guides(fill = guide_legend(override.aes = list(size = 4)))\n",
      "p1 = p1 + guides(size = guide_legend(override.aes = list(fill = \"black\")))\n",
      "p1 = p1 + theme_bw()\n",
      "p1 = p1 + theme(plot.margin = unit(c(1,0,1,0), \"lines\"))\n",
      "p1 = p1 + theme(plot.title = element_text(hjust = -0.1, size = 20))\n",
      "\n",
      "p2 = ggplot(df, aes(x = NMDS1, y = NMDS2))\n",
      "p2 = p2 + geom_point(aes(fill = factor(Day), size = Density, alpha = 0.85), shape=21)\n",
      "p2 = p2 + scale_fill_brewer(palette=\"Dark2\")\n",
      "p2 = p2 + guides(alpha = FALSE, size = FALSE)\n",
      "p2 = p2 + scale_size_area(aesthetics = \"Density\")\n",
      "p2 = p2 + ggtitle(\"B\")\n",
      "p2 = p2 + guides(fill = guide_legend(title = \"Day\", override.aes = list(size = 4)))\n",
      "p2 = p2 + theme_bw()\n",
      "p2 = p2 + theme(plot.margin = unit(c(1,0,1,0), \"lines\"))\n",
      "p2 = p2 + theme(plot.title = element_text(hjust = -0.1, size = 20))\n",
      "\n",
      "\n",
      "gp1 = ggplot_gtable(ggplot_build(p1))\n",
      "gp2 = ggplot_gtable(ggplot_build(p2))\n",
      "maxWidth = unit.pmax(gp1$widths[2:5], gp2$widths[2:5])\n",
      "\n",
      "gp1$widths[2:5] <- maxWidth\n",
      "gp2$widths[2:5] <- maxWidth\n",
      "\n",
      "p.combined = grid.arrange(gp1, gp2, ncol = 2)\n",
      "p.combined"
     ],
     "language": "python",
     "metadata": {},
     "outputs": [
      {
       "metadata": {},
       "output_type": "display_data",
       "text": [
        "NULL\n"
       ]
      },
      {
       "metadata": {},
       "output_type": "display_data",
       "png": "[encoded data removed]"
      },
      {
       "metadata": {},
       "output_type": "display_data",
       "png": "[encoded data removed]"
      }
     ],
     "prompt_number": 48
    },
    {
     "cell_type": "code",
     "collapsed": false,
     "input": [
      "%%R -w 1000 -h 350\n",
      "pdf(\"figs/ordination_100_D28.pdf\", width = 12, height = 5)\n",
      "grid.arrange(p1, p2, ncol=2)\n",
      "dev.off()"
     ],
     "language": "python",
     "metadata": {},
     "outputs": [
      {
       "metadata": {},
       "output_type": "display_data",
       "text": [
        "png \n",
        "  2 \n"
       ]
      }
     ],
     "prompt_number": 49
    },
    {
     "cell_type": "code",
     "collapsed": false,
     "input": [
      "FileLink(\"figs/ordination_100_D28.pdf\")"
     ],
     "language": "python",
     "metadata": {},
     "outputs": [
      {
       "html": [
        "<a href='figs/ordination_100_D28.pdf' target='_blank'>figs/ordination_100_D28.pdf</a><br>"
       ],
       "metadata": {},
       "output_type": "pyout",
       "prompt_number": 50,
       "text": [
        "/home/ashley/priming_exp/figs/ordination_100_D28.pdf"
       ]
      }
     ],
     "prompt_number": 50
    },
    {
     "cell_type": "code",
     "collapsed": false,
     "input": [
      "%%R\n",
      "physeq = import_biom(\"/var/seq_data/priming_exp/data/otu_table.biom\", \"/var/seq_data/priming_exp/data/otusn.tree\")\n",
      "#print(physeq)\n",
      "#sample.data = read.csv(file = \"/var/seq_data/priming_exp/data/allsample_metadata_nomock.csv\")\n",
      "sample.data = import_qiime_sample_data(\"/var/seq_data/priming_exp/data/allsample_metadata_nomock_13C100.txt\")\n",
      "#print(sample.data)\n",
      "physeq = merge_phyloseq(physeq,sample.data)\n",
      "#print(physeq)\n",
      "physeq.md = sample_data(physeq)\n",
      "physeq.PE = prune_samples((physeq.md$Bulk == 0)& (physeq.md$Treatment %in% c(\"13C100\")&\n",
      "                                                 (physeq.md$Day == 28)), physeq)\n",
      "physeq.PE.snorm = transform_sample_counts(physeq.PE, function(x) x/sum(x))\n",
      "physeq.PE.thresh = filter_taxa(physeq.PE.snorm, function(x) sum(x > 0) > (0.25 * length(x)), TRUE)\n",
      "print(physeq.PE.thresh)"
     ],
     "language": "python",
     "metadata": {},
     "outputs": [
      {
       "metadata": {},
       "output_type": "display_data",
       "text": [
        "phyloseq-class experiment-level object\n",
        "otu_table()   OTU Table:         [ 2533 taxa and 40 samples ]\n",
        "sample_data() Sample Data:       [ 40 samples by 12 sample variables ]\n",
        "phy_tree()    Phylogenetic Tree: [ 2533 tips and 2532 internal nodes ]\n"
       ]
      }
     ],
     "prompt_number": 51
    },
    {
     "cell_type": "code",
     "collapsed": false,
     "input": [
      "%%R\n",
      "registerDoParallel(cores=20)\n",
      "wunif.dist = distance(physeq.PE.thresh, \n",
      "                      method = \"unifrac\", \n",
      "                      weighted = TRUE,\n",
      "                      fast = TRUE, \n",
      "                      parallel = TRUE, \n",
      "                      normalized = FALSE)"
     ],
     "language": "python",
     "metadata": {},
     "outputs": [],
     "prompt_number": 52
    },
    {
     "cell_type": "code",
     "collapsed": false,
     "input": [
      "%%R\n",
      "nmds = ordinate(physeq.PE.thresh, \n",
      "                method = \"NMDS\", \n",
      "                distance = wunif.dist)"
     ],
     "language": "python",
     "metadata": {},
     "outputs": [
      {
       "metadata": {},
       "output_type": "display_data",
       "text": [
        "Run 0 stress 0.04989688 \n",
        "Run 1 stress 0.04989709 \n",
        "... procrustes: rmse 0.0001828763  max resid 0.0005659376 \n",
        "*** Solution reached\n",
        "\n"
       ]
      }
     ],
     "prompt_number": 53
    },
    {
     "cell_type": "code",
     "collapsed": false,
     "input": [
      "%%R -w 16 -h 6 -u in\n",
      "\n",
      "colours = c(\"#ff7f00\", \"#377eb8\", \"#4daf4a\", \"#00f5ff\", \"#ff4040\", \"#68228b\")\n",
      "\n",
      "df = plot_ordination(physeq.PE.thresh, nmds, justDF = TRUE)\n",
      "df$Density = as.numeric(as.character(df$Density))\n",
      "\n",
      "p1 = ggplot(df, aes(x = NMDS1, y = NMDS2)) \n",
      "p1 = p1 + geom_point(aes(fill = Rep, size = Density, alpha = 0.85), shape=21) \n",
      "p1 = p1 + scale_fill_manual(values = colours)\n",
      "p1 = p1 + guides(alpha = FALSE)\n",
      "p1 = p1 + scale_size_area(aesthetics = \"Density\")\n",
      "p1 = p1 + ggtitle(\"A\")\n",
      "p1 = p1 + guides(fill = guide_legend(override.aes = list(size = 4)))\n",
      "p1 = p1 + guides(size = guide_legend(override.aes = list(fill = \"black\")))\n",
      "p1 = p1 + theme_bw()\n",
      "p1 = p1 + theme(plot.margin = unit(c(1,0,1,0), \"lines\"))\n",
      "p1 = p1 + theme(plot.title = element_text(hjust = -0.1, size = 20))\n",
      "\n",
      "p2 = ggplot(df, aes(x = NMDS1, y = NMDS2))\n",
      "p2 = p2 + geom_point(aes(fill = factor(Day), size = Density, alpha = 0.85), shape=21)\n",
      "p2 = p2 + scale_fill_brewer(palette=\"Dark2\")\n",
      "p2 = p2 + guides(alpha = FALSE, size = FALSE)\n",
      "p2 = p2 + scale_size_area(aesthetics = \"Density\")\n",
      "p2 = p2 + ggtitle(\"B\")\n",
      "p2 = p2 + guides(fill = guide_legend(title = \"Day\", override.aes = list(size = 4)))\n",
      "p2 = p2 + theme_bw()\n",
      "p2 = p2 + theme(plot.margin = unit(c(1,0,1,0), \"lines\"))\n",
      "p2 = p2 + theme(plot.title = element_text(hjust = -0.1, size = 20))\n",
      "\n",
      "\n",
      "gp1 = ggplot_gtable(ggplot_build(p1))\n",
      "gp2 = ggplot_gtable(ggplot_build(p2))\n",
      "maxWidth = unit.pmax(gp1$widths[2:5], gp2$widths[2:5])\n",
      "\n",
      "gp1$widths[2:5] <- maxWidth\n",
      "gp2$widths[2:5] <- maxWidth\n",
      "\n",
      "p.combined = grid.arrange(gp1, gp2, ncol = 2)\n",
      "p.combined"
     ],
     "language": "python",
     "metadata": {},
     "outputs": [
      {
       "metadata": {},
       "output_type": "display_data",
       "text": [
        "NULL\n"
       ]
      },
      {
       "metadata": {},
       "output_type": "display_data",
       "png": "[encoded data removed]"
      },
      {
       "metadata": {},
       "output_type": "display_data",
       "png": "[encoded data removed]"
      }
     ],
     "prompt_number": 54
    },
    {
     "cell_type": "code",
     "collapsed": false,
     "input": [
      "%%R -w 1000 -h 350\n",
      "pdf(\"figs/ordination_100_D28_no12C.pdf\", width = 12, height = 5)\n",
      "grid.arrange(p1, p2, ncol=2)\n",
      "dev.off()"
     ],
     "language": "python",
     "metadata": {},
     "outputs": [
      {
       "metadata": {},
       "output_type": "display_data",
       "text": [
        "png \n",
        "  2 \n"
       ]
      }
     ],
     "prompt_number": 55
    },
    {
     "cell_type": "code",
     "collapsed": false,
     "input": [
      "FileLink(\"figs/ordination_100_D28_no12C.pdf\")"
     ],
     "language": "python",
     "metadata": {},
     "outputs": [
      {
       "html": [
        "<a href='figs/ordination_100_D28_no12C.pdf' target='_blank'>figs/ordination_100_D28_no12C.pdf</a><br>"
       ],
       "metadata": {},
       "output_type": "pyout",
       "prompt_number": 56,
       "text": [
        "/home/ashley/priming_exp/figs/ordination_100_D28_no12C.pdf"
       ]
      }
     ],
     "prompt_number": 56
    }
   ],
   "metadata": {}
  }
 ]
}