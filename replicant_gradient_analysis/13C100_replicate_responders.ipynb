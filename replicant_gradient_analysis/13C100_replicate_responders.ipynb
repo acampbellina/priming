{
 "metadata": {
  "name": "",
  "signature": "sha256:a3b1050b32406bb697de751b5d96ba3be2996604463e53bb46bcb7b04b19b254"
 },
 "nbformat": 3,
 "nbformat_minor": 0,
 "worksheets": [
  {
   "cells": [
    {
     "cell_type": "code",
     "collapsed": false,
     "input": [
      "import pandas as pd\n",
      "import pandas.rpy.common as com\n",
      "import numpy as np\n",
      "import matplotlib\n",
      "import matplotlib.pyplot as plt\n",
      "import matplotlib.gridspec as gridspec\n",
      "import brewer2mpl\n",
      "from mpltools import style\n",
      "from IPython.display import FileLink\n",
      "style.use(\"ggplot\")\n",
      "%matplotlib inline"
     ],
     "language": "python",
     "metadata": {},
     "outputs": [],
     "prompt_number": 16
    },
    {
     "cell_type": "code",
     "collapsed": false,
     "input": [
      "%load_ext rpy2.ipython"
     ],
     "language": "python",
     "metadata": {},
     "outputs": [
      {
       "output_type": "stream",
       "stream": "stdout",
       "text": [
        "The rpy2.ipython extension is already loaded. To reload it, use:\n",
        "  %reload_ext rpy2.ipython\n"
       ]
      }
     ],
     "prompt_number": 17
    },
    {
     "cell_type": "code",
     "collapsed": false,
     "input": [
      "%%R\n",
      "library(DESeq2)\n",
      "library(phyloseq)\n",
      "library(plyr); library(dplyr)\n",
      "library(ggplot2)\n",
      "library(doParallel)\n",
      "library(foreach)\n",
      "library(reshape)\n",
      "library(RColorBrewer)\n",
      "library(gridExtra)\n",
      "library(stats)\n",
      "library(data.table)\n",
      "library(compare, lib.loc=\"/home/ashley/R/x86_64-pc-linux-gnu-library/3.1/\")\n",
      "library(lawstat, lib.loc=\"/home/ashley/R/x86_64-pc-linux-gnu-library/3.1/\")"
     ],
     "language": "python",
     "metadata": {},
     "outputs": [],
     "prompt_number": 18
    },
    {
     "cell_type": "markdown",
     "metadata": {},
     "source": [
      "###This is the file from the 13C100rep [Sparsity Notebook](./l2fc_table13C100_scatter.ipynb)."
     ]
    },
    {
     "cell_type": "code",
     "collapsed": false,
     "input": [
      "df_all = pd.read_csv(\"/var/seq_data/priming_exp/data/l2fc_table_13C100rep.csv\")"
     ],
     "language": "python",
     "metadata": {},
     "outputs": [],
     "prompt_number": 19
    },
    {
     "cell_type": "code",
     "collapsed": false,
     "input": [
      "FDR = 0.10\n",
      "df_resp = df_all[df_all[\"padj\"]<=FDR]\n",
      "df_resp.to_csv (\"data/df_resp_PEreps.csv\")"
     ],
     "language": "python",
     "metadata": {},
     "outputs": [],
     "prompt_number": 20
    },
    {
     "cell_type": "code",
     "collapsed": false,
     "input": [
      "%%R\n",
      "df_all = read.csv(\"/var/seq_data/priming_exp/data/l2fc_table_13C100rep.csv\")\n",
      "\n",
      "nrow (df_all)"
     ],
     "language": "python",
     "metadata": {},
     "outputs": [
      {
       "metadata": {},
       "output_type": "display_data",
       "text": [
        "[1] 4231\n"
       ]
      }
     ],
     "prompt_number": 21
    },
    {
     "cell_type": "heading",
     "level": 3,
     "metadata": {},
     "source": [
      "Rep 1"
     ]
    },
    {
     "cell_type": "code",
     "collapsed": false,
     "input": [
      "%%R\n",
      "FDR = 0.10\n",
      "df_rep1_resp = subset(df_all, (rep==\"label_rep_06\")&(padj <= FDR))\n",
      "nrow (df_rep1_resp)"
     ],
     "language": "python",
     "metadata": {},
     "outputs": [
      {
       "metadata": {},
       "output_type": "display_data",
       "text": [
        "[1] 168\n"
       ]
      }
     ],
     "prompt_number": 22
    },
    {
     "cell_type": "code",
     "collapsed": false,
     "input": [
      "%%R\n",
      "df_rep1_resp_unique = subset(df_rep1_resp, !duplicated(OTU))\n",
      "nrow(df_rep1_resp_unique)"
     ],
     "language": "python",
     "metadata": {},
     "outputs": [
      {
       "metadata": {},
       "output_type": "display_data",
       "text": [
        "[1] 168\n"
       ]
      }
     ],
     "prompt_number": 23
    },
    {
     "cell_type": "code",
     "collapsed": false,
     "input": [
      "%%R\n",
      "df_rep1_resp_counts = ddply(df_rep1_resp, .(Rank2), summarize, NumSubs = length(unique(OTU)))\n",
      "print (df_rep1_resp_counts)"
     ],
     "language": "python",
     "metadata": {},
     "outputs": [
      {
       "metadata": {},
       "output_type": "display_data",
       "text": [
        "             Rank2 NumSubs\n",
        "1    Acidobacteria       4\n",
        "2   Actinobacteria       1\n",
        "3  Armatimonadetes       4\n",
        "4    Bacteroidetes      30\n",
        "5         Chlorobi       1\n",
        "6      Chloroflexi       8\n",
        "7       Firmicutes       1\n",
        "8   Planctomycetes      32\n",
        "9   Proteobacteria      72\n",
        "10 Verrucomicrobia      15\n"
       ]
      }
     ],
     "prompt_number": 24
    },
    {
     "cell_type": "heading",
     "level": 3,
     "metadata": {},
     "source": [
      "Rep2"
     ]
    },
    {
     "cell_type": "code",
     "collapsed": false,
     "input": [
      "%%R\n",
      "FDR = 0.10\n",
      "df_rep2_resp = subset(df_all, (rep==\"label_rep_07\")&(padj <= FDR))\n",
      "nrow (df_rep2_resp)"
     ],
     "language": "python",
     "metadata": {},
     "outputs": [
      {
       "metadata": {},
       "output_type": "display_data",
       "text": [
        "[1] 192\n"
       ]
      }
     ],
     "prompt_number": 25
    },
    {
     "cell_type": "code",
     "collapsed": false,
     "input": [
      "%%R\n",
      "df_rep2_resp_unique = subset(df_rep2_resp, !duplicated(OTU))\n",
      "nrow(df_rep2_resp_unique)"
     ],
     "language": "python",
     "metadata": {},
     "outputs": [
      {
       "metadata": {},
       "output_type": "display_data",
       "text": [
        "[1] 192\n"
       ]
      }
     ],
     "prompt_number": 26
    },
    {
     "cell_type": "code",
     "collapsed": false,
     "input": [
      "%%R\n",
      "df_rep2_resp_counts = ddply(df_rep2_resp, .(Rank2), summarize, NumSubs = length(unique(OTU)))\n",
      "print (df_rep2_resp_counts)"
     ],
     "language": "python",
     "metadata": {},
     "outputs": [
      {
       "metadata": {},
       "output_type": "display_data",
       "text": [
        "             Rank2 NumSubs\n",
        "1    Acidobacteria       7\n",
        "2   Actinobacteria       1\n",
        "3  Armatimonadetes       3\n",
        "4    Bacteroidetes      31\n",
        "5         Chlorobi       1\n",
        "6      Chloroflexi      10\n",
        "7    Fibrobacteres       1\n",
        "8       Firmicutes       1\n",
        "9   Planctomycetes      41\n",
        "10  Proteobacteria      81\n",
        "11    Spirochaetes       1\n",
        "12 Verrucomicrobia      13\n",
        "13            <NA>       1\n"
       ]
      }
     ],
     "prompt_number": 27
    },
    {
     "cell_type": "code",
     "collapsed": false,
     "input": [],
     "language": "python",
     "metadata": {},
     "outputs": []
    }
   ],
   "metadata": {}
  }
 ]
}