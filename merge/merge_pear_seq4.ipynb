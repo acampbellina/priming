{
 "metadata": {
  "name": "",
  "signature": "sha256:4dcf3e988aef5f001d00c807fb3f801ce85a1b29f7606c02d2123207b6cde331"
 },
 "nbformat": 3,
 "nbformat_minor": 0,
 "worksheets": [
  {
   "cells": [
    {
     "cell_type": "code",
     "collapsed": false,
     "input": [
      "import screed\n",
      "import matplotlib.pyplot as plt\n",
      "from mpltools import style\n",
      "import numpy as np\n",
      "%matplotlib inline"
     ],
     "language": "python",
     "metadata": {},
     "outputs": [],
     "prompt_number": 1
    },
    {
     "cell_type": "code",
     "collapsed": false,
     "input": [
      "%%bash\n",
      "pigz -k -d -p 20 /var/seq_data/priming_exp/RawData/Seq4/seq4_read?.fastq.gz"
     ],
     "language": "python",
     "metadata": {},
     "outputs": [
      {
       "output_type": "stream",
       "stream": "stderr",
       "text": [
        "pigz abort: write error on /var/seq_data/priming_exp/RawData/Seq4/seq4_read1.fastq\n"
       ]
      }
     ]
    },
    {
     "cell_type": "code",
     "collapsed": false,
     "input": [
      "%%bash\n",
      "pear -m 600 -j 20 \\\n",
      "-f /var/seq_data/priming_exp/RawData/Seq4/seq4_read2.fastq \\\n",
      "-r /var/seq_data/priming_exp/RawData/Seq4/seq4_read1.fastq \\\n",
      "-o /var/seq_data/priming_exp/data/seq4_pear_merged-$(date +%F)"
     ],
     "language": "python",
     "metadata": {},
     "outputs": []
    },
    {
     "cell_type": "code",
     "collapsed": false,
     "input": [
      "fn = \"/var/seq_data/priming_exp/data/seq4_pear_merged-2014-07-28.assembled.fastq\""
     ],
     "language": "python",
     "metadata": {},
     "outputs": []
    },
    {
     "cell_type": "code",
     "collapsed": false,
     "input": [
      "lengths = []\n",
      "for read in screed.open(fn):\n",
      "    lengths.append((len(read[\"sequence\"])))"
     ],
     "language": "python",
     "metadata": {},
     "outputs": []
    },
    {
     "cell_type": "code",
     "collapsed": false,
     "input": [
      "style.use(\"ggplot\")\n",
      "fig = plt.figure()\n",
      "ax = fig.add_subplot(111)\n",
      "h = ax.hist(np.array(lengths), bins=50)\n",
      "xl = ax.set_xlabel(\"Sequence Length, nt\")\n",
      "yl = ax.set_ylabel(\"Count\")\n",
      "fig.set_size_inches((10,6))"
     ],
     "language": "python",
     "metadata": {},
     "outputs": []
    }
   ],
   "metadata": {}
  }
 ]
}