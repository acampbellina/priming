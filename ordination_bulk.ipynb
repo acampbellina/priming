{
 "cells": [
  {
   "cell_type": "markdown",
   "metadata": {},
   "source": [
    "##Import various python functions and modules that we need."
   ]
  },
  {
   "cell_type": "code",
   "execution_count": 1,
   "metadata": {
    "collapsed": false
   },
   "outputs": [],
   "source": [
    "from pandas import DataFrame\n",
    "from IPython.display import FileLink"
   ]
  },
  {
   "cell_type": "markdown",
   "metadata": {},
   "source": [
    "##Pylab namespace and inline plots. Import Rmagic."
   ]
  },
  {
   "cell_type": "code",
   "execution_count": 2,
   "metadata": {
    "collapsed": false
   },
   "outputs": [],
   "source": [
    "%matplotlib inline\n",
    "%load_ext rpy2.ipython"
   ]
  },
  {
   "cell_type": "markdown",
   "metadata": {},
   "source": [
    "##Import R libraries we'll use."
   ]
  },
  {
   "cell_type": "code",
   "execution_count": 3,
   "metadata": {
    "collapsed": false
   },
   "outputs": [
    {
     "data": {
      "text/plain": [
       "foreach: simple, scalable parallel programming from Revolution Analytics\n",
       "Use Revolution R for scalability, fault tolerance and more.\n",
       "http://www.revolutionanalytics.com\n",
       "Loading required package: iterators\n",
       "Loading required package: parallel\n",
       "Loading required package: grid\n"
      ]
     },
     "metadata": {},
     "output_type": "display_data"
    }
   ],
   "source": [
    "%%R\n",
    "library(phyloseq)\n",
    "library(ggplot2)\n",
    "library(foreach)\n",
    "library(doParallel)\n",
    "library(gridExtra)"
   ]
  },
  {
   "cell_type": "markdown",
   "metadata": {},
   "source": [
    "##Import data into R. Prune to relevant samples (PS, non-bulk). Get rid of OTUs not observed in at least 25% of samples)"
   ]
  },
  {
   "cell_type": "markdown",
   "metadata": {},
   "source": [
    "###These files are from the [binning notebook](./demultiplex_QC/OTU_binning.ipynb), [tree notebook](./Tree.ipynb), [merge mappers notebook](./demultiplex_QC/Merge_mappers.ipynb) "
   ]
  },
  {
   "cell_type": "code",
   "execution_count": 4,
   "metadata": {
    "collapsed": false
   },
   "outputs": [],
   "source": [
    "%%R \n",
    "sampledata = read.csv(\"data/allsample_metadata_nomock_amendment2.csv\")\n",
    "sampledata$X = NULL\n",
    "write.table(sampledata, \"data/allsample_metadata_nomock_amendment2.txt\", sep=\"\\t\")"
   ]
  },
  {
   "cell_type": "code",
   "execution_count": 5,
   "metadata": {
    "collapsed": false
   },
   "outputs": [
    {
     "data": {
      "text/plain": [
       "phyloseq-class experiment-level object\n",
       "otu_table()   OTU Table:         [ 3053 taxa and 70 samples ]\n",
       "sample_data() Sample Data:       [ 70 samples by 14 sample variables ]\n",
       "phy_tree()    Phylogenetic Tree: [ 3053 tips and 3052 internal nodes ]\n"
      ]
     },
     "metadata": {},
     "output_type": "display_data"
    }
   ],
   "source": [
    "%%R\n",
    "physeq = import_biom(\"/var/seq_data/priming_exp/data/otu_table.biom\", \"/var/seq_data/priming_exp/data/otusn.tree\")\n",
    "sample.data = import_qiime_sample_data(\"data/allsample_metadata_nomock_amendment2.txt\")\n",
    "physeq = merge_phyloseq(physeq,sample.data)\n",
    "physeq.md = sample_data(physeq)\n",
    "physeq.PE = prune_samples((physeq.md$Bulk == 1), physeq)\n",
    "physeq.PE.snorm = transform_sample_counts(physeq.PE, function(x) x/sum(x))\n",
    "physeq.PE.thresh = filter_taxa(physeq.PE.snorm, function(x) sum(x > 0) > (0.25 * length(x)), TRUE)\n",
    "print(physeq.PE.thresh)\n"
   ]
  },
  {
   "cell_type": "code",
   "execution_count": 6,
   "metadata": {
    "collapsed": false
   },
   "outputs": [
    {
     "data": {
      "text/plain": [
       " [1] \"Sample\"      \"FractionNum\" \"Bulk\"        \"Control\"     \"CC\"         \n",
       " [6] \"X100\"        \"X700\"        \"H2O\"         \"Day\"         \"Density\"    \n",
       "[11] \"rep\"         \"Treatment\"   \"amendment\"   \"amendment.1\"\n"
      ]
     },
     "metadata": {},
     "output_type": "display_data"
    }
   ],
   "source": [
    "%%R\n",
    "print(colnames(physeq.md))"
   ]
  },
  {
   "cell_type": "markdown",
   "metadata": {},
   "source": [
    "###Calculate pairwise weighted unifrac distances between samples."
   ]
  },
  {
   "cell_type": "code",
   "execution_count": 7,
   "metadata": {
    "collapsed": false
   },
   "outputs": [],
   "source": [
    "%%R\n",
    "registerDoParallel(cores=20)\n",
    "wunif.dist = distance(physeq.PE.thresh, \n",
    "                      method = \"unifrac\", \n",
    "                      weighted = TRUE,\n",
    "                      fast = TRUE, \n",
    "                      parallel = TRUE, \n",
    "                      normalized = FALSE)"
   ]
  },
  {
   "cell_type": "markdown",
   "metadata": {},
   "source": [
    "###Ordinate using weighted unifrac distances with NMDS."
   ]
  },
  {
   "cell_type": "code",
   "execution_count": 8,
   "metadata": {
    "collapsed": false
   },
   "outputs": [
    {
     "data": {
      "text/plain": [
       "Run 0 stress 0.1366314 \n",
       "Run 1 stress 0.1452611 \n",
       "Run 2 stress 0.1366327 \n",
       "... procrustes: rmse 0.00055325  max resid 0.004132028 \n",
       "*** Solution reached\n"
      ]
     },
     "metadata": {},
     "output_type": "display_data"
    }
   ],
   "source": [
    "%%R\n",
    "nmds = ordinate(physeq.PE.thresh, \n",
    "                method = \"NMDS\", \n",
    "                distance = wunif.dist)"
   ]
  },
  {
   "cell_type": "code",
   "execution_count": 9,
   "metadata": {
    "collapsed": false
   },
   "outputs": [
    {
     "data": {
      "text/plain": [
       "                        NMDS1        NMDS2           Sample FractionNum Bulk\n",
       "00C.000.14.09.NA -0.007991285 -0.030021439 00C.000.14.09.NA          NA    1\n",
       "13C.100.14.08.NA  0.026990960 -0.045856955 13C.100.14.08.NA          NA    1\n",
       "12C.700.28.04.NA  0.019590473  0.007565100 12C.700.28.04.NA          NA    1\n",
       "13C.000.45.04.NA  0.001683421  0.016996523 13C.000.45.04.NA          NA    1\n",
       "13C.700.28.06.NA -0.123277211  0.028424351 13C.700.28.06.NA          NA    1\n",
       "12C.000.14.05.NA  0.025719469 -0.009929916 12C.000.14.05.NA          NA    1\n",
       "                 Control CC X100 X700 H2O Day Density rep Treatment amendment\n",
       "00C.000.14.09.NA       1  0    0    0   1  14      NA       control     Water\n",
       "13C.100.14.08.NA       0  0    1    0   0  14      NA         label    13C100\n",
       "12C.700.28.04.NA       1  0    0    1   0  28      NA       control    12C700\n",
       "13C.000.45.04.NA       0  1    0    0   0  45      NA         label      13CC\n",
       "13C.700.28.06.NA       0  0    0    1   0  28      NA         label    13C700\n",
       "12C.000.14.05.NA       1  1    0    0   0  14      NA       control      12CC\n",
       "                 amendment.1\n",
       "00C.000.14.09.NA       Water\n",
       "13C.100.14.08.NA        C100\n",
       "12C.700.28.04.NA        C700\n",
       "13C.000.45.04.NA          CC\n",
       "13C.700.28.06.NA        C700\n",
       "12C.000.14.05.NA          CC\n"
      ]
     },
     "metadata": {},
     "output_type": "display_data"
    }
   ],
   "source": [
    "%%R\n",
    "df = plot_ordination(physeq.PE.thresh, nmds, justDF = TRUE)\n",
    "df$Density = as.numeric(as.character(df$Density))\n",
    "head(df)"
   ]
  },
  {
   "cell_type": "code",
   "execution_count": 48,
   "metadata": {
    "collapsed": false
   },
   "outputs": [
    {
     "data": {
      "image/png": "[encoded data removed]"
     },
     "metadata": {},
     "output_type": "display_data"
    }
   ],
   "source": [
    "%%R -w 500 -h 400 \n",
    "\n",
    "#colours = c(\"#ff7f00\", \"#377eb8\", \"#4daf4a\", \"#00f5ff\", \"#ff4040\", \"#68228b\")\n",
    "colours = c(\"#660066\", \"#CCCC00\", \"#666666\", \"#009999\", \"#CC0033\", \"#99CC00\", \"black\")\n",
    "\n",
    "\n",
    "df$amendment.1 = as.character(df$amendment.1)\n",
    "#df$Day = as.character(df$Day)\n",
    "\n",
    "p1 = ggplot(df, aes(x = NMDS1, y = NMDS2)) \n",
    "p1 = p1 + geom_point(aes(shape = amendment.1, size = Treatment, color = Day)) \n",
    "\n",
    "  #scale_colour_manual(name='', values=c('Important line'='grey', 'Point values'='red'))\n",
    "p1 = p1 + scale_size_manual(values = c(3, 5), \n",
    "                           name = \"Isotope\",\n",
    "                           breaks=c(\"control\", \"label\"),\n",
    "                            labels = c(\"Control (12C)\", \"Labeled (13C)\"))\n",
    "p1 = p1 + scale_shape_manual(values = c(15, 16, 17, 18, 19),\n",
    "                             name = \"Treatment\",\n",
    "                             breaks=c(\"CC\", \"C700\", \"C100\", \"Water\", \"T0\"),\n",
    "                             labels=c(\"Cellulose Only\", \"RE.pulse\", \"RE.continuous\", \"Water\", \"T0\"))\n",
    "\n",
    "#                             breaks=c(\"12C100\", \"12C700\", \"12CC\", \"13C100\", \"13C700\", \"13CC\"),\n",
    "#                             labels=c(\"Control - RE.continuous\", \"Control - RE.single\", \"Control - Cellulose.only\",\n",
    "#                                      \"13C - RE.continuous\", \"13C - RE.single\", \"13C - Cellulose.only\"))\n",
    "#p1 = p1 + scale_color_gradient(low=\"#CF142B\", high=\"#0065BD\")\n",
    "p1 = p1 + scale_color_gradient(low=\"purple\", high=\"orange\")\n",
    "#p1 = p1 + scale_fill_manual(values = colours,\n",
    " #                           breaks=c(\"0\", \"7\", \"14\", \"28\", \"45\"),\n",
    " #                          labels = c(\"0\", \"7\", \"14\", \"28\", \"45\"), guide = FALSE)\n",
    "#p1 = p1 + scale_color_manual(values = colours)\n",
    "p1 = p1 + guides(alpha = FALSE)\n",
    "p1 = p1 + theme_bw()\n",
    "#p1 = p1 + legend(fill = colours)\n",
    "#p1 = p1 + scale_size_area(aesthetics = \"Density\")\n",
    "#p1 = p1 + ggtitle(\"A\")\n",
    "p1 = p1 + guides(color = guide_legend(override.aes = list(size = 4)))\n",
    "p1 = p1 + guides(shape = guide_legend(override.aes = list(size = 4)))\n",
    "\n",
    "#p1 = p1 + guides(size = guide_legend(override.aes = list(fill = \"black\")))\n",
    "\n",
    "p1 = p1 + theme(plot.margin = unit(c(1,0,1,0), \"lines\"))\n",
    "p1 = p1 + theme(plot.title = element_text(hjust = -0.1, size = 20))\n",
    "\n",
    "p1"
   ]
  },
  {
   "cell_type": "code",
   "execution_count": 49,
   "metadata": {
    "collapsed": false
   },
   "outputs": [
    {
     "data": {
      "text/plain": [
       "png \n",
       "  2 \n"
      ]
     },
     "metadata": {},
     "output_type": "display_data"
    }
   ],
   "source": [
    "%%R \n",
    "pdf(\"figs/bulk_ordination.pdf\", width = 7, height = 5)\n",
    "grid.arrange(p1, ncol = 1)\n",
    "dev.off()"
   ]
  },
  {
   "cell_type": "code",
   "execution_count": 50,
   "metadata": {
    "collapsed": false
   },
   "outputs": [
    {
     "data": {
      "text/html": [
       "<a href='figs/bulk_ordination.pdf' target='_blank'>figs/bulk_ordination.pdf</a><br>"
      ],
      "text/plain": [
       "/home/ashley/priming_exp/figs/bulk_ordination.pdf"
      ]
     },
     "execution_count": 50,
     "metadata": {},
     "output_type": "execute_result"
    }
   ],
   "source": [
    "FileLink(\"figs/bulk_ordination.pdf\")"
   ]
  },
  {
   "cell_type": "code",
   "execution_count": 51,
   "metadata": {
    "collapsed": false
   },
   "outputs": [
    {
     "data": {
      "text/plain": [
       "png \n",
       "  2 \n"
      ]
     },
     "metadata": {},
     "output_type": "display_data"
    }
   ],
   "source": [
    "%%R \n",
    "png(\"figs/bulk_ordination.png\", width = 7, height = 5, units = \"in\", res = 600)\n",
    "grid.arrange(p1, ncol = 1)\n",
    "dev.off()"
   ]
  },
  {
   "cell_type": "code",
   "execution_count": 52,
   "metadata": {
    "collapsed": false
   },
   "outputs": [
    {
     "data": {
      "text/html": [
       "<a href='figs/bulk_ordination.png' target='_blank'>figs/bulk_ordination.png</a><br>"
      ],
      "text/plain": [
       "/home/ashley/priming_exp/figs/bulk_ordination.png"
      ]
     },
     "execution_count": 52,
     "metadata": {},
     "output_type": "execute_result"
    }
   ],
   "source": [
    "FileLink(\"figs/bulk_ordination.png\")"
   ]
  },
  {
   "cell_type": "code",
   "execution_count": 26,
   "metadata": {
    "collapsed": false
   },
   "outputs": [
    {
     "data": {
      "text/plain": [
       "Loading required package: permute\n",
       "Loading required package: lattice\n",
       "This is vegan 2.2-1\n"
      ]
     },
     "metadata": {},
     "output_type": "display_data"
    }
   ],
   "source": [
    "%%R\n",
    "library(vegan)"
   ]
  },
  {
   "cell_type": "code",
   "execution_count": 30,
   "metadata": {
    "collapsed": false
   },
   "outputs": [],
   "source": [
    "%%R\n",
    "#convert physeq object to a dataframe for adonis test\n",
    "md = sample_data(physeq.PE.thresh)\n",
    "#convert dataframe from physeq to a traditional R dataframe because it has funky 'class'\n",
    "md = data.frame(md)"
   ]
  },
  {
   "cell_type": "code",
   "execution_count": 34,
   "metadata": {
    "collapsed": false
   },
   "outputs": [
    {
     "data": {
      "text/plain": [
       "\n",
       "Call:\n",
       "adonis(formula = wunif.dist ~ amendment * Day, data = md, permutations = 1000) \n",
       "\n",
       "Permutation: free\n",
       "Number of permutations: 1000\n",
       "\n",
       "Terms added sequentially (first to last)\n",
       "\n",
       "              Df SumsOfSqs  MeanSqs F.Model      R2   Pr(>F)    \n",
       "amendment      6   0.09958 0.016596  4.0341 0.23870 0.000999 ***\n",
       "Day            1   0.03595 0.035947  8.7380 0.08617 0.000999 ***\n",
       "amendment:Day  6   0.05125 0.008542  2.0763 0.12286 0.005994 ** \n",
       "Residuals     56   0.23038 0.004114         0.55226             \n",
       "Total         69   0.41715                  1.00000             \n",
       "---\n",
       "Signif. codes:  0 ‘***’ 0.001 ‘**’ 0.01 ‘*’ 0.05 ‘.’ 0.1 ‘ ’ 1\n"
      ]
     },
     "metadata": {},
     "output_type": "display_data"
    }
   ],
   "source": [
    "%%R\n",
    "#to test if community composition in Bulk DNA sequencing is different between treatments\n",
    "stat.bulk = adonis(wunif.dist ~ amendment*Day, data = md, permutations = 1000)\n",
    "stat.bulk"
   ]
  },
  {
   "cell_type": "code",
   "execution_count": 33,
   "metadata": {
    "collapsed": false
   },
   "outputs": [
    {
     "data": {
      "text/plain": [
       "\n",
       "Call:\n",
       "adonis(formula = wunif.dist ~ factor(Day), data = md) \n",
       "\n",
       "Permutation: free\n",
       "Number of permutations: 999\n",
       "\n",
       "Terms added sequentially (first to last)\n",
       "\n",
       "            Df SumsOfSqs   MeanSqs F.Model      R2 Pr(>F)   \n",
       "factor(Day)  4   0.05766 0.0144160  2.6066 0.13823  0.002 **\n",
       "Residuals   65   0.35949 0.0055306         0.86177          \n",
       "Total       69   0.41715                   1.00000          \n",
       "---\n",
       "Signif. codes:  0 ‘***’ 0.001 ‘**’ 0.01 ‘*’ 0.05 ‘.’ 0.1 ‘ ’ 1\n"
      ]
     },
     "metadata": {},
     "output_type": "display_data"
    }
   ],
   "source": [
    "%%R\n",
    "stat.bulk.day = adonis(wunif.dist ~ factor(Day), data = md)\n",
    "stat.bulk.day"
   ]
  }
 ],
 "metadata": {
  "kernelspec": {
   "display_name": "Python 2",
   "language": "python",
   "name": "python2"
  },
  "language_info": {
   "codemirror_mode": {
    "name": "ipython",
    "version": 2
   },
   "file_extension": ".py",
   "mimetype": "text/x-python",
   "name": "python",
   "nbconvert_exporter": "python",
   "pygments_lexer": "ipython2",
   "version": "2.7.9"
  }
 },
 "nbformat": 4,
 "nbformat_minor": 0
}
