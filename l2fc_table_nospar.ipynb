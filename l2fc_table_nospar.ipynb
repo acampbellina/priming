{
 "cells": [
  {
   "cell_type": "code",
   "execution_count": 1,
   "metadata": {
    "collapsed": true
   },
   "outputs": [],
   "source": [
    "%load_ext rpy2.ipython"
   ]
  },
  {
   "cell_type": "code",
   "execution_count": 2,
   "metadata": {
    "collapsed": false
   },
   "outputs": [
    {
     "data": {
      "text/plain": [
       "Loading required package: S4Vectors\n",
       "Loading required package: stats4\n",
       "Loading required package: BiocGenerics\n",
       "Loading required package: parallel\n",
       "\n",
       "Attaching package: ‘BiocGenerics’\n",
       "\n",
       "The following objects are masked from ‘package:parallel’:\n",
       "\n",
       "    clusterApply, clusterApplyLB, clusterCall, clusterEvalQ,\n",
       "    clusterExport, clusterMap, parApply, parCapply, parLapply,\n",
       "    parLapplyLB, parRapply, parSapply, parSapplyLB\n",
       "\n",
       "The following object is masked from ‘package:stats’:\n",
       "\n",
       "    xtabs\n",
       "\n",
       "The following objects are masked from ‘package:base’:\n",
       "\n",
       "    anyDuplicated, append, as.data.frame, as.vector, cbind, colnames,\n",
       "    do.call, duplicated, eval, evalq, Filter, Find, get, intersect,\n",
       "    is.unsorted, lapply, Map, mapply, match, mget, order, paste, pmax,\n",
       "    pmax.int, pmin, pmin.int, Position, rank, rbind, Reduce, rep.int,\n",
       "    rownames, sapply, setdiff, sort, table, tapply, union, unique,\n",
       "    unlist, unsplit\n",
       "\n",
       "Loading required package: IRanges\n",
       "Loading required package: GenomicRanges\n",
       "Loading required package: GenomeInfoDb\n",
       "Loading required package: Rcpp\n",
       "Loading required package: RcppArmadillo\n",
       "\n",
       "Attaching package: ‘phyloseq’\n",
       "\n",
       "The following object is masked from ‘package:GenomicRanges’:\n",
       "\n",
       "    distance\n",
       "\n",
       "The following object is masked from ‘package:IRanges’:\n",
       "\n",
       "    distance\n",
       "\n",
       "\n",
       "Attaching package: ‘plyr’\n",
       "\n",
       "The following object is masked from ‘package:IRanges’:\n",
       "\n",
       "    desc\n",
       "\n",
       "The following object is masked from ‘package:S4Vectors’:\n",
       "\n",
       "    rename\n",
       "\n",
       "\n",
       "Attaching package: ‘dplyr’\n",
       "\n",
       "The following objects are masked from ‘package:plyr’:\n",
       "\n",
       "    arrange, count, desc, failwith, id, mutate, rename, summarise,\n",
       "    summarize\n",
       "\n",
       "The following objects are masked from ‘package:GenomicRanges’:\n",
       "\n",
       "    intersect, setdiff, union\n",
       "\n",
       "The following object is masked from ‘package:GenomeInfoDb’:\n",
       "\n",
       "    intersect\n",
       "\n",
       "The following objects are masked from ‘package:IRanges’:\n",
       "\n",
       "    collapse, desc, intersect, setdiff, slice, union\n",
       "\n",
       "The following object is masked from ‘package:S4Vectors’:\n",
       "\n",
       "    rename\n",
       "\n",
       "The following objects are masked from ‘package:BiocGenerics’:\n",
       "\n",
       "    combine, intersect, setdiff, union\n",
       "\n",
       "The following object is masked from ‘package:stats’:\n",
       "\n",
       "    filter\n",
       "\n",
       "The following objects are masked from ‘package:base’:\n",
       "\n",
       "    intersect, setdiff, setequal, union\n",
       "\n",
       "Loading required package: foreach\n",
       "foreach: simple, scalable parallel programming from Revolution Analytics\n",
       "Use Revolution R for scalability, fault tolerance and more.\n",
       "http://www.revolutionanalytics.com\n",
       "Loading required package: iterators\n"
      ]
     },
     "metadata": {},
     "output_type": "display_data"
    }
   ],
   "source": [
    "%%R\n",
    "library(DESeq2)\n",
    "library(phyloseq)\n",
    "library(plyr); library(dplyr)\n",
    "library(ggplot2)\n",
    "library(doParallel)\n",
    "library(foreach)"
   ]
  },
  {
   "cell_type": "code",
   "execution_count": 4,
   "metadata": {
    "collapsed": false
   },
   "outputs": [
    {
     "data": {
      "text/plain": [
       "phyloseq-class experiment-level object\n",
       "otu_table()   OTU Table:         [ 10361 taxa and 466 samples ]\n",
       "sample_data() Sample Data:       [ 466 samples by 11 sample variables ]\n",
       "tax_table()   Taxonomy Table:    [ 10361 taxa by 8 taxonomic ranks ]\n",
       "phy_tree()    Phylogenetic Tree: [ 10361 tips and 10360 internal nodes ]\n"
      ]
     },
     "metadata": {},
     "output_type": "display_data"
    }
   ],
   "source": [
    "%%R\n",
    "\n",
    "asNumeric = function(x) { as.numeric(as.character(x)) }\n",
    "\n",
    "physeq = import_biom(\"/var/seq_data/priming_exp/data/otu_table_wtax.biom\", \"/var/seq_data/priming_exp/data/otusn.tree\")\n",
    "sample.data = import_qiime_sample_data(\"/var/seq_data/priming_exp/data/allsample_metadata_nomock.txt\")\n",
    "sample.data$Density = asNumeric(sample.data$Density)\n",
    "physeq = merge_phyloseq(physeq,sample.data)\n",
    "physeq"
   ]
  },
  {
   "cell_type": "code",
   "execution_count": 8,
   "metadata": {
    "collapsed": false
   },
   "outputs": [
    {
     "data": {
      "text/plain": [
       "Source: local data frame [31,083 x 13]\n",
       "\n",
       "   Day Treatment       OTU log2FoldChange    lfcSE    Rank1          Rank2\n",
       "1   14      13CC OTU.14353             NA       NA Bacteria  Acidobacteria\n",
       "2   14      13CC OTU.11642     -0.9017218 1.536176 Bacteria             NA\n",
       "3   14      13CC  OTU.9532             NA       NA Bacteria Proteobacteria\n",
       "4   14      13CC OTU.12098             NA       NA Bacteria Proteobacteria\n",
       "5   14      13CC OTU.12051             NA       NA Bacteria Proteobacteria\n",
       "6   14      13CC OTU.12843             NA       NA Bacteria Proteobacteria\n",
       "7   14      13CC OTU.12643     -0.3962491 1.532219 Bacteria  Acidobacteria\n",
       "8   14      13CC  OTU.9465             NA       NA Bacteria  Acidobacteria\n",
       "9   14      13CC OTU.12562      0.7793390 1.530693 Bacteria  Acidobacteria\n",
       "10  14      13CC OTU.11557             NA       NA Bacteria  Acidobacteria\n",
       ".. ...       ...       ...            ...      ...      ...            ...\n",
       "Variables not shown: Rank3 (fctr), Rank4 (fctr), Rank5 (fctr), Rank6 (fctr),\n",
       "  Rank7 (fctr), Rank8 (fctr)\n"
      ]
     },
     "metadata": {},
     "output_type": "display_data"
    }
   ],
   "source": [
    "%%R\n",
    "density.min = 1.7125\n",
    "density.max = 1.755\n",
    "\n",
    "md = sample_data(physeq)\n",
    "#physeq.heavy = prune_samples((md$Density >= density.min)&\n",
    "#                             (md$Density <= density.max), physeq)\n",
    "\n",
    "get_l2fc = function(physeq.obj, Treatment, Day) {\n",
    "    physeq.md = sample_data(physeq.obj)\n",
    "    p = prune_samples((physeq.md$Bulk == 0)& (physeq.md$Treatment %in% c(\"12CC\",as.character(Treatment)))&\n",
    "                      (physeq.md$Day == Day)&\n",
    "                      (physeq.md$Density >= density.min)&\n",
    "                      (physeq.md$Density <= density.max), physeq.obj)\n",
    "    dds = phyloseq_to_deseq2(p, ~Treatment)\n",
    "    dds = DESeq(dds, quiet = TRUE, fitType = \"local\")\n",
    "    r = results(dds, independentFiltering = FALSE)\n",
    "    r$OTU = rownames(r)\n",
    "    d = data.frame(r[, c(\"OTU\",\"log2FoldChange\", \"lfcSE\")])\n",
    "    TT = data.frame(tax_table(p))\n",
    "    TT$OTU = rownames(TT)\n",
    "    d = left_join(d, TT)\n",
    "    d\n",
    "}\n",
    "\n",
    "m = expand.grid(Day = c(14, 28, 45),\n",
    "                Treatment = c(\"13CC\"))\n",
    "\n",
    "#m = m[!((m$Day == 1)&(m$Treatment == \"13CCPS\")),]\n",
    "\n",
    "registerDoParallel(10)\n",
    "\n",
    "df.l2fc.CC = tbl_df(mdply(m, \n",
    "                       get_l2fc, \n",
    "                       .parallel = TRUE,\n",
    "                       physeq.obj = physeq.heavy))\n",
    "\n",
    "df.l2fc.CC"
   ]
  },
  {
   "cell_type": "code",
   "execution_count": 9,
   "metadata": {
    "collapsed": false
   },
   "outputs": [
    {
     "data": {
      "text/plain": [
       "Source: local data frame [31,083 x 13]\n",
       "\n",
       "   Day Treatment       OTU log2FoldChange    lfcSE    Rank1          Rank2\n",
       "1   14    13C100 OTU.14353             NA       NA Bacteria  Acidobacteria\n",
       "2   14    13C100 OTU.11642       1.866406 1.398122 Bacteria             NA\n",
       "3   14    13C100  OTU.9532             NA       NA Bacteria Proteobacteria\n",
       "4   14    13C100 OTU.12098             NA       NA Bacteria Proteobacteria\n",
       "5   14    13C100 OTU.12051             NA       NA Bacteria Proteobacteria\n",
       "6   14    13C100 OTU.12843             NA       NA Bacteria Proteobacteria\n",
       "7   14    13C100 OTU.12643             NA       NA Bacteria  Acidobacteria\n",
       "8   14    13C100  OTU.9465             NA       NA Bacteria  Acidobacteria\n",
       "9   14    13C100 OTU.12562             NA       NA Bacteria  Acidobacteria\n",
       "10  14    13C100 OTU.11557             NA       NA Bacteria  Acidobacteria\n",
       ".. ...       ...       ...            ...      ...      ...            ...\n",
       "Variables not shown: Rank3 (fctr), Rank4 (fctr), Rank5 (fctr), Rank6 (fctr),\n",
       "  Rank7 (fctr), Rank8 (fctr)\n"
      ]
     },
     "metadata": {},
     "output_type": "display_data"
    }
   ],
   "source": [
    "%%R\n",
    "density.min = 1.7125\n",
    "density.max = 1.755\n",
    "\n",
    "md = sample_data(physeq)\n",
    "#physeq.heavy = prune_samples((md$Density >= density.min)&\n",
    "#                             (md$Density <= density.max), physeq)\n",
    "\n",
    "get_l2fc = function(physeq.obj, Treatment, Day) {\n",
    "    physeq.md = sample_data(physeq.obj)\n",
    "    p = prune_samples((physeq.md$Bulk == 0)& (physeq.md$Treatment %in% c(\"12C100\",as.character(Treatment)))&\n",
    "                      (physeq.md$Day == Day)&\n",
    "                      (physeq.md$Density >= density.min)&\n",
    "                      (physeq.md$Density <= density.max), physeq.obj)\n",
    "    dds = phyloseq_to_deseq2(p, ~Treatment)\n",
    "    dds = DESeq(dds, quiet = TRUE, fitType = \"local\")\n",
    "    r = results(dds, independentFiltering = FALSE)\n",
    "    r$OTU = rownames(r)\n",
    "    d = data.frame(r[, c(\"OTU\",\"log2FoldChange\", \"lfcSE\")])\n",
    "    TT = data.frame(tax_table(p))\n",
    "    TT$OTU = rownames(TT)\n",
    "    d = left_join(d, TT)\n",
    "    d\n",
    "}\n",
    "\n",
    "m.100 = expand.grid(Day = c(14, 28, 45),\n",
    "                Treatment = c(\"13C100\"))\n",
    "\n",
    "#m = m[!((m$Day == 1)&(m$Treatment == \"13CCPS\")),]\n",
    "\n",
    "registerDoParallel(10)\n",
    "\n",
    "df.l2fc.100 = tbl_df(mdply(m.100, \n",
    "                       get_l2fc, \n",
    "                       .parallel = TRUE,\n",
    "                       physeq.obj = physeq.heavy))\n",
    "\n",
    "df.l2fc.100"
   ]
  },
  {
   "cell_type": "code",
   "execution_count": 10,
   "metadata": {
    "collapsed": false
   },
   "outputs": [
    {
     "data": {
      "text/plain": [
       "Source: local data frame [31,083 x 13]\n",
       "\n",
       "   Day Treatment       OTU log2FoldChange lfcSE    Rank1          Rank2\n",
       "1   14    13C700 OTU.14353             NA    NA Bacteria  Acidobacteria\n",
       "2   14    13C700 OTU.11642             NA    NA Bacteria             NA\n",
       "3   14    13C700  OTU.9532             NA    NA Bacteria Proteobacteria\n",
       "4   14    13C700 OTU.12098             NA    NA Bacteria Proteobacteria\n",
       "5   14    13C700 OTU.12051             NA    NA Bacteria Proteobacteria\n",
       "6   14    13C700 OTU.12843             NA    NA Bacteria Proteobacteria\n",
       "7   14    13C700 OTU.12643             NA    NA Bacteria  Acidobacteria\n",
       "8   14    13C700  OTU.9465             NA    NA Bacteria  Acidobacteria\n",
       "9   14    13C700 OTU.12562             NA    NA Bacteria  Acidobacteria\n",
       "10  14    13C700 OTU.11557             NA    NA Bacteria  Acidobacteria\n",
       ".. ...       ...       ...            ...   ...      ...            ...\n",
       "Variables not shown: Rank3 (fctr), Rank4 (fctr), Rank5 (fctr), Rank6 (fctr),\n",
       "  Rank7 (fctr), Rank8 (fctr)\n"
      ]
     },
     "metadata": {},
     "output_type": "display_data"
    }
   ],
   "source": [
    "%%R\n",
    "density.min = 1.7125\n",
    "density.max = 1.755\n",
    "\n",
    "md = sample_data(physeq)\n",
    "#physeq.heavy = prune_samples((md$Density >= density.min)&\n",
    "#                             (md$Density <= density.max), physeq)\n",
    "\n",
    "get_l2fc = function(physeq.obj, Treatment, Day) {\n",
    "    physeq.md = sample_data(physeq.obj)\n",
    "    p = prune_samples((physeq.md$Bulk == 0)& (physeq.md$Treatment %in% c(\"12C700\",as.character(Treatment)))&\n",
    "                      (physeq.md$Day == Day)&\n",
    "                      (physeq.md$Density >= density.min)&\n",
    "                      (physeq.md$Density <= density.max), physeq.obj)\n",
    "    dds = phyloseq_to_deseq2(p, ~Treatment)\n",
    "    dds = DESeq(dds, quiet = TRUE, fitType = \"local\")\n",
    "    r = results(dds, independentFiltering = FALSE)\n",
    "    r$OTU = rownames(r)\n",
    "    d = data.frame(r[, c(\"OTU\",\"log2FoldChange\", \"lfcSE\")])\n",
    "    TT = data.frame(tax_table(p))\n",
    "    TT$OTU = rownames(TT)\n",
    "    d = left_join(d, TT)\n",
    "    d\n",
    "}\n",
    "\n",
    "m.700 = expand.grid(Day = c(14, 28, 45),\n",
    "                Treatment = c(\"13C700\"))\n",
    "\n",
    "#m = m[!((m$Day == 1)&(m$Treatment == \"13CCPS\")),]\n",
    "\n",
    "registerDoParallel(10)\n",
    "\n",
    "df.l2fc.700 = tbl_df(mdply(m.700, \n",
    "                       get_l2fc, \n",
    "                       .parallel = TRUE,\n",
    "                       physeq.obj = physeq.heavy))\n",
    "\n",
    "df.l2fc.700"
   ]
  },
  {
   "cell_type": "code",
   "execution_count": 15,
   "metadata": {
    "collapsed": false
   },
   "outputs": [
    {
     "data": {
      "text/plain": [
       "Source: local data frame [6 x 13]\n",
       "\n",
       "  Day Treatment       OTU log2FoldChange    lfcSE    Rank1          Rank2\n",
       "1  14      13CC OTU.14353             NA       NA Bacteria  Acidobacteria\n",
       "2  14      13CC OTU.11642     -0.9017218 1.536176 Bacteria             NA\n",
       "3  14      13CC  OTU.9532             NA       NA Bacteria Proteobacteria\n",
       "4  14      13CC OTU.12098             NA       NA Bacteria Proteobacteria\n",
       "5  14      13CC OTU.12051             NA       NA Bacteria Proteobacteria\n",
       "6  14      13CC OTU.12843             NA       NA Bacteria Proteobacteria\n",
       "Variables not shown: Rank3 (fctr), Rank4 (fctr), Rank5 (fctr), Rank6 (fctr),\n",
       "  Rank7 (fctr), Rank8 (fctr)\n"
      ]
     },
     "metadata": {},
     "output_type": "display_data"
    }
   ],
   "source": [
    "%%R\n",
    "df.l2fc.all = rbind(df.l2fc.CC, df.l2fc.100, df.l2fc.700)\n",
    "head(df.l2fc.all)"
   ]
  },
  {
   "cell_type": "code",
   "execution_count": 16,
   "metadata": {
    "collapsed": true
   },
   "outputs": [],
   "source": [
    "%%R\n",
    "write.table(df.l2fc.all, \n",
    "            file = \"data/l2fc_table_no_spar.csv\",\n",
    "            row.names = FALSE,\n",
    "            sep = \",\")"
   ]
  }
 ],
 "metadata": {
  "kernelspec": {
   "display_name": "Python 2",
   "language": "python",
   "name": "python2"
  },
  "language_info": {
   "codemirror_mode": {
    "name": "ipython",
    "version": 2
   },
   "file_extension": ".py",
   "mimetype": "text/x-python",
   "name": "python",
   "nbconvert_exporter": "python",
   "pygments_lexer": "ipython2",
   "version": "2.7.9"
  }
 },
 "nbformat": 4,
 "nbformat_minor": 0
}
