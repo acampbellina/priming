{
 "cells": [
  {
   "cell_type": "markdown",
   "metadata": {},
   "source": [
    "##Import various python functions and modules that we need."
   ]
  },
  {
   "cell_type": "code",
   "execution_count": 1,
   "metadata": {
    "collapsed": false
   },
   "outputs": [],
   "source": [
    "from pandas import DataFrame\n",
    "from IPython.display import FileLink"
   ]
  },
  {
   "cell_type": "markdown",
   "metadata": {},
   "source": [
    "##Pylab namespace and inline plots. Import Rmagic."
   ]
  },
  {
   "cell_type": "code",
   "execution_count": 2,
   "metadata": {
    "collapsed": false
   },
   "outputs": [],
   "source": [
    "%matplotlib inline\n",
    "%load_ext rpy2.ipython"
   ]
  },
  {
   "cell_type": "markdown",
   "metadata": {},
   "source": [
    "##Import R libraries we'll use."
   ]
  },
  {
   "cell_type": "code",
   "execution_count": 3,
   "metadata": {
    "collapsed": false
   },
   "outputs": [
    {
     "data": {
      "text/plain": [
       "Loading required package: permute\n",
       "Loading required package: lattice\n",
       "This is vegan 2.2-1\n",
       "foreach: simple, scalable parallel programming from Revolution Analytics\n",
       "Use Revolution R for scalability, fault tolerance and more.\n",
       "http://www.revolutionanalytics.com\n",
       "Loading required package: iterators\n",
       "Loading required package: parallel\n",
       "Loading required package: grid\n",
       "\n",
       "Attaching package: ‘dplyr’\n",
       "\n",
       "The following object is masked from ‘package:stats’:\n",
       "\n",
       "    filter\n",
       "\n",
       "The following objects are masked from ‘package:base’:\n",
       "\n",
       "    intersect, setdiff, setequal, union\n",
       "\n"
      ]
     },
     "metadata": {},
     "output_type": "display_data"
    }
   ],
   "source": [
    "%%R\n",
    "library(phyloseq)\n",
    "library(vegan)\n",
    "library(ggplot2)\n",
    "library(foreach)\n",
    "library(doParallel)\n",
    "library(gridExtra)\n",
    "library(dplyr)"
   ]
  },
  {
   "cell_type": "markdown",
   "metadata": {},
   "source": [
    "##Import data into R. Prune to relevant samples (PS, non-bulk). Get rid of OTUs not observed in at least 25% of samples)"
   ]
  },
  {
   "cell_type": "markdown",
   "metadata": {},
   "source": [
    "###These files are from the [binning notebook](./OTU_binning.ipynb), [tree notebook](./Tree.ipynb), [merge mappers notebook](./Merge_mappers.ipynb) "
   ]
  },
  {
   "cell_type": "code",
   "execution_count": 4,
   "metadata": {
    "collapsed": false
   },
   "outputs": [
    {
     "data": {
      "text/plain": [
       "phyloseq-class experiment-level object\n",
       "otu_table()   OTU Table:         [ 3279 taxa and 127 samples ]\n",
       "sample_data() Sample Data:       [ 127 samples by 13 sample variables ]\n",
       "phy_tree()    Phylogenetic Tree: [ 3279 tips and 3278 internal nodes ]\n"
      ]
     },
     "metadata": {},
     "output_type": "display_data"
    }
   ],
   "source": [
    "%%R\n",
    "physeq = import_biom(\"/var/seq_data/priming_exp/data/otu_table.biom\", \"/var/seq_data/priming_exp/data/otusn.tree\")\n",
    "#print(physeq)\n",
    "sample.data = import_qiime_sample_data(\"/var/seq_data/priming_exp/data/allsample_metadata_nomock.txt\")\n",
    "#print(sample.data)\n",
    "physeq = merge_phyloseq(physeq,sample.data)\n",
    "#print(physeq)\n",
    "physeq.md = sample_data(physeq)\n",
    "physeq.PE = prune_samples((physeq.md$Bulk == 0)&\n",
    "                          (!(physeq.md$Sample %in% c(\"13C.700.45.03.21\", \"12C.000.28.03.27\")))&\n",
    "                          (physeq.md$Treatment %in% c(\"12C000\",\"13C000\")), physeq)\n",
    "physeq.PE.snorm = transform_sample_counts(physeq.PE, function(x) x/sum(x))\n",
    "physeq.PE.thresh = filter_taxa(physeq.PE.snorm, function(x) sum(x > 0) > (0.25 * length(x)), TRUE)\n",
    "print(physeq.PE.thresh)\n"
   ]
  },
  {
   "cell_type": "code",
   "execution_count": 5,
   "metadata": {
    "collapsed": false
   },
   "outputs": [
    {
     "data": {
      "text/plain": [
       " [1] \"Sample\"       \"FractionNum\"  \"Bulk\"         \"Control\"      \"CC\"          \n",
       " [6] \"X100\"         \"X700\"         \"H2O\"          \"Day\"          \"Density\"     \n",
       "[11] \"rep\"          \"contolVlabel\" \"Treatment\"   \n"
      ]
     },
     "metadata": {},
     "output_type": "display_data"
    }
   ],
   "source": [
    "%%R\n",
    "print(colnames(physeq.md))"
   ]
  },
  {
   "cell_type": "markdown",
   "metadata": {},
   "source": [
    "###Calculate pairwise weighted unifrac distances between samples."
   ]
  },
  {
   "cell_type": "code",
   "execution_count": 6,
   "metadata": {
    "collapsed": false
   },
   "outputs": [],
   "source": [
    "%%R\n",
    "registerDoParallel(cores=20)\n",
    "wunif.dist = distance(physeq.PE.thresh, \n",
    "                      method = \"unifrac\", \n",
    "                      weighted = TRUE,\n",
    "                      fast = TRUE, \n",
    "                      parallel = TRUE, \n",
    "                      normalized = FALSE)"
   ]
  },
  {
   "cell_type": "markdown",
   "metadata": {},
   "source": [
    "###Ordinate using weighted unifrac distnaces with NMDS."
   ]
  },
  {
   "cell_type": "code",
   "execution_count": 7,
   "metadata": {
    "collapsed": false
   },
   "outputs": [
    {
     "data": {
      "text/plain": [
       "Run 0 stress 0.0764548 \n",
       "Run 1 stress 0.0847519 \n",
       "Run 2 stress 0.0761655 \n",
       "... New best solution\n",
       "... procrustes: rmse 0.006078449  max resid 0.06694046 \n",
       "Run 3 stress 0.09041256 \n",
       "Run 4 stress 0.07645531 \n",
       "... procrustes: rmse 0.006057023  max resid 0.06695828 \n",
       "Run 5 stress 0.09086712 \n",
       "Run 6 stress 0.08109261 \n",
       "Run 7 stress 0.08140131 \n",
       "Run 8 stress 0.0783062 \n",
       "Run 9 stress 0.07645601 \n",
       "... procrustes: rmse 0.006055056  max resid 0.06694306 \n",
       "Run 10 stress 0.0761634 \n",
       "... New best solution\n",
       "... procrustes: rmse 0.0003282989  max resid 0.003092753 \n",
       "*** Solution reached\n"
      ]
     },
     "metadata": {},
     "output_type": "display_data"
    }
   ],
   "source": [
    "%%R\n",
    "nmds = ordinate(physeq.PE.thresh, \n",
    "                method = \"NMDS\", \n",
    "                distance = wunif.dist)"
   ]
  },
  {
   "cell_type": "code",
   "execution_count": 8,
   "metadata": {
    "collapsed": false
   },
   "outputs": [
    {
     "data": {
      "text/plain": [
       "NULL\n"
      ]
     },
     "metadata": {},
     "output_type": "display_data"
    },
    {
     "data": {
      "image/png": "[encoded data removed]"
     },
     "metadata": {},
     "output_type": "display_data"
    }
   ],
   "source": [
    "%%R -w 900 -h 350\n",
    "\n",
    "colours = c(\"#666666\", \"#99CC00\", \"#ff7f00\", \"#377eb8\", \"#4daf4a\", \"#00f5ff\", \"#ff4040\", \"#68228b\")\n",
    "\n",
    "df = plot_ordination(physeq.PE.thresh, nmds, justDF = TRUE)\n",
    "df$Density = as.numeric(as.character(df$Density))\n",
    "\n",
    "p1 = ggplot(df, aes(x = NMDS1, y = NMDS2)) \n",
    "p1 = p1 + geom_point(aes(fill = Treatment, size = Density, alpha = 0.85), shape=21) \n",
    "p1 = p1 + scale_fill_manual(values = colours,\n",
    "                            breaks=c(\"12C000\", \"13C000\"),\n",
    "                            labels=c(\"Control - Cellulose.Only\", \"13C - Cellulose.Only\"))\n",
    "p1 = p1 + guides(alpha = FALSE)\n",
    "p1 = p1 + scale_size_area(aesthetics = \"Density\")\n",
    "p1 = p1 + ggtitle(\"A\")\n",
    "p1 = p1 + guides(fill = guide_legend(override.aes = list(size = 4)))\n",
    "p1 = p1 + guides(size = guide_legend(override.aes = list(fill = \"black\")))\n",
    "p1 = p1 + theme_bw()\n",
    "p1 = p1 + theme(plot.margin = unit(c(1,0,1,0), \"lines\"))\n",
    "p1 = p1 + theme(plot.title = element_text(hjust = -0.1, size = 20))\n",
    "\n",
    "p2 = ggplot(df, aes(x = NMDS1, y = NMDS2))\n",
    "p2 = p2 + geom_point(aes(fill = factor(Day), size = Density, alpha = 0.85), shape=21)\n",
    "p2 = p2 + scale_fill_brewer(palette=\"Dark2\")\n",
    "p2 = p2 + guides(alpha = FALSE, size = FALSE)\n",
    "p2 = p2 + scale_size_area(aesthetics = \"Density\")\n",
    "p2 = p2 + ggtitle(\"B\")\n",
    "p2 = p2 + guides(fill = guide_legend(title = \"Day\", override.aes = list(size = 4)))\n",
    "p2 = p2 + theme_bw()\n",
    "p2 = p2 + theme(plot.margin = unit(c(1,0,1,0), \"lines\"))\n",
    "p2 = p2 + theme(plot.title = element_text(hjust = -0.1, size = 20))\n",
    "\n",
    "\n",
    "gp1 = ggplot_gtable(ggplot_build(p1))\n",
    "gp2 = ggplot_gtable(ggplot_build(p2))\n",
    "maxWidth = unit.pmax(gp1$widths[2:5], gp2$widths[2:5])\n",
    "\n",
    "gp1$widths[2:5] <- maxWidth\n",
    "gp2$widths[2:5] <- maxWidth\n",
    "\n",
    "p.combined = grid.arrange(gp1, gp2, ncol = 2)\n",
    "p.combined"
   ]
  },
  {
   "cell_type": "code",
   "execution_count": 9,
   "metadata": {
    "collapsed": false
   },
   "outputs": [
    {
     "data": {
      "text/plain": [
       "png \n",
       "  2 \n"
      ]
     },
     "metadata": {},
     "output_type": "display_data"
    }
   ],
   "source": [
    "%%R -w 1000 -h 350\n",
    "pdf(\"figs/ordination_CC.pdf\", width = 12, height = 5)\n",
    "grid.arrange(p1, p2, widths = c(1.3, 1), ncol=2)\n",
    "dev.off()"
   ]
  },
  {
   "cell_type": "code",
   "execution_count": 10,
   "metadata": {
    "collapsed": false
   },
   "outputs": [
    {
     "data": {
      "text/html": [
       "<a href='figs/ordination_CC.pdf' target='_blank'>figs/ordination_CC.pdf</a><br>"
      ],
      "text/plain": [
       "/home/ashley/priming_exp/figs/ordination_CC.pdf"
      ]
     },
     "execution_count": 10,
     "metadata": {},
     "output_type": "execute_result"
    }
   ],
   "source": [
    "FileLink(\"figs/ordination_CC.pdf\")"
   ]
  },
  {
   "cell_type": "code",
   "execution_count": 11,
   "metadata": {
    "collapsed": false
   },
   "outputs": [
    {
     "data": {
      "text/plain": [
       "png \n",
       "  2 \n"
      ]
     },
     "metadata": {},
     "output_type": "display_data"
    }
   ],
   "source": [
    "%%R \n",
    "png(\"figs/ordination_CC.png\", width = 12, height = 5, units = \"in\", res = 600)\n",
    "grid.arrange(p1, p2, widths = c(1.2, 1), ncol=2)\n",
    "dev.off()"
   ]
  },
  {
   "cell_type": "code",
   "execution_count": 12,
   "metadata": {
    "collapsed": false
   },
   "outputs": [
    {
     "data": {
      "text/html": [
       "<a href='figs/ordination_CC.png' target='_blank'>figs/ordination_CC.png</a><br>"
      ],
      "text/plain": [
       "/home/ashley/priming_exp/figs/ordination_CC.png"
      ]
     },
     "execution_count": 12,
     "metadata": {},
     "output_type": "execute_result"
    }
   ],
   "source": [
    "FileLink(\"figs/ordination_CC.png\")"
   ]
  },
  {
   "cell_type": "code",
   "execution_count": 13,
   "metadata": {
    "collapsed": true
   },
   "outputs": [],
   "source": [
    "%%R\n",
    "physeq.heavy = prune_samples(sample_data(physeq.PE.thresh)$Density >= 1.725, physeq.PE.thresh)"
   ]
  },
  {
   "cell_type": "code",
   "execution_count": 14,
   "metadata": {
    "collapsed": true
   },
   "outputs": [],
   "source": [
    "%%R\n",
    "wunif.dist.heavy = distance(physeq.heavy, method = \"unifrac\", weighted = TRUE)"
   ]
  },
  {
   "cell_type": "code",
   "execution_count": 15,
   "metadata": {
    "collapsed": false
   },
   "outputs": [
    {
     "data": {
      "text/plain": [
       "                           Sample FractionNum Bulk Control CC X100 X700 H2O Day\n",
       "12C.000.14.05.07 12C.000.14.05.07           7    0       1  1    0    0   0  14\n",
       "12C.000.28.03.08 12C.000.28.03.08           8    0       1  1    0    0   0  28\n",
       "12C.000.14.05.04 12C.000.14.05.04           4    0       1  1    0    0   0  14\n",
       "12C.000.14.05.09 12C.000.14.05.09           9    0       1  1    0    0   0  14\n",
       "12C.000.45.01.11 12C.000.45.01.11          11    0       1  1    0    0   0  45\n",
       "12C.000.14.05.08 12C.000.14.05.08           8    0       1  1    0    0   0  14\n",
       "                 Density rep contolVlabel Treatment\n",
       "12C.000.14.05.07  1.7406          control    12C000\n",
       "12C.000.28.03.08  1.7614          control    12C000\n",
       "12C.000.14.05.04  1.7526          control    12C000\n",
       "12C.000.14.05.09  1.7319          control    12C000\n",
       "12C.000.45.01.11  1.7253          control    12C000\n",
       "12C.000.14.05.08  1.7362          control    12C000\n"
      ]
     },
     "metadata": {},
     "output_type": "display_data"
    }
   ],
   "source": [
    "%%R\n",
    "#convert physeq object to a dataframe for adonis test\n",
    "df = sample_data(physeq.heavy)\n",
    "#convert dataframe from physeq to a traditional R dataframe because it has funky 'class'\n",
    "df = data.frame(df)\n",
    "head(df)"
   ]
  },
  {
   "cell_type": "code",
   "execution_count": 16,
   "metadata": {
    "collapsed": false,
    "scrolled": true
   },
   "outputs": [
    {
     "data": {
      "text/plain": [
       "\n",
       "Call:\n",
       "adonis(formula = wunif.dist.heavy ~ Treatment, data = df, permutations = 1000) \n",
       "\n",
       "Permutation: free\n",
       "Number of permutations: 1000\n",
       "\n",
       "Terms added sequentially (first to last)\n",
       "\n",
       "          Df SumsOfSqs MeanSqs F.Model     R2   Pr(>F)    \n",
       "Treatment  1   0.79140 0.79140  43.786 0.4823 0.000999 ***\n",
       "Residuals 47   0.84948 0.01807         0.5177             \n",
       "Total     48   1.64088                 1.0000             \n",
       "---\n",
       "Signif. codes:  0 ‘***’ 0.001 ‘**’ 0.01 ‘*’ 0.05 ‘.’ 0.1 ‘ ’ 1\n"
      ]
     },
     "metadata": {},
     "output_type": "display_data"
    }
   ],
   "source": [
    "%%R\n",
    "#to test if community composition in heavy fractions is different between treatments\n",
    "adonis.wunif.heavy = adonis(wunif.dist.heavy ~ Treatment, data = df, permutations = 1000)\n",
    "adonis.wunif.heavy"
   ]
  },
  {
   "cell_type": "markdown",
   "metadata": {},
   "source": [
    "## Test if there is a time signature in the heavy fractions of the 13C treatment"
   ]
  },
  {
   "cell_type": "code",
   "execution_count": 17,
   "metadata": {
    "collapsed": false
   },
   "outputs": [
    {
     "data": {
      "text/plain": [
       "phyloseq-class experiment-level object\n",
       "otu_table()   OTU Table:         [ 10361 taxa and 62 samples ]\n",
       "sample_data() Sample Data:       [ 62 samples by 13 sample variables ]\n",
       "phy_tree()    Phylogenetic Tree: [ 10361 tips and 10360 internal nodes ]\n",
       "phyloseq-class experiment-level object\n",
       "otu_table()   OTU Table:         [ 3239 taxa and 62 samples ]\n",
       "sample_data() Sample Data:       [ 62 samples by 13 sample variables ]\n",
       "phy_tree()    Phylogenetic Tree: [ 3239 tips and 3238 internal nodes ]\n"
      ]
     },
     "metadata": {},
     "output_type": "display_data"
    }
   ],
   "source": [
    "%%R\n",
    "physeq = import_biom(\"/var/seq_data/priming_exp/data/otu_table.biom\", \"/var/seq_data/priming_exp/data/otusn.tree\")\n",
    "sample.data = import_qiime_sample_data(\"/var/seq_data/priming_exp/data/allsample_metadata_nomock.txt\")\n",
    "physeq = merge_phyloseq(physeq,sample.data)\n",
    "physeq.md = sample_data(physeq)\n",
    "physeq.C13 = prune_samples((physeq.md$Treatment %in% c(\"13C000\"))& (physeq.md$Bulk == 0), physeq)\n",
    "physeq.C13.snorm = transform_sample_counts(physeq.C13, function(x) x/sum(x))\n",
    "physeq.C13.thresh = filter_taxa(physeq.C13.snorm, function(x) sum(x > 0) > (0.25 * length(x)), TRUE)\n",
    "print(physeq.C13)\n",
    "print(physeq.C13.thresh)"
   ]
  },
  {
   "cell_type": "code",
   "execution_count": 18,
   "metadata": {
    "collapsed": true
   },
   "outputs": [],
   "source": [
    "%%R\n",
    "registerDoParallel(cores=10)\n",
    "wunif.dist = distance(physeq.C13.thresh, \n",
    "                weighted = TRUE, \n",
    "                fast = TRUE, \n",
    "                normalized = FALSE, \n",
    "                parallel = TRUE)"
   ]
  },
  {
   "cell_type": "code",
   "execution_count": 19,
   "metadata": {
    "collapsed": false
   },
   "outputs": [
    {
     "data": {
      "text/plain": [
       "Run 0 stress 0.07046001 \n",
       "Run 1 stress 0.07052417 \n",
       "... procrustes: rmse 0.005046396  max resid 0.03585079 \n",
       "Run 2 stress 0.07043632 \n",
       "... New best solution\n",
       "... procrustes: rmse 0.003223506  max resid 0.02219706 \n",
       "Run 3 stress 0.07046154 \n",
       "... procrustes: rmse 0.003158794  max resid 0.02186536 \n",
       "Run 4 stress 0.07051117 \n",
       "... procrustes: rmse 0.005151491  max resid 0.03661141 \n",
       "Run 5 stress 0.07043422 \n",
       "... New best solution\n",
       "... procrustes: rmse 0.0005053508  max resid 0.002877478 \n",
       "*** Solution reached\n"
      ]
     },
     "metadata": {},
     "output_type": "display_data"
    }
   ],
   "source": [
    "%%R\n",
    "nmds = ordinate(physeq.C13.thresh, \n",
    "                method = \"NMDS\", \n",
    "                distance = wunif.dist)"
   ]
  },
  {
   "cell_type": "code",
   "execution_count": 20,
   "metadata": {
    "collapsed": true
   },
   "outputs": [],
   "source": [
    "%%R\n",
    "physeq.thresh.C13heavy = prune_samples(sample_data(physeq.C13.thresh)$Density >= 1.725, physeq.C13.thresh)"
   ]
  },
  {
   "cell_type": "code",
   "execution_count": 21,
   "metadata": {
    "collapsed": true
   },
   "outputs": [],
   "source": [
    "%%R\n",
    "wunif.dist.C13heavy = distance(physeq.thresh.C13heavy, method = \"unifrac\", weighted = TRUE)"
   ]
  },
  {
   "cell_type": "code",
   "execution_count": 22,
   "metadata": {
    "collapsed": false
   },
   "outputs": [
    {
     "data": {
      "text/plain": [
       "                           Sample FractionNum Bulk Control CC X100 X700 H2O Day\n",
       "13C.000.14.09.05 13C.000.14.09.05           5    0       0  1    0    0   0  14\n",
       "13C.000.28.06.05 13C.000.28.06.05           5    0       0  1    0    0   0  28\n",
       "13C.000.14.09.04 13C.000.14.09.04           4    0       0  1    0    0   0  14\n",
       "13C.000.14.09.08 13C.000.14.09.08           8    0       0  1    0    0   0  14\n",
       "13C.000.45.03.04 13C.000.45.03.04           4    0       0  1    0    0   0  45\n",
       "13C.000.45.03.09 13C.000.45.03.09           9    0       0  1    0    0   0  45\n",
       "                 Density rep contolVlabel Treatment\n",
       "13C.000.14.09.05  1.7537            label    13C000\n",
       "13C.000.28.06.05  1.7504            label    13C000\n",
       "13C.000.14.09.04  1.7603            label    13C000\n",
       "13C.000.14.09.08  1.7373            label    13C000\n",
       "13C.000.45.03.04  1.7559            label    13C000\n",
       "13C.000.45.03.09  1.7341            label    13C000\n"
      ]
     },
     "metadata": {},
     "output_type": "display_data"
    }
   ],
   "source": [
    "%%R\n",
    "#convert physeq object to a dataframe for adonis test\n",
    "df3 = sample_data(physeq.thresh.C13heavy)\n",
    "#convert dataframe from physeq to a traditional R dataframe because it has funky 'class'\n",
    "df3 = data.frame(df3)\n",
    "head(df3)"
   ]
  },
  {
   "cell_type": "code",
   "execution_count": 23,
   "metadata": {
    "collapsed": false
   },
   "outputs": [
    {
     "data": {
      "text/plain": [
       "\n",
       "Call:\n",
       "adonis(formula = wunif.dist.C13heavy ~ Day, data = df3, permutations = 1000) \n",
       "\n",
       "Permutation: free\n",
       "Number of permutations: 1000\n",
       "\n",
       "Terms added sequentially (first to last)\n",
       "\n",
       "          Df SumsOfSqs  MeanSqs F.Model      R2   Pr(>F)   \n",
       "Day        1   0.11232 0.112315  5.1898 0.19816 0.001998 **\n",
       "Residuals 21   0.45447 0.021641         0.80184            \n",
       "Total     22   0.56679                  1.00000            \n",
       "---\n",
       "Signif. codes:  0 ‘***’ 0.001 ‘**’ 0.01 ‘*’ 0.05 ‘.’ 0.1 ‘ ’ 1\n"
      ]
     },
     "metadata": {},
     "output_type": "display_data"
    }
   ],
   "source": [
    "%%R\n",
    "#to test if community composition in heavy fractions is different between days\n",
    "adonis.wunif.heavy = adonis(wunif.dist.C13heavy ~ Day, data = df3, permutations = 1000)\n",
    "adonis.wunif.heavy"
   ]
  }
 ],
 "metadata": {
  "kernelspec": {
   "display_name": "Python 2",
   "language": "python",
   "name": "python2"
  },
  "language_info": {
   "codemirror_mode": {
    "name": "ipython",
    "version": 2
   },
   "file_extension": ".py",
   "mimetype": "text/x-python",
   "name": "python",
   "nbconvert_exporter": "python",
   "pygments_lexer": "ipython2",
   "version": "2.7.9"
  }
 },
 "nbformat": 4,
 "nbformat_minor": 0
}
