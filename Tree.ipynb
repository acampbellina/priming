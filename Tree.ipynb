{
 "metadata": {
  "name": "",
  "signature": "sha256:a035d0f3a0cb7ad6542906b4a8cd81c195633eea01275dec4e3349927bef1a1e"
 },
 "nbformat": 3,
 "nbformat_minor": 0,
 "worksheets": [
  {
   "cells": [
    {
     "cell_type": "code",
     "collapsed": false,
     "input": [
      "from cogent.app.fasttree import build_tree_from_alignment\n",
      "from cogent import DNA, LoadSeqs\n",
      "from Bio import Entrez\n",
      "Entrez.email = \"chuck.peperanney@gmail.com\"\n",
      "import Itol, ItolExport\n",
      "import requests\n",
      "from IPython.display import display, Image"
     ],
     "language": "python",
     "metadata": {},
     "outputs": [],
     "prompt_number": 1
    },
    {
     "cell_type": "code",
     "collapsed": false,
     "input": [
      "!head /var/seq_data/priming_exp/otusn.pick.fasta"
     ],
     "language": "python",
     "metadata": {},
     "outputs": [
      {
       "output_type": "stream",
       "stream": "stdout",
       "text": [
        ">OTU.1\r\n",
        "TACGTAGGGCGCAAGCGTTATCCGGAATTATTGGGCGTAAAGAGCTCGTAGGCGGTTTGTCGCGTCTGCCGTGAAAGTCCGGGGCTCAACTCCGGATCTGCGGTGGGTACGGGCAGACTAGAGTGATGTAGGGGAGACTGGAATTCCTGGTGTAGCGGTGAAATGCGCAGATATCAGGAGGAACACCGATGGCGAAGGCAGGTCTCTGGGCATTAACTGACGCTGAGGAGCGAAAGCATGGGGAGCGAACAGGATTAGATACCCTGGTAGTCCATGCCGTAAACGTTGGGCACTAGGTGTGGGGGACATTCCACGTTTTCCGCGCCGTAGCTAACGCATTAAGTGCCCCGCCTGGGGAGTACGGCCGCAAGGCTA\r\n",
        ">OTU.2\r\n",
        "TACGAAGGGGGCTAGCGTTGTTCGGAATCACTGGGCGTAAAGGGCGCGTAGGCGGCTTTATAAGTCGGGGGTGAAAGCCTGTGGCTCAACCACAGAATTGCCTTCGATACTGTAGAGCTTGAGACCGGAAGAGGTAAGTGGAACTGCGAGTGTAGAGGTGAAATTCGTAGATATTCGCAAGAACACCAGTGGCGAAGGCGGCTTACTGGTCCGGTTCTGACGCTGAGGCGCGAAAGCGTGGGGAGCAAACAGGATTAGATACCCTGGTAGTCCACGCCGTAAACGATGAATGCCAGCCGTTGGCGAGCTTGCTCGTCAGTGGCGCAGCTAACGCTTTAAGCATTCCGCCTGGGGAGTACGGTCGCAAGATTA\r\n",
        ">OTU.3\r\n",
        "TACGGAGGGGACTAGCGTTGTTCGGAATTACTGGGCGTAAAGCGCACGTAGGCGGATTTGTAAGTCAGGGGTGAAATCCCGGGGCTCAACCTCGGAACTGCCTTTGATACTGCAAATCTCGAGTCCGGAAGAGGTGAGTGGAATTCCTAGTGTAGAGGTGAAATTCGTAGATATTAGGAAGAACACCAGTGGCGAAGGCGGCTCACTGGTCCGGTACTGACGCTGAGGTGCGAAAGCGTGGGGAGCAAACAGGATTAGATACCCTGGTAGTCCACGCCGTAAACTATGGGTGCTAGCCGTCGGGGAGCATGCTCTTCGGTGGCGCAGCAAACGCATTAAGCACCCCGCCTGGGGAGTACGGTCGCAAGATTA\r\n",
        ">OTU.4\r\n",
        "TACGGAGGGTGCAAGCGTTATCCGGATTCACTGGGTTTAAAGGGTGCGTAGGTGGGCAAGTAAGTCAGTGGTGAAATCTCCGGGCTTAACCCGGAAACTGCCATTGATACTATTTGTCTTGAATACTGTGGAGGTCAGCGGAATATGTCATGTAGCGGTGAAATGCTTAGATATGACATAGAACACCAATTGCGAAGGCAGCTGGCTACACAAATATTGACACTGAGGCACGAAAGCGTGGGGATCAAACAGGATTAGATACCCTGGTAGTCCACGCCCTAAACTATGGATACTCGACATTTGCGATAAACTGCAAGTGTCTGAGCGAAAGCATTAAGTATCCCACCTGGGAAGTACGATCGCAAGATTG\r\n",
        ">OTU.7\r\n",
        "TACGAAGGGGGCTAGCGTTGCTCGGAATCACTGGGCGTAAAGGGTGCGTAGGCGGGTCTTTAAGTCAGGGGTGAAATCCTGGAGCTCAACTCCAGAACTGCCTTTGATACTGAAGATCTTGAGTTCGGGAGAGGTGAGTGGAACTGCGAGTGTAGAGGTGAAATTCGTAGATATTCGCAAGAACACCAGTGGCGAAGGCGGCTCACTGGCCCGATACTGACGCTGAGGCACGAAAGCGTGGGGAGCAAACAGGATTAGATACCCTGGTAGTCCACGCCGTAAACGATGAATGCCAGCCGTTAGTGGGTTTACTCACTAGTGGCGCAGCTAACGCTTTAAGCATTCCGCCTGGGGAGTACGGTCGCAAGATTA\r\n"
       ]
      }
     ],
     "prompt_number": 10
    },
    {
     "cell_type": "code",
     "collapsed": false,
     "input": [
      "!grep -c \">\" /var/seq_data/priming_exp/otusn.pick.fasta"
     ],
     "language": "python",
     "metadata": {},
     "outputs": [
      {
       "output_type": "stream",
       "stream": "stdout",
       "text": [
        "10361\r\n"
       ]
      }
     ],
     "prompt_number": 11
    },
    {
     "cell_type": "code",
     "collapsed": false,
     "input": [
      "!ssu-prep -h"
     ],
     "language": "python",
     "metadata": {},
     "outputs": [
      {
       "output_type": "stream",
       "stream": "stdout",
       "text": [
        "# ssu-prep :: prepare SSU rRNA sequences for parallel ssu-align jobs\r\n",
        "# SSU-ALIGN 0.1 (June 2010)\r\n",
        "# Copyright (C) 2010 HHMI Janelia Farm Research Campus\r\n",
        "# Freely distributed under the GNU General Public License (GPLv3)\r\n",
        "# - - - - - - - - - - - - - - - - - - - - - - - - - - - - - - - - - - - -\r\n",
        "# command: ssu-prep -h \r\n",
        "# date:    Sun Oct 26 07:57:24 2014\r\n",
        "Usage: ssu-prep    [-options] <seqfile> <output dir> <num jobs> <prefix/suffix file>\r\n",
        "Usage: ssu-prep -x [-options] <seqfile> <output dir> <num jobs>\r\n",
        "Usage: ssu-prep -y [-options] <seqfile> <output dir> <num jobs>\r\n",
        "\r\n",
        "ssu-prep splits up <seqfile> into <num jobs> smaller files and creates a shell\r\n",
        "script that will execute <num jobs> ssu-align jobs in parallel, each processing\r\n",
        "one of the small sequence files. The results of all jobs will automatically be\r\n",
        "merged together by the final job, giving the same results as if a single\r\n",
        "ssu-align job was run for the complete <seqfile>.\r\n",
        "\r\n",
        "The 3 different usages control how the prefix and suffix are defined for the jobs\r\n",
        "in the output shell script, allowing, for example, the user to wrap the ssu-align\r\n",
        "commands in a cluster submission command (such as Sun Grid Engine's \"qsub\"):\r\n",
        "\r\n",
        "Default: (neither -x nor -y enabled) prefix and suffix for ssu-align jobs in\r\n",
        "         output shell script are defined in <prefix/suffix file>. First line is\r\n",
        "         the prefix, second line is the suffix.\r\n",
        "With -x: do not specify <prefix/suffix file>; output shell script will run all\r\n",
        "         <num jobs> jobs in parallel on one machine with <num jobs> cores/cpus.\r\n",
        "With -y: do not specify <prefix/suffix file>; user will manually add the desired\r\n",
        "         prefix/suffix to ssu-align commands after ssu-prep finishes.\r\n",
        "\r\n",
        "where general options are:\r\n",
        "  -h           : show brief help on version and usage\r\n",
        "  -f           : force; if dir named <output dir> already exists, empty it first\r\n",
        "  -q           : third command line arg is number of seqs per job, not number of jobs\r\n",
        "  -e           : split seqs so each job has an equal number of seqs, not nucleotides\r\n",
        "  --no-bash    : write generic shell script instead of a bash-specific one\r\n",
        "  --no-merge   : do not have final ssu-align job automatically merge all jobs\r\n",
        "  --keep-merge : have final ssu-align job not remove small files as they are merged\r\n",
        "\r\n",
        "general options to use for ssu-align jobs:\r\n",
        "  -m <f> : use CM file <f> instead of the default CM file\r\n",
        "  -b <x> : set minimum bit score of a surviving subsequence as <x> [default: 50]\r\n",
        "  -l <n> : set minimum length    of a surviving subsequence as <n> [default: 1]\r\n",
        "  -i     : output alignments in interleaved Stockholm format (not 1 line/seq)\r\n",
        "  -n <s> : only search with and align to single CM named <s> in CM file\r\n",
        "           (default CM file includes 'archaea', 'bacteria', 'eukarya')\r\n",
        "\r\n",
        "miscellaneous output options for ssu-align jobs:\r\n",
        "  --dna      : output alignments as DNA, default is RNA (even if input is DNA)\r\n",
        "  --rfonly   : discard inserts, only keep consensus (nongap RF) columns in alignments\r\n",
        "               (alignments will be fixed width but won't include all target nucleotides)\r\n",
        "\r\n",
        "options for skipping the 1st (search) stage or 2nd (alignment) stage in ssu-align:\r\n",
        "  --no-align  : only search target sequence file for hits, skip alignment step\r\n",
        "  --no-search : only align  target sequence file, skip initial search step\r\n",
        "\r\n",
        "expert options for tuning the initial search stage in ssu-align jobs:\r\n",
        "  --toponly  : only search the top strand [default: search both strands]\r\n",
        "  --forward  : use the HMM forward algorithm for searching, not HMM viterbi\r\n",
        "  --global   : search with globally configured HMM [default: local]\r\n",
        "  --keep-int : keep intermediate files which are normally removed\r\n",
        "\r\n",
        "expert options for tuning the alignment stage in ssu-align jobs:\r\n",
        "  --aln-one <s> : only align best-matching sequences to the CM named <s> in CM file\r\n",
        "  --no-trunc    : do not truncate seqs to HMM predicted start/end, align full seqs\r\n",
        "  --no-prob     : do not append posterior probabilities to alignments\r\n",
        "  --mxsize <f>  : increase mx size for cmalign to <f> Mb [default: 4096]\r\n"
       ]
      }
     ],
     "prompt_number": 12
    },
    {
     "cell_type": "code",
     "collapsed": false,
     "input": [
      "!ssu-prep -x -f -e --dna --rfonly /var/seq_data/priming_exp/otusn.pick.fasta ssu-aln 20"
     ],
     "language": "python",
     "metadata": {},
     "outputs": [
      {
       "output_type": "stream",
       "stream": "stdout",
       "text": [
        "# ssu-prep :: prepare SSU rRNA sequences for parallel ssu-align jobs\r\n",
        "# SSU-ALIGN 0.1 (June 2010)\r\n",
        "# Copyright (C) 2010 HHMI Janelia Farm Research Campus\r\n",
        "# Freely distributed under the GNU General Public License (GPLv3)\r\n",
        "# - - - - - - - - - - - - - - - - - - - - - - - - - - - - - - - - - - - -\r\n",
        "# command: ssu-prep -x -e -f --dna --rfonly /var/seq_data/priming_exp/otusn.pick.fasta ssu-aln 20\r\n",
        "# date:    Sun Oct 26 08:07:33 2014\r\n"
       ]
      },
      {
       "output_type": "stream",
       "stream": "stdout",
       "text": [
        "#\r\n",
        "# Validating input sequence file ... "
       ]
      },
      {
       "output_type": "stream",
       "stream": "stdout",
       "text": [
        "done.\r\n",
        "#\r\n",
        "# Preparing 20 ssu-align jobs ...\r\n",
        "# Partitioning seqs with goal of equalizing number of sequences per job ...\r\n",
        "#\r\n",
        "# output file name      description                                     \r\n",
        "# --------------------  ------------------------------------------------\r\n",
        "  ssu-aln/otusn.pick.fasta.1  partition  1 FASTA sequence file (519 seqs)\r\n"
       ]
      },
      {
       "output_type": "stream",
       "stream": "stdout",
       "text": [
        "  ssu-aln/otusn.pick.fasta.2  partition  2 FASTA sequence file (518 seqs)\r\n",
        "  ssu-aln/otusn.pick.fasta.3  partition  3 FASTA sequence file (518 seqs)\r\n",
        "  ssu-aln/otusn.pick.fasta.4  partition  4 FASTA sequence file (518 seqs)\r\n",
        "  ssu-aln/otusn.pick.fasta.5  partition  5 FASTA sequence file (518 seqs)\r\n",
        "  ssu-aln/otusn.pick.fasta.6  partition  6 FASTA sequence file (518 seqs)\r\n",
        "  ssu-aln/otusn.pick.fasta.7  partition  7 FASTA sequence file (518 seqs)\r\n",
        "  ssu-aln/otusn.pick.fasta.8  partition  8 FASTA sequence file (518 seqs)\r\n",
        "  ssu-aln/otusn.pick.fasta.9  partition  9 FASTA sequence file (518 seqs)\r\n",
        "  ssu-aln/otusn.pick.fasta.10  partition 10 FASTA sequence file (518 seqs)\r\n",
        "  ssu-aln/otusn.pick.fasta.11  partition 11 FASTA sequence file (518 seqs)\r\n",
        "  ssu-aln/otusn.pick.fasta.12  partition 12 FASTA sequence file (518 seqs)\r\n",
        "  ssu-aln/otusn.pick.fasta.13  partition 13 FASTA sequence file (518 seqs)\r\n",
        "  ssu-aln/otusn.pick.fasta.14  partition 14 FASTA sequence file (518 seqs)\r\n",
        "  ssu-aln/otusn.pick.fasta.15  partition 15 FASTA sequence file (518 seqs)\r\n",
        "  ssu-aln/otusn.pick.fasta.16  partition 16 FASTA sequence file (518 seqs)\r\n",
        "  ssu-aln/otusn.pick.fasta.17  partition 17 FASTA sequence file (518 seqs)\r\n",
        "  ssu-aln/otusn.pick.fasta.18  partition 18 FASTA sequence file (518 seqs)\r\n",
        "  ssu-aln/otusn.pick.fasta.19  partition 19 FASTA sequence file (518 seqs)\r\n",
        "  ssu-aln/otusn.pick.fasta.20  partition 20 FASTA sequence file (518 seqs)\r\n",
        "  ssu-aln.ssu-align.sh  shell script that will execute 20 ssu-align jobs\r\n",
        "#\r\n",
        "################################################################################\r\n",
        "# To execute all 20 ssu-align jobs, run the shell script with the command:\r\n",
        "#\t\"ssu-aln.ssu-align.sh\"\r\n",
        "# (it is an executable file)\r\n",
        "################################################################################\r\n",
        "#\r\n",
        "# The final job will merge the output from all jobs once they are all finished.\r\n",
        "#\r\n",
        "# If one or more jobs fail: rerun the failed jobs, wait for them to finish,\r\n",
        "# and then perform manual merge from this directory by executing:\r\n",
        "#\tssu-merge ssu-aln\r\n",
        "#\r\n",
        "# List of executed commands saved in:     ssu-aln/ssu-aln.ssu-prep.log.\r\n",
        "# Output printed to the screen saved in:  ssu-aln/ssu-aln.ssu-prep.sum.\r\n",
        "#\r\n",
        "# CPU time:  00:00:00.19  (hh:mm:ss)\r\n",
        "# \r\n"
       ]
      }
     ],
     "prompt_number": 32
    },
    {
     "cell_type": "code",
     "collapsed": false,
     "input": [
      "!./ssu-aln.ssu-align.sh"
     ],
     "language": "python",
     "metadata": {},
     "outputs": [
      {
       "output_type": "stream",
       "stream": "stdout",
       "text": [
        "# Executing: ssu-align --dna --rfonly ssu-aln/otusn.pick.fasta.1 ssu-aln/ssu-aln.1 > /dev/null &\r\n",
        "# Executing: ssu-align --dna --rfonly ssu-aln/otusn.pick.fasta.2 ssu-aln/ssu-aln.2 > /dev/null &\r\n",
        "# Executing: ssu-align --dna --rfonly ssu-aln/otusn.pick.fasta.3 ssu-aln/ssu-aln.3 > /dev/null &\r\n",
        "# Executing: ssu-align --dna --rfonly ssu-aln/otusn.pick.fasta.4 ssu-aln/ssu-aln.4 > /dev/null &\r\n",
        "# Executing: ssu-align --dna --rfonly ssu-aln/otusn.pick.fasta.5 ssu-aln/ssu-aln.5 > /dev/null &\r\n",
        "# Executing: ssu-align --dna --rfonly ssu-aln/otusn.pick.fasta.6 ssu-aln/ssu-aln.6 > /dev/null &\r\n",
        "# Executing: ssu-align --dna --rfonly ssu-aln/otusn.pick.fasta.7 ssu-aln/ssu-aln.7 > /dev/null &\r\n",
        "# Executing: ssu-align --dna --rfonly ssu-aln/otusn.pick.fasta.8 ssu-aln/ssu-aln.8 > /dev/null &\r\n",
        "# Executing: ssu-align --dna --rfonly ssu-aln/otusn.pick.fasta.9 ssu-aln/ssu-aln.9 > /dev/null &\r\n",
        "# Executing: ssu-align --dna --rfonly ssu-aln/otusn.pick.fasta.10 ssu-aln/ssu-aln.10 > /dev/null &\r\n",
        "# Executing: ssu-align --dna --rfonly ssu-aln/otusn.pick.fasta.11 ssu-aln/ssu-aln.11 > /dev/null &\r\n",
        "# Executing: ssu-align --dna --rfonly ssu-aln/otusn.pick.fasta.12 ssu-aln/ssu-aln.12 > /dev/null &\r\n",
        "# Executing: ssu-align --dna --rfonly ssu-aln/otusn.pick.fasta.13 ssu-aln/ssu-aln.13 > /dev/null &\r\n",
        "# Executing: ssu-align --dna --rfonly ssu-aln/otusn.pick.fasta.14 ssu-aln/ssu-aln.14 > /dev/null &\r\n",
        "# Executing: ssu-align --dna --rfonly ssu-aln/otusn.pick.fasta.15 ssu-aln/ssu-aln.15 > /dev/null &\r\n",
        "# Executing: ssu-align --dna --rfonly ssu-aln/otusn.pick.fasta.16 ssu-aln/ssu-aln.16 > /dev/null &\r\n",
        "# Executing: ssu-align --dna --rfonly ssu-aln/otusn.pick.fasta.17 ssu-aln/ssu-aln.17 > /dev/null &\r\n",
        "# Executing: ssu-align --dna --rfonly ssu-aln/otusn.pick.fasta.18 ssu-aln/ssu-aln.18 > /dev/null &\r\n",
        "# Executing: ssu-align --dna --rfonly ssu-aln/otusn.pick.fasta.19 ssu-aln/ssu-aln.19 > /dev/null &\r\n",
        "# Executing: ssu-align --merge 20 --dna --rfonly ssu-aln/otusn.pick.fasta.20 ssu-aln/ssu-aln.20\r\n"
       ]
      },
      {
       "output_type": "stream",
       "stream": "stdout",
       "text": [
        "# ssu-align :: align SSU rRNA sequences\r\n",
        "# SSU-ALIGN 0.1 (June 2010)\r\n",
        "# Copyright (C) 2010 HHMI Janelia Farm Research Campus\r\n",
        "# Freely distributed under the GNU General Public License (GPLv3)\r\n",
        "# - - - - - - - - - - - - - - - - - - - - - - - - - - - - - - - - - - - -\r\n",
        "# command: ssu-align --merge 20 --dna --rfonly ssu-aln/otusn.pick.fasta.20 ssu-aln/ssu-aln.20\r\n",
        "# date:    Sun Oct 26 08:07:46 2014\r\n"
       ]
      },
      {
       "output_type": "stream",
       "stream": "stdout",
       "text": [
        "#\r\n",
        "# Validating input sequence file ... done.\r\n",
        "#\r\n",
        "# Stage 1: Determining SSU start/end positions and best-matching models...\r\n",
        "#\r\n",
        "# output file name             description                                \r\n",
        "# ---------------------------  -------------------------------------------\r\n"
       ]
      },
      {
       "output_type": "stream",
       "stream": "stdout",
       "text": [
        "  ssu-aln.20.tab               locations/scores of hits defined by HMM(s)\r\n",
        "  ssu-aln.20.bacteria.hitlist  list of sequences to align with bacteria CM\r\n",
        "  ssu-aln.20.bacteria.fa           518 sequences to align with bacteria CM\r\n",
        "#\r\n",
        "# Stage 2: Aligning each sequence to its best-matching model...\r\n",
        "#\r\n",
        "# output file name             description\r\n",
        "# ---------------------------  ---------------------------------------\r\n"
       ]
      },
      {
       "output_type": "stream",
       "stream": "stdout",
       "text": [
        "  ssu-aln.20.bacteria.stk      bacteria alignment\r\n",
        "  ssu-aln.20.bacteria.cmalign  bacteria cmalign output\r\n",
        "  ssu-aln.20.bacteria.ifile    bacteria insert info\r\n",
        "  ssu-aln.20.scores            list of CM/HMM scores for each sequence\r\n",
        "#\r\n",
        "# Summary statistics:\r\n",
        "#\r\n",
        "# model or       number  fraction        average   average               \r\n",
        "# category      of seqs  of total         length  coverage    nucleotides\r\n",
        "# ------------  -------  --------  -------------  --------  -------------\r\n",
        "  *input*           518    1.0000         373.59    1.0000         193520\r\n",
        "#\r\n",
        "  archaea             0    0.0000              -         -              0\r\n"
       ]
      },
      {
       "output_type": "stream",
       "stream": "stdout",
       "text": [
        "  bacteria          518    1.0000         372.92    0.9982         193171\r\n",
        "  eukarya             0    0.0000              -         -              0\r\n",
        "#\r\n",
        "  *all-models*      518    1.0000         372.92    0.9982         193171\r\n",
        "  *no-models*         0    0.0000              -         -              0\r\n",
        "#\r\n",
        "# Speed statistics:\r\n",
        "#\r\n",
        "# stage      num seqs  seq/sec  seq/sec/model    nucleotides    nt/sec\r\n",
        "# ---------  --------  -------  -------------  -------------  --------\r\n",
        "  search          518   14.056          4.685         193520    5251.2\r\n",
        "  alignment       518   14.639         14.639         193171    5459.1\r\n",
        "#\r\n",
        "#\r\n",
        "# List of executed commands saved in:     ssu-aln.20.ssu-align.log.\r\n",
        "# Output printed to the screen saved in:  ssu-aln.20.ssu-align.sum.\r\n",
        "#\r\n",
        "# All output files created in directory ./ssu-aln/ssu-aln.20/\r\n",
        "#\r\n",
        "# CPU time (search):     00:00:36.85  (hh:mm:ss)\r\n",
        "# CPU time (alignment):  00:00:35.39  (hh:mm:ss)\r\n",
        "# CPU time (total):      00:01:12.37  (hh:mm:ss)\r\n",
        "#\r\n",
        "################################################################################\r\n",
        "#\r\n",
        "# Alignments successfully created.\r\n",
        "#\r\n",
        "# Checking/waiting for other jobs to finish before merging...\r\n",
        "#\r\n",
        "# Job  7 (dir: ssu-aln/ssu-aln.7 ) completed successfully! 19/20 still incomplete.\r\n",
        "# Job  8 (dir: ssu-aln/ssu-aln.8 ) completed successfully! 18/20 still incomplete.\r\n",
        "# Job  9 (dir: ssu-aln/ssu-aln.9 ) completed successfully! 17/20 still incomplete.\r\n",
        "# Job 10 (dir: ssu-aln/ssu-aln.10) completed successfully! 16/20 still incomplete.\r\n",
        "# Job 12 (dir: ssu-aln/ssu-aln.12) completed successfully! 15/20 still incomplete.\r\n",
        "# Job 15 (dir: ssu-aln/ssu-aln.15) completed successfully! 14/20 still incomplete.\r\n",
        "# Job 20 (dir: ssu-aln/ssu-aln.20) completed successfully! 13/20 still incomplete.\r\n"
       ]
      },
      {
       "output_type": "stream",
       "stream": "stdout",
       "text": [
        "# Job  1 (dir: ssu-aln/ssu-aln.1 ) completed successfully! 12/20 still incomplete.\r\n",
        "# Job  2 (dir: ssu-aln/ssu-aln.2 ) completed successfully! 11/20 still incomplete.\r\n",
        "# Job  3 (dir: ssu-aln/ssu-aln.3 ) completed successfully! 10/20 still incomplete.\r\n",
        "# Job  4 (dir: ssu-aln/ssu-aln.4 ) completed successfully!  9/20 still incomplete.\r\n",
        "# Job  5 (dir: ssu-aln/ssu-aln.5 ) completed successfully!  8/20 still incomplete.\r\n",
        "# Job  6 (dir: ssu-aln/ssu-aln.6 ) completed successfully!  7/20 still incomplete.\r\n",
        "# Job 11 (dir: ssu-aln/ssu-aln.11) completed successfully!  6/20 still incomplete.\r\n",
        "# Job 13 (dir: ssu-aln/ssu-aln.13) completed successfully!  5/20 still incomplete.\r\n",
        "# Job 14 (dir: ssu-aln/ssu-aln.14) completed successfully!  4/20 still incomplete.\r\n",
        "# Job 16 (dir: ssu-aln/ssu-aln.16) completed successfully!  3/20 still incomplete.\r\n",
        "# Job 17 (dir: ssu-aln/ssu-aln.17) completed successfully!  2/20 still incomplete.\r\n",
        "# Job 18 (dir: ssu-aln/ssu-aln.18) completed successfully!  1/20 still incomplete.\r\n",
        "# Job 19 (dir: ssu-aln/ssu-aln.19) completed successfully!  0/20 still incomplete.\r\n",
        "#\r\n",
        "# All 20 jobs successfully completed.\r\n",
        "# About to merge their output:\r\n",
        "#\r\n",
        "# Executing:  ssu-merge ssu-aln\r\n",
        "#\r\n",
        "################################################################################\r\n",
        "#\r\n"
       ]
      },
      {
       "output_type": "stream",
       "stream": "stdout",
       "text": [
        "# ssu-merge :: merge SSU rRNA alignments\r\n",
        "# SSU-ALIGN 0.1 (June 2010)\r\n",
        "# Copyright (C) 2010 HHMI Janelia Farm Research Campus\r\n",
        "# Freely distributed under the GNU General Public License (GPLv3)\r\n",
        "# - - - - - - - - - - - - - - - - - - - - - - - - - - - - - - - - - - - -\r\n",
        "# command: ssu-merge ssu-aln\r\n",
        "# date:    Sun Oct 26 08:09:02 2014\r\n"
       ]
      },
      {
       "output_type": "stream",
       "stream": "stdout",
       "text": [
        "#\r\n",
        "# Merging files from 20 ssu-align runs...\r\n",
        "#\r\n",
        "#                                     # files     # seqs\r\n",
        "# merged file name          CM name    merged     merged\r\n",
        "# ------------------------  --------  -------  ---------\r\n",
        "  ssu-aln.tab               -              20          -\r\n",
        "  ssu-aln.scores            -              20          -\r\n",
        "  ssu-aln.ssu-align.sum     -              20          -\r\n",
        "  ssu-aln.ssu-align.log     -              20          -\r\n",
        "#\r\n"
       ]
      },
      {
       "output_type": "stream",
       "stream": "stdout",
       "text": [
        "  ssu-aln.bacteria.fa       bacteria       20      10361\r\n",
        "  ssu-aln.bacteria.hitlist  bacteria       20      10361\r\n"
       ]
      },
      {
       "output_type": "stream",
       "stream": "stdout",
       "text": [
        "  ssu-aln.bacteria.cmalign  bacteria       20      10361\r\n"
       ]
      },
      {
       "output_type": "stream",
       "stream": "stdout",
       "text": [
        "  ssu-aln.bacteria.ifile    bacteria       20      10361\r\n",
        "  ssu-aln.bacteria.stk      bacteria       20      10361\r\n",
        "#\r\n",
        "#\r\n",
        "# Summary statistics:\r\n",
        "#\r\n",
        "# model or       number  fraction        average   average               \r\n",
        "# category      of seqs  of total         length  coverage    nucleotides\r\n",
        "# ------------  -------  --------  -------------  --------  -------------\r\n",
        "  *input*         10361    1.0000         373.46    1.0000        3869392\r\n",
        "#\r\n",
        "  archaea             0    0.0000              -         -              0\r\n",
        "  bacteria        10361    1.0000         372.33    0.9970        3857717\r\n",
        "  eukarya             0    0.0000              -         -              0\r\n",
        "#\r\n",
        "  *all-models*    10361    1.0000         372.33    0.9970        3857717\r\n",
        "  *no-models*         0    0.0000              -         -              0\r\n",
        "#\r\n",
        "# Speed statistics:\r\n",
        "#\r\n",
        "# stage      num seqs  seq/sec  seq/sec/model    nucleotides    nt/sec\r\n",
        "# ---------  --------  -------  -------------  -------------  --------\r\n",
        "  search        10361  10361.000       3453.667        3869392  3869392.0\r\n",
        "  alignment     10361  10361.000      10361.000        3857717  3857717.0\r\n",
        "#\r\n",
        "# Summed ssu-align CPU time (search):     00:00:00.00  (hh:mm:ss)\r\n",
        "# Summed ssu-align CPU time (alignment):  00:00:00.00  (hh:mm:ss)\r\n",
        "# Summed ssu-align CPU time (total):      00:00:00.00  (hh:mm:ss)\r\n",
        "#\r\n",
        "# Cleaning up by removing original files that were just merged ... done.\r\n",
        "#\r\n",
        "# List of executed commands saved in:     ssu-aln.ssu-merge.log.\r\n",
        "# Output printed to the screen saved in:  ssu-aln.ssu-merge.sum.\r\n",
        "#\r\n",
        "# All output files created in directory ./ssu-aln/\r\n",
        "#\r\n",
        "# CPU time:  00:00:00.31  (hh:mm:ss)\r\n",
        "# \r\n"
       ]
      }
     ],
     "prompt_number": 33
    },
    {
     "cell_type": "code",
     "collapsed": false,
     "input": [
      "!ssu-mask --dna --afa ssu-aln/"
     ],
     "language": "python",
     "metadata": {},
     "outputs": [
      {
       "output_type": "stream",
       "stream": "stdout",
       "text": [
        "# ssu-mask :: mask SSU rRNA alignments\r\n",
        "# SSU-ALIGN 0.1 (June 2010)\r\n",
        "# Copyright (C) 2010 HHMI Janelia Farm Research Campus\r\n",
        "# Freely distributed under the GNU General Public License (GPLv3)\r\n",
        "# - - - - - - - - - - - - - - - - - - - - - - - - - - - - - - - - - - - -\r\n",
        "# command: ssu-mask --afa --dna ssu-aln/\r\n",
        "# date:    Sun Oct 26 08:10:16 2014\r\n"
       ]
      },
      {
       "output_type": "stream",
       "stream": "stdout",
       "text": [
        "#\r\n",
        "# Masking alignments based on posterior probabilities...\r\n",
        "#\r\n",
        "#                                                     mask    \r\n",
        "#                                                 ------------\r\n",
        "# file name                  in/out  type  #cols  incl.  excl.\r\n",
        "# -------------------------  ------  ----  -----  -----  -----\r\n"
       ]
      },
      {
       "output_type": "stream",
       "stream": "stdout",
       "text": [
        "  ssu-aln.bacteria.stk        input   aln   1582      -      -\r\n",
        "  ssu-aln.bacteria.mask      output  mask   1582    360   1222\r\n"
       ]
      },
      {
       "output_type": "stream",
       "stream": "stdout",
       "text": [
        "  ssu-aln.bacteria.mask.pdf  output   pdf   1582    360   1222\r\n"
       ]
      },
      {
       "output_type": "stream",
       "stream": "stdout",
       "text": [
        "  ssu-aln.bacteria.mask.afa  output   aln    360      -      -\r\n",
        "#\r\n",
        "# All attempts to draw structure diagrams of masks were successful.\r\n",
        "#\r\n",
        "# List of executed commands saved in:     ssu-aln.ssu-mask.log.\r\n",
        "# Output printed to the screen saved in:  ssu-aln.ssu-mask.sum.\r\n",
        "#\r\n",
        "# All output files created in directory ./ssu-aln/\r\n",
        "#\r\n",
        "# CPU time:  00:00:01.46  (hh:mm:ss)\r\n",
        "# \r\n"
       ]
      }
     ],
     "prompt_number": 35
    },
    {
     "cell_type": "code",
     "collapsed": false,
     "input": [
      "!head ssu-aln/ssu-aln.bacteria.mask.afa"
     ],
     "language": "python",
     "metadata": {},
     "outputs": [
      {
       "output_type": "stream",
       "stream": "stdout",
       "text": [
        ">OTU.1\r\n",
        "TACGTAGGGCGCAAGCGTTATCCGGAATTATTGGGCGTAAAGAGCTCGTAGGCGGTTTGT\r\n",
        "CGCGTCTGCCGTGAAAGTCCGGGGCTCAACTCCGGATCCGGTGGGTACGGGCAGACTAGA\r\n",
        "GTGATGTAGGGGAGACTGGAATTCCTGGTGTAGCGGTGAAATGCGCAGATATCAGGAGGA\r\n",
        "ACACCGATGGCGAAGGCAGGTCTCTGGGCATCTGACGCTGAGGAGCGAAAGCATGGGGAG\r\n",
        "CGAACAGGATTAGATACCCTGGTAGTCCATGCCGTAAACGTTGGGCACTAGGTGTGGGGG\r\n",
        "ATTTCCGCGCCGTAGCTAACGCATTAAGTGCCCCGCCTGGGGAGTACGGCCGCAAGGCTA\r\n",
        ">OTU.2\r\n",
        "TACGAAGGGGGCTAGCGTTGTTCGGAATCACTGGGCGTAAAGGGCGCGTAGGCGGCTTTA\r\n",
        "TAAGTCGGGGGTGAAAGCCTGTGGCTCAACCACAGAATCCTTCGATACTGTAGAGCTTGA\r\n"
       ]
      }
     ],
     "prompt_number": 45
    },
    {
     "cell_type": "heading",
     "level": 3,
     "metadata": {},
     "source": [
      "We use Sulfolobus as the root (acc. X90478)."
     ]
    },
    {
     "cell_type": "code",
     "collapsed": false,
     "input": [
      "sso_acc = \"X90478\"\n",
      "sso_fa = Entrez.efetch(db=\"nucleotide\", id=sso_acc, rettype=\"fasta\", retmode=\"text\").readlines()"
     ],
     "language": "python",
     "metadata": {},
     "outputs": [],
     "prompt_number": 37
    },
    {
     "cell_type": "code",
     "collapsed": false,
     "input": [
      "out = open(\"data/X90478.fasta\", \"w\")\n",
      "sso_fa_namestrip = sso_fa[1:]\n",
      "sso_fa_namestrip.insert(0,\">%s\\n\"%sso_acc)\n",
      "out.writelines(sso_fa_namestrip)\n",
      "out.close()\n",
      "!head -n 2 data/X90478.fasta"
     ],
     "language": "python",
     "metadata": {},
     "outputs": [
      {
       "output_type": "stream",
       "stream": "stdout",
       "text": [
        ">X90478\r\n",
        "TCCTGCCGGTCCCGACCGCTATCGGGGTGGGGCTAAGCCATGGGAGTCGTACGCTCCCGGGCAAGGGAGC\r\n"
       ]
      }
     ],
     "prompt_number": 38
    },
    {
     "cell_type": "heading",
     "level": 3,
     "metadata": {},
     "source": [
      "Align the outgroup to the same cm (use the same mask that was established earlier)."
     ]
    },
    {
     "cell_type": "code",
     "collapsed": false,
     "input": [
      "!ssu-align -f -n bacteria --dna --rfonly data/X90478.fasta data/sso_aln > /dev/null"
     ],
     "language": "python",
     "metadata": {},
     "outputs": [],
     "prompt_number": 41
    },
    {
     "cell_type": "code",
     "collapsed": false,
     "input": [
      "!ssu-mask -s ssu-aln/ssu-aln.bacteria.mask --dna --afa data/sso_aln/ #> /dev/null"
     ],
     "language": "python",
     "metadata": {},
     "outputs": [
      {
       "output_type": "stream",
       "stream": "stdout",
       "text": [
        "# ssu-mask :: mask SSU rRNA alignments\r\n",
        "# SSU-ALIGN 0.1 (June 2010)\r\n",
        "# Copyright (C) 2010 HHMI Janelia Farm Research Campus\r\n",
        "# Freely distributed under the GNU General Public License (GPLv3)\r\n",
        "# - - - - - - - - - - - - - - - - - - - - - - - - - - - - - - - - - - - -\r\n",
        "# command: ssu-mask -s ssu-aln/ssu-aln.bacteria.mask --afa --dna data/sso_aln/\r\n",
        "# date:    Sun Oct 26 09:40:03 2014\r\n"
       ]
      },
      {
       "output_type": "stream",
       "stream": "stdout",
       "text": [
        "#\r\n",
        "# Masking alignments using pre-existing masks...\r\n",
        "#\r\n",
        "#                                                     mask    \r\n",
        "#                                                 ------------\r\n",
        "# file name                  in/out  type  #cols  incl.  excl.\r\n",
        "# -------------------------  ------  ----  -----  -----  -----\r\n",
        "  sso_aln.bacteria.stk        input   aln   1582      -      -\r\n",
        "  ssu-aln.bacteria.mask       input  mask   1582    360   1222\r\n"
       ]
      },
      {
       "output_type": "stream",
       "stream": "stdout",
       "text": [
        "  sso_aln.bacteria.mask.pdf  output   pdf   1582    360   1222\r\n",
        "  sso_aln.bacteria.mask.afa  output   aln    360      -      -\r\n",
        "#\r\n",
        "# All attempts to draw structure diagrams of masks were successful.\r\n",
        "#\r\n",
        "# List of executed commands saved in:     sso_aln.ssu-mask.log.\r\n",
        "# Output printed to the screen saved in:  sso_aln.ssu-mask.sum.\r\n",
        "#\r\n",
        "# All output files created in directory ./data/sso_aln/\r\n",
        "#\r\n",
        "# CPU time:  00:00:00.45  (hh:mm:ss)\r\n",
        "# \r\n"
       ]
      }
     ],
     "prompt_number": 47
    },
    {
     "cell_type": "code",
     "collapsed": false,
     "input": [
      "!cat data/sso_aln/sso_aln.bacteria.mask.afa"
     ],
     "language": "python",
     "metadata": {},
     "outputs": [
      {
       "output_type": "stream",
       "stream": "stdout",
       "text": [
        ">X90478\r\n",
        "TACCAGCCCCGCGAG---TGGTCGGGATTACTGGGCCTAAAGCGCCCGTAGCCGGCCCGA\r\n",
        "CAAGTCACTCCTTAAAGACCCCGGCTCAACCGGGGGAAGGGGTGATACTGTCGGGCTAGG\r\n",
        "GGGCGGGAGAGGCCAGCGGTACTCCCGGAGTAGGGGCGAAATCCTCAGATCTCGGGAGGA\r\n",
        "CCACCAGTGGCGAAAGCGGCTGGCTAGAACGCCGACGGTGAGGGGCGAAAGCCGGGGCAG\r\n",
        "CAAAAGGGATTAGATACCCCTGTAGTCCCGGCTGTAAACAATGCAGGCTAGGTGTCACAT\r\n",
        "GATGTGGTGCCGCAGGGAAGCCGTTAAGCCTGCCGCCTGGGGAGTACGGTCGCAAGACTG\r\n"
       ]
      }
     ],
     "prompt_number": 61
    },
    {
     "cell_type": "code",
     "collapsed": false,
     "input": [
      "!cat data/sso_aln/sso_aln.bacteria.mask.afa \\\n",
      "ssu-aln/ssu-aln.bacteria.mask.afa > data/aln_for_tree.fasta"
     ],
     "language": "python",
     "metadata": {},
     "outputs": [],
     "prompt_number": 62
    },
    {
     "cell_type": "heading",
     "level": 3,
     "metadata": {},
     "source": [
      "Build and root the tree.\n"
     ]
    },
    {
     "cell_type": "code",
     "collapsed": false,
     "input": [
      "aln = LoadSeqs(\"data/aln_for_tree.fasta\", moltype=DNA)\n",
      "t_unroot = build_tree_from_alignment(aln, moltype=DNA)"
     ],
     "language": "python",
     "metadata": {},
     "outputs": [],
     "prompt_number": 63
    },
    {
     "cell_type": "code",
     "collapsed": false,
     "input": [
      "t_rooted = t_unroot.rootedWithTip(sso_acc)"
     ],
     "language": "python",
     "metadata": {},
     "outputs": [],
     "prompt_number": 64
    },
    {
     "cell_type": "code",
     "collapsed": false,
     "input": [
      "t_rooted.writeToFile(\"/var/seq_data/priming_exp/data/otusn.tree\")"
     ],
     "language": "python",
     "metadata": {},
     "outputs": [],
     "prompt_number": 67
    },
    {
     "cell_type": "heading",
     "level": 3,
     "metadata": {},
     "source": [
      "\n",
      "Upload the tree to Itol to get a nice figure."
     ]
    },
    {
     "cell_type": "code",
     "collapsed": false,
     "input": [
      "itol_uploader = Itol.Itol()\n",
      "url = itol_uploader.comm.upload_url"
     ],
     "language": "python",
     "metadata": {},
     "outputs": [],
     "prompt_number": 68
    },
    {
     "cell_type": "code",
     "collapsed": false,
     "input": [
      "r = requests.post(url, files={'treeFile': open(\"/var/seq_data/priming_exp/data/otusn.tree\",'rb')})\n",
      "tree_id = r.text.split()[1]"
     ],
     "language": "python",
     "metadata": {},
     "outputs": [],
     "prompt_number": 69
    },
    {
     "cell_type": "code",
     "collapsed": false,
     "input": [
      "itol_exporter = ItolExport.ItolExport()\n",
      "itol_exporter.add_export_param_dict({'tree':tree_id})\n",
      "itol_exporter.add_export_param_dict({'format':'png'})\n",
      "itol_exporter.export(\"/var/seq_data/priming_exp/data/otusn.tree.png\")"
     ],
     "language": "python",
     "metadata": {},
     "outputs": [],
     "prompt_number": 70
    },
    {
     "cell_type": "code",
     "collapsed": false,
     "input": [
      "i = Image(filename=\"/var/seq_data/priming_exp/data/otusn.tree.png\", width=600)\n",
      "display(i)"
     ],
     "language": "python",
     "metadata": {},
     "outputs": [
      {
       "metadata": {
        "png": {
         "width": 600
        }
       },
       "output_type": "display_data",
       "png": "[encoded data removed]",
       "text": [
        "<IPython.core.display.Image at 0x7f79d5e052d0>"
       ]
      }
     ],
     "prompt_number": 71
    }
   ],
   "metadata": {}
  }
 ]
}