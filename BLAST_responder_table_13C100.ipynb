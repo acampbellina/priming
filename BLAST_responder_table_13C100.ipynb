{
 "cells": [
  {
   "cell_type": "markdown",
   "metadata": {},
   "source": [
    "## Create Responder Table of BLAST results"
   ]
  },
  {
   "cell_type": "code",
   "execution_count": 1,
   "metadata": {
    "collapsed": false
   },
   "outputs": [
    {
     "name": "stderr",
     "output_type": "stream",
     "text": [
      "/opt/anaconda/lib/python2.7/site-packages/pandas/rpy/__init__.py:8: FutureWarning: The pandas.rpy module is deprecated and will be removed in a future version. We refer to external packages like rpy2, found here: http://rpy.sourceforge.net\n",
      "  \"like rpy2, found here: http://rpy.sourceforge.net\", FutureWarning)\n"
     ]
    }
   ],
   "source": [
    "from IPython.display import Image, FileLink\n",
    "import pandas as pd\n",
    "import pandas.rpy.common as com"
   ]
  },
  {
   "cell_type": "code",
   "execution_count": 2,
   "metadata": {
    "collapsed": false
   },
   "outputs": [],
   "source": [
    "%load_ext rpy2.ipython"
   ]
  },
  {
   "cell_type": "code",
   "execution_count": 3,
   "metadata": {
    "collapsed": false
   },
   "outputs": [
    {
     "data": {
      "text/plain": [
       "data.table 1.9.4  For help type: ?data.table\n",
       "*** NB: by=.EACHI is now explicit. See README to restore previous behaviour.\n",
       "\n",
       "Attaching package: ‘dplyr’\n",
       "\n",
       "The following objects are masked from ‘package:data.table’:\n",
       "\n",
       "    between, last\n",
       "\n",
       "The following object is masked from ‘package:stats’:\n",
       "\n",
       "    filter\n",
       "\n",
       "The following objects are masked from ‘package:base’:\n",
       "\n",
       "    intersect, setdiff, setequal, union\n",
       "\n"
      ]
     },
     "metadata": {},
     "output_type": "display_data"
    }
   ],
   "source": [
    "%%R\n",
    "library(data.table)\n",
    "library(dplyr)\n",
    "library(magrittr)"
   ]
  },
  {
   "cell_type": "markdown",
   "metadata": {},
   "source": [
    "###This file is from the [make l2fc notebook](./Sparsity_make_l2fc_table.ipynb)"
   ]
  },
  {
   "cell_type": "code",
   "execution_count": 4,
   "metadata": {
    "collapsed": true
   },
   "outputs": [],
   "source": [
    "%%R\n",
    "FDR = 0.10\n",
    "\n",
    "df.l2fc = read.csv(\"/var/seq_data/priming_exp/data/l2fc_table.csv\") %>% \n",
    "    filter(padj <= FDR) %>%\n",
    "    group_by(OTU, Treatment) %>%\n",
    "    slice(which.max(log2FoldChange))"
   ]
  },
  {
   "cell_type": "markdown",
   "metadata": {},
   "source": [
    "###This file is from the [BLAST notebook](./BLAST.ipynb)"
   ]
  },
  {
   "cell_type": "code",
   "execution_count": 5,
   "metadata": {
    "collapsed": false
   },
   "outputs": [
    {
     "data": {
      "text/plain": [
       "Source: local data frame [6,367,968 x 12]\n",
       "\n",
       "     OTU      acc pid alnlen mismatches gaps qstart qend sstart send evalue bit\n",
       "1  OTU.1 AF235091 100    375          0    0      1  375    472  846      0 693\n",
       "2  OTU.1 AF330692 100    375          0    0      1  375    466  840      0 693\n",
       "3  OTU.1 AB588633 100    375          0    0      1  375    503  877      0 693\n",
       "4  OTU.1   X80741 100    375          0    0      1  375    496  870      0 693\n",
       "5  OTU.1 AM176541 100    375          0    0      1  375    505  879      0 693\n",
       "6  OTU.1   X80740 100    375          0    0      1  375    497  871      0 693\n",
       "7  OTU.1   X83408 100    375          0    0      1  375    493  867      0 693\n",
       "8  OTU.1 AB279889 100    375          0    0      1  375    502  876      0 693\n",
       "9  OTU.1 GQ406811 100    375          0    0      1  375    456  830      0 693\n",
       "10 OTU.1 AB279890 100    375          0    0      1  375    506  880      0 693\n",
       "..   ...      ... ...    ...        ...  ...    ...  ...    ...  ...    ... ...\n"
      ]
     },
     "metadata": {},
     "output_type": "display_data"
    }
   ],
   "source": [
    "%%R\n",
    "df.blast = tbl_df(read.table\n",
    "                  (\"/home/ashley/priming_exp/data/blast_out_otusn_LTP115.m6\",\n",
    "                  sep = \"\\t\"))\n",
    "names(df.blast) = c(\"OTU\", \"acc\", \"pid\", \"alnlen\", \"mismatches\", \"gaps\", \n",
    "                    \"qstart\", \"qend\", \"sstart\", \"send\", \"evalue\", \"bit\")\n",
    "\n",
    "df.blast"
   ]
  },
  {
   "cell_type": "code",
   "execution_count": 6,
   "metadata": {
    "collapsed": false
   },
   "outputs": [
    {
     "data": {
      "text/plain": [
       "Source: local data frame [1,426,450 x 2]\n",
       "\n",
       "        acc                           full_name\n",
       "1  AX003092          Enterococcus casseliflavus\n",
       "2  AX044029              Neisseria meningitidis\n",
       "3  EU271959            Myzocytiopsis intermedia\n",
       "4  AX039535            Dehalococcoides mccartyi\n",
       "5  EU273602                   Acorus americanus\n",
       "6  AX175616                Marinomonas communis\n",
       "7  AX044033              Neisseria meningitidis\n",
       "8  AB000389         Pseudoalteromonas elyakovii\n",
       "9  EU271960          Myzocytiopsis sp. venatrix\n",
       "10 AB001439 Pseudomonas syringae pv. actinidiae\n",
       "..      ...                                 ...\n"
      ]
     },
     "metadata": {},
     "output_type": "display_data"
    }
   ],
   "source": [
    "%%R\n",
    "df.tax = tbl_df(read.csv(\"/var/seq_data/silva/silva_blastdb/full_names.csv\"))\n",
    "df.tax"
   ]
  },
  {
   "cell_type": "code",
   "execution_count": 7,
   "metadata": {
    "collapsed": false
   },
   "outputs": [
    {
     "data": {
      "text/plain": [
       "Joining by: \"acc\"\n"
      ]
     },
     "metadata": {},
     "output_type": "display_data"
    }
   ],
   "source": [
    "%%R\n",
    "df.blast = left_join(df.blast, df.tax)"
   ]
  },
  {
   "cell_type": "code",
   "execution_count": 8,
   "metadata": {
    "collapsed": false
   },
   "outputs": [
    {
     "data": {
      "text/plain": [
       "Joining by: \"OTU\"\n"
      ]
     },
     "metadata": {},
     "output_type": "display_data"
    }
   ],
   "source": [
    "%%R\n",
    "df.blast = left_join(df.blast, df.l2fc %>% select(OTU, padj, log2FoldChange, Day, Treatment, Rank2, Rank3, Rank4))"
   ]
  },
  {
   "cell_type": "code",
   "execution_count": 9,
   "metadata": {
    "collapsed": true
   },
   "outputs": [],
   "source": [
    "%%R\n",
    "df.top.hits = df.blast %>%\n",
    "    group_by(OTU) %>%\n",
    "    mutate(bit.rank = rank(desc(bit), ties.method = \"min\")) %>%\n",
    "    filter(bit.rank == 1) %>%\n",
    "    group_by()"
   ]
  },
  {
   "cell_type": "code",
   "execution_count": 10,
   "metadata": {
    "collapsed": false
   },
   "outputs": [
    {
     "data": {
      "text/plain": [
       "Source: local data frame [22,680 x 21]\n",
       "\n",
       "     OTU      acc pid alnlen mismatches gaps qstart qend sstart send evalue bit\n",
       "1  OTU.1 AF235091 100    375          0    0      1  375    472  846      0 693\n",
       "2  OTU.1 AF330692 100    375          0    0      1  375    466  840      0 693\n",
       "3  OTU.1 AB588633 100    375          0    0      1  375    503  877      0 693\n",
       "4  OTU.1   X80741 100    375          0    0      1  375    496  870      0 693\n",
       "5  OTU.1 AM176541 100    375          0    0      1  375    505  879      0 693\n",
       "6  OTU.1   X80740 100    375          0    0      1  375    497  871      0 693\n",
       "7  OTU.1   X83408 100    375          0    0      1  375    493  867      0 693\n",
       "8  OTU.1 AB279889 100    375          0    0      1  375    502  876      0 693\n",
       "9  OTU.1 GQ406811 100    375          0    0      1  375    456  830      0 693\n",
       "10 OTU.1 AB279890 100    375          0    0      1  375    506  880      0 693\n",
       "..   ...      ... ...    ...        ...  ...    ...  ...    ...  ...    ... ...\n",
       "Variables not shown: full_name (fctr), padj (dbl), log2FoldChange (dbl), Day\n",
       "  (int), Treatment (fctr), Rank2 (fctr), Rank3 (fctr), Rank4 (fctr), bit.rank\n",
       "  (int)\n"
      ]
     },
     "metadata": {},
     "output_type": "display_data"
    }
   ],
   "source": [
    "%%R\n",
    "df.top.hits"
   ]
  },
  {
   "cell_type": "code",
   "execution_count": 11,
   "metadata": {
    "collapsed": true
   },
   "outputs": [],
   "source": [
    "%%R\n",
    "FDR = 0.10\n",
    "\n",
    "df.table = df.top.hits %>%\n",
    "    filter(padj <= FDR) %>%\n",
    "    group_by(OTU) %>%\n",
    "    summarize(hits = paste(full_name, collapse = \"|\"), \n",
    "              pid = first(pid), \n",
    "              log2FoldChange = first(log2FoldChange),\n",
    "              Day = first(Day),\n",
    "              Phylum = first(as.character(Rank2)),\n",
    "              Class = first(as.character(Rank3)),\n",
    "              Order = first(as.character(Rank4)),\n",
    "              Treatment = first(as.character(Treatment))) %>%\n",
    "    arrange(Phylum, Class, Order, desc(log2FoldChange))"
   ]
  },
  {
   "cell_type": "code",
   "execution_count": 12,
   "metadata": {
    "collapsed": true
   },
   "outputs": [],
   "source": [
    "df_table = com.load_data(\"df.table\")"
   ]
  },
  {
   "cell_type": "code",
   "execution_count": 13,
   "metadata": {
    "collapsed": false
   },
   "outputs": [
    {
     "data": {
      "text/html": [
       "<div style=\"max-height:1000px;max-width:1500px;overflow:auto;\">\n",
       "<table border=\"1\" class=\"dataframe\">\n",
       "  <thead>\n",
       "    <tr style=\"text-align: right;\">\n",
       "      <th></th>\n",
       "      <th>OTU</th>\n",
       "      <th>hits</th>\n",
       "      <th>pid</th>\n",
       "      <th>log2FoldChange</th>\n",
       "      <th>Day</th>\n",
       "      <th>Phylum</th>\n",
       "      <th>Class</th>\n",
       "      <th>Order</th>\n",
       "      <th>Treatment</th>\n",
       "    </tr>\n",
       "  </thead>\n",
       "  <tbody>\n",
       "    <tr>\n",
       "      <th>1</th>\n",
       "      <td>OTU.1341</td>\n",
       "      <td>Acidicapsa ligni</td>\n",
       "      <td>86.02</td>\n",
       "      <td>4.774537</td>\n",
       "      <td>14</td>\n",
       "      <td>Acidobacteria</td>\n",
       "      <td>11-24</td>\n",
       "      <td>uncultured_bacterium</td>\n",
       "      <td>13C700</td>\n",
       "    </tr>\n",
       "    <tr>\n",
       "      <th>2</th>\n",
       "      <td>OTU.2288</td>\n",
       "      <td>Sphingopyxis soli</td>\n",
       "      <td>82.70</td>\n",
       "      <td>3.644542</td>\n",
       "      <td>45</td>\n",
       "      <td>Acidobacteria</td>\n",
       "      <td>11-24</td>\n",
       "      <td>uncultured_bacterium</td>\n",
       "      <td>13C700</td>\n",
       "    </tr>\n",
       "    <tr>\n",
       "      <th>3</th>\n",
       "      <td>OTU.1197</td>\n",
       "      <td>Edaphobacter aggregans</td>\n",
       "      <td>83.02</td>\n",
       "      <td>2.409639</td>\n",
       "      <td>45</td>\n",
       "      <td>Acidobacteria</td>\n",
       "      <td>11-24</td>\n",
       "      <td>uncultured_bacterium</td>\n",
       "      <td>13C700</td>\n",
       "    </tr>\n",
       "    <tr>\n",
       "      <th>4</th>\n",
       "      <td>OTU.10167</td>\n",
       "      <td>Telmatobacter bradus|Telmatobacter bradus|Telm...</td>\n",
       "      <td>80.65</td>\n",
       "      <td>3.860824</td>\n",
       "      <td>45</td>\n",
       "      <td>Acidobacteria</td>\n",
       "      <td>Candidatus_Chloracidobacterium</td>\n",
       "      <td>uncultured_Acidobacteria_bacterium</td>\n",
       "      <td>13C000</td>\n",
       "    </tr>\n",
       "    <tr>\n",
       "      <th>5</th>\n",
       "      <td>OTU.1507</td>\n",
       "      <td>Acidicapsa ligni</td>\n",
       "      <td>82.24</td>\n",
       "      <td>3.241574</td>\n",
       "      <td>45</td>\n",
       "      <td>Acidobacteria</td>\n",
       "      <td>Candidatus_Chloracidobacterium</td>\n",
       "      <td>uncultured_Acidobacteria_bacterium</td>\n",
       "      <td>13C700</td>\n",
       "    </tr>\n",
       "  </tbody>\n",
       "</table>\n",
       "</div>"
      ],
      "text/plain": [
       "         OTU                                               hits    pid  \\\n",
       "1   OTU.1341                                   Acidicapsa ligni  86.02   \n",
       "2   OTU.2288                                  Sphingopyxis soli  82.70   \n",
       "3   OTU.1197                             Edaphobacter aggregans  83.02   \n",
       "4  OTU.10167  Telmatobacter bradus|Telmatobacter bradus|Telm...  80.65   \n",
       "5   OTU.1507                                   Acidicapsa ligni  82.24   \n",
       "\n",
       "   log2FoldChange  Day         Phylum                           Class  \\\n",
       "1        4.774537   14  Acidobacteria                           11-24   \n",
       "2        3.644542   45  Acidobacteria                           11-24   \n",
       "3        2.409639   45  Acidobacteria                           11-24   \n",
       "4        3.860824   45  Acidobacteria  Candidatus_Chloracidobacterium   \n",
       "5        3.241574   45  Acidobacteria  Candidatus_Chloracidobacterium   \n",
       "\n",
       "                                Order Treatment  \n",
       "1                uncultured_bacterium    13C700  \n",
       "2                uncultured_bacterium    13C700  \n",
       "3                uncultured_bacterium    13C700  \n",
       "4  uncultured_Acidobacteria_bacterium    13C000  \n",
       "5  uncultured_Acidobacteria_bacterium    13C700  "
      ]
     },
     "execution_count": 13,
     "metadata": {},
     "output_type": "execute_result"
    }
   ],
   "source": [
    "df_table.head()"
   ]
  },
  {
   "cell_type": "code",
   "execution_count": 14,
   "metadata": {
    "collapsed": true
   },
   "outputs": [],
   "source": [
    "def list_genera(l):\n",
    "    if len(l.split(\"|\")) > 10:\n",
    "        names = l.split(\"|\")\n",
    "        names_abbr = []\n",
    "        seen = []\n",
    "        for name in names:\n",
    "            genus, species = name.split(\" \", 1)\n",
    "            if genus in seen:\n",
    "                continue\n",
    "            else:\n",
    "                seen.append(genus)\n",
    "                names_abbr.append(\"\\mbox{\" + \"\\\\textit{\" + genus + \" spp.\" + \"}\" + \"}\")\n",
    "        return \", \".join(names_abbr) \n",
    "    elif len(l.split(\"|\")) > 1:\n",
    "        return  \", \".join([\"\\mbox{\" + \"\\\\textit{\" + i + \"}\" + \"}\" for i in set(l.split(\"|\"))])\n",
    "    else:\n",
    "        return \"\\mbox{\" + \"\\\\textit{\" + l + \"}\" + \"}\"\n",
    "    \n",
    "def get_latex(row):\n",
    "    latex = \"\"\n",
    "    OTU = row[\"OTU\"]\n",
    "    pid = row[\"pid\"]\n",
    "    Day = row[\"Day\"]\n",
    "    \n",
    "    if pid >= 97:\n",
    "        genera = list_genera(row[\"hits\"])\n",
    "    else:\n",
    "        genera = \"{No hits of at least 97\\% identity}\"\n",
    "\n",
    "    tax = \" \".join([\"\\mbox{\" + \"\\\\textit{\" + i + \"}\" + \"}\" for i in row[[\"Phylum\",\"Class\",\"Order\"]]]).replace(\"_\",\"-\")\n",
    "    \n",
    "    l2fc = pd.Series(row[\"log2FoldChange\"]).round(2).values[0]\n",
    "    #acc = df.acc.iloc[0]\n",
    "    return OTU + \" & \" + str(l2fc) + \" & \" + str(Day) + \" & \" + genera + \" & \" + str(pid) + \" & \" + tax + r\" \\\\ \" + r\"\\midrule\" + \"\\n\""
   ]
  },
  {
   "cell_type": "code",
   "execution_count": 15,
   "metadata": {
    "collapsed": true
   },
   "outputs": [],
   "source": [
    "s = df_table[df_table[\"Treatment\"]==\"13C100\"].apply(get_latex, axis=1)\n",
    "\n",
    "table_framework = r\"\"\"\n",
    "\\documentclass[10pt]{article}\n",
    "\\usepackage{multirow, array, booktabs, longtable, threeparttablex}\n",
    "\\usepackage{array}\n",
    "\\usepackage{enumitem}\n",
    "\\usepackage{chngcntr}\n",
    "\\counterwithin{table}{section}\n",
    "\\usepackage[margin=1cm]{caption}\n",
    "\\newcolumntype{P}[1]{>{\\raggedright\\arraybackslash}p{#1}}\n",
    "\n",
    "\\usepackage{geometry} \n",
    "\\geometry{tmargin=1cm, bmargin=1cm, lmargin=0.25cm, rmargin=0.25cm} \n",
    "\n",
    "\\begin{document}\n",
    "\\setcounter{table}{2}\n",
    "\\setcounter{section}{4}\n",
    "\n",
    "\\pagestyle{empty}\n",
    "\n",
    "\\begin{ThreePartTable}\n",
    "\\begin{TableNotes}\n",
    "\\item[a] Maximum observed $log_{2}$ of fold change. \n",
    "\\item[b] Day of maximum fold change.\n",
    "\\item[c] Against Living Tree Project database.\n",
    "\\item[d] Annotation from Silva database assigned during OTU binning (see methods).\n",
    "\\end{TableNotes}\n",
    "\n",
    "\\begin{longtable}{lrrP{5cm}rP{5cm}}\n",
    "\n",
    "\\caption{$^{13}$C-cellulose responders in the repeated root exudate treatment} \\\\\n",
    "\\toprule \n",
    "    \\textbf{OTU ID} & \n",
    "    \\textbf{Fold change} \\tnote{a} & \n",
    "    \\textbf{Day} \\tnote{b} & \n",
    "    \\textbf{Top BLAST hits} \\tnote{c}& \n",
    "    \\textbf{BLAST \\%%ID} \\tnote{c}& \n",
    "    \\textbf{Phylum;Class;Order} \\tnote{d}\\\\\n",
    "\\midrule\n",
    "\\endfirsthead\n",
    "\n",
    "\\multicolumn{3}{c}\n",
    "{{\\tablename\\ \\thetable{} -- continued from previous page}} \\\\\n",
    "\\midrule\n",
    "    \\textbf{OTU ID} & \n",
    "    \\textbf{Fold change} & \n",
    "    \\textbf{Day} & \n",
    "    \\textbf{Top BLAST hits} & \n",
    "    \\textbf{BLAST \\%%ID} & \n",
    "    \\textbf{Phylum;Class;Order} \\\\\n",
    "\\midrule\n",
    "\\endhead\n",
    "    %s\n",
    "\\bottomrule\n",
    "\\insertTableNotes\n",
    "\\end{longtable}\n",
    "\n",
    "\\end{ThreePartTable}\n",
    " \n",
    "\\end{document}\"\"\"%\"\".join(s.values)\n",
    "\n",
    "with open(\"/home/ashley/priming_exp/data/table_cellulose_13C100.tex\", \"w\") as out:\n",
    "    out.write(table_framework)"
   ]
  },
  {
   "cell_type": "code",
   "execution_count": 16,
   "metadata": {
    "collapsed": false
   },
   "outputs": [],
   "source": [
    "!latex /home/ashley/priming_exp/data/table_cellulose_13C100.tex >/dev/null\n",
    "!dvipdf table_cellulose_13C100.dvi figs/LTP_blast_table_cellulose_13C100.pdf"
   ]
  },
  {
   "cell_type": "code",
   "execution_count": 17,
   "metadata": {
    "collapsed": true
   },
   "outputs": [],
   "source": [
    "!convert -density 600 -trim  +repage figs/LTP_blast_table_cellulose_13C100.pdf -quality 100 figs/LTP_blast_table_cellulose_13C100.png"
   ]
  },
  {
   "cell_type": "code",
   "execution_count": 18,
   "metadata": {
    "collapsed": false
   },
   "outputs": [
    {
     "data": {
      "text/html": [
       "<a href='figs/LTP_blast_table_cellulose_13C100.pdf' target='_blank'>figs/LTP_blast_table_cellulose_13C100.pdf</a><br>"
      ],
      "text/plain": [
       "/home/ashley/priming_exp/figs/LTP_blast_table_cellulose_13C100.pdf"
      ]
     },
     "execution_count": 18,
     "metadata": {},
     "output_type": "execute_result"
    }
   ],
   "source": [
    "FileLink(\"figs/LTP_blast_table_cellulose_13C100.pdf\")"
   ]
  },
  {
   "cell_type": "code",
   "execution_count": 19,
   "metadata": {
    "collapsed": false
   },
   "outputs": [
    {
     "data": {
      "text/html": [
       "Path (<tt>figs/LTP_blast_table_cellulose_13C100.png</tt>) doesn't exist. It may still be in the process of being generated, or you may have the incorrect path."
      ],
      "text/plain": [
       "/home/ashley/priming_exp/figs/LTP_blast_table_cellulose_13C100.png"
      ]
     },
     "execution_count": 19,
     "metadata": {},
     "output_type": "execute_result"
    }
   ],
   "source": [
    "FileLink(\"figs/LTP_blast_table_cellulose_13C100.png\")"
   ]
  },
  {
   "cell_type": "code",
   "execution_count": 20,
   "metadata": {
    "collapsed": false
   },
   "outputs": [
    {
     "data": {
      "text/html": [
       "<a href='/home/ashley/priming_exp/data/table_cellulose_13C100.tex' target='_blank'>/home/ashley/priming_exp/data/table_cellulose_13C100.tex</a><br>"
      ],
      "text/plain": [
       "/home/ashley/priming_exp/data/table_cellulose_13C100.tex"
      ]
     },
     "execution_count": 20,
     "metadata": {},
     "output_type": "execute_result"
    }
   ],
   "source": [
    "FileLink(\"/home/ashley/priming_exp/data/table_cellulose_13C100.tex\")"
   ]
  }
 ],
 "metadata": {
  "kernelspec": {
   "display_name": "Python 2",
   "language": "python",
   "name": "python2"
  },
  "language_info": {
   "codemirror_mode": {
    "name": "ipython",
    "version": 2
   },
   "file_extension": ".py",
   "mimetype": "text/x-python",
   "name": "python",
   "nbconvert_exporter": "python",
   "pygments_lexer": "ipython2",
   "version": "2.7.9"
  }
 },
 "nbformat": 4,
 "nbformat_minor": 0
}
