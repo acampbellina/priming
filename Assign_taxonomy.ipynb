{
 "metadata": {
  "name": "",
  "signature": "sha256:dcd1ee99e2ea32fec5d5cde09be5129e1c6fb063a2c4fd48a0057f4330cbcd21"
 },
 "nbformat": 3,
 "nbformat_minor": 0,
 "worksheets": [
  {
   "cells": [
    {
     "cell_type": "markdown",
     "metadata": {},
     "source": [
      "###These files are from the [OTU binning notebook](./OTU_binning.ipynb)"
     ]
    },
    {
     "cell_type": "heading",
     "level": 3,
     "metadata": {},
     "source": [
      "Just assign to centroids for now. Could do consensus OTU taxonomy with Mothur..."
     ]
    },
    {
     "cell_type": "code",
     "collapsed": false,
     "input": [
      "!parallel_assign_taxonomy_uclust.py \\\n",
      "-r /var/seq_data/priming_exp/data/databases/Silva_111_post/no_ambiguous_bases_files/97_Silva_111_rep_set_no_ambig.fasta \\\n",
      "-t /var/seq_data/priming_exp/data/databases/Silva_111_post/taxonomy/Silva_111_taxa_map_full.txt \\\n",
      "-O 10 \\\n",
      "-i /var/seq_data/priming_exp/otusn.fasta \\\n",
      "-o /var/seq_data/priming_exp/data/otusn_tax"
     ],
     "language": "python",
     "metadata": {},
     "outputs": [],
     "prompt_number": 1
    },
    {
     "cell_type": "code",
     "collapsed": false,
     "input": [
      "!head -n 1 /var/seq_data/priming_exp/data/otusn_tax/otusn_tax_assignments.txt"
     ],
     "language": "python",
     "metadata": {},
     "outputs": [
      {
       "output_type": "stream",
       "stream": "stdout",
       "text": [
        "OTU.759\tBacteria; __Chloroflexi; __Anaerolineae; __Anaerolineales; __Anaerolineaceae; __uncultured; __uncultured_bacterium\t0.67\t3\r\n"
       ]
      }
     ],
     "prompt_number": 2
    },
    {
     "cell_type": "code",
     "collapsed": false,
     "input": [
      "!sed -i \"s/ __//g\" /var/seq_data/priming_exp/data/otusn_tax/otusn_tax_assignments.txt"
     ],
     "language": "python",
     "metadata": {},
     "outputs": [],
     "prompt_number": 3
    },
    {
     "cell_type": "code",
     "collapsed": false,
     "input": [
      "!head -n 1 /var/seq_data/priming_exp/data/otusn_tax/otusn_tax_assignments.txt"
     ],
     "language": "python",
     "metadata": {},
     "outputs": [
      {
       "output_type": "stream",
       "stream": "stdout",
       "text": [
        "OTU.759\tBacteria;Chloroflexi;Anaerolineae;Anaerolineales;Anaerolineaceae;uncultured;uncultured_bacterium\t0.67\t3\r\n"
       ]
      }
     ],
     "prompt_number": 4
    },
    {
     "cell_type": "code",
     "collapsed": false,
     "input": [
      "!biom add-metadata -i /var/seq_data/priming_exp/data/otu_table.biom \\\n",
      "-o /var/seq_data/priming_exp/data/otu_table_wtax.biom \\\n",
      "--observation-metadata-fp /var/seq_data/priming_exp/data/otusn_tax/otusn_tax_assignments.txt \\\n",
      "--sc-separated taxonomy \\\n",
      "--float-fields consensus \\\n",
      "--int-fields numhits \\\n",
      "--observation-header OTUID,taxonomy,consensus,numhits"
     ],
     "language": "python",
     "metadata": {},
     "outputs": [],
     "prompt_number": 5
    }
   ],
   "metadata": {}
  }
 ]
}