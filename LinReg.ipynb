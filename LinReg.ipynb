{
 "cells": [
  {
   "cell_type": "code",
   "execution_count": null,
   "metadata": {
    "collapsed": true
   },
   "outputs": [],
   "source": [
    "from IPython.display import FileLink"
   ]
  },
  {
   "cell_type": "code",
   "execution_count": null,
   "metadata": {
    "collapsed": false
   },
   "outputs": [],
   "source": [
    "%load_ext rpy2.ipython"
   ]
  },
  {
   "cell_type": "code",
   "execution_count": null,
   "metadata": {
    "collapsed": false,
    "scrolled": true
   },
   "outputs": [],
   "source": [
    "%%R\n",
    "library(DESeq2)\n",
    "library(phyloseq)\n",
    "library(dplyr)\n",
    "library(ggplot2)\n",
    "library(doParallel)\n",
    "library(foreach)\n",
    "library(tidyr)\n",
    "library(RColorBrewer)\n",
    "library(gridExtra)\n",
    "library(stats)"
   ]
  },
  {
   "cell_type": "markdown",
   "metadata": {},
   "source": [
    "###This file is from the [make l2fc notebook](./Sparsity_make_l2fc_table.ipynb)"
   ]
  },
  {
   "cell_type": "code",
   "execution_count": null,
   "metadata": {
    "collapsed": false
   },
   "outputs": [],
   "source": [
    "%%R\n",
    "\n",
    "sample.data = read.table(\"/var/seq_data/priming_exp/data/l2fc_table.csv\",\n",
    "                         sep = \",\", header = TRUE)\n",
    "#sample.data$treatment = as.character(sample.data$treatment)\n",
    "head(sample.data)"
   ]
  },
  {
   "cell_type": "code",
   "execution_count": null,
   "metadata": {
    "collapsed": false
   },
   "outputs": [],
   "source": [
    "%%R\n",
    "d = sample.data %>% \n",
    "    select(OTU, Treatment, log2FoldChange, Day) #%>% \n",
    "    #spread(Treatment, log2FoldChange)\n",
    "\n",
    "#d$Treatment[d$Treatment == \"13CC\"] = \"13C - Cellulose.only\"\n",
    "#d$Treatment[d$Treatment == \"12CC\"] = \"Control - Cellulose.only\"\n",
    "#d$Treatment[d$Treatment == \"13C100\"] = \"13C - RE.continuous\"\n",
    "#d$Treatment[d$Treatment == \"12C100\"] = \"Control - RE.continuous\"\n",
    "#d$Treatment[d$Treatment == \"13C700\"] = \"13C - RE.single\"\n",
    "#d$Treatment[d$Treatment == \"12C700\"] = \"Control - RE.single\"\n",
    "sample.data$Treatment = as.character(sample.data$Treatment)\n",
    "head(d)"
   ]
  },
  {
   "cell_type": "code",
   "execution_count": null,
   "metadata": {
    "collapsed": false
   },
   "outputs": [],
   "source": [
    "%%R \n",
    "#this is to make an x,y data frame of l2fc at day 14\n",
    "df1.14 = subset(d, Treatment %in% c(\"13C000\", \"13C100\") & Day == \"14\")\n",
    "\n",
    "df1.14 = df1.14 %>%\n",
    "    spread(Treatment, log2FoldChange)\n",
    "colnames(df1.14)[3] = \"C13.100\"\n",
    "colnames(df1.14)[4] = \"C13.Cellulose.only\"\n",
    "\n",
    "head(df1.14)"
   ]
  },
  {
   "cell_type": "code",
   "execution_count": null,
   "metadata": {
    "collapsed": false
   },
   "outputs": [],
   "source": [
    "%%R \n",
    "#this is to make an x,y data frame of l2fc at day 28\n",
    "df1.28 = subset(d, Treatment %in% c(\"13C000\", \"13C100\") & Day == \"28\")\n",
    "#df1$Treatment[df1$Treatment == \"13CC\"] = \"13C.Cellulose.only\"\n",
    "\n",
    "df1.28 = df1.28 %>%\n",
    "    spread(Treatment, log2FoldChange)\n",
    "colnames(df1.28)[3] = \"C13.100\"\n",
    "colnames(df1.28)[4] = \"C13.Cellulose.only\"\n",
    "head(df1.28)"
   ]
  },
  {
   "cell_type": "code",
   "execution_count": null,
   "metadata": {
    "collapsed": false
   },
   "outputs": [],
   "source": [
    "%%R \n",
    "#this is to make an x,y data frame of l2fc at day 45\n",
    "df1.45 = subset(d, Treatment %in% c(\"13C000\", \"13C100\") & Day == \"45\")\n",
    "#df1$Treatment[df1$Treatment == \"13CC\"] = \"13C.Cellulose.only\"\n",
    "\n",
    "df1.45 = df1.45 %>%\n",
    "    spread(Treatment, log2FoldChange)\n",
    "colnames(df1.45)[3] = \"C13.100\"\n",
    "colnames(df1.45)[4] = \"C13.Cellulose.only\"\n",
    "head(df1.45)"
   ]
  },
  {
   "cell_type": "code",
   "execution_count": null,
   "metadata": {
    "collapsed": false
   },
   "outputs": [],
   "source": [
    "%%R -w 1000 -h 375\n",
    "\n",
    "p1 = ggplot(df1.14, aes(x = C13.Cellulose.only, y = C13.100))\n",
    "p1 = p1 + geom_point(alpha = 0.5, size = 4)\n",
    "#p1 = p1 + stat_smooth(method = \"lm\", size = 1)\n",
    "p1 = p1 + labs(x = expression(paste(\"Cellulose Only (\", log[2],\" fold change)\",sep=\"\")),\n",
    "            y = expression(paste(\"Root Exudate - Continuous (\", log[2],\" fold change)\",sep=\"\"))\n",
    "               )\n",
    "p1 = p1 + geom_abline(intercept=0, slope=1, color = \"red\", size = 1)\n",
    "p1 = p1 + theme_bw()\n",
    "p1 = p1 + ggtitle(\"Day 14\")\n",
    "p1 = p1 + theme(plot.title = element_text(size = 16))\n",
    "#p1 = p1 + theme(plot.title = element_text(hjust = -0.05, size = 20))\n",
    "p1 = p1 + theme(axis.title.x = element_text(size=15))\n",
    "p1 = p1 + theme(axis.title.y = element_text(size=15))\n",
    "p1 = p1 + theme(axis.text.x = element_text(size=12))\n",
    "p1 = p1 + theme(axis.text.y = element_text(size=12))\n",
    "#p1 = p1 + annotate(\"text\", x=-1.9, y=4, label = \"A\", hjust=1, size=5.75)\n",
    "p1 = p1 + annotate(\"text\", label = \"(A)\", x=-Inf, y=Inf, size=5.75, hjust = -1, vjust = 2)\n",
    "\n",
    "\n",
    "p2 = ggplot(df1.28, aes(x = C13.Cellulose.only, y = C13.100))\n",
    "p2 = p2 + geom_point(alpha = 0.5, size = 4)\n",
    "#p2 = p2 + stat_smooth(method = \"lm\", size = 1)\n",
    "p2 = p2 + labs(x = expression(paste(\"Cellulose Only (\", log[2],\" fold change)\",sep=\"\")),\n",
    "            y = expression(paste(\"Root Exudate - Continuous (\", log[2],\" fold change)\",sep=\"\"))\n",
    "               )\n",
    "p2 = p2 + geom_abline(intercept=0, slope=1, color = \"red\", size = 1)\n",
    "#p1 = p1 + theme(plot.title = element_text(hjust = -0.1, size = 20))\n",
    "\n",
    "p2 = p2 + theme_bw()\n",
    "p2 = p2 + ggtitle(\"Day 28\")\n",
    "p2 = p2 + theme(plot.title = element_text(size = 16))\n",
    "p2 = p2 + theme(axis.title.x = element_text(size=15))\n",
    "p2 = p2 + theme(axis.title.y = element_text(size=15))\n",
    "p2 = p2 + theme(axis.text.x = element_text(size=12))\n",
    "p2 = p2 + theme(axis.text.y = element_text(size=12))\n",
    "p2 = p2 + annotate(\"text\", label = \"(B)\", x=-Inf, y=Inf, size=5.75, hjust = -1, vjust = 2)\n",
    "\n",
    "\n",
    "p3 = ggplot(df1.45, aes(x = C13.Cellulose.only, y = C13.100))\n",
    "p3 = p3 + geom_point(alpha = 0.5, size = 4)\n",
    "#p3 = p3 + stat_smooth(method = \"lm\", size = 1)\n",
    "p3 = p3 + labs(x = expression(paste(\"Cellulose Only (\", log[2],\" fold change)\",sep=\"\")),\n",
    "            y = expression(paste(\"Root Exudate - Continuous (\", log[2],\" fold change)\",sep=\"\"))\n",
    "               )\n",
    "p3 = p3 + geom_abline(intercept=0, slope=1, color = \"red\", size = 1)\n",
    "#p1 = p1 + theme(plot.title = element_text(hjust = -0.1, size = 20))\n",
    "\n",
    "p3 = p3 + theme_bw()\n",
    "p3 = p3 + ggtitle(\"Day 45\")\n",
    "p3 = p3 + theme(plot.title = element_text(size = 16))\n",
    "p3 = p3 + theme(axis.title.x = element_text(size=15))\n",
    "p3 = p3 + theme(axis.title.y = element_text(size=15))\n",
    "p3 = p3 + theme(axis.text.x = element_text(size=12))\n",
    "p3 = p3 + theme(axis.text.y = element_text(size=12))\n",
    "p3 = p3 + annotate(\"text\", label = \"(C)\", x=-Inf, y=Inf, size=5.75, hjust = -1, vjust = 2)\n",
    "#p1 = p1 + annotate(\"text\", x=-0.5, y=1.75, label = \"R^{2}==0.485\", hjust=1, size=5.75, family=\"Times\", parse=TRUE)\n",
    "\n",
    "p.combined = grid.arrange(p1, p2, p3, widths = c(1,1,1), heights = c(1,1,1), ncol = 3)\n",
    "\n",
    "p.combined"
   ]
  },
  {
   "cell_type": "code",
   "execution_count": null,
   "metadata": {
    "collapsed": false
   },
   "outputs": [],
   "source": [
    "%%R \n",
    "#this is to make an x,y data frame of l2fc at day 14\n",
    "df2.14 = subset(d, Treatment %in% c(\"13C000\", \"13C700\") & Day == \"14\")\n",
    "#df1$Treatment[df1$Treatment == \"13CC\"] = \"13C.Cellulose.only\"\n",
    "\n",
    "df2.14 = df2.14 %>%\n",
    "    spread(Treatment, log2FoldChange)\n",
    "colnames(df2.14)[3] = \"C13.700\"\n",
    "colnames(df2.14)[4] = \"C13.Cellulose.only\"\n",
    "head(df2.14)"
   ]
  },
  {
   "cell_type": "code",
   "execution_count": null,
   "metadata": {
    "collapsed": false
   },
   "outputs": [],
   "source": [
    "%%R \n",
    "#this is to make an x,y data frame of l2fc at day 14\n",
    "df2.28 = subset(d, Treatment %in% c(\"13C000\", \"13C700\") & Day == \"28\")\n",
    "#df1$Treatment[df1$Treatment == \"13CC\"] = \"13C.Cellulose.only\"\n",
    "\n",
    "df2.28 = df2.28 %>%\n",
    "    spread(Treatment, log2FoldChange)\n",
    "colnames(df2.28)[3] = \"C13.700\"\n",
    "colnames(df2.28)[4] = \"C13.Cellulose.only\"\n",
    "head(df2.28)"
   ]
  },
  {
   "cell_type": "code",
   "execution_count": null,
   "metadata": {
    "collapsed": false
   },
   "outputs": [],
   "source": [
    "%%R \n",
    "#this is to make an x,y data frame of l2fc at day 14\n",
    "df2.45 = subset(d, Treatment %in% c(\"13C000\", \"13C700\") & Day == \"45\")\n",
    "#df1$Treatment[df1$Treatment == \"13CC\"] = \"13C.Cellulose.only\"\n",
    "\n",
    "df2.45 = df2.45 %>%\n",
    "    spread(Treatment, log2FoldChange)\n",
    "colnames(df2.45)[3] = \"C13.700\"\n",
    "colnames(df2.45)[4] = \"C13.Cellulose.only\"\n",
    "head(df2.45)"
   ]
  },
  {
   "cell_type": "code",
   "execution_count": null,
   "metadata": {
    "collapsed": false
   },
   "outputs": [],
   "source": [
    "%%R -w 1000 -h 375\n",
    "\n",
    "p4 = ggplot(df2.14, aes(x = C13.Cellulose.only, y = C13.700))\n",
    "p4 = p4 + geom_point(alpha = 0.5, size = 4)\n",
    "#p4 = p4 + stat_smooth(method = \"lm\", size = 1)\n",
    "p4 = p4 + labs(x = expression(paste(\"Cellulose Only (\", log[2],\" fold change)\",sep=\"\")),\n",
    "            y = expression(paste(\"Root Exudate - Pulse (\", log[2],\" fold change)\",sep=\"\"))\n",
    "               )\n",
    "p4 = p4 + geom_abline(intercept=0, slope=1, color = \"red\", size = 1)\n",
    "#p4 = p4 + ggtitle(\"A\")\n",
    "#p4 = p4 + theme(plot.title = element_text(hjust = -0.45, vjust=2.12))\n",
    "#p1 = p1 + theme(plot.title = element_text(hjust = -0.1, size = 20))\n",
    "\n",
    "p4 = p4 + theme_bw()\n",
    "p4 = p4 + theme(axis.title.x = element_text(size=15))\n",
    "p4 = p4 + theme(axis.title.y = element_text(size=15))\n",
    "p4 = p4 + theme(axis.text.x = element_text(size=12))\n",
    "p4 = p4 + theme(axis.text.y = element_text(size=12))\n",
    "#p1 = p1 + annotate(\"text\", x=-0.5, y=1.75, label = \"R^{2}==0.485\", hjust=1, size=5.75, family=\"Times\", parse=TRUE)\n",
    "p4 = p4 + annotate(\"text\", label = \"(D)\", x=-Inf, y=Inf, size=5.75, hjust = -1, vjust = 2)\n",
    "\n",
    "p5 = ggplot(df2.28, aes(x = C13.Cellulose.only, y = C13.700))\n",
    "p5 = p5 + geom_point(alpha = 0.5, size = 4)\n",
    "#p5 = p5 + stat_smooth(method = \"lm\", size = 1)\n",
    "p5 = p5 + labs(x = expression(paste(\"Cellulose Only (\", log[2],\" fold change)\",sep=\"\")),\n",
    "            y = expression(paste(\"Root Exudate - Pulse (\", log[2],\" fold change)\",sep=\"\"))\n",
    "               )\n",
    "p5 = p5 + geom_abline(intercept=0, slope=1, color = \"red\", size = 1)\n",
    "#p5 = p5 + ggtitle(\"B\")\n",
    "#p5 = p5 + theme(plot.title = element_text(hjust = -0.45, vjust=2.12))\n",
    "#p1 = p1 + theme(plot.title = element_text(hjust = -0.1, size = 20))\n",
    "\n",
    "p5 = p5 + theme_bw()\n",
    "p5 = p5 + theme(axis.title.x = element_text(size=15))\n",
    "p5 = p5 + theme(axis.title.y = element_text(size=15))\n",
    "p5 = p5 + theme(axis.text.x = element_text(size=12))\n",
    "p5 = p5 + theme(axis.text.y = element_text(size=12))\n",
    "#p1 = p1 + annotate(\"text\", x=-0.5, y=1.75, label = \"R^{2}==0.485\", hjust=1, size=5.75, family=\"Times\", parse=TRUE)\n",
    "p5 = p5 + annotate(\"text\", label = \"(E)\", x=-Inf, y=Inf, size=5.75, hjust = -1, vjust = 2)\n",
    "\n",
    "p6 = ggplot(df2.45, aes(x = C13.Cellulose.only, y = C13.700))\n",
    "p6 = p6 + geom_point(alpha = 0.5, size = 4)\n",
    "#p6 = p6 + stat_smooth(method = \"lm\", size = 1)\n",
    "p6 = p6 + labs(x = expression(paste(\"Cellulose Only (\", log[2],\" fold change)\",sep=\"\")),\n",
    "            y = expression(paste(\"Root Exudate - Pulse (\", log[2],\" fold change)\",sep=\"\"))\n",
    "               )\n",
    "p6 = p6 + geom_abline(intercept=0, slope=1, color = \"red\", size = 1)\n",
    "#p6 = p6 + ggtitle(\"C\")\n",
    "#p6 = p6 + theme(plot.title = element_text(hjust = -0.45, vjust=2.12))\n",
    "#p1 = p1 + theme(plot.title = element_text(hjust = -0.1, size = 20))\n",
    "\n",
    "p6 = p6 + theme_bw()\n",
    "p6 = p6 + theme(axis.title.x = element_text(size=15))\n",
    "p6 = p6 + theme(axis.title.y = element_text(size=15))\n",
    "p6 = p6 + theme(axis.text.x = element_text(size=12))\n",
    "p6 = p6 + theme(axis.text.y = element_text(size=12))\n",
    "#p1 = p1 + annotate(\"text\", x=-0.5, y=1.75, label = \"R^{2}==0.485\", hjust=1, size=5.75, family=\"Times\", parse=TRUE)\n",
    "p6 = p6 + annotate(\"text\", label = \"(F)\", x=-Inf, y=Inf, size=5.75, hjust = -1, vjust = 2)\n",
    "\n",
    "p.combined2 = grid.arrange(p4, p5, p6, widths = c(1,1,1), heights = c(1,1,1), ncol = 3)\n",
    "\n",
    "p.combined2"
   ]
  },
  {
   "cell_type": "code",
   "execution_count": null,
   "metadata": {
    "collapsed": false
   },
   "outputs": [],
   "source": [
    "%%R \n",
    "#this is to make an x,y data frame of l2fc at day 14\n",
    "df3.14 = subset(d, Treatment %in% c(\"13C100\", \"13C700\") & Day == \"14\")\n",
    "#df1$Treatment[df1$Treatment == \"13CC\"] = \"13C.Cellulose.only\"\n",
    "\n",
    "df3.14 = df3.14 %>%\n",
    "    spread(Treatment, log2FoldChange)\n",
    "colnames(df3.14)[3] = \"C13.100\"\n",
    "colnames(df3.14)[4] = \"C13.700\"\n",
    "head(df3.14)"
   ]
  },
  {
   "cell_type": "code",
   "execution_count": null,
   "metadata": {
    "collapsed": false
   },
   "outputs": [],
   "source": [
    "%%R \n",
    "#this is to make an x,y data frame of l2fc at day 14\n",
    "df3.28 = subset(d, Treatment %in% c(\"13C100\", \"13C700\") & Day == \"28\")\n",
    "#df1$Treatment[df1$Treatment == \"13CC\"] = \"13C.Cellulose.only\"\n",
    "\n",
    "df3.28 = df3.28 %>%\n",
    "    spread(Treatment, log2FoldChange)\n",
    "colnames(df3.28)[3] = \"C13.100\"\n",
    "colnames(df3.28)[4] = \"C13.700\"\n",
    "head(df3.28)"
   ]
  },
  {
   "cell_type": "code",
   "execution_count": null,
   "metadata": {
    "collapsed": false
   },
   "outputs": [],
   "source": [
    "%%R \n",
    "#this is to make an x,y data frame of l2fc at day 14\n",
    "df3.45 = subset(d, Treatment %in% c(\"13C100\", \"13C700\") & Day == \"45\")\n",
    "#df1$Treatment[df1$Treatment == \"13CC\"] = \"13C.Cellulose.only\"\n",
    "\n",
    "df3.45 = df3.45 %>%\n",
    "    spread(Treatment, log2FoldChange)\n",
    "colnames(df3.45)[3] = \"C13.100\"\n",
    "colnames(df3.45)[4] = \"C13.700\"\n",
    "head(df3.45)"
   ]
  },
  {
   "cell_type": "code",
   "execution_count": null,
   "metadata": {
    "collapsed": false
   },
   "outputs": [],
   "source": [
    "%%R -w 1000 -h 375\n",
    "\n",
    "p7 = ggplot(df3.14, aes(x = C13.100, y = C13.700))\n",
    "p7 = p7 + geom_point(alpha = 0.5, size = 4)\n",
    "#p7 = p7 + stat_smooth(method = \"lm\", size = 1)\n",
    "p7 = p7 + labs(x = expression(paste(\"Root Exudate - Continuous (\", log[2],\" fold change)\",sep=\"\")),\n",
    "            y = expression(paste(\"Root Exudate - Pulse (\", log[2],\" fold change)\",sep=\"\"))\n",
    "               )\n",
    "p7 = p7 + geom_abline(intercept=0, slope=1, color = \"red\", size = 1)\n",
    "#p7 = p7 + ggtitle(\"A\")\n",
    "#p7 = p7 + theme(plot.title = element_text(hjust = -0.45, vjust=2.12))\n",
    "#p1 = p1 + theme(plot.title = element_text(hjust = -0.1, size = 20))\n",
    "\n",
    "p7 = p7 + theme_bw()\n",
    "p7 = p7 + theme(axis.title.x = element_text(size=15))\n",
    "p7 = p7 + theme(axis.title.y = element_text(size=15))\n",
    "p7 = p7 + theme(axis.text.x = element_text(size=12))\n",
    "p7 = p7 + theme(axis.text.y = element_text(size=12))\n",
    "#p1 = p1 + annotate(\"text\", x=-0.5, y=1.75, label = \"R^{2}==0.485\", hjust=1, size=5.75, family=\"Times\", parse=TRUE)\n",
    "p7 = p7 + annotate(\"text\", label = \"(G)\", x=-Inf, y=Inf, size=5.75, hjust = -1, vjust = 2)\n",
    "\n",
    "p8 = ggplot(df3.28, aes(x = C13.100, y = C13.700))\n",
    "p8 = p8 + geom_point(alpha = 0.5, size = 4)\n",
    "#p8 = p8 + stat_smooth(method = \"lm\", size = 1)\n",
    "p8 = p8 + labs(x = expression(paste(\"Root Exudate - Continuous (\", log[2],\" fold change)\",sep=\"\")),\n",
    "            y = expression(paste(\"Root Exudate - Pulse (\", log[2],\" fold change)\",sep=\"\"))\n",
    "               )\n",
    "p8 = p8 + geom_abline(intercept=0, slope=1, color = \"red\", size = 1)\n",
    "#p8 = p8 + ggtitle(\"A\")\n",
    "#p8 = p8 + theme(plot.title = element_text(hjust = -0.45, vjust=2.12))\n",
    "#p1 = p1 + theme(plot.title = element_text(hjust = -0.1, size = 20))\n",
    "\n",
    "p8 = p8 + theme_bw()\n",
    "p8 = p8 + theme(axis.title.x = element_text(size=15))\n",
    "p8 = p8 + theme(axis.title.y = element_text(size=15))\n",
    "p8 = p8 + theme(axis.text.x = element_text(size=12))\n",
    "p8 = p8 + theme(axis.text.y = element_text(size=12))\n",
    "#p1 = p1 + annotate(\"text\", x=-0.5, y=1.75, label = \"R^{2}==0.485\", hjust=1, size=5.75, family=\"Times\", parse=TRUE)\n",
    "p8 = p8 + annotate(\"text\", label = \"(H)\", x=-Inf, y=Inf, size=5.75, hjust = -1, vjust = 2)\n",
    "\n",
    "p9 = ggplot(df3.45, aes(x = C13.100, y = C13.700))\n",
    "p9 = p9 + geom_point(alpha = 0.5, size = 4)\n",
    "#p9 = p9 + stat_smooth(method = \"lm\", size = 1)\n",
    "p9 = p9 + labs(x = expression(paste(\"Root Exudate - Continuous (\", log[2],\" fold change)\",sep=\"\")),\n",
    "            y = expression(paste(\"Root Exudate - Pulse (\", log[2],\" fold change)\",sep=\"\"))\n",
    "               )\n",
    "p9 = p9 + geom_abline(intercept=0, slope=1, color = \"red\", size = 1)\n",
    "#p9 = p9 + ggtitle(\"A\")\n",
    "#p9 = p9 + theme(plot.title = element_text(hjust = -0.45, vjust=2.12))\n",
    "#p1 = p1 + theme(plot.title = element_text(hjust = -0.1, size = 20))\n",
    "\n",
    "p9 = p9 + theme_bw()\n",
    "p9 = p9 + theme(axis.title.x = element_text(size=15))\n",
    "p9 = p9 + theme(axis.title.y = element_text(size=15))\n",
    "p9 = p9 + theme(axis.text.x = element_text(size=12))\n",
    "p9 = p9 + theme(axis.text.y = element_text(size=12))\n",
    "#p1 = p1 + annotate(\"text\", x=-0.5, y=1.75, label = \"R^{2}==0.485\", hjust=1, size=5.75, family=\"Times\", parse=TRUE)\n",
    "p9 = p9 + annotate(\"text\", label = \"(I)\", x=-Inf, y=Inf, size=5.75, hjust = -1, vjust = 2)\n",
    "\n",
    "p.combined3 = grid.arrange(p7, p8, p9, widths = c(1,1,1), heights = c(1,1,1), ncol = 3)\n",
    "\n",
    "p.combined3"
   ]
  },
  {
   "cell_type": "code",
   "execution_count": null,
   "metadata": {
    "collapsed": false
   },
   "outputs": [],
   "source": [
    "%%R -w 1000 -h 1000\n",
    "p.combined4 = grid.arrange(p1, p2, p3,\n",
    "                           p4, p5, p6,\n",
    "                           p7, p8, p9, \n",
    "                           widths = c(1,1,1), heights = c(1,1,1), \n",
    "                           ncol = 3)\n",
    "\n",
    "p.combined4"
   ]
  },
  {
   "cell_type": "code",
   "execution_count": null,
   "metadata": {
    "collapsed": false
   },
   "outputs": [],
   "source": [
    "%%R -w 1000 -h 1000\n",
    "pdf(\"figs/LinReg_Treatments_byDays.pdf\", width = 15, height = 15)\n",
    "grid.arrange(p1, p2, p3,\n",
    "             p4, p5, p6,\n",
    "             p7, p8, p9, \n",
    "             widths = c(1,1,1), heights = c(1,1,1), \n",
    "             ncol = 3)\n",
    "dev.off()"
   ]
  },
  {
   "cell_type": "code",
   "execution_count": null,
   "metadata": {
    "collapsed": false
   },
   "outputs": [],
   "source": [
    "FileLink(\"figs/LinReg_Treatments_byDays.pdf\")"
   ]
  },
  {
   "cell_type": "code",
   "execution_count": null,
   "metadata": {
    "collapsed": false
   },
   "outputs": [],
   "source": [
    "%%R \n",
    "png(\"figs/LinReg_Treatments_byDays.png\", width = 15, height = 15, units = \"in\", res = 600)\n",
    "grid.arrange(p1, p2, p3,\n",
    "             p4, p5, p6,\n",
    "             p7, p8, p9, \n",
    "             widths = c(1,1,1), heights = c(1,1,1), \n",
    "             ncol = 3)\n",
    "dev.off()"
   ]
  },
  {
   "cell_type": "code",
   "execution_count": null,
   "metadata": {
    "collapsed": false
   },
   "outputs": [],
   "source": [
    "FileLink(\"figs/LinReg_Treatments_byDays.png\")"
   ]
  }
 ],
 "metadata": {
  "kernelspec": {
   "display_name": "Python 2",
   "language": "python",
   "name": "python2"
  },
  "language_info": {
   "codemirror_mode": {
    "name": "ipython",
    "version": 2
   },
   "file_extension": ".py",
   "mimetype": "text/x-python",
   "name": "python",
   "nbconvert_exporter": "python",
   "pygments_lexer": "ipython2",
   "version": "2.7.9"
  }
 },
 "nbformat": 4,
 "nbformat_minor": 0
}
