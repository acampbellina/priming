{
 "cells": [
  {
   "cell_type": "markdown",
   "metadata": {},
   "source": [
    "## Run OTU sequences through BLAST "
   ]
  },
  {
   "cell_type": "code",
   "execution_count": 1,
   "metadata": {
    "collapsed": true
   },
   "outputs": [],
   "source": [
    "from Bio.Blast.Applications import NcbiblastnCommandline as blast"
   ]
  },
  {
   "cell_type": "markdown",
   "metadata": {},
   "source": [
    "###This file is from the [OTU binning notebook](.demultiplex_QC/OTU_binning.ipynb)"
   ]
  },
  {
   "cell_type": "code",
   "execution_count": 2,
   "metadata": {
    "collapsed": false
   },
   "outputs": [
    {
     "name": "stdout",
     "output_type": "stream",
     "text": [
      "blastn -out data/blast_out_otusn_LTP115.m6 -outfmt 6 -query /var/seq_data/priming_exp/otusn.fasta -db /var/seq_data/LTP115_db/LTP115 -evalue 10 -num_threads 20\n"
     ]
    },
    {
     "data": {
      "text/plain": [
       "('', '')"
      ]
     },
     "execution_count": 2,
     "metadata": {},
     "output_type": "execute_result"
    }
   ],
   "source": [
    "cline = blast(query = \"/var/seq_data/priming_exp/otusn.fasta\",\n",
    "              db = \"/var/seq_data/LTP115_db/LTP115\",\n",
    "              outfmt = 6,\n",
    "              out = \"data/blast_out_otusn_LTP115.m6\",\n",
    "              num_threads = 20,\n",
    "              evalue = 10)\n",
    "print cline\n",
    "cline()"
   ]
  },
  {
   "cell_type": "code",
   "execution_count": 3,
   "metadata": {
    "collapsed": false
   },
   "outputs": [
    {
     "name": "stdout",
     "output_type": "stream",
     "text": [
      "OTU.1\tAF235091\t100.00\t375\t0\t0\t1\t375\t472\t846\t0.0\t  693\n",
      "6367968 data/blast_out_otusn_LTP115.m6\n"
     ]
    }
   ],
   "source": [
    "!head -n1 data/blast_out_otusn_LTP115.m6\n",
    "!wc -l data/blast_out_otusn_LTP115.m6"
   ]
  },
  {
   "cell_type": "code",
   "execution_count": null,
   "metadata": {
    "collapsed": true
   },
   "outputs": [],
   "source": [
    "from cogent import LoadSeqs"
   ]
  },
  {
   "cell_type": "code",
   "execution_count": null,
   "metadata": {
    "collapsed": true
   },
   "outputs": [],
   "source": [
    "cline = blast(query = \"/var/seq_data/priming_exp/otusn.fasta\",\n",
    "              db = \"/var/seq_data/silva/silva_blastdb/silva_RefNR_115\",\n",
    "              outfmt = 6,\n",
    "              out = \"data/blast_out_otusn_silvaRefNR115.m6\",\n",
    "              num_threads = 30)\n",
    "print cline\n",
    "cline()"
   ]
  },
  {
   "cell_type": "code",
   "execution_count": null,
   "metadata": {
    "collapsed": true
   },
   "outputs": [],
   "source": [
    "!head -n1 data/blast_out_otusn_silvaRefNR115.m6\n",
    "!wc -l data/blast_out_otusn_silvaRefNR115.m6"
   ]
  }
 ],
 "metadata": {
  "kernelspec": {
   "display_name": "Python 2",
   "language": "python",
   "name": "python2"
  },
  "language_info": {
   "codemirror_mode": {
    "name": "ipython",
    "version": 2
   },
   "file_extension": ".py",
   "mimetype": "text/x-python",
   "name": "python",
   "nbconvert_exporter": "python",
   "pygments_lexer": "ipython2",
   "version": "2.7.9"
  }
 },
 "nbformat": 4,
 "nbformat_minor": 0
}
