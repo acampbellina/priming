{
 "cells": [
  {
   "cell_type": "code",
   "execution_count": 2,
   "metadata": {
    "collapsed": true
   },
   "outputs": [],
   "source": [
    "%load_ext rpy2.ipython"
   ]
  },
  {
   "cell_type": "code",
   "execution_count": 3,
   "metadata": {
    "collapsed": false
   },
   "outputs": [
    {
     "data": {
      "text/plain": [
       "\n",
       "Attaching package: ‘dplyr’\n",
       "\n",
       "The following objects are masked from ‘package:plyr’:\n",
       "\n",
       "    arrange, count, desc, failwith, id, mutate, rename, summarise,\n",
       "    summarize\n",
       "\n",
       "The following object is masked from ‘package:stats’:\n",
       "\n",
       "    filter\n",
       "\n",
       "The following objects are masked from ‘package:base’:\n",
       "\n",
       "    intersect, setdiff, setequal, union\n",
       "\n"
      ]
     },
     "metadata": {},
     "output_type": "display_data"
    }
   ],
   "source": [
    "%%R\n",
    "library(plyr); library(dplyr)"
   ]
  },
  {
   "cell_type": "code",
   "execution_count": 4,
   "metadata": {
    "collapsed": false
   },
   "outputs": [
    {
     "data": {
      "text/plain": [
       "  sparsity_threshold Day Treatment       OTU log2FoldChange         p    Rank1\n",
       "1               0.25  14    13C000  OTU.4204    -0.20553170 1.0000000 Bacteria\n",
       "2               0.25  14    13C000   OTU.467    -0.33054855 1.0000000 Bacteria\n",
       "3               0.25  14    13C000   OTU.905     0.01698885 0.9827594 Bacteria\n",
       "4               0.25  14    13C000  OTU.7253     0.02799601 0.9772968 Bacteria\n",
       "5               0.25  14    13C000    OTU.67    -0.60115954 1.0000000 Bacteria\n",
       "6               0.25  14    13C000 OTU.10580     0.36193427 0.7248674 Bacteria\n",
       "          Rank2 Rank3                Rank4 Rank5 Rank6 Rank7 Rank8 padj\n",
       "1 Acidobacteria DA023                 <NA>  <NA>  <NA>  <NA>  <NA>    1\n",
       "2 Acidobacteria DA023 uncultured_bacterium  <NA>  <NA>  <NA>  <NA>    1\n",
       "3 Acidobacteria DA023 uncultured_bacterium  <NA>  <NA>  <NA>  <NA>    1\n",
       "4 Acidobacteria DA023 uncultured_bacterium  <NA>  <NA>  <NA>  <NA>    1\n",
       "5 Acidobacteria DA023 uncultured_bacterium  <NA>  <NA>  <NA>  <NA>    1\n",
       "6 Acidobacteria DA023                 <NA>  <NA>  <NA>  <NA>  <NA>    1\n"
      ]
     },
     "metadata": {},
     "output_type": "display_data"
    }
   ],
   "source": [
    "%%R\n",
    "df_all = read.csv(\"/var/seq_data/priming_exp/data/l2fc_table.csv\")\n",
    "head(df_all)"
   ]
  },
  {
   "cell_type": "code",
   "execution_count": 5,
   "metadata": {
    "collapsed": false
   },
   "outputs": [
    {
     "data": {
      "text/plain": [
       "  sparsity_threshold Day Treatment       OTU log2FoldChange            p\n",
       "1               0.25  14    13C000  OTU.7337       2.477516 0.0018908765\n",
       "2               0.25  14    13C000   OTU.950       3.497786 0.0021470637\n",
       "3               0.25  14    13C000 OTU.11380       5.169283 0.0002911960\n",
       "4               0.25  14    13C000  OTU.5228       2.654885 0.0002285059\n",
       "5               0.25  14    13C000   OTU.903       3.807659 0.0015749699\n",
       "6               0.25  14    13C000   OTU.752       4.813177 0.0002952637\n",
       "     Rank1           Rank2            Rank3              Rank4\n",
       "1 Bacteria   Acidobacteria       Holophagae             iii1-8\n",
       "2 Bacteria Verrucomicrobia Verrucomicrobiae Verrucomicrobiales\n",
       "3 Bacteria Verrucomicrobia Verrucomicrobiae Verrucomicrobiales\n",
       "4 Bacteria Verrucomicrobia Verrucomicrobiae Verrucomicrobiales\n",
       "5 Bacteria Verrucomicrobia Verrucomicrobiae Verrucomicrobiales\n",
       "6 Bacteria Verrucomicrobia   Spartobacteria Chthoniobacterales\n",
       "                 Rank5           Rank6                Rank7 Rank8        padj\n",
       "1 uncultured_bacterium            <NA>                 <NA>  <NA> 0.046611977\n",
       "2  Verrucomicrobiaceae Prosthecobacter                 <NA>  <NA> 0.051032476\n",
       "3  Verrucomicrobiaceae Prosthecobacter                 <NA>  <NA> 0.011068783\n",
       "4  Verrucomicrobiaceae      uncultured uncultured_bacterium  <NA> 0.009030517\n",
       "5  Verrucomicrobiaceae      Haloferula                 <NA>  <NA> 0.040930855\n",
       "6                 <NA>            <NA>                 <NA>  <NA> 0.011180728\n"
      ]
     },
     "metadata": {},
     "output_type": "display_data"
    }
   ],
   "source": [
    "%%R\n",
    "FDR = 0.10\n",
    "\n",
    "df_resp = df_all %>%\n",
    "    filter(padj <= FDR)\n",
    "\n",
    "head(df_resp)"
   ]
  },
  {
   "cell_type": "code",
   "execution_count": 6,
   "metadata": {
    "collapsed": false
   },
   "outputs": [
    {
     "data": {
      "text/plain": [
       "Source: local data frame [1,000 x 2]\n",
       "Groups: OTU\n",
       "\n",
       "         OTU Treatment\n",
       "1      OTU.1    13C000\n",
       "2     OTU.10    13C000\n",
       "3     OTU.10    13C100\n",
       "4     OTU.10    13C700\n",
       "5   OTU.1009    13C000\n",
       "6   OTU.1009    13C100\n",
       "7   OTU.1009    13C700\n",
       "8    OTU.101    13C000\n",
       "9   OTU.1016    13C700\n",
       "10 OTU.10167    13C000\n",
       "..       ...       ...\n"
      ]
     },
     "metadata": {},
     "output_type": "display_data"
    }
   ],
   "source": [
    "%%R \n",
    "\n",
    "unq.resp = df_resp %>%\n",
    "    group_by(OTU, Treatment) %>%\n",
    "    summarise() \n",
    "unq.resp"
   ]
  },
  {
   "cell_type": "code",
   "execution_count": 7,
   "metadata": {
    "collapsed": false
   },
   "outputs": [
    {
     "data": {
      "text/plain": [
       "Source: local data frame [574 x 5]\n",
       "Groups: OTU\n",
       "\n",
       "         OTU           Rank2                          Rank3\n",
       "1      OTU.1  Actinobacteria                  Micrococcales\n",
       "2     OTU.10  Proteobacteria            Alphaproteobacteria\n",
       "3   OTU.1009   Bacteroidetes               Sphingobacteriia\n",
       "4    OTU.101  Actinobacteria               Streptomycetales\n",
       "5   OTU.1016   Acidobacteria                           RB25\n",
       "6  OTU.10167   Acidobacteria Candidatus_Chloracidobacterium\n",
       "7  OTU.10192   Bacteroidetes                     Cytophagia\n",
       "8    OTU.102   Bacteroidetes               Sphingobacteriia\n",
       "9  OTU.10213 Verrucomicrobia               Verrucomicrobiae\n",
       "10 OTU.10228   Bacteroidetes                     Cytophagia\n",
       "..       ...             ...                            ...\n",
       "Variables not shown: Rank4 (fctr), Rank5 (fctr)\n"
      ]
     },
     "metadata": {},
     "output_type": "display_data"
    }
   ],
   "source": [
    "%%R\n",
    "\n",
    "tax = df_resp %>%\n",
    "    select(OTU, Rank2, Rank3, Rank4, Rank5) %>%\n",
    "    distinct(OTU) %>%\n",
    "    group_by(OTU) %>%\n",
    "    arrange()\n",
    "\n",
    "tax"
   ]
  },
  {
   "cell_type": "code",
   "execution_count": 8,
   "metadata": {
    "collapsed": false
   },
   "outputs": [
    {
     "data": {
      "text/plain": [
       "Joining by: \"OTU\"\n",
       "Source: local data frame [1,000 x 6]\n",
       "Groups: OTU\n",
       "\n",
       "         OTU Treatment          Rank2                          Rank3\n",
       "1      OTU.1    13C000 Actinobacteria                  Micrococcales\n",
       "2     OTU.10    13C000 Proteobacteria            Alphaproteobacteria\n",
       "3     OTU.10    13C100 Proteobacteria            Alphaproteobacteria\n",
       "4     OTU.10    13C700 Proteobacteria            Alphaproteobacteria\n",
       "5   OTU.1009    13C000  Bacteroidetes               Sphingobacteriia\n",
       "6   OTU.1009    13C100  Bacteroidetes               Sphingobacteriia\n",
       "7   OTU.1009    13C700  Bacteroidetes               Sphingobacteriia\n",
       "8    OTU.101    13C000 Actinobacteria               Streptomycetales\n",
       "9   OTU.1016    13C700  Acidobacteria                           RB25\n",
       "10 OTU.10167    13C000  Acidobacteria Candidatus_Chloracidobacterium\n",
       "..       ...       ...            ...                            ...\n",
       "Variables not shown: Rank4 (fctr), Rank5 (fctr)\n"
      ]
     },
     "metadata": {},
     "output_type": "display_data"
    }
   ],
   "source": [
    "%%R\n",
    "\n",
    "unq.resp.wtax = unq.resp %>%\n",
    "    left_join(tax)\n",
    "\n",
    "unq.resp.wtax"
   ]
  },
  {
   "cell_type": "code",
   "execution_count": 9,
   "metadata": {
    "collapsed": true
   },
   "outputs": [],
   "source": [
    "%%R\n",
    "\n",
    "write.table(unq.resp.wtax, \n",
    "            file = \"data/unq.resp.wtax.csv\",\n",
    "            row.names = FALSE,\n",
    "            sep = \",\")"
   ]
  },
  {
   "cell_type": "code",
   "execution_count": 10,
   "metadata": {
    "collapsed": false
   },
   "outputs": [
    {
     "data": {
      "text/plain": [
       "        OTU NumSubs\n",
       "1     OTU.1       1\n",
       "2    OTU.10       3\n",
       "3  OTU.1009       3\n",
       "4   OTU.101       1\n",
       "5  OTU.1016       1\n",
       "6 OTU.10167       3\n"
      ]
     },
     "metadata": {},
     "output_type": "display_data"
    }
   ],
   "source": [
    "%%R \n",
    "counts = ddply(unq.resp.wtax, .(OTU), summarize, NumSubs = length(unique(Treatment)))\n",
    "head(counts)"
   ]
  },
  {
   "cell_type": "code",
   "execution_count": 11,
   "metadata": {
    "collapsed": false
   },
   "outputs": [
    {
     "data": {
      "text/plain": [
       "Joining by: \"OTU\"\n",
       "        OTU NumSubs Treatment          Rank2               Rank3\n",
       "1     OTU.1       1    13C000 Actinobacteria       Micrococcales\n",
       "2   OTU.101       1    13C000 Actinobacteria    Streptomycetales\n",
       "3  OTU.1029       1    13C000 Planctomycetes               OM190\n",
       "4   OTU.107       1    13C000 Proteobacteria Alphaproteobacteria\n",
       "5  OTU.1077       1    13C000 Planctomycetes       Phycisphaerae\n",
       "6 OTU.10789       1    13C000  Bacteroidetes          Cytophagia\n",
       "                 Rank4             Rank5\n",
       "1       Micrococcaceae      Arthrobacter\n",
       "2    Streptomycetaceae     Kitasatospora\n",
       "3 uncultured_bacterium              <NA>\n",
       "4          Rhizobiales Xanthobacteraceae\n",
       "5      Phycisphaerales  Phycisphaeraceae\n",
       "6         Cytophagales     Cytophagaceae\n"
      ]
     },
     "metadata": {},
     "output_type": "display_data"
    }
   ],
   "source": [
    "%%R\n",
    "unq.one = counts %>%\n",
    "    filter(NumSubs == 1) %>%\n",
    "    left_join(unq.resp.wtax) %>%\n",
    "    arrange(Treatment)\n",
    "head(unq.one)"
   ]
  },
  {
   "cell_type": "code",
   "execution_count": 12,
   "metadata": {
    "collapsed": false
   },
   "outputs": [],
   "source": [
    "%%R\n",
    "\n",
    "write.table(unq.one, \n",
    "            file = \"data/unq.one.csv\",\n",
    "            row.names = FALSE,\n",
    "            sep = \",\")"
   ]
  },
  {
   "cell_type": "code",
   "execution_count": 13,
   "metadata": {
    "collapsed": false
   },
   "outputs": [
    {
     "data": {
      "text/plain": [
       "  sparsity_threshold Day Treatment      OTU log2FoldChange            p\n",
       "1               0.25  14    13C000 OTU.5011       4.843214 2.347422e-03\n",
       "2               0.25  28    13C000 OTU.1155       6.386974 4.199253e-07\n",
       "3               0.25  45    13C000 OTU.1629       3.364406 4.022688e-03\n",
       "4               0.25  14    13C100 OTU.1992       7.281776 1.064924e-09\n",
       "5               0.25  45    13C100  OTU.848       3.834780 2.403338e-05\n",
       "6               0.25  45    13C700 OTU.3585       5.143983 6.994767e-05\n",
       "     Rank1         Rank2   Rank3                Rank4 Rank5 Rank6 Rank7 Rank8\n",
       "1 Bacteria Cyanobacteria  SM1D11 uncultured_bacterium  <NA>  <NA>  <NA>  <NA>\n",
       "2 Bacteria Cyanobacteria  SM1D11 uncultured_bacterium  <NA>  <NA>  <NA>  <NA>\n",
       "3 Bacteria Cyanobacteria MLE1-12 uncultured_bacterium  <NA>  <NA>  <NA>  <NA>\n",
       "4 Bacteria Cyanobacteria  SM1D11 uncultured_bacterium  <NA>  <NA>  <NA>  <NA>\n",
       "5 Bacteria Cyanobacteria MLE1-12 uncultured_bacterium  <NA>  <NA>  <NA>  <NA>\n",
       "6 Bacteria Cyanobacteria  SM1D11                 <NA>  <NA>  <NA>  <NA>  <NA>\n",
       "          padj\n",
       "1 5.361921e-02\n",
       "2 5.974338e-05\n",
       "3 7.996398e-02\n",
       "4 8.559088e-07\n",
       "5 1.741632e-03\n",
       "6 2.915793e-03\n"
      ]
     },
     "metadata": {},
     "output_type": "display_data"
    }
   ],
   "source": [
    "%%R\n",
    "\n",
    "cyano = df_resp %>%\n",
    "    filter(Rank2 == \"Cyanobacteria\") %>%\n",
    "    distinct(OTU)\n",
    "\n",
    "cyano"
   ]
  },
  {
   "cell_type": "code",
   "execution_count": 16,
   "metadata": {
    "collapsed": false
   },
   "outputs": [
    {
     "data": {
      "text/plain": [
       "[1] 152\n"
      ]
     },
     "metadata": {},
     "output_type": "display_data"
    }
   ],
   "source": [
    "%%R\n",
    "all = subset(counts, NumSubs == 3)\n",
    "nrow(all)"
   ]
  },
  {
   "cell_type": "code",
   "execution_count": 17,
   "metadata": {
    "collapsed": false
   },
   "outputs": [
    {
     "data": {
      "text/plain": [
       "[1] 122\n"
      ]
     },
     "metadata": {},
     "output_type": "display_data"
    }
   ],
   "source": [
    "%%R\n",
    "two = subset(counts, NumSubs == 2)\n",
    "nrow(two)"
   ]
  }
 ],
 "metadata": {
  "kernelspec": {
   "display_name": "Python 2",
   "language": "python",
   "name": "python2"
  },
  "language_info": {
   "codemirror_mode": {
    "name": "ipython",
    "version": 2
   },
   "file_extension": ".py",
   "mimetype": "text/x-python",
   "name": "python",
   "nbconvert_exporter": "python",
   "pygments_lexer": "ipython2",
   "version": "2.7.9"
  }
 },
 "nbformat": 4,
 "nbformat_minor": 0
}
